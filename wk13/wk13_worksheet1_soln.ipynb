{
 "cells": [
  {
   "cell_type": "markdown",
   "id": "7b8faefa",
   "metadata": {},
   "source": [
    "# Worksheet Solution: Review Exercises EOSC 211\n",
    "\n",
    "## Week 13,  Worksheet 1\n"
   ]
  },
  {
   "cell_type": "code",
   "execution_count": 1,
   "id": "070bae84",
   "metadata": {},
   "outputs": [],
   "source": [
    "# import the packages we might need\n",
    "import numpy as np\n",
    "from matplotlib import pyplot as plt\n",
    "import math"
   ]
  },
  {
   "cell_type": "markdown",
   "id": "3c4586cb",
   "metadata": {},
   "source": [
    "### Question 1 -  Practice with while versus for loops  \n",
    "How would you improve the code in the last problem on the quiz to make it work properly using a while loop?  Here's the code you were given and (in words), what it was supposed to do:"
   ]
  },
  {
   "cell_type": "markdown",
   "id": "9e2c57d0",
   "metadata": {},
   "source": [
    "#### From quiz:  \n",
    "I want to add together the numbers in an array 'x' until my sum exceeds the number in the variable target, then **stop** and return the sum and the number of elements that were summed.  You can assume that there are enough elements in x that I don't get to the end of the array before reaching the target.  I write the following code which has a semantics error not a syntax error (i.e. it runs but doesn't do what it was intended to do).  What is output to the screen? (Show your work).  "
   ]
  },
  {
   "cell_type": "code",
   "execution_count": 2,
   "id": "718c31f1",
   "metadata": {},
   "outputs": [
    {
     "name": "stdout",
     "output_type": "stream",
     "text": [
      "mysum=14,nels=10\n"
     ]
    }
   ],
   "source": [
    "x = np.array([1, 0, -2, 7, 8, 1, 10, 21, -3, 5, -3])\n",
    "\n",
    "target = 21\n",
    "\n",
    "mysum = 0\n",
    "\n",
    "for i in range(0, len(x)):\n",
    "\n",
    "    if (mysum+x[i] <= target):\n",
    "    \n",
    "        mysum += x[i]\n",
    "        \n",
    "        nels = i\n",
    "        \n",
    "print (f\"{mysum=},{nels=}\")"
   ]
  },
  {
   "cell_type": "code",
   "execution_count": 3,
   "id": "ae83b8cb",
   "metadata": {},
   "outputs": [
    {
     "name": "stdout",
     "output_type": "stream",
     "text": [
      "1 1\n",
      "2 1\n",
      "3 -1\n",
      "4 6\n",
      "5 14\n",
      "6 15\n",
      "mysum=15,i=6\n"
     ]
    }
   ],
   "source": [
    "# Catherine's solution\n",
    "\n",
    "x = np.array([1, 0, -2, 7, 8, 1, 10, 21, -3, 5, -3])\n",
    "\n",
    "target = 21\n",
    "mysum = 0\n",
    "i = 0  # 0.5 pt for counter here \n",
    "while (mysum+x[i] <= target):  # 0.5pt for while loop line; 0.5 pt line for ditching for and if.\n",
    "    mysum += x[i]\n",
    "    i = i+1    # 0.5 pt for incrementing counter\n",
    "    print(i, mysum)\n",
    "        \n",
    "print (f\"{mysum=},{i=}\")"
   ]
  },
  {
   "cell_type": "markdown",
   "id": "18fee88a",
   "metadata": {},
   "source": [
    "### Question 2: Basic function Practice\n",
    "#### A)\n",
    "Write a function `transp` that will take as input a 2-D array A, and return the array B where `B[i,j] = A[j,i]`. Do not use a built-in python function."
   ]
  },
  {
   "cell_type": "code",
   "execution_count": 4,
   "id": "58c8b266",
   "metadata": {},
   "outputs": [],
   "source": [
    "# your code here"
   ]
  },
  {
   "cell_type": "code",
   "execution_count": 5,
   "id": "a728acfb",
   "metadata": {},
   "outputs": [],
   "source": [
    "# Catherine's solution\n",
    "\n",
    "def trans(AA):\n",
    "\n",
    "    \"\"\"\n",
    "    Computes transpose BB of matrix AA, i.e. BB[i,j] = AA[i,j]\n",
    "    \n",
    "    Input:  2-D matrix AA\n",
    "    Output: 2-D matrix BB\n",
    "    \n",
    "    Assumes numpy has been imported\n",
    "    \"\"\"\n",
    "\n",
    "    [n,m] = AA.shape    # same as np.shape(AA)\n",
    "    # explicit double loop; alternatively inner loop could be replace by B[:,ii] = A[ii,:]\n",
    "    BB = np.empty([m,n])\n",
    "    for ii in range(0,n):\n",
    "        for jj in range(0,m):\n",
    "            BB[jj,ii] = AA[ii,jj]\n",
    "\n",
    "    return BB"
   ]
  },
  {
   "cell_type": "code",
   "execution_count": 6,
   "id": "5edba9ea",
   "metadata": {},
   "outputs": [
    {
     "name": "stdout",
     "output_type": "stream",
     "text": [
      "\n",
      "A1=array([[ 2,  3,  0],\n",
      "       [ 1, -1,  1]]) \n",
      "B1=array([[ 2.,  1.],\n",
      "       [ 3., -1.],\n",
      "       [ 0.,  1.]])\n"
     ]
    }
   ],
   "source": [
    "# Testing my solution\n",
    "\n",
    "A1 = np.array([[2, 3, 0], [1, -1, 1]])\n",
    "B1 = trans(A1)\n",
    "print(f\"\\n{A1=} \\n{B1=}\")"
   ]
  },
  {
   "cell_type": "markdown",
   "id": "53400e61",
   "metadata": {},
   "source": [
    "#### B)\n",
    "Add a check to the function code that will exit the function with an error message if A is not a 2-D array."
   ]
  },
  {
   "cell_type": "code",
   "execution_count": 7,
   "id": "c20f3693",
   "metadata": {},
   "outputs": [],
   "source": [
    "# Catherine's solution\n",
    "\n",
    "def trans2(AA):\n",
    "\n",
    "    \"\"\"\n",
    "    Computes transpose BB of matrix AA, i.e. BB[i,j] = AA[i,j]\n",
    "    \n",
    "    Input:  2-D matrix AA\n",
    "    Output: 2-D matrix BB\n",
    "    \n",
    "    Assumes numpy has been imported\n",
    "    \"\"\"\n",
    "    try:\n",
    "        #--- ERROR CHECKING  -- catch and release\n",
    "        if (not(isinstance(AA, np.ndarray))):\n",
    "            raise TypeError(\"AA is not a ndarray\")\n",
    "        elif (A1.ndim != 2):\n",
    "            raise ValueError(\"AA not 2D\")\n",
    "    except (ValueError,TypeError) as theError:\n",
    "        print(f\"caught error '{type(theError)}, '{theError}', returning None\")\n",
    "        return None\n",
    "    #---\n",
    "\n",
    "    [n,m] = AA.shape    # same as np.shape(AA)\n",
    "    # explicit double loop; alternatively inner loop could be replace by B[:,ii] = A[ii,:]\n",
    "    BB = np.empty([m,n])\n",
    "    for ii in range(0,n):\n",
    "        for jj in range(0,m):\n",
    "            BB[jj,ii] = AA[ii,jj]\n",
    "\n",
    "    return BB"
   ]
  },
  {
   "cell_type": "code",
   "execution_count": 8,
   "id": "1841d89d",
   "metadata": {},
   "outputs": [
    {
     "name": "stdout",
     "output_type": "stream",
     "text": [
      "caught error '<class 'ValueError'>, 'AA not 2D', returning None\n"
     ]
    }
   ],
   "source": [
    "# Testing my solution with a 1 D array\n",
    "\n",
    "A1 = np.array([3,2,1])\n",
    "B1 = trans2(A1)"
   ]
  },
  {
   "cell_type": "code",
   "execution_count": 9,
   "id": "db6f85fb",
   "metadata": {},
   "outputs": [
    {
     "name": "stdout",
     "output_type": "stream",
     "text": [
      "caught error '<class 'TypeError'>, 'AA is not a ndarray', returning None\n"
     ]
    }
   ],
   "source": [
    "# Testing my solution with a string\n",
    "\n",
    "A1 = \"hello\"\n",
    "B1 = trans2(A1)"
   ]
  },
  {
   "cell_type": "markdown",
   "id": "47126a8c",
   "metadata": {},
   "source": [
    "### Question 3\n",
    "The function $e^x$ can be calculated from the following formula:  $e^x = \\Sigma_{k=0}^{\\inf} \\frac {x^k}{k!} = 1 + x + \\frac {x^2} {2!} + \\frac {x^3} {3!} + \\cdots $.  You want to write a piece of code that will compute `y` = $e^x$, given a value for `x` using this series expansion, keeping all the terms until the difference between successive terms is less than some specified amount, contained in the variable `target_err`.\n",
    "\n",
    "1.  Would you use a while loop or a for loop?  Give a reason for your answer.\n",
    "\n",
    "2.  Complete the python code below to do this.  Also print the number of terms used to compute y."
   ]
  },
  {
   "cell_type": "code",
   "execution_count": 10,
   "id": "ee7a709e",
   "metadata": {},
   "outputs": [],
   "source": [
    "x = 2\n",
    "target_err = 0.1\n",
    "\n",
    "# initialize some variables \n",
    "i = 0\n",
    "y = 0\n",
    "term = x**i/math.factorial(i)\n",
    "\n",
    "# write your loop here\n",
    "\n",
    "\n",
    "    \n",
    "# write your print statement here"
   ]
  },
  {
   "cell_type": "code",
   "execution_count": 11,
   "id": "ce35eea3",
   "metadata": {},
   "outputs": [
    {
     "name": "stdout",
     "output_type": "stream",
     "text": [
      "1 2.0 1.0\n",
      "2 2.0 3.0\n",
      "3 1.3333333333333333 5.0\n",
      "4 0.6666666666666666 6.333333333333333\n",
      "5 0.26666666666666666 7.0\n",
      "6 0.08888888888888889 7.266666666666667\n",
      "\n",
      "y=7.266666666666667 \n",
      "nterms = 7 \n",
      "truevalue=7.38905609893065\n"
     ]
    }
   ],
   "source": [
    "# Catherine's solution\n",
    "\n",
    "x = 2\n",
    "target_err = 0.1\n",
    "\n",
    "# initialize some variables \n",
    "i = 0\n",
    "y = 0\n",
    "term = x**i/math.factorial(i)\n",
    "\n",
    "# loop here\n",
    "while (term>target_err):\n",
    "    y += term\n",
    "    i = i+1\n",
    "    term = x**i/math.factorial(i)\n",
    "    print(i, term, y)    # print out at end of each loop so is clear that i is lagging nterms by 1\n",
    "    \n",
    "truevalue = np.exp(x);\n",
    "print(f\"\\n{y=} \\nnterms = {i+1} \\n{truevalue=}\")  # note that my number of terms needed to be i+1"
   ]
  },
  {
   "cell_type": "markdown",
   "id": "cb8d6e9f",
   "metadata": {},
   "source": [
    "### Question 4:  code tracing, logical indexing,  for loops\n",
    "What is in `y` after exectuing this code?"
   ]
  },
  {
   "cell_type": "code",
   "execution_count": 12,
   "id": "377df95a",
   "metadata": {},
   "outputs": [],
   "source": [
    "x=np.empty(8)\n",
    "x[0]=1\n",
    "x[1]=1\n",
    "for k in range(2,len(x)):\n",
    "    x[k]=x[k-1] + x[k-2]\n",
    "\n",
    "y = x[np.logical_and(x>3,x%2==1)]"
   ]
  },
  {
   "cell_type": "code",
   "execution_count": 13,
   "id": "f21fe816",
   "metadata": {},
   "outputs": [],
   "source": [
    "# your answer here"
   ]
  },
  {
   "cell_type": "code",
   "execution_count": 14,
   "id": "7dcd3aa9",
   "metadata": {},
   "outputs": [
    {
     "name": "stdout",
     "output_type": "stream",
     "text": [
      "x=array([ 1.,  1.,  2.,  3.,  5.,  8., 13., 21.])\n",
      "y=array([ 5., 13., 21.])\n"
     ]
    }
   ],
   "source": [
    "# Catherine's solution\n",
    "print(f\"{x=}\\n{y=}\")"
   ]
  },
  {
   "cell_type": "markdown",
   "id": "d68f47cd",
   "metadata": {},
   "source": [
    "### Question 5:  more practice with for loops / if, elif\n",
    "\n",
    "The following code produces a uniform random sample of 3 numbers that lie between\n",
    "0 and 10 (excluding 10 exactly).  Use this code to produce  \n",
    "100  samples each of 3 numbers, and put the samples into one of two lists:  `accept_list` if one of the \n",
    "three numbers is greater than or equal to 9, and `reject_list` if all three numbers are less\n",
    "than 9.  Bonus: How many samples do you think will be in each list?  Increase the sample size to 1000; 10,000;\n",
    "100,000 -- do the lengths match your guess?"
   ]
  },
  {
   "cell_type": "code",
   "execution_count": 15,
   "id": "3878d672",
   "metadata": {},
   "outputs": [],
   "source": [
    "from numpy.random import random_sample\n",
    "my_sample = random_sample([3])*10"
   ]
  },
  {
   "cell_type": "code",
   "execution_count": 16,
   "id": "13492abe",
   "metadata": {},
   "outputs": [],
   "source": [
    "# your code here"
   ]
  },
  {
   "cell_type": "code",
   "execution_count": 17,
   "id": "8dc837f7",
   "metadata": {},
   "outputs": [
    {
     "name": "stdout",
     "output_type": "stream",
     "text": [
      "len(accept_list)=27111\n",
      "len(reject_list)=72889\n"
     ]
    },
    {
     "data": {
      "text/plain": [
       "0.7290000000000001"
      ]
     },
     "execution_count": 17,
     "metadata": {},
     "output_type": "execute_result"
    }
   ],
   "source": [
    "# phil's answer\n",
    "accept_list = []\n",
    "reject_list = []\n",
    "for i in range(100000):\n",
    "    my_sample = random_sample([3])*10\n",
    "    hit = my_sample >= 9\n",
    "    if np.sum(hit) > 0:\n",
    "        accept_list.append(my_sample)\n",
    "    else:\n",
    "        reject_list.append(my_sample)\n",
    "        \n",
    "print(f\"{len(accept_list)=}\")\n",
    "print(f\"{len(reject_list)=}\")\n",
    "0.9**3\n",
    "        \n",
    "    "
   ]
  },
  {
   "cell_type": "markdown",
   "id": "b040aff8",
   "metadata": {},
   "source": [
    "### Question 6 (harder):  Practice with *args\n",
    "\n",
    "Turn the function in Question 1 into a function that will take as input an arbitrary number of 2-D arrays and return the transpose of each. \n",
    "\n",
    "The following resources are useful if you are confused about wrapping / unwrapping of arguments and keyword arguments:\n",
    "\n",
    "1. https://www.geeksforgeeks.org/packing-and-unpacking-arguments-in-python/\n",
    "\n",
    "2. https://shecancode.io/blog/unpacking-function-arguments-in-python\n",
    "\n",
    "3. https://treyhunner.com/2018/03/tuple-unpacking-improves-python-code-readability/\n"
   ]
  },
  {
   "cell_type": "code",
   "execution_count": 18,
   "id": "c1a939be",
   "metadata": {},
   "outputs": [],
   "source": [
    "# Catherine's solution\n",
    "\n",
    "def trans3(*args1):\n",
    "\n",
    "    \"\"\"\n",
    "    Computes transpose BB of matrix AA, i.e. BB[i,j] = AA[i,j] for all matrices AA in the list specified by amats\n",
    "    \n",
    "    Input:  args1 =  tuple of 2-D matrices \n",
    "    Output: args2 =  list of 2-D matrices BB\n",
    "    \n",
    "    Assumes numpy has been imported\n",
    "    \"\"\"\n",
    "\n",
    "    print(args1)\n",
    "    print(f\"{type(args1)=}\")\n",
    "    args2 = []\n",
    "    for AA in (args1):   # unpack the input arguments by iterating thru the tuple\n",
    "        [n,m] = AA.shape    # same as np.shape(AA)\n",
    "\n",
    "        BB = np.empty([m,n])\n",
    "        for ii in range(0,n):\n",
    "            BB[:,ii] = AA[ii,:]    # implementing more efficient approach here\n",
    "        args2.append(BB) \n",
    "\n",
    "    print(f\"{type(args2)=}\")\n",
    "    return args2"
   ]
  },
  {
   "cell_type": "code",
   "execution_count": 19,
   "id": "fda07e03",
   "metadata": {},
   "outputs": [
    {
     "name": "stdout",
     "output_type": "stream",
     "text": [
      "(array([[ 2,  3,  0],\n",
      "       [ 1, -1,  1]]), array([[3.14159265, 6.28318531],\n",
      "       [0.        , 0.        ]]), array([[ 2,  3,  0],\n",
      "       [ 1, -1,  1]]), array([[3.14159265, 6.28318531],\n",
      "       [0.        , 0.        ]]))\n",
      "type(args1)=<class 'tuple'>\n",
      "type(args2)=<class 'list'>\n",
      "\n",
      "A1=array([[ 2,  3,  0],\n",
      "       [ 1, -1,  1]]) \n",
      "B1=array([[ 2.,  1.],\n",
      "       [ 3., -1.],\n",
      "       [ 0.,  1.]]) \n",
      "A2=array([[3.14159265, 6.28318531],\n",
      "       [0.        , 0.        ]]) \n",
      "B2=array([[3.14159265, 0.        ],\n",
      "       [6.28318531, 0.        ]]) \n",
      "B3=array([[ 2.,  1.],\n",
      "       [ 3., -1.],\n",
      "       [ 0.,  1.]]) \n",
      "B4=array([[3.14159265, 0.        ],\n",
      "       [6.28318531, 0.        ]])\n"
     ]
    }
   ],
   "source": [
    "# Testing my solution\n",
    "\n",
    "A1 = np.array([[2, 3, 0], [1, -1, 1]])\n",
    "A2 = np.array([[np.pi, 2*np.pi], [0, 0]])\n",
    "\n",
    "# first pass in arguments explicitly from calling script, b/c we know how many of them we want to pass\n",
    "B1, B2, B3, B4 = trans3(A1,A2,A1,A2)\n",
    "print(f\"\\n{A1=} \\n{B1=} \\n{A2=} \\n{B2=} \\n{B3=} \\n{B4=}\")"
   ]
  },
  {
   "cell_type": "markdown",
   "id": "24340df9",
   "metadata": {},
   "source": [
    "### A few FAQ / comments about *args\n",
    "\n",
    "1.  What is the `*` doing in `def trans2(*args1):`?  The `*` or `splat` can be thought of as an operator.  It is operating on the function arguments and returning a tuple called `args1`:  see the output of  `print(f\"{type(args1)=}\")`\n",
    "</br>\n",
    "\n",
    "2.  We made `args2` a list of 2D arrays.  The function returns this which is then \"unpacked\" into the individual variables `B1`, `B2`, `B3` and `B4`.  This communicates to someone reading the code that you expect\n",
    "exactly 4 items in the args2 list returned by trans2, and that you want to work with them as individual variables.\n",
    "Python will raise a ValueError if the length of args2 is not 4.\n",
    "\n",
    "</br>\n",
    "\n",
    "3. One thing to remember is that tuple creation and unpacking is handled by the comma operator, so e.g.\n",
    "```\n",
    "    a = 1,2,3  # packs or creates the tuple, a\n",
    "    x,y,z = a  # unpacks `a` into x,y,z; also called multiple assignment\n",
    "```\n",
    "</br>\n",
    "\n",
    "4.  We've seen this tangentially before in references to multiple assignment in for loops. The last ref on the list above is really helpful in covering tuple, list unpacking and packing.  \n",
    "\n",
    "```\n",
    "person_dictionary = {'name': \"CJ\", 'university': \"UBC\"}\n",
    "\n",
    "# one dictionary item at a time print key and value\n",
    "print(f\"Loop over items\")\n",
    "for item in person_dictionary.items():\n",
    "    print(f\"Key {item[0]} has value {item[1]}\")\n",
    "\n",
    "# Same thing but with multiple assignment (like multiple assignment with = operator)\n",
    "print(f\"\\nMultiple assignment loop\")\n",
    "for key, value in person_dictionary.items():\n",
    "    print(f\"Key {key} has value {value}\")\n",
    "```    \n",
    "</br> \n",
    "\n",
    "5.  Phil says:  \"Handling an arbitrary number of function arguments is definitely useful, but in my own code I don't find myself using it very often, since I'd like the function signature to be as specific as possible.    I use kw expansion much more often, because all the keywords are specified in the function signature, and the creator of the dictionary that's going into `my_fun(**kw_dict)` knows what they put into the dictionary.  So you get the best of both worlds -- much less typing when you call the function, but complete documentation when you read the function signature.\"\n"
   ]
  },
  {
   "cell_type": "markdown",
   "id": "abc1cd66",
   "metadata": {},
   "source": [
    "### Question 7:  Type / Dimensions Quickies\n",
    "\n",
    "Use the following variable definitions to answer the questions below"
   ]
  },
  {
   "cell_type": "code",
   "execution_count": 20,
   "id": "6dacfb73",
   "metadata": {},
   "outputs": [
    {
     "name": "stdout",
     "output_type": "stream",
     "text": [
      "caught ValueError: 'operands could not be broadcast together with shapes (3,2) (2,3) '\n"
     ]
    }
   ],
   "source": [
    "a = np.array([[1, 2], [3, -1], [0, 1]])\n",
    "b = np.arange(3, -3, -2)\n",
    "b = np.expand_dims(b, axis=[0])\n",
    "c = np.ones(3)\n",
    "d = [10,11,12]\n",
    "e = a*a\n",
    "f = b*d\n",
    "try:\n",
    "    g = a*a.T\n",
    "except ValueError as ve:\n",
    "    print(f\"caught ValueError: '{ve}'\")"
   ]
  },
  {
   "cell_type": "markdown",
   "id": "13d80446",
   "metadata": {},
   "source": [
    "What is the shape of \n",
    "</br>\n",
    "\n",
    "a) `a`\n",
    "</br>\n",
    "</br>\n",
    "\n",
    "b) `b`\n",
    "</br>\n",
    "</br>\n",
    "\n",
    "c) `c`\n",
    "</br>\n",
    "</br>\n",
    "\n",
    "d) `d`\n",
    "</br>\n",
    "</br>\n",
    "\n",
    "e) `e`\n",
    "</br>\n",
    "</br>\n",
    "\n",
    "f) `f`\n",
    "</br>\n",
    "</br>\n",
    "\n",
    "g) `g`\n",
    "</br>\n",
    "</br>"
   ]
  },
  {
   "cell_type": "markdown",
   "id": "69c5fe65",
   "metadata": {},
   "source": [
    "What is the type of \n",
    "</br>\n",
    "\n",
    "h) `b`\n",
    "</br>\n",
    "</br>\n",
    "\n",
    "i) `d`\n",
    "</br>\n",
    "</br>\n",
    "\n",
    "j) `e`\n",
    "</br>\n",
    "</br>\n",
    "\n",
    "k) `f`\n",
    "</br>\n",
    "</br>"
   ]
  },
  {
   "cell_type": "code",
   "execution_count": 21,
   "id": "9cf71b87",
   "metadata": {},
   "outputs": [
    {
     "name": "stdout",
     "output_type": "stream",
     "text": [
      "a=array([[ 1,  2],\n",
      "       [ 3, -1],\n",
      "       [ 0,  1]])\n",
      "b=array([[ 3,  1, -1]])\n",
      "c=array([1., 1., 1.])\n",
      "d=[10, 11, 12]\n",
      "e=array([[1, 4],\n",
      "       [9, 1],\n",
      "       [0, 1]])\n",
      "f=array([[ 30,  11, -12]])\n",
      "\n",
      "---------\n",
      "np.shape(a)=(3, 2)\n",
      "np.shape(b)=(1, 3)\n",
      "np.shape(c)=(3,)\n",
      "np.shape(d)=(3,)\n",
      "np.shape(e)=(3, 2)\n",
      "np.shape(f)=(1, 3)\n",
      "\n",
      "---------\n",
      "type(b)=<class 'numpy.ndarray'>\n",
      "type(d)=<class 'list'>\n",
      "type(e)=<class 'numpy.ndarray'>\n",
      "type(f)=<class 'numpy.ndarray'>\n"
     ]
    }
   ],
   "source": [
    "# Catherine's solution\n",
    "print(f\"{a=}\\n{b=}\\n{c=}\\n{d=}\\n{e=}\\n{f=}\")\n",
    "\n",
    "print(f\"\\n---------\")\n",
    "print(f\"{np.shape(a)=}\\n{np.shape(b)=}\\n{np.shape(c)=}\\n{np.shape(d)=}\\n{np.shape(e)=}\\n{np.shape(f)=}\")\n",
    "\n",
    "print(f\"\\n---------\")\n",
    "print(f\"{type(b)=}\\n{type(d)=}\\n{type(e)=}\\n{type(f)=}\")"
   ]
  },
  {
   "cell_type": "code",
   "execution_count": 22,
   "id": "1a4a1d7e",
   "metadata": {},
   "outputs": [
    {
     "name": "stdout",
     "output_type": "stream",
     "text": [
      "g=array([[ 5,  1,  2],\n",
      "       [ 1, 10, -1],\n",
      "       [ 2, -1,  1]])\n"
     ]
    }
   ],
   "source": [
    "# Catherine's solution\n",
    "# g = a*a.T\n",
    "\n",
    "# If what we wanted was to do the matric multplication we would do\n",
    "np.matmul(a,a.T)\n",
    "# or use the @ matrix multiply operator\n",
    "g = a@a.T\n",
    "print(f\"{g=}\")"
   ]
  },
  {
   "cell_type": "markdown",
   "id": "2a2e39ac",
   "metadata": {},
   "source": [
    "### Question 8:  More quickies\n",
    "\n",
    "#### A) Bugs...\n",
    "What happens when you run the following code?  "
   ]
  },
  {
   "cell_type": "code",
   "execution_count": 23,
   "id": "a51fd919",
   "metadata": {},
   "outputs": [
    {
     "name": "stderr",
     "output_type": "stream",
     "text": [
      "/tmp/ipykernel_2093928/460077631.py:3: RuntimeWarning: divide by zero encountered in true_divide\n",
      "  C=A/B + 4\n",
      "/tmp/ipykernel_2093928/460077631.py:3: RuntimeWarning: invalid value encountered in true_divide\n",
      "  C=A/B + 4\n"
     ]
    }
   ],
   "source": [
    "A=np.array([1, 5, 3, 0, 1])\n",
    "B=np.array([0, 5, 6, 0, 1])\n",
    "C=A/B + 4"
   ]
  },
  {
   "cell_type": "markdown",
   "id": "d9a28913",
   "metadata": {},
   "source": [
    "#### B) More bugs...\n",
    "What happens when you run the following code? "
   ]
  },
  {
   "cell_type": "code",
   "execution_count": 24,
   "id": "bec3be32",
   "metadata": {},
   "outputs": [
    {
     "name": "stdout",
     "output_type": "stream",
     "text": [
      "unsupported operand type(s) for /: 'list' and 'list'\n"
     ]
    }
   ],
   "source": [
    "A=[1, 5, 3, 0, 1]\n",
    "B=[0, 5, 6, 0, 1]\n",
    "try:\n",
    "    C=B/A + 4\n",
    "except TypeError as te:\n",
    "    print(f\"{te}\")"
   ]
  },
  {
   "cell_type": "markdown",
   "id": "e4b2caca",
   "metadata": {},
   "source": [
    "#### C)\n",
    "What does `x` contain after running the following code? show your work."
   ]
  },
  {
   "cell_type": "code",
   "execution_count": 25,
   "id": "333794c5",
   "metadata": {},
   "outputs": [],
   "source": [
    "a = 3.0;\n",
    "x = [2**a+a*2+1, a**(np.sum(np.append(np.arange(2,-1,-1),-4)))]"
   ]
  },
  {
   "cell_type": "code",
   "execution_count": 26,
   "id": "cfaf00f4",
   "metadata": {},
   "outputs": [
    {
     "name": "stdout",
     "output_type": "stream",
     "text": [
      "[15.0, 0.3333333333333333]\n"
     ]
    }
   ],
   "source": [
    "# Catherine's solution\n",
    "\n",
    "print(x)"
   ]
  }
 ],
 "metadata": {
  "jupytext": {
   "formats": "ipynb,md"
  },
  "kernelspec": {
   "display_name": "Python 3 (ipykernel)",
   "language": "python",
   "name": "python3"
  },
  "language_info": {
   "codemirror_mode": {
    "name": "ipython",
    "version": 3
   },
   "file_extension": ".py",
   "mimetype": "text/x-python",
   "name": "python",
   "nbconvert_exporter": "python",
   "pygments_lexer": "ipython3",
   "version": "3.8.0"
  }
 },
 "nbformat": 4,
 "nbformat_minor": 5
}
