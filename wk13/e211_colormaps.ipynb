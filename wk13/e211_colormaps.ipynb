{
 "cells": [
  {
   "cell_type": "markdown",
   "id": "9fac852f",
   "metadata": {},
   "source": [
    "# Plotting color images with matplotlib\n",
    "\n",
    "\n",
    "## learning objectives\n",
    "\n",
    "  * introduce color plotting with colomaps and pcolormesh\n",
    "  * provide a set of links for future reference about using color to interpret/present image data"
   ]
  },
  {
   "cell_type": "code",
   "execution_count": null,
   "id": "3c4bece7",
   "metadata": {},
   "outputs": [],
   "source": [
    "import matplotlib.pyplot as plt\n",
    "import numpy as np"
   ]
  },
  {
   "cell_type": "markdown",
   "id": "49c212eb",
   "metadata": {},
   "source": [
    "## read in some satellite data\n",
    "\n",
    "Get a compressed npz archive that holds two [modis](https://modis.gsfc.nasa.gov/about/specifications.php) brightness temperature maps (Kelvins) for Channel 31 and 32."
   ]
  },
  {
   "cell_type": "code",
   "execution_count": null,
   "id": "dfd51f37",
   "metadata": {},
   "outputs": [],
   "source": [
    "temp_dict = np.load('./sat_temps.npz')\n",
    "list(temp_dict.keys())"
   ]
  },
  {
   "cell_type": "markdown",
   "id": "742535cf",
   "metadata": {},
   "source": [
    "## Histogram to see the data range"
   ]
  },
  {
   "cell_type": "code",
   "execution_count": null,
   "id": "65c94481",
   "metadata": {},
   "outputs": [],
   "source": [
    "fig, ax = plt.subplots(1,1, figsize=(8,6))\n",
    "ax.hist(temp_dict['chan31'].flat);"
   ]
  },
  {
   "cell_type": "markdown",
   "id": "485ddc52",
   "metadata": {},
   "source": [
    "## Producing pseudocolor images\n",
    "\n",
    "For reference: some background about colormaps (aka palettes) and human color vision\n",
    " \n",
    "* matplotlib\n",
    "\n",
    "  * we'll use [pcolormesh](https://matplotlib.org/stable/api/_as_gen/matplotlib.pyplot.pcolormesh.html)\n",
    "\n",
    "  * [matplotlib image tutorial](https://matplotlib.org/stable/tutorials/introductory/images.html)\n",
    " \n",
    "  * [matplotlib colormaps](https://matplotlib.org/stable/tutorials/colors/colormaps.html)\n",
    "  \n",
    "  * [32 bit true color vs. 8 bit colormaps](https://www.computerhope.com/issues/ch001557.htm)\n",
    "  \n",
    "* physiology and psychology of color vision in humans\n",
    "\n",
    "  * [rods, cones and rgb](https://www.healthline.com/health/tetrachromacy)\n",
    "  \n",
    "  * [colorblindness](https://www.colourblindawareness.org/colour-blindness/)\n",
    "\n",
    "  * [xkcd color survey](https://blog.xkcd.com/2010/05/03/color-survey-results/)\n",
    "\n",
    "  * [xkcd colors from matplotlib](https://seaborn.pydata.org/generated/seaborn.xkcd_palette.html)\n",
    "\n",
    "  * [wikipedia article on RGB colors](https://en.wikipedia.org/wiki/RGB_color_model)\n",
    "\n",
    "  * [the dress](https://en.wikipedia.org/wiki/The_dress)"
   ]
  },
  {
   "cell_type": "markdown",
   "id": "3c71fa5c",
   "metadata": {},
   "source": [
    "## Normalizing a colormap\n",
    "\n",
    "* We can set the datarange that we want to map onto the colors in a particular colormap, using the\n",
    "  [Normalize object](https://matplotlib.org/stable/api/_as_gen/matplotlib.colors.Normalize.html)\n",
    "  \n",
    "* We can set colors for out-of-range and missing data using the `set_over`, `set_under` and `set_bad` \n",
    "  methods of the [colormap object](https://matplotlib.org/stable/api/_as_gen/matplotlib.colors.Colormap.html)"
   ]
  },
  {
   "cell_type": "code",
   "execution_count": null,
   "id": "e0d59fee",
   "metadata": {},
   "outputs": [],
   "source": [
    "import copy\n",
    "pal = copy.copy(plt.get_cmap(\"autumn\"))\n",
    "pal.set_bad(\"0.75\")  # 75% grey for out-of-map cells\n",
    "pal.set_over(\"w\")  # color cells > vmax white\n",
    "pal.set_under(\"k\")  # color cells < vmin black\n",
    "vmin = 200.\n",
    "vmax = 400.\n",
    "from matplotlib.colors import Normalize\n",
    "\n",
    "the_norm = Normalize(vmin=vmin, vmax=vmax, clip=False)"
   ]
  },
  {
   "cell_type": "markdown",
   "id": "3f172460",
   "metadata": {},
   "source": [
    "## Plotting using pcolormesh\n",
    "\n",
    "Here's the chan31 temperatures plotted with pcolormesh with the above normalization and the autumn palette.\n",
    "\n",
    "* [pcolormesh reference](https://matplotlib.org/stable/api/_as_gen/matplotlib.axes.Axes.pcolormesh.html?highlight=pcolormesh#matplotlib.axes.Axes.pcolormesh)"
   ]
  },
  {
   "cell_type": "code",
   "execution_count": null,
   "id": "79c83962",
   "metadata": {},
   "outputs": [],
   "source": [
    "fig, ax = plt.subplots(1,1,figsize=(10,8))\n",
    "col = ax.pcolormesh(temp_dict['chan31'], cmap = pal, norm = the_norm)\n",
    "print(type(col))"
   ]
  },
  {
   "cell_type": "markdown",
   "id": "1579d5a4",
   "metadata": {},
   "source": [
    "## Adding a colorbar\n",
    "\n",
    "* Now add a standard colobar to the figure.  The colorbar size can be reduced with the `shrink` keyword and\n",
    "  the space between the colorbar and the image can be adjusted with the `pad` keyword.  We can also label the\n",
    "  colorbar and adjust its alignment using `verticalalignment` and `rotation`\n",
    "  \n",
    "\n",
    "* [colorbar reference](https://matplotlib.org/stable/api/_as_gen/matplotlib.pyplot.colorbar.html)"
   ]
  },
  {
   "cell_type": "code",
   "execution_count": null,
   "id": "0498254a",
   "metadata": {},
   "outputs": [],
   "source": [
    "colorbar=fig.colorbar(col, shrink=0.95, pad=0.05,extend='both')\n",
    "colorbar.set_label('channel31 brightness temperature (K)',rotation=-90,verticalalignment='bottom')\n",
    "display(fig)"
   ]
  },
  {
   "cell_type": "markdown",
   "id": "c1a07269",
   "metadata": {},
   "source": [
    "## Specifying over/under/bad values\n",
    "\n",
    "Make a new image with temperatures below 250 set to missing, and all colors mapped to 310 K - 330 K"
   ]
  },
  {
   "cell_type": "code",
   "execution_count": null,
   "id": "74c5e61d",
   "metadata": {},
   "outputs": [],
   "source": [
    "fig, ax = plt.subplots(1,1,figsize=(10,8))\n",
    "chan31 = np.array(temp_dict['chan31'])\n",
    "chan31[chan31 < 250] = np.nan\n",
    "vmin = 310.\n",
    "vmax = 330.\n",
    "the_norm = Normalize(vmin=vmin, vmax=vmax, clip=False)\n",
    "col = ax.pcolormesh(chan31, cmap = pal, norm = the_norm)\n",
    "colorbar=fig.colorbar(col, shrink=0.85, pad=0.02,extend='both')\n",
    "colorbar.set_label('channel31 brightness temperature (K)',rotation=-90,verticalalignment='bottom')"
   ]
  },
  {
   "cell_type": "markdown",
   "id": "82d56f8b",
   "metadata": {},
   "source": [
    "## Your turn\n",
    "\n",
    "Make a new image of (channel31 - mean(chan31)) and plot that using a [diverging colormap](https://matplotlib.org/stable/tutorials/colors/colormaps.html#diverging) like `coolwarm`.  Don't worry\n",
    "about normalization for this first pass."
   ]
  },
  {
   "cell_type": "code",
   "execution_count": null,
   "id": "5c14cc05",
   "metadata": {},
   "outputs": [],
   "source": [
    "# your code here"
   ]
  },
  {
   "cell_type": "markdown",
   "id": "02324e6d",
   "metadata": {},
   "source": [
    "## Make the colorbar range -20 -> 20 K \n",
    "\n",
    "We want the blue-red boundary to designate switch from negative to positive"
   ]
  }
 ],
 "metadata": {
  "jupytext": {
   "cell_metadata_filter": "all",
   "formats": "ipynb,md:myst",
   "notebook_metadata_filter": "all,-language_info,-toc,-latex_envs"
  },
  "kernelspec": {
   "display_name": "Python 3 (ipykernel)",
   "language": "python",
   "name": "python3"
  }
 },
 "nbformat": 4,
 "nbformat_minor": 5
}
