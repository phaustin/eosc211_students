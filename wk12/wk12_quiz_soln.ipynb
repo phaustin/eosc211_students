{
 "cells": [
  {
   "cell_type": "markdown",
   "id": "1d326e28",
   "metadata": {},
   "source": [
    "# Week 12 Quiz: solution\n",
    "\n",
    "\n",
    "\n",
    "### Name / Student id:\n",
    "### Group:\n",
    "\n",
    "\n",
    "### Import the packages we need"
   ]
  },
  {
   "cell_type": "code",
   "execution_count": null,
   "id": "f7fc17c8",
   "metadata": {},
   "outputs": [],
   "source": [
    "import numpy as np"
   ]
  },
  {
   "cell_type": "markdown",
   "id": "2fdf85a2",
   "metadata": {},
   "source": [
    "### Use the variables defined in the following cell to answer all the questions below"
   ]
  },
  {
   "cell_type": "code",
   "execution_count": null,
   "id": "49bf60b4",
   "metadata": {},
   "outputs": [],
   "source": [
    "pp = np.pi\n",
    "ult_ans = 42\n",
    "row1 = [1, 2, 3]\n",
    "\n",
    "# set up array A\n",
    "A = np.array([ row1, [-pp*row1[2], 0, pp/row1[1]] ]) \n",
    "\n",
    "# set up array B\n",
    "B = np.ones_like(A)       # default dtype for array generators is floats\n",
    "B[:,-1]*=ult_ans\n",
    "\n",
    "# set up variables temp and rain\n",
    "D = np.array([23.6, 22.5, 21.8, 24.9])\n",
    "rain = np.array([0, 3, 0, 2, 1, 0, 5, 2])\n",
    "temp = np.append(D,D)"
   ]
  },
  {
   "cell_type": "markdown",
   "id": "c17ac3cb",
   "metadata": {},
   "source": [
    "### For questions 1- 7 what is printed?"
   ]
  },
  {
   "cell_type": "markdown",
   "id": "4963ee93",
   "metadata": {},
   "source": [
    "### Question 1 (1pt): \n",
    "\n",
    "`print(f\"{A=}\")`\n",
    "\n",
    "<br />\n",
    "<br />"
   ]
  },
  {
   "cell_type": "code",
   "execution_count": null,
   "id": "c266e302",
   "metadata": {},
   "outputs": [],
   "source": [
    "print(f\"{A=}\")"
   ]
  },
  {
   "cell_type": "markdown",
   "id": "4b4518ba",
   "metadata": {},
   "source": [
    "    A=array([[ 1.        ,  2.        ,  3.        ],\n",
    "           [-9.42477796,  0.        ,  1.57079633]])"
   ]
  },
  {
   "cell_type": "markdown",
   "id": "eb36f997",
   "metadata": {},
   "source": [
    "### Question 2 (1 pt):\n",
    "\n",
    "`print(f\"{type(A[1,2])}\")`\n",
    "\n",
    "<br />\n",
    "<br />"
   ]
  },
  {
   "cell_type": "code",
   "execution_count": null,
   "id": "d70e98a0",
   "metadata": {},
   "outputs": [],
   "source": [
    "print(f\"{type(A[1,2])}\")"
   ]
  },
  {
   "cell_type": "markdown",
   "id": "be8461e7",
   "metadata": {},
   "source": [
    "    <class 'numpy.float64'>"
   ]
  },
  {
   "cell_type": "markdown",
   "id": "cb104e62",
   "metadata": {},
   "source": [
    "### Question 3 (1 pt):\n",
    "\n",
    "`print(f\"{A.shape}\")`\n",
    "\n",
    "<br />\n",
    "<br />"
   ]
  },
  {
   "cell_type": "code",
   "execution_count": null,
   "id": "01624454",
   "metadata": {},
   "outputs": [],
   "source": [
    "print(f\"{A.shape}\")"
   ]
  },
  {
   "cell_type": "markdown",
   "id": "4c6f6671",
   "metadata": {},
   "source": [
    "    (2, 3)"
   ]
  },
  {
   "cell_type": "markdown",
   "id": "4e1c2417",
   "metadata": {},
   "source": [
    "### Question 4 (1 pt):\n",
    "\n",
    "`print(f\"{B.shape}\")`\n",
    "\n",
    "<br />\n",
    "<br />"
   ]
  },
  {
   "cell_type": "code",
   "execution_count": null,
   "id": "80f3a6a2",
   "metadata": {},
   "outputs": [],
   "source": [
    "print(f\"{B.shape}\")"
   ]
  },
  {
   "cell_type": "markdown",
   "id": "7871bda4",
   "metadata": {},
   "source": [
    "    (2, 3)"
   ]
  },
  {
   "cell_type": "markdown",
   "id": "efc94a17",
   "metadata": {},
   "source": [
    "### Question 5 (1 pt):\n",
    "\n",
    "`print(f\"{type(B)}  {B.dtype}\")`\n",
    "\n",
    "<br />\n",
    "<br />"
   ]
  },
  {
   "cell_type": "code",
   "execution_count": null,
   "id": "8e546adf",
   "metadata": {},
   "outputs": [],
   "source": [
    "print(f\"{type(B)}  {B.dtype}\")"
   ]
  },
  {
   "cell_type": "markdown",
   "id": "6c5c218e",
   "metadata": {},
   "source": [
    "    <class 'numpy.ndarray'>  float64"
   ]
  },
  {
   "cell_type": "markdown",
   "id": "b4816ecd",
   "metadata": {},
   "source": [
    "### Question 6 (1 pt):\n",
    "\n",
    "`print(f\"{B.T[:,-1]=}\")`\n",
    "\n",
    "<br />\n",
    "<br />"
   ]
  },
  {
   "cell_type": "code",
   "execution_count": null,
   "id": "d8ae6d6e",
   "metadata": {},
   "outputs": [],
   "source": [
    "print(f\"{B.T[:,-1]=}\")"
   ]
  },
  {
   "cell_type": "markdown",
   "id": "ee85b138",
   "metadata": {},
   "source": [
    "    B.T[:,-1]=array([ 1.,  1., 42.])"
   ]
  },
  {
   "cell_type": "markdown",
   "id": "e3721fb6",
   "metadata": {},
   "source": [
    "### Question 7 (2 pts):\n",
    "\n",
    "```\n",
    "Tcut=23\n",
    "\n",
    "print(f\"Rainfall on days > {Tcut} C was {rain[temp>Tcut]} mm\")\n",
    "```\n",
    "\n",
    "<br />\n",
    "<br />"
   ]
  },
  {
   "cell_type": "code",
   "execution_count": null,
   "id": "3adc4e8e",
   "metadata": {},
   "outputs": [],
   "source": [
    "Tcut=23\n",
    "print(f\"Rainfall on days > {Tcut} C was {rain[temp>Tcut]} mm\")"
   ]
  },
  {
   "cell_type": "markdown",
   "id": "a9b96294",
   "metadata": {},
   "source": [
    "    Rainfall on days > 23 C was [0 2 1 2] mm"
   ]
  },
  {
   "cell_type": "markdown",
   "id": "1febe5cd",
   "metadata": {},
   "source": [
    "### Question 8 (1 pt):  \n",
    "\n",
    "Write a **single** line of code that will construct a dictionary called `telnos` from the following tuples\n",
    "\n",
    "```\n",
    "t1=(\"phil\",22175)\n",
    "t2=(\"catherine\",73480)\n",
    "t3=(\"no-one\",71111)\n",
    "```\n",
    "\n",
    "<br />\n",
    "<br />\n",
    "<br />\n",
    "<br />"
   ]
  },
  {
   "cell_type": "code",
   "execution_count": null,
   "id": "81b61163",
   "metadata": {},
   "outputs": [],
   "source": [
    "# Q8:  Answer\n",
    "t1=(\"phil\",22175)\n",
    "t2=(\"catherine\",73480)\n",
    "t3=(\"no-one\",71111)\n",
    "telnos = dict([t1,t2,t3])\n",
    "print(telnos)"
   ]
  },
  {
   "cell_type": "markdown",
   "id": "a63c4be0",
   "metadata": {},
   "source": [
    "    {'phil': 22175, 'catherine': 73480, 'no-one': 71111}"
   ]
  },
  {
   "cell_type": "markdown",
   "id": "6953331c",
   "metadata": {},
   "source": [
    "### Question 9 (2 pts):  \n",
    "\n",
    "Now assume that Phil moved into Catherine's office and Catherine decided to retire to a tropical island.  Write  **2 lines of code** to assign Catherine's # to Phil and remove Catherine's entry from the dictionary.\n",
    "\n",
    "<br />\n",
    "<br />\n",
    "<br />\n",
    "<br />\n",
    "<br />\n",
    "<br />"
   ]
  },
  {
   "cell_type": "code",
   "execution_count": null,
   "id": "d2e37bda",
   "metadata": {},
   "outputs": [],
   "source": [
    "telnos = dict([t1,t2,t3])   # just in case run this cell out of order reset telnos to original\n",
    "telnos[\"phil\"]=telnos[\"catherine\"]  \n",
    "telnos.pop(\"catherine\")   # use pop\n",
    "print(telnos)\n",
    "\n",
    "# add my phone # back and reset Phil's for second ways of doing this\n",
    "telnos = dict([t1,t2,t3])\n",
    "\n",
    "telnos[\"phil\"]=73480    # works but error prone -- need to copy number by hand\n",
    "del telnos[\"catherine\"]    # using del (not in our text but might have seen online)\n",
    "print(telnos)\n",
    "\n",
    "# best: (also not in text) -- copy popped value, no need to hand enter\n",
    "telnos = dict([t1,t2,t3])\n",
    "telnos[\"phil\"]=telnos.pop(\"catherine\")\n",
    "# \n",
    "# you can give pop an optional value to return\n",
    "# if key is missing from dictionary\n",
    "#\n",
    "telnos = dict([t1,t2,t3])\n",
    "telnos[\"phil\"]=telnos.pop(\"katherine\", None)\n",
    "print(f\"missing key: {telnos=}\")"
   ]
  },
  {
   "cell_type": "code",
   "execution_count": null,
   "id": "c1889652",
   "metadata": {},
   "outputs": [],
   "source": [
    "telnos=dict([t1,t2,t3])\n",
    "del telnos['catherine']\n",
    "telnos"
   ]
  },
  {
   "cell_type": "markdown",
   "id": "34fef141",
   "metadata": {},
   "source": [
    "    {'phil': 73480, 'no-one': 71111}\n",
    "    {'phil': 73480, 'no-one': 71111}"
   ]
  }
 ],
 "metadata": {
  "jupytext": {
   "cell_metadata_filter": "-all",
   "notebook_metadata_filter": "-all"
  },
  "kernelspec": {
   "display_name": "Python 3 (ipykernel)",
   "language": "python",
   "name": "python3"
  }
 },
 "nbformat": 4,
 "nbformat_minor": 5
}
