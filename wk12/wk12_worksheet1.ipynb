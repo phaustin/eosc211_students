{
 "cells": [
  {
   "cell_type": "markdown",
   "id": "34e4104d",
   "metadata": {},
   "source": [
    "# Week 12 Review Exercises\n",
    "\n",
    "## EOSC 211\n",
    "\n",
    "**Week 11 Day 1**\n",
    "\n",
    "**Learning Objectives:**  \n",
    "1. Solve problems with python code\n",
    "2. Choose appropriate data structures to make your code neat and efficient"
   ]
  },
  {
   "cell_type": "markdown",
   "id": "3cfae922",
   "metadata": {},
   "source": [
    "## Question 1\n",
    "\n",
    "**A) You have a cash register with \\$20, \\$10, \\$5, \\$2, \\$1, \\$0.25, \\$0.10, \\$0.05 bills or coins. Write code to make change usin the largest denominations possible – so that, for example, if someone gives you a \\$10 bill for something costing \\$6.55 the program will calculate that you get back \\$3.45 in change consisting of a \\$2, and \\$1, a \\$0.25, and 2 \\$0.10**  \n",
    "\n",
    "**The floor division `//` and modulo `%` operators are of use.**\n",
    "\n",
    "**Store the denominations available in a dictionary `money={'twenties', 'tens', 'fives', 'toonies'...}`. The rest of the program is up to you.  There are many correct ways to solve this problem**"
   ]
  },
  {
   "cell_type": "code",
   "execution_count": null,
   "id": "440f8037",
   "metadata": {},
   "outputs": [],
   "source": [
    "item_cost = 6.55  # dollars\n",
    "cash_in = 10  # dollars"
   ]
  },
  {
   "cell_type": "code",
   "execution_count": null,
   "id": "05dcad4c",
   "metadata": {},
   "outputs": [],
   "source": [
    "# your code here"
   ]
  },
  {
   "cell_type": "markdown",
   "id": "94483749",
   "metadata": {},
   "source": [
    "**B) Turn this into a function called `getchange` that will take as input `item_cost`, `cash_in` and return `change`. Also, make your funtion raise an error if the customer does not give enough money to cover the cost of the purchase**"
   ]
  },
  {
   "cell_type": "code",
   "execution_count": null,
   "id": "6f2589f4",
   "metadata": {},
   "outputs": [],
   "source": [
    "# your code here"
   ]
  },
  {
   "cell_type": "code",
   "execution_count": null,
   "id": "1ab8eca1",
   "metadata": {},
   "outputs": [],
   "source": [
    "# testing my function\n",
    "\n",
    "mychange = getchange(item_cost, cash_in)\n",
    "mychange"
   ]
  },
  {
   "cell_type": "markdown",
   "id": "33c9dc9c",
   "metadata": {},
   "source": [
    "**C) Edit get change to also take as input a dictionary `available_change` that contains the number of each denomination available in the cash register.  Use this to check that there are enough of each denomination to cover the change.  If any denomination is short make up the change with the next available largest bill.** \n",
    "\n",
    "e.g. in the above example \\$3.45 is required in change, so ideally the \\$3 part of the change would comprise 1 toonie and 1 loonie.  If no toonies are available then the \\$3 would comprise 3 loonies, if only 2 loonies were available it would comprise 2 looonies and 4 quarters etc."
   ]
  },
  {
   "cell_type": "code",
   "execution_count": null,
   "id": "4f011bfa",
   "metadata": {},
   "outputs": [],
   "source": [
    "# testing my function\n",
    "import numpy as np\n",
    "\n",
    "whats_there = {\n",
    "        \"twenties\": 10,\n",
    "        \"tens\": 10,\n",
    "        \"fives\": 10,\n",
    "        \"toonies\": 0,\n",
    "        \"loonies\": 0,\n",
    "        \"quarters\": 0,\n",
    "        \"dimes\": 0,\n",
    "        \"nickels\": 10,\n",
    "    } \n",
    "\n",
    "mychange = getchange(item_cost, cash_in, whats_there)\n",
    "mychange"
   ]
  },
  {
   "cell_type": "markdown",
   "id": "3c5d4ec9",
   "metadata": {},
   "source": [
    "## Question 2:  Practice with indexing / code tracing\n",
    "\n",
    "**A) For  `x1=[1, 7, -8, 2, -3, -9]`, what is contained in `y2` in each case after the code runs?  Do these three snippets of code do the same thing?  Show your work.**"
   ]
  },
  {
   "cell_type": "markdown",
   "id": "5af0dd65",
   "metadata": {},
   "source": [
    "```python\n",
    "#  Code Version A\n",
    "import numpy as np\n",
    "x1 = np.array([1, 7, -8, 2, -3, -9])\n",
    "y2 = []\n",
    "for i in range(len(x1)):\n",
    "    if x1[i] < 0:\n",
    "        y2.append(x1[i])\n",
    "print(y2)\n",
    "```"
   ]
  },
  {
   "cell_type": "markdown",
   "id": "54c54f69",
   "metadata": {},
   "source": [
    "```python\n",
    "# Code Version B\n",
    "del y2           # remove any previous version of y2 from memory\n",
    "x1 = np.array([1, 7, -8, 2, -3, -9])\n",
    "y2 = np.zeros_like(x1)\n",
    "k = 0\n",
    "for i in range(len(x1)):\n",
    "    if x1[i] < 0:\n",
    "        k = k + 1\n",
    "        y2[k] = x1[i]\n",
    "print(y2)\n",
    "```"
   ]
  },
  {
   "cell_type": "markdown",
   "id": "6713de9d",
   "metadata": {},
   "source": [
    "```python\n",
    "# Code Version C\n",
    "del y2           # remove any previous version of y2 from memory\n",
    "x1 = np.array([1, 7, -8, 2, -3, -9])\n",
    "y2 = np.zeros_like(x1)\n",
    "for i in range(len(x1)):\n",
    "    if x1[i] < 0:\n",
    "        y2[i] = x1[i]\n",
    "print(y2)\n",
    "```"
   ]
  },
  {
   "cell_type": "markdown",
   "id": "3cf652f0",
   "metadata": {},
   "source": [
    "**B) Write code that produces the same result as A, but use vectorization instead of loops.**"
   ]
  },
  {
   "cell_type": "code",
   "execution_count": null,
   "id": "d1cb6aca",
   "metadata": {},
   "outputs": [],
   "source": [
    "# your code here"
   ]
  },
  {
   "cell_type": "code",
   "execution_count": null,
   "id": "3f34b063",
   "metadata": {},
   "outputs": [],
   "source": []
  }
 ],
 "metadata": {
  "jupytext": {
   "formats": "ipynb,md:myst",
   "notebook_metadata_filter": "all,-language_info,-toc,-latex_envs"
  },
  "kernelspec": {
   "display_name": "Python 3 (ipykernel)",
   "language": "python",
   "name": "python3"
  }
 },
 "nbformat": 4,
 "nbformat_minor": 5
}
