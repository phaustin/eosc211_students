{
 "cells": [
  {
   "cell_type": "markdown",
   "id": "12a73020",
   "metadata": {},
   "source": [
    "# Exercises\n",
    "\n",
    "## EOSC 211\n",
    "\n",
    "**Week 11 Day 1**\n",
    "\n",
    "**Learning Objectives:**  \n",
    "1. Solve problems with python code\n",
    "2. Choose appropriate data structures to make your code neat and efficient"
   ]
  },
  {
   "cell_type": "markdown",
   "id": "9d944e4c",
   "metadata": {},
   "source": [
    "## Question 1\n",
    "\n",
    "**A) You have a cash register with \\\\$20, \\\\$10, \\\\$5, \\\\$2, \\\\$1, \\\\$0.25, \\\\$0.10, \\\\$0.05 bills or coins. Write a program to make change – so that, for example, if someone gives you a \\\\$10 bill for something costing \\\\$6.55 the program will calculate that you get back \\\\$3.45 in change consisting of a \\\\$2, and \\\\$1, a \\\\$0.25, and 2 \\\\$0.10**  \n",
    "\n",
    "**You may find the floor division `//` and modulo ```%``` operators to be of use.**\n",
    "\n",
    "**Store the denominations in a dictionary `denom={'twenties', 'tens', 'fives', 'toonies'...}`, The rest of the program is up to you. There are many correct ways to solve this problem**"
   ]
  },
  {
   "cell_type": "code",
   "execution_count": null,
   "id": "f3d78aca",
   "metadata": {},
   "outputs": [],
   "source": [
    "item_cost = 6.55  # dollars\n",
    "cash_in = 10  # dollars"
   ]
  },
  {
   "cell_type": "code",
   "execution_count": null,
   "id": "816ae149",
   "metadata": {},
   "outputs": [],
   "source": [
    "# your code here"
   ]
  },
  {
   "cell_type": "code",
   "execution_count": null,
   "id": "341b76e4",
   "metadata": {},
   "outputs": [],
   "source": [
    "# andrew's soln\n",
    "\n",
    "# create a dictionary of bill names and values to loop over\n",
    "money = {\n",
    "    \"twenties\": 20,\n",
    "    \"tens\": 10,\n",
    "    \"fives\": 5,\n",
    "    \"toonies\": 2,\n",
    "    \"loonies\": 1,\n",
    "    \"quarters\": 0.25,\n",
    "    \"dimes\": 0.1,\n",
    "    \"nickels\": 0.05,\n",
    "}\n",
    "denom = {}  # initialize an empty dictionary to put change into\n",
    "change = cash_in - item_cost\n",
    "\n",
    "for key in money.keys():\n",
    "    denom[key] = change // money[key]  # add to denom dictionary\n",
    "    change = change % money[key]  # get remaining chance owed\n",
    "\n",
    "print(denom)"
   ]
  },
  {
   "cell_type": "markdown",
   "id": "35b83a64",
   "metadata": {},
   "source": [
    "**B) Turn this into a function called `getchange` that will take as input `item_cost`, `cash_in` and return `change`. Also, make your funtion raise an error if the customer does not give enough money to cover the cost of the purchase**"
   ]
  },
  {
   "cell_type": "code",
   "execution_count": null,
   "id": "164e2ec9",
   "metadata": {},
   "outputs": [],
   "source": [
    "# your code here"
   ]
  },
  {
   "cell_type": "code",
   "execution_count": null,
   "id": "09ebc7aa",
   "metadata": {},
   "outputs": [],
   "source": [
    "# andrew's soln\n",
    "def change(item_cost, cash_in):\n",
    "    money = {\n",
    "        \"twenties\": 20,\n",
    "        \"tens\": 10,\n",
    "        \"fives\": 5,\n",
    "        \"toonies\": 2,\n",
    "        \"loonies\": 1,\n",
    "        \"quarters\": 0.25,\n",
    "        \"dimes\": 0.1,\n",
    "        \"nickels\": 0.05,\n",
    "    }\n",
    "    denom = {}  # initialize an empty dictionary to put change into\n",
    "    change = cash_in - item_cost\n",
    "    if change < 0:\n",
    "        raise ValueError('not enough cash to cover item cost')\n",
    "\n",
    "    for key in money.keys():\n",
    "        denom[key] = change // money[key]  # add to denom dictionary\n",
    "        change = change % money[key]  # get remaining chance owed\n",
    "\n",
    "    return denom"
   ]
  },
  {
   "cell_type": "markdown",
   "id": "7c864623",
   "metadata": {},
   "source": [
    "## Question 2\n",
    "\n",
    "**A) For  `x1=[1, 7, -8, 2, -3, -9]`, what is contained in `y2` in each case after the code runs?  Do these three snippets of code do the same thing?  Show your work.**"
   ]
  },
  {
   "cell_type": "code",
   "execution_count": null,
   "id": "a58b0338",
   "metadata": {},
   "outputs": [],
   "source": [
    "import numpy as np\n",
    "x1 = np.array([1, 7, -8, 2, -3, -9])\n",
    "y2 = []\n",
    "for i in range(len(x1)):\n",
    "    if x1[i] < 0:\n",
    "        y2.append(x1[i])\n",
    "print(y2)"
   ]
  },
  {
   "cell_type": "code",
   "execution_count": null,
   "id": "2672b16c",
   "metadata": {},
   "outputs": [],
   "source": [
    "y2 = x1\n",
    "k = 0\n",
    "for i in range(len(x1)):\n",
    "    if x1[i] < 0:\n",
    "        k = k + 1\n",
    "        y2[k] = x1[i]\n",
    "print(y2)"
   ]
  },
  {
   "cell_type": "markdown",
   "id": "45baaa69",
   "metadata": {},
   "source": [
    "not sure what the teachable is on this question... revisit later"
   ]
  },
  {
   "cell_type": "markdown",
   "id": "3f815188",
   "metadata": {},
   "source": [
    "**B) Write code that produces the same result as A, but use vectorization instead of loops.**"
   ]
  },
  {
   "cell_type": "code",
   "execution_count": null,
   "id": "790c4e28",
   "metadata": {},
   "outputs": [],
   "source": [
    "# your code here"
   ]
  },
  {
   "cell_type": "code",
   "execution_count": null,
   "id": "564725de",
   "metadata": {},
   "outputs": [],
   "source": [
    "# andrew's soln\n",
    "y2 = x1[x1 < 0]\n",
    "print(y2)"
   ]
  }
 ],
 "metadata": {
  "jupytext": {
   "formats": "ipynb,md"
  },
  "kernelspec": {
   "display_name": "Python 3",
   "language": "python",
   "name": "python3"
  }
 },
 "nbformat": 4,
 "nbformat_minor": 5
}
