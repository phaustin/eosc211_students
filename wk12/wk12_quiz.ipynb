{
 "cells": [
  {
   "cell_type": "markdown",
   "id": "27caabd1",
   "metadata": {},
   "source": [
    "### Name / Student #:\n",
    "### Group:"
   ]
  },
  {
   "cell_type": "markdown",
   "id": "8c546ba1",
   "metadata": {},
   "source": [
    "## Week 12 Quiz:  Review with numpy arrays, basic logical indexing, dictionary construction\n",
    "\n",
    "### Import the packages we need"
   ]
  },
  {
   "cell_type": "code",
   "execution_count": null,
   "id": "743371c3",
   "metadata": {},
   "outputs": [],
   "source": [
    "import numpy as np"
   ]
  },
  {
   "cell_type": "markdown",
   "id": "394c80f4",
   "metadata": {},
   "source": [
    "### Use the variables defined in the following cell to answer all the questions below"
   ]
  },
  {
   "cell_type": "code",
   "execution_count": null,
   "id": "3b8afeb6",
   "metadata": {},
   "outputs": [],
   "source": [
    "pp = np.pi\n",
    "ult_ans = 42\n",
    "row1 = [1, 2, 3]\n",
    "\n",
    "# set up array A\n",
    "A = np.array([ row1, [-pp*row1[2], 0, pp/row1[1]] ]) \n",
    "\n",
    "# set up array B\n",
    "B = np.ones_like(A)       # default dtype for array generators is floats\n",
    "B[:,-1]*=ult_ans\n",
    "\n",
    "# set up variables temp and rain\n",
    "D = np.array([23.6, 22.5, 21.8, 24.9])\n",
    "rain = np.array([0, 3, 0, 2, 1, 0, 5, 2])\n",
    "temp = np.append(D,D)\n",
    "\n",
    "#set up dictionary entries\n",
    "t1=(\"phil\",22175)\n",
    "t2=(\"catherine\",73480)\n",
    "t3=(\"no-one\",71111)"
   ]
  },
  {
   "cell_type": "markdown",
   "id": "dbe924ae",
   "metadata": {},
   "source": [
    "### For questions 1- 7 what is printed?"
   ]
  },
  {
   "cell_type": "markdown",
   "id": "15e198fb",
   "metadata": {},
   "source": [
    "### Question 1 (1pt): \n",
    "\n",
    "`print(f\"{A=}\")`\n",
    "\n",
    "<br />\n",
    "<br />"
   ]
  },
  {
   "cell_type": "markdown",
   "id": "d9babaa2",
   "metadata": {},
   "source": [
    "### Question 2 (1 pt):\n",
    "\n",
    "`print(f\"{type(A[1,2])}\")`\n",
    "\n",
    "<br />\n",
    "<br />"
   ]
  },
  {
   "cell_type": "markdown",
   "id": "8d963b2e",
   "metadata": {},
   "source": [
    "#### Question 3 (1 pt):\n",
    "\n",
    "`print(f\"{A.shape}\")`\n",
    "\n",
    "<br />\n",
    "<br />"
   ]
  },
  {
   "cell_type": "markdown",
   "id": "c672ddd8",
   "metadata": {},
   "source": [
    "#### Question 4 (1 pt):\n",
    "\n",
    "`print(f\"{B.shape}\")`\n",
    "\n",
    "<br />\n",
    "<br />"
   ]
  },
  {
   "cell_type": "markdown",
   "id": "4cb02f1b",
   "metadata": {},
   "source": [
    "### Question 5 (1 pt):\n",
    "\n",
    "`print(f\"{type(B)}  {B.dtype}\")`\n",
    "\n",
    "<br />\n",
    "<br />"
   ]
  },
  {
   "cell_type": "markdown",
   "id": "5e060a6a",
   "metadata": {},
   "source": [
    "### Question 6 (1 pt):\n",
    "\n",
    "`print(f\"{B.T[:,-1]=}\")`\n",
    "\n",
    "<br />\n",
    "<br />"
   ]
  },
  {
   "cell_type": "markdown",
   "id": "5d36c484",
   "metadata": {},
   "source": [
    "### Question 7 (2 pts):\n",
    "\n",
    "```\n",
    "Tcut=23\n",
    "\n",
    "print(f\"Rainfall on days > {Tcut} C was {rain[temp>Tcut]} mm\")\n",
    "```\n",
    "\n",
    "<br />\n",
    "<br />"
   ]
  },
  {
   "cell_type": "markdown",
   "id": "3a1aac58",
   "metadata": {},
   "source": [
    "### Question 8 (1 pt):  \n",
    "\n",
    "Write a **single** line of code that will construct a dictionary called `telnos` from the following tuples\n",
    "\n",
    "```python\n",
    "t1=(\"phil\",22175)\n",
    "t2=(\"catherine\",73480)\n",
    "t3=(\"no-one\",71111)\n",
    "```\n",
    "\n",
    "<br />\n",
    "<br />\n",
    "<br />\n",
    "<br />\n",
    "<br />\n",
    "<br />\n",
    "<br />\n",
    "<br />\n",
    "<br />\n",
    "<br />"
   ]
  },
  {
   "cell_type": "markdown",
   "id": "3757e7b8",
   "metadata": {},
   "source": [
    "### Question 9 (2 pts):  \n",
    "\n",
    "Now assume that Phil moved into Catherine's office and Catherine decided to retire to a tropical island.  Write  **2 lines of code** to assign Catherine's # to Phil and remove Catherine's entry from the dictionary."
   ]
  }
 ],
 "metadata": {
  "jupytext": {
   "cell_metadata_filter": "-all",
   "notebook_metadata_filter": "-all"
  },
  "kernelspec": {
   "display_name": "Python 3 (ipykernel)",
   "language": "python",
   "name": "python3"
  }
 },
 "nbformat": 4,
 "nbformat_minor": 5
}
