{
 "cells": [
  {
   "cell_type": "markdown",
   "id": "62946858",
   "metadata": {},
   "source": [
    "# Week 11 quiz solution: pandas"
   ]
  },
  {
   "cell_type": "code",
   "execution_count": null,
   "id": "31bc8387",
   "metadata": {},
   "outputs": [],
   "source": [
    "import pandas as pd"
   ]
  },
  {
   "cell_type": "code",
   "execution_count": null,
   "id": "b4aa57bd",
   "metadata": {},
   "outputs": [],
   "source": [
    "filepath = \"enso_data.csv\"\n",
    "df = pd.read_csv(filepath)"
   ]
  },
  {
   "cell_type": "code",
   "execution_count": null,
   "id": "6b28e0bc",
   "metadata": {},
   "outputs": [],
   "source": [
    "df = pd.read_csv(filepath, index_col=0, parse_dates=True)\n",
    "df_enso=df.tail(5)\n",
    "df_enso = df_enso[['Nino12','Nino3','Nino4']]"
   ]
  },
  {
   "cell_type": "markdown",
   "id": "f879faf9",
   "metadata": {},
   "source": [
    "## Given the following DataFrame:"
   ]
  },
  {
   "cell_type": "code",
   "execution_count": null,
   "id": "78fe425f",
   "metadata": {},
   "outputs": [],
   "source": [
    "df_enso"
   ]
  },
  {
   "cell_type": "markdown",
   "id": "db1ba0bb",
   "metadata": {},
   "source": [
    "Write down the numerical values that would be printed for each of the following statements:"
   ]
  },
  {
   "cell_type": "code",
   "execution_count": null,
   "id": "814ae7ae",
   "metadata": {},
   "outputs": [],
   "source": [
    "df_enso.loc['2021-02-01']"
   ]
  },
  {
   "cell_type": "code",
   "execution_count": null,
   "id": "dec1b43b",
   "metadata": {},
   "outputs": [],
   "source": [
    "df_enso['Nino3']['2021-03-01']"
   ]
  },
  {
   "cell_type": "code",
   "execution_count": null,
   "id": "403f6915",
   "metadata": {},
   "outputs": [],
   "source": [
    "df_enso.columns"
   ]
  },
  {
   "cell_type": "code",
   "execution_count": null,
   "id": "9a9040f6",
   "metadata": {},
   "outputs": [],
   "source": [
    "df_enso.iloc[4,2]"
   ]
  }
 ],
 "metadata": {
  "kernelspec": {
   "display_name": "Python 3 (ipykernel)",
   "language": "python",
   "name": "python3"
  }
 },
 "nbformat": 4,
 "nbformat_minor": 5
}
