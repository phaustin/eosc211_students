{
 "cells": [
  {
   "cell_type": "markdown",
   "id": "45a080e5",
   "metadata": {},
   "source": [
    "- **Name:**\n",
    "- **Student number:**"
   ]
  },
  {
   "cell_type": "markdown",
   "id": "986a0372",
   "metadata": {},
   "source": [
    "**Instructions**:  Only one question this week"
   ]
  },
  {
   "cell_type": "markdown",
   "id": "ffadc121",
   "metadata": {},
   "source": [
    "# Week 7 quiz"
   ]
  },
  {
   "cell_type": "markdown",
   "id": "77bc66cb",
   "metadata": {},
   "source": [
    "## Q1  Find the bugs\n",
    "\n",
    "\n",
    "**This cell is supposed to find local minimums in the input time series, i.e. points that have values less than their neighbours on either side, and return their indices in `x`. But it has some bugs in it. Explain what they are and fix them.**"
   ]
  },
  {
   "cell_type": "markdown",
   "id": "14a27afd",
   "metadata": {},
   "source": [
    "```python\n",
    "# fix this code\n",
    "# y is a 1x100 array given as input\n",
    "a = np.linspace(0,4*np.pi,100)\n",
    "y = np.sin(a)\n",
    "k = 0\n",
    "while k < 100:\n",
    "    if y[k] < y[k + 1] and y[k] > y[k - 1]:\n",
    "        x[k] = k\n",
    "    k = k - 1\n",
    "```"
   ]
  }
 ],
 "metadata": {
  "jupytext": {
   "cell_metadata_filter": "all",
   "formats": "ipynb,md:myst",
   "notebook_metadata_filter": "all"
  },
  "kernelspec": {
   "display_name": "Python 3 (ipykernel)",
   "language": "python",
   "name": "python3"
  },
  "language_info": {
   "codemirror_mode": {
    "name": "ipython",
    "version": 3
   },
   "file_extension": ".py",
   "mimetype": "text/x-python",
   "name": "python",
   "nbconvert_exporter": "python",
   "pygments_lexer": "ipython3",
   "version": "3.8.10"
  }
 },
 "nbformat": 4,
 "nbformat_minor": 5
}
