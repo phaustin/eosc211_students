{
 "cells": [
  {
   "cell_type": "markdown",
   "metadata": {},
   "source": [
    "# Day 10 practice quiz questions"
   ]
  },
  {
   "cell_type": "raw",
   "metadata": {},
   "source": [
    "\\pagestyle{headers}"
   ]
  },
  {
   "cell_type": "markdown",
   "metadata": {
    "lines_to_next_cell": 0
   },
   "source": [
    "## Q1 \n",
    "\n",
    "Referring to the following figure, if there was no vertical\n",
    "convection (Thermals + Evapo-transpiration) to move heat away from\n",
    "the surface, the surface would begin to warm. How much warmer would\n",
    "the surface of the Earth need to be to restore balance by radiation\n",
    "alone? Assume the Earth is a perfect blackbody with an emissivity of\n",
    "1 and all the other fluxes stay the same. Choose the nearest answer.\n",
    "\n",
    "<!-- <img src=\"media/image1.png\" width=\"50%\" /> -->\n",
    "![Figure 1](media_resize/image1.png)\n",
    "\n",
    "1.  5 K\n",
    "\n",
    "2.  11 K\n",
    "\n",
    "3.  16 K\n",
    "\n",
    "4.  21 K\n",
    "\n",
    "5.  26 K\n"
   ]
  },
  {
   "cell_type": "markdown",
   "metadata": {},
   "source": [
    "Solution -- in the drawing, the surface is emitting 396 $W\\,m^{-2}$.\n",
    "\n",
    "\\begin{align}\n",
    "\\sigma T_{orig}^4 &= 396\\ W\\,m^{-2} \\\\\n",
    "T_{orig} &= (396/\\sigma)^{1/4} = 289\\ K\n",
    "\\end{align}\n",
    "\n",
    "The surface will be unable to shed 80 + 17 = 97 $W\\,m^{-2}$\n",
    "that would have been taken away by thermals plus evaporation.  That means\n",
    "that the only way to cool is by increasing the longwave upward flux from\n",
    "396 $W\\,m^{-2}$ to 396 + 97 = 493 $W\\,m^{-2}$.  This means that the black\n",
    "surface temperature will need to rise to a value that satisfies:\n",
    "\n",
    "\\begin{align}\n",
    "\\sigma T_{new}^4 &= 493\\ W\\,m^{-2} \\\\\n",
    "T_{new} &= (493/\\sigma)^{1/4} = 305\\ K\n",
    "\\end{align}\n",
    "\n",
    "Double check with python:"
   ]
  },
  {
   "cell_type": "code",
   "execution_count": 1,
   "metadata": {},
   "outputs": [
    {
     "name": "stdout",
     "output_type": "stream",
     "text": [
      "the surface temperature has to rise from 289.0866468789842 K\n",
      "to 305.36268462298347 K, or 16.276037743999268 degrees\n"
     ]
    }
   ],
   "source": [
    "sigma = 5.67e-8\n",
    "orig_temp = (396/sigma)**0.25\n",
    "new_temp = (493/sigma)**0.25\n",
    "diff_temp = new_temp - orig_temp\n",
    "print((f\"the surface temperature has to rise from {orig_temp} K\\n\"\n",
    "       f\"to {new_temp} K, or {diff_temp} degrees\"))"
   ]
  },
  {
   "cell_type": "code",
   "execution_count": 2,
   "metadata": {},
   "outputs": [
    {
     "data": {
      "text/plain": [
       "6.875"
      ]
     },
     "execution_count": 2,
     "metadata": {},
     "output_type": "execute_result"
    }
   ],
   "source": [
    "110/16"
   ]
  },
  {
   "cell_type": "markdown",
   "metadata": {
    "lines_to_next_cell": 0
   },
   "source": [
    "\n",
    "## Q2\n",
    "\n",
    "What is the lapse rate of the troposphere in the following figure\n",
    "    (below Question \\#3)? Choose the closest answer.\n",
    "\n",
    "   a.  -6 $K\\,km^{-1}$\n",
    "   \n",
    "   b.  6 $K\\,km^{-1}$\n",
    "   \n",
    "   c.  -15 $K\\,km^{-1}$\n",
    "   \n",
    "   d.  15 $K\\,km^{-1}$\n",
    "   \n",
    "   e.  -30 $K\\,km^{-1}$\n",
    "   \n",
    "   f.  30 $K\\,km^{-1}$\n"
   ]
  },
  {
   "cell_type": "markdown",
   "metadata": {},
   "source": [
    "Solution: a) It's dropping from about 300 K to 195 K over 16 km, which is \n",
    "about -6.5 K/km.\n",
    "\n",
    "python check:"
   ]
  },
  {
   "cell_type": "code",
   "execution_count": 3,
   "metadata": {},
   "outputs": [
    {
     "data": {
      "text/plain": [
       "-6.5625"
      ]
     },
     "execution_count": 3,
     "metadata": {},
     "output_type": "execute_result"
    }
   ],
   "source": [
    "(195 - 300)/16."
   ]
  },
  {
   "cell_type": "markdown",
   "metadata": {
    "lines_to_next_cell": 0
   },
   "source": [
    "\n",
    "## Q3  \n",
    "\n",
    "What is the lapse rate of the stratosphere in the following figure?\n",
    "    Choose the closest answer.\n",
    "\n",
    "   a.  -1$K\\,km^{-1}$\n",
    "   \n",
    "   b.  2 $K\\,km^{-1}$\n",
    "   \n",
    "   c.  4 $K\\,km^{-1}$\n",
    "   \n",
    "   d.  -5 $K\\,km^{-1}$\n",
    "   \n",
    "   e.  5 $K\\,km^{-1}$  \n",
    "        \n",
    "        \n",
    "<!-- <img src=\"media_resize/image2.png\" width=\"40%\" /> -->\n",
    "\n",
    "![Figure 2](media_resize/image2.png)\n"
   ]
  },
  {
   "cell_type": "markdown",
   "metadata": {},
   "source": [
    "Solution: b) the temperature increases from about 195 K to 270 K betweed 16 and 50 km.\n",
    "\n",
    "check with python"
   ]
  },
  {
   "cell_type": "code",
   "execution_count": 4,
   "metadata": {},
   "outputs": [
    {
     "data": {
      "text/plain": [
       "2.2058823529411766"
      ]
     },
     "execution_count": 4,
     "metadata": {},
     "output_type": "execute_result"
    }
   ],
   "source": [
    "(270 - 195)/(50-  16)"
   ]
  },
  {
   "cell_type": "markdown",
   "metadata": {
    "lines_to_next_cell": 0
   },
   "source": [
    "## Q4\n",
    "\n",
    " In the readings we defined the moist static energy $h_m$ as the sum of the\n",
    " thermal energy, the potential energy, and the energy required to\n",
    " evaporate water vapor:\n",
    " \n",
    "\\begin{equation}\n",
    " h_m = c_p T + l_v w_v + gz\n",
    "\\end{equation}\n",
    "\n",
    "with units of Joules/kg. The constant $l_{v}$ is the energy\n",
    "required to evaporate 1 kg of water, which is $l_{v}= 2.5 x 10^{6}\\ J/kg$\n",
    "(the enthalpy of evaporation) and this energy is\n",
    "released into the air when water vapour condenses to liquid.\n",
    "\n",
    "Suppose you have 1 kg of air and 15 grams/kg of vapour at a temperature\n",
    "of 300 K and at the surface (z=0) that you lift 3000 meters, condensing\n",
    "out $w_{v}$ = 3.8 grams/kg of vapour but keeping $h_{m}$\n",
    "constant. What is the temperature of the parcel after this happens?\n",
    "\n",
    "a.  255 K\n",
    "\n",
    "b.  260 K\n",
    "\n",
    "c.  265 K\n",
    "\n",
    "d.  270 K\n",
    "\n",
    "e.  280 K\n",
    "\n",
    "Solution e=280 K, \n",
    "\n",
    "Since $\\Delta h_m$=0, then $\\Delta T = (-l_v \\Delta w_v - g \\Delta z)/c_p$\n",
    "\n",
    "putting in the numbers gives $\\Delta T$ = -20 K.  \n",
    "\n",
    "Check with python:"
   ]
  },
  {
   "cell_type": "code",
   "execution_count": 5,
   "metadata": {},
   "outputs": [
    {
     "name": "stdout",
     "output_type": "stream",
     "text": [
      "ΔΤ is -19.820717131474108 degrees\n"
     ]
    }
   ],
   "source": [
    "lv = 2.5e6\n",
    "cp = 1004.\n",
    "g = 9.8\n",
    "delz = 3000.\n",
    "delwv = -3.8e-3\n",
    "delT = (-lv*delwv - g*delz)/cp\n",
    "print(f\"ΔΤ is {delT} degrees\")"
   ]
  },
  {
   "cell_type": "markdown",
   "metadata": {},
   "source": [
    "## Q5\n",
    "\n",
    "A cloud with ε=1 in the longwave sits at an altitude of 4 km above\n",
    "the ocean, which is also black in the longwave and has a sea surface\n",
    "temperature of 290 K. If the atmospheric lapse rate between 0 and 4\n",
    "km is Γ= -7 K/km, what is the greenhouse effect GH=($I_{4\\ km}$\n",
    "– $I_{surface}$) of the cloud? Choose the closest answer.\n",
    "\n",
    "\n",
    "\n",
    "a.  0 $W\\,m^{-2}$\n",
    "\n",
    "b.  100 $W\\,m^{-2}$\n",
    "\n",
    "c.  150 $W\\,m^{-2}$\n",
    "\n",
    "d.  200 $W\\,m^{-2}$\n",
    "\n",
    "e.  250 $W\\,m^{2}$\n",
    "\n",
    "Solution:  c) 150 $W\\,m^{2}$.  This is the difference between the cloud flux\n",
    "of -267 $W\\,m^{-2}$ and the surface flux of -401 $W\\,m^{-2}$"
   ]
  },
  {
   "cell_type": "code",
   "execution_count": 6,
   "metadata": {},
   "outputs": [
    {
     "name": "stdout",
     "output_type": "stream",
     "text": [
      "Icloud is -267.1703283312 W/m^2, Isfc is -401.028327 W/m^2\n",
      "So greenhouse effect is 133.8579986688 W/m^2\n"
     ]
    }
   ],
   "source": [
    "Tcloud = 290 - 4.*7\n",
    "Icloud = -sigma*Tcloud**4.\n",
    "Isfc = -sigma*290**4.\n",
    "print((f\"Icloud is {Icloud} W/m^2, Isfc is {Isfc} W/m^2\\n\"\n",
    "       f\"So greenhouse effect is {Icloud - Isfc} W/m^2\"))"
   ]
  }
 ],
 "metadata": {
  "jupytext": {
   "cell_metadata_filter": "all",
   "encoding": "# -*- coding: utf-8 -*-",
   "notebook_metadata_filter": "all,-language_info",
   "text_representation": {
    "extension": ".py",
    "format_name": "percent",
    "format_version": "1.2",
    "jupytext_version": "1.2.4"
   }
  },
  "kernelspec": {
   "display_name": "Python 3 (ipykernel)",
   "language": "python",
   "name": "python3"
  },
  "language_info": {
   "codemirror_mode": {
    "name": "ipython",
    "version": 3
   },
   "file_extension": ".py",
   "mimetype": "text/x-python",
   "name": "python",
   "nbconvert_exporter": "python",
   "pygments_lexer": "ipython3",
   "version": "3.8.10"
  },
  "latex_envs": {
   "LaTeX_envs_menu_present": true,
   "autoclose": false,
   "autocomplete": true,
   "bibliofile": "biblio.bib",
   "cite_by": "apalike",
   "current_citInitial": 1,
   "eqLabelWithNumbers": true,
   "eqNumInitial": 1,
   "hotkeys": {
    "equation": "meta-9"
   },
   "labels_anchors": false,
   "latex_user_defs": false,
   "report_style_numbering": false,
   "user_envs_cfg": false
  },
  "latex_metadata": {
   "chead": "Day 10 quiz solutions",
   "lhead": "EOSC 340"
  },
  "toc": {
   "base_numbering": 1,
   "nav_menu": {},
   "number_sections": false,
   "sideBar": false,
   "skip_h1_title": false,
   "title_cell": "Table of Contents",
   "title_sidebar": "Contents",
   "toc_cell": false,
   "toc_position": {},
   "toc_section_display": false,
   "toc_window_display": false
  }
 },
 "nbformat": 4,
 "nbformat_minor": 2
}
