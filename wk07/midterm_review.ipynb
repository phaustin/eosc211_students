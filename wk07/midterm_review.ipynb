{
 "cells": [
  {
   "cell_type": "markdown",
   "id": "f9129883",
   "metadata": {},
   "source": [
    "# Midterm Review\n",
    "\n",
    "## EOSC 211\n",
    "\n",
    "**Week 7 Day 1**"
   ]
  },
  {
   "cell_type": "code",
   "execution_count": null,
   "id": "804a10b4",
   "metadata": {},
   "outputs": [],
   "source": [
    "import numpy as np"
   ]
  },
  {
   "cell_type": "markdown",
   "id": "95ec925b",
   "metadata": {},
   "source": [
    "## Question 1\n",
    "\n",
    "**If  `a = np.array([7, 6, 5, 4, 3, 2, 1])`, what would be the values of  `b` and `c` if:** \n",
    "\n",
    "`b = a[1:-1:2]`\n",
    "\n",
    "`c = [a / 2]`\n",
    "\n",
    "**Determine the output as well as the data type of the output**"
   ]
  },
  {
   "cell_type": "code",
   "execution_count": null,
   "id": "412774f3",
   "metadata": {},
   "outputs": [],
   "source": [
    "# your code here"
   ]
  },
  {
   "cell_type": "markdown",
   "id": "873b9288",
   "metadata": {},
   "source": [
    "## Question 2\n",
    "\n",
    "**What is the result of the following expressions?**\n",
    "\n",
    "**A)** `6 == 2 + 3 * 1`\n",
    "\n",
    "**B)** `14 > np.arange(6,2,-1) * 3 + 1`\n",
    "\n",
    "**C)** `3 ** 0 / 4 - -3 / np.array([4, 3])`"
   ]
  },
  {
   "cell_type": "code",
   "execution_count": null,
   "id": "2a817360",
   "metadata": {},
   "outputs": [],
   "source": [
    "# your code here"
   ]
  },
  {
   "cell_type": "markdown",
   "id": "c2dbd027",
   "metadata": {},
   "source": [
    "## Question 3\n",
    "\n",
    "**This cell is supposed to loop through a dataset and find values of -999 (often used for \"no data\", or \"error\".) and flag the times at which the bad measurement occured. Find and correct 4 bugs to make it run correctly.**"
   ]
  },
  {
   "cell_type": "markdown",
   "id": "db30e447",
   "metadata": {},
   "source": [
    "```python\n",
    "# fix this code\n",
    "meas = np.array([-999, -999, 2, 16, 3, 4, 4, 4, -999, 31, 4, 5, -999]) \n",
    "time = np.arange(0,len(meas) * 60,60)  # seconds\n",
    "\n",
    "print(\"measurements: {meas}\")\n",
    "print(\"time recorded: {time}\")\n",
    "\n",
    "print(\"bad data recorded at times:\")\n",
    "for i in range(len(meas)):\n",
    "    if meas[j] = -999:\n",
    "        print(time[i])\n",
    "```"
   ]
  },
  {
   "cell_type": "code",
   "execution_count": null,
   "id": "21efb818",
   "metadata": {},
   "outputs": [],
   "source": [
    "# your code here`"
   ]
  }
 ],
 "metadata": {
  "jupytext": {
   "formats": "ipynb,md:myst"
  },
  "kernelspec": {
   "display_name": "Python 3 (ipykernel)",
   "language": "python",
   "name": "python3"
  },
  "language_info": {
   "codemirror_mode": {
    "name": "ipython",
    "version": 3
   },
   "file_extension": ".py",
   "mimetype": "text/x-python",
   "name": "python",
   "nbconvert_exporter": "python",
   "pygments_lexer": "ipython3",
   "version": "3.8.12"
  }
 },
 "nbformat": 4,
 "nbformat_minor": 5
}
