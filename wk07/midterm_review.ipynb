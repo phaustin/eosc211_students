{
 "cells": [
  {
   "cell_type": "markdown",
<<<<<<< HEAD
   "id": "f9129883",
=======
   "id": "5d96e8ae",
>>>>>>> 3cc5b74 (answers)
   "metadata": {},
   "source": [
    "# Midterm Review\n",
    "\n",
    "## EOSC 211\n",
    "\n",
    "**Week 7 Day 1**"
   ]
  },
  {
<<<<<<< HEAD
   "cell_type": "code",
   "execution_count": null,
   "id": "804a10b4",
   "metadata": {},
   "outputs": [],
   "source": [
    "import numpy as np"
   ]
  },
  {
   "cell_type": "markdown",
   "id": "95ec925b",
=======
   "cell_type": "markdown",
   "id": "6ec1b4ad",
>>>>>>> 3cc5b74 (answers)
   "metadata": {},
   "source": [
    "## Question 1\n",
    "\n",
<<<<<<< HEAD
    "**If  `a = np.array([7, 6, 5, 4, 3, 2, 1])`, what would be the values of  `b` and `c` if:** \n",
    "\n",
    "`b = a[1:-1:2]`\n",
    "\n",
    "`c = [a / 2]`\n",
    "\n",
=======
    "**If  `a = np.array([7, 6, 5, 4, 3, 2, 1])`, what would be the values of  `b`, `c`, `d`, and `e` if:** \n",
    "\n",
    "\n",
    "`b = a[1:3:7]`\n",
    "\n",
    "`c = [a / 2]`\n",
    "\n",
    "`d = a[1:2] @ a[5:6]`\n",
    "\n",
    "`e = np.array([[1, 1],[2, 2]]) @ np.array([a[0:2],a[1:3]])`\n",
    "\n",
>>>>>>> 3cc5b74 (answers)
    "**Determine the output as well as the data type of the output**"
   ]
  },
  {
   "cell_type": "code",
   "execution_count": null,
<<<<<<< HEAD
   "id": "412774f3",
=======
   "id": "3a69ee79",
>>>>>>> 3cc5b74 (answers)
   "metadata": {},
   "outputs": [],
   "source": [
    "# your code here"
   ]
  },
  {
<<<<<<< HEAD
   "cell_type": "markdown",
   "id": "873b9288",
=======
   "cell_type": "code",
   "execution_count": null,
   "id": "a6c1fc21",
   "metadata": {},
   "outputs": [],
   "source": [
    "# andrew's soln\n",
    "import numpy as np\n",
    "\n",
    "a = np.array([7, 6, 5, 4, 3, 2, 1])\n",
    "b = a[1:3:7]\n",
    "c = [a / 2]\n",
    "d = a[1:2] @ a[5:6]\n",
    "e = np.array([[1, 1], [2, 2]]) @ np.array([a[0:2], a[1:3]])\n",
    "for i in [a, b, c, d, e]:\n",
    "    print(i, type(i))"
   ]
  },
  {
   "cell_type": "markdown",
   "id": "472b4b2c",
>>>>>>> 3cc5b74 (answers)
   "metadata": {},
   "source": [
    "## Question 2\n",
    "\n",
    "**What is the result of the following expressions?**\n",
    "\n",
    "**A)** `6 == 2 + 3 * 1`\n",
    "\n",
    "**B)** `14 > np.arange(6,2,-1) * 3 + 1`\n",
    "\n",
    "**C)** `3 ** 0 / 4 - -3 / np.array([4, 3])`"
   ]
  },
  {
   "cell_type": "code",
   "execution_count": null,
<<<<<<< HEAD
   "id": "2a817360",
=======
   "id": "8d337f70",
>>>>>>> 3cc5b74 (answers)
   "metadata": {},
   "outputs": [],
   "source": [
    "# your code here"
   ]
  },
  {
<<<<<<< HEAD
   "cell_type": "markdown",
   "id": "c2dbd027",
=======
   "cell_type": "code",
   "execution_count": null,
   "id": "113a5606",
   "metadata": {},
   "outputs": [],
   "source": [
    "# andrew's soln\n",
    "a = 6 == 2 + 3 * 1\n",
    "b = 14 > np.arange(6,2,-1) * 3 + 1\n",
    "c = 3 ** 0 / 4 - -3 / np.array([4, 3])\n",
    "\n",
    "[print(letter) for letter in [a,b,c]]\n",
    "\n",
    "## this is too easy?"
   ]
  },
  {
   "cell_type": "markdown",
   "id": "4a53ffe3",
>>>>>>> 3cc5b74 (answers)
   "metadata": {},
   "source": [
    "## Question 3\n",
    "\n",
<<<<<<< HEAD
    "**This cell is supposed to loop through a dataset and find values of -999 (often used for \"no data\", or \"error\".) and flag the times at which the bad measurement occured. Find and correct 4 bugs to make it run correctly.**"
=======
    "**This cell is supposed to find local minimums in the input time series, i.e. points that have values less than their neighbours on either side, and return their indices in `x`. But it has some bugs in it. Explain what they are and fix them.**"
>>>>>>> 3cc5b74 (answers)
   ]
  },
  {
   "cell_type": "markdown",
<<<<<<< HEAD
   "id": "db30e447",
=======
   "id": "5928d7ad",
>>>>>>> 3cc5b74 (answers)
   "metadata": {},
   "source": [
    "```python\n",
    "# fix this code\n",
<<<<<<< HEAD
    "meas = np.array([-999, -999, 2, 16, 3, 4, 4, 4, -999, 31, 4, 5, -999]) \n",
    "time = np.arange(0,len(meas) * 60,60)  # seconds\n",
    "\n",
    "print(\"measurements: {meas}\")\n",
    "print(\"time recorded: {time}\")\n",
    "\n",
    "print(\"bad data recorded at times:\")\n",
    "for i in range(len(meas)):\n",
    "    if meas[j] = -999:\n",
    "        print(time[i])\n",
=======
    "# y is a 1x100 array given as input\n",
    "a = np.linspace(0,4*np.pi,100)\n",
    "y = np.sin(a)\n",
    "k = 0\n",
    "while k < 100:\n",
    "    if y[k] < y[k + 1] and y[k] > y[k - 1]:\n",
    "        x[k] = k\n",
    "    k = k - 1\n",
>>>>>>> 3cc5b74 (answers)
    "```"
   ]
  },
  {
   "cell_type": "code",
   "execution_count": null,
<<<<<<< HEAD
   "id": "21efb818",
   "metadata": {},
   "outputs": [],
   "source": [
    "# your code here`"
=======
   "id": "74fadd89",
   "metadata": {},
   "outputs": [],
   "source": [
    "# andrew's soln\n",
    "a = np.linspace(0,4 * np.pi,100)\n",
    "y = np.sin(a)\n",
    "x = np.array([]) # we need to create an empty array to add to\n",
    "k = 1 # since we need to reference k-1, start at the second element of the array and end at the second last\n",
    "while k < len(y)-1: # this is better than hardcoding the limits for k. what if y changes?\n",
    "    if y[k] < y[k+1] and y[k] < y[k-1]:\n",
    "        x = np.append(x,k) \n",
    "    k += 1 # iterate forward, not backward\n",
    "\n",
    "print(x)"
>>>>>>> 3cc5b74 (answers)
   ]
  }
 ],
 "metadata": {
  "jupytext": {
<<<<<<< HEAD
   "formats": "ipynb,md:myst"
=======
   "cell_metadata_filter": "all",
   "formats": "ipynb,md:myst,py:percent",
   "notebook_metadata_filter": "all,-language_info,-toc,-latex_envs",
   "text_representation": {
    "extension": ".md",
    "format_name": "myst",
    "format_version": 0.13,
    "jupytext_version": "1.10.3"
   }
>>>>>>> 3cc5b74 (answers)
  },
  "kernelspec": {
   "display_name": "Python 3 (ipykernel)",
   "language": "python",
   "name": "python3"
  },
  "language_info": {
   "codemirror_mode": {
    "name": "ipython",
    "version": 3
   },
   "file_extension": ".py",
   "mimetype": "text/x-python",
   "name": "python",
   "nbconvert_exporter": "python",
   "pygments_lexer": "ipython3",
<<<<<<< HEAD
   "version": "3.8.12"
=======
   "version": "3.8.10"
>>>>>>> 3cc5b74 (answers)
  }
 },
 "nbformat": 4,
 "nbformat_minor": 5
}
