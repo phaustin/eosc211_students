{
 "cells": [
  {
   "cell_type": "markdown",
   "id": "2a5100ef",
   "metadata": {},
   "source": [
    "- **Name:**\n",
    "- **Student number:**\n",
    "- **Group number:**"
   ]
  },
  {
   "cell_type": "markdown",
   "id": "b724d856",
   "metadata": {},
   "source": [
    "**Instructions**:  Answer all four questions"
   ]
  },
  {
   "cell_type": "markdown",
   "id": "860391c8",
   "metadata": {},
   "source": [
    "## Q1)  What does the following cell print?"
   ]
  },
  {
   "cell_type": "markdown",
   "id": "cabdbbe2",
   "metadata": {},
   "source": [
    "``` python\n",
    "for the_name in ['tom','lisa','joey','steph']:\n",
    "    print(the_name)\n",
    "    if the_name == 'joey':\n",
    "        break\n",
    "```\n",
    "\n",
    "$~$\n",
    "\n",
    "$~$\n",
    "\n",
    "$~$\n",
    "\n",
    "$~$\n",
    "\n",
    "$~$"
   ]
  },
  {
   "cell_type": "markdown",
   "id": "6cf8c51d",
   "metadata": {},
   "source": [
    "## Q2) What does the following cell print?"
   ]
  },
  {
   "cell_type": "markdown",
   "id": "0376c630",
   "metadata": {},
   "source": [
    "``` python\n",
    "for icount in range(3):\n",
    "    jcount = 0\n",
    "    while jcount < 2*icount:\n",
    "        print(icount,jcount)\n",
    "        jcount = jcount + 1\n",
    "```\n",
    "\n",
    "\n",
    "\n",
    "$~$\n",
    "\n",
    "$~$\n",
    "\n",
    "$~$\n",
    "\n",
    "$~$\n",
    "\n",
    "$~$"
   ]
  },
  {
   "cell_type": "markdown",
   "id": "ec614fd9",
   "metadata": {},
   "source": [
    "## Q3) Provide code that does the following\n",
    "\n",
    "Use a while loop to print all numbers between 0 and 20 (inclusive) that\n",
    "are divisible by 5"
   ]
  }
 ],
 "metadata": {
  "celltoolbar": "Create Assignment",
  "jupytext": {
   "cell_metadata_filter": "all",
   "formats": "ipynb,md:myst",
   "notebook_metadata_filter": "all"
  },
  "kernelspec": {
   "display_name": "Python 3 (ipykernel)",
   "language": "python",
   "name": "python3"
  },
  "language_info": {
   "codemirror_mode": {
    "name": "ipython",
    "version": 3
   },
   "file_extension": ".py",
   "mimetype": "text/x-python",
   "name": "python",
   "nbconvert_exporter": "python",
   "pygments_lexer": "ipython3",
   "version": "3.8.12"
  }
 },
 "nbformat": 4,
 "nbformat_minor": 5
}
