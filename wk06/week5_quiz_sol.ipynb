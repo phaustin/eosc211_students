{
 "cells": [
  {
   "cell_type": "markdown",
   "id": "ab444506",
   "metadata": {},
   "source": [
    "- **Name:**\n",
    "- **Student number:**"
   ]
  },
  {
   "cell_type": "markdown",
   "id": "c1c7468b",
   "metadata": {},
   "source": [
    "**Instructions**:  Answer all three questions"
   ]
  },
  {
   "cell_type": "markdown",
   "id": "14c27b5b",
   "metadata": {},
   "source": [
    "## Q1  What does the following cell print?"
   ]
  },
  {
   "cell_type": "code",
   "execution_count": null,
   "id": "8a9380c9",
   "metadata": {},
   "outputs": [],
   "source": [
    "for the_name in ['tom','lisa','joey','steph']:\n",
    "    print(the_name)\n",
    "    if the_name == 'joey':\n",
    "        break"
   ]
  },
  {
   "cell_type": "markdown",
   "id": "9c790f8d",
   "metadata": {},
   "source": [
    "## Q2 What does the following cell print?"
   ]
  },
  {
   "cell_type": "code",
   "execution_count": null,
   "id": "6447aad8",
   "metadata": {},
   "outputs": [],
   "source": [
    "a = -1\n",
    "while https://phaustin.github.io/eosc211_students/syllabus/worksheet_steps_in_problem_solving.htmla < 3:\n",
    "    a = a+1\n",
    "    print(a)"
   ]
  },
  {
   "cell_type": "markdown",
   "id": "2526b200",
   "metadata": {},
   "source": [
    "## Provide code that does the following\n",
    "\n",
    "Use a while loop to print all numbers between 0 and 20 (inclusive) that\n",
    "are divisible by 5"
   ]
  },
  {
   "cell_type": "code",
   "execution_count": null,
   "id": "5e108ba7",
   "metadata": {},
   "outputs": [],
   "source": [
    "counter = 0\n",
    "while counter <= 20:\n",
    "    if counter % 5 == 0:\n",
    "        print(counter)\n",
    "    counter = counter + 1"
   ]
  }
 ],
 "metadata": {
  "celltoolbar": "Create Assignment",
  "jupytext": {
   "cell_metadata_filter": "all",
   "formats": "ipynb,md:myst",
   "notebook_metadata_filter": "all"
  },
  "kernelspec": {
   "display_name": "Python 3 (ipykernel)",
   "language": "python",
   "name": "python3"
  },
  "language_info": {
   "codemirror_mode": {
    "name": "ipython",
    "version": 3
   },
   "file_extension": ".py",
   "mimetype": "text/x-python",
   "name": "python",
   "nbconvert_exporter": "python",
   "pygments_lexer": "ipython3",
   "version": "3.8.12"
  }
 },
 "nbformat": 4,
 "nbformat_minor": 5
}
