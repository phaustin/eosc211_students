{
 "cells": [
  {
   "cell_type": "markdown",
   "id": "9aeea2ff",
   "metadata": {},
   "source": [
    "# Loops -- Solution\n",
    "\n",
    "## EOSC 211\n",
    "\n",
    "**Week 6 Day 1**\n",
    "\n",
    "**Learning Objectives:**  \n",
    "1. Use for and while loops to do useful things\n",
    "2. Appreciate built in functions\n",
    "\n",
    "**Write Python code to solve the following problems.  Do not use any built-in functions (unless explicitly allowed).  It is really good practice to 'map out' your algorithm on paper/in your note-taking app first.  In other words, write what we call 'pseudo-code' or a flow chart.  This will almost always save you a LOT of time debugging later.**"
   ]
  },
  {
   "cell_type": "markdown",
   "id": "b65a2ec6",
   "metadata": {},
   "source": [
    "## Question 1\n",
    "\n",
    "**Use a loop to multiply together all the values in a numpy array `x`, which has n points. The final product goes into a variable `total`.**"
   ]
  },
  {
   "cell_type": "code",
   "execution_count": 1,
   "id": "e45db733",
   "metadata": {},
   "outputs": [],
   "source": [
    "# your code here"
   ]
  },
  {
   "cell_type": "code",
   "execution_count": 2,
   "id": "72937d51",
   "metadata": {},
   "outputs": [
    {
     "name": "stdout",
     "output_type": "stream",
     "text": [
      "540\n"
     ]
    }
   ],
   "source": [
    "# andrew's soln\n",
    "import numpy as np\n",
    "\n",
    "x = np.array([1,18,5,6]) # sample array for testing my code\n",
    "\n",
    "total = 1\n",
    "for num in x:\n",
    "    total *= num\n",
    "    \n",
    "print(total)"
   ]
  },
  {
   "cell_type": "markdown",
   "id": "9b3413d2",
   "metadata": {},
   "source": [
    "## Question 2\n",
    "\n",
    "**Use a loop to find the maximum (largest) value in `x`, writing the result into a variable `largest`.**"
   ]
  },
  {
   "cell_type": "code",
   "execution_count": 3,
   "id": "67c60b7b",
   "metadata": {},
   "outputs": [],
   "source": [
    "# your code here"
   ]
  },
  {
   "cell_type": "code",
   "execution_count": 4,
   "id": "6dd60c18",
   "metadata": {},
   "outputs": [
    {
     "name": "stdout",
     "output_type": "stream",
     "text": [
      "18\n"
     ]
    }
   ],
   "source": [
    "# andrew's soln\n",
    "largest = None\n",
    "for num in x:\n",
    "    if largest == None:\n",
    "        largest = num\n",
    "    else:\n",
    "        if num > largest:\n",
    "            largest = num\n",
    "print(largest)"
   ]
  },
  {
   "cell_type": "code",
   "execution_count": 5,
   "id": "3e0c4dc8",
   "metadata": {},
   "outputs": [
    {
     "name": "stdout",
     "output_type": "stream",
     "text": [
      "12.566370614359172\n"
     ]
    }
   ],
   "source": [
    "# catherine's solution:  I wanted to use numpy arrays not lists and replacing None by np.nan doesn't work\n",
    "\n",
    "import numpy as np\n",
    "\n",
    "x = np.arange(0,5*np.pi,np.pi)\n",
    "\n",
    "largest=-9999    # choose something you know is much less than any number in your array\n",
    "for num in x:\n",
    "    if num > largest:\n",
    "        largest = num\n",
    "            \n",
    "print(largest)"
   ]
  },
  {
   "cell_type": "code",
   "execution_count": 6,
   "id": "a7e6b8ca",
   "metadata": {},
   "outputs": [
    {
     "name": "stdout",
     "output_type": "stream",
     "text": [
      "largest before going into the loop is -inf\n",
      "largest value in x is 90\n"
     ]
    }
   ],
   "source": [
    "# catherine's second solution\n",
    "# this one because you might not always know what is likely to be the min number in your numpy array\n",
    "\n",
    "import numpy as np\n",
    "import sys\n",
    "\n",
    "x = np.arange(0,100,10)\n",
    "\n",
    "largest=float(\"-inf\")    # most negative float allowed: my x values all have to be larger than this.\n",
    "print(f'largest before going into the loop is {largest}')\n",
    "\n",
    "for num in x:\n",
    "    if num > largest:\n",
    "        largest = num\n",
    "            \n",
    "print(f'largest value in x is {largest}')"
   ]
  },
  {
   "cell_type": "markdown",
   "id": "dcde3264",
   "metadata": {},
   "source": [
    "## Question 3\n",
    "\n",
    "**Use a loop to count the number of values in a list `x` that appear before a 5. (i.e. if `x = [1, 12, 2.5, 5, 8, 4, 5]` we want  an answer of 3). Put this number into another variable `get_five`.**"
   ]
  },
  {
   "cell_type": "code",
   "execution_count": 7,
   "id": "67bee01d",
   "metadata": {},
   "outputs": [],
   "source": [
    "# your code here"
   ]
  },
  {
   "cell_type": "code",
   "execution_count": 8,
   "id": "e38d7bfe",
   "metadata": {},
   "outputs": [
    {
     "name": "stdout",
     "output_type": "stream",
     "text": [
      "3\n"
     ]
    }
   ],
   "source": [
    "# andrew's soln\n",
    "x = [1, 12, 2.5, 5, 8, 4, 5]\n",
    "\n",
    "get_five = 0\n",
    "while x[get_five] != 5:\n",
    "    get_five += 1\n",
    "\n",
    "print(get_five)"
   ]
  },
  {
   "cell_type": "markdown",
   "id": "a166e729",
   "metadata": {},
   "source": [
    "## Question 4\n",
    "\n",
    "**Consider an MxN array `A`.  Use a double loop to form a new 1xN array `rowsum`, the k$^{th}$ element of which contains the sum of elements in the k$^{th}$ column of `A`. You may use the built in functions `range()` and `len()`.**"
   ]
  },
  {
   "cell_type": "code",
   "execution_count": 9,
   "id": "8b342ef6",
   "metadata": {},
   "outputs": [],
   "source": [
    "# your code here"
   ]
  },
  {
   "cell_type": "code",
   "execution_count": 10,
   "id": "94a7b8d4",
   "metadata": {},
   "outputs": [
    {
     "name": "stdout",
     "output_type": "stream",
     "text": [
      "[6 4 9]\n"
     ]
    }
   ],
   "source": [
    "# andrew's soln\n",
    "A = np.array([[2,2,3],\n",
    "              [4,2,6]]) # test array\n",
    "\n",
    "rowsum = np.empty_like(A[0,:]) # initialize rowsum with the same number of columns as A\n",
    "for j in range(len(A[0,:])): # loop over columns\n",
    "    k = 0\n",
    "    for i in range(len(A[:,0])): # loop over rows\n",
    "        k += A[i,j] \n",
    "    rowsum[j] = k # assign k to rowsum\n",
    "        \n",
    "print(rowsum)"
   ]
  },
  {
   "cell_type": "code",
   "execution_count": 11,
   "id": "c7bf4489",
   "metadata": {
    "scrolled": true
   },
   "outputs": [
    {
     "name": "stdout",
     "output_type": "stream",
     "text": [
      "rowsum contains [6. 4. 9.] and has dimensions (3,)\n",
      "\n",
      "Can you see a subtle difference between the two solutions? See also loops_ii qn 3\n"
     ]
    }
   ],
   "source": [
    "# catherine's solution\n",
    "import numpy as np\n",
    "\n",
    "A = np.array([[2,2,3],\n",
    "              [4,2,6]]) # test array\n",
    "\n",
    "# If allowed, I would have used shape to get # rows and cols\n",
    "[mrows,ncols] = A.shape   # or [M,N] = shape(A) <-- use shape function with A as input or shape attribute of object A\n",
    "                          # mrows is same as len(A[:,0]), and ncols is same as len(A[0,:])\n",
    "\n",
    "rowsum = np.zeros(ncols)    # initialize rowsum to be a 1D array with N elements, all set to zero\n",
    "for j in range(ncols):\n",
    "    for i in range(mrows):\n",
    "        rowsum[j] += A[i,j]\n",
    "\n",
    "print(f'rowsum contains {rowsum} and has dimensions {rowsum.shape}')\n",
    "print(f'\\nCan you see a subtle difference between the two solutions? See also loops_ii qn 3')"
   ]
  },
  {
   "cell_type": "markdown",
   "id": "0833696c",
   "metadata": {},
   "source": [
    "## Exercise 5\n",
    "\n",
    "**A) Run the following cell. What is the output (describe in words)**"
   ]
  },
  {
   "cell_type": "code",
   "execution_count": 13,
   "id": "e82245b1",
   "metadata": {},
   "outputs": [
    {
     "name": "stdout",
     "output_type": "stream",
     "text": [
      "[   0    1    1    2    3    5    8   13   21   34   55   89  144  233\n",
      "  377  610  987 1597 2584 4181]\n"
     ]
    }
   ],
   "source": [
    "x = np.array([0, 1])\n",
    "for k in np.arange(2,20):\n",
    "    x = np.append(x, x[k-1] + x[k-2])\n",
    "print(x)"
   ]
  },
  {
   "cell_type": "markdown",
   "id": "21ac1e1a",
   "metadata": {},
   "source": [
    "your answer here"
   ]
  },
  {
   "cell_type": "markdown",
   "id": "54c1c9cf",
   "metadata": {},
   "source": [
    "**B) How many arrays have been created by the time the loop finishes? Is this code *efficient?* Why or why not?**"
   ]
  },
  {
   "cell_type": "markdown",
   "id": "84212967",
   "metadata": {},
   "source": [
    "just one"
   ]
  }
 ],
 "metadata": {
  "jupytext": {
   "cell_metadata_filter": "all",
   "formats": "ipynb,md:myst",
   "notebook_metadata_filter": "all,-language_info,-toc,-latex_envs",
   "text_representation": {
    "extension": ".md",
    "format_name": "myst",
    "format_version": 0.13,
    "jupytext_version": "1.11.4"
   }
  },
  "kernelspec": {
   "display_name": "Python 3 (ipykernel)",
   "language": "python",
   "name": "python3"
  },
  "language_info": {
   "codemirror_mode": {
    "name": "ipython",
    "version": 3
   },
   "file_extension": ".py",
   "mimetype": "text/x-python",
   "name": "python",
   "nbconvert_exporter": "python",
   "pygments_lexer": "ipython3",
   "version": "3.8.10"
  }
 },
 "nbformat": 4,
 "nbformat_minor": 5
}
