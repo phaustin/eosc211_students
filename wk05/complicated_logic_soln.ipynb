{
 "cells": [
  {
   "cell_type": "markdown",
   "id": "7294a1e1",
   "metadata": {},
   "source": [
    "# More Complicated Logic\n",
    "\n",
    "## EOSC 211\n",
    "\n",
    "**Week 5 Day 2**\n",
    "\n",
    "**Learning Objectives:**  \n",
    "1. Practice interpreting logical flow control \n",
    "2. Comment code to make it easier for humans to interpret"
   ]
  },
  {
   "cell_type": "markdown",
   "id": "ed8e8e86",
   "metadata": {},
   "source": [
    "## Question 1\n",
    "\n",
    "**What is the value of `z` after you execute this script? Remember that `A % b` returns the remainder of the floor division operation `A // b`. Add comments to explain what is happening at each step.**"
   ]
  },
  {
   "cell_type": "code",
   "execution_count": 1,
   "id": "691ace16",
   "metadata": {},
   "outputs": [],
   "source": [
    "x=4\n",
    "y=3\n",
    "\n",
    "if x % 2 == 0:\n",
    "    if x * y > 15:\n",
    "        z = 1\n",
    "    elif x * y > 10:\n",
    "        z = 2\n",
    "    elif x * y == 12:\n",
    "        z = 3\n",
    "else:\n",
    "    z=0"
   ]
  },
  {
   "cell_type": "code",
   "execution_count": 2,
   "id": "4f20c239",
   "metadata": {},
   "outputs": [
    {
     "name": "stdout",
     "output_type": "stream",
     "text": [
      "2\n"
     ]
    }
   ],
   "source": [
    "# andrew's soln\n",
    "\n",
    "# assign variables\n",
    "x=4\n",
    "y=3\n",
    "\n",
    "if x % 2 == 0: # check if x is even\n",
    "    if x * y > 15: \n",
    "        z = 1 # assign 1 to z if x*y is more than 15\n",
    "    elif x * y > 10:\n",
    "        z = 2 # assign 2 to z if x*y is less than 15 but more than 10\n",
    "    elif x * y == 12:\n",
    "        z = 3 # assign 3 to z if x*y is exactly 12\n",
    "else:\n",
    "    z=0 # if x is odd or x*y is not greater than 10, assign 0 to the variable z. \n",
    "    \n",
    "print(z)"
   ]
  },
  {
   "cell_type": "markdown",
   "id": "476f8dbc",
   "metadata": {},
   "source": [
    "## Question 2\n",
    "\n",
    "**What is the value of z after you execute this script? Add comments to the code**"
   ]
  },
  {
   "cell_type": "code",
   "execution_count": 3,
   "id": "62dc0441",
   "metadata": {},
   "outputs": [],
   "source": [
    "x = 4\n",
    "y = 3\n",
    "\n",
    "if x % 2 != 0:\n",
    "    if x * y == 12:\n",
    "        z = 3\n",
    "else:\n",
    "    z = 0"
   ]
  },
  {
   "cell_type": "code",
   "execution_count": 4,
   "id": "423ad495",
   "metadata": {},
   "outputs": [
    {
     "name": "stdout",
     "output_type": "stream",
     "text": [
      "0\n"
     ]
    }
   ],
   "source": [
    "# andrew's soln\n",
    "\n",
    "# assign variables\n",
    "x = 4\n",
    "y = 3\n",
    "\n",
    "if x % 2 != 0:  # check if x is odd\n",
    "    if x * y == 12:\n",
    "        z = 3  # assign 3 to z if x is odd and x*y is exactly 12\n",
    "else:\n",
    "    z = 0  # for all other possibilities, assign 0 to z\n",
    "\n",
    "print(z)"
   ]
  },
  {
   "cell_type": "markdown",
   "id": "555418d0",
   "metadata": {},
   "source": [
    "## Question 3\n",
    "\n",
    "**What is the value of z after executing this script? Add comments to the code**"
   ]
  },
  {
   "cell_type": "code",
   "execution_count": 5,
   "id": "db0ea3a1",
   "metadata": {},
   "outputs": [],
   "source": [
    "x = -2\n",
    "y = 3\n",
    "\n",
    "if -4 < x < -1:\n",
    "    z = x ** 2 / 2\n",
    "elif -4 < x and x < -1:\n",
    "    z = -x * y ** 2\n",
    "    if z > 18:\n",
    "        z = 0 * z"
   ]
  },
  {
   "cell_type": "code",
   "execution_count": 6,
   "id": "3132aa18",
   "metadata": {},
   "outputs": [
    {
     "name": "stdout",
     "output_type": "stream",
     "text": [
      "2.0\n"
     ]
    }
   ],
   "source": [
    "# andrew's soln\n",
    "\n",
    "# assign variables\n",
    "x = -2\n",
    "y = 3\n",
    "\n",
    "if -4 < x < -1:  # check if x is between -4 and -1\n",
    "    z = x ** 2 / 2  # assign half x squared to variable z\n",
    "elif -4 < x and x < -1:  # also check if x is between -4 and -1\n",
    "    z = -x * y ** 2  # assign negative x times y squared to z\n",
    "    if z > 18:\n",
    "        z = 0 * z  # z is greater than 18, replace the value of z with 0\n",
    "print(z)"
   ]
  },
  {
   "cell_type": "markdown",
   "id": "268d99e8",
   "metadata": {},
   "source": [
    "**What is `z` after executing this script? What does this script do (in in 4 or 5 words)?**"
   ]
  },
  {
   "cell_type": "code",
   "execution_count": 7,
   "id": "921a24ae",
   "metadata": {},
   "outputs": [],
   "source": [
    "x = [5, 3, 1, 2]\n",
    "z = x[0] \n",
    "\n",
    "if  x[1] < x[0]:\n",
    "    z = x[1]\n",
    "\n",
    "if x[2] < z:\n",
    "    z = x[2]\n",
    "    \n",
    "if x[3] < z:\n",
    "    z = x[3]"
   ]
  },
  {
   "cell_type": "markdown",
   "id": "20005752",
   "metadata": {},
   "source": [
    "your answer here"
   ]
  },
  {
   "cell_type": "code",
   "execution_count": 8,
   "id": "6f9de28b",
   "metadata": {},
   "outputs": [
    {
     "name": "stdout",
     "output_type": "stream",
     "text": [
      "1\n"
     ]
    }
   ],
   "source": [
    "# andrew's soln\n",
    "print(z)"
   ]
  },
  {
   "cell_type": "markdown",
   "id": "47989f05",
   "metadata": {},
   "source": [
    "finds the smallest value in x"
   ]
  }
 ],
 "metadata": {
  "jupytext": {
   "cell_metadata_filter": "all",
   "formats": "ipynb,md:myst",
   "notebook_metadata_filter": "all,-language_info,-toc,-latex_envs",
   "text_representation": {
    "extension": ".md",
    "format_name": "myst",
    "format_version": 0.13,
    "jupytext_version": "1.11.4"
   }
  },
  "kernelspec": {
   "display_name": "Python 3 (ipykernel)",
   "language": "python",
   "name": "python3"
  },
  "language_info": {
   "codemirror_mode": {
    "name": "ipython",
    "version": 3
   },
   "file_extension": ".py",
   "mimetype": "text/x-python",
   "name": "python",
   "nbconvert_exporter": "python",
   "pygments_lexer": "ipython3",
   "version": "3.8.10"
  }
 },
 "nbformat": 4,
 "nbformat_minor": 5
}
