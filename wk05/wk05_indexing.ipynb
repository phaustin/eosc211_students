{
 "cells": [
  {
   "cell_type": "markdown",
   "id": "73b88d35",
   "metadata": {},
   "source": [
    "# Indexing worksheet\n",
    "\n",
    "## Read in the data\n",
    "\n",
    "This is a fake satellite image with longwave flux in a vector called \"flux\" and brightness temperature in a vector called \"temp\".  I've stored them in an [npz file](https://numpy.org/doc/stable/reference/generated/numpy.savez.html) using np.savez.  If you\n",
    "are working on your laptop, you can download the npz file here: [temp_flux.npz]( https://github.com/phaustin/eosc211_students/blob/e211_live_main/wk05/temp_flux.npz)\n",
    "\n",
    "In the cells below, you'll be asked to add new points to the figure, and then\n",
    "redisplay using `display(fig)`"
   ]
  },
  {
   "cell_type": "code",
   "execution_count": null,
   "id": "0d2dde83",
   "metadata": {},
   "outputs": [],
   "source": [
    "import numpy as np\n",
    "from matplotlib import pyplot as plt\n",
    "filename='temp_flux.npz'\n",
    "the_data = np.load(filename)\n",
    "flux = the_data['flux']\n",
    "temp = the_data['temp']\n",
    "fig, ax = plt.subplots(1,1)\n",
    "ax.plot(flux,temp, 'b.');"
   ]
  },
  {
   "cell_type": "markdown",
   "id": "52205143",
   "metadata": {},
   "source": [
    "you can redisplay a modfied figure like this:"
   ]
  },
  {
   "cell_type": "code",
   "execution_count": null,
   "id": "5de3820d",
   "metadata": {},
   "outputs": [],
   "source": [
    "ax.set_title('flux vs. temperature')\n",
    "ax.set_xlabel('shortwave flux (W/m^2)')\n",
    "ax.set_ylabel('temperature K')\n",
    "display(fig)"
   ]
  },
  {
   "cell_type": "markdown",
   "id": "06fe83a4",
   "metadata": {},
   "source": [
    "## Q1 -- `logical_and` for flux\n",
    "\n",
    "Find all pixels with flux values between 500 and 550 $W/m^2$ and color them yellow."
   ]
  },
  {
   "cell_type": "code",
   "execution_count": null,
   "id": "1de67f79",
   "metadata": {},
   "outputs": [],
   "source": [
    "# your code here"
   ]
  },
  {
   "cell_type": "markdown",
   "id": "79d7868d",
   "metadata": {},
   "source": [
    "## Q2 -- `logical_and` for temperature and flux\n",
    "\n",
    "Now extend this by finding all pixels with fluxes between 500 and 550 $W/m^2$\n",
    "and temperatures greater than 300 K and color those cyan.  Redisplay the figure."
   ]
  },
  {
   "cell_type": "code",
   "execution_count": null,
   "id": "52483433",
   "metadata": {},
   "outputs": [],
   "source": [
    "# your code here"
   ]
  },
  {
   "cell_type": "markdown",
   "id": "6632b1ae",
   "metadata": {},
   "source": [
    "## Q3 -- argmax\n",
    "\n",
    "Now find the index of the maximum temperature, and use that index to find the flux for that hottest pixel.\n",
    "Make that pixel a large green dot with `ax.plot(the_flux,the_temp,'g.',markersize=20)`"
   ]
  },
  {
   "cell_type": "code",
   "execution_count": null,
   "id": "b3e09280",
   "metadata": {},
   "outputs": [],
   "source": [
    "# your code here"
   ]
  }
 ],
 "metadata": {
  "jupytext": {
   "cell_metadata_filter": "all",
   "formats": "ipynb,md:myst",
   "notebook_metadata_filter": "all,-language_info,-toc,-latex_envs",
   "text_representation": {
    "extension": ".md",
    "format_name": "myst",
    "format_version": 0.13,
    "jupytext_version": "1.10.3"
   }
  },
  "kernelspec": {
   "display_name": "Python 3 (ipykernel)",
   "language": "python",
   "name": "python3"
  },
  "language_info": {
   "codemirror_mode": {
    "name": "ipython",
    "version": 3
   },
   "file_extension": ".py",
   "mimetype": "text/x-python",
   "name": "python",
   "nbconvert_exporter": "python",
   "pygments_lexer": "ipython3",
   "version": "3.8.10"
  }
 },
 "nbformat": 4,
 "nbformat_minor": 5
}
