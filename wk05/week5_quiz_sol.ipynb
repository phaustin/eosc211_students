{
 "cells": [
  {
   "cell_type": "markdown",
   "id": "aa9b944a",
   "metadata": {},
   "source": [
    "- **Name:**\n",
    "- **Student number:**"
   ]
  },
  {
   "cell_type": "markdown",
   "id": "28868fad",
   "metadata": {},
   "source": [
    "# Week 5 quiz solution\n",
    "\n",
    "**Instructions**:  The three items on this page show the python code in individual cells in a  jupyter notebook.  For each of the three, write down what the cell would display if you ran it."
   ]
  },
  {
   "cell_type": "code",
   "execution_count": null,
   "id": "775fe8a2",
   "metadata": {},
   "outputs": [],
   "source": [
    "a=5\n",
    "if a > 2:\n",
    "    print(a)\n",
    "if a < 6:\n",
    "    print(a)\n",
    "else:\n",
    "    print(\"failed all tests\")"
   ]
  },
  {
   "cell_type": "code",
   "execution_count": null,
   "id": "aa450f55",
   "metadata": {},
   "outputs": [],
   "source": [
    "a=7\n",
    "if a <10 and a > 9:\n",
    "    print(a)\n",
    "elif a > 11:\n",
    "    print(a)\n",
    "else:\n",
    "    print('failed all tests')"
   ]
  },
  {
   "cell_type": "code",
   "execution_count": null,
   "id": "9c5b0115",
   "metadata": {},
   "outputs": [],
   "source": [
    "import numpy as np\n",
    "a = np.arange(20,dtype=np.float64)\n",
    "hit = np.logical_and(a > 8 , a < 13)\n",
    "print(a[hit])\n",
    "print(a.dtype)"
   ]
  }
 ],
 "metadata": {
  "celltoolbar": "Create Assignment",
  "jupytext": {
   "cell_metadata_filter": "all",
   "formats": "ipynb,md:myst",
   "notebook_metadata_filter": "all"
  }
 },
 "nbformat": 4,
 "nbformat_minor": 5
}
