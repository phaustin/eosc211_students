{
 "cells": [
  {
   "cell_type": "markdown",
   "id": "f0c85238",
   "metadata": {},
   "source": [
    "# Functions\n",
    "\n",
    "## EOSC 211\n",
    "\n",
    "**Week 8**\n",
    "\n",
    "**Learning Objectives:**  \n",
    "1. Implement functions in your code\n",
    "2. Understand argument passing"
   ]
  },
  {
   "cell_type": "markdown",
   "id": "fd509646",
   "metadata": {},
   "source": [
    "## Question 1\n",
    "\n",
    "**Write a function called `sqrtsum` that takes as input two arbitrary real numbers, `x1` and `x2` and returns two parameters: the sum of `x1` and `x2` and the square root of the sum of `x1` and `x2` (you can use ` ** 0.5` or `np.sqrt()` if you have imported the numpy package). Include a docstring that specifies what the function does, and what the input and output arguments are.**\n",
    "\n",
    "**create the `sqrtsum` function by editing the code below:**"
   ]
  },
  {
   "cell_type": "code",
   "execution_count": null,
   "id": "9d56e465",
   "metadata": {},
   "outputs": [],
   "source": [
    "# Write the function definition line:\n",
    "def a_function():\n",
    "    # Write the docstring:\n",
    "    \n",
    "    \n",
    "    \n",
    "    # Write the body of the function:\n",
    "    \n",
    "    \n",
    "    \n",
    "    # Write the return statement:\n",
    "    "
   ]
  },
  {
   "cell_type": "markdown",
   "id": "66e2c175",
   "metadata": {},
   "source": [
    "## Question 2\n",
    "\n",
    "**In the cell below, *call* your `sqrtsum` function if you want to find the “sqrtsum” of 255 and 73.5. Assign variables `mysum` and `rootsum` to the outputs `sqrtsum`**"
   ]
  },
  {
   "cell_type": "code",
   "execution_count": null,
   "id": "bf9b14d1",
   "metadata": {},
   "outputs": [],
   "source": [
    "# your code here"
   ]
  },
  {
   "cell_type": "markdown",
   "id": "b9913d6c",
   "metadata": {},
   "source": [
    "## Question 3\n",
    "\n",
    "**Let's make our function a little more user friendly by anticipating a possible error. Modify `sqrtsum` to *raise* an exception if both of the function arguments aren't either integers or floats**"
   ]
  },
  {
   "cell_type": "code",
   "execution_count": null,
   "id": "33be4593",
   "metadata": {},
   "outputs": [],
   "source": [
    "# your code here"
   ]
  },
  {
   "cell_type": "markdown",
   "id": "6588d1ea",
   "metadata": {},
   "source": [
    "## Question 4\n",
    "\n",
    "**Now change your code in (3) to be a function called `checkinput()` that does the exact same thing as in (3) and is called by your main function `sqrtsum`. `checkinput` should take all the input parameters passed to `sqrtsum`.  `checkinput` is what is called a nested or inner function.**"
   ]
  },
  {
   "cell_type": "code",
   "execution_count": null,
   "id": "182db084",
   "metadata": {},
   "outputs": [],
   "source": [
    "# your code here"
   ]
  },
  {
   "cell_type": "markdown",
   "id": "a64f313f",
   "metadata": {},
   "source": [
    "## Question 5\n",
    "\n",
    "**Continue writing the body of the function addn that takes three parameters n, summax and maxiter and adds n to itself while the sum is less than or equal to summax or if the number of iterations is less than or equal to maxiter, and then returns the sum.**"
   ]
  },
  {
   "cell_type": "code",
   "execution_count": null,
   "id": "93012945",
   "metadata": {},
   "outputs": [],
   "source": [
    "def sum_n(n, summax, maxiter):\n",
    "    \"\"\"\n",
    "    adds n to itself until one of the\n",
    "    two conditions is reached:\n",
    "    1. Either sumn exceeds summax, or\n",
    "    2. maxiter iterations is exceeded.\n",
    "    \"\"\"\n",
    "    counter = 0\n",
    "    sumn = n\n",
    "    while <your code here>:\n",
    "        pass # your code here"
   ]
  },
  {
   "cell_type": "markdown",
   "id": "6bf8dc4f",
   "metadata": {},
   "source": [
    "## Question 6\n",
    "\n",
    "**Why doesn't this work? Debug this code**"
   ]
  },
  {
   "cell_type": "code",
   "execution_count": null,
   "id": "f9bb5fcc",
   "metadata": {},
   "outputs": [],
   "source": [
    "my_num = 5.1\n",
    "y = cube_plus_one(my_num)\n",
    "\n",
    "\n",
    "def cube_plus_one(x):\n",
    "    \"\"\"\n",
    "    returns the cube of the input plus one\n",
    "    \"\"\"\n",
    "    return x ** 3 + 1"
   ]
  }
 ],
 "metadata": {
  "jupytext": {
   "formats": "ipynb,md:myst"
  },
  "kernelspec": {
   "display_name": "Python 3 (ipykernel)",
   "language": "python",
   "name": "python3"
  }
 },
 "nbformat": 4,
 "nbformat_minor": 5
}
