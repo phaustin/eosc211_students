{
 "cells": [
  {
   "cell_type": "markdown",
   "id": "ee314d5d",
   "metadata": {},
   "source": [
    "# Week 08 Quiz: Functions basics solution\n",
    "\n",
    "The following code calls a function \"poly3\" for which the code is given:"
   ]
  },
  {
   "cell_type": "code",
   "execution_count": null,
   "id": "b1b85e4f",
   "metadata": {
    "lines_to_next_cell": 2
   },
   "outputs": [],
   "source": [
    "import numpy as np  # not needed in example below\n",
    "\n",
    "def poly3(x):\n",
    "    \"\"\" POLY3: Evaluates the cubic polynomial y = a0 + a1*x+a2*x**2+a3*x**3\n",
    "    using Horner's method, where a0=1, a1=-1, a2=2, a3=1.\n",
    "    \"\"\"\n",
    "    \n",
    "    a0 = 1\n",
    "    a1 = -1\n",
    "    a2 = 2\n",
    "    a3 = 1\n",
    "    \n",
    "    y = a0 + x*(a1 + x*(a2+x*a3))\n",
    "    \n",
    "    return y\n",
    "\n",
    "myx = -2\n",
    "new = poly3(myx)"
   ]
  },
  {
   "cell_type": "markdown",
   "id": "4245f72f",
   "metadata": {},
   "source": [
    "1.  Identify the following elements of the code:\n",
    "\n",
    "   Function name:\n",
    "<br />\n",
    "<br />\n",
    "\n",
    "   Input argument(s):\n",
    "<br />\n",
    "<br />\n",
    "\n",
    "   Output argument(s):\n",
    "<br />\n",
    "<br />\n",
    "\n",
    "2.  After running the code what variables are in the workspace and what are the values of these variables?\n",
    "\n",
    "<br />\n",
    "<br />\n",
    "<br />\n",
    "<br />\n",
    "<br />\n",
    "\n",
    "3.  What helpful information is missing in the doc string?\n",
    "\n",
    "<br />\n",
    "<br />\n",
    "<br />\n",
    "<br />"
   ]
  },
  {
   "cell_type": "code",
   "execution_count": null,
   "id": "67daeb5a",
   "metadata": {},
   "outputs": [],
   "source": [
    "print(f'myx = {myx} and has type {type(myx)}')\n",
    "print(f'new = {new} and has type {type(new)}')"
   ]
  },
  {
   "cell_type": "markdown",
   "id": "9ce07d26",
   "metadata": {},
   "source": [
    "    myx = -2 and has type <class 'int'>\n",
    "    new = 3 and has type <class 'int'>"
   ]
  },
  {
   "cell_type": "code",
   "execution_count": null,
   "id": "3f3f39c5",
   "metadata": {},
   "outputs": [],
   "source": [
    "## this command lists the variables in my workspace\n",
    "%who\n",
    "\n",
    "## np and poly 3 are the packages and function respectively so I was just looking for myx and new"
   ]
  },
  {
   "cell_type": "markdown",
   "id": "5e0187f8",
   "metadata": {},
   "source": [
    "    myx\t new\t np\t poly3"
   ]
  },
  {
   "cell_type": "code",
   "execution_count": null,
   "id": "828b71ae",
   "metadata": {
    "lines_to_next_cell": 2
   },
   "outputs": [],
   "source": [
    "## so e.g. a0 is not here and if I type the following i will get an error\n",
    "print(a0)"
   ]
  },
  {
   "cell_type": "markdown",
   "id": "cd7cba3f",
   "metadata": {},
   "source": [
    "    ---------------------------------------------------------------------------\n",
    "\n",
    "    NameError                                 Traceback (most recent call last)\n",
    "\n",
    "    /var/folders/4r/t59g43td3c38d4338mgslkwh0000gr/T/ipykernel_4471/3057198155.py in <module>\n",
    "          1 # so e.g. a0 is not here and if I type the following i will get an error\n",
    "    ----> 2 print(a0)\n",
    "    \n",
    "\n",
    "    NameError: name 'a0' is not defined\n",
    "\n",
    "\n",
    "### Better docstring\n",
    "```\n",
    "    \"\"\" POLY3: Evaluates the cubic polynomial y = a0 + a1*x+a2*x**2+a3*x**3\n",
    "    using Horner's method, where a0=1, a1=-1, a2=2, a3=1.\n",
    "    \n",
    "    INPUTS: x  (type = int or float)\n",
    "    OUTPUTS: y  (type = int or float)\n",
    "    \"\"\"\n",
    "```"
   ]
  }
 ],
 "metadata": {
  "jupytext": {
   "cell_metadata_filter": "-all",
   "main_language": "python",
   "notebook_metadata_filter": "-all"
  },
  "kernelspec": {
   "display_name": "Python 3 (ipykernel)",
   "language": "python",
   "name": "python3"
  }
 },
 "nbformat": 4,
 "nbformat_minor": 5
}
