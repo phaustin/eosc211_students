{
 "cells": [
  {
   "cell_type": "markdown",
   "id": "2e2b068c",
   "metadata": {},
   "source": [
    "# Lab Week 8"
   ]
  },
  {
   "cell_type": "markdown",
   "id": "1588614d",
   "metadata": {},
   "source": [
    "**Objectives:** This week's lab is about writing code that is reuseable, efficient and well-organized. How do we do this? Functions! The objective here is to take code from week 6 and re-package it in a better, more pythonic style. We will then test the code with a couple of datasets for the lab to make sure it can handle a range of input types and user-specified parameters, while still getting the right answer.\n",
    "\n",
    "As an example of how we can reuse code, you will use what you write for this lab as a core function for assignment 1.\n",
    "\n",
    "Datasets for this lab can be downloaded by clicking on the file names at:  https://github.com/phaustin/eosc211_students/tree/e211_live_main/wk08"
   ]
  },
  {
   "cell_type": "markdown",
   "id": "e4497f1d",
   "metadata": {},
   "source": [
    "### As always, first import the packages you'll need"
   ]
  },
  {
   "cell_type": "code",
   "execution_count": null,
   "id": "0c789ca8",
   "metadata": {},
   "outputs": [],
   "source": [
    "from e211_lib import e211\n",
    "import numpy as np\n",
    "from datetime import datetime\n",
    "import matplotlib.pyplot as plt"
   ]
  },
  {
   "cell_type": "code",
   "execution_count": null,
   "id": "2d63d580",
   "metadata": {
    "deletable": false,
    "nbgrader": {
     "cell_type": "code",
     "checksum": "c95b19f7f7b1ef3f8fdac3e12e7a209f",
     "grade": false,
     "grade_id": "cell-0f1bebfd15ae4946",
     "locked": false,
     "schema_version": 3,
     "solution": true,
     "task": false
    }
   },
   "outputs": [],
   "source": [
    "# your posix_to_datetime function will go here (see below for details)\n",
    "\n",
    "#\n",
    "#  Remember to comment out the NotImplementedError exception from all the cells you need\n",
    "#  to fill in.  Check to make sure your notebook runs cleanly before you upload to canvas\n",
    "#\n",
    "\n",
    "# YOUR CODE HERE\n",
    "raise NotImplementedError()"
   ]
  },
  {
   "cell_type": "code",
   "execution_count": null,
   "id": "675d5b63",
   "metadata": {
    "deletable": false,
    "nbgrader": {
     "cell_type": "code",
     "checksum": "93758c2ece8733d895ce25dd90048543",
     "grade": false,
     "grade_id": "cell-0240c3fb29bf120a",
     "locked": false,
     "schema_version": 3,
     "solution": true,
     "task": false
    }
   },
   "outputs": [],
   "source": [
    "# IN THIS CELL DEFINE TWO FUNCTIONS WITH THE FOLLOWING NAMES AND SIGNATURES\n",
    "\n",
    "# check_inputs(winlen) return winlen\n",
    "\n",
    "# running_mean(data, winlen) return running mean\n",
    "\n",
    "# YOUR CODE HERE\n",
    "raise NotImplementedError()"
   ]
  },
  {
   "cell_type": "code",
   "execution_count": null,
   "id": "f90da5d1",
   "metadata": {
    "deletable": false,
    "nbgrader": {
     "cell_type": "code",
     "checksum": "bc1fab99efa9e416f21cf21f7dfb4478",
     "grade": false,
     "grade_id": "cell-5f6db024bb9d6991",
     "locked": false,
     "schema_version": 3,
     "solution": true,
     "task": false
    }
   },
   "outputs": [],
   "source": [
    "# IN THIS CELL DEFINE YOUR RUNNING MEDIAN FUNCTION WITH THIS NAME AND SIGNATURE\n",
    "#\n",
    "# running_median(data, winlen=7)\n",
    "# YOUR CODE HERE\n",
    "raise NotImplementedError()"
   ]
  },
  {
   "cell_type": "markdown",
   "id": "098d9575",
   "metadata": {},
   "source": [
    "### Now get some data sets.  \n",
    "Remind yourself of np.load and what `.npz` files contain from the week 6 lab. Also review the week 6 lab to remind yourself about datetime objects are and how to import dates/times into a numpy array of datetime objects."
   ]
  },
  {
   "cell_type": "code",
   "execution_count": null,
   "id": "f6db58ad",
   "metadata": {},
   "outputs": [],
   "source": [
    "# get the aircraft data again -- copy from week 6 solution\n",
    "aircraft_gps = np.load(\"aircraft_gps.npz\")\n",
    "vel = aircraft_gps[\"vel\"]\n",
    "time = aircraft_gps[\"time\"]\n",
    "\n",
    "# very similar for a file with temperatures from Sand Heads, BC\n",
    "sand_heads = np.load(\"sand_heads_temps.npz\")\n",
    "temp = sand_heads[\"temp\"]\n",
    "sand_time = sand_heads[\"time\"]"
   ]
  },
  {
   "cell_type": "markdown",
   "id": "9d819ef1",
   "metadata": {},
   "source": [
    "### Setting up your first function\n",
    "First define a function called `posix_to_datetime` that takes as input an array of POSIX times and returns a variable `dt` that is a numpy array of datetime objects.  To help you get started the function declaration line and the return statement are provided.  Complete the rest of the fucntion code, making sure to include the docstring.  The structure of your function will look something like this:  \n",
    "\n",
    "```\n",
    "def posix_to_datetime(time_array):\n",
    "    \"\"\"\n",
    "    <docstring>\n",
    "    \"\"\"\n",
    "    \n",
    "    <function body code>\n",
    "    \n",
    "    return dt\n",
    "```\n",
    "Remember that any functions in your code need to be defined *before* they are used.  So they go at the top of your file, after importing the packages."
   ]
  },
  {
   "cell_type": "markdown",
   "id": "03e4040f",
   "metadata": {},
   "source": [
    "### Testing your function\n",
    "You can save yourself a lot of time by testing pieces of your code as you go along.  Test your `posix_to_datetime` function by loading the data sets, calling it and making test plots of each of the two data sets.  e.g., my test plot was made after calling posix_to_datetime, assigning the output to a variable called `fly_time` and making a plot with these code lines.\n",
    "```\n",
    "# quick and dirty plot to check everything is working ok\n",
    "plt.plot(fly_time, vel)\n",
    "plt.xlabel('time [units]')  # reminding myself to always include units\n",
    "plt.xticks(rotation=70)     # rotate dates by 70 degrees so they don't overlap\n",
    "plt.ylabel('vel [units]');  #add semicolon to suppress output\n",
    "```"
   ]
  },
  {
   "cell_type": "markdown",
   "id": "62790745",
   "metadata": {},
   "source": [
    "### Running mean and running median functions\n",
    "Now take your running mean code from the week6 lab and turn it into a function called `running_mean`.  If your week6 lab code did not work, you can use the solution posted on the course web page under week 6. `running_mean` should take as INPUT arguments `data` (the numpy array of data on which the running mean is to be performed) and `winlen` (the number of points in the running mean window) **in that order**. It should return a variable `z` that contains the running mean values.\n",
    "\n",
    "Likewise take your running median code from the week6 lab and turn it into a function called `running_median` that takes as INPUT arguments `data` and `winlen` (again, in that order) and returns a variable `zm` that contains the running median values.\n",
    "\n",
    "Again, test your functions by\n",
    "1. calling them \n",
    "2. plotting the raw data and the running mean/median to check it all looks reasonable"
   ]
  },
  {
   "cell_type": "markdown",
   "id": "adb71f2a",
   "metadata": {},
   "source": [
    "### Adding input parameter check\n",
    "Now write code that will check that the window length is an odd number, and if it is not add 1 to the length and print a message to the screen informing the user the value of the window length that was passed in, the fact that it was even and the value that it has been corrected to.  Put this code in a function called `check_inputs` that takes as input `winlen`.  It must also return `winlen` either unmodified if it is odd, or modified if it is even.\n",
    "\n",
    "Both the running mean and running median functions should call the `check_inputs` function. \n",
    "You can call functions from other functions, you just need to (a) keep track of which variables are passed where, and (b) scope (discussed in class).\n",
    "\n",
    "Make sure to rerun your code that calls the running mean and running median to check (a) you didn't break anything, and (b) that `check_inputs` works."
   ]
  },
  {
   "cell_type": "markdown",
   "id": "23a137df",
   "metadata": {},
   "source": [
    "### What to turn in\n",
    "\n",
    "1) define your posix_to_datetime in cell 2 (remove the exceptions in all fill-in cells)\n",
    "\n",
    "2) define your check_inputs and running_mean functions in cell 3\n",
    "\n",
    "3) define  your running_median function in cell 4 \n",
    "\n",
    "Make sure your running_median function works when you test it by executing\n",
    "code roughly similar to the cell below\n",
    "for either the `aircraft` data set or the `temperature` dataset.  We will run\n",
    "code similar to this, with a variety of window sizes and data sets."
   ]
  },
  {
   "cell_type": "markdown",
   "id": "a01209c5",
   "metadata": {},
   "source": [
    "```\n",
    "def main(data,tt):\n",
    "    time=posix_to_datetime(tt)\n",
    "    windows = choose some windows\n",
    "    check various window sizes:\n",
    "        filtered_data = running_median ...\n",
    "        #\n",
    "        # overlay the filtered data on the raw data\n",
    "        #\n",
    "        plt.plot(time,data,time,filtered_data)\n",
    "        plt.xlabel('time')\n",
    "        plt.xticks(rotation=70)\n",
    "        plt.ylabel('y values')\n",
    "        plt.show()\n",
    "        \n",
    "main(vel,time)\n",
    "```"
   ]
  },
  {
   "cell_type": "markdown",
   "id": "86eb8f73",
   "metadata": {},
   "source": [
    "## A quick sanity check\n",
    "\n",
    "This code shows the raw data"
   ]
  },
  {
   "cell_type": "code",
   "execution_count": null,
   "id": "b592b624",
   "metadata": {},
   "outputs": [],
   "source": [
    "# Sands Heads data\n",
    "temp_time = posix_to_datetime(sand_time)\n",
    "\n",
    "# quick and dirty plot to check everything is working ok\n",
    "plt.plot(temp_time, temp)\n",
    "plt.xlabel('time [units]')\n",
    "plt.xticks(rotation=70)\n",
    "plt.grid(True)\n",
    "plt.ylabel('temperature [units]');   # I added semi-colon to suppress text output\n"
   ]
  },
  {
   "cell_type": "markdown",
   "id": "2bca6dc1",
   "metadata": {},
   "source": [
    "The cell below tests window length 32 for the velocity data and \n",
    "compares the result at index = 231 with the answer we got with our\n",
    "own running_median filter"
   ]
  },
  {
   "cell_type": "code",
   "execution_count": null,
   "id": "62b15ad9",
   "metadata": {},
   "outputs": [],
   "source": [
    "import numpy.testing as nt\n",
    "window=32\n",
    "vel_median_filtered = running_median(vel, window)\n",
    "testval = vel_median_filtered[231]\n",
    "nt.assert_allclose(testval,1.95,rtol=1.e-2)"
   ]
  },
  {
   "cell_type": "code",
   "execution_count": null,
   "id": "9d0c565e",
   "metadata": {
    "deletable": false,
    "nbgrader": {
     "cell_type": "code",
     "checksum": "c6c8cae1ae106ee735375b3f9d497291",
     "grade": true,
     "grade_id": "cell-70b0c8801298e72c",
     "locked": false,
     "points": 4,
     "schema_version": 3,
     "solution": true,
     "task": false
    }
   },
   "outputs": [],
   "source": [
    "# You don't need to enter anything here  -- we have hidden the\n",
    "# code we will use to check your functions in this cell\n",
    "# Just comment out the exception so your notebook will run\n",
    "\n",
    "# YOUR CODE HERE\n",
    "raise NotImplementedError()"
   ]
  }
 ],
 "metadata": {
  "kernelspec": {
   "display_name": "Python 3 (ipykernel)",
   "language": "python",
   "name": "python3"
  },
  "language_info": {
   "codemirror_mode": {
    "name": "ipython",
    "version": 3
   },
   "file_extension": ".py",
   "mimetype": "text/x-python",
   "name": "python",
   "nbconvert_exporter": "python",
   "pygments_lexer": "ipython3",
   "version": "3.8.10"
  }
 },
 "nbformat": 4,
 "nbformat_minor": 5
}
