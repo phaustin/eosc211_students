{
 "cells": [
  {
   "cell_type": "markdown",
   "id": "23fa6b6b",
   "metadata": {},
   "source": [
    "# Functions II -- solutions\n",
    "\n",
    "## EOSC 211\n",
    "\n",
    "**Week 8 Day 2**\n",
    "\n",
    "**Learning Objectives:**  \n",
    "1. Implement functions in your code\n",
    "2. Understand the difference between a *fruitful* function (one that returns a variable) and void functions (one that performs an action but does not return anything"
   ]
  },
  {
   "cell_type": "markdown",
   "id": "6d775c10",
   "metadata": {},
   "source": [
    "## Question 1\n",
    "\n",
    "**We have two input arrays, `x` which is distance and `tpro` which is elevation in kilometers (say, along a survey line). Both have shape (100,). Use a *loop* and an *if statement* to write out a new variable `tlow` that contains only the values in `tpro` when the elevation is less than -1.8km.**"
   ]
  },
  {
   "cell_type": "code",
   "execution_count": null,
   "id": "3720dc07",
   "metadata": {},
   "outputs": [],
   "source": [
    "import numpy as np\n",
    "\n",
    "x = np.linspace(0, 1000, 100)  # km along the survey line\n",
    "tpro = -1.5 + 0.5 * np.sin(x) # pretend topo\n",
    "\n",
    "# your code here"
   ]
  },
  {
   "cell_type": "code",
   "execution_count": null,
   "id": "d9c63cf9",
   "metadata": {},
   "outputs": [],
   "source": [
    "# andrew's soln\n",
    "tlow = np.array([])\n",
    "for i in tpro:\n",
    "    if i < 0.5:\n",
    "        tlow = np.append(tlow,i)\n",
    "\n",
    "print(tlow)"
   ]
  },
  {
   "cell_type": "code",
   "execution_count": null,
   "id": "bbc2eb9a",
   "metadata": {},
   "outputs": [],
   "source": [
    "# catherine's solution   \n",
    "# same as Andrew's but i used \"t\" not \"i\" to remind myself i am looping over the values in tpro not their indices\n",
    "\n",
    "import numpy as np\n",
    "\n",
    "x = np.linspace(0, 1000, 100)  # km along the survey line\n",
    "tpro = -1.5 + 0.5 * np.sin(x) # pretend topo\n",
    "\n",
    "tlow=np.array([])   # Defining tlow as numpy array for consistency with type(x), type(tpro).  \n",
    "for t in tpro:\n",
    "    if (t<-1.8):\n",
    "        tlow=np.append(tlow,t)\n",
    "print(tlow)"
   ]
  },
  {
   "cell_type": "markdown",
   "id": "1aec985e",
   "metadata": {},
   "source": [
    "## Question 2\n",
    "\n",
    "**Turn the code snippet above into a function that returns an array `tlow` that is exactly the same as Q1, but that takes as input (1) `in_data` and (2) a variable called `cutoff` that contains an arbitrary cut-off for the elevation  (ie, I might want to select elevations below -2km or -1.8 km or -1.5km, so make this a variable).**\n",
    "\n",
    "**Finally, call your function with tpro as the input data and a cutoff of -1.8 km**"
   ]
  },
  {
   "cell_type": "code",
   "execution_count": null,
   "id": "274989d7",
   "metadata": {},
   "outputs": [],
   "source": [
    "# your code here"
   ]
  },
  {
   "cell_type": "code",
   "execution_count": null,
   "id": "7f45fa56",
   "metadata": {},
   "outputs": [],
   "source": [
    "# catherine's soln\n",
    "def select_elev(in_data, cutoff):\n",
    "    \"\"\"\n",
    "    selects elements of a 1D np array in_data which are below the value cutoff.\n",
    "    returns elements of in_data which are below cutoff\n",
    "    \"\"\"\n",
    "    tlow = np.array([])\n",
    "    for t in tpro:\n",
    "        if t < cutoff:\n",
    "            tlow = np.append(tlow, t)\n",
    "    return tlow\n",
    "\n",
    "select_elev(tpro, -1.8)"
   ]
  },
  {
   "cell_type": "markdown",
   "id": "83ec3a1f",
   "metadata": {},
   "source": [
    "## Question 3\n",
    "\n",
    "**Modify your function to return a *tuple* containing the elevations below `cutoff`, and the *indexes* of where those elements are found; ie `(tlow, tlow_ind)`.**"
   ]
  },
  {
   "cell_type": "code",
   "execution_count": null,
   "id": "7a8addff",
   "metadata": {},
   "outputs": [],
   "source": [
    "# your code here"
   ]
  },
  {
   "cell_type": "code",
   "execution_count": null,
   "id": "5ed92495",
   "metadata": {},
   "outputs": [],
   "source": [
    "# andrew's soln; catherine's basically the same\n",
    "def select_elev2(in_data, cutoff):\n",
    "    \"\"\"\n",
    "    selects elements of a 1D np array in_data which are below the value cutoff.\n",
    "    returns elements of in_data which are below cutoff\n",
    "    \"\"\"\n",
    "    tlow = np.array([])\n",
    "    tlow_ind = np.array([])\n",
    "    for i in range(len(in_data)):    # note that i is now an index into the in_data array\n",
    "        if in_data[i] < cutoff: \n",
    "            tlow_ind = np.append(tlow_ind, i)\n",
    "            tlow = np.append(tlow, in_data[i])\n",
    "    return tlow, tlow_ind\n",
    "\n",
    "low, ind = select_elev2(tpro, -1.5)\n",
    "low, ind"
   ]
  },
  {
   "cell_type": "markdown",
   "id": "8cd7dead",
   "metadata": {},
   "source": [
    "## Question 4\n",
    "\n",
    "**Finally, I need not have used a loop and an “if” statement in the function.  How would I rewrite the body of the function in Exercise 2 to use logical indexing?  Note that the function call and function definition line don’t need to be changed.**"
   ]
  },
  {
   "cell_type": "code",
   "execution_count": null,
   "id": "20ba650a",
   "metadata": {},
   "outputs": [],
   "source": [
    "# your code here"
   ]
  },
  {
   "cell_type": "code",
   "execution_count": null,
   "id": "b7e5da4d",
   "metadata": {},
   "outputs": [],
   "source": [
    "# andrew's soln\n",
    "def select_elev3(in_data, cutoff):\n",
    "    \"\"\"\n",
    "    selects elements of a 1D np array in_data which are below the value cutoff.\n",
    "    returns elements of in_data which are below cutoff\n",
    "    \"\"\"\n",
    "    return in_data[in_data < cutoff]\n",
    "    \n",
    "select_elev3(tpro, -1.8)"
   ]
  }
 ],
 "metadata": {
  "jupytext": {
   "formats": "ipynb,md:myst"
  },
  "kernelspec": {
   "display_name": "Python 3 (ipykernel)",
   "language": "python",
   "name": "python3"
  }
 },
 "nbformat": 4,
 "nbformat_minor": 5
}
