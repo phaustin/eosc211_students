{
 "cells": [
  {
   "cell_type": "markdown",
   "id": "143ea40b",
   "metadata": {},
   "source": [
    "# Functions -- solution\n",
    "\n",
    "## EOSC 211\n",
    "\n",
    "**Week 8**\n",
    "\n",
    "**Learning Objectives:**  \n",
    "1. Implement functions in your code\n",
    "2. Understand argument passing"
   ]
  },
  {
   "cell_type": "markdown",
   "id": "dcebba72",
   "metadata": {},
   "source": [
    "## Question 1\n",
    "\n",
    "**Write a function called `sqrtsum` that takes as input two arbitrary real numbers, `x1` and `x2` and returns two parameters: the sum of `x1` and `x2` and the square root of the sum of `x1` and `x2` (you can use ` ** 0.5` or `np.sqrt()` if you have imported the numpy package). Include a docstring that specifies what the function does, and what the input and output arguments are.**\n",
    "\n",
    "**create the `sqrtsum` function by editing the code below:**"
   ]
  },
  {
   "cell_type": "code",
   "execution_count": null,
   "id": "62d90ec2",
   "metadata": {},
   "outputs": [],
   "source": [
    "# Write the function definition line:\n",
    "def a_function():\n",
    "    # Write the docstring:\n",
    "    \n",
    "    \n",
    "    \n",
    "    # Write the body of the function:\n",
    "    \n",
    "    \n",
    "    \n",
    "    # Write the return statement:\n",
    "    "
   ]
  },
  {
   "cell_type": "code",
   "execution_count": null,
   "id": "6e9f83b3",
   "metadata": {},
   "outputs": [],
   "source": [
    "# andrew's soln\n",
    "def sqrtsum(x1, x2):\n",
    "    \"\"\"\n",
    "    takes in two real numbers and returns a tuple y1, y2 with y1=x1+x2 and y2=(y1)^1/2\n",
    "    \"\"\"\n",
    "    y1 = x1 + x2\n",
    "    y2 = y1 ** 0.5\n",
    "    return y1, y2"
   ]
  },
  {
   "cell_type": "markdown",
   "id": "8dafa4a1",
   "metadata": {},
   "source": [
    "## Question 2\n",
    "\n",
    "**In the cell below, *call* your `sqrtsum` function if you want to find the “sqrtsum” of 255 and 73.5. Assign variables `mysum` and `rootsum` to the outputs `sqrtsum`**"
   ]
  },
  {
   "cell_type": "code",
   "execution_count": null,
   "id": "8527c1e8",
   "metadata": {},
   "outputs": [],
   "source": [
    "# your code here"
   ]
  },
  {
   "cell_type": "code",
   "execution_count": null,
   "id": "4754202a",
   "metadata": {},
   "outputs": [],
   "source": [
    "# andrew's soln\n",
    "mysum, rootsum = sqrtsum(255, 73.5)\n",
    "print(mysum)\n",
    "print(rootsum)"
   ]
  },
  {
   "cell_type": "markdown",
   "id": "13b0fc48",
   "metadata": {},
   "source": [
    "## Question 3\n",
    "\n",
    "**Let's make our function a little more user friendly by anticipating a possible error. Modify `sqrtsum` to *raise* an exception if both of the function arguments aren't either integers or floats**"
   ]
  },
  {
   "cell_type": "code",
   "execution_count": null,
   "id": "7f07d1db",
   "metadata": {},
   "outputs": [],
   "source": [
    "# your code here"
   ]
  },
  {
   "cell_type": "code",
   "execution_count": null,
   "id": "28de906a",
   "metadata": {},
   "outputs": [],
   "source": [
    "# andrew's soln\n",
    "def sqrtsum(x1, x2):\n",
    "    \"\"\"\n",
    "    takes in two real numbers and returns a tuple y1, y2 with y1=x1+x2 and y2=(y1)^1/2\n",
    "    \"\"\"\n",
    "    # check the inputs\n",
    "    for x in x1, x2:\n",
    "        if type(x) is not int and type(x) is not float:\n",
    "            raise TypeError(\"make sure x1 and x2 are numeric values\")\n",
    "\n",
    "    # return values if inputs are correct\n",
    "    y1 = x1 + x2\n",
    "    y2 = y1 ** 0.5\n",
    "    return y1, y2"
   ]
  },
  {
   "cell_type": "code",
   "execution_count": null,
   "id": "749a9ac6",
   "metadata": {},
   "outputs": [],
   "source": [
    "# catherine's solution\n",
    "import numpy as np\n",
    "\n",
    "def sqrtsum(x1, x2):\n",
    "    \"\"\"\n",
    "    takes in two real numbers and returns a tuple y1, y2 with y1=x1+x2 and y2=(y1)^1/2\n",
    "    \"\"\"\n",
    "    \n",
    "    # check the inputs\n",
    "    for x in x1, x2:\n",
    "        if not isinstance(x, int) and not isinstance(x,float):    # I googled to find isinstance\n",
    "            raise TypeError(\"make sure x1 and x2 are numeric values\")\n",
    "\n",
    "    # return values if inputs are correct\n",
    "    y1 = x1 + x2\n",
    "    y2 = y1 ** 0.5\n",
    "    return y1, y2  \n",
    "\n",
    "# testing\n",
    "a1=2.\n",
    "a2=3\n",
    "\n",
    "a_sum,a_sqrtsum = sqrtsum(a1,a2)\n",
    "print(a1,a2,a_sum,a_sqrtsum)"
   ]
  },
  {
   "cell_type": "markdown",
   "id": "8f2a149d",
   "metadata": {},
   "source": [
    "## Question 4\n",
    "\n",
    "**Now change your code in (3) to be a function called `checkinput()` that does the exact same thing as in (3) and is called by your main function `sqrtsum`. `checkinput` should take all the input parameters passed to `sqrtsum`.  `checkinput` is what is called a nested or inner function.**"
   ]
  },
  {
   "cell_type": "code",
   "execution_count": null,
   "id": "72829972",
   "metadata": {},
   "outputs": [],
   "source": [
    "# your code here"
   ]
  },
  {
   "cell_type": "code",
   "execution_count": null,
   "id": "6f59e6f9",
   "metadata": {},
   "outputs": [],
   "source": [
    "# andrew's soln\n",
    "def sqrtsum(x1, x2):\n",
    "    \"\"\"\n",
    "    takes in two real numbers and returns a tuple y1, y2 with y1=x1+x2 and y2=(y1)^1/2\n",
    "    \"\"\"\n",
    "    def check_input(x1, x2):\n",
    "    for x in x1, x2:\n",
    "        if not isinstance(x, int) and not isinstance(x,float):    # I googled to find isinstance\n",
    "            raise TypeError(\"make sure x1 and x2 are numeric values\")\n",
    "    \n",
    "    # check the inputs\n",
    "    check_input(x1, x2)\n",
    "    \n",
    "    # return values if inputs are correct\n",
    "    y1 = x1 + x2\n",
    "    y2 = y1 ** 0.5\n",
    "    return y1, y2"
   ]
  },
  {
   "cell_type": "code",
   "execution_count": null,
   "id": "4fa9a5de",
   "metadata": {},
   "outputs": [],
   "source": [
    "# catherine's solution\n",
    "# discuss scope here\n",
    "#\n",
    "# More on inner/nested functions:  \n",
    "#     See section on Creating Inner Functions - second part of page is more advanced than we will cover in 211\n",
    "# https://realpython.com/inner-functions-what-are-they-good-for/\n",
    "\n",
    "def sqrtsum(x1, x2):\n",
    "    \"\"\"\n",
    "    takes in two real numbers and returns a tuple y1, y2 with y1=x1+x2 and y2=(y1)^1/2\n",
    "    \"\"\"\n",
    "    def check_input(x1, x2):\n",
    "        for x in x1, x2:\n",
    "            if type(x) is not int and type(x) is not float:\n",
    "                raise TypeError(\"make sure x1 and x2 are numeric values\")\n",
    "    \n",
    "    # check the inputs\n",
    "    check_input(x1, x2)\n",
    "    \n",
    "    # return values if inputs are correct\n",
    "    y1 = x1 + x2\n",
    "    y2 = y1 ** 0.5\n",
    "    return y1, y2"
   ]
  },
  {
   "cell_type": "markdown",
   "id": "8d70e5f6",
   "metadata": {},
   "source": [
    "## Question 5\n",
    "\n",
    "**Continue writing the body of the function addn that takes three parameters n, summax and maxiter and adds n to itself while the sum is less than or equal to summax or if the number of iterations is less than or equal to maxiter, and then returns the sum.**"
   ]
  },
  {
   "cell_type": "code",
   "execution_count": null,
   "id": "024f8a5a",
   "metadata": {},
   "outputs": [],
   "source": [
    "def sum_n(n, summax, maxiter):\n",
    "    \"\"\"\n",
    "    adds n to itself until one of the\n",
    "    two conditions is reached:\n",
    "    1. Either sumn exceeds summax, or\n",
    "    2. maxiter iterations is exceeded.\n",
    "    \"\"\"\n",
    "    counter = 0\n",
    "    sumn = n\n",
    "    while <your code here>:\n",
    "        pass # your code here"
   ]
  },
  {
   "cell_type": "code",
   "execution_count": null,
   "id": "233bec46",
   "metadata": {},
   "outputs": [],
   "source": [
    "# Andrew's and Catherine's solutions the same\n",
    "\n",
    "def sum_n(n, summax, maxiter):\n",
    "    \"\"\"\n",
    "    adds n to itself until one of the\n",
    "    two conditions is reached:\n",
    "    1. Either sumn exceeds summax, or\n",
    "    2. maxiter iterations is exceeded.\n",
    "    \"\"\"\n",
    "    counter = 0\n",
    "    sumn = n\n",
    "    while sumn <= (summax) and counter <= maxiter:\n",
    "        sumn += n\n",
    "        counter += 1\n",
    "    return sumn"
   ]
  },
  {
   "cell_type": "code",
   "execution_count": null,
   "id": "5ea83914",
   "metadata": {},
   "outputs": [],
   "source": [
    "# Some extra things to discuss:  Catherine\n",
    "\n",
    "import numpy as np    # I always add\n",
    "\n",
    "def sum_n(n, summax, maxiter):\n",
    "    \"\"\"\n",
    "    adds n to itself until one of the\n",
    "    two conditions is reached:\n",
    "    1. Either sumn exceeds summax, or\n",
    "    2. maxiter iterations is exceeded.\n",
    "    \"\"\"\n",
    "    counter = 0\n",
    "    sumn = n\n",
    "    while sumn <= (summax) and counter <= maxiter:\n",
    "        sumn += n\n",
    "        counter += 1\n",
    "    return sumn\n",
    "\n",
    "# 1.  Calling the function in the main script\n",
    "a1=2\n",
    "niter=150\n",
    "maxsum=101\n",
    "\n",
    "# calling the function\n",
    "mysum=sum_n(a1,maxsum,niter)\n",
    "print(a1,mysum)\n",
    "\n",
    "# 2. if i modify n inside function, is a1 modified?\n",
    "    # add these 3 lines to start of function code\n",
    "    # print(f'n1 before modification={n}')\n",
    "    # n=1\n",
    "    # print(f'n1 after modification={n}')\n",
    "    \n",
    "# things to think about on your own:  \n",
    "# tricky: how would i modify the function to return the last value of sumn that was <= summax?  "
   ]
  },
  {
   "cell_type": "markdown",
   "id": "c9cdf921",
   "metadata": {},
   "source": [
    "## Question 6\n",
    "\n",
    "**Why doesn't this work? Debug this code**"
   ]
  },
  {
   "cell_type": "code",
   "execution_count": null,
   "id": "8237c42d",
   "metadata": {},
   "outputs": [],
   "source": [
    "my_num = 5.1\n",
    "y = cube_plus_one(my_num)\n",
    "\n",
    "\n",
    "def cube_plus_one(x):\n",
    "    \"\"\"\n",
    "    returns the cube of the input plus one\n",
    "    \"\"\"\n",
    "    return x ** 3 + 1"
   ]
  },
  {
   "cell_type": "code",
   "execution_count": null,
   "id": "f829bb65",
   "metadata": {},
   "outputs": [],
   "source": [
    "# andrew's soln\n",
    "my_num = 5.1\n",
    "\n",
    "\n",
    "def cube_plus_one(x):\n",
    "    \"\"\"\n",
    "    returns the cube of the input plus one\n",
    "    \"\"\"\n",
    "    return x ** 3 + 1\n",
    "\n",
    "\n",
    "# we need to define the function BEFORE calling it\n",
    "y = cube_plus_one(my_num)"
   ]
  }
 ],
 "metadata": {
  "jupytext": {
   "formats": "ipynb,md:myst"
  },
  "kernelspec": {
   "display_name": "Python 3 (ipykernel)",
   "language": "python",
   "name": "python3"
  }
 },
 "nbformat": 4,
 "nbformat_minor": 5
}
