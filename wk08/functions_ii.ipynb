{
 "cells": [
  {
   "cell_type": "markdown",
   "id": "70ca3bc9",
   "metadata": {},
   "source": [
    "# Functions II\n",
    "\n",
    "## EOSC 211\n",
    "\n",
    "**Week 8 Day 2**\n",
    "\n",
    "**Learning Objectives:**  \n",
    "1. Implement functions in your code\n",
    "2. Understand the difference between a *fruitful* function (one that returns a variable) and void functions (one that performs an action but does not return anything"
   ]
  },
  {
   "cell_type": "markdown",
   "id": "08cc84e3",
   "metadata": {},
   "source": [
    "## Question 1\n",
    "\n",
    "**We have two input arrays, `x` which is distance and `tpro` which is elevation in kilometers (say, along a survey line). Both have shape (100,). Use a *loop* and an *if statement* to write out a new variable `tlow` that contains only the values in `tpro` when the elevation is less than -1.8km.**"
   ]
  },
  {
   "cell_type": "code",
   "execution_count": null,
   "id": "54ebc464",
   "metadata": {},
   "outputs": [],
   "source": [
    "import numpy as np\n",
    "\n",
    "x = np.linspace(0, 1000, 100)  # km along the survey line\n",
    "tpro = -1.5 + 0.5 * np.sin(x) # pretend topo\n",
    "\n",
    "# your code here"
   ]
  },
  {
   "cell_type": "markdown",
   "id": "55005216",
   "metadata": {},
   "source": [
    "## Question 2\n",
    "\n",
    "**Turn the code snippet above into a function that returns an array `tlow` that is exactly the same as Q1, but that takes as input (1) `in_data` and (2) a variable called `cutoff` that contains an arbitrary cut-off for the elevation  (ie, I might want to select elevations below -2km or -1.8 km or -1.5km, so make this a variable).**\n",
    "\n",
    "**Finally, call your function with tpro as the input data and a cutoff of -1.8 km**"
   ]
  },
  {
   "cell_type": "code",
   "execution_count": null,
   "id": "796859b0",
   "metadata": {},
   "outputs": [],
   "source": [
    "# your code here"
   ]
  },
  {
   "cell_type": "markdown",
   "id": "3198e514",
   "metadata": {},
   "source": [
    "## Question 3\n",
    "\n",
    "**Modify your function to return a *tuple* containing the elevations below `cutoff`, and the *indexes* of where those elements are found; ie `(tlow, tlow_ind)`.**"
   ]
  },
  {
   "cell_type": "code",
   "execution_count": null,
   "id": "f21ad997",
   "metadata": {},
   "outputs": [],
   "source": [
    "# your code here"
   ]
  },
  {
   "cell_type": "markdown",
   "id": "148e9f4a",
   "metadata": {},
   "source": [
    "## Question 4\n",
    "\n",
    "**Finally, I need not have used a loop and an “if” statement in the function.  How would I rewrite the body of the function in Exercise 2 to use logical indexing?  Note that the function call and function definition line don’t need to be changed.**"
   ]
  },
  {
   "cell_type": "code",
   "execution_count": null,
   "id": "a8c1843b",
   "metadata": {},
   "outputs": [],
   "source": [
    "# your code here"
   ]
  }
 ],
 "metadata": {
  "jupytext": {
   "formats": "ipynb,md:myst"
  },
  "kernelspec": {
   "display_name": "Python 3 (ipykernel)",
   "language": "python",
   "name": "python3"
  }
 },
 "nbformat": 4,
 "nbformat_minor": 5
}
