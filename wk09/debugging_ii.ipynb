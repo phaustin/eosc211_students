{
 "cells": [
  {
   "cell_type": "markdown",
   "id": "150f4e83",
   "metadata": {},
   "source": [
    "# Debugging II\n",
    "\n",
    "## EOSC 211\n",
    "\n",
    "**Week 9 Day 2**\n",
    "\n",
    "**Learning Objectives: More practice with**  \n",
    "1.  Dictionaries\n",
    "2.  Functions\n",
    "3.  Debugging"
   ]
  },
  {
   "cell_type": "markdown",
   "id": "32fc8419",
   "metadata": {},
   "source": [
    "## Question 1\n",
    "\n",
    "**We have a record of speeds for a moving object (say, a drifter). We  want to see how long the object moves at a constant speed. In particular, we want to write code which will measure the length of time that the speed is less than `maxspd` and greater than `minspd` (call this a “run”). For example, if the speeds are stored in an array: `spd = np.array([5 1 5 5 5 10 5 1 5 5 5 1 2 2 5])` with `minspd=4` and `maxspd=6`, then we have 3 runs of length 1 and 2 runs of length 3, with no other runs. We would want to store this information in another variable in which the i$^{th}$ value was the number of runs of length i, i.e.:**\n",
    "\n",
    "```\n",
    "runs=[3 0 2 0 0 ...]\n",
    "```\n",
    "\n",
    "**Here is some code we have started to write to calculate runs in this way. However, there are 5 small bugs in this code - find and fix them.**"
   ]
  },
  {
   "cell_type": "code",
   "execution_count": null,
   "id": "66e8b555",
   "metadata": {},
   "outputs": [],
   "source": [
    "import numpy as np\n",
    "# debug this code\n",
    "\n",
    "def runlength(spd, minspd, maxspd):\n",
    "    \"\"\"\n",
    "    RUNLENGTH calculates run lengths tatistics\n",
    "\n",
    "    Inputs\n",
    "    spd: a time series (1D numpy array or list) of track speeds\n",
    "    minspd and maxspd: the lower and upper limits of speed for a run\n",
    "\n",
    "    Outputs\n",
    "    runs: an array in which runs[i] is the number of runs of i points.\n",
    "    \"\"\"\n",
    "    N = len(minspd)\n",
    "    runs = np.zeros(N)\n",
    "    runlen = 0\n",
    "    isrun = 0\n",
    "    for i in range(N)\n",
    "        if spd[k] >= minspd and spd[k] <= maxspd:\n",
    "            isrun=True\n",
    "            runlen = runlen+1\n",
    "        elif (spd[k] < minspd or spd[k] > maxspd ) and isrun:\n",
    "            runs[runlen]=runs[runlen]+1\n",
    "            runlen=0\n",
    "            isrun=False\n",
    "    if isrun:\n",
    "        runs[runlen]=runs[runlen]+1\n",
    "    "
   ]
  }
 ],
 "metadata": {
  "jupytext": {
   "formats": "ipynb,md:myst"
  },
  "kernelspec": {
   "display_name": "Python 3 (ipykernel)",
   "language": "python",
   "name": "python3"
  }
 },
 "nbformat": 4,
 "nbformat_minor": 5
}
