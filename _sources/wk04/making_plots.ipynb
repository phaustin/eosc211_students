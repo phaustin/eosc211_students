{
 "cells": [
  {
   "cell_type": "markdown",
   "id": "4d01a3c3",
   "metadata": {},
   "source": [
    "# Making Plots Worksheet\n",
    "\n",
    "## EOSC 211\n",
    "\n",
    "**Week 4 Day 1**\n",
    "\n",
    "**Learning Objectives:**  \n",
    "1. Introduce Matplotlib\n",
    "2. List the elements that make up a *scientific figure*\n",
    "2. Choose the appropriate figure to present a particular data set"
   ]
  },
  {
   "cell_type": "markdown",
   "id": "05e1c181",
   "metadata": {},
   "source": [
    "### Question 1\n",
    "\n",
    "**List the 5 elements required for a scientific figure (recall lab week 3)**"
   ]
  },
  {
   "cell_type": "markdown",
   "id": "ba6bc9a1",
   "metadata": {},
   "source": [
    "your answer here\n",
    "\n",
    "$~~~~$\n",
    "\n",
    "$~~~~$"
   ]
  },
  {
   "cell_type": "markdown",
   "id": "906e9ff5",
   "metadata": {},
   "source": [
    "### Question 2\n",
    "**When would the following 3 plot styles be appropriate choices to present data? In your groups, come up with a \"dataset\" (be creative!) that you would present with each of the following:**"
   ]
  },
  {
   "cell_type": "markdown",
   "id": "eff90d31",
   "metadata": {},
   "source": [
    "**A) Scatter Plot** your answer here\n",
    "\n",
    "$~~~~$"
   ]
  },
  {
   "cell_type": "markdown",
   "id": "11d10b40",
   "metadata": {},
   "source": [
    "**B) Histogram**\n",
    "\n",
    "$~~~~$"
   ]
  },
  {
   "cell_type": "markdown",
   "id": "08a61393",
   "metadata": {},
   "source": [
    "**C) Contour Plot**\n",
    "\n",
    "$~~~~$"
   ]
  },
  {
   "cell_type": "markdown",
   "id": "25478722",
   "metadata": {},
   "source": [
    "### Question 3\n",
    "\n",
    "**The reading for this week has tutorials for many different styles of plots (line plot, contour plot, boxplot, violin plot, etc). Choose 2 of the available options, and repeat question 2: come up with an experimental setup or data collection scheme that would best be presented via your choice of plot**"
   ]
  },
  {
   "cell_type": "markdown",
   "id": "74fcfada",
   "metadata": {},
   "source": [
    "your answer here\n",
    "\n",
    "$~~~~$\n",
    "\n",
    "$~~~~$"
   ]
  }
 ],
 "metadata": {
  "jupytext": {
   "formats": "ipynb,md:myst",
   "text_representation": {
    "extension": ".md",
    "format_name": "myst",
    "format_version": 0.13,
    "jupytext_version": "1.11.4"
   }
  },
  "kernelspec": {
   "display_name": "Python 3 (ipykernel)",
   "language": "python",
   "name": "python3"
  },
  "language_info": {
   "codemirror_mode": {
    "name": "ipython",
    "version": 3
   },
   "file_extension": ".py",
   "mimetype": "text/x-python",
   "name": "python",
   "nbconvert_exporter": "python",
   "pygments_lexer": "ipython3",
   "version": "3.8.10"
  },
  "source_map": [
   13,
   26,
   32,
   40,
   45,
   51,
   58,
   64,
   70
  ]
 },
 "nbformat": 4,
 "nbformat_minor": 5
}