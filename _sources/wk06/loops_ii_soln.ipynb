{
 "cells": [
  {
   "cell_type": "markdown",
   "id": "407a679c",
   "metadata": {},
   "source": [
    "# Loops II solution\n",
    "\n",
    "## EOSC 211\n",
    "\n",
    "**Week 6 Day 2**\n",
    "\n",
    "**Learning Objectives:**  \n",
    "1. More practice with loops\n",
    "2. Write elegant, efficient code\n",
    "\n",
    "**Write Python code to solve the following problems.**"
   ]
  },
  {
   "cell_type": "markdown",
   "id": "d55c8ed0",
   "metadata": {},
   "source": [
    "## Question 1\n",
    "\n",
    "**Display the numbers of the series 2 4 6 8 10 12 …100 to the screen one by one.**"
   ]
  },
  {
   "cell_type": "code",
   "execution_count": null,
   "id": "de73ab72",
   "metadata": {},
   "outputs": [],
   "source": [
    "import numpy as np\n",
    "# your code here"
   ]
  },
  {
   "cell_type": "markdown",
   "id": "8251570e",
   "metadata": {},
   "source": [
    "```python\n",
    "# andrew's soln\n",
    "for num in np.arange(2,101,2):\n",
    "    print(num)\n",
    "```"
   ]
  },
  {
   "cell_type": "markdown",
   "id": "125febd1",
   "metadata": {},
   "source": [
    "## Question 2\n",
    "\n",
    "You are given the matrix $A$ which is size 10x20. The following code loops through each element $A_{ij}$ and calculates $i \\cdot j \\cdot A_{ij}$. Modify this code to store successive calculations in successive elements of a new variable `B` which will have shape 1x200."
   ]
  },
  {
   "cell_type": "code",
   "execution_count": null,
   "id": "649e03a8",
   "metadata": {},
   "outputs": [],
   "source": [
    "# modify this code\n",
    "A = np.ones([10,20])\n",
    "\n",
    "for i in np.arange(0,10):\n",
    "    for j in np.arange(0,20):\n",
    "        k = i * j * A[i,j]        "
   ]
  },
  {
   "cell_type": "code",
   "execution_count": null,
   "id": "c9385673",
   "metadata": {},
   "outputs": [],
   "source": [
    "# andrew's soln\n",
    "B = np.empty(200)\n",
    "k = 0 # create an index variable to loop over the elements of B\n",
    "for i in np.arange(0,10):\n",
    "    for j in np.arange(0,20):\n",
    "        B[k] = i * j * A[i,j]\n",
    "        k += 1\n",
    "print(B) # instructor note: this question modified for python counting from 0 convention instead of matlab from 1       "
   ]
  },
  {
   "cell_type": "code",
   "execution_count": null,
   "id": "bc4dfdde",
   "metadata": {},
   "outputs": [],
   "source": [
    "# catherine's solution\n",
    "import numpy as np\n",
    "\n",
    "nrows = 10     # extra code lines here to define dimensions: avoids potential typos later and makes syntax clear\n",
    "mcols = 20\n",
    "A = np.ones((nrows,mcols))\n",
    "B = np.empty(nrows*mcols)\n",
    "\n",
    "for i in np.arange(0,nrows):    # i will be 1st index into A\n",
    "    for j in np.arange(0,mcols):  # j will be 2nd index into A      \n",
    "        B[i*mcols+j] = i * j * A[i,j]    # check for yourself that i*mcols+j is same as k in solution above\n",
    "\n",
    "print(B)"
   ]
  },
  {
   "cell_type": "markdown",
   "id": "14636d54",
   "metadata": {},
   "source": [
    "## Question 3\n",
    "\n",
    "**Given a variable `x = [1, 12, 53, 34, 61, 16, 17, 38, 20]`,  generate a new variable `y` whose elements are**\n",
    "\n",
    "**a.\t2 times the value of the corresponding element in `x` if the latter is even**\n",
    "\n",
    "**b.\t3 times the value of the corresponding element in `x` if the latter is odd**"
   ]
  },
  {
   "cell_type": "code",
   "execution_count": null,
   "id": "d765e905",
   "metadata": {},
   "outputs": [],
   "source": [
    "# andrew's solution\n",
    "x = [1, 12, 53, 34, 61, 16, 17, 38, 20]\n",
    "y = np.empty_like(x)\n",
    "for i in range(len(x)):\n",
    "    if x[i] % 2 == 0: # check if x[i] is even\n",
    "        y[i] = 2 * x[i]\n",
    "    else:\n",
    "        y[i] = 3 * x[i]\n",
    "print(y)"
   ]
  },
  {
   "cell_type": "code",
   "execution_count": null,
   "id": "80947dda",
   "metadata": {},
   "outputs": [],
   "source": [
    "# catherine's solution\n",
    "x = [1, 12, 53, 34, 61, 16, 17, 38, 20]\n",
    "y = np.empty(np.shape(x))     # see comment at end in print statement\n",
    "\n",
    "for k in range(len(x)):\n",
    "    if x[k]%2 == 0:\n",
    "        y[k] = 2 * x[k]\n",
    "    else:\n",
    "        y[k] = 3 * x[k] \n",
    "        \n",
    "message=f\"\"\"\n",
    "   y contains {y}\n",
    "   \n",
    "   Note that here y has type float and in previous \n",
    "   solution using np.empty_like had type int (same as x)\n",
    "   We saw this also in a question on the previous worksheet\n",
    "   Depending on your problem you may or may not want to preserve type\n",
    "   e.g. think about what happens if I wanted half the value of \n",
    "   the element of x when the latter is odd\n",
    "   \"\"\"\n",
    "\n",
    "print(message)"
   ]
  },
  {
   "cell_type": "markdown",
   "id": "6bfa4a98",
   "metadata": {},
   "source": [
    "## Question 4 \n",
    "\n",
    "**Given a user’s input of some integer num, calculate the factorial of the input. Definition: n! = n(n-1)(n-2)...(3)(2)(1)**"
   ]
  },
  {
   "cell_type": "markdown",
   "id": "bd66a943",
   "metadata": {},
   "source": [
    "```python\n",
    "# assigns user input to a variable `num`\n",
    "num = int(input('Enter an integer: '))\n",
    "# add your code here\n",
    "```"
   ]
  },
  {
   "cell_type": "markdown",
   "id": "dc39e8ed",
   "metadata": {},
   "source": [
    "``` python\n",
    "# assigns user input to a variable `num`\n",
    "num = int(input('Enter an integer: '))  \n",
    "# andrew's soln\n",
    "fac = 1  \n",
    "for n in range(num):  \n",
    "    #print(n+1)  \n",
    "    fac *= (n + 1) # remember pythons counting convention, add 1 to n to \n",
    "print(fac)\n",
    "```"
   ]
  },
  {
   "cell_type": "markdown",
   "id": "9481f1e1",
   "metadata": {},
   "source": [
    "``` python\n",
    "# catherine's solution\n",
    "num = int(input('Enter your favorite positive integer'))\n",
    "\n",
    "my_fac = 1\n",
    "for n in range(num,1,-1):   # goes from n down to 2 inclusive, multiplying by 1 does nothing\n",
    "    my_fac = my_fac*n\n",
    "    \n",
    "print(my_fac)\n",
    "```"
   ]
  },
  {
   "cell_type": "markdown",
   "id": "9b25dbe3",
   "metadata": {},
   "source": [
    "## Question 5\n",
    "\n",
    "Modify the above factorial calculation to return an error message if num is negative or is not an integer. \n",
    "To exit and raise an error, include `raise Exception('Error message here')`, or  `raise TypeError('Error message here')`"
   ]
  },
  {
   "cell_type": "code",
   "execution_count": null,
   "id": "a50e387b",
   "metadata": {},
   "outputs": [],
   "source": [
    "# your code here"
   ]
  },
  {
   "cell_type": "markdown",
   "id": "69ce1a8f",
   "metadata": {},
   "source": [
    "```python\n",
    "# andrew's soln\n",
    "num = int(input('Enter an integer: '))\n",
    "print(type(num))\n",
    "\n",
    "# my original solution already does this, if the input can't be \n",
    "# cast from str to int then it raises a ValueError\n",
    "```"
   ]
  },
  {
   "cell_type": "markdown",
   "id": "19884d39",
   "metadata": {},
   "source": [
    "```python\n",
    "# catherine's solution\n",
    "\n",
    "# casting into 'int' on input deals with cases that are not an integer\n",
    "# however non-postive integers will still allow code to be run, but the print statement will return 1 \n",
    "# as the loop condition is never met so my_fac contains its initialized value\n",
    "\n",
    "# fixing this\n",
    "num = int(input('Enter your favorite positive integer'))\n",
    "if (num <= 0):\n",
    "    raise TypeError('must enter positive integer')\n",
    "\n",
    "my_fac = 1\n",
    "for n in range(num,1,-1):   # goes from n down to 2 inclusive, multiplying by 1 does nothing\n",
    "    my_fac = my_fac*n\n",
    "    \n",
    "print(my_fac)\n",
    "```"
   ]
  }
 ],
 "metadata": {
  "jupytext": {
   "cell_metadata_filter": "all",
   "formats": "ipynb,md:myst",
   "notebook_metadata_filter": "all,-language_info,-toc,-latex_envs",
   "text_representation": {
    "extension": ".md",
    "format_name": "myst",
    "format_version": 0.13,
    "jupytext_version": "1.10.3"
   }
  },
  "kernelspec": {
   "display_name": "Python 3 (ipykernel)",
   "language": "python",
   "name": "python3"
  },
  "source_map": [
   15,
   29,
   35,
   38,
   46,
   52,
   61,
   72,
   86,
   96,
   108,
   131,
   137,
   145,
   158,
   171,
   178,
   180,
   191
  ]
 },
 "nbformat": 4,
 "nbformat_minor": 5
}