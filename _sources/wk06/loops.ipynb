{
 "cells": [
  {
   "cell_type": "markdown",
   "id": "51c2f1e3",
   "metadata": {},
   "source": [
    "# Loops\n",
    "\n",
    "## EOSC 211\n",
    "\n",
    "**Week 6 Day 1**\n",
    "\n",
    "**Learning Objectives:**  \n",
    "1. Use for and while loops to do useful things\n",
    "2. Appreciate built in functions\n",
    "\n",
    "**Write Python code to solve the following problems.  Do not use any built-in functions (unless explicitly allowed).  It is really good practice to 'map out' your algorithm on paper/in your note-taking app first.  In other words, write what we call 'pseudo-code' or a flow chart.  This will almost always save you a LOT of time debugging later.**"
   ]
  },
  {
   "cell_type": "markdown",
   "id": "064a8b35",
   "metadata": {},
   "source": [
    "## Question 1\n",
    "\n",
    "**Use a loop to multiply together all the values in a numpy array `x`, which has n points. The final product goes into a variable `total`.**"
   ]
  },
  {
   "cell_type": "code",
   "execution_count": 1,
   "id": "aab4c737",
   "metadata": {},
   "outputs": [],
   "source": [
    "# your code here"
   ]
  },
  {
   "cell_type": "markdown",
   "id": "efa2dcab",
   "metadata": {},
   "source": [
    "## Question 2\n",
    "\n",
    "**Use a loop to find the maximum (largest) value in `x`, writing the result into a variable `largest`.**"
   ]
  },
  {
   "cell_type": "code",
   "execution_count": 2,
   "id": "1829c0c0",
   "metadata": {},
   "outputs": [],
   "source": [
    "# your code here"
   ]
  },
  {
   "cell_type": "markdown",
   "id": "c8d362b2",
   "metadata": {},
   "source": [
    "## Question 3\n",
    "\n",
    "**Use a loop to count the number of values in a list `x` that appear before a 5. (i.e. if `x = [1, 12, 2.5, 5, 8, 4, 5]` we want  an answer of 3). Put this number into another variable `get_five`.**"
   ]
  },
  {
   "cell_type": "code",
   "execution_count": 3,
   "id": "f9db90d0",
   "metadata": {},
   "outputs": [],
   "source": [
    "# your code here"
   ]
  },
  {
   "cell_type": "markdown",
   "id": "6f171f04",
   "metadata": {},
   "source": [
    "## Question 4\n",
    "\n",
    "**Consider an MxN array `A`.  Use a double loop to form a new 1xN array `rowsum`, the k$^{th}$ element of which contains the sum of elements in the k$^{th}$ column of `A`. You may use the built in functions `range()` and `len()`.**"
   ]
  },
  {
   "cell_type": "code",
   "execution_count": 4,
   "id": "06640097",
   "metadata": {},
   "outputs": [],
   "source": [
    "# your code here"
   ]
  },
  {
   "cell_type": "markdown",
   "id": "57628c1b",
   "metadata": {},
   "source": [
    "## Exercise 5\n",
    "\n",
    "**A) Run the following cell. What is the output (describe in words)**"
   ]
  },
  {
   "cell_type": "code",
   "execution_count": 5,
   "id": "e17509c5",
   "metadata": {},
   "outputs": [
    {
     "ename": "SyntaxError",
     "evalue": "unexpected EOF while parsing (3029073151.py, line 4)",
     "output_type": "error",
     "traceback": [
      "\u001b[0;36m  File \u001b[0;32m\"/tmp/ipykernel_1589234/3029073151.py\"\u001b[0;36m, line \u001b[0;32m4\u001b[0m\n\u001b[0;31m    x = np.append(x, x[k-1] + x[k-2\u001b[0m\n\u001b[0m                                   ^\u001b[0m\n\u001b[0;31mSyntaxError\u001b[0m\u001b[0;31m:\u001b[0m unexpected EOF while parsing\n"
     ]
    }
   ],
   "source": [
    "import numpy as np\n",
    "x = np.array([0, 1])\n",
    "for k in np.arange(2,20):\n",
    "    x = np.append(x, x[k-1] + x[k-2"
   ]
  },
  {
   "cell_type": "markdown",
   "id": "f1b68c3c",
   "metadata": {},
   "source": [
    "your answer here"
   ]
  },
  {
   "cell_type": "markdown",
   "id": "aaf6ad4b",
   "metadata": {},
   "source": [
    "**B) How many arrays have been created by the time the loop finishes? Is this code *efficient?* Why or why not?**"
   ]
  },
  {
   "cell_type": "markdown",
   "id": "2c55ece7",
   "metadata": {},
   "source": [
    "your answer here"
   ]
  }
 ],
 "metadata": {
  "jupytext": {
   "formats": "ipynb,md:myst",
   "text_representation": {
    "extension": ".md",
    "format_name": "myst",
    "format_version": 0.13,
    "jupytext_version": "1.10.3"
   }
  },
  "kernelspec": {
   "display_name": "Python 3 (ipykernel)",
   "language": "python",
   "name": "python3"
  },
  "language_info": {
   "codemirror_mode": {
    "name": "ipython",
    "version": 3
   },
   "file_extension": ".py",
   "mimetype": "text/x-python",
   "name": "python",
   "nbconvert_exporter": "python",
   "pygments_lexer": "ipython3",
   "version": "3.8.12"
  },
  "source_map": [
   13,
   27,
   33,
   35,
   41,
   43,
   49,
   51,
   57,
   59,
   65,
   70,
   74,
   78
  ]
 },
 "nbformat": 4,
 "nbformat_minor": 5
}