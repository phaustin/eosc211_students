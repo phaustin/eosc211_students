{
 "cells": [
  {
   "cell_type": "markdown",
   "id": "bb123888",
   "metadata": {},
   "source": [
    "# Loops\n",
    "\n",
    "## EOSC 211\n",
    "\n",
    "**Week 6 Day 1**\n",
    "\n",
    "**Learning Objectives:**  \n",
    "1. Use for and while loops to do useful things\n",
    "2. Appreciate built in functions\n",
    "\n",
    "**Write Python code to solve the following problems.  Do not use any built-in functions (unless explicitly allowed).  It is really good practice to 'map out' your algorithm on paper/in your note-taking app first.  In other words, write what we call 'pseudo-code' or a flow chart.  This will almost always save you a LOT of time debugging later.**"
   ]
  },
  {
   "cell_type": "markdown",
   "id": "5dec2abb",
   "metadata": {},
   "source": [
    "## Question 1\n",
    "\n",
    "**Use a loop to multiply together all the values in a numpy array `x`, which has n points. The final product goes into a variable `total`.**"
   ]
  },
  {
   "cell_type": "code",
   "execution_count": 1,
   "id": "b0f82417",
   "metadata": {},
   "outputs": [],
   "source": [
    "# your code here"
   ]
  },
  {
   "cell_type": "markdown",
   "id": "e6d1da0b",
   "metadata": {},
   "source": [
    "## Question 2\n",
    "\n",
    "**Use a loop to find the maximum (largest) value in `x`, writing the result into a variable `largest`.**"
   ]
  },
  {
   "cell_type": "code",
   "execution_count": 2,
   "id": "32085597",
   "metadata": {},
   "outputs": [],
   "source": [
    "# your code here"
   ]
  },
  {
   "cell_type": "markdown",
   "id": "eeb6d728",
   "metadata": {},
   "source": [
    "## Question 3\n",
    "\n",
    "**Use a loop to count the number of values in a list `x` that appear before a 5. (i.e. if `x = [1, 12, 2.5, 5, 8, 4, 5]` we want  an answer of 3). Put this number into another variable `get_five`.**"
   ]
  },
  {
   "cell_type": "code",
   "execution_count": 3,
   "id": "83ff04f7",
   "metadata": {},
   "outputs": [],
   "source": [
    "# your code here"
   ]
  },
  {
   "cell_type": "markdown",
   "id": "379dbb64",
   "metadata": {},
   "source": [
    "## Question 4\n",
    "\n",
    "**Consider an MxN array `A`.  Use a double loop to form a new 1xN array `rowsum`, the k$^{th}$ element of which contains the sum of elements in the k$^{th}$ column of `A`. You may use the built in functions `range()` and `len()`.**"
   ]
  },
  {
   "cell_type": "code",
   "execution_count": 4,
   "id": "147a1503",
   "metadata": {},
   "outputs": [],
   "source": [
    "# your code here"
   ]
  },
  {
   "cell_type": "markdown",
   "id": "8616bda3",
   "metadata": {},
   "source": [
    "## Exercise 5\n",
    "\n",
    "**A) Run the following cell. What is the output (describe in words)**"
   ]
  },
  {
   "cell_type": "code",
   "execution_count": 5,
   "id": "a5736a8a",
   "metadata": {},
   "outputs": [],
   "source": [
    "import numpy as np\n",
    "x = np.array([0, 1])\n",
    "for k in np.arange(2,20):\n",
    "    x = np.append(x, x[k-1] + x[k-2])"
   ]
  },
  {
   "cell_type": "markdown",
   "id": "d9b1ed70",
   "metadata": {},
   "source": [
    "your answer here"
   ]
  },
  {
   "cell_type": "markdown",
   "id": "21b4d47d",
   "metadata": {},
   "source": [
    "**B) How many arrays have been created by the time the loop finishes? Is this code *efficient?* Why or why not?**"
   ]
  },
  {
   "cell_type": "markdown",
   "id": "ac4f797a",
   "metadata": {},
   "source": [
    "your answer here"
   ]
  }
 ],
 "metadata": {
  "jupytext": {
   "formats": "ipynb,md:myst",
   "text_representation": {
    "extension": ".md",
    "format_name": "myst",
    "format_version": 0.13,
    "jupytext_version": "1.10.3"
   }
  },
  "kernelspec": {
   "display_name": "Python 3 (ipykernel)",
   "language": "python",
   "name": "python3"
  },
  "language_info": {
   "codemirror_mode": {
    "name": "ipython",
    "version": 3
   },
   "file_extension": ".py",
   "mimetype": "text/x-python",
   "name": "python",
   "nbconvert_exporter": "python",
   "pygments_lexer": "ipython3",
   "version": "3.8.10"
  },
  "source_map": [
   13,
   27,
   33,
   35,
   41,
   43,
   49,
   51,
   57,
   59,
   65,
   70,
   74,
   78
  ]
 },
 "nbformat": 4,
 "nbformat_minor": 5
}