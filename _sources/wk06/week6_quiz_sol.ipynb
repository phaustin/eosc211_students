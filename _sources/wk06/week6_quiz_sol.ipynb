{
 "cells": [
  {
   "cell_type": "markdown",
   "id": "699e482f",
   "metadata": {},
   "source": [
    "- **Name:**\n",
    "- **Student number:**"
   ]
  },
  {
   "cell_type": "markdown",
   "id": "b264b757",
   "metadata": {},
   "source": [
    "**Instructions**:  Answer all three questions"
   ]
  },
  {
   "cell_type": "markdown",
   "id": "e68f56f0",
   "metadata": {},
   "source": [
    "# Week 6 quiz solution"
   ]
  },
  {
   "cell_type": "markdown",
   "id": "6416ff05",
   "metadata": {},
   "source": [
    "## Q1  What does the following cell print?"
   ]
  },
  {
   "cell_type": "code",
   "execution_count": 1,
   "id": "8330db2d",
   "metadata": {},
   "outputs": [
    {
     "name": "stdout",
     "output_type": "stream",
     "text": [
      "tom\n",
      "lisa\n",
      "joey\n"
     ]
    }
   ],
   "source": [
    "for the_name in ['tom','lisa','joey','steph']:\n",
    "    print(the_name)\n",
    "    if the_name == 'joey':\n",
    "        break"
   ]
  },
  {
   "cell_type": "markdown",
   "id": "0e45dae4",
   "metadata": {},
   "source": [
    "## Q2 What does the following cell print?"
   ]
  },
  {
   "cell_type": "code",
   "execution_count": 2,
   "id": "f171f8dc",
   "metadata": {},
   "outputs": [
    {
     "name": "stdout",
     "output_type": "stream",
     "text": [
      "0\n",
      "1\n",
      "2\n",
      "3\n"
     ]
    }
   ],
   "source": [
    "a = -1\n",
    "while a < 3:\n",
    "    a = a+1\n",
    "    print(a)"
   ]
  },
  {
   "cell_type": "markdown",
   "id": "4548f722",
   "metadata": {},
   "source": [
    "## Q3 What does the following cell print?"
   ]
  },
  {
   "cell_type": "code",
   "execution_count": 3,
   "id": "45c65098",
   "metadata": {},
   "outputs": [
    {
     "name": "stdout",
     "output_type": "stream",
     "text": [
      "1 0\n",
      "1 1\n",
      "2 0\n",
      "2 1\n",
      "2 2\n",
      "2 3\n"
     ]
    }
   ],
   "source": [
    "for icount in range(3):\n",
    "    jcount = 0\n",
    "    while jcount < 2*icount:\n",
    "        print(icount,jcount)\n",
    "        jcount = jcount + 1\n",
    "        "
   ]
  },
  {
   "cell_type": "markdown",
   "id": "05a7fc69",
   "metadata": {},
   "source": [
    "## Provide code that does the following\n",
    "\n",
    "Use a while loop to print all numbers between 0 and 20 (inclusive) that\n",
    "are divisible by 5"
   ]
  },
  {
   "cell_type": "code",
   "execution_count": 4,
   "id": "132ce1aa",
   "metadata": {},
   "outputs": [
    {
     "name": "stdout",
     "output_type": "stream",
     "text": [
      "0\n",
      "5\n",
      "10\n",
      "15\n",
      "20\n"
     ]
    }
   ],
   "source": [
    "counter = 0\n",
    "while counter <= 20:\n",
    "    if counter % 5 == 0:\n",
    "        print(counter)\n",
    "    counter = counter + 1"
   ]
  }
 ],
 "metadata": {
  "celltoolbar": "Create Assignment",
  "jupytext": {
   "cell_metadata_filter": "all",
   "formats": "ipynb,md:myst",
   "notebook_metadata_filter": "all",
   "text_representation": {
    "extension": ".md",
    "format_name": "myst",
    "format_version": 0.13,
    "jupytext_version": "1.10.3"
   }
  },
  "kernelspec": {
   "display_name": "Python 3 (ipykernel)",
   "language": "python",
   "name": "python3"
  },
  "language_info": {
   "codemirror_mode": {
    "name": "ipython",
    "version": 3
   },
   "file_extension": ".py",
   "mimetype": "text/x-python",
   "name": "python",
   "nbconvert_exporter": "python",
   "pygments_lexer": "ipython3",
   "version": "3.8.10"
  },
  "source_map": [
   26,
   31,
   35,
   39,
   43,
   48,
   52,
   57,
   61,
   68,
   75
  ]
 },
 "nbformat": 4,
 "nbformat_minor": 5
}