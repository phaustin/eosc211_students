{
 "cells": [
  {
   "cell_type": "markdown",
   "id": "01dc255f",
   "metadata": {},
   "source": [
    "# Loops II\n",
    "\n",
    "## EOSC 211\n",
    "\n",
    "**Week 6 Day 2**\n",
    "\n",
    "**Learning Objectives:**  \n",
    "1. More practice with loops\n",
    "2. Write elegant, efficient code\n",
    "\n",
    "**Write Python code to solve the following problems.**"
   ]
  },
  {
   "cell_type": "markdown",
   "id": "95067e70",
   "metadata": {},
   "source": [
    "## Question 1\n",
    "\n",
    "**Display the numbers of the series 2 4 6 8 10 12 …100 to the screen one by one.**"
   ]
  },
  {
   "cell_type": "code",
   "execution_count": 1,
   "id": "e09e8a37",
   "metadata": {},
   "outputs": [],
   "source": [
    "# your code here"
   ]
  },
  {
   "cell_type": "markdown",
   "id": "6b6d88cb",
   "metadata": {},
   "source": [
    "## Question 2\n",
    "\n",
    "You are given the matrix $A$ which is size 10x20. The following code loops through each element $A_{ij}$ and calculates $i \\cdot j \\cdot A_{ij}$. Modify this code to store successive calculations in successive elements of a new variable `B` which will be size 1x200."
   ]
  },
  {
   "cell_type": "code",
   "execution_count": 2,
   "id": "54102cb2",
   "metadata": {},
   "outputs": [
    {
     "ename": "SyntaxError",
     "evalue": "invalid syntax (2511859354.py, line 4)",
     "output_type": "error",
     "traceback": [
      "\u001b[0;36m  File \u001b[0;32m\"/tmp/ipykernel_1438266/2511859354.py\"\u001b[0;36m, line \u001b[0;32m4\u001b[0m\n\u001b[0;31m    *\u001b[0m\n\u001b[0m     ^\u001b[0m\n\u001b[0;31mSyntaxError\u001b[0m\u001b[0;31m:\u001b[0m invalid syntax\n"
     ]
    }
   ],
   "source": [
    "# modify this code\n",
    "import numpy as np\n",
    "A = np.ones([10,20])\n",
    "*\n",
    "for i in np.arange(0,10):\n",
    "    for j in np.arange(0,20):\n",
    "        k = i * j * A[i,j]        "
   ]
  },
  {
   "cell_type": "markdown",
   "id": "d0d82bde",
   "metadata": {},
   "source": [
    "## Question 3\n",
    "\n",
    "**Given a variable `x = [1, 12, 53, 34, 61, 16, 17, 38, 20]`,  generate a new variable `y` whose elements are**\n",
    "\n",
    "**a.\t2 times the value of the corresponding element in `x` if the latter is even**\n",
    "\n",
    "**b.\t3 times the value of the corresponding element in `x` if the latter is odd**\n",
    "\n",
    "\n",
    "\n",
    "## Question 4 \n",
    "\n",
    "**Given a user’s input of some integer num, calculate the factorial of the input. Definition: n! = n(n-1)(n-2)...(3)(2)(1)**"
   ]
  },
  {
   "cell_type": "markdown",
   "id": "cd006aa6",
   "metadata": {},
   "source": [
    "``` python\n",
    "# assigns user input to a variable `num`\n",
    "num = int(input('Enter an integer: '))\n",
    "# add your code here\n",
    "```"
   ]
  },
  {
   "cell_type": "markdown",
   "id": "db353767",
   "metadata": {},
   "source": [
    "## Question 5\n",
    "\n",
    "Modify the above factorial calculation to return an error message if num is negative or is not an integer. \n",
    "To exit and raise an error, include `raise Exception('Error message here')`, or  `raise TypeError('Error message here')`"
   ]
  },
  {
   "cell_type": "code",
   "execution_count": 3,
   "id": "0e184ad5",
   "metadata": {},
   "outputs": [],
   "source": [
    "# your code here"
   ]
  }
 ],
 "metadata": {
  "jupytext": {
   "formats": "ipynb,md:myst",
   "text_representation": {
    "extension": ".md",
    "format_name": "myst",
    "format_version": 0.13,
    "jupytext_version": "1.10.3"
   }
  },
  "kernelspec": {
   "display_name": "Python 3 (ipykernel)",
   "language": "python",
   "name": "python3"
  },
  "language_info": {
   "codemirror_mode": {
    "name": "ipython",
    "version": 3
   },
   "file_extension": ".py",
   "mimetype": "text/x-python",
   "name": "python",
   "nbconvert_exporter": "python",
   "pygments_lexer": "ipython3",
   "version": "3.8.12"
  },
  "source_map": [
   13,
   27,
   33,
   35,
   41,
   49,
   65,
   73,
   80
  ]
 },
 "nbformat": 4,
 "nbformat_minor": 5
}