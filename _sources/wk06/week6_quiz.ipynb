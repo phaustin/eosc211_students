{
 "cells": [
  {
   "cell_type": "markdown",
   "id": "ba752993",
   "metadata": {},
   "source": [
    "- **Name:**\n",
    "- **Student number:**\n",
    "- **Group number:**"
   ]
  },
  {
   "cell_type": "markdown",
   "id": "3c53609b",
   "metadata": {},
   "source": [
    "**Instructions**:  Answer all four questions"
   ]
  },
  {
   "cell_type": "markdown",
   "id": "30baba82",
   "metadata": {},
   "source": [
    "## Q1)  What does the following cell print?"
   ]
  },
  {
   "cell_type": "markdown",
   "id": "cf0681c6",
   "metadata": {},
   "source": [
    "``` python\n",
    "for the_name in ['tom','lisa','joey','steph']:\n",
    "    print(the_name)\n",
    "    if the_name == 'joey':\n",
    "        break\n",
    "```\n",
    "\n",
    "$~$\n",
    "\n",
    "$~$\n",
    "\n",
    "$~$\n",
    "\n",
    "$~$\n",
    "\n",
    "$~$"
   ]
  },
  {
   "cell_type": "markdown",
   "id": "5361c5f6",
   "metadata": {},
   "source": [
    "## Q2) What does the following cell print?"
   ]
  },
  {
   "cell_type": "markdown",
   "id": "44de43c8",
   "metadata": {},
   "source": [
    "``` python\n",
    "for icount in range(3):\n",
    "    jcount = 0\n",
    "    while jcount < 2*icount:\n",
    "        print(icount,jcount)\n",
    "        jcount = jcount + 1\n",
    "```\n",
    "\n",
    "\n",
    "\n",
    "$~$\n",
    "\n",
    "$~$\n",
    "\n",
    "$~$\n",
    "\n",
    "$~$\n",
    "\n",
    "$~$"
   ]
  },
  {
   "cell_type": "markdown",
   "id": "d991982e",
   "metadata": {},
   "source": [
    "## Q3) Provide code that does the following\n",
    "\n",
    "Use a while loop to print all numbers between 0 and 20 (inclusive) that\n",
    "are divisible by 5"
   ]
  }
 ],
 "metadata": {
  "celltoolbar": "Create Assignment",
  "jupytext": {
   "cell_metadata_filter": "all",
   "formats": "ipynb,md:myst",
   "notebook_metadata_filter": "all",
   "text_representation": {
    "extension": ".md",
    "format_name": "myst",
    "format_version": 0.13,
    "jupytext_version": "1.10.3"
   }
  },
  "kernelspec": {
   "display_name": "Python 3 (ipykernel)",
   "language": "python",
   "name": "python3"
  },
  "language_info": {
   "codemirror_mode": {
    "name": "ipython",
    "version": 3
   },
   "file_extension": ".py",
   "mimetype": "text/x-python",
   "name": "python",
   "nbconvert_exporter": "python",
   "pygments_lexer": "ipython3",
   "version": "3.9.12"
  },
  "source_map": [
   26,
   32,
   36,
   40,
   59,
   63,
   85
  ]
 },
 "nbformat": 4,
 "nbformat_minor": 5
}