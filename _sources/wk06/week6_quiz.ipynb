{
 "cells": [
  {
   "cell_type": "markdown",
   "id": "b8a07d59",
   "metadata": {},
   "source": [
    "- **Name:**\n",
    "- **Student number:**\n",
    "- **Group number:**"
   ]
  },
  {
   "cell_type": "markdown",
   "id": "08ac79cd",
   "metadata": {},
   "source": [
    "**Instructions**:  Answer all four questions"
   ]
  },
  {
   "cell_type": "markdown",
   "id": "84c9c80e",
   "metadata": {},
   "source": [
    "## Q1)  What does the following cell print?"
   ]
  },
  {
   "cell_type": "markdown",
   "id": "3ebe24f7",
   "metadata": {},
   "source": [
    "``` python\n",
    "for the_name in ['tom','lisa','joey','steph']:\n",
    "    print(the_name)\n",
    "    if the_name == 'joey':\n",
    "        break\n",
    "```\n",
    "\n",
    "$~$\n",
    "\n",
    "$~$\n",
    "\n",
    "$~$\n",
    "\n",
    "$~$\n",
    "\n",
    "$~$"
   ]
  },
  {
   "cell_type": "markdown",
   "id": "2959a011",
   "metadata": {},
   "source": [
    "## Q2) What does the following cell print?"
   ]
  },
  {
   "cell_type": "markdown",
   "id": "3c4c7877",
   "metadata": {},
   "source": [
    "``` python\n",
    "for icount in range(3):\n",
    "    jcount = 0\n",
    "    while jcount < 2*icount:\n",
    "        print(icount,jcount)\n",
    "        jcount = jcount + 1\n",
    "```\n",
    "\n",
    "\n",
    "\n",
    "$~$\n",
    "\n",
    "$~$\n",
    "\n",
    "$~$\n",
    "\n",
    "$~$\n",
    "\n",
    "$~$"
   ]
  },
  {
   "cell_type": "markdown",
   "id": "5bc32d04",
   "metadata": {},
   "source": [
    "## Q3) Provide code that does the following\n",
    "\n",
    "Use a while loop to print all numbers between 0 and 20 (inclusive) that\n",
    "are divisible by 5"
   ]
  }
 ],
 "metadata": {
  "celltoolbar": "Create Assignment",
  "jupytext": {
   "cell_metadata_filter": "all",
   "formats": "ipynb,md:myst",
   "notebook_metadata_filter": "all",
   "text_representation": {
    "extension": ".md",
    "format_name": "myst",
    "format_version": 0.13,
    "jupytext_version": "1.10.3"
   }
  },
  "kernelspec": {
   "display_name": "Python 3 (ipykernel)",
   "language": "python",
   "name": "python3"
  },
  "language_info": {
   "codemirror_mode": {
    "name": "ipython",
    "version": 3
   },
   "file_extension": ".py",
   "mimetype": "text/x-python",
   "name": "python",
   "nbconvert_exporter": "python",
   "pygments_lexer": "ipython3",
   "version": "3.9.12"
  },
  "source_map": [
   26,
   32,
   36,
   40,
   59,
   63,
   85
  ]
 },
 "nbformat": 4,
 "nbformat_minor": 5
}