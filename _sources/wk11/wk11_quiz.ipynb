{
 "cells": [
  {
   "cell_type": "markdown",
   "id": "0b3e9da3",
   "metadata": {},
   "source": [
    "# Week 11 quiz"
   ]
  },
  {
   "cell_type": "code",
   "execution_count": 1,
   "id": "9ee79846",
   "metadata": {},
   "outputs": [],
   "source": [
    "import pandas as pd"
   ]
  },
  {
   "cell_type": "code",
   "execution_count": 2,
   "id": "1d2bcd04",
   "metadata": {},
   "outputs": [],
   "source": [
    "filepath = \"enso_data.csv\"\n",
    "df = pd.read_csv(filepath)"
   ]
  },
  {
   "cell_type": "code",
   "execution_count": 3,
   "id": "9bab0843",
   "metadata": {},
   "outputs": [],
   "source": [
    "df = pd.read_csv(filepath, index_col=0, parse_dates=True)\n",
    "df_enso=df.tail(5)\n",
    "df_enso = df_enso[['Nino12','Nino3','Nino4']]"
   ]
  },
  {
   "cell_type": "markdown",
   "id": "f3db7ddd",
   "metadata": {},
   "source": [
    "## Given the following DataFrame:"
   ]
  },
  {
   "cell_type": "code",
   "execution_count": 4,
   "id": "6815cf33",
   "metadata": {},
   "outputs": [
    {
     "data": {
      "text/html": [
       "<div>\n",
       "<style scoped>\n",
       "    .dataframe tbody tr th:only-of-type {\n",
       "        vertical-align: middle;\n",
       "    }\n",
       "\n",
       "    .dataframe tbody tr th {\n",
       "        vertical-align: top;\n",
       "    }\n",
       "\n",
       "    .dataframe thead th {\n",
       "        text-align: right;\n",
       "    }\n",
       "</style>\n",
       "<table border=\"1\" class=\"dataframe\">\n",
       "  <thead>\n",
       "    <tr style=\"text-align: right;\">\n",
       "      <th></th>\n",
       "      <th>Nino12</th>\n",
       "      <th>Nino3</th>\n",
       "      <th>Nino4</th>\n",
       "    </tr>\n",
       "    <tr>\n",
       "      <th>datetime</th>\n",
       "      <th></th>\n",
       "      <th></th>\n",
       "      <th></th>\n",
       "    </tr>\n",
       "  </thead>\n",
       "  <tbody>\n",
       "    <tr>\n",
       "      <th>2020-12-01</th>\n",
       "      <td>22.16</td>\n",
       "      <td>24.38</td>\n",
       "      <td>27.65</td>\n",
       "    </tr>\n",
       "    <tr>\n",
       "      <th>2021-01-01</th>\n",
       "      <td>23.89</td>\n",
       "      <td>25.06</td>\n",
       "      <td>27.10</td>\n",
       "    </tr>\n",
       "    <tr>\n",
       "      <th>2021-02-01</th>\n",
       "      <td>25.55</td>\n",
       "      <td>25.80</td>\n",
       "      <td>27.20</td>\n",
       "    </tr>\n",
       "    <tr>\n",
       "      <th>2021-03-01</th>\n",
       "      <td>26.48</td>\n",
       "      <td>26.80</td>\n",
       "      <td>27.79</td>\n",
       "    </tr>\n",
       "    <tr>\n",
       "      <th>2021-04-01</th>\n",
       "      <td>24.89</td>\n",
       "      <td>26.96</td>\n",
       "      <td>28.47</td>\n",
       "    </tr>\n",
       "  </tbody>\n",
       "</table>\n",
       "</div>"
      ],
      "text/plain": [
       "            Nino12  Nino3  Nino4\n",
       "datetime                        \n",
       "2020-12-01   22.16  24.38  27.65\n",
       "2021-01-01   23.89  25.06  27.10\n",
       "2021-02-01   25.55  25.80  27.20\n",
       "2021-03-01   26.48  26.80  27.79\n",
       "2021-04-01   24.89  26.96  28.47"
      ]
     },
     "execution_count": 4,
     "metadata": {},
     "output_type": "execute_result"
    }
   ],
   "source": [
    "df_enso"
   ]
  },
  {
   "cell_type": "markdown",
   "id": "a32287f2",
   "metadata": {},
   "source": [
    "Write down the numerical values that would be printed for each of the following statements:"
   ]
  },
  {
   "cell_type": "code",
   "execution_count": 5,
   "id": "6c27884d",
   "metadata": {},
   "outputs": [
    {
     "data": {
      "text/plain": [
       "Nino12    25.55\n",
       "Nino3     25.80\n",
       "Nino4     27.20\n",
       "Name: 2021-02-01 00:00:00, dtype: float64"
      ]
     },
     "execution_count": 5,
     "metadata": {},
     "output_type": "execute_result"
    }
   ],
   "source": [
    "df_enso.loc['2021-02-01']"
   ]
  },
  {
   "cell_type": "code",
   "execution_count": 6,
   "id": "c0f3171f",
   "metadata": {},
   "outputs": [
    {
     "data": {
      "text/plain": [
       "26.8"
      ]
     },
     "execution_count": 6,
     "metadata": {},
     "output_type": "execute_result"
    }
   ],
   "source": [
    "df_enso['Nino3']['2021-03-01']"
   ]
  },
  {
   "cell_type": "code",
   "execution_count": 7,
   "id": "668e365d",
   "metadata": {},
   "outputs": [
    {
     "data": {
      "text/plain": [
       "Index(['Nino12', 'Nino3', 'Nino4'], dtype='object')"
      ]
     },
     "execution_count": 7,
     "metadata": {},
     "output_type": "execute_result"
    }
   ],
   "source": [
    "df_enso.columns"
   ]
  },
  {
   "cell_type": "code",
   "execution_count": 8,
   "id": "d57c1f37",
   "metadata": {},
   "outputs": [
    {
     "data": {
      "text/plain": [
       "28.47"
      ]
     },
     "execution_count": 8,
     "metadata": {},
     "output_type": "execute_result"
    }
   ],
   "source": [
    "df_enso.iloc[4,2]"
   ]
  }
 ],
 "metadata": {
  "jupytext": {
   "text_representation": {
    "extension": ".md",
    "format_name": "myst",
    "format_version": 0.13,
    "jupytext_version": "1.11.5"
   }
  },
  "kernelspec": {
   "display_name": "Python 3 (ipykernel)",
   "language": "python",
   "name": "python3"
  },
  "language_info": {
   "codemirror_mode": {
    "name": "ipython",
    "version": 3
   },
   "file_extension": ".py",
   "mimetype": "text/x-python",
   "name": "python",
   "nbconvert_exporter": "python",
   "pygments_lexer": "ipython3",
   "version": "3.9.12"
  },
  "source_map": [
   13,
   17,
   21,
   26,
   30,
   34,
   36,
   40,
   44,
   48,
   52
  ]
 },
 "nbformat": 4,
 "nbformat_minor": 5
}