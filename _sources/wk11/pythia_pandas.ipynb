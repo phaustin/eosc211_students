{
 "cells": [
  {
   "cell_type": "markdown",
   "id": "7a903a8e",
   "metadata": {},
   "source": [
    "<center><img src=\"https://github.com/pandas-dev/pandas/raw/master/web/pandas/static/img/pandas.svg\" alt=\"pandas Logo\" style=\"width: 800px;\"/></center>\n",
    "\n",
    "# Introduction to Pandas"
   ]
  },
  {
   "cell_type": "markdown",
   "id": "52c7c669",
   "metadata": {},
   "source": [
    "## Overview\n",
    "1. Introduction to pandas data structures\n",
    "1. How to slice and dice pandas dataframes and dataseries\n",
    "1. How to use pandas for exploratory data analysis\n",
    "\n",
    "## Credits\n",
    "\n",
    "This notebook is part of the [Project Pythia foundations series](https://foundations.projectpythia.org/core/pandas/pandas.html) ([link to github repo](https://github.com/ProjectPythia/pythia-foundations)).  [LICENSE](https://github.com/ProjectPythia/pythia-foundations/blob/main/LICENSE)\n",
    "\n",
    "* **Time to learn**: 60 minutes"
   ]
  },
  {
   "cell_type": "markdown",
   "id": "5f9b19c7",
   "metadata": {},
   "source": [
    "## Imports"
   ]
  },
  {
   "cell_type": "markdown",
   "id": "f82f7c91",
   "metadata": {},
   "source": [
    "You will often see the nickname `pd` used as an abbreviation for pandas in the import statement, just like `numpy` is often imported as `np`."
   ]
  },
  {
   "cell_type": "code",
   "execution_count": 1,
   "id": "8ee199d1",
   "metadata": {},
   "outputs": [],
   "source": [
    "import pandas as pd\n",
    "from matplotlib import pyplot as plt\n",
    "import numpy as np"
   ]
  },
  {
   "cell_type": "markdown",
   "id": "b6cd043d",
   "metadata": {},
   "source": [
    "## The pandas [`DataFrame`](https://pandas.pydata.org/docs/user_guide/dsintro.html#dataframe)...\n",
    "... is a **labeled**, two dimensional columnal structure similar to a table, spreadsheet, or the R `data.frame`.\n",
    "\n",
    "![dataframe schematic](https://github.com/pandas-dev/pandas/raw/master/doc/source/_static/schemas/01_table_dataframe.svg \"Schematic of a pandas DataFrame\")\n",
    "\n",
    "The `columns` that make up our `DataFrame` can be lists, dictionaries, NumPy arrays, pandas `Series`, or more. Within these `columns` our data can be any texts, numbers, dates and times, or many other data types you may have encountered in Python and NumPy. Shown here on the left in dark gray, our very first `column`  is uniquely referrred to as an `Index`, and this contains information characterizing each row of our `DataFrame`. Similar to any other `column`, the `index` can label our rows by text, numbers, `datetime`s (a popular one!), or more.\n",
    "\n",
    "## Sea surface temperature measurements\n",
    "\n",
    "For this notebook we will be looking at temperature timeseries used to monitor the  El Niño Southern Oscillation (ENSO). The data are provided by  the US National Climatic Data Center.  You can read about the regions \n",
    "corresponding to the various sea surface temperatures (Nino12, Nino3 and Nino4) [at the NCDC website](https://www.ncdc.noaa.gov/teleconnections/enso/indicators/sst/).\n",
    "\n",
    "[Here is an animation showing](https://drive.google.com/file/d/1Wf_FQglTU4fMZ5imAsHczAr0hcg4h1Ej/view?usp=sharing) the Southern Oscilation\n",
    "\n",
    "We start by reading in the data, formated as comma separated values.  You can download the enso_data.csv file [at this dropbox link](https://www.dropbox.com/s/afxfi6a0odoyx9y/enso_data.csv?dl=0).  If you are on our jupyterhub, it will\n",
    "already be in the same folder as this notebook."
   ]
  },
  {
   "cell_type": "code",
   "execution_count": 2,
   "id": "62cad6e3",
   "metadata": {},
   "outputs": [],
   "source": [
    "filepath = \"enso_data.csv\"\n",
    "df = pd.read_csv(filepath)"
   ]
  },
  {
   "cell_type": "markdown",
   "id": "db609a9b",
   "metadata": {},
   "source": [
    "If we print out our dataframe, you will notice that is text based, which is okay, but not the \"best\" looking output.  All numbers are temperatures in deg Celsius.  \"anom\" is short for anomaly, which is defined as the\n",
    "fluctuation about the mean."
   ]
  },
  {
   "cell_type": "code",
   "execution_count": 3,
   "id": "a6a80f3f",
   "metadata": {},
   "outputs": [
    {
     "name": "stdout",
     "output_type": "stream",
     "text": [
      "       datetime  Nino12  Nino12anom  Nino3  Nino3anom  Nino4  Nino4anom  \\\n",
      "0    1982-01-01   24.29       -0.17  25.87       0.24  28.30       0.00   \n",
      "1    1982-02-01   25.49       -0.58  26.38       0.01  28.21       0.11   \n",
      "2    1982-03-01   25.21       -1.31  26.98      -0.16  28.41       0.22   \n",
      "3    1982-04-01   24.50       -0.97  27.68       0.18  28.92       0.42   \n",
      "4    1982-05-01   23.97       -0.23  27.79       0.71  29.49       0.70   \n",
      "..          ...     ...         ...    ...        ...    ...        ...   \n",
      "467  2020-12-01   22.16       -0.60  24.38      -0.83  27.65      -0.95   \n",
      "468  2021-01-01   23.89       -0.64  25.06      -0.55  27.10      -1.25   \n",
      "469  2021-02-01   25.55       -0.66  25.80      -0.57  27.20      -1.00   \n",
      "470  2021-03-01   26.48       -0.26  26.80      -0.39  27.79      -0.55   \n",
      "471  2021-04-01   24.89       -0.80  26.96      -0.65  28.47      -0.21   \n",
      "\n",
      "     Nino34  Nino34anom  \n",
      "0     26.72        0.15  \n",
      "1     26.70       -0.02  \n",
      "2     27.20       -0.02  \n",
      "3     28.02        0.24  \n",
      "4     28.54        0.69  \n",
      "..      ...         ...  \n",
      "467   25.53       -1.12  \n",
      "468   25.58       -0.99  \n",
      "469   25.81       -0.92  \n",
      "470   26.75       -0.51  \n",
      "471   27.40       -0.49  \n",
      "\n",
      "[472 rows x 9 columns]\n"
     ]
    }
   ],
   "source": [
    "print(df)"
   ]
  },
  {
   "cell_type": "markdown",
   "id": "cbc83245",
   "metadata": {},
   "source": [
    "If we just use the pandas dataframe itself (without wrapping it in `print`), we have a nicely rendered table which is native to pandas and Jupyter Notebooks. See how much nicer that looks?"
   ]
  },
  {
   "cell_type": "code",
   "execution_count": 4,
   "id": "0e113106",
   "metadata": {},
   "outputs": [
    {
     "data": {
      "text/html": [
       "<div>\n",
       "<style scoped>\n",
       "    .dataframe tbody tr th:only-of-type {\n",
       "        vertical-align: middle;\n",
       "    }\n",
       "\n",
       "    .dataframe tbody tr th {\n",
       "        vertical-align: top;\n",
       "    }\n",
       "\n",
       "    .dataframe thead th {\n",
       "        text-align: right;\n",
       "    }\n",
       "</style>\n",
       "<table border=\"1\" class=\"dataframe\">\n",
       "  <thead>\n",
       "    <tr style=\"text-align: right;\">\n",
       "      <th></th>\n",
       "      <th>datetime</th>\n",
       "      <th>Nino12</th>\n",
       "      <th>Nino12anom</th>\n",
       "      <th>Nino3</th>\n",
       "      <th>Nino3anom</th>\n",
       "      <th>Nino4</th>\n",
       "      <th>Nino4anom</th>\n",
       "      <th>Nino34</th>\n",
       "      <th>Nino34anom</th>\n",
       "    </tr>\n",
       "  </thead>\n",
       "  <tbody>\n",
       "    <tr>\n",
       "      <th>0</th>\n",
       "      <td>1982-01-01</td>\n",
       "      <td>24.29</td>\n",
       "      <td>-0.17</td>\n",
       "      <td>25.87</td>\n",
       "      <td>0.24</td>\n",
       "      <td>28.30</td>\n",
       "      <td>0.00</td>\n",
       "      <td>26.72</td>\n",
       "      <td>0.15</td>\n",
       "    </tr>\n",
       "    <tr>\n",
       "      <th>1</th>\n",
       "      <td>1982-02-01</td>\n",
       "      <td>25.49</td>\n",
       "      <td>-0.58</td>\n",
       "      <td>26.38</td>\n",
       "      <td>0.01</td>\n",
       "      <td>28.21</td>\n",
       "      <td>0.11</td>\n",
       "      <td>26.70</td>\n",
       "      <td>-0.02</td>\n",
       "    </tr>\n",
       "    <tr>\n",
       "      <th>2</th>\n",
       "      <td>1982-03-01</td>\n",
       "      <td>25.21</td>\n",
       "      <td>-1.31</td>\n",
       "      <td>26.98</td>\n",
       "      <td>-0.16</td>\n",
       "      <td>28.41</td>\n",
       "      <td>0.22</td>\n",
       "      <td>27.20</td>\n",
       "      <td>-0.02</td>\n",
       "    </tr>\n",
       "    <tr>\n",
       "      <th>3</th>\n",
       "      <td>1982-04-01</td>\n",
       "      <td>24.50</td>\n",
       "      <td>-0.97</td>\n",
       "      <td>27.68</td>\n",
       "      <td>0.18</td>\n",
       "      <td>28.92</td>\n",
       "      <td>0.42</td>\n",
       "      <td>28.02</td>\n",
       "      <td>0.24</td>\n",
       "    </tr>\n",
       "    <tr>\n",
       "      <th>4</th>\n",
       "      <td>1982-05-01</td>\n",
       "      <td>23.97</td>\n",
       "      <td>-0.23</td>\n",
       "      <td>27.79</td>\n",
       "      <td>0.71</td>\n",
       "      <td>29.49</td>\n",
       "      <td>0.70</td>\n",
       "      <td>28.54</td>\n",
       "      <td>0.69</td>\n",
       "    </tr>\n",
       "    <tr>\n",
       "      <th>...</th>\n",
       "      <td>...</td>\n",
       "      <td>...</td>\n",
       "      <td>...</td>\n",
       "      <td>...</td>\n",
       "      <td>...</td>\n",
       "      <td>...</td>\n",
       "      <td>...</td>\n",
       "      <td>...</td>\n",
       "      <td>...</td>\n",
       "    </tr>\n",
       "    <tr>\n",
       "      <th>467</th>\n",
       "      <td>2020-12-01</td>\n",
       "      <td>22.16</td>\n",
       "      <td>-0.60</td>\n",
       "      <td>24.38</td>\n",
       "      <td>-0.83</td>\n",
       "      <td>27.65</td>\n",
       "      <td>-0.95</td>\n",
       "      <td>25.53</td>\n",
       "      <td>-1.12</td>\n",
       "    </tr>\n",
       "    <tr>\n",
       "      <th>468</th>\n",
       "      <td>2021-01-01</td>\n",
       "      <td>23.89</td>\n",
       "      <td>-0.64</td>\n",
       "      <td>25.06</td>\n",
       "      <td>-0.55</td>\n",
       "      <td>27.10</td>\n",
       "      <td>-1.25</td>\n",
       "      <td>25.58</td>\n",
       "      <td>-0.99</td>\n",
       "    </tr>\n",
       "    <tr>\n",
       "      <th>469</th>\n",
       "      <td>2021-02-01</td>\n",
       "      <td>25.55</td>\n",
       "      <td>-0.66</td>\n",
       "      <td>25.80</td>\n",
       "      <td>-0.57</td>\n",
       "      <td>27.20</td>\n",
       "      <td>-1.00</td>\n",
       "      <td>25.81</td>\n",
       "      <td>-0.92</td>\n",
       "    </tr>\n",
       "    <tr>\n",
       "      <th>470</th>\n",
       "      <td>2021-03-01</td>\n",
       "      <td>26.48</td>\n",
       "      <td>-0.26</td>\n",
       "      <td>26.80</td>\n",
       "      <td>-0.39</td>\n",
       "      <td>27.79</td>\n",
       "      <td>-0.55</td>\n",
       "      <td>26.75</td>\n",
       "      <td>-0.51</td>\n",
       "    </tr>\n",
       "    <tr>\n",
       "      <th>471</th>\n",
       "      <td>2021-04-01</td>\n",
       "      <td>24.89</td>\n",
       "      <td>-0.80</td>\n",
       "      <td>26.96</td>\n",
       "      <td>-0.65</td>\n",
       "      <td>28.47</td>\n",
       "      <td>-0.21</td>\n",
       "      <td>27.40</td>\n",
       "      <td>-0.49</td>\n",
       "    </tr>\n",
       "  </tbody>\n",
       "</table>\n",
       "<p>472 rows × 9 columns</p>\n",
       "</div>"
      ],
      "text/plain": [
       "       datetime  Nino12  Nino12anom  Nino3  Nino3anom  Nino4  Nino4anom  \\\n",
       "0    1982-01-01   24.29       -0.17  25.87       0.24  28.30       0.00   \n",
       "1    1982-02-01   25.49       -0.58  26.38       0.01  28.21       0.11   \n",
       "2    1982-03-01   25.21       -1.31  26.98      -0.16  28.41       0.22   \n",
       "3    1982-04-01   24.50       -0.97  27.68       0.18  28.92       0.42   \n",
       "4    1982-05-01   23.97       -0.23  27.79       0.71  29.49       0.70   \n",
       "..          ...     ...         ...    ...        ...    ...        ...   \n",
       "467  2020-12-01   22.16       -0.60  24.38      -0.83  27.65      -0.95   \n",
       "468  2021-01-01   23.89       -0.64  25.06      -0.55  27.10      -1.25   \n",
       "469  2021-02-01   25.55       -0.66  25.80      -0.57  27.20      -1.00   \n",
       "470  2021-03-01   26.48       -0.26  26.80      -0.39  27.79      -0.55   \n",
       "471  2021-04-01   24.89       -0.80  26.96      -0.65  28.47      -0.21   \n",
       "\n",
       "     Nino34  Nino34anom  \n",
       "0     26.72        0.15  \n",
       "1     26.70       -0.02  \n",
       "2     27.20       -0.02  \n",
       "3     28.02        0.24  \n",
       "4     28.54        0.69  \n",
       "..      ...         ...  \n",
       "467   25.53       -1.12  \n",
       "468   25.58       -0.99  \n",
       "469   25.81       -0.92  \n",
       "470   26.75       -0.51  \n",
       "471   27.40       -0.49  \n",
       "\n",
       "[472 rows x 9 columns]"
      ]
     },
     "execution_count": 4,
     "metadata": {},
     "output_type": "execute_result"
    }
   ],
   "source": [
    "df"
   ]
  },
  {
   "cell_type": "markdown",
   "id": "6fd63998",
   "metadata": {},
   "source": [
    "The `index` within pandas is essentially a list of the unique row IDs, which by default, is a list of sequential integers which start at 0"
   ]
  },
  {
   "cell_type": "code",
   "execution_count": 5,
   "id": "64ec63bd",
   "metadata": {},
   "outputs": [
    {
     "data": {
      "text/plain": [
       "RangeIndex(start=0, stop=472, step=1)"
      ]
     },
     "execution_count": 5,
     "metadata": {},
     "output_type": "execute_result"
    }
   ],
   "source": [
    "df.index"
   ]
  },
  {
   "cell_type": "markdown",
   "id": "e9059d83",
   "metadata": {},
   "source": [
    "Our indexing column isn't particularly helpful currently. Pandas is clever! A few optional keyword arguments later, and..."
   ]
  },
  {
   "cell_type": "code",
   "execution_count": 6,
   "id": "d1faa08e",
   "metadata": {},
   "outputs": [
    {
     "data": {
      "text/html": [
       "<div>\n",
       "<style scoped>\n",
       "    .dataframe tbody tr th:only-of-type {\n",
       "        vertical-align: middle;\n",
       "    }\n",
       "\n",
       "    .dataframe tbody tr th {\n",
       "        vertical-align: top;\n",
       "    }\n",
       "\n",
       "    .dataframe thead th {\n",
       "        text-align: right;\n",
       "    }\n",
       "</style>\n",
       "<table border=\"1\" class=\"dataframe\">\n",
       "  <thead>\n",
       "    <tr style=\"text-align: right;\">\n",
       "      <th></th>\n",
       "      <th>Nino12</th>\n",
       "      <th>Nino12anom</th>\n",
       "      <th>Nino3</th>\n",
       "      <th>Nino3anom</th>\n",
       "      <th>Nino4</th>\n",
       "      <th>Nino4anom</th>\n",
       "      <th>Nino34</th>\n",
       "      <th>Nino34anom</th>\n",
       "    </tr>\n",
       "    <tr>\n",
       "      <th>datetime</th>\n",
       "      <th></th>\n",
       "      <th></th>\n",
       "      <th></th>\n",
       "      <th></th>\n",
       "      <th></th>\n",
       "      <th></th>\n",
       "      <th></th>\n",
       "      <th></th>\n",
       "    </tr>\n",
       "  </thead>\n",
       "  <tbody>\n",
       "    <tr>\n",
       "      <th>1982-01-01</th>\n",
       "      <td>24.29</td>\n",
       "      <td>-0.17</td>\n",
       "      <td>25.87</td>\n",
       "      <td>0.24</td>\n",
       "      <td>28.30</td>\n",
       "      <td>0.00</td>\n",
       "      <td>26.72</td>\n",
       "      <td>0.15</td>\n",
       "    </tr>\n",
       "    <tr>\n",
       "      <th>1982-02-01</th>\n",
       "      <td>25.49</td>\n",
       "      <td>-0.58</td>\n",
       "      <td>26.38</td>\n",
       "      <td>0.01</td>\n",
       "      <td>28.21</td>\n",
       "      <td>0.11</td>\n",
       "      <td>26.70</td>\n",
       "      <td>-0.02</td>\n",
       "    </tr>\n",
       "    <tr>\n",
       "      <th>1982-03-01</th>\n",
       "      <td>25.21</td>\n",
       "      <td>-1.31</td>\n",
       "      <td>26.98</td>\n",
       "      <td>-0.16</td>\n",
       "      <td>28.41</td>\n",
       "      <td>0.22</td>\n",
       "      <td>27.20</td>\n",
       "      <td>-0.02</td>\n",
       "    </tr>\n",
       "    <tr>\n",
       "      <th>1982-04-01</th>\n",
       "      <td>24.50</td>\n",
       "      <td>-0.97</td>\n",
       "      <td>27.68</td>\n",
       "      <td>0.18</td>\n",
       "      <td>28.92</td>\n",
       "      <td>0.42</td>\n",
       "      <td>28.02</td>\n",
       "      <td>0.24</td>\n",
       "    </tr>\n",
       "    <tr>\n",
       "      <th>1982-05-01</th>\n",
       "      <td>23.97</td>\n",
       "      <td>-0.23</td>\n",
       "      <td>27.79</td>\n",
       "      <td>0.71</td>\n",
       "      <td>29.49</td>\n",
       "      <td>0.70</td>\n",
       "      <td>28.54</td>\n",
       "      <td>0.69</td>\n",
       "    </tr>\n",
       "    <tr>\n",
       "      <th>...</th>\n",
       "      <td>...</td>\n",
       "      <td>...</td>\n",
       "      <td>...</td>\n",
       "      <td>...</td>\n",
       "      <td>...</td>\n",
       "      <td>...</td>\n",
       "      <td>...</td>\n",
       "      <td>...</td>\n",
       "    </tr>\n",
       "    <tr>\n",
       "      <th>2020-12-01</th>\n",
       "      <td>22.16</td>\n",
       "      <td>-0.60</td>\n",
       "      <td>24.38</td>\n",
       "      <td>-0.83</td>\n",
       "      <td>27.65</td>\n",
       "      <td>-0.95</td>\n",
       "      <td>25.53</td>\n",
       "      <td>-1.12</td>\n",
       "    </tr>\n",
       "    <tr>\n",
       "      <th>2021-01-01</th>\n",
       "      <td>23.89</td>\n",
       "      <td>-0.64</td>\n",
       "      <td>25.06</td>\n",
       "      <td>-0.55</td>\n",
       "      <td>27.10</td>\n",
       "      <td>-1.25</td>\n",
       "      <td>25.58</td>\n",
       "      <td>-0.99</td>\n",
       "    </tr>\n",
       "    <tr>\n",
       "      <th>2021-02-01</th>\n",
       "      <td>25.55</td>\n",
       "      <td>-0.66</td>\n",
       "      <td>25.80</td>\n",
       "      <td>-0.57</td>\n",
       "      <td>27.20</td>\n",
       "      <td>-1.00</td>\n",
       "      <td>25.81</td>\n",
       "      <td>-0.92</td>\n",
       "    </tr>\n",
       "    <tr>\n",
       "      <th>2021-03-01</th>\n",
       "      <td>26.48</td>\n",
       "      <td>-0.26</td>\n",
       "      <td>26.80</td>\n",
       "      <td>-0.39</td>\n",
       "      <td>27.79</td>\n",
       "      <td>-0.55</td>\n",
       "      <td>26.75</td>\n",
       "      <td>-0.51</td>\n",
       "    </tr>\n",
       "    <tr>\n",
       "      <th>2021-04-01</th>\n",
       "      <td>24.89</td>\n",
       "      <td>-0.80</td>\n",
       "      <td>26.96</td>\n",
       "      <td>-0.65</td>\n",
       "      <td>28.47</td>\n",
       "      <td>-0.21</td>\n",
       "      <td>27.40</td>\n",
       "      <td>-0.49</td>\n",
       "    </tr>\n",
       "  </tbody>\n",
       "</table>\n",
       "<p>472 rows × 8 columns</p>\n",
       "</div>"
      ],
      "text/plain": [
       "            Nino12  Nino12anom  Nino3  Nino3anom  Nino4  Nino4anom  Nino34  \\\n",
       "datetime                                                                     \n",
       "1982-01-01   24.29       -0.17  25.87       0.24  28.30       0.00   26.72   \n",
       "1982-02-01   25.49       -0.58  26.38       0.01  28.21       0.11   26.70   \n",
       "1982-03-01   25.21       -1.31  26.98      -0.16  28.41       0.22   27.20   \n",
       "1982-04-01   24.50       -0.97  27.68       0.18  28.92       0.42   28.02   \n",
       "1982-05-01   23.97       -0.23  27.79       0.71  29.49       0.70   28.54   \n",
       "...            ...         ...    ...        ...    ...        ...     ...   \n",
       "2020-12-01   22.16       -0.60  24.38      -0.83  27.65      -0.95   25.53   \n",
       "2021-01-01   23.89       -0.64  25.06      -0.55  27.10      -1.25   25.58   \n",
       "2021-02-01   25.55       -0.66  25.80      -0.57  27.20      -1.00   25.81   \n",
       "2021-03-01   26.48       -0.26  26.80      -0.39  27.79      -0.55   26.75   \n",
       "2021-04-01   24.89       -0.80  26.96      -0.65  28.47      -0.21   27.40   \n",
       "\n",
       "            Nino34anom  \n",
       "datetime                \n",
       "1982-01-01        0.15  \n",
       "1982-02-01       -0.02  \n",
       "1982-03-01       -0.02  \n",
       "1982-04-01        0.24  \n",
       "1982-05-01        0.69  \n",
       "...                ...  \n",
       "2020-12-01       -1.12  \n",
       "2021-01-01       -0.99  \n",
       "2021-02-01       -0.92  \n",
       "2021-03-01       -0.51  \n",
       "2021-04-01       -0.49  \n",
       "\n",
       "[472 rows x 8 columns]"
      ]
     },
     "execution_count": 6,
     "metadata": {},
     "output_type": "execute_result"
    }
   ],
   "source": [
    "df = pd.read_csv(filepath, index_col=0, parse_dates=True)\n",
    "\n",
    "df"
   ]
  },
  {
   "cell_type": "code",
   "execution_count": 7,
   "id": "c6d59012",
   "metadata": {},
   "outputs": [
    {
     "data": {
      "text/plain": [
       "DatetimeIndex(['1982-01-01', '1982-02-01', '1982-03-01', '1982-04-01',\n",
       "               '1982-05-01', '1982-06-01', '1982-07-01', '1982-08-01',\n",
       "               '1982-09-01', '1982-10-01',\n",
       "               ...\n",
       "               '2020-07-01', '2020-08-01', '2020-09-01', '2020-10-01',\n",
       "               '2020-11-01', '2020-12-01', '2021-01-01', '2021-02-01',\n",
       "               '2021-03-01', '2021-04-01'],\n",
       "              dtype='datetime64[ns]', name='datetime', length=472, freq=None)"
      ]
     },
     "execution_count": 7,
     "metadata": {},
     "output_type": "execute_result"
    }
   ],
   "source": [
    "df.index"
   ]
  },
  {
   "cell_type": "markdown",
   "id": "b7fd3d86",
   "metadata": {},
   "source": [
    "... now we have our data helpfully organized by a proper `datetime`-like object. Each of our multiple columns of data can now be referenced by their date! This sneak preview at the pandas `DatetimeIndex` also unlocks for us much of pandas most useful time series functionality. Don't worry, we'll get there. What are the actual columns of data we've read in here?"
   ]
  },
  {
   "cell_type": "code",
   "execution_count": 8,
   "id": "3d8fd97e",
   "metadata": {},
   "outputs": [
    {
     "data": {
      "text/plain": [
       "Index(['Nino12', 'Nino12anom', 'Nino3', 'Nino3anom', 'Nino4', 'Nino4anom',\n",
       "       'Nino34', 'Nino34anom'],\n",
       "      dtype='object')"
      ]
     },
     "execution_count": 8,
     "metadata": {},
     "output_type": "execute_result"
    }
   ],
   "source": [
    "df.columns"
   ]
  },
  {
   "cell_type": "markdown",
   "id": "02f60dde",
   "metadata": {},
   "source": [
    "## The pandas [`Series`](https://pandas.pydata.org/docs/user_guide/dsintro.html#series)...\n",
    "\n",
    "... is essentially any one of the columns of our `DataFrame`, with its accompanying `Index` to provide a label for each value in our column.\n",
    "\n",
    "![pandas Series](https://github.com/pandas-dev/pandas/raw/master/doc/source/_static/schemas/01_table_series.svg \"Schematic of a pandas Series\")\n",
    "\n",
    "The pandas `Series` is a fast and capable 1-dimensional array of nearly any data type we could want, and it can behave very similarly to a NumPy `ndarray` or a Python `dict`. You can take a look at any of the `Series` that make up your `DataFrame` with its label and the Python `dict` notation, or with dot-shorthand:"
   ]
  },
  {
   "cell_type": "code",
   "execution_count": 9,
   "id": "7c820695",
   "metadata": {},
   "outputs": [
    {
     "data": {
      "text/plain": [
       "datetime\n",
       "1982-01-01    26.72\n",
       "1982-02-01    26.70\n",
       "1982-03-01    27.20\n",
       "1982-04-01    28.02\n",
       "1982-05-01    28.54\n",
       "              ...  \n",
       "2020-12-01    25.53\n",
       "2021-01-01    25.58\n",
       "2021-02-01    25.81\n",
       "2021-03-01    26.75\n",
       "2021-04-01    27.40\n",
       "Name: Nino34, Length: 472, dtype: float64"
      ]
     },
     "execution_count": 9,
     "metadata": {},
     "output_type": "execute_result"
    }
   ],
   "source": [
    "df[\"Nino34\"]"
   ]
  },
  {
   "cell_type": "markdown",
   "id": "6ac38a93",
   "metadata": {},
   "source": [
    "<div class=\"alert alert-block alert-info\">\n",
    "<b>Tip:</b> You can also use the `.` (dot) notation, as seen below, but this is moreso a \"convenience feature\", which for the most part is interchangeable with the dictionary notation above, except when the column name is not a valid Python object (ex. column names beginning with a number or a space)</div>"
   ]
  },
  {
   "cell_type": "code",
   "execution_count": 10,
   "id": "3c2e89ad",
   "metadata": {},
   "outputs": [
    {
     "data": {
      "text/plain": [
       "datetime\n",
       "1982-01-01    26.72\n",
       "1982-02-01    26.70\n",
       "1982-03-01    27.20\n",
       "1982-04-01    28.02\n",
       "1982-05-01    28.54\n",
       "              ...  \n",
       "2020-12-01    25.53\n",
       "2021-01-01    25.58\n",
       "2021-02-01    25.81\n",
       "2021-03-01    26.75\n",
       "2021-04-01    27.40\n",
       "Name: Nino34, Length: 472, dtype: float64"
      ]
     },
     "execution_count": 10,
     "metadata": {},
     "output_type": "execute_result"
    }
   ],
   "source": [
    "df.Nino34"
   ]
  },
  {
   "cell_type": "markdown",
   "id": "b0eff8b6",
   "metadata": {},
   "source": [
    "## Slicing and Dicing the `DataFrame` and `Series`\n",
    "\n",
    "We will expand on what you just saw, soon! Importantly,\n",
    "\n",
    "> **Everything in pandas can be accessed with its label**,\n",
    "\n",
    "no matter how your data is organized."
   ]
  },
  {
   "cell_type": "markdown",
   "id": "b418d815",
   "metadata": {},
   "source": [
    "### Indexing a `Series`\n",
    "\n",
    "Let's back up a bit here. Once more, let's pull out one `Series` from our `DataFrame` using its column label, and we'll start there."
   ]
  },
  {
   "cell_type": "code",
   "execution_count": 11,
   "id": "ec09910a",
   "metadata": {},
   "outputs": [
    {
     "data": {
      "text/plain": [
       "datetime\n",
       "1982-01-01    26.72\n",
       "1982-02-01    26.70\n",
       "1982-03-01    27.20\n",
       "1982-04-01    28.02\n",
       "1982-05-01    28.54\n",
       "              ...  \n",
       "2020-12-01    25.53\n",
       "2021-01-01    25.58\n",
       "2021-02-01    25.81\n",
       "2021-03-01    26.75\n",
       "2021-04-01    27.40\n",
       "Name: Nino34, Length: 472, dtype: float64"
      ]
     },
     "execution_count": 11,
     "metadata": {},
     "output_type": "execute_result"
    }
   ],
   "source": [
    "nino34_series = df[\"Nino34\"]\n",
    "\n",
    "nino34_series"
   ]
  },
  {
   "cell_type": "markdown",
   "id": "ef7a23c6",
   "metadata": {},
   "source": [
    "`Series` can be indexed, selected, and subset as both `ndarray`-like,"
   ]
  },
  {
   "cell_type": "code",
   "execution_count": 12,
   "id": "fb37ee85",
   "metadata": {},
   "outputs": [
    {
     "data": {
      "text/plain": [
       "28.02"
      ]
     },
     "execution_count": 12,
     "metadata": {},
     "output_type": "execute_result"
    }
   ],
   "source": [
    "nino34_series[3]"
   ]
  },
  {
   "cell_type": "markdown",
   "id": "e33bd3ff",
   "metadata": {},
   "source": [
    "and `dict`-like, using labels"
   ]
  },
  {
   "cell_type": "code",
   "execution_count": 13,
   "id": "e2a00d6b",
   "metadata": {},
   "outputs": [
    {
     "data": {
      "text/plain": [
       "28.02"
      ]
     },
     "execution_count": 13,
     "metadata": {},
     "output_type": "execute_result"
    }
   ],
   "source": [
    "nino34_series[\"1982-04-01\"]"
   ]
  },
  {
   "cell_type": "markdown",
   "id": "6f258761",
   "metadata": {},
   "source": [
    "These two can be extended in ways that you might expect,"
   ]
  },
  {
   "cell_type": "code",
   "execution_count": 14,
   "id": "3ff1d5bc",
   "metadata": {},
   "outputs": [
    {
     "data": {
      "text/plain": [
       "datetime\n",
       "1982-01-01    26.72\n",
       "1982-02-01    26.70\n",
       "1982-03-01    27.20\n",
       "1982-04-01    28.02\n",
       "1982-05-01    28.54\n",
       "1982-06-01    28.75\n",
       "1982-07-01    28.10\n",
       "1982-08-01    27.93\n",
       "1982-09-01    28.11\n",
       "1982-10-01    28.64\n",
       "1982-11-01    28.81\n",
       "1982-12-01    29.21\n",
       "Name: Nino34, dtype: float64"
      ]
     },
     "execution_count": 14,
     "metadata": {},
     "output_type": "execute_result"
    }
   ],
   "source": [
    "nino34_series[0:12]"
   ]
  },
  {
   "cell_type": "markdown",
   "id": "f1ffb9bb",
   "metadata": {},
   "source": [
    "<div class=\"admonition alert alert-info\">\n",
    "    <p class=\"admonition-title\" style=\"font-weight:bold\">Info</p>\n",
    "    Index-based slices are <b>exclusive</b> of the final value, similar to Python's usual indexing rules.\n",
    "</div>"
   ]
  },
  {
   "cell_type": "markdown",
   "id": "1feaeb88",
   "metadata": {},
   "source": [
    "as well as potentially unexpected ways,"
   ]
  },
  {
   "cell_type": "code",
   "execution_count": 15,
   "id": "69040d99",
   "metadata": {},
   "outputs": [
    {
     "data": {
      "text/plain": [
       "datetime\n",
       "1982-01-01    26.72\n",
       "1982-02-01    26.70\n",
       "1982-03-01    27.20\n",
       "1982-04-01    28.02\n",
       "1982-05-01    28.54\n",
       "1982-06-01    28.75\n",
       "1982-07-01    28.10\n",
       "1982-08-01    27.93\n",
       "1982-09-01    28.11\n",
       "1982-10-01    28.64\n",
       "1982-11-01    28.81\n",
       "1982-12-01    29.21\n",
       "Name: Nino34, dtype: float64"
      ]
     },
     "execution_count": 15,
     "metadata": {},
     "output_type": "execute_result"
    }
   ],
   "source": [
    "nino34_series[\"1982-01-01\":\"1982-12-01\"]"
   ]
  },
  {
   "cell_type": "markdown",
   "id": "69be8577",
   "metadata": {},
   "source": [
    "That's right, label-based slicing! Pandas will do the work under the hood for you to find this range of values according to your labels."
   ]
  },
  {
   "cell_type": "markdown",
   "id": "5e01c950",
   "metadata": {},
   "source": [
    "<div class=\"admonition alert alert-info\">\n",
    "    <p class=\"admonition-title\" style=\"font-weight:bold\">Info</p>\n",
    "    label-based slices are <b>inclusive</b> of the final value, different from above!\n",
    "</div>"
   ]
  },
  {
   "cell_type": "markdown",
   "id": "933f3088",
   "metadata": {},
   "source": [
    "If you are familiar with [xarray](../xarray), you might also already have a comfort with creating your own `slice` objects by hand, and that works here!"
   ]
  },
  {
   "cell_type": "code",
   "execution_count": 16,
   "id": "64ac5fc8",
   "metadata": {},
   "outputs": [
    {
     "data": {
      "text/plain": [
       "datetime\n",
       "1982-01-01    26.72\n",
       "1982-02-01    26.70\n",
       "1982-03-01    27.20\n",
       "1982-04-01    28.02\n",
       "1982-05-01    28.54\n",
       "1982-06-01    28.75\n",
       "1982-07-01    28.10\n",
       "1982-08-01    27.93\n",
       "1982-09-01    28.11\n",
       "1982-10-01    28.64\n",
       "1982-11-01    28.81\n",
       "1982-12-01    29.21\n",
       "Name: Nino34, dtype: float64"
      ]
     },
     "execution_count": 16,
     "metadata": {},
     "output_type": "execute_result"
    }
   ],
   "source": [
    "nino34_series[slice(\"1982-01-01\", \"1982-12-01\")]"
   ]
  },
  {
   "cell_type": "markdown",
   "id": "0c004482",
   "metadata": {},
   "source": [
    "### Using `.iloc` and `.loc` to index\n",
    "\n",
    "Let's introduce pandas-preferred ways to access your data by label, `.loc`, or by index, `.iloc`. They behave similarly to the notation introduced above, but provide more speed, security, and rigor in your value selection, as well as help you avoid [chained assignment warnings](https://pandas.pydata.org/docs/user_guide/indexing.html#returning-a-view-versus-a-copy) within pandas."
   ]
  },
  {
   "cell_type": "code",
   "execution_count": 17,
   "id": "4c624d51",
   "metadata": {},
   "outputs": [
    {
     "data": {
      "text/plain": [
       "28.02"
      ]
     },
     "execution_count": 17,
     "metadata": {},
     "output_type": "execute_result"
    }
   ],
   "source": [
    "nino34_series.iloc[3]"
   ]
  },
  {
   "cell_type": "code",
   "execution_count": 18,
   "id": "f58aaaff",
   "metadata": {},
   "outputs": [
    {
     "data": {
      "text/plain": [
       "datetime\n",
       "1982-01-01    26.72\n",
       "1982-02-01    26.70\n",
       "1982-03-01    27.20\n",
       "1982-04-01    28.02\n",
       "1982-05-01    28.54\n",
       "1982-06-01    28.75\n",
       "1982-07-01    28.10\n",
       "1982-08-01    27.93\n",
       "1982-09-01    28.11\n",
       "1982-10-01    28.64\n",
       "1982-11-01    28.81\n",
       "1982-12-01    29.21\n",
       "Name: Nino34, dtype: float64"
      ]
     },
     "execution_count": 18,
     "metadata": {},
     "output_type": "execute_result"
    }
   ],
   "source": [
    "nino34_series.iloc[0:12]"
   ]
  },
  {
   "cell_type": "code",
   "execution_count": 19,
   "id": "a308f858",
   "metadata": {},
   "outputs": [
    {
     "data": {
      "text/plain": [
       "28.02"
      ]
     },
     "execution_count": 19,
     "metadata": {},
     "output_type": "execute_result"
    }
   ],
   "source": [
    "nino34_series.loc[\"1982-04-01\"]"
   ]
  },
  {
   "cell_type": "code",
   "execution_count": 20,
   "id": "d86a7563",
   "metadata": {},
   "outputs": [
    {
     "data": {
      "text/plain": [
       "datetime\n",
       "1982-01-01    26.72\n",
       "1982-02-01    26.70\n",
       "1982-03-01    27.20\n",
       "1982-04-01    28.02\n",
       "1982-05-01    28.54\n",
       "1982-06-01    28.75\n",
       "1982-07-01    28.10\n",
       "1982-08-01    27.93\n",
       "1982-09-01    28.11\n",
       "1982-10-01    28.64\n",
       "1982-11-01    28.81\n",
       "1982-12-01    29.21\n",
       "Name: Nino34, dtype: float64"
      ]
     },
     "execution_count": 20,
     "metadata": {},
     "output_type": "execute_result"
    }
   ],
   "source": [
    "nino34_series.loc[\"1982-01-01\":\"1982-12-01\"]"
   ]
  },
  {
   "cell_type": "markdown",
   "id": "4a597a81",
   "metadata": {},
   "source": [
    "### Extending to the `DataFrame`\n",
    "\n",
    "These capabilities extend back to our original `DataFrame`, as well!"
   ]
  },
  {
   "cell_type": "code",
   "execution_count": 21,
   "id": "37d9fdd1",
   "metadata": {
    "tags": [
     "raises-exception"
    ]
   },
   "outputs": [
    {
     "data": {
      "text/plain": [
       "Nino12        24.29\n",
       "Nino12anom    -0.17\n",
       "Nino3         25.87\n",
       "Nino3anom      0.24\n",
       "Nino4         28.30\n",
       "Nino4anom      0.00\n",
       "Nino34        26.72\n",
       "Nino34anom     0.15\n",
       "Name: 1982-01-01 00:00:00, dtype: float64"
      ]
     },
     "execution_count": 21,
     "metadata": {},
     "output_type": "execute_result"
    }
   ],
   "source": [
    "df.loc[\"1982-01-01\"]"
   ]
  },
  {
   "cell_type": "markdown",
   "id": "7671c6bd",
   "metadata": {},
   "source": [
    "They do! Importantly however, indexing a `DataFrame` can be more strict. A DataFrame has both rows and columns,\n",
    "and pandas needs to know that you are asking for a row, which is why you need to access the row label by\n",
    "using the `.loc` index.  If you give the DataFrame a single index, it will assume that you are asking\n",
    "for a column (the default) and not a row."
   ]
  },
  {
   "cell_type": "code",
   "execution_count": 22,
   "id": "38df939b",
   "metadata": {},
   "outputs": [
    {
     "data": {
      "text/plain": [
       "datetime\n",
       "1982-01-01    26.72\n",
       "1982-02-01    26.70\n",
       "1982-03-01    27.20\n",
       "1982-04-01    28.02\n",
       "1982-05-01    28.54\n",
       "              ...  \n",
       "2020-12-01    25.53\n",
       "2021-01-01    25.58\n",
       "2021-02-01    25.81\n",
       "2021-03-01    26.75\n",
       "2021-04-01    27.40\n",
       "Name: Nino34, Length: 472, dtype: float64"
      ]
     },
     "execution_count": 22,
     "metadata": {},
     "output_type": "execute_result"
    }
   ],
   "source": [
    "df[\"Nino34\"]"
   ]
  },
  {
   "cell_type": "markdown",
   "id": "da5a7ec6",
   "metadata": {},
   "source": [
    "You can also retrieve a row by its row number, but again, to remove the ambiguity between index labels (.loc)\n",
    "and row numbers, you need to use the `.iloc` locater."
   ]
  },
  {
   "cell_type": "code",
   "execution_count": 23,
   "id": "62db7c77",
   "metadata": {
    "tags": [
     "raises-exception"
    ]
   },
   "outputs": [
    {
     "data": {
      "text/plain": [
       "Nino12        24.29\n",
       "Nino12anom    -0.17\n",
       "Nino3         25.87\n",
       "Nino3anom      0.24\n",
       "Nino4         28.30\n",
       "Nino4anom      0.00\n",
       "Nino34        26.72\n",
       "Nino34anom     0.15\n",
       "Name: 1982-01-01 00:00:00, dtype: float64"
      ]
     },
     "execution_count": 23,
     "metadata": {},
     "output_type": "execute_result"
    }
   ],
   "source": [
    "df.iloc[0]"
   ]
  },
  {
   "cell_type": "markdown",
   "id": "460ece90",
   "metadata": {},
   "source": [
    "Knowing now that we can pull out one of our columns as a series with its label, plus our experience interacting with the `Series` `df[\"Nino34\"]` gives us, we can chain our brackets to pull out any value from any of our columns in `df`."
   ]
  },
  {
   "cell_type": "code",
   "execution_count": 24,
   "id": "07ea159e",
   "metadata": {},
   "outputs": [
    {
     "data": {
      "text/plain": [
       "28.02"
      ]
     },
     "execution_count": 24,
     "metadata": {},
     "output_type": "execute_result"
    }
   ],
   "source": [
    "df[\"Nino34\"][\"1982-04-01\"]"
   ]
  },
  {
   "cell_type": "code",
   "execution_count": 25,
   "id": "209c254f",
   "metadata": {},
   "outputs": [
    {
     "data": {
      "text/plain": [
       "28.02"
      ]
     },
     "execution_count": 25,
     "metadata": {},
     "output_type": "execute_result"
    }
   ],
   "source": [
    "df[\"Nino34\"][3]"
   ]
  },
  {
   "cell_type": "markdown",
   "id": "dfccfb69",
   "metadata": {},
   "source": [
    "However, this is not a pandas-preferred way to index and subset our data, and has limited capabilities for us. As we touched on before, `.loc` and `.iloc` give us more to work with, and their functionality grows further for `df`."
   ]
  },
  {
   "cell_type": "code",
   "execution_count": 26,
   "id": "b8abb0f8",
   "metadata": {},
   "outputs": [
    {
     "data": {
      "text/plain": [
       "28.02"
      ]
     },
     "execution_count": 26,
     "metadata": {},
     "output_type": "execute_result"
    }
   ],
   "source": [
    "df.loc[\"1982-04-01\", \"Nino34\"]"
   ]
  },
  {
   "cell_type": "markdown",
   "id": "b6995c3d",
   "metadata": {},
   "source": [
    "<div class=\"admonition alert alert-info\">\n",
    "    <p class=\"admonition-title\" style=\"font-weight:bold\">Info</p>\n",
    "    Note the <code>[<i>row</i>, <i>column</i>]</code> ordering!\n",
    "</div>"
   ]
  },
  {
   "cell_type": "markdown",
   "id": "80186188",
   "metadata": {},
   "source": [
    "These allow us to pull out entire rows of `df`,"
   ]
  },
  {
   "cell_type": "code",
   "execution_count": 27,
   "id": "514a5048",
   "metadata": {},
   "outputs": [
    {
     "data": {
      "text/plain": [
       "Nino12        24.50\n",
       "Nino12anom    -0.97\n",
       "Nino3         27.68\n",
       "Nino3anom      0.18\n",
       "Nino4         28.92\n",
       "Nino4anom      0.42\n",
       "Nino34        28.02\n",
       "Nino34anom     0.24\n",
       "Name: 1982-04-01 00:00:00, dtype: float64"
      ]
     },
     "execution_count": 27,
     "metadata": {},
     "output_type": "execute_result"
    }
   ],
   "source": [
    "df.loc[\"1982-04-01\"]"
   ]
  },
  {
   "cell_type": "code",
   "execution_count": 28,
   "id": "5e337564",
   "metadata": {},
   "outputs": [
    {
     "data": {
      "text/html": [
       "<div>\n",
       "<style scoped>\n",
       "    .dataframe tbody tr th:only-of-type {\n",
       "        vertical-align: middle;\n",
       "    }\n",
       "\n",
       "    .dataframe tbody tr th {\n",
       "        vertical-align: top;\n",
       "    }\n",
       "\n",
       "    .dataframe thead th {\n",
       "        text-align: right;\n",
       "    }\n",
       "</style>\n",
       "<table border=\"1\" class=\"dataframe\">\n",
       "  <thead>\n",
       "    <tr style=\"text-align: right;\">\n",
       "      <th></th>\n",
       "      <th>Nino12</th>\n",
       "      <th>Nino12anom</th>\n",
       "      <th>Nino3</th>\n",
       "      <th>Nino3anom</th>\n",
       "      <th>Nino4</th>\n",
       "      <th>Nino4anom</th>\n",
       "      <th>Nino34</th>\n",
       "      <th>Nino34anom</th>\n",
       "    </tr>\n",
       "    <tr>\n",
       "      <th>datetime</th>\n",
       "      <th></th>\n",
       "      <th></th>\n",
       "      <th></th>\n",
       "      <th></th>\n",
       "      <th></th>\n",
       "      <th></th>\n",
       "      <th></th>\n",
       "      <th></th>\n",
       "    </tr>\n",
       "  </thead>\n",
       "  <tbody>\n",
       "    <tr>\n",
       "      <th>1982-01-01</th>\n",
       "      <td>24.29</td>\n",
       "      <td>-0.17</td>\n",
       "      <td>25.87</td>\n",
       "      <td>0.24</td>\n",
       "      <td>28.30</td>\n",
       "      <td>0.00</td>\n",
       "      <td>26.72</td>\n",
       "      <td>0.15</td>\n",
       "    </tr>\n",
       "    <tr>\n",
       "      <th>1982-02-01</th>\n",
       "      <td>25.49</td>\n",
       "      <td>-0.58</td>\n",
       "      <td>26.38</td>\n",
       "      <td>0.01</td>\n",
       "      <td>28.21</td>\n",
       "      <td>0.11</td>\n",
       "      <td>26.70</td>\n",
       "      <td>-0.02</td>\n",
       "    </tr>\n",
       "    <tr>\n",
       "      <th>1982-03-01</th>\n",
       "      <td>25.21</td>\n",
       "      <td>-1.31</td>\n",
       "      <td>26.98</td>\n",
       "      <td>-0.16</td>\n",
       "      <td>28.41</td>\n",
       "      <td>0.22</td>\n",
       "      <td>27.20</td>\n",
       "      <td>-0.02</td>\n",
       "    </tr>\n",
       "    <tr>\n",
       "      <th>1982-04-01</th>\n",
       "      <td>24.50</td>\n",
       "      <td>-0.97</td>\n",
       "      <td>27.68</td>\n",
       "      <td>0.18</td>\n",
       "      <td>28.92</td>\n",
       "      <td>0.42</td>\n",
       "      <td>28.02</td>\n",
       "      <td>0.24</td>\n",
       "    </tr>\n",
       "    <tr>\n",
       "      <th>1982-05-01</th>\n",
       "      <td>23.97</td>\n",
       "      <td>-0.23</td>\n",
       "      <td>27.79</td>\n",
       "      <td>0.71</td>\n",
       "      <td>29.49</td>\n",
       "      <td>0.70</td>\n",
       "      <td>28.54</td>\n",
       "      <td>0.69</td>\n",
       "    </tr>\n",
       "    <tr>\n",
       "      <th>1982-06-01</th>\n",
       "      <td>22.89</td>\n",
       "      <td>0.07</td>\n",
       "      <td>27.46</td>\n",
       "      <td>1.03</td>\n",
       "      <td>29.76</td>\n",
       "      <td>0.92</td>\n",
       "      <td>28.75</td>\n",
       "      <td>1.10</td>\n",
       "    </tr>\n",
       "    <tr>\n",
       "      <th>1982-07-01</th>\n",
       "      <td>22.47</td>\n",
       "      <td>0.87</td>\n",
       "      <td>26.44</td>\n",
       "      <td>0.82</td>\n",
       "      <td>29.38</td>\n",
       "      <td>0.58</td>\n",
       "      <td>28.10</td>\n",
       "      <td>0.88</td>\n",
       "    </tr>\n",
       "    <tr>\n",
       "      <th>1982-08-01</th>\n",
       "      <td>21.75</td>\n",
       "      <td>1.10</td>\n",
       "      <td>26.15</td>\n",
       "      <td>1.16</td>\n",
       "      <td>29.04</td>\n",
       "      <td>0.36</td>\n",
       "      <td>27.93</td>\n",
       "      <td>1.11</td>\n",
       "    </tr>\n",
       "    <tr>\n",
       "      <th>1982-09-01</th>\n",
       "      <td>21.80</td>\n",
       "      <td>1.44</td>\n",
       "      <td>26.52</td>\n",
       "      <td>1.67</td>\n",
       "      <td>29.16</td>\n",
       "      <td>0.47</td>\n",
       "      <td>28.11</td>\n",
       "      <td>1.39</td>\n",
       "    </tr>\n",
       "    <tr>\n",
       "      <th>1982-10-01</th>\n",
       "      <td>22.94</td>\n",
       "      <td>2.12</td>\n",
       "      <td>27.11</td>\n",
       "      <td>2.19</td>\n",
       "      <td>29.38</td>\n",
       "      <td>0.72</td>\n",
       "      <td>28.64</td>\n",
       "      <td>1.95</td>\n",
       "    </tr>\n",
       "    <tr>\n",
       "      <th>1982-11-01</th>\n",
       "      <td>24.59</td>\n",
       "      <td>3.00</td>\n",
       "      <td>27.62</td>\n",
       "      <td>2.64</td>\n",
       "      <td>29.23</td>\n",
       "      <td>0.60</td>\n",
       "      <td>28.81</td>\n",
       "      <td>2.16</td>\n",
       "    </tr>\n",
       "    <tr>\n",
       "      <th>1982-12-01</th>\n",
       "      <td>26.13</td>\n",
       "      <td>3.34</td>\n",
       "      <td>28.39</td>\n",
       "      <td>3.25</td>\n",
       "      <td>29.15</td>\n",
       "      <td>0.66</td>\n",
       "      <td>29.21</td>\n",
       "      <td>2.64</td>\n",
       "    </tr>\n",
       "  </tbody>\n",
       "</table>\n",
       "</div>"
      ],
      "text/plain": [
       "            Nino12  Nino12anom  Nino3  Nino3anom  Nino4  Nino4anom  Nino34  \\\n",
       "datetime                                                                     \n",
       "1982-01-01   24.29       -0.17  25.87       0.24  28.30       0.00   26.72   \n",
       "1982-02-01   25.49       -0.58  26.38       0.01  28.21       0.11   26.70   \n",
       "1982-03-01   25.21       -1.31  26.98      -0.16  28.41       0.22   27.20   \n",
       "1982-04-01   24.50       -0.97  27.68       0.18  28.92       0.42   28.02   \n",
       "1982-05-01   23.97       -0.23  27.79       0.71  29.49       0.70   28.54   \n",
       "1982-06-01   22.89        0.07  27.46       1.03  29.76       0.92   28.75   \n",
       "1982-07-01   22.47        0.87  26.44       0.82  29.38       0.58   28.10   \n",
       "1982-08-01   21.75        1.10  26.15       1.16  29.04       0.36   27.93   \n",
       "1982-09-01   21.80        1.44  26.52       1.67  29.16       0.47   28.11   \n",
       "1982-10-01   22.94        2.12  27.11       2.19  29.38       0.72   28.64   \n",
       "1982-11-01   24.59        3.00  27.62       2.64  29.23       0.60   28.81   \n",
       "1982-12-01   26.13        3.34  28.39       3.25  29.15       0.66   29.21   \n",
       "\n",
       "            Nino34anom  \n",
       "datetime                \n",
       "1982-01-01        0.15  \n",
       "1982-02-01       -0.02  \n",
       "1982-03-01       -0.02  \n",
       "1982-04-01        0.24  \n",
       "1982-05-01        0.69  \n",
       "1982-06-01        1.10  \n",
       "1982-07-01        0.88  \n",
       "1982-08-01        1.11  \n",
       "1982-09-01        1.39  \n",
       "1982-10-01        1.95  \n",
       "1982-11-01        2.16  \n",
       "1982-12-01        2.64  "
      ]
     },
     "execution_count": 28,
     "metadata": {},
     "output_type": "execute_result"
    }
   ],
   "source": [
    "df.loc[\"1982-01-01\":\"1982-12-01\"]"
   ]
  },
  {
   "cell_type": "code",
   "execution_count": 29,
   "id": "e4e1f40d",
   "metadata": {},
   "outputs": [
    {
     "data": {
      "text/plain": [
       "Nino12        24.50\n",
       "Nino12anom    -0.97\n",
       "Nino3         27.68\n",
       "Nino3anom      0.18\n",
       "Nino4         28.92\n",
       "Nino4anom      0.42\n",
       "Nino34        28.02\n",
       "Nino34anom     0.24\n",
       "Name: 1982-04-01 00:00:00, dtype: float64"
      ]
     },
     "execution_count": 29,
     "metadata": {},
     "output_type": "execute_result"
    }
   ],
   "source": [
    "df.iloc[3]"
   ]
  },
  {
   "cell_type": "code",
   "execution_count": 30,
   "id": "ba0d795c",
   "metadata": {},
   "outputs": [
    {
     "data": {
      "text/html": [
       "<div>\n",
       "<style scoped>\n",
       "    .dataframe tbody tr th:only-of-type {\n",
       "        vertical-align: middle;\n",
       "    }\n",
       "\n",
       "    .dataframe tbody tr th {\n",
       "        vertical-align: top;\n",
       "    }\n",
       "\n",
       "    .dataframe thead th {\n",
       "        text-align: right;\n",
       "    }\n",
       "</style>\n",
       "<table border=\"1\" class=\"dataframe\">\n",
       "  <thead>\n",
       "    <tr style=\"text-align: right;\">\n",
       "      <th></th>\n",
       "      <th>Nino12</th>\n",
       "      <th>Nino12anom</th>\n",
       "      <th>Nino3</th>\n",
       "      <th>Nino3anom</th>\n",
       "      <th>Nino4</th>\n",
       "      <th>Nino4anom</th>\n",
       "      <th>Nino34</th>\n",
       "      <th>Nino34anom</th>\n",
       "    </tr>\n",
       "    <tr>\n",
       "      <th>datetime</th>\n",
       "      <th></th>\n",
       "      <th></th>\n",
       "      <th></th>\n",
       "      <th></th>\n",
       "      <th></th>\n",
       "      <th></th>\n",
       "      <th></th>\n",
       "      <th></th>\n",
       "    </tr>\n",
       "  </thead>\n",
       "  <tbody>\n",
       "    <tr>\n",
       "      <th>1982-01-01</th>\n",
       "      <td>24.29</td>\n",
       "      <td>-0.17</td>\n",
       "      <td>25.87</td>\n",
       "      <td>0.24</td>\n",
       "      <td>28.30</td>\n",
       "      <td>0.00</td>\n",
       "      <td>26.72</td>\n",
       "      <td>0.15</td>\n",
       "    </tr>\n",
       "    <tr>\n",
       "      <th>1982-02-01</th>\n",
       "      <td>25.49</td>\n",
       "      <td>-0.58</td>\n",
       "      <td>26.38</td>\n",
       "      <td>0.01</td>\n",
       "      <td>28.21</td>\n",
       "      <td>0.11</td>\n",
       "      <td>26.70</td>\n",
       "      <td>-0.02</td>\n",
       "    </tr>\n",
       "    <tr>\n",
       "      <th>1982-03-01</th>\n",
       "      <td>25.21</td>\n",
       "      <td>-1.31</td>\n",
       "      <td>26.98</td>\n",
       "      <td>-0.16</td>\n",
       "      <td>28.41</td>\n",
       "      <td>0.22</td>\n",
       "      <td>27.20</td>\n",
       "      <td>-0.02</td>\n",
       "    </tr>\n",
       "    <tr>\n",
       "      <th>1982-04-01</th>\n",
       "      <td>24.50</td>\n",
       "      <td>-0.97</td>\n",
       "      <td>27.68</td>\n",
       "      <td>0.18</td>\n",
       "      <td>28.92</td>\n",
       "      <td>0.42</td>\n",
       "      <td>28.02</td>\n",
       "      <td>0.24</td>\n",
       "    </tr>\n",
       "    <tr>\n",
       "      <th>1982-05-01</th>\n",
       "      <td>23.97</td>\n",
       "      <td>-0.23</td>\n",
       "      <td>27.79</td>\n",
       "      <td>0.71</td>\n",
       "      <td>29.49</td>\n",
       "      <td>0.70</td>\n",
       "      <td>28.54</td>\n",
       "      <td>0.69</td>\n",
       "    </tr>\n",
       "    <tr>\n",
       "      <th>1982-06-01</th>\n",
       "      <td>22.89</td>\n",
       "      <td>0.07</td>\n",
       "      <td>27.46</td>\n",
       "      <td>1.03</td>\n",
       "      <td>29.76</td>\n",
       "      <td>0.92</td>\n",
       "      <td>28.75</td>\n",
       "      <td>1.10</td>\n",
       "    </tr>\n",
       "    <tr>\n",
       "      <th>1982-07-01</th>\n",
       "      <td>22.47</td>\n",
       "      <td>0.87</td>\n",
       "      <td>26.44</td>\n",
       "      <td>0.82</td>\n",
       "      <td>29.38</td>\n",
       "      <td>0.58</td>\n",
       "      <td>28.10</td>\n",
       "      <td>0.88</td>\n",
       "    </tr>\n",
       "    <tr>\n",
       "      <th>1982-08-01</th>\n",
       "      <td>21.75</td>\n",
       "      <td>1.10</td>\n",
       "      <td>26.15</td>\n",
       "      <td>1.16</td>\n",
       "      <td>29.04</td>\n",
       "      <td>0.36</td>\n",
       "      <td>27.93</td>\n",
       "      <td>1.11</td>\n",
       "    </tr>\n",
       "    <tr>\n",
       "      <th>1982-09-01</th>\n",
       "      <td>21.80</td>\n",
       "      <td>1.44</td>\n",
       "      <td>26.52</td>\n",
       "      <td>1.67</td>\n",
       "      <td>29.16</td>\n",
       "      <td>0.47</td>\n",
       "      <td>28.11</td>\n",
       "      <td>1.39</td>\n",
       "    </tr>\n",
       "    <tr>\n",
       "      <th>1982-10-01</th>\n",
       "      <td>22.94</td>\n",
       "      <td>2.12</td>\n",
       "      <td>27.11</td>\n",
       "      <td>2.19</td>\n",
       "      <td>29.38</td>\n",
       "      <td>0.72</td>\n",
       "      <td>28.64</td>\n",
       "      <td>1.95</td>\n",
       "    </tr>\n",
       "    <tr>\n",
       "      <th>1982-11-01</th>\n",
       "      <td>24.59</td>\n",
       "      <td>3.00</td>\n",
       "      <td>27.62</td>\n",
       "      <td>2.64</td>\n",
       "      <td>29.23</td>\n",
       "      <td>0.60</td>\n",
       "      <td>28.81</td>\n",
       "      <td>2.16</td>\n",
       "    </tr>\n",
       "    <tr>\n",
       "      <th>1982-12-01</th>\n",
       "      <td>26.13</td>\n",
       "      <td>3.34</td>\n",
       "      <td>28.39</td>\n",
       "      <td>3.25</td>\n",
       "      <td>29.15</td>\n",
       "      <td>0.66</td>\n",
       "      <td>29.21</td>\n",
       "      <td>2.64</td>\n",
       "    </tr>\n",
       "  </tbody>\n",
       "</table>\n",
       "</div>"
      ],
      "text/plain": [
       "            Nino12  Nino12anom  Nino3  Nino3anom  Nino4  Nino4anom  Nino34  \\\n",
       "datetime                                                                     \n",
       "1982-01-01   24.29       -0.17  25.87       0.24  28.30       0.00   26.72   \n",
       "1982-02-01   25.49       -0.58  26.38       0.01  28.21       0.11   26.70   \n",
       "1982-03-01   25.21       -1.31  26.98      -0.16  28.41       0.22   27.20   \n",
       "1982-04-01   24.50       -0.97  27.68       0.18  28.92       0.42   28.02   \n",
       "1982-05-01   23.97       -0.23  27.79       0.71  29.49       0.70   28.54   \n",
       "1982-06-01   22.89        0.07  27.46       1.03  29.76       0.92   28.75   \n",
       "1982-07-01   22.47        0.87  26.44       0.82  29.38       0.58   28.10   \n",
       "1982-08-01   21.75        1.10  26.15       1.16  29.04       0.36   27.93   \n",
       "1982-09-01   21.80        1.44  26.52       1.67  29.16       0.47   28.11   \n",
       "1982-10-01   22.94        2.12  27.11       2.19  29.38       0.72   28.64   \n",
       "1982-11-01   24.59        3.00  27.62       2.64  29.23       0.60   28.81   \n",
       "1982-12-01   26.13        3.34  28.39       3.25  29.15       0.66   29.21   \n",
       "\n",
       "            Nino34anom  \n",
       "datetime                \n",
       "1982-01-01        0.15  \n",
       "1982-02-01       -0.02  \n",
       "1982-03-01       -0.02  \n",
       "1982-04-01        0.24  \n",
       "1982-05-01        0.69  \n",
       "1982-06-01        1.10  \n",
       "1982-07-01        0.88  \n",
       "1982-08-01        1.11  \n",
       "1982-09-01        1.39  \n",
       "1982-10-01        1.95  \n",
       "1982-11-01        2.16  \n",
       "1982-12-01        2.64  "
      ]
     },
     "execution_count": 30,
     "metadata": {},
     "output_type": "execute_result"
    }
   ],
   "source": [
    "df.iloc[0:12]"
   ]
  },
  {
   "cell_type": "markdown",
   "id": "29cac6c3",
   "metadata": {},
   "source": [
    "Even further,"
   ]
  },
  {
   "cell_type": "code",
   "execution_count": 31,
   "id": "99c3398e",
   "metadata": {},
   "outputs": [
    {
     "data": {
      "text/html": [
       "<div>\n",
       "<style scoped>\n",
       "    .dataframe tbody tr th:only-of-type {\n",
       "        vertical-align: middle;\n",
       "    }\n",
       "\n",
       "    .dataframe tbody tr th {\n",
       "        vertical-align: top;\n",
       "    }\n",
       "\n",
       "    .dataframe thead th {\n",
       "        text-align: right;\n",
       "    }\n",
       "</style>\n",
       "<table border=\"1\" class=\"dataframe\">\n",
       "  <thead>\n",
       "    <tr style=\"text-align: right;\">\n",
       "      <th></th>\n",
       "      <th>Nino12</th>\n",
       "      <th>Nino3</th>\n",
       "      <th>Nino4</th>\n",
       "      <th>Nino34</th>\n",
       "    </tr>\n",
       "    <tr>\n",
       "      <th>datetime</th>\n",
       "      <th></th>\n",
       "      <th></th>\n",
       "      <th></th>\n",
       "      <th></th>\n",
       "    </tr>\n",
       "  </thead>\n",
       "  <tbody>\n",
       "    <tr>\n",
       "      <th>1982-01-01</th>\n",
       "      <td>24.29</td>\n",
       "      <td>25.87</td>\n",
       "      <td>28.30</td>\n",
       "      <td>26.72</td>\n",
       "    </tr>\n",
       "    <tr>\n",
       "      <th>1982-02-01</th>\n",
       "      <td>25.49</td>\n",
       "      <td>26.38</td>\n",
       "      <td>28.21</td>\n",
       "      <td>26.70</td>\n",
       "    </tr>\n",
       "    <tr>\n",
       "      <th>1982-03-01</th>\n",
       "      <td>25.21</td>\n",
       "      <td>26.98</td>\n",
       "      <td>28.41</td>\n",
       "      <td>27.20</td>\n",
       "    </tr>\n",
       "    <tr>\n",
       "      <th>1982-04-01</th>\n",
       "      <td>24.50</td>\n",
       "      <td>27.68</td>\n",
       "      <td>28.92</td>\n",
       "      <td>28.02</td>\n",
       "    </tr>\n",
       "    <tr>\n",
       "      <th>1982-05-01</th>\n",
       "      <td>23.97</td>\n",
       "      <td>27.79</td>\n",
       "      <td>29.49</td>\n",
       "      <td>28.54</td>\n",
       "    </tr>\n",
       "    <tr>\n",
       "      <th>1982-06-01</th>\n",
       "      <td>22.89</td>\n",
       "      <td>27.46</td>\n",
       "      <td>29.76</td>\n",
       "      <td>28.75</td>\n",
       "    </tr>\n",
       "    <tr>\n",
       "      <th>1982-07-01</th>\n",
       "      <td>22.47</td>\n",
       "      <td>26.44</td>\n",
       "      <td>29.38</td>\n",
       "      <td>28.10</td>\n",
       "    </tr>\n",
       "    <tr>\n",
       "      <th>1982-08-01</th>\n",
       "      <td>21.75</td>\n",
       "      <td>26.15</td>\n",
       "      <td>29.04</td>\n",
       "      <td>27.93</td>\n",
       "    </tr>\n",
       "    <tr>\n",
       "      <th>1982-09-01</th>\n",
       "      <td>21.80</td>\n",
       "      <td>26.52</td>\n",
       "      <td>29.16</td>\n",
       "      <td>28.11</td>\n",
       "    </tr>\n",
       "    <tr>\n",
       "      <th>1982-10-01</th>\n",
       "      <td>22.94</td>\n",
       "      <td>27.11</td>\n",
       "      <td>29.38</td>\n",
       "      <td>28.64</td>\n",
       "    </tr>\n",
       "    <tr>\n",
       "      <th>1982-11-01</th>\n",
       "      <td>24.59</td>\n",
       "      <td>27.62</td>\n",
       "      <td>29.23</td>\n",
       "      <td>28.81</td>\n",
       "    </tr>\n",
       "    <tr>\n",
       "      <th>1982-12-01</th>\n",
       "      <td>26.13</td>\n",
       "      <td>28.39</td>\n",
       "      <td>29.15</td>\n",
       "      <td>29.21</td>\n",
       "    </tr>\n",
       "  </tbody>\n",
       "</table>\n",
       "</div>"
      ],
      "text/plain": [
       "            Nino12  Nino3  Nino4  Nino34\n",
       "datetime                                \n",
       "1982-01-01   24.29  25.87  28.30   26.72\n",
       "1982-02-01   25.49  26.38  28.21   26.70\n",
       "1982-03-01   25.21  26.98  28.41   27.20\n",
       "1982-04-01   24.50  27.68  28.92   28.02\n",
       "1982-05-01   23.97  27.79  29.49   28.54\n",
       "1982-06-01   22.89  27.46  29.76   28.75\n",
       "1982-07-01   22.47  26.44  29.38   28.10\n",
       "1982-08-01   21.75  26.15  29.04   27.93\n",
       "1982-09-01   21.80  26.52  29.16   28.11\n",
       "1982-10-01   22.94  27.11  29.38   28.64\n",
       "1982-11-01   24.59  27.62  29.23   28.81\n",
       "1982-12-01   26.13  28.39  29.15   29.21"
      ]
     },
     "execution_count": 31,
     "metadata": {},
     "output_type": "execute_result"
    }
   ],
   "source": [
    "df.loc[\n",
    "    \"1982-01-01\":\"1982-12-01\",  # slice of rows\n",
    "    [\"Nino12\", \"Nino3\", \"Nino4\", \"Nino34\"],  # list of columns\n",
    "]"
   ]
  },
  {
   "cell_type": "markdown",
   "id": "29ff0322",
   "metadata": {},
   "source": [
    "### Indexing summary\n",
    "\n",
    "Here are some rules of thumb for all of these different ways of indexing into a pandas\n",
    "dataframe:\n",
    "\n",
    "\n",
    "1.  Use informative index labels for rows and columns if possible.  It's very\n",
    "    useful to be able to write:"
   ]
  },
  {
   "cell_type": "code",
   "execution_count": 32,
   "id": "a786f781",
   "metadata": {},
   "outputs": [
    {
     "data": {
      "text/plain": [
       "datetime\n",
       "1982-01-01    26.72\n",
       "1982-02-01    26.70\n",
       "1982-03-01    27.20\n",
       "1982-04-01    28.02\n",
       "1982-05-01    28.54\n",
       "Name: Nino34, dtype: float64"
      ]
     },
     "execution_count": 32,
     "metadata": {},
     "output_type": "execute_result"
    }
   ],
   "source": [
    "df.loc[\"1982-01-01\":\"1982-5-01\",\"Nino34\"]"
   ]
  },
  {
   "cell_type": "markdown",
   "id": "ff032f4f",
   "metadata": {},
   "source": [
    "This is self-documenting, does the datetime to row number conversion for you,\n",
    "and relieves you of worrying about what happens to the row and column\n",
    "numbers if you add more dates (say a year before 1982) or additional columns, removing\n",
    "a large number of potential bugs."
   ]
  },
  {
   "cell_type": "markdown",
   "id": "d2d5f051",
   "metadata": {},
   "source": [
    "2. Prefer `df.loc[\"1982-01-01\":\"1982-5-01\",\"Nino34\"]` to\n",
    "\n",
    "   `df[\"Nino34\"][\"1982-01-01\":\"1982-5-01\"]`\n",
    "   \n",
    "   Both statements return the same data frame, but the second version fetches the entire\n",
    "   column, then gets the rows from that column.  This results in a \n",
    "   column,row indexing order that is reversed from\n",
    "   the usual numpy row-major array indexing of row,column -- a potential source of confusion."
   ]
  },
  {
   "cell_type": "markdown",
   "id": "2f60cf3d",
   "metadata": {},
   "source": [
    "3. Use iloc only when you have to\n",
    "\n",
    "So given the two points above, why does pandas have iloc?  This is to cover a situation like\n",
    "this: suppose you need to return a new dataframe with the 10 warmest Nino34 temperatures.  To do that you need \n",
    "to be able to access the sorted rows by number:"
   ]
  },
  {
   "cell_type": "code",
   "execution_count": 33,
   "id": "89e57f7d",
   "metadata": {},
   "outputs": [
    {
     "data": {
      "text/html": [
       "<div>\n",
       "<style scoped>\n",
       "    .dataframe tbody tr th:only-of-type {\n",
       "        vertical-align: middle;\n",
       "    }\n",
       "\n",
       "    .dataframe tbody tr th {\n",
       "        vertical-align: top;\n",
       "    }\n",
       "\n",
       "    .dataframe thead th {\n",
       "        text-align: right;\n",
       "    }\n",
       "</style>\n",
       "<table border=\"1\" class=\"dataframe\">\n",
       "  <thead>\n",
       "    <tr style=\"text-align: right;\">\n",
       "      <th></th>\n",
       "      <th>Nino12</th>\n",
       "      <th>Nino12anom</th>\n",
       "      <th>Nino3</th>\n",
       "      <th>Nino3anom</th>\n",
       "      <th>Nino4</th>\n",
       "      <th>Nino4anom</th>\n",
       "      <th>Nino34</th>\n",
       "      <th>Nino34anom</th>\n",
       "    </tr>\n",
       "    <tr>\n",
       "      <th>datetime</th>\n",
       "      <th></th>\n",
       "      <th></th>\n",
       "      <th></th>\n",
       "      <th></th>\n",
       "      <th></th>\n",
       "      <th></th>\n",
       "      <th></th>\n",
       "      <th></th>\n",
       "    </tr>\n",
       "  </thead>\n",
       "  <tbody>\n",
       "    <tr>\n",
       "      <th>2015-11-01</th>\n",
       "      <td>23.83</td>\n",
       "      <td>2.24</td>\n",
       "      <td>27.91</td>\n",
       "      <td>2.93</td>\n",
       "      <td>30.30</td>\n",
       "      <td>1.67</td>\n",
       "      <td>29.60</td>\n",
       "      <td>2.95</td>\n",
       "    </tr>\n",
       "    <tr>\n",
       "      <th>2015-12-01</th>\n",
       "      <td>25.01</td>\n",
       "      <td>2.19</td>\n",
       "      <td>27.99</td>\n",
       "      <td>2.85</td>\n",
       "      <td>30.11</td>\n",
       "      <td>1.63</td>\n",
       "      <td>29.39</td>\n",
       "      <td>2.82</td>\n",
       "    </tr>\n",
       "    <tr>\n",
       "      <th>1983-01-01</th>\n",
       "      <td>27.42</td>\n",
       "      <td>2.96</td>\n",
       "      <td>28.92</td>\n",
       "      <td>3.29</td>\n",
       "      <td>29.00</td>\n",
       "      <td>0.70</td>\n",
       "      <td>29.36</td>\n",
       "      <td>2.79</td>\n",
       "    </tr>\n",
       "    <tr>\n",
       "      <th>1997-11-01</th>\n",
       "      <td>25.63</td>\n",
       "      <td>4.04</td>\n",
       "      <td>28.55</td>\n",
       "      <td>3.57</td>\n",
       "      <td>29.49</td>\n",
       "      <td>0.86</td>\n",
       "      <td>29.32</td>\n",
       "      <td>2.67</td>\n",
       "    </tr>\n",
       "    <tr>\n",
       "      <th>1997-12-01</th>\n",
       "      <td>26.92</td>\n",
       "      <td>4.13</td>\n",
       "      <td>28.76</td>\n",
       "      <td>3.62</td>\n",
       "      <td>29.32</td>\n",
       "      <td>0.83</td>\n",
       "      <td>29.26</td>\n",
       "      <td>2.69</td>\n",
       "    </tr>\n",
       "  </tbody>\n",
       "</table>\n",
       "</div>"
      ],
      "text/plain": [
       "            Nino12  Nino12anom  Nino3  Nino3anom  Nino4  Nino4anom  Nino34  \\\n",
       "datetime                                                                     \n",
       "2015-11-01   23.83        2.24  27.91       2.93  30.30       1.67   29.60   \n",
       "2015-12-01   25.01        2.19  27.99       2.85  30.11       1.63   29.39   \n",
       "1983-01-01   27.42        2.96  28.92       3.29  29.00       0.70   29.36   \n",
       "1997-11-01   25.63        4.04  28.55       3.57  29.49       0.86   29.32   \n",
       "1997-12-01   26.92        4.13  28.76       3.62  29.32       0.83   29.26   \n",
       "\n",
       "            Nino34anom  \n",
       "datetime                \n",
       "2015-11-01        2.95  \n",
       "2015-12-01        2.82  \n",
       "1983-01-01        2.79  \n",
       "1997-11-01        2.67  \n",
       "1997-12-01        2.69  "
      ]
     },
     "execution_count": 33,
     "metadata": {},
     "output_type": "execute_result"
    }
   ],
   "source": [
    "#\n",
    "# sort in descending order\n",
    "#\n",
    "sorted_df = df.sort_values('Nino34',axis=0,ascending=False)\n",
    "#\n",
    "# get the top five temperatures, all columns\n",
    "#\n",
    "big_temps = sorted_df.iloc[:5,:]\n",
    "big_temps"
   ]
  },
  {
   "cell_type": "markdown",
   "id": "3bd7542b",
   "metadata": {},
   "source": [
    "<div class=\"admonition alert alert-info\">\n",
    "    <p class=\"admonition-title\" style=\"font-weight:bold\">Info</p>\n",
    "    For a more comprehensive explanation, which includes additional examples, limitations, and compares indexing methods between DataFrame and Series see <a href=\"https://pandas.pydata.org/docs/user_guide/indexing.html\">pandas' rules for indexing.</a>\n",
    "</div>"
   ]
  },
  {
   "cell_type": "markdown",
   "id": "644a8bfb",
   "metadata": {},
   "source": [
    "## Exploratory Data Analysis\n",
    "\n",
    "### Get a Quick Look at the Beginning/End of your `Dataframe`\n",
    "Pandas also gives you a few shortcuts to quickly investigate entire `DataFrame`s."
   ]
  },
  {
   "cell_type": "code",
   "execution_count": 34,
   "id": "71332528",
   "metadata": {},
   "outputs": [
    {
     "data": {
      "text/html": [
       "<div>\n",
       "<style scoped>\n",
       "    .dataframe tbody tr th:only-of-type {\n",
       "        vertical-align: middle;\n",
       "    }\n",
       "\n",
       "    .dataframe tbody tr th {\n",
       "        vertical-align: top;\n",
       "    }\n",
       "\n",
       "    .dataframe thead th {\n",
       "        text-align: right;\n",
       "    }\n",
       "</style>\n",
       "<table border=\"1\" class=\"dataframe\">\n",
       "  <thead>\n",
       "    <tr style=\"text-align: right;\">\n",
       "      <th></th>\n",
       "      <th>Nino12</th>\n",
       "      <th>Nino12anom</th>\n",
       "      <th>Nino3</th>\n",
       "      <th>Nino3anom</th>\n",
       "      <th>Nino4</th>\n",
       "      <th>Nino4anom</th>\n",
       "      <th>Nino34</th>\n",
       "      <th>Nino34anom</th>\n",
       "    </tr>\n",
       "    <tr>\n",
       "      <th>datetime</th>\n",
       "      <th></th>\n",
       "      <th></th>\n",
       "      <th></th>\n",
       "      <th></th>\n",
       "      <th></th>\n",
       "      <th></th>\n",
       "      <th></th>\n",
       "      <th></th>\n",
       "    </tr>\n",
       "  </thead>\n",
       "  <tbody>\n",
       "    <tr>\n",
       "      <th>1982-01-01</th>\n",
       "      <td>24.29</td>\n",
       "      <td>-0.17</td>\n",
       "      <td>25.87</td>\n",
       "      <td>0.24</td>\n",
       "      <td>28.30</td>\n",
       "      <td>0.00</td>\n",
       "      <td>26.72</td>\n",
       "      <td>0.15</td>\n",
       "    </tr>\n",
       "    <tr>\n",
       "      <th>1982-02-01</th>\n",
       "      <td>25.49</td>\n",
       "      <td>-0.58</td>\n",
       "      <td>26.38</td>\n",
       "      <td>0.01</td>\n",
       "      <td>28.21</td>\n",
       "      <td>0.11</td>\n",
       "      <td>26.70</td>\n",
       "      <td>-0.02</td>\n",
       "    </tr>\n",
       "    <tr>\n",
       "      <th>1982-03-01</th>\n",
       "      <td>25.21</td>\n",
       "      <td>-1.31</td>\n",
       "      <td>26.98</td>\n",
       "      <td>-0.16</td>\n",
       "      <td>28.41</td>\n",
       "      <td>0.22</td>\n",
       "      <td>27.20</td>\n",
       "      <td>-0.02</td>\n",
       "    </tr>\n",
       "    <tr>\n",
       "      <th>1982-04-01</th>\n",
       "      <td>24.50</td>\n",
       "      <td>-0.97</td>\n",
       "      <td>27.68</td>\n",
       "      <td>0.18</td>\n",
       "      <td>28.92</td>\n",
       "      <td>0.42</td>\n",
       "      <td>28.02</td>\n",
       "      <td>0.24</td>\n",
       "    </tr>\n",
       "    <tr>\n",
       "      <th>1982-05-01</th>\n",
       "      <td>23.97</td>\n",
       "      <td>-0.23</td>\n",
       "      <td>27.79</td>\n",
       "      <td>0.71</td>\n",
       "      <td>29.49</td>\n",
       "      <td>0.70</td>\n",
       "      <td>28.54</td>\n",
       "      <td>0.69</td>\n",
       "    </tr>\n",
       "  </tbody>\n",
       "</table>\n",
       "</div>"
      ],
      "text/plain": [
       "            Nino12  Nino12anom  Nino3  Nino3anom  Nino4  Nino4anom  Nino34  \\\n",
       "datetime                                                                     \n",
       "1982-01-01   24.29       -0.17  25.87       0.24  28.30       0.00   26.72   \n",
       "1982-02-01   25.49       -0.58  26.38       0.01  28.21       0.11   26.70   \n",
       "1982-03-01   25.21       -1.31  26.98      -0.16  28.41       0.22   27.20   \n",
       "1982-04-01   24.50       -0.97  27.68       0.18  28.92       0.42   28.02   \n",
       "1982-05-01   23.97       -0.23  27.79       0.71  29.49       0.70   28.54   \n",
       "\n",
       "            Nino34anom  \n",
       "datetime                \n",
       "1982-01-01        0.15  \n",
       "1982-02-01       -0.02  \n",
       "1982-03-01       -0.02  \n",
       "1982-04-01        0.24  \n",
       "1982-05-01        0.69  "
      ]
     },
     "execution_count": 34,
     "metadata": {},
     "output_type": "execute_result"
    }
   ],
   "source": [
    "df.head()"
   ]
  },
  {
   "cell_type": "code",
   "execution_count": 35,
   "id": "b00c9021",
   "metadata": {},
   "outputs": [
    {
     "data": {
      "text/html": [
       "<div>\n",
       "<style scoped>\n",
       "    .dataframe tbody tr th:only-of-type {\n",
       "        vertical-align: middle;\n",
       "    }\n",
       "\n",
       "    .dataframe tbody tr th {\n",
       "        vertical-align: top;\n",
       "    }\n",
       "\n",
       "    .dataframe thead th {\n",
       "        text-align: right;\n",
       "    }\n",
       "</style>\n",
       "<table border=\"1\" class=\"dataframe\">\n",
       "  <thead>\n",
       "    <tr style=\"text-align: right;\">\n",
       "      <th></th>\n",
       "      <th>Nino12</th>\n",
       "      <th>Nino12anom</th>\n",
       "      <th>Nino3</th>\n",
       "      <th>Nino3anom</th>\n",
       "      <th>Nino4</th>\n",
       "      <th>Nino4anom</th>\n",
       "      <th>Nino34</th>\n",
       "      <th>Nino34anom</th>\n",
       "    </tr>\n",
       "    <tr>\n",
       "      <th>datetime</th>\n",
       "      <th></th>\n",
       "      <th></th>\n",
       "      <th></th>\n",
       "      <th></th>\n",
       "      <th></th>\n",
       "      <th></th>\n",
       "      <th></th>\n",
       "      <th></th>\n",
       "    </tr>\n",
       "  </thead>\n",
       "  <tbody>\n",
       "    <tr>\n",
       "      <th>2020-12-01</th>\n",
       "      <td>22.16</td>\n",
       "      <td>-0.60</td>\n",
       "      <td>24.38</td>\n",
       "      <td>-0.83</td>\n",
       "      <td>27.65</td>\n",
       "      <td>-0.95</td>\n",
       "      <td>25.53</td>\n",
       "      <td>-1.12</td>\n",
       "    </tr>\n",
       "    <tr>\n",
       "      <th>2021-01-01</th>\n",
       "      <td>23.89</td>\n",
       "      <td>-0.64</td>\n",
       "      <td>25.06</td>\n",
       "      <td>-0.55</td>\n",
       "      <td>27.10</td>\n",
       "      <td>-1.25</td>\n",
       "      <td>25.58</td>\n",
       "      <td>-0.99</td>\n",
       "    </tr>\n",
       "    <tr>\n",
       "      <th>2021-02-01</th>\n",
       "      <td>25.55</td>\n",
       "      <td>-0.66</td>\n",
       "      <td>25.80</td>\n",
       "      <td>-0.57</td>\n",
       "      <td>27.20</td>\n",
       "      <td>-1.00</td>\n",
       "      <td>25.81</td>\n",
       "      <td>-0.92</td>\n",
       "    </tr>\n",
       "    <tr>\n",
       "      <th>2021-03-01</th>\n",
       "      <td>26.48</td>\n",
       "      <td>-0.26</td>\n",
       "      <td>26.80</td>\n",
       "      <td>-0.39</td>\n",
       "      <td>27.79</td>\n",
       "      <td>-0.55</td>\n",
       "      <td>26.75</td>\n",
       "      <td>-0.51</td>\n",
       "    </tr>\n",
       "    <tr>\n",
       "      <th>2021-04-01</th>\n",
       "      <td>24.89</td>\n",
       "      <td>-0.80</td>\n",
       "      <td>26.96</td>\n",
       "      <td>-0.65</td>\n",
       "      <td>28.47</td>\n",
       "      <td>-0.21</td>\n",
       "      <td>27.40</td>\n",
       "      <td>-0.49</td>\n",
       "    </tr>\n",
       "  </tbody>\n",
       "</table>\n",
       "</div>"
      ],
      "text/plain": [
       "            Nino12  Nino12anom  Nino3  Nino3anom  Nino4  Nino4anom  Nino34  \\\n",
       "datetime                                                                     \n",
       "2020-12-01   22.16       -0.60  24.38      -0.83  27.65      -0.95   25.53   \n",
       "2021-01-01   23.89       -0.64  25.06      -0.55  27.10      -1.25   25.58   \n",
       "2021-02-01   25.55       -0.66  25.80      -0.57  27.20      -1.00   25.81   \n",
       "2021-03-01   26.48       -0.26  26.80      -0.39  27.79      -0.55   26.75   \n",
       "2021-04-01   24.89       -0.80  26.96      -0.65  28.47      -0.21   27.40   \n",
       "\n",
       "            Nino34anom  \n",
       "datetime                \n",
       "2020-12-01       -1.12  \n",
       "2021-01-01       -0.99  \n",
       "2021-02-01       -0.92  \n",
       "2021-03-01       -0.51  \n",
       "2021-04-01       -0.49  "
      ]
     },
     "execution_count": 35,
     "metadata": {},
     "output_type": "execute_result"
    }
   ],
   "source": [
    "df.tail()"
   ]
  },
  {
   "cell_type": "markdown",
   "id": "753b0e9d",
   "metadata": {},
   "source": [
    "### Quick Plots of Your Data\n",
    "A good way to explore your data is by making a simple plot. Pandas allows you to plot without even calling `matplotlib`! Here, we are interested in the `Nino34` series. Check this out..."
   ]
  },
  {
   "cell_type": "code",
   "execution_count": 36,
   "id": "9209cf64",
   "metadata": {},
   "outputs": [
    {
     "data": {
      "image/png": "[encoded data removed]",
      "text/plain": [
       "<Figure size 432x288 with 1 Axes>"
      ]
     },
     "metadata": {
      "filenames": {
       "image/png": "/home/phil/repos/eosc211/_build/jupyter_execute/wk11/pythia_pandas_73_0.png"
      },
      "needs_background": "light"
     },
     "output_type": "display_data"
    }
   ],
   "source": [
    "ax0 = df.Nino34.plot(label='Nino34')"
   ]
  },
  {
   "cell_type": "markdown",
   "id": "ea3f0787",
   "metadata": {},
   "source": [
    "Since we've kept the matplotlib axis handle returned by pandas, we can customize it and redraw\n",
    "the figure:"
   ]
  },
  {
   "cell_type": "code",
   "execution_count": 37,
   "id": "ce6edba9",
   "metadata": {},
   "outputs": [
    {
     "data": {
      "image/png": "[encoded data removed]",
      "text/plain": [
       "<Figure size 432x288 with 1 Axes>"
      ]
     },
     "metadata": {
      "filenames": {
       "image/png": "/home/phil/repos/eosc211/_build/jupyter_execute/wk11/pythia_pandas_75_0.png"
      }
     },
     "output_type": "display_data"
    }
   ],
   "source": [
    "ax0.set(ylabel='temperature (degC)')\n",
    "ax0.grid(True)\n",
    "ax0.legend(loc='lower right')\n",
    "display(ax0.figure)"
   ]
  },
  {
   "cell_type": "markdown",
   "id": "309dee2d",
   "metadata": {},
   "source": [
    "Before, we called `.plot()` which generated a single line plot. This is helpful, but there are other plots which can also help with understanding your data! Let's try using a histogram to understand distributions...\n",
    "\n",
    "The only part that changes here is we are subsetting for just two `Nino` indices, and after `.plot`, we include `.hist()` which stands for histogram"
   ]
  },
  {
   "cell_type": "code",
   "execution_count": 38,
   "id": "71171b44",
   "metadata": {},
   "outputs": [
    {
     "data": {
      "image/png": "[encoded data removed]",
      "text/plain": [
       "<Figure size 432x288 with 1 Axes>"
      ]
     },
     "metadata": {
      "filenames": {
       "image/png": "/home/phil/repos/eosc211/_build/jupyter_execute/wk11/pythia_pandas_77_0.png"
      },
      "needs_background": "light"
     },
     "output_type": "display_data"
    }
   ],
   "source": [
    "axhist = df[['Nino12', 'Nino34']].plot.hist()\n",
    "axhist.set(xlabel='temperature (degC)');"
   ]
  },
  {
   "cell_type": "markdown",
   "id": "feff0c31",
   "metadata": {},
   "source": [
    "We can see some clear differences in the distributions, which is helpful! Another plot one might like to use would be a `boxplot`. Here, we replace `hist` with `box`"
   ]
  },
  {
   "cell_type": "code",
   "execution_count": 39,
   "id": "bd202f50",
   "metadata": {},
   "outputs": [
    {
     "data": {
      "image/png": "[encoded data removed]",
      "text/plain": [
       "<Figure size 432x288 with 1 Axes>"
      ]
     },
     "metadata": {
      "filenames": {
       "image/png": "/home/phil/repos/eosc211/_build/jupyter_execute/wk11/pythia_pandas_79_0.png"
      },
      "needs_background": "light"
     },
     "output_type": "display_data"
    }
   ],
   "source": [
    "df[['Nino12', 'Nino34']].plot.box();"
   ]
  },
  {
   "cell_type": "markdown",
   "id": "78c9d048",
   "metadata": {},
   "source": [
    "Here, we again see a clear difference in the distributions. These are not the only plots you can use within pandas! For more examples of plotting choices, check out [the pandas plot documentation](https://pandas.pydata.org/docs/reference/api/pandas.DataFrame.plot.html)"
   ]
  },
  {
   "cell_type": "markdown",
   "id": "ac4aa93a",
   "metadata": {},
   "source": [
    "#### More on customizing your plot -- use an existing figure with plt.subplots\n",
    "\n",
    "Pandas DataFrame `plot()` methods are just wrappers around matplotlib, so you always have the option to use matlplotlib directly\n",
    "instead of calling it through pandas.  Suppose you want the Nino34 graph to be one of four separate plots\n",
    "in a figure?  In that case, you can create a 2 x 2 set of axes with `plt.subplots`, \n",
    "and pass that axis to use:"
   ]
  },
  {
   "cell_type": "code",
   "execution_count": 40,
   "id": "a6651369",
   "metadata": {},
   "outputs": [
    {
     "data": {
      "image/png": "[encoded data removed]",
      "text/plain": [
       "<Figure size 576x432 with 1 Axes>"
      ]
     },
     "metadata": {
      "filenames": {
       "image/png": "/home/phil/repos/eosc211/_build/jupyter_execute/wk11/pythia_pandas_82_0.png"
      },
      "needs_background": "light"
     },
     "output_type": "display_data"
    }
   ],
   "source": [
    "fig, ax1 = plt.subplots(1,1, figsize=(8,6))\n",
    "#\n",
    "# pass dataframe an existing matplotlib axis to draw on\n",
    "#\n",
    "df.Nino34.plot(ax=ax1,color='black',linewidth=2)\n",
    "ax1.set(xlabel='Year',\n",
    "       ylabel = 'ENSO34 Index (degC)',label='Nino34')\n",
    "ax1.legend(loc='lower right')\n",
    "ax1.grid(True);"
   ]
  },
  {
   "cell_type": "markdown",
   "id": "2385d78f",
   "metadata": {},
   "source": [
    "Alternatively, from matplotlib you can plot the dataframe in an axis using the matplotlib `data` keyword:"
   ]
  },
  {
   "cell_type": "code",
   "execution_count": 41,
   "id": "a35a864c",
   "metadata": {},
   "outputs": [
    {
     "data": {
      "image/png": "[encoded data removed]",
      "text/plain": [
       "<Figure size 576x432 with 1 Axes>"
      ]
     },
     "metadata": {
      "filenames": {
       "image/png": "/home/phil/repos/eosc211/_build/jupyter_execute/wk11/pythia_pandas_84_0.png"
      },
      "needs_background": "light"
     },
     "output_type": "display_data"
    }
   ],
   "source": [
    "fig, ax2 = plt.subplots(1,1, figsize=(8,6))\n",
    "#\n",
    "# any dictionary-like object with keys and data will\n",
    "# work here, if it's passed using the data keyword and\n",
    "# the key is in the dicitonary\n",
    "#\n",
    "ax2.plot('Nino34',data = df);\n",
    "ax2.set(xlabel='Year',\n",
    "       ylabel = 'ENSO34 Index (degC)',label='Nino34')\n",
    "ax2.legend(loc='lower right')\n",
    "ax2.grid(True)"
   ]
  },
  {
   "cell_type": "markdown",
   "id": "412f41e3",
   "metadata": {},
   "source": [
    "**Bottom line**:  Do you want pandas or matplotlib to be in control of your plotting?  We've shown you multiple\n",
    "ways to plot a figure.\n",
    "\n",
    "1. Simplest -- pandas.DataFrame.plot(), put pandas in control of your figure and axis.\n",
    "\n",
    "2. More flexible -- have matplotlib control the figure and axis, and pass that axis to pandas for plotting using the `ax` keyword in pandas.DataFrame.plot()\n",
    "\n",
    "3. Matplotlib in control -- pass the DataFrame to the ax.plot function directly using the `data` keyword in matlotlib.axis.plot()\n",
    "\n",
    "Which to choose depends on how much customization you need -- using pandas plot functions\n",
    "may be easier, but they also add an extra layer on top of matplotlib that could potentially make your\n",
    "code more opaque."
   ]
  },
  {
   "cell_type": "markdown",
   "id": "e0e9289a",
   "metadata": {},
   "source": [
    "Next: graphs are a great way to get a feel for your data, but what if you wanted a more ***quantitative*** perspective? We can use the `describe` method on our `DataFrame`; this returns a table of summary statistics for all columns in the `DataFrame`\n",
    "\n",
    "### Basic Statistics\n",
    "\n",
    "By using the `describe` method, we see some general statistics! Notice how calling this on the dataframe returns a table with all the `Series`"
   ]
  },
  {
   "cell_type": "code",
   "execution_count": 42,
   "id": "a00bd04f",
   "metadata": {},
   "outputs": [
    {
     "data": {
      "text/html": [
       "<div>\n",
       "<style scoped>\n",
       "    .dataframe tbody tr th:only-of-type {\n",
       "        vertical-align: middle;\n",
       "    }\n",
       "\n",
       "    .dataframe tbody tr th {\n",
       "        vertical-align: top;\n",
       "    }\n",
       "\n",
       "    .dataframe thead th {\n",
       "        text-align: right;\n",
       "    }\n",
       "</style>\n",
       "<table border=\"1\" class=\"dataframe\">\n",
       "  <thead>\n",
       "    <tr style=\"text-align: right;\">\n",
       "      <th></th>\n",
       "      <th>Nino12</th>\n",
       "      <th>Nino12anom</th>\n",
       "      <th>Nino3</th>\n",
       "      <th>Nino3anom</th>\n",
       "      <th>Nino4</th>\n",
       "      <th>Nino4anom</th>\n",
       "      <th>Nino34</th>\n",
       "      <th>Nino34anom</th>\n",
       "    </tr>\n",
       "  </thead>\n",
       "  <tbody>\n",
       "    <tr>\n",
       "      <th>count</th>\n",
       "      <td>472.000000</td>\n",
       "      <td>472.000000</td>\n",
       "      <td>472.000000</td>\n",
       "      <td>472.000000</td>\n",
       "      <td>472.000000</td>\n",
       "      <td>472.000000</td>\n",
       "      <td>472.000000</td>\n",
       "      <td>472.000000</td>\n",
       "    </tr>\n",
       "    <tr>\n",
       "      <th>mean</th>\n",
       "      <td>23.209619</td>\n",
       "      <td>0.059725</td>\n",
       "      <td>25.936568</td>\n",
       "      <td>0.039428</td>\n",
       "      <td>28.625064</td>\n",
       "      <td>0.063814</td>\n",
       "      <td>27.076780</td>\n",
       "      <td>0.034894</td>\n",
       "    </tr>\n",
       "    <tr>\n",
       "      <th>std</th>\n",
       "      <td>2.431522</td>\n",
       "      <td>1.157590</td>\n",
       "      <td>1.349621</td>\n",
       "      <td>0.965464</td>\n",
       "      <td>0.755422</td>\n",
       "      <td>0.709401</td>\n",
       "      <td>1.063004</td>\n",
       "      <td>0.947936</td>\n",
       "    </tr>\n",
       "    <tr>\n",
       "      <th>min</th>\n",
       "      <td>18.570000</td>\n",
       "      <td>-2.100000</td>\n",
       "      <td>23.030000</td>\n",
       "      <td>-2.070000</td>\n",
       "      <td>26.430000</td>\n",
       "      <td>-1.870000</td>\n",
       "      <td>24.270000</td>\n",
       "      <td>-2.380000</td>\n",
       "    </tr>\n",
       "    <tr>\n",
       "      <th>25%</th>\n",
       "      <td>21.152500</td>\n",
       "      <td>-0.712500</td>\n",
       "      <td>24.850000</td>\n",
       "      <td>-0.600000</td>\n",
       "      <td>28.140000</td>\n",
       "      <td>-0.430000</td>\n",
       "      <td>26.330000</td>\n",
       "      <td>-0.572500</td>\n",
       "    </tr>\n",
       "    <tr>\n",
       "      <th>50%</th>\n",
       "      <td>22.980000</td>\n",
       "      <td>-0.160000</td>\n",
       "      <td>25.885000</td>\n",
       "      <td>-0.115000</td>\n",
       "      <td>28.760000</td>\n",
       "      <td>0.205000</td>\n",
       "      <td>27.100000</td>\n",
       "      <td>0.015000</td>\n",
       "    </tr>\n",
       "    <tr>\n",
       "      <th>75%</th>\n",
       "      <td>25.322500</td>\n",
       "      <td>0.515000</td>\n",
       "      <td>26.962500</td>\n",
       "      <td>0.512500</td>\n",
       "      <td>29.190000</td>\n",
       "      <td>0.630000</td>\n",
       "      <td>27.792500</td>\n",
       "      <td>0.565000</td>\n",
       "    </tr>\n",
       "    <tr>\n",
       "      <th>max</th>\n",
       "      <td>29.150000</td>\n",
       "      <td>4.620000</td>\n",
       "      <td>29.140000</td>\n",
       "      <td>3.620000</td>\n",
       "      <td>30.300000</td>\n",
       "      <td>1.670000</td>\n",
       "      <td>29.600000</td>\n",
       "      <td>2.950000</td>\n",
       "    </tr>\n",
       "  </tbody>\n",
       "</table>\n",
       "</div>"
      ],
      "text/plain": [
       "           Nino12  Nino12anom       Nino3   Nino3anom       Nino4   Nino4anom  \\\n",
       "count  472.000000  472.000000  472.000000  472.000000  472.000000  472.000000   \n",
       "mean    23.209619    0.059725   25.936568    0.039428   28.625064    0.063814   \n",
       "std      2.431522    1.157590    1.349621    0.965464    0.755422    0.709401   \n",
       "min     18.570000   -2.100000   23.030000   -2.070000   26.430000   -1.870000   \n",
       "25%     21.152500   -0.712500   24.850000   -0.600000   28.140000   -0.430000   \n",
       "50%     22.980000   -0.160000   25.885000   -0.115000   28.760000    0.205000   \n",
       "75%     25.322500    0.515000   26.962500    0.512500   29.190000    0.630000   \n",
       "max     29.150000    4.620000   29.140000    3.620000   30.300000    1.670000   \n",
       "\n",
       "           Nino34  Nino34anom  \n",
       "count  472.000000  472.000000  \n",
       "mean    27.076780    0.034894  \n",
       "std      1.063004    0.947936  \n",
       "min     24.270000   -2.380000  \n",
       "25%     26.330000   -0.572500  \n",
       "50%     27.100000    0.015000  \n",
       "75%     27.792500    0.565000  \n",
       "max     29.600000    2.950000  "
      ]
     },
     "execution_count": 42,
     "metadata": {},
     "output_type": "execute_result"
    }
   ],
   "source": [
    "df.describe()"
   ]
  },
  {
   "cell_type": "markdown",
   "id": "6bafc85d",
   "metadata": {},
   "source": [
    "You can look at specific statistics too, such as mean! Notice how the output is a `Series` (column) now"
   ]
  },
  {
   "cell_type": "code",
   "execution_count": 43,
   "id": "6fa313f0",
   "metadata": {},
   "outputs": [
    {
     "data": {
      "text/plain": [
       "Nino12        23.209619\n",
       "Nino12anom     0.059725\n",
       "Nino3         25.936568\n",
       "Nino3anom      0.039428\n",
       "Nino4         28.625064\n",
       "Nino4anom      0.063814\n",
       "Nino34        27.076780\n",
       "Nino34anom     0.034894\n",
       "dtype: float64"
      ]
     },
     "execution_count": 43,
     "metadata": {},
     "output_type": "execute_result"
    }
   ],
   "source": [
    "df.mean()"
   ]
  },
  {
   "cell_type": "markdown",
   "id": "57e9d4ae",
   "metadata": {},
   "source": [
    "If you are interested in a single column mean, subset for that and use `.mean`"
   ]
  },
  {
   "cell_type": "code",
   "execution_count": 44,
   "id": "10266e6d",
   "metadata": {},
   "outputs": [
    {
     "data": {
      "text/plain": [
       "27.07677966101695"
      ]
     },
     "execution_count": 44,
     "metadata": {},
     "output_type": "execute_result"
    }
   ],
   "source": [
    "df.Nino34.mean()"
   ]
  },
  {
   "cell_type": "markdown",
   "id": "cfc3721e",
   "metadata": {},
   "source": [
    "### Subsetting Using the Datetime Column\n",
    "\n",
    "You can use techniques besides slicing to subset a `DataFrame`. Here, we provide examples of using a couple other options.\n",
    "\n",
    "Say you only want the month of January - you can use `df.index.month` to query for which month you are interested in (in this case, 1 for the month of January)"
   ]
  },
  {
   "cell_type": "code",
   "execution_count": 45,
   "id": "e5d039ab",
   "metadata": {},
   "outputs": [
    {
     "data": {
      "text/html": [
       "<div>\n",
       "<style scoped>\n",
       "    .dataframe tbody tr th:only-of-type {\n",
       "        vertical-align: middle;\n",
       "    }\n",
       "\n",
       "    .dataframe tbody tr th {\n",
       "        vertical-align: top;\n",
       "    }\n",
       "\n",
       "    .dataframe thead th {\n",
       "        text-align: right;\n",
       "    }\n",
       "</style>\n",
       "<table border=\"1\" class=\"dataframe\">\n",
       "  <thead>\n",
       "    <tr style=\"text-align: right;\">\n",
       "      <th></th>\n",
       "      <th>Nino12</th>\n",
       "      <th>Nino12anom</th>\n",
       "      <th>Nino3</th>\n",
       "      <th>Nino3anom</th>\n",
       "      <th>Nino4</th>\n",
       "      <th>Nino4anom</th>\n",
       "      <th>Nino34</th>\n",
       "      <th>Nino34anom</th>\n",
       "    </tr>\n",
       "    <tr>\n",
       "      <th>datetime</th>\n",
       "      <th></th>\n",
       "      <th></th>\n",
       "      <th></th>\n",
       "      <th></th>\n",
       "      <th></th>\n",
       "      <th></th>\n",
       "      <th></th>\n",
       "      <th></th>\n",
       "    </tr>\n",
       "  </thead>\n",
       "  <tbody>\n",
       "    <tr>\n",
       "      <th>1982-01-01</th>\n",
       "      <td>24.29</td>\n",
       "      <td>-0.17</td>\n",
       "      <td>25.87</td>\n",
       "      <td>0.24</td>\n",
       "      <td>28.30</td>\n",
       "      <td>0.00</td>\n",
       "      <td>26.72</td>\n",
       "      <td>0.15</td>\n",
       "    </tr>\n",
       "    <tr>\n",
       "      <th>1983-01-01</th>\n",
       "      <td>27.42</td>\n",
       "      <td>2.96</td>\n",
       "      <td>28.92</td>\n",
       "      <td>3.29</td>\n",
       "      <td>29.00</td>\n",
       "      <td>0.70</td>\n",
       "      <td>29.36</td>\n",
       "      <td>2.79</td>\n",
       "    </tr>\n",
       "    <tr>\n",
       "      <th>1984-01-01</th>\n",
       "      <td>24.18</td>\n",
       "      <td>-0.28</td>\n",
       "      <td>24.82</td>\n",
       "      <td>-0.81</td>\n",
       "      <td>27.64</td>\n",
       "      <td>-0.66</td>\n",
       "      <td>25.64</td>\n",
       "      <td>-0.93</td>\n",
       "    </tr>\n",
       "    <tr>\n",
       "      <th>1985-01-01</th>\n",
       "      <td>23.59</td>\n",
       "      <td>-0.87</td>\n",
       "      <td>24.51</td>\n",
       "      <td>-1.12</td>\n",
       "      <td>27.71</td>\n",
       "      <td>-0.59</td>\n",
       "      <td>25.43</td>\n",
       "      <td>-1.14</td>\n",
       "    </tr>\n",
       "    <tr>\n",
       "      <th>1986-01-01</th>\n",
       "      <td>24.61</td>\n",
       "      <td>0.15</td>\n",
       "      <td>24.73</td>\n",
       "      <td>-0.90</td>\n",
       "      <td>28.11</td>\n",
       "      <td>-0.19</td>\n",
       "      <td>25.79</td>\n",
       "      <td>-0.78</td>\n",
       "    </tr>\n",
       "  </tbody>\n",
       "</table>\n",
       "</div>"
      ],
      "text/plain": [
       "            Nino12  Nino12anom  Nino3  Nino3anom  Nino4  Nino4anom  Nino34  \\\n",
       "datetime                                                                     \n",
       "1982-01-01   24.29       -0.17  25.87       0.24  28.30       0.00   26.72   \n",
       "1983-01-01   27.42        2.96  28.92       3.29  29.00       0.70   29.36   \n",
       "1984-01-01   24.18       -0.28  24.82      -0.81  27.64      -0.66   25.64   \n",
       "1985-01-01   23.59       -0.87  24.51      -1.12  27.71      -0.59   25.43   \n",
       "1986-01-01   24.61        0.15  24.73      -0.90  28.11      -0.19   25.79   \n",
       "\n",
       "            Nino34anom  \n",
       "datetime                \n",
       "1982-01-01        0.15  \n",
       "1983-01-01        2.79  \n",
       "1984-01-01       -0.93  \n",
       "1985-01-01       -1.14  \n",
       "1986-01-01       -0.78  "
      ]
     },
     "execution_count": 45,
     "metadata": {},
     "output_type": "execute_result"
    }
   ],
   "source": [
    "# Uses the datetime column\n",
    "df[df.index.month == 1].head()"
   ]
  },
  {
   "cell_type": "markdown",
   "id": "76b555f8",
   "metadata": {},
   "source": [
    "You could even assign this month to a new column!"
   ]
  },
  {
   "cell_type": "code",
   "execution_count": 46,
   "id": "84765e2c",
   "metadata": {},
   "outputs": [],
   "source": [
    "df['month'] = df.index.month"
   ]
  },
  {
   "cell_type": "markdown",
   "id": "47894e27",
   "metadata": {},
   "source": [
    "Now that it is its own column (`Series`), we can use `groupby` to group by the month, then taking the average, to determine average monthly values over the dataset"
   ]
  },
  {
   "cell_type": "code",
   "execution_count": 47,
   "id": "8b00fa26",
   "metadata": {},
   "outputs": [
    {
     "data": {
      "image/png": "[encoded data removed]",
      "text/plain": [
       "<Figure size 432x288 with 1 Axes>"
      ]
     },
     "metadata": {
      "filenames": {
       "image/png": "/home/phil/repos/eosc211/_build/jupyter_execute/wk11/pythia_pandas_97_0.png"
      },
      "needs_background": "light"
     },
     "output_type": "display_data"
    }
   ],
   "source": [
    "df.groupby('month').mean().plot();"
   ]
  },
  {
   "cell_type": "markdown",
   "id": "84e4a189",
   "metadata": {},
   "source": [
    "#### Pandas style hint:  method chaining\n",
    "\n",
    "The cell above \"chains\" two methods (mean and plot) together, without creating an intermediate result.  It's equivalent to:"
   ]
  },
  {
   "cell_type": "code",
   "execution_count": 48,
   "id": "abedbbfc",
   "metadata": {},
   "outputs": [
    {
     "data": {
      "image/png": "[encoded data removed]",
      "text/plain": [
       "<Figure size 432x288 with 1 Axes>"
      ]
     },
     "metadata": {
      "filenames": {
       "image/png": "/home/phil/repos/eosc211/_build/jupyter_execute/wk11/pythia_pandas_99_0.png"
      },
      "needs_background": "light"
     },
     "output_type": "display_data"
    }
   ],
   "source": [
    "month_groups = df.groupby('month')\n",
    "month_mean = month_groups.mean()\n",
    "the_axis = month_mean.plot()"
   ]
  },
  {
   "cell_type": "markdown",
   "id": "a1bac38a",
   "metadata": {},
   "source": [
    "It's very common in pandas to see chained methods written  one methoc per line-- can you explain why this works?"
   ]
  },
  {
   "cell_type": "code",
   "execution_count": 49,
   "id": "76e27d2d",
   "metadata": {},
   "outputs": [
    {
     "data": {
      "image/png": "[encoded data removed]",
      "text/plain": [
       "<Figure size 432x288 with 1 Axes>"
      ]
     },
     "metadata": {
      "filenames": {
       "image/png": "/home/phil/repos/eosc211/_build/jupyter_execute/wk11/pythia_pandas_101_0.png"
      },
      "needs_background": "light"
     },
     "output_type": "display_data"
    }
   ],
   "source": [
    "the_ax = (df.groupby('month')\n",
    "          .mean()\n",
    "          .plot())"
   ]
  },
  {
   "cell_type": "markdown",
   "id": "bfb6fb32",
   "metadata": {},
   "source": [
    "#### Your turn\n",
    "\n",
    "Add a grid, title and a yaxis label to this plot using the `the_ax` axis.  See the [matplotlib gallery](https://matplotlib.org/stable/gallery/index.html) for some examples."
   ]
  },
  {
   "cell_type": "markdown",
   "id": "2133c2c2",
   "metadata": {},
   "source": [
    "### Turning a groupby result into a dictionary\n",
    "\n",
    "\n",
    "\n",
    "Here is an incantation that turns a groupby object into a dictionary:"
   ]
  },
  {
   "cell_type": "code",
   "execution_count": 50,
   "id": "dcc47a75",
   "metadata": {},
   "outputs": [
    {
     "data": {
      "text/plain": [
       "dict_keys([1, 2, 3, 4, 5, 6, 7, 8, 9, 10, 11, 12])"
      ]
     },
     "execution_count": 50,
     "metadata": {},
     "output_type": "execute_result"
    }
   ],
   "source": [
    "month_groups = df.groupby('month')\n",
    "month_groups = dict(tuple(month_groups))\n",
    "month_groups.keys()"
   ]
  },
  {
   "cell_type": "markdown",
   "id": "95c32db3",
   "metadata": {},
   "source": [
    "#### Your turn\n",
    "\n",
    "What steps would you take to figure out why `dict(tuple(month_groups))` works the way it does?  Here's a good\n",
    "[overview of dicitionaries](https://realpython.com/iterate-through-dictionary-python/)"
   ]
  },
  {
   "cell_type": "markdown",
   "id": "0e33c0b1",
   "metadata": {},
   "source": [
    "### Investigating Extreme Values"
   ]
  },
  {
   "cell_type": "markdown",
   "id": "8a0922d1",
   "metadata": {},
   "source": [
    "You can also use ***conditional indexing***, such that you can search where rows meet a certain criteria. In this case, we are interested in where the Nino34 anomaly is greater than 2"
   ]
  },
  {
   "cell_type": "code",
   "execution_count": 51,
   "id": "c0b82806",
   "metadata": {},
   "outputs": [
    {
     "data": {
      "text/html": [
       "<div>\n",
       "<style scoped>\n",
       "    .dataframe tbody tr th:only-of-type {\n",
       "        vertical-align: middle;\n",
       "    }\n",
       "\n",
       "    .dataframe tbody tr th {\n",
       "        vertical-align: top;\n",
       "    }\n",
       "\n",
       "    .dataframe thead th {\n",
       "        text-align: right;\n",
       "    }\n",
       "</style>\n",
       "<table border=\"1\" class=\"dataframe\">\n",
       "  <thead>\n",
       "    <tr style=\"text-align: right;\">\n",
       "      <th></th>\n",
       "      <th>Nino12</th>\n",
       "      <th>Nino12anom</th>\n",
       "      <th>Nino3</th>\n",
       "      <th>Nino3anom</th>\n",
       "      <th>Nino4</th>\n",
       "      <th>Nino4anom</th>\n",
       "      <th>Nino34</th>\n",
       "      <th>Nino34anom</th>\n",
       "      <th>month</th>\n",
       "    </tr>\n",
       "    <tr>\n",
       "      <th>datetime</th>\n",
       "      <th></th>\n",
       "      <th></th>\n",
       "      <th></th>\n",
       "      <th></th>\n",
       "      <th></th>\n",
       "      <th></th>\n",
       "      <th></th>\n",
       "      <th></th>\n",
       "      <th></th>\n",
       "    </tr>\n",
       "  </thead>\n",
       "  <tbody>\n",
       "    <tr>\n",
       "      <th>1982-11-01</th>\n",
       "      <td>24.59</td>\n",
       "      <td>3.00</td>\n",
       "      <td>27.62</td>\n",
       "      <td>2.64</td>\n",
       "      <td>29.23</td>\n",
       "      <td>0.60</td>\n",
       "      <td>28.81</td>\n",
       "      <td>2.16</td>\n",
       "      <td>11</td>\n",
       "    </tr>\n",
       "    <tr>\n",
       "      <th>1982-12-01</th>\n",
       "      <td>26.13</td>\n",
       "      <td>3.34</td>\n",
       "      <td>28.39</td>\n",
       "      <td>3.25</td>\n",
       "      <td>29.15</td>\n",
       "      <td>0.66</td>\n",
       "      <td>29.21</td>\n",
       "      <td>2.64</td>\n",
       "      <td>12</td>\n",
       "    </tr>\n",
       "    <tr>\n",
       "      <th>1983-01-01</th>\n",
       "      <td>27.42</td>\n",
       "      <td>2.96</td>\n",
       "      <td>28.92</td>\n",
       "      <td>3.29</td>\n",
       "      <td>29.00</td>\n",
       "      <td>0.70</td>\n",
       "      <td>29.36</td>\n",
       "      <td>2.79</td>\n",
       "      <td>1</td>\n",
       "    </tr>\n",
       "    <tr>\n",
       "      <th>1983-02-01</th>\n",
       "      <td>28.09</td>\n",
       "      <td>2.02</td>\n",
       "      <td>28.92</td>\n",
       "      <td>2.55</td>\n",
       "      <td>28.79</td>\n",
       "      <td>0.69</td>\n",
       "      <td>29.13</td>\n",
       "      <td>2.41</td>\n",
       "      <td>2</td>\n",
       "    </tr>\n",
       "    <tr>\n",
       "      <th>1997-08-01</th>\n",
       "      <td>24.80</td>\n",
       "      <td>4.15</td>\n",
       "      <td>27.84</td>\n",
       "      <td>2.85</td>\n",
       "      <td>29.26</td>\n",
       "      <td>0.58</td>\n",
       "      <td>28.84</td>\n",
       "      <td>2.02</td>\n",
       "      <td>8</td>\n",
       "    </tr>\n",
       "    <tr>\n",
       "      <th>1997-09-01</th>\n",
       "      <td>24.40</td>\n",
       "      <td>4.04</td>\n",
       "      <td>27.84</td>\n",
       "      <td>2.99</td>\n",
       "      <td>29.32</td>\n",
       "      <td>0.63</td>\n",
       "      <td>28.93</td>\n",
       "      <td>2.21</td>\n",
       "      <td>9</td>\n",
       "    </tr>\n",
       "    <tr>\n",
       "      <th>1997-10-01</th>\n",
       "      <td>24.58</td>\n",
       "      <td>3.76</td>\n",
       "      <td>28.17</td>\n",
       "      <td>3.25</td>\n",
       "      <td>29.32</td>\n",
       "      <td>0.66</td>\n",
       "      <td>29.23</td>\n",
       "      <td>2.54</td>\n",
       "      <td>10</td>\n",
       "    </tr>\n",
       "    <tr>\n",
       "      <th>1997-11-01</th>\n",
       "      <td>25.63</td>\n",
       "      <td>4.04</td>\n",
       "      <td>28.55</td>\n",
       "      <td>3.57</td>\n",
       "      <td>29.49</td>\n",
       "      <td>0.86</td>\n",
       "      <td>29.32</td>\n",
       "      <td>2.67</td>\n",
       "      <td>11</td>\n",
       "    </tr>\n",
       "    <tr>\n",
       "      <th>1997-12-01</th>\n",
       "      <td>26.92</td>\n",
       "      <td>4.13</td>\n",
       "      <td>28.76</td>\n",
       "      <td>3.62</td>\n",
       "      <td>29.32</td>\n",
       "      <td>0.83</td>\n",
       "      <td>29.26</td>\n",
       "      <td>2.69</td>\n",
       "      <td>12</td>\n",
       "    </tr>\n",
       "    <tr>\n",
       "      <th>1998-01-01</th>\n",
       "      <td>28.22</td>\n",
       "      <td>3.76</td>\n",
       "      <td>28.94</td>\n",
       "      <td>3.31</td>\n",
       "      <td>29.01</td>\n",
       "      <td>0.71</td>\n",
       "      <td>29.10</td>\n",
       "      <td>2.53</td>\n",
       "      <td>1</td>\n",
       "    </tr>\n",
       "    <tr>\n",
       "      <th>1998-02-01</th>\n",
       "      <td>28.98</td>\n",
       "      <td>2.91</td>\n",
       "      <td>28.93</td>\n",
       "      <td>2.56</td>\n",
       "      <td>28.87</td>\n",
       "      <td>0.77</td>\n",
       "      <td>28.86</td>\n",
       "      <td>2.14</td>\n",
       "      <td>2</td>\n",
       "    </tr>\n",
       "    <tr>\n",
       "      <th>2015-08-01</th>\n",
       "      <td>22.88</td>\n",
       "      <td>2.24</td>\n",
       "      <td>27.33</td>\n",
       "      <td>2.34</td>\n",
       "      <td>29.66</td>\n",
       "      <td>0.98</td>\n",
       "      <td>28.89</td>\n",
       "      <td>2.07</td>\n",
       "      <td>8</td>\n",
       "    </tr>\n",
       "    <tr>\n",
       "      <th>2015-09-01</th>\n",
       "      <td>22.91</td>\n",
       "      <td>2.57</td>\n",
       "      <td>27.48</td>\n",
       "      <td>2.63</td>\n",
       "      <td>29.73</td>\n",
       "      <td>1.04</td>\n",
       "      <td>29.00</td>\n",
       "      <td>2.28</td>\n",
       "      <td>9</td>\n",
       "    </tr>\n",
       "    <tr>\n",
       "      <th>2015-10-01</th>\n",
       "      <td>23.31</td>\n",
       "      <td>2.52</td>\n",
       "      <td>27.58</td>\n",
       "      <td>2.66</td>\n",
       "      <td>29.79</td>\n",
       "      <td>1.12</td>\n",
       "      <td>29.15</td>\n",
       "      <td>2.46</td>\n",
       "      <td>10</td>\n",
       "    </tr>\n",
       "    <tr>\n",
       "      <th>2015-11-01</th>\n",
       "      <td>23.83</td>\n",
       "      <td>2.24</td>\n",
       "      <td>27.91</td>\n",
       "      <td>2.93</td>\n",
       "      <td>30.30</td>\n",
       "      <td>1.67</td>\n",
       "      <td>29.60</td>\n",
       "      <td>2.95</td>\n",
       "      <td>11</td>\n",
       "    </tr>\n",
       "    <tr>\n",
       "      <th>2015-12-01</th>\n",
       "      <td>25.01</td>\n",
       "      <td>2.19</td>\n",
       "      <td>27.99</td>\n",
       "      <td>2.85</td>\n",
       "      <td>30.11</td>\n",
       "      <td>1.63</td>\n",
       "      <td>29.39</td>\n",
       "      <td>2.82</td>\n",
       "      <td>12</td>\n",
       "    </tr>\n",
       "    <tr>\n",
       "      <th>2016-01-01</th>\n",
       "      <td>25.93</td>\n",
       "      <td>1.41</td>\n",
       "      <td>28.21</td>\n",
       "      <td>2.58</td>\n",
       "      <td>29.65</td>\n",
       "      <td>1.35</td>\n",
       "      <td>29.17</td>\n",
       "      <td>2.60</td>\n",
       "      <td>1</td>\n",
       "    </tr>\n",
       "    <tr>\n",
       "      <th>2016-02-01</th>\n",
       "      <td>26.81</td>\n",
       "      <td>0.67</td>\n",
       "      <td>28.36</td>\n",
       "      <td>1.99</td>\n",
       "      <td>29.55</td>\n",
       "      <td>1.45</td>\n",
       "      <td>29.12</td>\n",
       "      <td>2.40</td>\n",
       "      <td>2</td>\n",
       "    </tr>\n",
       "  </tbody>\n",
       "</table>\n",
       "</div>"
      ],
      "text/plain": [
       "            Nino12  Nino12anom  Nino3  Nino3anom  Nino4  Nino4anom  Nino34  \\\n",
       "datetime                                                                     \n",
       "1982-11-01   24.59        3.00  27.62       2.64  29.23       0.60   28.81   \n",
       "1982-12-01   26.13        3.34  28.39       3.25  29.15       0.66   29.21   \n",
       "1983-01-01   27.42        2.96  28.92       3.29  29.00       0.70   29.36   \n",
       "1983-02-01   28.09        2.02  28.92       2.55  28.79       0.69   29.13   \n",
       "1997-08-01   24.80        4.15  27.84       2.85  29.26       0.58   28.84   \n",
       "1997-09-01   24.40        4.04  27.84       2.99  29.32       0.63   28.93   \n",
       "1997-10-01   24.58        3.76  28.17       3.25  29.32       0.66   29.23   \n",
       "1997-11-01   25.63        4.04  28.55       3.57  29.49       0.86   29.32   \n",
       "1997-12-01   26.92        4.13  28.76       3.62  29.32       0.83   29.26   \n",
       "1998-01-01   28.22        3.76  28.94       3.31  29.01       0.71   29.10   \n",
       "1998-02-01   28.98        2.91  28.93       2.56  28.87       0.77   28.86   \n",
       "2015-08-01   22.88        2.24  27.33       2.34  29.66       0.98   28.89   \n",
       "2015-09-01   22.91        2.57  27.48       2.63  29.73       1.04   29.00   \n",
       "2015-10-01   23.31        2.52  27.58       2.66  29.79       1.12   29.15   \n",
       "2015-11-01   23.83        2.24  27.91       2.93  30.30       1.67   29.60   \n",
       "2015-12-01   25.01        2.19  27.99       2.85  30.11       1.63   29.39   \n",
       "2016-01-01   25.93        1.41  28.21       2.58  29.65       1.35   29.17   \n",
       "2016-02-01   26.81        0.67  28.36       1.99  29.55       1.45   29.12   \n",
       "\n",
       "            Nino34anom  month  \n",
       "datetime                       \n",
       "1982-11-01        2.16     11  \n",
       "1982-12-01        2.64     12  \n",
       "1983-01-01        2.79      1  \n",
       "1983-02-01        2.41      2  \n",
       "1997-08-01        2.02      8  \n",
       "1997-09-01        2.21      9  \n",
       "1997-10-01        2.54     10  \n",
       "1997-11-01        2.67     11  \n",
       "1997-12-01        2.69     12  \n",
       "1998-01-01        2.53      1  \n",
       "1998-02-01        2.14      2  \n",
       "2015-08-01        2.07      8  \n",
       "2015-09-01        2.28      9  \n",
       "2015-10-01        2.46     10  \n",
       "2015-11-01        2.95     11  \n",
       "2015-12-01        2.82     12  \n",
       "2016-01-01        2.60      1  \n",
       "2016-02-01        2.40      2  "
      ]
     },
     "execution_count": 51,
     "metadata": {},
     "output_type": "execute_result"
    }
   ],
   "source": [
    "df[df.Nino34anom > 2]"
   ]
  },
  {
   "cell_type": "markdown",
   "id": "ec6b4937",
   "metadata": {},
   "source": [
    "You can also sort columns based on the values!"
   ]
  },
  {
   "cell_type": "code",
   "execution_count": 52,
   "id": "925ab69f",
   "metadata": {},
   "outputs": [
    {
     "data": {
      "text/html": [
       "<div>\n",
       "<style scoped>\n",
       "    .dataframe tbody tr th:only-of-type {\n",
       "        vertical-align: middle;\n",
       "    }\n",
       "\n",
       "    .dataframe tbody tr th {\n",
       "        vertical-align: top;\n",
       "    }\n",
       "\n",
       "    .dataframe thead th {\n",
       "        text-align: right;\n",
       "    }\n",
       "</style>\n",
       "<table border=\"1\" class=\"dataframe\">\n",
       "  <thead>\n",
       "    <tr style=\"text-align: right;\">\n",
       "      <th></th>\n",
       "      <th>Nino12</th>\n",
       "      <th>Nino12anom</th>\n",
       "      <th>Nino3</th>\n",
       "      <th>Nino3anom</th>\n",
       "      <th>Nino4</th>\n",
       "      <th>Nino4anom</th>\n",
       "      <th>Nino34</th>\n",
       "      <th>Nino34anom</th>\n",
       "      <th>month</th>\n",
       "    </tr>\n",
       "    <tr>\n",
       "      <th>datetime</th>\n",
       "      <th></th>\n",
       "      <th></th>\n",
       "      <th></th>\n",
       "      <th></th>\n",
       "      <th></th>\n",
       "      <th></th>\n",
       "      <th></th>\n",
       "      <th></th>\n",
       "      <th></th>\n",
       "    </tr>\n",
       "  </thead>\n",
       "  <tbody>\n",
       "    <tr>\n",
       "      <th>1988-11-01</th>\n",
       "      <td>20.55</td>\n",
       "      <td>-1.04</td>\n",
       "      <td>23.03</td>\n",
       "      <td>-1.95</td>\n",
       "      <td>26.76</td>\n",
       "      <td>-1.87</td>\n",
       "      <td>24.27</td>\n",
       "      <td>-2.38</td>\n",
       "      <td>11</td>\n",
       "    </tr>\n",
       "    <tr>\n",
       "      <th>1988-12-01</th>\n",
       "      <td>21.80</td>\n",
       "      <td>-0.99</td>\n",
       "      <td>23.07</td>\n",
       "      <td>-2.07</td>\n",
       "      <td>26.75</td>\n",
       "      <td>-1.74</td>\n",
       "      <td>24.33</td>\n",
       "      <td>-2.24</td>\n",
       "      <td>12</td>\n",
       "    </tr>\n",
       "    <tr>\n",
       "      <th>1988-10-01</th>\n",
       "      <td>19.50</td>\n",
       "      <td>-1.32</td>\n",
       "      <td>23.17</td>\n",
       "      <td>-1.75</td>\n",
       "      <td>27.06</td>\n",
       "      <td>-1.60</td>\n",
       "      <td>24.62</td>\n",
       "      <td>-2.07</td>\n",
       "      <td>10</td>\n",
       "    </tr>\n",
       "    <tr>\n",
       "      <th>1989-01-01</th>\n",
       "      <td>24.09</td>\n",
       "      <td>-0.37</td>\n",
       "      <td>24.15</td>\n",
       "      <td>-1.48</td>\n",
       "      <td>26.54</td>\n",
       "      <td>-1.76</td>\n",
       "      <td>24.53</td>\n",
       "      <td>-2.04</td>\n",
       "      <td>1</td>\n",
       "    </tr>\n",
       "    <tr>\n",
       "      <th>2000-01-01</th>\n",
       "      <td>23.86</td>\n",
       "      <td>-0.60</td>\n",
       "      <td>23.88</td>\n",
       "      <td>-1.75</td>\n",
       "      <td>26.96</td>\n",
       "      <td>-1.34</td>\n",
       "      <td>24.65</td>\n",
       "      <td>-1.92</td>\n",
       "      <td>1</td>\n",
       "    </tr>\n",
       "    <tr>\n",
       "      <th>...</th>\n",
       "      <td>...</td>\n",
       "      <td>...</td>\n",
       "      <td>...</td>\n",
       "      <td>...</td>\n",
       "      <td>...</td>\n",
       "      <td>...</td>\n",
       "      <td>...</td>\n",
       "      <td>...</td>\n",
       "      <td>...</td>\n",
       "    </tr>\n",
       "    <tr>\n",
       "      <th>1997-11-01</th>\n",
       "      <td>25.63</td>\n",
       "      <td>4.04</td>\n",
       "      <td>28.55</td>\n",
       "      <td>3.57</td>\n",
       "      <td>29.49</td>\n",
       "      <td>0.86</td>\n",
       "      <td>29.32</td>\n",
       "      <td>2.67</td>\n",
       "      <td>11</td>\n",
       "    </tr>\n",
       "    <tr>\n",
       "      <th>1997-12-01</th>\n",
       "      <td>26.92</td>\n",
       "      <td>4.13</td>\n",
       "      <td>28.76</td>\n",
       "      <td>3.62</td>\n",
       "      <td>29.32</td>\n",
       "      <td>0.83</td>\n",
       "      <td>29.26</td>\n",
       "      <td>2.69</td>\n",
       "      <td>12</td>\n",
       "    </tr>\n",
       "    <tr>\n",
       "      <th>1983-01-01</th>\n",
       "      <td>27.42</td>\n",
       "      <td>2.96</td>\n",
       "      <td>28.92</td>\n",
       "      <td>3.29</td>\n",
       "      <td>29.00</td>\n",
       "      <td>0.70</td>\n",
       "      <td>29.36</td>\n",
       "      <td>2.79</td>\n",
       "      <td>1</td>\n",
       "    </tr>\n",
       "    <tr>\n",
       "      <th>2015-12-01</th>\n",
       "      <td>25.01</td>\n",
       "      <td>2.19</td>\n",
       "      <td>27.99</td>\n",
       "      <td>2.85</td>\n",
       "      <td>30.11</td>\n",
       "      <td>1.63</td>\n",
       "      <td>29.39</td>\n",
       "      <td>2.82</td>\n",
       "      <td>12</td>\n",
       "    </tr>\n",
       "    <tr>\n",
       "      <th>2015-11-01</th>\n",
       "      <td>23.83</td>\n",
       "      <td>2.24</td>\n",
       "      <td>27.91</td>\n",
       "      <td>2.93</td>\n",
       "      <td>30.30</td>\n",
       "      <td>1.67</td>\n",
       "      <td>29.60</td>\n",
       "      <td>2.95</td>\n",
       "      <td>11</td>\n",
       "    </tr>\n",
       "  </tbody>\n",
       "</table>\n",
       "<p>472 rows × 9 columns</p>\n",
       "</div>"
      ],
      "text/plain": [
       "            Nino12  Nino12anom  Nino3  Nino3anom  Nino4  Nino4anom  Nino34  \\\n",
       "datetime                                                                     \n",
       "1988-11-01   20.55       -1.04  23.03      -1.95  26.76      -1.87   24.27   \n",
       "1988-12-01   21.80       -0.99  23.07      -2.07  26.75      -1.74   24.33   \n",
       "1988-10-01   19.50       -1.32  23.17      -1.75  27.06      -1.60   24.62   \n",
       "1989-01-01   24.09       -0.37  24.15      -1.48  26.54      -1.76   24.53   \n",
       "2000-01-01   23.86       -0.60  23.88      -1.75  26.96      -1.34   24.65   \n",
       "...            ...         ...    ...        ...    ...        ...     ...   \n",
       "1997-11-01   25.63        4.04  28.55       3.57  29.49       0.86   29.32   \n",
       "1997-12-01   26.92        4.13  28.76       3.62  29.32       0.83   29.26   \n",
       "1983-01-01   27.42        2.96  28.92       3.29  29.00       0.70   29.36   \n",
       "2015-12-01   25.01        2.19  27.99       2.85  30.11       1.63   29.39   \n",
       "2015-11-01   23.83        2.24  27.91       2.93  30.30       1.67   29.60   \n",
       "\n",
       "            Nino34anom  month  \n",
       "datetime                       \n",
       "1988-11-01       -2.38     11  \n",
       "1988-12-01       -2.24     12  \n",
       "1988-10-01       -2.07     10  \n",
       "1989-01-01       -2.04      1  \n",
       "2000-01-01       -1.92      1  \n",
       "...                ...    ...  \n",
       "1997-11-01        2.67     11  \n",
       "1997-12-01        2.69     12  \n",
       "1983-01-01        2.79      1  \n",
       "2015-12-01        2.82     12  \n",
       "2015-11-01        2.95     11  \n",
       "\n",
       "[472 rows x 9 columns]"
      ]
     },
     "execution_count": 52,
     "metadata": {},
     "output_type": "execute_result"
    }
   ],
   "source": [
    "df.sort_values('Nino34anom')"
   ]
  },
  {
   "cell_type": "markdown",
   "id": "04e4fe77",
   "metadata": {},
   "source": [
    "Let's change the way that is ordered..."
   ]
  },
  {
   "cell_type": "code",
   "execution_count": 53,
   "id": "bb5c40d6",
   "metadata": {},
   "outputs": [
    {
     "data": {
      "text/html": [
       "<div>\n",
       "<style scoped>\n",
       "    .dataframe tbody tr th:only-of-type {\n",
       "        vertical-align: middle;\n",
       "    }\n",
       "\n",
       "    .dataframe tbody tr th {\n",
       "        vertical-align: top;\n",
       "    }\n",
       "\n",
       "    .dataframe thead th {\n",
       "        text-align: right;\n",
       "    }\n",
       "</style>\n",
       "<table border=\"1\" class=\"dataframe\">\n",
       "  <thead>\n",
       "    <tr style=\"text-align: right;\">\n",
       "      <th></th>\n",
       "      <th>Nino12</th>\n",
       "      <th>Nino12anom</th>\n",
       "      <th>Nino3</th>\n",
       "      <th>Nino3anom</th>\n",
       "      <th>Nino4</th>\n",
       "      <th>Nino4anom</th>\n",
       "      <th>Nino34</th>\n",
       "      <th>Nino34anom</th>\n",
       "      <th>month</th>\n",
       "    </tr>\n",
       "    <tr>\n",
       "      <th>datetime</th>\n",
       "      <th></th>\n",
       "      <th></th>\n",
       "      <th></th>\n",
       "      <th></th>\n",
       "      <th></th>\n",
       "      <th></th>\n",
       "      <th></th>\n",
       "      <th></th>\n",
       "      <th></th>\n",
       "    </tr>\n",
       "  </thead>\n",
       "  <tbody>\n",
       "    <tr>\n",
       "      <th>2015-11-01</th>\n",
       "      <td>23.83</td>\n",
       "      <td>2.24</td>\n",
       "      <td>27.91</td>\n",
       "      <td>2.93</td>\n",
       "      <td>30.30</td>\n",
       "      <td>1.67</td>\n",
       "      <td>29.60</td>\n",
       "      <td>2.95</td>\n",
       "      <td>11</td>\n",
       "    </tr>\n",
       "    <tr>\n",
       "      <th>2015-12-01</th>\n",
       "      <td>25.01</td>\n",
       "      <td>2.19</td>\n",
       "      <td>27.99</td>\n",
       "      <td>2.85</td>\n",
       "      <td>30.11</td>\n",
       "      <td>1.63</td>\n",
       "      <td>29.39</td>\n",
       "      <td>2.82</td>\n",
       "      <td>12</td>\n",
       "    </tr>\n",
       "    <tr>\n",
       "      <th>1983-01-01</th>\n",
       "      <td>27.42</td>\n",
       "      <td>2.96</td>\n",
       "      <td>28.92</td>\n",
       "      <td>3.29</td>\n",
       "      <td>29.00</td>\n",
       "      <td>0.70</td>\n",
       "      <td>29.36</td>\n",
       "      <td>2.79</td>\n",
       "      <td>1</td>\n",
       "    </tr>\n",
       "    <tr>\n",
       "      <th>1997-12-01</th>\n",
       "      <td>26.92</td>\n",
       "      <td>4.13</td>\n",
       "      <td>28.76</td>\n",
       "      <td>3.62</td>\n",
       "      <td>29.32</td>\n",
       "      <td>0.83</td>\n",
       "      <td>29.26</td>\n",
       "      <td>2.69</td>\n",
       "      <td>12</td>\n",
       "    </tr>\n",
       "    <tr>\n",
       "      <th>1997-11-01</th>\n",
       "      <td>25.63</td>\n",
       "      <td>4.04</td>\n",
       "      <td>28.55</td>\n",
       "      <td>3.57</td>\n",
       "      <td>29.49</td>\n",
       "      <td>0.86</td>\n",
       "      <td>29.32</td>\n",
       "      <td>2.67</td>\n",
       "      <td>11</td>\n",
       "    </tr>\n",
       "    <tr>\n",
       "      <th>...</th>\n",
       "      <td>...</td>\n",
       "      <td>...</td>\n",
       "      <td>...</td>\n",
       "      <td>...</td>\n",
       "      <td>...</td>\n",
       "      <td>...</td>\n",
       "      <td>...</td>\n",
       "      <td>...</td>\n",
       "      <td>...</td>\n",
       "    </tr>\n",
       "    <tr>\n",
       "      <th>2000-01-01</th>\n",
       "      <td>23.86</td>\n",
       "      <td>-0.60</td>\n",
       "      <td>23.88</td>\n",
       "      <td>-1.75</td>\n",
       "      <td>26.96</td>\n",
       "      <td>-1.34</td>\n",
       "      <td>24.65</td>\n",
       "      <td>-1.92</td>\n",
       "      <td>1</td>\n",
       "    </tr>\n",
       "    <tr>\n",
       "      <th>1989-01-01</th>\n",
       "      <td>24.09</td>\n",
       "      <td>-0.37</td>\n",
       "      <td>24.15</td>\n",
       "      <td>-1.48</td>\n",
       "      <td>26.54</td>\n",
       "      <td>-1.76</td>\n",
       "      <td>24.53</td>\n",
       "      <td>-2.04</td>\n",
       "      <td>1</td>\n",
       "    </tr>\n",
       "    <tr>\n",
       "      <th>1988-10-01</th>\n",
       "      <td>19.50</td>\n",
       "      <td>-1.32</td>\n",
       "      <td>23.17</td>\n",
       "      <td>-1.75</td>\n",
       "      <td>27.06</td>\n",
       "      <td>-1.60</td>\n",
       "      <td>24.62</td>\n",
       "      <td>-2.07</td>\n",
       "      <td>10</td>\n",
       "    </tr>\n",
       "    <tr>\n",
       "      <th>1988-12-01</th>\n",
       "      <td>21.80</td>\n",
       "      <td>-0.99</td>\n",
       "      <td>23.07</td>\n",
       "      <td>-2.07</td>\n",
       "      <td>26.75</td>\n",
       "      <td>-1.74</td>\n",
       "      <td>24.33</td>\n",
       "      <td>-2.24</td>\n",
       "      <td>12</td>\n",
       "    </tr>\n",
       "    <tr>\n",
       "      <th>1988-11-01</th>\n",
       "      <td>20.55</td>\n",
       "      <td>-1.04</td>\n",
       "      <td>23.03</td>\n",
       "      <td>-1.95</td>\n",
       "      <td>26.76</td>\n",
       "      <td>-1.87</td>\n",
       "      <td>24.27</td>\n",
       "      <td>-2.38</td>\n",
       "      <td>11</td>\n",
       "    </tr>\n",
       "  </tbody>\n",
       "</table>\n",
       "<p>472 rows × 9 columns</p>\n",
       "</div>"
      ],
      "text/plain": [
       "            Nino12  Nino12anom  Nino3  Nino3anom  Nino4  Nino4anom  Nino34  \\\n",
       "datetime                                                                     \n",
       "2015-11-01   23.83        2.24  27.91       2.93  30.30       1.67   29.60   \n",
       "2015-12-01   25.01        2.19  27.99       2.85  30.11       1.63   29.39   \n",
       "1983-01-01   27.42        2.96  28.92       3.29  29.00       0.70   29.36   \n",
       "1997-12-01   26.92        4.13  28.76       3.62  29.32       0.83   29.26   \n",
       "1997-11-01   25.63        4.04  28.55       3.57  29.49       0.86   29.32   \n",
       "...            ...         ...    ...        ...    ...        ...     ...   \n",
       "2000-01-01   23.86       -0.60  23.88      -1.75  26.96      -1.34   24.65   \n",
       "1989-01-01   24.09       -0.37  24.15      -1.48  26.54      -1.76   24.53   \n",
       "1988-10-01   19.50       -1.32  23.17      -1.75  27.06      -1.60   24.62   \n",
       "1988-12-01   21.80       -0.99  23.07      -2.07  26.75      -1.74   24.33   \n",
       "1988-11-01   20.55       -1.04  23.03      -1.95  26.76      -1.87   24.27   \n",
       "\n",
       "            Nino34anom  month  \n",
       "datetime                       \n",
       "2015-11-01        2.95     11  \n",
       "2015-12-01        2.82     12  \n",
       "1983-01-01        2.79      1  \n",
       "1997-12-01        2.69     12  \n",
       "1997-11-01        2.67     11  \n",
       "...                ...    ...  \n",
       "2000-01-01       -1.92      1  \n",
       "1989-01-01       -2.04      1  \n",
       "1988-10-01       -2.07     10  \n",
       "1988-12-01       -2.24     12  \n",
       "1988-11-01       -2.38     11  \n",
       "\n",
       "[472 rows x 9 columns]"
      ]
     },
     "execution_count": 53,
     "metadata": {},
     "output_type": "execute_result"
    }
   ],
   "source": [
    "df.sort_values('Nino34anom', ascending=False)"
   ]
  },
  {
   "cell_type": "markdown",
   "id": "30507d3c",
   "metadata": {},
   "source": [
    "### Resampling\n",
    "Here, we are trying to resample the timeseries such that the signal does not appear as noisy. This can helpfule when working with timeseries data! In this case, we resample to a yearly average (`1Y`) instead of monthly values"
   ]
  },
  {
   "cell_type": "code",
   "execution_count": 54,
   "id": "047556cf",
   "metadata": {},
   "outputs": [
    {
     "data": {
      "image/png": "[encoded data removed]",
      "text/plain": [
       "<Figure size 432x288 with 1 Axes>"
      ]
     },
     "metadata": {
      "filenames": {
       "image/png": "/home/phil/repos/eosc211/_build/jupyter_execute/wk11/pythia_pandas_114_0.png"
      },
      "needs_background": "light"
     },
     "output_type": "display_data"
    }
   ],
   "source": [
    "df.Nino34.plot();"
   ]
  },
  {
   "cell_type": "markdown",
   "id": "6ae18958",
   "metadata": {},
   "source": [
    "#### Your turn\n",
    "\n",
    "How would you plot the original timeseries on top of the one year resample?"
   ]
  },
  {
   "cell_type": "markdown",
   "id": "5ad2902d",
   "metadata": {},
   "source": [
    "### Applying operations to a dataframe\n",
    "\n",
    "Often times, people are interested in applying calculations to data within pandas `DataFrame`s. Here, we setup a function to convert from degrees Celsius to Kelvin"
   ]
  },
  {
   "cell_type": "code",
   "execution_count": 55,
   "id": "01c80eb5",
   "metadata": {},
   "outputs": [],
   "source": [
    "def convert_degc_to_kelvin(temperature_degc):\n",
    "    \"\"\"\n",
    "    Converts from degrees celsius to Kelvin\n",
    "    \"\"\"\n",
    "\n",
    "    return temperature_degc + 273.15"
   ]
  },
  {
   "cell_type": "markdown",
   "id": "e091c996",
   "metadata": {},
   "source": [
    "Now, this function accepts and returns a single value"
   ]
  },
  {
   "cell_type": "code",
   "execution_count": 56,
   "id": "73b9a08e",
   "metadata": {},
   "outputs": [
    {
     "data": {
      "text/plain": [
       "273.15"
      ]
     },
     "execution_count": 56,
     "metadata": {},
     "output_type": "execute_result"
    }
   ],
   "source": [
    "# Convert a single value\n",
    "convert_degc_to_kelvin(0)"
   ]
  },
  {
   "cell_type": "markdown",
   "id": "655cd80a",
   "metadata": {},
   "source": [
    "But what if we want to apply this to our dataframe? We can subset for Nino34, which is in degrees Celsius"
   ]
  },
  {
   "cell_type": "code",
   "execution_count": 57,
   "id": "fa2d58e8",
   "metadata": {},
   "outputs": [
    {
     "data": {
      "text/plain": [
       "datetime\n",
       "1982-01-01    26.72\n",
       "1982-02-01    26.70\n",
       "1982-03-01    27.20\n",
       "1982-04-01    28.02\n",
       "1982-05-01    28.54\n",
       "              ...  \n",
       "2020-12-01    25.53\n",
       "2021-01-01    25.58\n",
       "2021-02-01    25.81\n",
       "2021-03-01    26.75\n",
       "2021-04-01    27.40\n",
       "Name: Nino34, Length: 472, dtype: float64"
      ]
     },
     "execution_count": 57,
     "metadata": {},
     "output_type": "execute_result"
    }
   ],
   "source": [
    "nino34_series"
   ]
  },
  {
   "cell_type": "markdown",
   "id": "5480dcac",
   "metadata": {},
   "source": [
    "Notice how the object type is a pandas series"
   ]
  },
  {
   "cell_type": "code",
   "execution_count": 58,
   "id": "a28c41cc",
   "metadata": {},
   "outputs": [
    {
     "data": {
      "text/plain": [
       "pandas.core.series.Series"
      ]
     },
     "execution_count": 58,
     "metadata": {},
     "output_type": "execute_result"
    }
   ],
   "source": [
    "type(df.Nino12[0:10])"
   ]
  },
  {
   "cell_type": "markdown",
   "id": "ee8a11d7",
   "metadata": {},
   "source": [
    "If you call `.values`, the object type is now a numpy array. Pandas `Series` values include numpy arrays, and calling `.values` returns the series as a numpy array!"
   ]
  },
  {
   "cell_type": "code",
   "execution_count": 59,
   "id": "02f7346b",
   "metadata": {},
   "outputs": [
    {
     "data": {
      "text/plain": [
       "numpy.ndarray"
      ]
     },
     "execution_count": 59,
     "metadata": {},
     "output_type": "execute_result"
    }
   ],
   "source": [
    "type(df.Nino12.values[0:10])"
   ]
  },
  {
   "cell_type": "markdown",
   "id": "c6584f61",
   "metadata": {},
   "source": [
    "Let's apply this calculation to this `Series`; this returns another `Series` object."
   ]
  },
  {
   "cell_type": "code",
   "execution_count": 60,
   "id": "c2e41c78",
   "metadata": {},
   "outputs": [
    {
     "data": {
      "text/plain": [
       "datetime\n",
       "1982-01-01    299.87\n",
       "1982-02-01    299.85\n",
       "1982-03-01    300.35\n",
       "1982-04-01    301.17\n",
       "1982-05-01    301.69\n",
       "               ...  \n",
       "2020-12-01    298.68\n",
       "2021-01-01    298.73\n",
       "2021-02-01    298.96\n",
       "2021-03-01    299.90\n",
       "2021-04-01    300.55\n",
       "Name: Nino34, Length: 472, dtype: float64"
      ]
     },
     "execution_count": 60,
     "metadata": {},
     "output_type": "execute_result"
    }
   ],
   "source": [
    "convert_degc_to_kelvin(nino34_series)"
   ]
  },
  {
   "cell_type": "markdown",
   "id": "3748d9c6",
   "metadata": {},
   "source": [
    "If we include `.values`, it returns a `numpy array`"
   ]
  },
  {
   "cell_type": "markdown",
   "id": "31e9019e",
   "metadata": {},
   "source": [
    "<div class=\"admonition alert alert-warning\">\n",
    "    <p class=\"admonition-title\" style=\"font-weight:bold\">Warning</p>\n",
    "    We don't usually recommend converting to NumPy arrays unless you need to - once you convert to NumPy arrays, the helpful label information is lost... so beware! \n",
    "</div>"
   ]
  },
  {
   "cell_type": "code",
   "execution_count": 61,
   "id": "758a4e75",
   "metadata": {},
   "outputs": [
    {
     "data": {
      "text/plain": [
       "array([299.87, 299.85, 300.35, 301.17, 301.69, 301.9 , 301.25, 301.08,\n",
       "       301.26, 301.79, 301.96, 302.36, 302.51, 302.28, 302.18, 302.06,\n",
       "       302.04, 301.39, 300.22, 299.68, 299.59, 299.02, 298.73, 298.74,\n",
       "       298.79, 299.54, 300.01, 300.54, 300.54, 300.01, 299.89, 299.49,\n",
       "       299.58, 299.08, 298.56, 298.15, 298.58, 298.82, 299.38, 299.95,\n",
       "       300.26, 300.01, 299.84, 299.65, 299.4 , 299.34, 299.34, 299.26,\n",
       "       298.94, 299.09, 299.8 , 300.59, 300.65, 300.84, 300.52, 300.3 ,\n",
       "       300.48, 300.72, 300.88, 300.85, 301.06, 301.17, 301.62, 301.95,\n",
       "       301.9 , 302.18, 301.95, 301.73, 301.54, 301.22, 301.14, 300.75,\n",
       "       300.47, 300.37, 300.46, 300.47, 299.63, 299.26, 298.72, 298.39,\n",
       "       298.58, 297.77, 297.42, 297.48, 297.68, 298.48, 299.05, 299.84,\n",
       "       300.24, 300.13, 299.89, 299.48, 299.4 , 299.41, 299.39, 299.53,\n",
       "       299.7 , 300.1 , 300.61, 301.17, 301.21, 300.73, 300.4 , 300.2 ,\n",
       "       299.9 , 300.13, 299.87, 300.06, 300.16, 300.08, 300.4 , 301.13,\n",
       "       301.5 , 301.51, 301.07, 300.59, 300.22, 300.78, 301.01, 301.52,\n",
       "       301.56, 301.78, 301.98, 302.29, 302.14, 301.17, 300.68, 299.79,\n",
       "       299.63, 299.49, 299.66, 299.88, 299.84, 300.12, 300.81, 301.74,\n",
       "       301.97, 301.43, 300.7 , 299.99, 300.07, 300.08, 300.06, 299.91,\n",
       "       299.75, 299.74, 300.42, 301.05, 301.19, 301.14, 300.5 , 300.5 ,\n",
       "       300.15, 300.64, 301.02, 301.02, 300.7 , 300.6 , 300.78, 301.08,\n",
       "       300.88, 300.74, 300.16, 299.48, 299.11, 298.82, 298.81, 298.72,\n",
       "       298.89, 299.  , 299.77, 300.51, 300.52, 300.47, 300.24, 299.71,\n",
       "       299.5 , 299.39, 299.34, 299.17, 299.11, 299.51, 300.18, 301.18,\n",
       "       301.75, 302.09, 302.07, 301.99, 302.08, 302.38, 302.47, 302.41,\n",
       "       302.25, 302.01, 301.82, 301.71, 301.62, 299.87, 299.09, 298.64,\n",
       "       298.76, 298.49, 298.33, 297.94, 298.05, 298.56, 299.4 , 299.99,\n",
       "       300.12, 299.75, 299.5 , 298.74, 298.86, 298.79, 298.27, 298.05,\n",
       "       297.8 , 298.34, 299.23, 300.16, 300.27, 300.18, 299.87, 299.6 ,\n",
       "       299.36, 299.11, 298.93, 298.74, 298.89, 299.26, 299.99, 300.67,\n",
       "       300.75, 300.83, 300.47, 300.02, 299.7 , 299.74, 299.6 , 299.32,\n",
       "       299.65, 300.1 , 300.47, 301.09, 301.3 , 301.58, 301.13, 300.94,\n",
       "       300.98, 301.2 , 301.42, 301.24, 300.91, 300.64, 300.96, 300.96,\n",
       "       300.52, 300.63, 300.58, 300.  , 300.11, 300.34, 300.2 , 300.04,\n",
       "       299.89, 300.01, 300.25, 300.99, 301.21, 300.91, 300.84, 300.69,\n",
       "       300.62, 300.53, 300.46, 300.46, 300.25, 300.11, 300.7 , 301.22,\n",
       "       301.35, 301.2 , 300.62, 300.03, 299.78, 299.9 , 299.49, 299.04,\n",
       "       298.79, 299.23, 299.72, 300.74, 301.06, 301.  , 300.5 , 300.37,\n",
       "       300.49, 300.62, 300.88, 300.91, 300.41, 299.96, 300.33, 300.93,\n",
       "       300.72, 300.7 , 299.94, 299.35, 298.92, 298.37, 298.21, 298.12,\n",
       "       297.86, 297.98, 299.22, 299.98, 300.33, 300.32, 300.34, 300.  ,\n",
       "       299.59, 299.48, 299.45, 298.89, 298.69, 299.19, 299.82, 300.65,\n",
       "       301.18, 301.26, 301.09, 300.68, 300.62, 300.78, 301.34, 301.45,\n",
       "       301.22, 301.09, 301.44, 301.51, 300.83, 300.15, 299.24, 298.65,\n",
       "       298.22, 298.16, 298.22, 298.1 , 298.08, 298.61, 299.38, 300.17,\n",
       "       300.57, 300.61, 300.11, 299.34, 299.13, 298.87, 298.75, 298.68,\n",
       "       298.64, 299.18, 299.78, 300.53, 300.95, 301.1 , 300.9 , 300.7 ,\n",
       "       300.39, 300.13, 300.16, 299.61, 299.31, 299.47, 300.15, 300.83,\n",
       "       300.72, 300.58, 300.06, 299.69, 299.8 , 299.51, 299.8 , 299.68,\n",
       "       299.21, 299.33, 300.14, 301.16, 301.46, 301.26, 300.55, 300.17,\n",
       "       300.32, 300.32, 300.65, 300.5 , 300.25, 300.44, 300.94, 301.71,\n",
       "       302.03, 302.11, 301.97, 302.04, 302.15, 302.3 , 302.75, 302.54,\n",
       "       302.32, 302.27, 302.05, 302.02, 301.3 , 300.68, 299.88, 299.43,\n",
       "       299.26, 299.11, 299.25, 299.31, 299.4 , 300.02, 300.49, 301.25,\n",
       "       301.45, 301.34, 300.76, 299.82, 299.44, 299.38, 298.94, 298.95,\n",
       "       298.97, 298.98, 299.63, 300.57, 300.87, 301.  , 300.67, 300.26,\n",
       "       300.25, 300.7 , 300.79, 300.68, 300.23, 300.56, 301.37, 301.75,\n",
       "       301.72, 301.39, 300.78, 300.12, 299.85, 300.46, 300.41, 300.22,\n",
       "       300.24, 300.29, 300.97, 301.47, 300.74, 300.45, 300.04, 299.33,\n",
       "       298.92, 298.45, 298.49, 298.68, 298.73, 298.96, 299.9 , 300.55])"
      ]
     },
     "execution_count": 61,
     "metadata": {},
     "output_type": "execute_result"
    }
   ],
   "source": [
    "convert_degc_to_kelvin(nino34_series.values)"
   ]
  },
  {
   "cell_type": "markdown",
   "id": "946aa07c",
   "metadata": {},
   "source": [
    "We can now assign our pandas `Series` with the converted temperatures to a new column in our dataframe!"
   ]
  },
  {
   "cell_type": "code",
   "execution_count": 62,
   "id": "cb4bb7c4",
   "metadata": {},
   "outputs": [],
   "source": [
    "df['Nino34_degK'] = convert_degc_to_kelvin(nino34_series)"
   ]
  },
  {
   "cell_type": "code",
   "execution_count": 63,
   "id": "5d23a240",
   "metadata": {},
   "outputs": [
    {
     "data": {
      "text/plain": [
       "datetime\n",
       "1982-01-01    299.87\n",
       "1982-02-01    299.85\n",
       "1982-03-01    300.35\n",
       "1982-04-01    301.17\n",
       "1982-05-01    301.69\n",
       "               ...  \n",
       "2020-12-01    298.68\n",
       "2021-01-01    298.73\n",
       "2021-02-01    298.96\n",
       "2021-03-01    299.90\n",
       "2021-04-01    300.55\n",
       "Name: Nino34_degK, Length: 472, dtype: float64"
      ]
     },
     "execution_count": 63,
     "metadata": {},
     "output_type": "execute_result"
    }
   ],
   "source": [
    "df.Nino34_degK"
   ]
  },
  {
   "cell_type": "markdown",
   "id": "baef91fe",
   "metadata": {},
   "source": [
    "Now that our analysis is done, we can save our data to a `csv` for later - or share with others!"
   ]
  },
  {
   "cell_type": "code",
   "execution_count": 64,
   "id": "8aa56de1",
   "metadata": {},
   "outputs": [],
   "source": [
    "df.to_csv('nino_analyzed_output.csv')"
   ]
  },
  {
   "cell_type": "code",
   "execution_count": 65,
   "id": "3ab0604b",
   "metadata": {},
   "outputs": [
    {
     "data": {
      "text/html": [
       "<div>\n",
       "<style scoped>\n",
       "    .dataframe tbody tr th:only-of-type {\n",
       "        vertical-align: middle;\n",
       "    }\n",
       "\n",
       "    .dataframe tbody tr th {\n",
       "        vertical-align: top;\n",
       "    }\n",
       "\n",
       "    .dataframe thead th {\n",
       "        text-align: right;\n",
       "    }\n",
       "</style>\n",
       "<table border=\"1\" class=\"dataframe\">\n",
       "  <thead>\n",
       "    <tr style=\"text-align: right;\">\n",
       "      <th></th>\n",
       "      <th>Nino12</th>\n",
       "      <th>Nino12anom</th>\n",
       "      <th>Nino3</th>\n",
       "      <th>Nino3anom</th>\n",
       "      <th>Nino4</th>\n",
       "      <th>Nino4anom</th>\n",
       "      <th>Nino34</th>\n",
       "      <th>Nino34anom</th>\n",
       "      <th>month</th>\n",
       "      <th>Nino34_degK</th>\n",
       "    </tr>\n",
       "    <tr>\n",
       "      <th>datetime</th>\n",
       "      <th></th>\n",
       "      <th></th>\n",
       "      <th></th>\n",
       "      <th></th>\n",
       "      <th></th>\n",
       "      <th></th>\n",
       "      <th></th>\n",
       "      <th></th>\n",
       "      <th></th>\n",
       "      <th></th>\n",
       "    </tr>\n",
       "  </thead>\n",
       "  <tbody>\n",
       "    <tr>\n",
       "      <th>1982-01-01</th>\n",
       "      <td>24.29</td>\n",
       "      <td>-0.17</td>\n",
       "      <td>25.87</td>\n",
       "      <td>0.24</td>\n",
       "      <td>28.30</td>\n",
       "      <td>0.00</td>\n",
       "      <td>26.72</td>\n",
       "      <td>0.15</td>\n",
       "      <td>1</td>\n",
       "      <td>299.87</td>\n",
       "    </tr>\n",
       "    <tr>\n",
       "      <th>1982-02-01</th>\n",
       "      <td>25.49</td>\n",
       "      <td>-0.58</td>\n",
       "      <td>26.38</td>\n",
       "      <td>0.01</td>\n",
       "      <td>28.21</td>\n",
       "      <td>0.11</td>\n",
       "      <td>26.70</td>\n",
       "      <td>-0.02</td>\n",
       "      <td>2</td>\n",
       "      <td>299.85</td>\n",
       "    </tr>\n",
       "    <tr>\n",
       "      <th>1982-03-01</th>\n",
       "      <td>25.21</td>\n",
       "      <td>-1.31</td>\n",
       "      <td>26.98</td>\n",
       "      <td>-0.16</td>\n",
       "      <td>28.41</td>\n",
       "      <td>0.22</td>\n",
       "      <td>27.20</td>\n",
       "      <td>-0.02</td>\n",
       "      <td>3</td>\n",
       "      <td>300.35</td>\n",
       "    </tr>\n",
       "    <tr>\n",
       "      <th>1982-04-01</th>\n",
       "      <td>24.50</td>\n",
       "      <td>-0.97</td>\n",
       "      <td>27.68</td>\n",
       "      <td>0.18</td>\n",
       "      <td>28.92</td>\n",
       "      <td>0.42</td>\n",
       "      <td>28.02</td>\n",
       "      <td>0.24</td>\n",
       "      <td>4</td>\n",
       "      <td>301.17</td>\n",
       "    </tr>\n",
       "    <tr>\n",
       "      <th>1982-05-01</th>\n",
       "      <td>23.97</td>\n",
       "      <td>-0.23</td>\n",
       "      <td>27.79</td>\n",
       "      <td>0.71</td>\n",
       "      <td>29.49</td>\n",
       "      <td>0.70</td>\n",
       "      <td>28.54</td>\n",
       "      <td>0.69</td>\n",
       "      <td>5</td>\n",
       "      <td>301.69</td>\n",
       "    </tr>\n",
       "    <tr>\n",
       "      <th>...</th>\n",
       "      <td>...</td>\n",
       "      <td>...</td>\n",
       "      <td>...</td>\n",
       "      <td>...</td>\n",
       "      <td>...</td>\n",
       "      <td>...</td>\n",
       "      <td>...</td>\n",
       "      <td>...</td>\n",
       "      <td>...</td>\n",
       "      <td>...</td>\n",
       "    </tr>\n",
       "    <tr>\n",
       "      <th>2020-12-01</th>\n",
       "      <td>22.16</td>\n",
       "      <td>-0.60</td>\n",
       "      <td>24.38</td>\n",
       "      <td>-0.83</td>\n",
       "      <td>27.65</td>\n",
       "      <td>-0.95</td>\n",
       "      <td>25.53</td>\n",
       "      <td>-1.12</td>\n",
       "      <td>12</td>\n",
       "      <td>298.68</td>\n",
       "    </tr>\n",
       "    <tr>\n",
       "      <th>2021-01-01</th>\n",
       "      <td>23.89</td>\n",
       "      <td>-0.64</td>\n",
       "      <td>25.06</td>\n",
       "      <td>-0.55</td>\n",
       "      <td>27.10</td>\n",
       "      <td>-1.25</td>\n",
       "      <td>25.58</td>\n",
       "      <td>-0.99</td>\n",
       "      <td>1</td>\n",
       "      <td>298.73</td>\n",
       "    </tr>\n",
       "    <tr>\n",
       "      <th>2021-02-01</th>\n",
       "      <td>25.55</td>\n",
       "      <td>-0.66</td>\n",
       "      <td>25.80</td>\n",
       "      <td>-0.57</td>\n",
       "      <td>27.20</td>\n",
       "      <td>-1.00</td>\n",
       "      <td>25.81</td>\n",
       "      <td>-0.92</td>\n",
       "      <td>2</td>\n",
       "      <td>298.96</td>\n",
       "    </tr>\n",
       "    <tr>\n",
       "      <th>2021-03-01</th>\n",
       "      <td>26.48</td>\n",
       "      <td>-0.26</td>\n",
       "      <td>26.80</td>\n",
       "      <td>-0.39</td>\n",
       "      <td>27.79</td>\n",
       "      <td>-0.55</td>\n",
       "      <td>26.75</td>\n",
       "      <td>-0.51</td>\n",
       "      <td>3</td>\n",
       "      <td>299.90</td>\n",
       "    </tr>\n",
       "    <tr>\n",
       "      <th>2021-04-01</th>\n",
       "      <td>24.89</td>\n",
       "      <td>-0.80</td>\n",
       "      <td>26.96</td>\n",
       "      <td>-0.65</td>\n",
       "      <td>28.47</td>\n",
       "      <td>-0.21</td>\n",
       "      <td>27.40</td>\n",
       "      <td>-0.49</td>\n",
       "      <td>4</td>\n",
       "      <td>300.55</td>\n",
       "    </tr>\n",
       "  </tbody>\n",
       "</table>\n",
       "<p>472 rows × 10 columns</p>\n",
       "</div>"
      ],
      "text/plain": [
       "            Nino12  Nino12anom  Nino3  Nino3anom  Nino4  Nino4anom  Nino34  \\\n",
       "datetime                                                                     \n",
       "1982-01-01   24.29       -0.17  25.87       0.24  28.30       0.00   26.72   \n",
       "1982-02-01   25.49       -0.58  26.38       0.01  28.21       0.11   26.70   \n",
       "1982-03-01   25.21       -1.31  26.98      -0.16  28.41       0.22   27.20   \n",
       "1982-04-01   24.50       -0.97  27.68       0.18  28.92       0.42   28.02   \n",
       "1982-05-01   23.97       -0.23  27.79       0.71  29.49       0.70   28.54   \n",
       "...            ...         ...    ...        ...    ...        ...     ...   \n",
       "2020-12-01   22.16       -0.60  24.38      -0.83  27.65      -0.95   25.53   \n",
       "2021-01-01   23.89       -0.64  25.06      -0.55  27.10      -1.25   25.58   \n",
       "2021-02-01   25.55       -0.66  25.80      -0.57  27.20      -1.00   25.81   \n",
       "2021-03-01   26.48       -0.26  26.80      -0.39  27.79      -0.55   26.75   \n",
       "2021-04-01   24.89       -0.80  26.96      -0.65  28.47      -0.21   27.40   \n",
       "\n",
       "            Nino34anom  month  Nino34_degK  \n",
       "datetime                                    \n",
       "1982-01-01        0.15      1       299.87  \n",
       "1982-02-01       -0.02      2       299.85  \n",
       "1982-03-01       -0.02      3       300.35  \n",
       "1982-04-01        0.24      4       301.17  \n",
       "1982-05-01        0.69      5       301.69  \n",
       "...                ...    ...          ...  \n",
       "2020-12-01       -1.12     12       298.68  \n",
       "2021-01-01       -0.99      1       298.73  \n",
       "2021-02-01       -0.92      2       298.96  \n",
       "2021-03-01       -0.51      3       299.90  \n",
       "2021-04-01       -0.49      4       300.55  \n",
       "\n",
       "[472 rows x 10 columns]"
      ]
     },
     "execution_count": 65,
     "metadata": {},
     "output_type": "execute_result"
    }
   ],
   "source": [
    "pd.read_csv('nino_analyzed_output.csv', index_col=0, parse_dates=True)"
   ]
  },
  {
   "cell_type": "markdown",
   "id": "adb3e5c6",
   "metadata": {},
   "source": [
    "## Summary\n",
    "* Pandas is a very powerful tool for working with tabular (i.e. spreadsheet-style) data\n",
    "* There are multiple ways of subsetting your pandas dataframe or series\n",
    "* Pandas allows you to refer to subsets of data by label, which generally makes code more readable and more robust\n",
    "* Pandas can be helpful for exploratory data analysis, including plotting and basic statistics\n",
    "* One can apply calculations to pandas dataframes and save the output via `csv` files\n",
    "\n",
    "\n",
    "## Resources and References\n",
    "1. [NOAA NCDC ENSO Dataset Used in this Example](https://www.ncdc.noaa.gov/teleconnections/enso/indicators/sst/)\n",
    "1. [Software carpentry pandas lesson](https://swcarpentry.github.io/python-novice-gapminder/08-data-frames/index.html)\n",
    "1. [Getting Started with Pandas](https://pandas.pydata.org/docs/getting_started/index.html#getting-started)\n",
    "1. [Pandas User Guide](https://pandas.pydata.org/docs/user_guide/index.html#user-guide)\n",
    "1. [Modern Pandas](https://tomaugspurger.github.io/modern-1-intro)\n",
    "1. [Python dictionaries](https://realpython.com/iterate-through-dictionary-python/)\n",
    "1. [Matplotlib gallery](https://matplotlib.org/stable/gallery/index.html)"
   ]
  }
 ],
 "metadata": {
  "jupytext": {
   "text_representation": {
    "extension": ".md",
    "format_name": "myst",
    "format_version": 0.13,
    "jupytext_version": "1.11.5"
   }
  },
  "kernelspec": {
   "display_name": "Python 3 (ipykernel)",
   "language": "python",
   "name": "python3"
  },
  "language_info": {
   "codemirror_mode": {
    "name": "ipython",
    "version": 3
   },
   "file_extension": ".py",
   "mimetype": "text/x-python",
   "name": "python",
   "nbconvert_exporter": "python",
   "pygments_lexer": "ipython3",
   "version": "3.8.0"
  },
  "source_map": [
   13,
   19,
   32,
   36,
   40,
   46,
   65,
   70,
   75,
   79,
   83,
   87,
   91,
   95,
   99,
   107,
   111,
   115,
   119,
   129,
   133,
   138,
   142,
   152,
   158,
   164,
   168,
   172,
   176,
   180,
   184,
   188,
   195,
   199,
   203,
   207,
   214,
   218,
   222,
   228,
   234,
   240,
   246,
   250,
   256,
   261,
   268,
   272,
   277,
   282,
   286,
   292,
   296,
   300,
   304,
   311,
   315,
   321,
   327,
   333,
   337,
   341,
   348,
   359,
   363,
   370,
   381,
   389,
   401,
   408,
   415,
   421,
   425,
   430,
   434,
   439,
   446,
   452,
   457,
   461,
   465,
   469,
   478,
   490,
   494,
   508,
   523,
   531,
   535,
   539,
   543,
   547,
   551,
   559,
   564,
   568,
   572,
   576,
   580,
   586,
   592,
   596,
   602,
   608,
   616,
   622,
   629,
   633,
   637,
   641,
   645,
   649,
   653,
   657,
   662,
   666,
   672,
   678,
   687,
   691,
   696,
   700,
   704,
   708,
   712,
   716,
   720,
   724,
   728,
   732,
   739,
   743,
   747,
   753,
   757,
   761,
   767,
   771
  ]
 },
 "nbformat": 4,
 "nbformat_minor": 5
}