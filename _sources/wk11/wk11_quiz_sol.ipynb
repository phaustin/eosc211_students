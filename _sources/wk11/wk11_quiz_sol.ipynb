{
 "cells": [
  {
   "cell_type": "markdown",
   "id": "9a7a0ff1",
   "metadata": {},
   "source": [
    "# Week 11 quiz solution: pandas"
   ]
  },
  {
   "cell_type": "code",
   "execution_count": null,
   "id": "cba23484",
   "metadata": {},
   "outputs": [],
   "source": [
    "import pandas as pd"
   ]
  },
  {
   "cell_type": "code",
   "execution_count": null,
   "id": "53c06f7a",
   "metadata": {},
   "outputs": [],
   "source": [
    "filepath = \"enso_data.csv\"\n",
    "df = pd.read_csv(filepath)"
   ]
  },
  {
   "cell_type": "code",
   "execution_count": null,
   "id": "799882c6",
   "metadata": {},
   "outputs": [],
   "source": [
    "df = pd.read_csv(filepath, index_col=0, parse_dates=True)\n",
    "df_enso=df.tail(5)\n",
    "df_enso = df_enso[['Nino12','Nino3','Nino4']]"
   ]
  },
  {
   "cell_type": "markdown",
   "id": "7918efa9",
   "metadata": {},
   "source": [
    "## Given the following DataFrame:"
   ]
  },
  {
   "cell_type": "code",
   "execution_count": null,
   "id": "776bb6fc",
   "metadata": {},
   "outputs": [],
   "source": [
    "df_enso"
   ]
  },
  {
   "cell_type": "markdown",
   "id": "adf5972e",
   "metadata": {},
   "source": [
    "Write down the numerical values that would be printed for each of the following statements:"
   ]
  },
  {
   "cell_type": "code",
   "execution_count": null,
   "id": "43ff3d5d",
   "metadata": {},
   "outputs": [],
   "source": [
    "df_enso.loc['2021-02-01']"
   ]
  },
  {
   "cell_type": "code",
   "execution_count": null,
   "id": "b96243d0",
   "metadata": {},
   "outputs": [],
   "source": [
    "df_enso['Nino3']['2021-03-01']"
   ]
  },
  {
   "cell_type": "code",
   "execution_count": null,
   "id": "2943c5a8",
   "metadata": {},
   "outputs": [],
   "source": [
    "df_enso.columns"
   ]
  },
  {
   "cell_type": "code",
   "execution_count": null,
   "id": "d9803ed1",
   "metadata": {},
   "outputs": [],
   "source": [
    "df_enso.iloc[4,2]"
   ]
  }
 ],
 "metadata": {
  "jupytext": {
   "text_representation": {
    "extension": ".md",
    "format_name": "myst",
    "format_version": 0.13,
    "jupytext_version": "1.11.5"
   }
  },
  "kernelspec": {
   "display_name": "Python 3 (ipykernel)",
   "language": "python",
   "name": "python3"
  },
  "source_map": [
   13,
   17,
   21,
   26,
   30,
   34,
   36,
   40,
   44,
   48,
   52
  ]
 },
 "nbformat": 4,
 "nbformat_minor": 5
}