{
 "cells": [
  {
   "cell_type": "markdown",
   "id": "be7e4864",
   "metadata": {},
   "source": [
    "# Week 11 quiz solution: pandas"
   ]
  },
  {
   "cell_type": "code",
   "execution_count": null,
   "id": "ec31d69c",
   "metadata": {},
   "outputs": [],
   "source": [
    "import pandas as pd"
   ]
  },
  {
   "cell_type": "code",
   "execution_count": null,
   "id": "64627e26",
   "metadata": {},
   "outputs": [],
   "source": [
    "filepath = \"enso_data.csv\"\n",
    "df = pd.read_csv(filepath)"
   ]
  },
  {
   "cell_type": "code",
   "execution_count": null,
   "id": "cb2d4466",
   "metadata": {},
   "outputs": [],
   "source": [
    "df = pd.read_csv(filepath, index_col=0, parse_dates=True)\n",
    "df_enso=df.tail(5)\n",
    "df_enso = df_enso[['Nino12','Nino3','Nino4']]"
   ]
  },
  {
   "cell_type": "markdown",
   "id": "a69b4b5e",
   "metadata": {},
   "source": [
    "## Given the following DataFrame:"
   ]
  },
  {
   "cell_type": "code",
   "execution_count": null,
   "id": "6e5a9ddf",
   "metadata": {},
   "outputs": [],
   "source": [
    "df_enso"
   ]
  },
  {
   "cell_type": "markdown",
   "id": "d4bf9f9f",
   "metadata": {},
   "source": [
    "Write down the numerical values that would be printed for each of the following statements:"
   ]
  },
  {
   "cell_type": "code",
   "execution_count": null,
   "id": "9d09317a",
   "metadata": {},
   "outputs": [],
   "source": [
    "df_enso.loc['2021-02-01']"
   ]
  },
  {
   "cell_type": "code",
   "execution_count": null,
   "id": "ac703325",
   "metadata": {},
   "outputs": [],
   "source": [
    "df_enso['Nino3']['2021-03-01']"
   ]
  },
  {
   "cell_type": "code",
   "execution_count": null,
   "id": "6f4c32dd",
   "metadata": {},
   "outputs": [],
   "source": [
    "df_enso.columns"
   ]
  },
  {
   "cell_type": "code",
   "execution_count": null,
   "id": "59c46828",
   "metadata": {},
   "outputs": [],
   "source": [
    "df_enso.iloc[4,2]"
   ]
  }
 ],
 "metadata": {
  "jupytext": {
   "text_representation": {
    "extension": ".md",
    "format_name": "myst",
    "format_version": 0.13,
    "jupytext_version": "1.11.5"
   }
  },
  "kernelspec": {
   "display_name": "Python 3 (ipykernel)",
   "language": "python",
   "name": "python3"
  },
  "source_map": [
   13,
   17,
   21,
   26,
   30,
   34,
   36,
   40,
   44,
   48,
   52
  ]
 },
 "nbformat": 4,
 "nbformat_minor": 5
}