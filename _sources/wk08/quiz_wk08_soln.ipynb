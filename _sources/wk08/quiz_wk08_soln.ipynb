{
 "cells": [
  {
   "cell_type": "markdown",
   "id": "c17599ca",
   "metadata": {},
   "source": [
    "# Week 08 Quiz: Functions basics -solution\n",
    "\n",
    "## The following code calls a function \"poly3\" for which the code is given:"
   ]
  },
  {
   "cell_type": "code",
   "execution_count": null,
   "id": "b83f0b24",
   "metadata": {},
   "outputs": [],
   "source": [
    "import numpy as np  # not needed in example below\n",
    "\n",
    "def poly3(x):\n",
    "    \"\"\" POLY3: Evaluates the cubic polynomial y = a0 + a1*x+a2*x**2+a3*x**3\n",
    "    using Horner's method, where a0=1, a1=-1, a2=2, a3=1.\n",
    "    \"\"\"\n",
    "    \n",
    "    a0 = 1\n",
    "    a1 = -1\n",
    "    a2 = 2\n",
    "    a3 = 1\n",
    "    \n",
    "    y = a0 + x*(a1 + x*(a2+x*a3))\n",
    "    \n",
    "    return y\n",
    "\n",
    "myx = -2\n",
    "new = poly3(myx)"
   ]
  },
  {
   "cell_type": "markdown",
   "id": "42f4ed08",
   "metadata": {},
   "source": [
    "1.  Identify the following elements of the code:\n",
    "\n",
    "   Function name:  poly3\n",
    "<br />\n",
    "<br />\n",
    "\n",
    "   Input argument(s): x\n",
    "<br />\n",
    "<br />\n",
    "\n",
    "   Output argument(s): y\n",
    "<br />\n",
    "<br />\n",
    "\n",
    "2.  After running the code what variables are in the workspace and what are the values of these variables?\n",
    "\n",
    "<br />\n",
    "<br />\n",
    "myx = -2\n",
    "\n",
    "new = 3\n",
    "<br />\n",
    "<br />\n",
    "<br />"
   ]
  }
 ],
 "metadata": {
  "jupytext": {
   "cell_metadata_filter": "-all",
   "formats": "md:myst,ipynb",
   "text_representation": {
    "extension": ".md",
    "format_name": "myst",
    "format_version": 0.13,
    "jupytext_version": "1.11.5"
   }
  },
  "kernelspec": {
   "display_name": "Python 3 (ipykernel)",
   "language": "python",
   "name": "python3"
  },
  "source_map": [
   14,
   21,
   40
  ]
 },
 "nbformat": 4,
 "nbformat_minor": 5
}