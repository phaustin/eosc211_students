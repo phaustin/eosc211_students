{
 "cells": [
  {
   "cell_type": "markdown",
   "id": "b386fd8f",
   "metadata": {},
   "source": [
    "# Lab Week 8"
   ]
  },
  {
   "cell_type": "markdown",
   "id": "4380bfeb",
   "metadata": {},
   "source": [
    "**Objectives:** This week's lab is about writing code that is reuseable, efficient and well-organized. How do we do this? Functions! The objective here is to take code from week 6 and re-package it in a better, more pythonic style. We will then test the code with a couple of datasets for the lab to make sure it can handle a range of input types and user-specified parameters, while still getting the right answer.\n",
    "\n",
    "As an example of how we can reuse code, you will use what you write for this lab as a core function for assignment 1.\n",
    "\n",
    "Datasets for this lab can be downloaded by clicking on the file names at:  https://github.com/phaustin/eosc211_students/tree/e211_live_main/wk08"
   ]
  },
  {
   "cell_type": "markdown",
   "id": "6b8ba92d",
   "metadata": {},
   "source": [
    "### As always, first import the packages you'll need"
   ]
  },
  {
   "cell_type": "code",
   "execution_count": 1,
   "id": "7afe0987",
   "metadata": {},
   "outputs": [],
   "source": [
    "from e211_lib import e211\n",
    "import numpy as np\n",
    "from datetime import datetime\n",
    "import matplotlib.pyplot as plt"
   ]
  },
  {
   "cell_type": "code",
   "execution_count": 2,
   "id": "0d19a461",
   "metadata": {
    "deletable": false,
    "nbgrader": {
     "cell_type": "code",
     "checksum": "c95b19f7f7b1ef3f8fdac3e12e7a209f",
     "grade": false,
     "grade_id": "cell-0f1bebfd15ae4946",
     "locked": false,
     "schema_version": 3,
     "solution": true,
     "task": false
    }
   },
   "outputs": [
    {
     "ename": "NotImplementedError",
     "evalue": "",
     "output_type": "error",
     "traceback": [
      "\u001b[0;31m---------------------------------------------------------------------------\u001b[0m",
      "\u001b[0;31mNotImplementedError\u001b[0m                       Traceback (most recent call last)",
      "\u001b[0;32m/var/folders/_k/0f_hlw7x2hq4vtcq0h8bvsm40000gr/T/ipykernel_60990/525937701.py\u001b[0m in \u001b[0;36m<module>\u001b[0;34m\u001b[0m\n\u001b[1;32m      7\u001b[0m \u001b[0;34m\u001b[0m\u001b[0m\n\u001b[1;32m      8\u001b[0m \u001b[0;31m# YOUR CODE HERE\u001b[0m\u001b[0;34m\u001b[0m\u001b[0;34m\u001b[0m\u001b[0;34m\u001b[0m\u001b[0m\n\u001b[0;32m----> 9\u001b[0;31m \u001b[0;32mraise\u001b[0m \u001b[0mNotImplementedError\u001b[0m\u001b[0;34m(\u001b[0m\u001b[0;34m)\u001b[0m\u001b[0;34m\u001b[0m\u001b[0;34m\u001b[0m\u001b[0m\n\u001b[0m",
      "\u001b[0;31mNotImplementedError\u001b[0m: "
     ]
    }
   ],
   "source": [
    "# your posix_to_datetime function will go here (see below for details)\n",
    "\n",
    "#\n",
    "#  Remember to comment out the NotImplementedError exception from all the cells you need\n",
    "#  to fill in.  Check to make sure your notebook runs cleanly before you upload to canvas\n",
    "#\n",
    "\n",
    "# YOUR CODE HERE\n",
    "raise NotImplementedError()"
   ]
  },
  {
   "cell_type": "code",
   "execution_count": 3,
   "id": "75f930cc",
   "metadata": {
    "deletable": false,
    "nbgrader": {
     "cell_type": "code",
     "checksum": "93758c2ece8733d895ce25dd90048543",
     "grade": false,
     "grade_id": "cell-0240c3fb29bf120a",
     "locked": false,
     "schema_version": 3,
     "solution": true,
     "task": false
    }
   },
   "outputs": [
    {
     "ename": "NotImplementedError",
     "evalue": "",
     "output_type": "error",
     "traceback": [
      "\u001b[0;31m---------------------------------------------------------------------------\u001b[0m",
      "\u001b[0;31mNotImplementedError\u001b[0m                       Traceback (most recent call last)",
      "\u001b[0;32m/var/folders/_k/0f_hlw7x2hq4vtcq0h8bvsm40000gr/T/ipykernel_60990/4292524671.py\u001b[0m in \u001b[0;36m<module>\u001b[0;34m\u001b[0m\n\u001b[1;32m      6\u001b[0m \u001b[0;34m\u001b[0m\u001b[0m\n\u001b[1;32m      7\u001b[0m \u001b[0;31m# YOUR CODE HERE\u001b[0m\u001b[0;34m\u001b[0m\u001b[0;34m\u001b[0m\u001b[0;34m\u001b[0m\u001b[0m\n\u001b[0;32m----> 8\u001b[0;31m \u001b[0;32mraise\u001b[0m \u001b[0mNotImplementedError\u001b[0m\u001b[0;34m(\u001b[0m\u001b[0;34m)\u001b[0m\u001b[0;34m\u001b[0m\u001b[0;34m\u001b[0m\u001b[0m\n\u001b[0m",
      "\u001b[0;31mNotImplementedError\u001b[0m: "
     ]
    }
   ],
   "source": [
    "# IN THIS CELL DEFINE TWO FUNCTIONS WITH THE FOLLOWING NAMES AND SIGNATURES\n",
    "\n",
    "# check_inputs(winlen) return winlen\n",
    "\n",
    "# running_mean(data, winlen) return running mean\n",
    "\n",
    "# YOUR CODE HERE\n",
    "raise NotImplementedError()"
   ]
  },
  {
   "cell_type": "code",
   "execution_count": 4,
   "id": "7a018155",
   "metadata": {
    "deletable": false,
    "nbgrader": {
     "cell_type": "code",
     "checksum": "bc1fab99efa9e416f21cf21f7dfb4478",
     "grade": false,
     "grade_id": "cell-5f6db024bb9d6991",
     "locked": false,
     "schema_version": 3,
     "solution": true,
     "task": false
    }
   },
   "outputs": [
    {
     "ename": "NotImplementedError",
     "evalue": "",
     "output_type": "error",
     "traceback": [
      "\u001b[0;31m---------------------------------------------------------------------------\u001b[0m",
      "\u001b[0;31mNotImplementedError\u001b[0m                       Traceback (most recent call last)",
      "\u001b[0;32m/var/folders/_k/0f_hlw7x2hq4vtcq0h8bvsm40000gr/T/ipykernel_60990/3429531933.py\u001b[0m in \u001b[0;36m<module>\u001b[0;34m\u001b[0m\n\u001b[1;32m      3\u001b[0m \u001b[0;31m# running_median(data, winlen=7)\u001b[0m\u001b[0;34m\u001b[0m\u001b[0;34m\u001b[0m\u001b[0;34m\u001b[0m\u001b[0m\n\u001b[1;32m      4\u001b[0m \u001b[0;31m# YOUR CODE HERE\u001b[0m\u001b[0;34m\u001b[0m\u001b[0;34m\u001b[0m\u001b[0;34m\u001b[0m\u001b[0m\n\u001b[0;32m----> 5\u001b[0;31m \u001b[0;32mraise\u001b[0m \u001b[0mNotImplementedError\u001b[0m\u001b[0;34m(\u001b[0m\u001b[0;34m)\u001b[0m\u001b[0;34m\u001b[0m\u001b[0;34m\u001b[0m\u001b[0m\n\u001b[0m",
      "\u001b[0;31mNotImplementedError\u001b[0m: "
     ]
    }
   ],
   "source": [
    "# IN THIS CELL DEFINE YOUR RUNNING MEDIAN FUNCTION WITH THIS NAME AND SIGNATURE\n",
    "#\n",
    "# running_median(data, winlen=7)\n",
    "# YOUR CODE HERE\n",
    "raise NotImplementedError()"
   ]
  },
  {
   "cell_type": "markdown",
   "id": "6c794677",
   "metadata": {},
   "source": [
    "### Now get some data sets.  \n",
    "Remind yourself of np.load and what `.npz` files contain from the week 6 lab. Also review the week 6 lab to remind yourself about datetime objects are and how to import dates/times into a numpy array of datetime objects."
   ]
  },
  {
   "cell_type": "code",
   "execution_count": 5,
   "id": "7948fd1d",
   "metadata": {},
   "outputs": [],
   "source": [
    "# get the aircraft data again -- copy from week 6 solution\n",
    "aircraft_gps = np.load(\"aircraft_gps.npz\")\n",
    "vel = aircraft_gps[\"vel\"]\n",
    "time = aircraft_gps[\"time\"]\n",
    "\n",
    "# very similar for a file with temperatures from Sand Heads, BC\n",
    "sand_heads = np.load(\"sand_heads_temps.npz\")\n",
    "temp = sand_heads[\"temp\"]\n",
    "sand_time = sand_heads[\"time\"]"
   ]
  },
  {
   "cell_type": "markdown",
   "id": "990c5a3a",
   "metadata": {},
   "source": [
    "### Setting up your first function\n",
    "First define a function called `posix_to_datetime` that takes as input an array of POSIX times and returns a variable `dt` that is a numpy array of datetime objects.  To help you get started the function declaration line and the return statement are provided.  Complete the rest of the fucntion code, making sure to include the docstring.  The structure of your function will look something like this:  \n",
    "\n",
    "```\n",
    "def posix_to_datetime(time_array):\n",
    "    \"\"\"\n",
    "    <docstring>\n",
    "    \"\"\"\n",
    "    \n",
    "    <function body code>\n",
    "    \n",
    "    return dt\n",
    "```\n",
    "Remember that any functions in your code need to be defined *before* they are used.  So they go at the top of your file, after importing the packages."
   ]
  },
  {
   "cell_type": "markdown",
   "id": "f7617b30",
   "metadata": {},
   "source": [
    "### Testing your function\n",
    "You can save yourself a lot of time by testing pieces of your code as you go along.  Test your `posix_to_datetime` function by loading the data sets, calling it and making test plots of each of the two data sets.  e.g., my test plot was made after calling posix_to_datetime, assigning the output to a variable called `fly_time` and making a plot with these code lines.\n",
    "```\n",
    "# quick and dirty plot to check everything is working ok\n",
    "plt.plot(fly_time, vel)\n",
    "plt.xlabel('time [units]')  # reminding myself to always include units\n",
    "plt.xticks(rotation=70)     # rotate dates by 70 degrees so they don't overlap\n",
    "plt.ylabel('vel [units]');  #add semicolon to suppress output\n",
    "```"
   ]
  },
  {
   "cell_type": "markdown",
   "id": "3ad0b74d",
   "metadata": {},
   "source": [
    "### Running mean and running median functions\n",
    "Now take your running mean code from the week6 lab and turn it into a function called `running_mean`.  If your week6 lab code did not work, you can use the solution posted on the course web page under week 6. `running_mean` should take as INPUT arguments `data` (the numpy array of data on which the running mean is to be performed) and `winlen` (the number of points in the running mean window) **in that order**. It should return a variable `z` that contains the running mean values.\n",
    "\n",
    "Likewise take your running median code from the week6 lab and turn it into a function called `running_median` that takes as INPUT arguments `data` and `winlen` (again, in that order) and returns a variable `zm` that contains the running median values.\n",
    "\n",
    "Again, test your functions by\n",
    "1. calling them \n",
    "2. plotting the raw data and the running mean/median to check it all looks reasonable"
   ]
  },
  {
   "cell_type": "markdown",
   "id": "55747824",
   "metadata": {},
   "source": [
    "### Adding input parameter check\n",
    "Now write code that will check that the window length is an odd number, and if it is not add 1 to the length and print a message to the screen informing the user the value of the window length that was passed in, the fact that it was even and the value that it has been corrected to.  Put this code in a function called `check_inputs` that takes as input `winlen`.  It must also return `winlen` either unmodified if it is odd, or modified if it is even.\n",
    "\n",
    "Both the running mean and running median functions should call the `check_inputs` function. \n",
    "You can call functions from other functions, you just need to (a) keep track of which variables are passed where, and (b) scope (discussed in class).\n",
    "\n",
    "Make sure to rerun your code that calls the running mean and running median to check (a) you didn't break anything, and (b) that `check_inputs` works."
   ]
  },
  {
   "cell_type": "markdown",
   "id": "32522a31",
   "metadata": {},
   "source": [
    "### What to turn in\n",
    "\n",
    "1) define your posix_to_datetime in cell 2 (remove the exceptions in all fill-in cells)\n",
    "\n",
    "2) define your check_inputs and running_mean functions in cell 3\n",
    "\n",
    "3) define  your running_median function in cell 4 \n",
    "\n",
    "Make sure your running_median function works when you test it by executing\n",
    "code roughly similar to the cell below\n",
    "for either the `aircraft` data set or the `temperature` dataset.  We will run\n",
    "code similar to this, with a variety of window sizes and data sets."
   ]
  },
  {
   "cell_type": "markdown",
   "id": "3e986bb6",
   "metadata": {},
   "source": [
    "```\n",
    "def main(data,tt):\n",
    "    time=posix_to_datetime(tt)\n",
    "    windows = choose some windows\n",
    "    check various window sizes:\n",
    "        filtered_data = running_median ...\n",
    "        #\n",
    "        # overlay the filtered data on the raw data\n",
    "        #\n",
    "        plt.plot(time,data,time,filtered_data)\n",
    "        plt.xlabel('time')\n",
    "        plt.xticks(rotation=70)\n",
    "        plt.ylabel('y values')\n",
    "        plt.show()\n",
    "        \n",
    "main(vel,time)\n",
    "```"
   ]
  },
  {
   "cell_type": "markdown",
   "id": "733dc334",
   "metadata": {},
   "source": [
    "## A quick sanity check\n",
    "\n",
    "This code shows the raw data"
   ]
  },
  {
   "cell_type": "code",
   "execution_count": 6,
   "id": "a16bba8e",
   "metadata": {},
   "outputs": [
    {
     "ename": "NameError",
     "evalue": "name 'posix_to_datetime' is not defined",
     "output_type": "error",
     "traceback": [
      "\u001b[0;31m---------------------------------------------------------------------------\u001b[0m",
      "\u001b[0;31mNameError\u001b[0m                                 Traceback (most recent call last)",
      "\u001b[0;32m/var/folders/_k/0f_hlw7x2hq4vtcq0h8bvsm40000gr/T/ipykernel_60990/4147357963.py\u001b[0m in \u001b[0;36m<module>\u001b[0;34m\u001b[0m\n\u001b[1;32m      1\u001b[0m \u001b[0;31m# Sands Heads data\u001b[0m\u001b[0;34m\u001b[0m\u001b[0;34m\u001b[0m\u001b[0;34m\u001b[0m\u001b[0m\n\u001b[0;32m----> 2\u001b[0;31m \u001b[0mtemp_time\u001b[0m \u001b[0;34m=\u001b[0m \u001b[0mposix_to_datetime\u001b[0m\u001b[0;34m(\u001b[0m\u001b[0msand_time\u001b[0m\u001b[0;34m)\u001b[0m\u001b[0;34m\u001b[0m\u001b[0;34m\u001b[0m\u001b[0m\n\u001b[0m\u001b[1;32m      3\u001b[0m \u001b[0;34m\u001b[0m\u001b[0m\n\u001b[1;32m      4\u001b[0m \u001b[0;31m# quick and dirty plot to check everything is working ok\u001b[0m\u001b[0;34m\u001b[0m\u001b[0;34m\u001b[0m\u001b[0;34m\u001b[0m\u001b[0m\n\u001b[1;32m      5\u001b[0m \u001b[0mplt\u001b[0m\u001b[0;34m.\u001b[0m\u001b[0mplot\u001b[0m\u001b[0;34m(\u001b[0m\u001b[0mtemp_time\u001b[0m\u001b[0;34m,\u001b[0m \u001b[0mtemp\u001b[0m\u001b[0;34m)\u001b[0m\u001b[0;34m\u001b[0m\u001b[0;34m\u001b[0m\u001b[0m\n",
      "\u001b[0;31mNameError\u001b[0m: name 'posix_to_datetime' is not defined"
     ]
    }
   ],
   "source": [
    "# Sands Heads data\n",
    "temp_time = posix_to_datetime(sand_time)\n",
    "\n",
    "# quick and dirty plot to check everything is working ok\n",
    "plt.plot(temp_time, temp)\n",
    "plt.xlabel('time [units]')\n",
    "plt.xticks(rotation=70)\n",
    "plt.grid(True)\n",
    "plt.ylabel('temperature [units]');   # I added semi-colon to suppress text output"
   ]
  },
  {
   "cell_type": "markdown",
   "id": "ffe76a15",
   "metadata": {},
   "source": [
    "The cell below tests window length 32 for the velocity data and \n",
    "compares the result at index = 231 with the answer we got with our\n",
    "own running_median filter"
   ]
  },
  {
   "cell_type": "code",
   "execution_count": 7,
   "id": "f3eb70b6",
   "metadata": {},
   "outputs": [
    {
     "ename": "NameError",
     "evalue": "name 'running_median' is not defined",
     "output_type": "error",
     "traceback": [
      "\u001b[0;31m---------------------------------------------------------------------------\u001b[0m",
      "\u001b[0;31mNameError\u001b[0m                                 Traceback (most recent call last)",
      "\u001b[0;32m/var/folders/_k/0f_hlw7x2hq4vtcq0h8bvsm40000gr/T/ipykernel_60990/196865547.py\u001b[0m in \u001b[0;36m<module>\u001b[0;34m\u001b[0m\n\u001b[1;32m      1\u001b[0m \u001b[0;32mimport\u001b[0m \u001b[0mnumpy\u001b[0m\u001b[0;34m.\u001b[0m\u001b[0mtesting\u001b[0m \u001b[0;32mas\u001b[0m \u001b[0mnt\u001b[0m\u001b[0;34m\u001b[0m\u001b[0;34m\u001b[0m\u001b[0m\n\u001b[1;32m      2\u001b[0m \u001b[0mwindow\u001b[0m\u001b[0;34m=\u001b[0m\u001b[0;36m32\u001b[0m\u001b[0;34m\u001b[0m\u001b[0;34m\u001b[0m\u001b[0m\n\u001b[0;32m----> 3\u001b[0;31m \u001b[0mvel_median_filtered\u001b[0m \u001b[0;34m=\u001b[0m \u001b[0mrunning_median\u001b[0m\u001b[0;34m(\u001b[0m\u001b[0mvel\u001b[0m\u001b[0;34m,\u001b[0m \u001b[0mwindow\u001b[0m\u001b[0;34m)\u001b[0m\u001b[0;34m\u001b[0m\u001b[0;34m\u001b[0m\u001b[0m\n\u001b[0m\u001b[1;32m      4\u001b[0m \u001b[0mtestval\u001b[0m \u001b[0;34m=\u001b[0m \u001b[0mvel_median_filtered\u001b[0m\u001b[0;34m[\u001b[0m\u001b[0;36m231\u001b[0m\u001b[0;34m]\u001b[0m\u001b[0;34m\u001b[0m\u001b[0;34m\u001b[0m\u001b[0m\n\u001b[1;32m      5\u001b[0m \u001b[0mnt\u001b[0m\u001b[0;34m.\u001b[0m\u001b[0massert_allclose\u001b[0m\u001b[0;34m(\u001b[0m\u001b[0mtestval\u001b[0m\u001b[0;34m,\u001b[0m\u001b[0;36m1.95\u001b[0m\u001b[0;34m,\u001b[0m\u001b[0mrtol\u001b[0m\u001b[0;34m=\u001b[0m\u001b[0;36m1.e-2\u001b[0m\u001b[0;34m)\u001b[0m\u001b[0;34m\u001b[0m\u001b[0;34m\u001b[0m\u001b[0m\n",
      "\u001b[0;31mNameError\u001b[0m: name 'running_median' is not defined"
     ]
    }
   ],
   "source": [
    "import numpy.testing as nt\n",
    "window=32\n",
    "vel_median_filtered = running_median(vel, window)\n",
    "testval = vel_median_filtered[231]\n",
    "nt.assert_allclose(testval,1.95,rtol=1.e-2)"
   ]
  },
  {
   "cell_type": "code",
   "execution_count": 8,
   "id": "c0d4c8a6",
   "metadata": {
    "deletable": false,
    "nbgrader": {
     "cell_type": "code",
     "checksum": "c6c8cae1ae106ee735375b3f9d497291",
     "grade": true,
     "grade_id": "cell-70b0c8801298e72c",
     "locked": false,
     "points": 4,
     "schema_version": 3,
     "solution": true,
     "task": false
    }
   },
   "outputs": [
    {
     "ename": "NotImplementedError",
     "evalue": "",
     "output_type": "error",
     "traceback": [
      "\u001b[0;31m---------------------------------------------------------------------------\u001b[0m",
      "\u001b[0;31mNotImplementedError\u001b[0m                       Traceback (most recent call last)",
      "\u001b[0;32m/var/folders/_k/0f_hlw7x2hq4vtcq0h8bvsm40000gr/T/ipykernel_60990/3775223129.py\u001b[0m in \u001b[0;36m<module>\u001b[0;34m\u001b[0m\n\u001b[1;32m      4\u001b[0m \u001b[0;34m\u001b[0m\u001b[0m\n\u001b[1;32m      5\u001b[0m \u001b[0;31m# YOUR CODE HERE\u001b[0m\u001b[0;34m\u001b[0m\u001b[0;34m\u001b[0m\u001b[0;34m\u001b[0m\u001b[0m\n\u001b[0;32m----> 6\u001b[0;31m \u001b[0;32mraise\u001b[0m \u001b[0mNotImplementedError\u001b[0m\u001b[0;34m(\u001b[0m\u001b[0;34m)\u001b[0m\u001b[0;34m\u001b[0m\u001b[0;34m\u001b[0m\u001b[0m\n\u001b[0m",
      "\u001b[0;31mNotImplementedError\u001b[0m: "
     ]
    }
   ],
   "source": [
    "# You don't need to enter anything here  -- we have hidden the\n",
    "# code we will use to check your functions in this cell\n",
    "# Just comment out the exception so your notebook will run\n",
    "\n",
    "# YOUR CODE HERE\n",
    "raise NotImplementedError()"
   ]
  }
 ],
 "metadata": {
  "jupytext": {
   "text_representation": {
    "extension": ".md",
    "format_name": "myst",
    "format_version": 0.13,
    "jupytext_version": "1.11.5"
   }
  },
  "kernelspec": {
   "display_name": "Python 3 (ipykernel)",
   "language": "python",
   "name": "python3"
  },
  "language_info": {
   "codemirror_mode": {
    "name": "ipython",
    "version": 3
   },
   "file_extension": ".py",
   "mimetype": "text/x-python",
   "name": "python",
   "nbconvert_exporter": "python",
   "pygments_lexer": "ipython3",
   "version": "3.8.12"
  },
  "source_map": [
   12,
   16,
   24,
   28,
   35,
   59,
   82,
   100,
   105,
   115,
   132,
   144,
   155,
   165,
   180,
   200,
   206,
   216,
   222,
   230
  ]
 },
 "nbformat": 4,
 "nbformat_minor": 5
}