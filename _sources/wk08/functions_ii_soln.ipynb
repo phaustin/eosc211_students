{
 "cells": [
  {
   "cell_type": "markdown",
   "id": "e0439a2b",
   "metadata": {},
   "source": [
    "# Functions II -- solutions\n",
    "\n",
    "## EOSC 211\n",
    "\n",
    "**Week 8 Day 2**\n",
    "\n",
    "**Learning Objectives:**  \n",
    "1. Implement functions in your code\n",
    "2. Understand the difference between a *fruitful* function (one that returns a variable) and void functions (one that performs an action but does not return anything"
   ]
  },
  {
   "cell_type": "markdown",
   "id": "241d32f5",
   "metadata": {},
   "source": [
    "## Question 1\n",
    "\n",
    "**We have two input arrays, `x` which is distance and `tpro` which is elevation in kilometers (say, along a survey line). Both have shape (100,). Use a *loop* and an *if statement* to write out a new variable `tlow` that contains only the values in `tpro` when the elevation is less than -1.8km.**"
   ]
  },
  {
   "cell_type": "code",
   "execution_count": 1,
   "id": "5738b93c",
   "metadata": {},
   "outputs": [],
   "source": [
    "import numpy as np\n",
    "\n",
    "x = np.linspace(0, 1000, 100)  # km along the survey line\n",
    "tpro = -1.5 + 0.5 * np.sin(x) # pretend topo\n",
    "\n",
    "# your code here"
   ]
  },
  {
   "cell_type": "code",
   "execution_count": 2,
   "id": "b0303598",
   "metadata": {},
   "outputs": [
    {
     "name": "stdout",
     "output_type": "stream",
     "text": [
      "[-1.5        -1.81292939 -1.01186996 -1.94849139 -1.28854053 -1.38135848\n",
      " -1.89652514 -1.00011274 -1.8832354  -1.40208879 -1.26949364 -1.95747182\n",
      " -1.01690852 -1.79608944 -1.52122962 -1.17079506 -1.99228822 -1.06129795\n",
      " -1.69203118 -1.63915784 -1.09090029 -1.99898567 -1.13074554 -1.57700432\n",
      " -1.74913752 -1.03437285 -1.97718161 -1.22128454 -1.45757905 -1.84488674\n",
      " -1.0044415  -1.92812148 -1.32774345 -1.34057683 -1.92093642 -1.0028159\n",
      " -1.85460753 -1.44404146 -1.23268067 -1.97294268 -1.0295889  -1.76083879\n",
      " -1.56353576 -1.1400535  -1.99793499 -1.08323125 -1.65217124 -1.67940097\n",
      " -1.06798607 -1.99448581 -1.16067897 -1.53481183 -1.785019   -1.02059478\n",
      " -1.96279215 -1.25750832 -1.41546401 -1.87435706 -1.00058659 -1.90466433\n",
      " -1.36818853 -1.3009448  -1.94231227 -1.00910433 -1.82342253 -1.48639766\n",
      " -1.19779539 -1.98500309 -1.04566148 -1.7237072  -1.60538374 -1.11190757\n",
      " -1.99999108 -1.10816994 -1.61121396 -1.71835042 -1.04818715 -1.98642015\n",
      " -1.19305929 -1.49236831 -1.81884517 -1.01027378 -1.94506543 -1.29548075\n",
      " -1.37395857 -1.90112784 -1.00033302 -1.87828908 -1.40958413 -1.26274818\n",
      " -1.96049853 -1.01893268 -1.78990528 -1.52885195 -1.16508934 -1.99356607\n",
      " -1.06501037 -1.68496242 -1.64647178 -1.08656023]\n"
     ]
    }
   ],
   "source": [
    "# andrew's soln\n",
    "tlow = np.array([])\n",
    "for i in tpro:\n",
    "    if i < 0.5:\n",
    "        tlow = np.append(tlow,i)\n",
    "\n",
    "print(tlow)"
   ]
  },
  {
   "cell_type": "code",
   "execution_count": 3,
   "id": "52dc0c81",
   "metadata": {},
   "outputs": [
    {
     "name": "stdout",
     "output_type": "stream",
     "text": [
      "[-1.81292939 -1.94849139 -1.89652514 -1.8832354  -1.95747182 -1.99228822\n",
      " -1.99898567 -1.97718161 -1.84488674 -1.92812148 -1.92093642 -1.85460753\n",
      " -1.97294268 -1.99793499 -1.99448581 -1.96279215 -1.87435706 -1.90466433\n",
      " -1.94231227 -1.82342253 -1.98500309 -1.99999108 -1.98642015 -1.81884517\n",
      " -1.94506543 -1.90112784 -1.87828908 -1.96049853 -1.99356607]\n"
     ]
    }
   ],
   "source": [
    "# catherine's solution   \n",
    "# same as Andrew's but i used \"t\" not \"i\" to remind myself i am looping over the values in tpro not their indices\n",
    "\n",
    "import numpy as np\n",
    "\n",
    "x = np.linspace(0, 1000, 100)  # km along the survey line\n",
    "tpro = -1.5 + 0.5 * np.sin(x) # pretend topo\n",
    "\n",
    "tlow=np.array([])   # Defining tlow as numpy array for consistency with type(x), type(tpro).  \n",
    "for t in tpro:\n",
    "    if (t<-1.8):\n",
    "        tlow=np.append(tlow,t)\n",
    "print(tlow)"
   ]
  },
  {
   "cell_type": "markdown",
   "id": "c1337357",
   "metadata": {},
   "source": [
    "## Question 2\n",
    "\n",
    "**Turn the code snippet above into a function that returns an array `tlow` that is exactly the same as Q1, but that takes as input (1) `in_data` and (2) a variable called `cutoff` that contains an arbitrary cut-off for the elevation  (ie, I might want to select elevations below -2km or -1.8 km or -1.5km, so make this a variable).**\n",
    "\n",
    "**Finally, call your function with tpro as the input data and a cutoff of -1.8 km**"
   ]
  },
  {
   "cell_type": "code",
   "execution_count": 4,
   "id": "ff12bf55",
   "metadata": {},
   "outputs": [],
   "source": [
    "# your code here"
   ]
  },
  {
   "cell_type": "code",
   "execution_count": 5,
   "id": "580c7224",
   "metadata": {},
   "outputs": [
    {
     "data": {
      "text/plain": [
       "array([-1.81292939, -1.94849139, -1.89652514, -1.8832354 , -1.95747182,\n",
       "       -1.99228822, -1.99898567, -1.97718161, -1.84488674, -1.92812148,\n",
       "       -1.92093642, -1.85460753, -1.97294268, -1.99793499, -1.99448581,\n",
       "       -1.96279215, -1.87435706, -1.90466433, -1.94231227, -1.82342253,\n",
       "       -1.98500309, -1.99999108, -1.98642015, -1.81884517, -1.94506543,\n",
       "       -1.90112784, -1.87828908, -1.96049853, -1.99356607])"
      ]
     },
     "execution_count": 5,
     "metadata": {},
     "output_type": "execute_result"
    }
   ],
   "source": [
    "# catherine's soln\n",
    "def select_elev(in_data, cutoff):\n",
    "    \"\"\"\n",
    "    selects elements of a 1D np array in_data which are below the value cutoff.\n",
    "    returns elements of in_data which are below cutoff\n",
    "    \"\"\"\n",
    "    tlow = np.array([])\n",
    "    for t in tpro:\n",
    "        if t < cutoff:\n",
    "            tlow = np.append(tlow, t)\n",
    "    return tlow\n",
    "\n",
    "select_elev(tpro, -1.8)"
   ]
  },
  {
   "cell_type": "markdown",
   "id": "72682436",
   "metadata": {},
   "source": [
    "## Question 3\n",
    "\n",
    "**Modify your function to return a *tuple* containing the elevations below `cutoff`, and the *indexes* of where those elements are found; ie `(tlow, tlow_ind)`.**"
   ]
  },
  {
   "cell_type": "code",
   "execution_count": 6,
   "id": "cdfe030e",
   "metadata": {},
   "outputs": [],
   "source": [
    "# your code here"
   ]
  },
  {
   "cell_type": "code",
   "execution_count": 7,
   "id": "b1146aaa",
   "metadata": {},
   "outputs": [
    {
     "data": {
      "text/plain": [
       "(array([-1.81292939, -1.94849139, -1.89652514, -1.8832354 , -1.95747182,\n",
       "        -1.79608944, -1.52122962, -1.99228822, -1.69203118, -1.63915784,\n",
       "        -1.99898567, -1.57700432, -1.74913752, -1.97718161, -1.84488674,\n",
       "        -1.92812148, -1.92093642, -1.85460753, -1.97294268, -1.76083879,\n",
       "        -1.56353576, -1.99793499, -1.65217124, -1.67940097, -1.99448581,\n",
       "        -1.53481183, -1.785019  , -1.96279215, -1.87435706, -1.90466433,\n",
       "        -1.94231227, -1.82342253, -1.98500309, -1.7237072 , -1.60538374,\n",
       "        -1.99999108, -1.61121396, -1.71835042, -1.98642015, -1.81884517,\n",
       "        -1.94506543, -1.90112784, -1.87828908, -1.96049853, -1.78990528,\n",
       "        -1.52885195, -1.99356607, -1.68496242, -1.64647178]),\n",
       " array([ 1.,  3.,  6.,  8., 11., 13., 14., 16., 18., 19., 21., 23., 24.,\n",
       "        26., 29., 31., 34., 36., 39., 41., 42., 44., 46., 47., 49., 51.,\n",
       "        52., 54., 57., 59., 62., 64., 67., 69., 70., 72., 74., 75., 77.,\n",
       "        80., 82., 85., 87., 90., 92., 93., 95., 97., 98.]))"
      ]
     },
     "execution_count": 7,
     "metadata": {},
     "output_type": "execute_result"
    }
   ],
   "source": [
    "# andrew's soln; catherine's basically the same\n",
    "def select_elev2(in_data, cutoff):\n",
    "    \"\"\"\n",
    "    selects elements of a 1D np array in_data which are below the value cutoff.\n",
    "    returns elements of in_data which are below cutoff\n",
    "    \"\"\"\n",
    "    tlow = np.array([])\n",
    "    tlow_ind = np.array([])\n",
    "    for i in range(len(in_data)):    # note that i is now an index into the in_data array\n",
    "        if in_data[i] < cutoff: \n",
    "            tlow_ind = np.append(tlow_ind, i)\n",
    "            tlow = np.append(tlow, in_data[i])\n",
    "    return tlow, tlow_ind\n",
    "\n",
    "low, ind = select_elev2(tpro, -1.5)\n",
    "low, ind"
   ]
  },
  {
   "cell_type": "markdown",
   "id": "86e2e0ee",
   "metadata": {},
   "source": [
    "## Question 4\n",
    "\n",
    "**Finally, I need not have used a loop and an “if” statement in the function.  How would I rewrite the body of the function in Exercise 2 to use logical indexing?  Note that the function call and function definition line don’t need to be changed.**"
   ]
  },
  {
   "cell_type": "code",
   "execution_count": 8,
   "id": "0fabe3c4",
   "metadata": {},
   "outputs": [],
   "source": [
    "# your code here"
   ]
  },
  {
   "cell_type": "code",
   "execution_count": 9,
   "id": "37408897",
   "metadata": {},
   "outputs": [
    {
     "data": {
      "text/plain": [
       "array([-1.81292939, -1.94849139, -1.89652514, -1.8832354 , -1.95747182,\n",
       "       -1.99228822, -1.99898567, -1.97718161, -1.84488674, -1.92812148,\n",
       "       -1.92093642, -1.85460753, -1.97294268, -1.99793499, -1.99448581,\n",
       "       -1.96279215, -1.87435706, -1.90466433, -1.94231227, -1.82342253,\n",
       "       -1.98500309, -1.99999108, -1.98642015, -1.81884517, -1.94506543,\n",
       "       -1.90112784, -1.87828908, -1.96049853, -1.99356607])"
      ]
     },
     "execution_count": 9,
     "metadata": {},
     "output_type": "execute_result"
    }
   ],
   "source": [
    "# andrew's soln\n",
    "def select_elev3(in_data, cutoff):\n",
    "    \"\"\"\n",
    "    selects elements of a 1D np array in_data which are below the value cutoff.\n",
    "    returns elements of in_data which are below cutoff\n",
    "    \"\"\"\n",
    "    return in_data[in_data < cutoff]\n",
    "    \n",
    "select_elev3(tpro, -1.8)"
   ]
  }
 ],
 "metadata": {
  "jupytext": {
   "formats": "ipynb,md:myst",
   "text_representation": {
    "extension": ".md",
    "format_name": "myst",
    "format_version": 0.13,
    "jupytext_version": "1.11.4"
   }
  },
  "kernelspec": {
   "display_name": "Python 3 (ipykernel)",
   "language": "python",
   "name": "python3"
  },
  "language_info": {
   "codemirror_mode": {
    "name": "ipython",
    "version": 3
   },
   "file_extension": ".py",
   "mimetype": "text/x-python",
   "name": "python",
   "nbconvert_exporter": "python",
   "pygments_lexer": "ipython3",
   "version": "3.8.0"
  },
  "source_map": [
   13,
   25,
   31,
   40,
   50,
   64,
   72,
   76,
   90,
   96,
   100,
   117,
   123,
   127
  ]
 },
 "nbformat": 4,
 "nbformat_minor": 5
}