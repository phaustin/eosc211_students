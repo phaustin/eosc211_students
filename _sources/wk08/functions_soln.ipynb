{
 "cells": [
  {
   "cell_type": "markdown",
   "id": "4519e7a4",
   "metadata": {},
   "source": [
    "# Functions -- solution\n",
    "\n",
    "## EOSC 211\n",
    "\n",
    "**Week 8**\n",
    "\n",
    "**Learning Objectives:**  \n",
    "1. Implement functions in your code\n",
    "2. Understand argument passing"
   ]
  },
  {
   "cell_type": "markdown",
   "id": "6c39bbd7",
   "metadata": {},
   "source": [
    "## Question 1\n",
    "\n",
    "**Write a function called `sqrtsum` that takes as input two arbitrary real numbers, `x1` and `x2` and returns two parameters: the sum of `x1` and `x2` and the square root of the sum of `x1` and `x2` (you can use ` ** 0.5` or `np.sqrt()` if you have imported the numpy package). Include a docstring that specifies what the function does, and what the input and output arguments are.**\n",
    "\n",
    "**create the `sqrtsum` function by editing the code below:**"
   ]
  },
  {
   "cell_type": "code",
   "execution_count": 1,
   "id": "9c261537",
   "metadata": {},
   "outputs": [
    {
     "ename": "SyntaxError",
     "evalue": "unexpected EOF while parsing (1668016085.py, line 12)",
     "output_type": "error",
     "traceback": [
      "\u001b[0;36m  File \u001b[0;32m\"/tmp/ipykernel_951892/1668016085.py\"\u001b[0;36m, line \u001b[0;32m12\u001b[0m\n\u001b[0;31m    \u001b[0m\n\u001b[0m    ^\u001b[0m\n\u001b[0;31mSyntaxError\u001b[0m\u001b[0;31m:\u001b[0m unexpected EOF while parsing\n"
     ]
    }
   ],
   "source": [
    "# Write the function definition line:\n",
    "def a_function():\n",
    "    # Write the docstring:\n",
    "    \n",
    "    \n",
    "    \n",
    "    # Write the body of the function:\n",
    "    \n",
    "    \n",
    "    \n",
    "    # Write the return statement:\n",
    "    "
   ]
  },
  {
   "cell_type": "code",
   "execution_count": 2,
   "id": "934d1a4c",
   "metadata": {},
   "outputs": [],
   "source": [
    "# andrew's soln\n",
    "def sqrtsum(x1, x2):\n",
    "    \"\"\"\n",
    "    takes in two real numbers and returns a tuple y1, y2 with y1=x1+x2 and y2=(y1)^1/2\n",
    "    \"\"\"\n",
    "    y1 = x1 + x2\n",
    "    y2 = y1 ** 0.5\n",
    "    return y1, y2"
   ]
  },
  {
   "cell_type": "markdown",
   "id": "ef0f2751",
   "metadata": {},
   "source": [
    "## Question 2\n",
    "\n",
    "**In the cell below, *call* your `sqrtsum` function if you want to find the “sqrtsum” of 255 and 73.5. Assign variables `mysum` and `rootsum` to the outputs `sqrtsum`**"
   ]
  },
  {
   "cell_type": "code",
   "execution_count": 3,
   "id": "70de5ed3",
   "metadata": {},
   "outputs": [],
   "source": [
    "# your code here"
   ]
  },
  {
   "cell_type": "code",
   "execution_count": 4,
   "id": "c311f33e",
   "metadata": {},
   "outputs": [
    {
     "name": "stdout",
     "output_type": "stream",
     "text": [
      "328.5\n",
      "18.12456896039186\n"
     ]
    }
   ],
   "source": [
    "# andrew's soln\n",
    "mysum, rootsum = sqrtsum(255, 73.5)\n",
    "print(mysum)\n",
    "print(rootsum)"
   ]
  },
  {
   "cell_type": "markdown",
   "id": "a0ce8cc3",
   "metadata": {},
   "source": [
    "## Question 3\n",
    "\n",
    "**Let's make our function a little more user friendly by anticipating a possible error. Modify `sqrtsum` to *raise* an exception if both of the function arguments aren't either integers or floats**"
   ]
  },
  {
   "cell_type": "code",
   "execution_count": 5,
   "id": "044ee0ba",
   "metadata": {},
   "outputs": [],
   "source": [
    "# your code here"
   ]
  },
  {
   "cell_type": "code",
   "execution_count": 6,
   "id": "70008fbf",
   "metadata": {},
   "outputs": [],
   "source": [
    "# andrew's soln\n",
    "def sqrtsum(x1, x2):\n",
    "    \"\"\"\n",
    "    takes in two real numbers and returns a tuple y1, y2 with y1=x1+x2 and y2=(y1)^1/2\n",
    "    \"\"\"\n",
    "    # check the inputs\n",
    "    for x in x1, x2:\n",
    "        if type(x) is not int and type(x) is not float:\n",
    "            raise TypeError(\"make sure x1 and x2 are numeric values\")\n",
    "\n",
    "    # return values if inputs are correct\n",
    "    y1 = x1 + x2\n",
    "    y2 = y1 ** 0.5\n",
    "    return y1, y2"
   ]
  },
  {
   "cell_type": "code",
   "execution_count": 7,
   "id": "cc325582",
   "metadata": {},
   "outputs": [
    {
     "name": "stdout",
     "output_type": "stream",
     "text": [
      "2.0 3 5.0 2.23606797749979\n"
     ]
    }
   ],
   "source": [
    "# catherine's solution\n",
    "import numpy as np\n",
    "\n",
    "def sqrtsum(x1, x2):\n",
    "    \"\"\"\n",
    "    takes in two real numbers and returns a tuple y1, y2 with y1=x1+x2 and y2=(y1)^1/2\n",
    "    \"\"\"\n",
    "    \n",
    "    # check the inputs\n",
    "    for x in x1, x2:\n",
    "        if not isinstance(x, int) and not isinstance(x,float):    # I googled to find isinstance\n",
    "            raise TypeError(\"make sure x1 and x2 are numeric values\")\n",
    "\n",
    "    # return values if inputs are correct\n",
    "    y1 = x1 + x2\n",
    "    y2 = y1 ** 0.5\n",
    "    return y1, y2  \n",
    "\n",
    "# testing\n",
    "a1=2.\n",
    "a2=3\n",
    "\n",
    "a_sum,a_sqrtsum = sqrtsum(a1,a2)\n",
    "print(a1,a2,a_sum,a_sqrtsum)"
   ]
  },
  {
   "cell_type": "markdown",
   "id": "3bd4b1a7",
   "metadata": {},
   "source": [
    "## Question 4\n",
    "\n",
    "**Now change your code in (3) to be a function called `checkinput()` that does the exact same thing as in (3) and is called by your main function `sqrtsum`. `checkinput` should take all the input parameters passed to `sqrtsum`.  `checkinput` is what is called a nested or inner function.**"
   ]
  },
  {
   "cell_type": "code",
   "execution_count": 8,
   "id": "995bedaf",
   "metadata": {},
   "outputs": [],
   "source": [
    "# your code here"
   ]
  },
  {
   "cell_type": "code",
   "execution_count": 9,
   "id": "fcdb31a2",
   "metadata": {},
   "outputs": [
    {
     "ename": "IndentationError",
     "evalue": "expected an indented block (558418108.py, line 7)",
     "output_type": "error",
     "traceback": [
      "\u001b[0;36m  File \u001b[0;32m\"/tmp/ipykernel_951892/558418108.py\"\u001b[0;36m, line \u001b[0;32m7\u001b[0m\n\u001b[0;31m    for x in x1, x2:\u001b[0m\n\u001b[0m    ^\u001b[0m\n\u001b[0;31mIndentationError\u001b[0m\u001b[0;31m:\u001b[0m expected an indented block\n"
     ]
    }
   ],
   "source": [
    "# andrew's soln\n",
    "def sqrtsum(x1, x2):\n",
    "    \"\"\"\n",
    "    takes in two real numbers and returns a tuple y1, y2 with y1=x1+x2 and y2=(y1)^1/2\n",
    "    \"\"\"\n",
    "    def check_input(x1, x2):\n",
    "    for x in x1, x2:\n",
    "        if not isinstance(x, int) and not isinstance(x,float):    # I googled to find isinstance\n",
    "            raise TypeError(\"make sure x1 and x2 are numeric values\")\n",
    "    \n",
    "    # check the inputs\n",
    "    check_input(x1, x2)\n",
    "    \n",
    "    # return values if inputs are correct\n",
    "    y1 = x1 + x2\n",
    "    y2 = y1 ** 0.5\n",
    "    return y1, y2"
   ]
  },
  {
   "cell_type": "code",
   "execution_count": 10,
   "id": "c09370e4",
   "metadata": {},
   "outputs": [],
   "source": [
    "# catherine's solution\n",
    "# discuss scope here\n",
    "#\n",
    "# More on inner/nested functions:  \n",
    "#     See section on Creating Inner Functions - second part of page is more advanced than we will cover in 211\n",
    "# https://realpython.com/inner-functions-what-are-they-good-for/\n",
    "\n",
    "def sqrtsum(x1, x2):\n",
    "    \"\"\"\n",
    "    takes in two real numbers and returns a tuple y1, y2 with y1=x1+x2 and y2=(y1)^1/2\n",
    "    \"\"\"\n",
    "    def check_input(x1, x2):\n",
    "        for x in x1, x2:\n",
    "            if type(x) is not int and type(x) is not float:\n",
    "                raise TypeError(\"make sure x1 and x2 are numeric values\")\n",
    "    \n",
    "    # check the inputs\n",
    "    check_input(x1, x2)\n",
    "    \n",
    "    # return values if inputs are correct\n",
    "    y1 = x1 + x2\n",
    "    y2 = y1 ** 0.5\n",
    "    return y1, y2"
   ]
  },
  {
   "cell_type": "markdown",
   "id": "98eb340d",
   "metadata": {},
   "source": [
    "## Question 5\n",
    "\n",
    "**Continue writing the body of the function addn that takes three parameters n, summax and maxiter and adds n to itself while the sum is less than or equal to summax or if the number of iterations is less than or equal to maxiter, and then returns the sum.**"
   ]
  },
  {
   "cell_type": "code",
   "execution_count": 11,
   "id": "8d6b5cbf",
   "metadata": {},
   "outputs": [
    {
     "ename": "SyntaxError",
     "evalue": "invalid syntax (793529304.py, line 10)",
     "output_type": "error",
     "traceback": [
      "\u001b[0;36m  File \u001b[0;32m\"/tmp/ipykernel_951892/793529304.py\"\u001b[0;36m, line \u001b[0;32m10\u001b[0m\n\u001b[0;31m    while <your code here>:\u001b[0m\n\u001b[0m          ^\u001b[0m\n\u001b[0;31mSyntaxError\u001b[0m\u001b[0;31m:\u001b[0m invalid syntax\n"
     ]
    }
   ],
   "source": [
    "def sum_n(n, summax, maxiter):\n",
    "    \"\"\"\n",
    "    adds n to itself until one of the\n",
    "    two conditions is reached:\n",
    "    1. Either sumn exceeds summax, or\n",
    "    2. maxiter iterations is exceeded.\n",
    "    \"\"\"\n",
    "    counter = 0\n",
    "    sumn = n\n",
    "    while <your code here>:\n",
    "        pass # your code here"
   ]
  },
  {
   "cell_type": "code",
   "execution_count": 12,
   "id": "8b260035",
   "metadata": {},
   "outputs": [],
   "source": [
    "# Andrew's and Catherine's solutions the same\n",
    "\n",
    "def sum_n(n, summax, maxiter):\n",
    "    \"\"\"\n",
    "    adds n to itself until one of the\n",
    "    two conditions is reached:\n",
    "    1. Either sumn exceeds summax, or\n",
    "    2. maxiter iterations is exceeded.\n",
    "    \"\"\"\n",
    "    counter = 0\n",
    "    sumn = n\n",
    "    while sumn <= (summax) and counter <= maxiter:\n",
    "        sumn += n\n",
    "        counter += 1\n",
    "    return sumn"
   ]
  },
  {
   "cell_type": "code",
   "execution_count": 13,
   "id": "52b3b40c",
   "metadata": {},
   "outputs": [
    {
     "name": "stdout",
     "output_type": "stream",
     "text": [
      "2 102\n"
     ]
    }
   ],
   "source": [
    "# Some extra things to discuss:  Catherine\n",
    "\n",
    "import numpy as np    # I always add\n",
    "\n",
    "def sum_n(n, summax, maxiter):\n",
    "    \"\"\"\n",
    "    adds n to itself until one of the\n",
    "    two conditions is reached:\n",
    "    1. Either sumn exceeds summax, or\n",
    "    2. maxiter iterations is exceeded.\n",
    "    \"\"\"\n",
    "    counter = 0\n",
    "    sumn = n\n",
    "    while sumn <= (summax) and counter <= maxiter:\n",
    "        sumn += n\n",
    "        counter += 1\n",
    "    return sumn\n",
    "\n",
    "# 1.  Calling the function in the main script\n",
    "a1=2\n",
    "niter=150\n",
    "maxsum=101\n",
    "\n",
    "# calling the function\n",
    "mysum=sum_n(a1,maxsum,niter)\n",
    "print(a1,mysum)\n",
    "\n",
    "# 2. if i modify n inside function, is a1 modified?\n",
    "    # add these 3 lines to start of function code\n",
    "    # print(f'n1 before modification={n}')\n",
    "    # n=1\n",
    "    # print(f'n1 after modification={n}')\n",
    "    \n",
    "# things to think about on your own:  \n",
    "# tricky: how would i modify the function to return the last value of sumn that was <= summax?  "
   ]
  },
  {
   "cell_type": "markdown",
   "id": "074c74e4",
   "metadata": {},
   "source": [
    "## Question 6\n",
    "\n",
    "**Why doesn't this work? Debug this code**"
   ]
  },
  {
   "cell_type": "code",
   "execution_count": 14,
   "id": "aaccb0d1",
   "metadata": {},
   "outputs": [
    {
     "ename": "NameError",
     "evalue": "name 'cube_plus_one' is not defined",
     "output_type": "error",
     "traceback": [
      "\u001b[0;31m---------------------------------------------------------------------------\u001b[0m",
      "\u001b[0;31mNameError\u001b[0m                                 Traceback (most recent call last)",
      "\u001b[0;32m/tmp/ipykernel_951892/315864639.py\u001b[0m in \u001b[0;36m<module>\u001b[0;34m\u001b[0m\n\u001b[1;32m      1\u001b[0m \u001b[0mmy_num\u001b[0m \u001b[0;34m=\u001b[0m \u001b[0;36m5.1\u001b[0m\u001b[0;34m\u001b[0m\u001b[0;34m\u001b[0m\u001b[0m\n\u001b[0;32m----> 2\u001b[0;31m \u001b[0my\u001b[0m \u001b[0;34m=\u001b[0m \u001b[0mcube_plus_one\u001b[0m\u001b[0;34m(\u001b[0m\u001b[0mmy_num\u001b[0m\u001b[0;34m)\u001b[0m\u001b[0;34m\u001b[0m\u001b[0;34m\u001b[0m\u001b[0m\n\u001b[0m\u001b[1;32m      3\u001b[0m \u001b[0;34m\u001b[0m\u001b[0m\n\u001b[1;32m      4\u001b[0m \u001b[0;34m\u001b[0m\u001b[0m\n\u001b[1;32m      5\u001b[0m \u001b[0;32mdef\u001b[0m \u001b[0mcube_plus_one\u001b[0m\u001b[0;34m(\u001b[0m\u001b[0mx\u001b[0m\u001b[0;34m)\u001b[0m\u001b[0;34m:\u001b[0m\u001b[0;34m\u001b[0m\u001b[0;34m\u001b[0m\u001b[0m\n",
      "\u001b[0;31mNameError\u001b[0m: name 'cube_plus_one' is not defined"
     ]
    }
   ],
   "source": [
    "my_num = 5.1\n",
    "y = cube_plus_one(my_num)\n",
    "\n",
    "\n",
    "def cube_plus_one(x):\n",
    "    \"\"\"\n",
    "    returns the cube of the input plus one\n",
    "    \"\"\"\n",
    "    return x ** 3 + 1"
   ]
  },
  {
   "cell_type": "code",
   "execution_count": 15,
   "id": "daa0ab76",
   "metadata": {},
   "outputs": [],
   "source": [
    "# andrew's soln\n",
    "my_num = 5.1\n",
    "\n",
    "\n",
    "def cube_plus_one(x):\n",
    "    \"\"\"\n",
    "    returns the cube of the input plus one\n",
    "    \"\"\"\n",
    "    return x ** 3 + 1\n",
    "\n",
    "\n",
    "# we need to define the function BEFORE calling it\n",
    "y = cube_plus_one(my_num)"
   ]
  }
 ],
 "metadata": {
  "jupytext": {
   "formats": "ipynb,md:myst",
   "text_representation": {
    "extension": ".md",
    "format_name": "myst",
    "format_version": 0.13,
    "jupytext_version": "1.11.5"
   }
  },
  "kernelspec": {
   "display_name": "Python 3 (ipykernel)",
   "language": "python",
   "name": "python3"
  },
  "language_info": {
   "codemirror_mode": {
    "name": "ipython",
    "version": 3
   },
   "file_extension": ".py",
   "mimetype": "text/x-python",
   "name": "python",
   "nbconvert_exporter": "python",
   "pygments_lexer": "ipython3",
   "version": "3.8.0"
  },
  "source_map": [
   13,
   25,
   33,
   48,
   57,
   63,
   67,
   72,
   78,
   82,
   99,
   124,
   130,
   134,
   154,
   178,
   184,
   198,
   216,
   252,
   258,
   270
  ]
 },
 "nbformat": 4,
 "nbformat_minor": 5
}