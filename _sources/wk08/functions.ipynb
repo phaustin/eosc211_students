{
 "cells": [
  {
   "cell_type": "markdown",
   "id": "92408eef",
   "metadata": {},
   "source": [
    "# Functions\n",
    "\n",
    "## EOSC 211\n",
    "\n",
    "**Week 8 Day 1**\n",
    "\n",
    "**Learning Objectives:**  \n",
    "1. Implement functions in your code\n",
    "\n",
    "Reading: https://phaustin.github.io/think_jupyter/functions.html"
   ]
  },
  {
   "cell_type": "markdown",
   "id": "9465f091",
   "metadata": {},
   "source": [
    "## Question 1\n",
    "\n",
    "**Write a function called `sqrtsum` that takes as input two arbitrary real numbers, `x1` and `x2` and returns two parameters: the sum of `x1` and `x2` and the square root of the sum of `x1` and `x2` (you can use ` ** 0.5` or `np.sqrt()` if you have imported the numpy package). Include a docstring that specifies what the function does, and what the input and output arguments are.**\n",
    "\n",
    "**create the `sqrtsum` function by editing the code below:**"
   ]
  },
  {
   "cell_type": "code",
   "execution_count": 1,
   "id": "fd9b4d21",
   "metadata": {},
   "outputs": [],
   "source": [
    "# Write the function definition line:\n",
    "def a_function():\n",
    "    # Write the docstring:\n",
    "    \"\"\"\n",
    "    this is a docstring! tell me about your function\n",
    "    \"\"\"\n",
    "    # Write the body of the function:\n",
    "    ans = None\n",
    "    # Write the return statement:\n",
    "    return ans"
   ]
  },
  {
   "cell_type": "code",
   "execution_count": 2,
   "id": "db70aff4",
   "metadata": {},
   "outputs": [],
   "source": [
    "# andrew's soln\n",
    "def sqrtsum(x1, x2):\n",
    "    \"\"\"\n",
    "    takes in two real numbers and returns a tuple y1, y2 with y1=x1+x2 and y2=(y1)^1/2\n",
    "    \"\"\"\n",
    "    y1 = x1 + x2\n",
    "    y2 = y1 ** 0.5\n",
    "    return y1, y2"
   ]
  },
  {
   "cell_type": "markdown",
   "id": "391b741f",
   "metadata": {},
   "source": [
    "## Question 2\n",
    "\n",
    "**In the cell below, *call* your `sqrtsum` function if you want to find the “sqrtsum” of 255 and 73.5. Assign variables `mysum` and `rootsum` to the outputs `sqrtsum`**"
   ]
  },
  {
   "cell_type": "code",
   "execution_count": 3,
   "id": "5a51c421",
   "metadata": {},
   "outputs": [],
   "source": [
    "# your code here"
   ]
  },
  {
   "cell_type": "code",
   "execution_count": 4,
   "id": "a22da245",
   "metadata": {},
   "outputs": [
    {
     "name": "stdout",
     "output_type": "stream",
     "text": [
      "328.5\n",
      "18.12456896039186\n"
     ]
    }
   ],
   "source": [
    "# andrew's soln\n",
    "mysum, rootsum = sqrtsum(255, 73.5)\n",
    "print(mysum)\n",
    "print(rootsum)"
   ]
  },
  {
   "cell_type": "markdown",
   "id": "8b399783",
   "metadata": {},
   "source": [
    "## Question 3\n",
    "\n",
    "**Let's make our function a little more user friendly by anticipating a possible error. Modify `sqrtsum` to *raise* an exception if both of the function arguments aren't either integers or floats**"
   ]
  },
  {
   "cell_type": "code",
   "execution_count": 5,
   "id": "d8335f75",
   "metadata": {},
   "outputs": [],
   "source": [
    "# your code here"
   ]
  },
  {
   "cell_type": "code",
   "execution_count": 6,
   "id": "e7a9fab1",
   "metadata": {},
   "outputs": [],
   "source": [
    "# andrew's soln\n",
    "def sqrtsum(x1, x2):\n",
    "    \"\"\"\n",
    "    takes in two real numbers and returns a tuple y1, y2 with y1=x1+x2 and y2=(y1)^1/2\n",
    "    \"\"\"\n",
    "    # check the inputs\n",
    "    for x in x1, x2:\n",
    "        if type(x) is not int and type(x) is not float:\n",
    "            raise TypeError(\"make sure x1 and x2 are numeric values\")\n",
    "\n",
    "    # return values if inputs are correct\n",
    "    y1 = x1 + x2\n",
    "    y2 = y1 ** 0.5\n",
    "    return y1, y2"
   ]
  },
  {
   "cell_type": "markdown",
   "id": "f396534a",
   "metadata": {},
   "source": [
    "## Question 4\n",
    "\n",
    "**Now change your code in (3) to be a subfunction called `checkinput()` that does the exact same thing as in (3) and is called by your main function `sqrtsum`. `checkinput` should take all the input parameters passed to `sqrtsum`.**"
   ]
  },
  {
   "cell_type": "code",
   "execution_count": 7,
   "id": "c157e212",
   "metadata": {},
   "outputs": [],
   "source": [
    "# your code here"
   ]
  },
  {
   "cell_type": "code",
   "execution_count": 8,
   "id": "0ffb080e",
   "metadata": {},
   "outputs": [],
   "source": [
    "# andrew's soln\n",
    "def sqrtsum(x1, x2):\n",
    "    \"\"\"\n",
    "    takes in two real numbers and returns a tuple y1, y2 with y1=x1+x2 and y2=(y1)^1/2\n",
    "    \"\"\"\n",
    "    def check_input(x1, x2):\n",
    "        for x in x1, x2:\n",
    "            if type(x) is not int and type(x) is not float:\n",
    "                raise TypeError(\"make sure x1 and x2 are numeric values\")\n",
    "    \n",
    "    # check the inputs\n",
    "    check_input(x1, x2)\n",
    "    \n",
    "    # return values if inputs are correct\n",
    "    y1 = x1 + x2\n",
    "    y2 = y1 ** 0.5\n",
    "    return y1, y2\n",
    "\n",
    "# its not really obvious why this is a desireable way to go about this... modify question?"
   ]
  },
  {
   "cell_type": "markdown",
   "id": "dcd85337",
   "metadata": {},
   "source": [
    "## Question 5\n",
    "\n",
    "**Continue writing the body of the function addn that takes three parameters n, summax and maxiter and adds n to itself while the sum is less than or equal to summax or if the number of iterations is less than or equal to maxiter and then returns the sum.**"
   ]
  },
  {
   "cell_type": "code",
   "execution_count": 9,
   "id": "8096b49a",
   "metadata": {},
   "outputs": [],
   "source": [
    "def sum_n(n, summax, maxiter):\n",
    "    \"\"\"\n",
    "    adds the n to itself until one of the\n",
    "    two conditions is reached:\n",
    "    1. Either sumn reaches summax, or\n",
    "    2. maxiter iterations is reached\n",
    "    \"\"\"\n",
    "    counter = 0\n",
    "    sumn = n\n",
    "    while sumn <= (summax):\n",
    "        pass # your code here"
   ]
  },
  {
   "cell_type": "code",
   "execution_count": 10,
   "id": "1a760f7b",
   "metadata": {},
   "outputs": [],
   "source": [
    "def sum_n(n, summax, maxiter):\n",
    "    \"\"\"\n",
    "    adds the n to itself until one of the\n",
    "    two conditions is reached:\n",
    "    1. Either sumn reaches summax, or\n",
    "    2. maxiter iterations is reached\n",
    "    \"\"\"\n",
    "    counter = 0\n",
    "    sumn = n\n",
    "    while sumn <= (summax) and counter <= maxiter:\n",
    "        sumn += n\n",
    "        counter += 1\n",
    "    return sumn"
   ]
  },
  {
   "cell_type": "markdown",
   "id": "af9e2fb2",
   "metadata": {},
   "source": [
    "## Question 6\n",
    "\n",
    "**Why doesn't this work? Debug this code**"
   ]
  },
  {
   "cell_type": "code",
   "execution_count": 11,
   "id": "37c23954",
   "metadata": {},
   "outputs": [
    {
     "ename": "NameError",
     "evalue": "name 'cube_plus_one' is not defined",
     "output_type": "error",
     "traceback": [
      "\u001b[0;31m---------------------------------------------------------------------------\u001b[0m",
      "\u001b[0;31mNameError\u001b[0m                                 Traceback (most recent call last)",
      "\u001b[0;32m/tmp/ipykernel_570288/315864639.py\u001b[0m in \u001b[0;36m<module>\u001b[0;34m\u001b[0m\n\u001b[1;32m      1\u001b[0m \u001b[0mmy_num\u001b[0m \u001b[0;34m=\u001b[0m \u001b[0;36m5.1\u001b[0m\u001b[0;34m\u001b[0m\u001b[0;34m\u001b[0m\u001b[0m\n\u001b[0;32m----> 2\u001b[0;31m \u001b[0my\u001b[0m \u001b[0;34m=\u001b[0m \u001b[0mcube_plus_one\u001b[0m\u001b[0;34m(\u001b[0m\u001b[0mmy_num\u001b[0m\u001b[0;34m)\u001b[0m\u001b[0;34m\u001b[0m\u001b[0;34m\u001b[0m\u001b[0m\n\u001b[0m\u001b[1;32m      3\u001b[0m \u001b[0;34m\u001b[0m\u001b[0m\n\u001b[1;32m      4\u001b[0m \u001b[0;34m\u001b[0m\u001b[0m\n\u001b[1;32m      5\u001b[0m \u001b[0;32mdef\u001b[0m \u001b[0mcube_plus_one\u001b[0m\u001b[0;34m(\u001b[0m\u001b[0mx\u001b[0m\u001b[0;34m)\u001b[0m\u001b[0;34m:\u001b[0m\u001b[0;34m\u001b[0m\u001b[0;34m\u001b[0m\u001b[0m\n",
      "\u001b[0;31mNameError\u001b[0m: name 'cube_plus_one' is not defined"
     ]
    }
   ],
   "source": [
    "my_num = 5.1\n",
    "y = cube_plus_one(my_num)\n",
    "\n",
    "\n",
    "def cube_plus_one(x):\n",
    "    \"\"\"\n",
    "    returns the cube of the input plus one\n",
    "    \"\"\"\n",
    "    return x ** 3 + 1"
   ]
  },
  {
   "cell_type": "code",
   "execution_count": 12,
   "id": "b907b3eb",
   "metadata": {},
   "outputs": [],
   "source": [
    "# andrew's soln\n",
    "my_num = 5.1\n",
    "\n",
    "\n",
    "def cube_plus_one(x):\n",
    "    \"\"\"\n",
    "    returns the cube of the input plus one\n",
    "    \"\"\"\n",
    "    return x ** 3 + 1\n",
    "\n",
    "\n",
    "# we need to define the function BEFORE calling it\n",
    "y = cube_plus_one(my_num)"
   ]
  }
 ],
 "metadata": {
  "jupytext": {
   "formats": "ipynb,md:myst",
   "text_representation": {
    "extension": ".md",
    "format_name": "myst",
    "format_version": 0.13,
    "jupytext_version": "1.10.3"
   }
  },
  "kernelspec": {
   "display_name": "Python 3 (ipykernel)",
   "language": "python",
   "name": "python3"
  },
  "language_info": {
   "codemirror_mode": {
    "name": "ipython",
    "version": 3
   },
   "file_extension": ".py",
   "mimetype": "text/x-python",
   "name": "python",
   "nbconvert_exporter": "python",
   "pygments_lexer": "ipython3",
   "version": "3.8.12"
  },
  "source_map": [
   13,
   26,
   34,
   47,
   56,
   62,
   66,
   71,
   77,
   81,
   96,
   102,
   106,
   126,
   132,
   146,
   160,
   166,
   178
  ]
 },
 "nbformat": 4,
 "nbformat_minor": 5
}