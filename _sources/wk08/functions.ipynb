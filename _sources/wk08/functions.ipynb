{
 "cells": [
  {
   "cell_type": "markdown",
   "id": "68abc6f5",
   "metadata": {},
   "source": [
    "# Functions\n",
    "\n",
    "## EOSC 211\n",
    "\n",
    "**Week 8**\n",
    "\n",
    "**Learning Objectives:**  \n",
    "1. Implement functions in your code\n",
    "2. Understand argument passing"
   ]
  },
  {
   "cell_type": "markdown",
   "id": "1ed04ce5",
   "metadata": {},
   "source": [
    "## Question 1\n",
    "\n",
    "**Write a function called `sqrtsum` that takes as input two arbitrary real numbers, `x1` and `x2` and returns two parameters: the sum of `x1` and `x2` and the square root of the sum of `x1` and `x2` (you can use ` ** 0.5` or `np.sqrt()` if you have imported the numpy package). Include a docstring that specifies what the function does, and what the input and output arguments are.**\n",
    "\n",
    "**create the `sqrtsum` function by editing the code below:**"
   ]
  },
  {
   "cell_type": "code",
   "execution_count": 1,
   "id": "bf57dd17",
   "metadata": {},
   "outputs": [
    {
     "ename": "SyntaxError",
     "evalue": "unexpected EOF while parsing (1668016085.py, line 12)",
     "output_type": "error",
     "traceback": [
      "\u001b[0;36m  File \u001b[0;32m\"/tmp/ipykernel_948321/1668016085.py\"\u001b[0;36m, line \u001b[0;32m12\u001b[0m\n\u001b[0;31m    \u001b[0m\n\u001b[0m    ^\u001b[0m\n\u001b[0;31mSyntaxError\u001b[0m\u001b[0;31m:\u001b[0m unexpected EOF while parsing\n"
     ]
    }
   ],
   "source": [
    "# Write the function definition line:\n",
    "def a_function():\n",
    "    # Write the docstring:\n",
    "    \n",
    "    \n",
    "    \n",
    "    # Write the body of the function:\n",
    "    \n",
    "    \n",
    "    \n",
    "    # Write the return statement:\n",
    "    "
   ]
  },
  {
   "cell_type": "markdown",
   "id": "c882bbb2",
   "metadata": {},
   "source": [
    "## Question 2\n",
    "\n",
    "**In the cell below, *call* your `sqrtsum` function if you want to find the “sqrtsum” of 255 and 73.5. Assign variables `mysum` and `rootsum` to the outputs `sqrtsum`**"
   ]
  },
  {
   "cell_type": "code",
   "execution_count": 2,
   "id": "257dd628",
   "metadata": {},
   "outputs": [],
   "source": [
    "# your code here"
   ]
  },
  {
   "cell_type": "markdown",
   "id": "7182e745",
   "metadata": {},
   "source": [
    "## Question 3\n",
    "\n",
    "**Let's make our function a little more user friendly by anticipating a possible error. Modify `sqrtsum` to *raise* an exception if both of the function arguments aren't either integers or floats**"
   ]
  },
  {
   "cell_type": "code",
   "execution_count": 3,
   "id": "da45f9e2",
   "metadata": {},
   "outputs": [],
   "source": [
    "# your code here"
   ]
  },
  {
   "cell_type": "markdown",
   "id": "ef9432d5",
   "metadata": {},
   "source": [
    "## Question 4\n",
    "\n",
    "**Now change your code in (3) to be a function called `checkinput()` that does the exact same thing as in (3) and is called by your main function `sqrtsum`. `checkinput` should take all the input parameters passed to `sqrtsum`.  `checkinput` is what is called a nested or inner function.**"
   ]
  },
  {
   "cell_type": "code",
   "execution_count": 4,
   "id": "30ae56bd",
   "metadata": {},
   "outputs": [],
   "source": [
    "# your code here"
   ]
  },
  {
   "cell_type": "markdown",
   "id": "af20b01f",
   "metadata": {},
   "source": [
    "## Question 5\n",
    "\n",
    "**Continue writing the body of the function addn that takes three parameters n, summax and maxiter and adds n to itself while the sum is less than or equal to summax or if the number of iterations is less than or equal to maxiter, and then returns the sum.**"
   ]
  },
  {
   "cell_type": "code",
   "execution_count": 5,
   "id": "0fd3d306",
   "metadata": {},
   "outputs": [
    {
     "ename": "SyntaxError",
     "evalue": "invalid syntax (793529304.py, line 10)",
     "output_type": "error",
     "traceback": [
      "\u001b[0;36m  File \u001b[0;32m\"/tmp/ipykernel_948321/793529304.py\"\u001b[0;36m, line \u001b[0;32m10\u001b[0m\n\u001b[0;31m    while <your code here>:\u001b[0m\n\u001b[0m          ^\u001b[0m\n\u001b[0;31mSyntaxError\u001b[0m\u001b[0;31m:\u001b[0m invalid syntax\n"
     ]
    }
   ],
   "source": [
    "def sum_n(n, summax, maxiter):\n",
    "    \"\"\"\n",
    "    adds n to itself until one of the\n",
    "    two conditions is reached:\n",
    "    1. Either sumn exceeds summax, or\n",
    "    2. maxiter iterations is exceeded.\n",
    "    \"\"\"\n",
    "    counter = 0\n",
    "    sumn = n\n",
    "    while <your code here>:\n",
    "        pass # your code here"
   ]
  },
  {
   "cell_type": "markdown",
   "id": "9056bb4a",
   "metadata": {},
   "source": [
    "## Question 6\n",
    "\n",
    "**Why doesn't this work? Debug this code**"
   ]
  },
  {
   "cell_type": "code",
   "execution_count": 6,
   "id": "05823783",
   "metadata": {},
   "outputs": [
    {
     "ename": "NameError",
     "evalue": "name 'cube_plus_one' is not defined",
     "output_type": "error",
     "traceback": [
      "\u001b[0;31m---------------------------------------------------------------------------\u001b[0m",
      "\u001b[0;31mNameError\u001b[0m                                 Traceback (most recent call last)",
      "\u001b[0;32m/tmp/ipykernel_948321/315864639.py\u001b[0m in \u001b[0;36m<module>\u001b[0;34m\u001b[0m\n\u001b[1;32m      1\u001b[0m \u001b[0mmy_num\u001b[0m \u001b[0;34m=\u001b[0m \u001b[0;36m5.1\u001b[0m\u001b[0;34m\u001b[0m\u001b[0;34m\u001b[0m\u001b[0m\n\u001b[0;32m----> 2\u001b[0;31m \u001b[0my\u001b[0m \u001b[0;34m=\u001b[0m \u001b[0mcube_plus_one\u001b[0m\u001b[0;34m(\u001b[0m\u001b[0mmy_num\u001b[0m\u001b[0;34m)\u001b[0m\u001b[0;34m\u001b[0m\u001b[0;34m\u001b[0m\u001b[0m\n\u001b[0m\u001b[1;32m      3\u001b[0m \u001b[0;34m\u001b[0m\u001b[0m\n\u001b[1;32m      4\u001b[0m \u001b[0;34m\u001b[0m\u001b[0m\n\u001b[1;32m      5\u001b[0m \u001b[0;32mdef\u001b[0m \u001b[0mcube_plus_one\u001b[0m\u001b[0;34m(\u001b[0m\u001b[0mx\u001b[0m\u001b[0;34m)\u001b[0m\u001b[0;34m:\u001b[0m\u001b[0;34m\u001b[0m\u001b[0;34m\u001b[0m\u001b[0m\n",
      "\u001b[0;31mNameError\u001b[0m: name 'cube_plus_one' is not defined"
     ]
    }
   ],
   "source": [
    "my_num = 5.1\n",
    "y = cube_plus_one(my_num)\n",
    "\n",
    "\n",
    "def cube_plus_one(x):\n",
    "    \"\"\"\n",
    "    returns the cube of the input plus one\n",
    "    \"\"\"\n",
    "    return x ** 3 + 1"
   ]
  }
 ],
 "metadata": {
  "jupytext": {
   "formats": "ipynb,md:myst",
   "text_representation": {
    "extension": ".md",
    "format_name": "myst",
    "format_version": 0.13,
    "jupytext_version": "1.11.5"
   }
  },
  "kernelspec": {
   "display_name": "Python 3 (ipykernel)",
   "language": "python",
   "name": "python3"
  },
  "language_info": {
   "codemirror_mode": {
    "name": "ipython",
    "version": 3
   },
   "file_extension": ".py",
   "mimetype": "text/x-python",
   "name": "python",
   "nbconvert_exporter": "python",
   "pygments_lexer": "ipython3",
   "version": "3.8.0"
  },
  "source_map": [
   13,
   25,
   33,
   46,
   52,
   54,
   60,
   62,
   68,
   70,
   76,
   88,
   94
  ]
 },
 "nbformat": 4,
 "nbformat_minor": 5
}