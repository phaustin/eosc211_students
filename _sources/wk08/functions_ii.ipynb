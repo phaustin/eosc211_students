{
 "cells": [
  {
   "cell_type": "markdown",
   "id": "34be35bf",
   "metadata": {},
   "source": [
    "# Functions II\n",
    "\n",
    "## EOSC 211\n",
    "\n",
    "**Week 8 Day 2**\n",
    "\n",
    "**Learning Objectives:**  \n",
    "1. Implement functions in your code\n",
    "2. Understand the difference between a *fruitful* function (one that returns a variable) and void functions (one that performs an action but does not return anything"
   ]
  },
  {
   "cell_type": "markdown",
   "id": "f25ca9d7",
   "metadata": {},
   "source": [
    "## Question 1\n",
    "\n",
    "**We have two input arrays, `x` which is distance and `tpro` which is elevation in kilometers (say, along a survey line). Both have shape (99,). Use a *loop* and an *if statement* to write out a new variable `tlow` that contains only the values in `tpro` when the elevation is less than -1.8km.**"
   ]
  },
  {
   "cell_type": "code",
   "execution_count": 1,
   "id": "3d735f71",
   "metadata": {},
   "outputs": [],
   "source": [
    "import numpy as np\n",
    "\n",
    "x = np.linspace(0, 1000, 100)  # km along the survey line\n",
    "tpro = 2 * np.sin(x)  # get some real topographical data here instead?\n",
    "\n",
    "# your code here"
   ]
  },
  {
   "cell_type": "code",
   "execution_count": 2,
   "id": "f8865f6a",
   "metadata": {},
   "outputs": [
    {
     "name": "stdout",
     "output_type": "stream",
     "text": [
      "[ 0.         -1.25171757 -1.79396554  0.47456607 -1.58610056 -1.5329416\n",
      "  0.39164486 -1.82988727 -1.18435776 -0.08491847 -1.96915287 -0.76812473\n",
      " -0.55663135 -1.99594266 -0.30801728 -0.99655007 -1.90872645  0.16968378\n",
      " -1.37954696 -1.71248592 -1.68374568 -1.41843012  0.22383416 -1.89177074\n",
      " -1.04335517 -0.25414305 -1.99173997 -0.60868495 -0.71760389 -1.97794324\n",
      " -0.13924733 -1.140076   -1.85116862  0.33814395 -1.49742824 -1.61865731\n",
      " -1.76924907 -1.29369012  0.05440936 -1.94001237 -0.8948288  -0.42153497\n",
      " -1.99996433 -0.44485586 -0.87340168 -1.94568058  0.03052675 -1.27538067\n",
      " -1.78026173 -1.60451135 -1.51315633  0.3616635  -1.84199414 -1.15962114\n",
      " -0.1154078  -1.97426428 -0.73984968 -0.58588713]\n"
     ]
    }
   ],
   "source": [
    "# andrew's soln\n",
    "tlow = np.array([])\n",
    "for i in tpro:\n",
    "    if i < 0.5:\n",
    "        tlow = np.append(tlow,i)\n",
    "\n",
    "print(tlow)"
   ]
  },
  {
   "cell_type": "markdown",
   "id": "c284f50b",
   "metadata": {},
   "source": [
    "## Question 2\n",
    "\n",
    "**Turn the code snippet above into a function that returns an array `tlow` that is exactly the same as Q1, but that takes as input (1) `tproin` and (2) a variable called `cutoff` that contains an arbitrary cut-off for the elevation  (ie, I might want to select elevations below -2km or -1.8 km or -1.5km, so make this a variable).**\n",
    "\n",
    "**Finally, call your function with tpro as the input data and a cutoff of 1.8km**"
   ]
  },
  {
   "cell_type": "code",
   "execution_count": 3,
   "id": "fe8686c6",
   "metadata": {},
   "outputs": [],
   "source": [
    "# your code here"
   ]
  },
  {
   "cell_type": "code",
   "execution_count": 4,
   "id": "8ff9b29e",
   "metadata": {},
   "outputs": [
    {
     "data": {
      "text/plain": [
       "array([-1.82988727, -1.96915287, -1.99594266, -1.90872645, -1.89177074,\n",
       "       -1.99173997, -1.97794324, -1.85116862, -1.94001237, -1.99996433,\n",
       "       -1.94568058, -1.84199414, -1.97426428])"
      ]
     },
     "execution_count": 4,
     "metadata": {},
     "output_type": "execute_result"
    }
   ],
   "source": [
    "# andrew's soln\n",
    "def select_elev(in_data, cutoff):\n",
    "    \"\"\"\n",
    "    selects elements of a 1D np array in_data which are below the value cutoff.\n",
    "    returns elements of in_data which are below cutoff\n",
    "    \"\"\"\n",
    "    tlow = np.array([])\n",
    "    for i in tpro:\n",
    "        if i < cutoff:\n",
    "            tlow = np.append(tlow, i)\n",
    "    return tlow\n",
    "\n",
    "select_elev(tpro, -1.8)"
   ]
  },
  {
   "cell_type": "markdown",
   "id": "8a847af4",
   "metadata": {},
   "source": [
    "## Question 3\n",
    "\n",
    "**Modify your function to return a *tuple* containing the elevations below `cutoff`, and the *indexes* of where those elements are found; ie `(tlow, tlow_ind)`.**"
   ]
  },
  {
   "cell_type": "code",
   "execution_count": 5,
   "id": "dcd3e66b",
   "metadata": {},
   "outputs": [],
   "source": [
    "# your code here"
   ]
  },
  {
   "cell_type": "code",
   "execution_count": 6,
   "id": "c707bb1c",
   "metadata": {},
   "outputs": [
    {
     "data": {
      "text/plain": [
       "(array([-1.79396554, -1.58610056, -1.5329416 , -1.82988727, -1.96915287,\n",
       "        -1.99594266, -1.90872645, -1.71248592, -1.68374568, -1.89177074,\n",
       "        -1.99173997, -1.97794324, -1.85116862, -1.61865731, -1.76924907,\n",
       "        -1.94001237, -1.99996433, -1.94568058, -1.78026173, -1.60451135,\n",
       "        -1.51315633, -1.84199414, -1.97426428]),\n",
       " array([ 3.,  6.,  8., 11., 16., 21., 26., 31., 34., 39., 44., 49., 54.,\n",
       "        59., 62., 67., 72., 77., 82., 85., 87., 90., 95.]))"
      ]
     },
     "execution_count": 6,
     "metadata": {},
     "output_type": "execute_result"
    }
   ],
   "source": [
    "# andrew's soln\n",
    "def select_elev2(in_data, cutoff):\n",
    "    \"\"\"\n",
    "    selects elements of a 1D np array in_data which are below the value cutoff.\n",
    "    returns elements of in_data which are below cutoff\n",
    "    \"\"\"\n",
    "    tlow = np.array([])\n",
    "    tlow_ind = np.array([])\n",
    "    for i in range(len(in_data)):\n",
    "        if in_data[i] < cutoff: \n",
    "            tlow_ind = np.append(tlow_ind, i)\n",
    "            tlow = np.append(tlow, in_data[i])\n",
    "    return tlow, tlow_ind\n",
    "\n",
    "low, ind = select_elev2(tpro, -1.5)\n",
    "low, ind"
   ]
  },
  {
   "cell_type": "markdown",
   "id": "80432fa9",
   "metadata": {},
   "source": [
    "## Question 4\n",
    "\n",
    "**Finally, I need not have used a loop and an “if” statement in the function.  How would I rewrite the body of the function in Exercise 2 to use logical indexing?  Note that the function call and function definition line don’t need to be changed.**"
   ]
  },
  {
   "cell_type": "code",
   "execution_count": 7,
   "id": "2e2e2d9a",
   "metadata": {},
   "outputs": [],
   "source": [
    "# your code here"
   ]
  },
  {
   "cell_type": "code",
   "execution_count": 8,
   "id": "40300279",
   "metadata": {},
   "outputs": [
    {
     "data": {
      "text/plain": [
       "array([-1.82988727, -1.96915287, -1.99594266, -1.90872645, -1.89177074,\n",
       "       -1.99173997, -1.97794324, -1.85116862, -1.94001237, -1.99996433,\n",
       "       -1.94568058, -1.84199414, -1.97426428])"
      ]
     },
     "execution_count": 8,
     "metadata": {},
     "output_type": "execute_result"
    }
   ],
   "source": [
    "# andrew's soln\n",
    "def select_elev3(in_data, cutoff):\n",
    "    \"\"\"\n",
    "    selects elements of a 1D np array in_data which are below the value cutoff.\n",
    "    returns elements of in_data which are below cutoff\n",
    "    \"\"\"\n",
    "    return in_data[in_data < cutoff]\n",
    "    \n",
    "select_elev3(tpro, -1.8)"
   ]
  },
  {
   "cell_type": "code",
   "execution_count": null,
   "id": "ef1168b3",
   "metadata": {},
   "outputs": [],
   "source": []
  }
 ],
 "metadata": {
  "jupytext": {
   "formats": "ipynb,md:myst",
   "text_representation": {
    "extension": ".md",
    "format_name": "myst",
    "format_version": 0.13,
    "jupytext_version": "1.10.3"
   }
  },
  "kernelspec": {
   "display_name": "Python 3 (ipykernel)",
   "language": "python",
   "name": "python3"
  },
  "language_info": {
   "codemirror_mode": {
    "name": "ipython",
    "version": 3
   },
   "file_extension": ".py",
   "mimetype": "text/x-python",
   "name": "python",
   "nbconvert_exporter": "python",
   "pygments_lexer": "ipython3",
   "version": "3.8.12"
  },
  "source_map": [
   13,
   25,
   31,
   40,
   48,
   56,
   60,
   74,
   80,
   84,
   101,
   107,
   111,
   123
  ]
 },
 "nbformat": 4,
 "nbformat_minor": 5
}