{
 "cells": [
  {
   "cell_type": "markdown",
   "id": "a0f66352",
   "metadata": {},
   "source": [
    "# Functions II\n",
    "\n",
    "## EOSC 211\n",
    "\n",
    "**Week 8 Day 2**\n",
    "\n",
    "**Learning Objectives:**  \n",
    "1. Implement functions in your code\n",
    "2. Understand the difference between a *fruitful* function (one that returns a variable) and void functions (one that performs an action but does not return anything"
   ]
  },
  {
   "cell_type": "markdown",
   "id": "8e889af8",
   "metadata": {},
   "source": [
    "## Question 1\n",
    "\n",
    "**We have two input arrays, `x` which is distance and `tpro` which is elevation in kilometers (say, along a survey line). Both have shape (100,). Use a *loop* and an *if statement* to write out a new variable `tlow` that contains only the values in `tpro` when the elevation is less than -1.8km.**"
   ]
  },
  {
   "cell_type": "code",
   "execution_count": 1,
   "id": "460d5717",
   "metadata": {},
   "outputs": [],
   "source": [
    "import numpy as np\n",
    "\n",
    "x = np.linspace(0, 1000, 100)  # km along the survey line\n",
    "tpro = -1.5 + 0.5 * np.sin(x) # pretend topo\n",
    "\n",
    "# your code here"
   ]
  },
  {
   "cell_type": "markdown",
   "id": "8e491f3b",
   "metadata": {},
   "source": [
    "## Question 2\n",
    "\n",
    "**Turn the code snippet above into a function that returns an array `tlow` that is exactly the same as Q1, but that takes as input (1) `in_data` and (2) a variable called `cutoff` that contains an arbitrary cut-off for the elevation  (ie, I might want to select elevations below -2km or -1.8 km or -1.5km, so make this a variable).**\n",
    "\n",
    "**Finally, call your function with tpro as the input data and a cutoff of -1.8 km**"
   ]
  },
  {
   "cell_type": "code",
   "execution_count": 2,
   "id": "556565e0",
   "metadata": {},
   "outputs": [],
   "source": [
    "# your code here"
   ]
  },
  {
   "cell_type": "markdown",
   "id": "36bed1ed",
   "metadata": {},
   "source": [
    "## Question 3\n",
    "\n",
    "**Modify your function to return a *tuple* containing the elevations below `cutoff`, and the *indexes* of where those elements are found; ie `(tlow, tlow_ind)`.**"
   ]
  },
  {
   "cell_type": "code",
   "execution_count": 3,
   "id": "8c12254b",
   "metadata": {},
   "outputs": [],
   "source": [
    "# your code here"
   ]
  },
  {
   "cell_type": "markdown",
   "id": "b5a8a5f2",
   "metadata": {},
   "source": [
    "## Question 4\n",
    "\n",
    "**Finally, I need not have used a loop and an “if” statement in the function.  How would I rewrite the body of the function in Exercise 2 to use logical indexing?  Note that the function call and function definition line don’t need to be changed.**"
   ]
  },
  {
   "cell_type": "code",
   "execution_count": 4,
   "id": "0db9b68c",
   "metadata": {},
   "outputs": [],
   "source": [
    "# your code here"
   ]
  }
 ],
 "metadata": {
  "jupytext": {
   "formats": "ipynb,md:myst",
   "text_representation": {
    "extension": ".md",
    "format_name": "myst",
    "format_version": 0.13,
    "jupytext_version": "1.11.5"
   }
  },
  "kernelspec": {
   "display_name": "Python 3 (ipykernel)",
   "language": "python",
   "name": "python3"
  },
  "language_info": {
   "codemirror_mode": {
    "name": "ipython",
    "version": 3
   },
   "file_extension": ".py",
   "mimetype": "text/x-python",
   "name": "python",
   "nbconvert_exporter": "python",
   "pygments_lexer": "ipython3",
   "version": "3.8.12"
  },
  "source_map": [
   13,
   25,
   31,
   38,
   46,
   48,
   54,
   56,
   62
  ]
 },
 "nbformat": 4,
 "nbformat_minor": 5
}