{
 "cells": [
  {
   "cell_type": "markdown",
   "id": "40cc7a61",
   "metadata": {},
   "source": [
    "# Dictionaries, F String Literals\n",
    "\n",
    "## EOSC 211\n",
    "\n",
    "**Week 10 Day 1**\n",
    "\n",
    "**Learning Objectives:**  \n",
    "1. ?"
   ]
  },
  {
   "cell_type": "code",
   "execution_count": 1,
   "id": "82569cbc",
   "metadata": {},
   "outputs": [],
   "source": [
    "# placeholder results (not the actual survey)\n",
    "transport = {\n",
    "    \"car\": [14, 2, 3, 4, 2, 15, 30],\n",
    "    \"bus\": [34, 40, 18, 14, 3, 1],\n",
    "    \"bike\": [21, 3, 4, 3, 4],\n",
    "    \"walk\": [14, 30, 40, 1, 2],\n",
    "}"
   ]
  },
  {
   "cell_type": "markdown",
   "id": "aad953f1",
   "metadata": {},
   "source": [
    "## Question 1\n",
    "\n",
    "**`transport` is a dictionary containing the results from the poll in week 2. Write code to compute the following, and print your results using *f string literals*** \n",
    "\n",
    "**(you can import any packages you like. Keep your code succinct and well commented)**\n",
    "\n",
    "**A) The median commuting time for people who drive**"
   ]
  },
  {
   "cell_type": "code",
   "execution_count": 2,
   "id": "7fd634da",
   "metadata": {},
   "outputs": [],
   "source": [
    "# your code here"
   ]
  },
  {
   "cell_type": "markdown",
   "id": "b32a76fe",
   "metadata": {},
   "source": [
    "**B) The number of people who ride bikes to UBC**"
   ]
  },
  {
   "cell_type": "code",
   "execution_count": 3,
   "id": "ddf938e3",
   "metadata": {},
   "outputs": [],
   "source": [
    "# your code here"
   ]
  }
 ],
 "metadata": {
  "jupytext": {
   "formats": "ipynb,md:myst",
   "text_representation": {
    "extension": ".md",
    "format_name": "myst",
    "format_version": 0.13,
    "jupytext_version": "1.13.8"
   }
  },
  "kernelspec": {
   "display_name": "Python 3 (ipykernel)",
   "language": "python",
   "name": "python3"
  },
  "language_info": {
   "codemirror_mode": {
    "name": "ipython",
    "version": 3
   },
   "file_extension": ".py",
   "mimetype": "text/x-python",
   "name": "python",
   "nbconvert_exporter": "python",
   "pygments_lexer": "ipython3",
   "version": "3.9.12"
  },
  "source_map": [
   13,
   24,
   32,
   42,
   44,
   49
  ]
 },
 "nbformat": 4,
 "nbformat_minor": 5
}