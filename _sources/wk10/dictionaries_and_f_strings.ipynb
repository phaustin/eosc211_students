{
 "cells": [
  {
   "cell_type": "markdown",
   "id": "b4be5881",
   "metadata": {},
   "source": [
    "# Dictionaries, F String Literals\n",
    "\n",
    "## EOSC 211\n",
    "\n",
    "**Week 10 Day 1**\n",
    "\n",
    "**Learning Objectives:**  \n",
    "1. ?"
   ]
  },
  {
   "cell_type": "code",
   "execution_count": 1,
   "id": "7e14dc82",
   "metadata": {},
   "outputs": [],
   "source": [
    "# placeholder results (not the actual survey)\n",
    "transport = {\n",
    "    \"car\": [14, 2, 3, 4, 2, 15, 30],\n",
    "    \"bus\": [34, 40, 18, 14, 3, 1],\n",
    "    \"bike\": [21, 3, 4, 3, 4],\n",
    "    \"walk\": [14, 30, 40, 1, 2],\n",
    "}"
   ]
  },
  {
   "cell_type": "markdown",
   "id": "c05b7a34",
   "metadata": {},
   "source": [
    "## Question 1\n",
    "\n",
    "**`transport` is a dictionary containing the results from the poll in week 2. Write code to compute the following, and print your results using *f string literals*** \n",
    "\n",
    "**(you can import any packages you like. Keep your code succinct and well commented)**\n",
    "\n",
    "**A) The median commuting time for people who drive**"
   ]
  },
  {
   "cell_type": "code",
   "execution_count": 2,
   "id": "03441ecf",
   "metadata": {},
   "outputs": [],
   "source": [
    "# your code here"
   ]
  },
  {
   "cell_type": "code",
   "execution_count": 3,
   "id": "2393677a",
   "metadata": {},
   "outputs": [
    {
     "name": "stdout",
     "output_type": "stream",
     "text": [
      "The median commute time for people who drive is 4.0 minutes\n"
     ]
    }
   ],
   "source": [
    "# andrew's soln\n",
    "import numpy as np\n",
    "\n",
    "drivemed = np.median(transport[\"car\"])\n",
    "print(f\"The median commute time for people who drive is {drivemed} minutes\")"
   ]
  },
  {
   "cell_type": "markdown",
   "id": "d8aea0c7",
   "metadata": {},
   "source": [
    "**B) The number of people who ride bikes to UBC**"
   ]
  },
  {
   "cell_type": "code",
   "execution_count": 4,
   "id": "124ce6eb",
   "metadata": {},
   "outputs": [],
   "source": [
    "# your code here"
   ]
  },
  {
   "cell_type": "code",
   "execution_count": 5,
   "id": "ac8e14e5",
   "metadata": {},
   "outputs": [
    {
     "name": "stdout",
     "output_type": "stream",
     "text": [
      "There are 5 cyclists in EOSC211 this semester.\n"
     ]
    }
   ],
   "source": [
    "# andrew's soln\n",
    "cyclists = len(transport[\"bike\"])\n",
    "\n",
    "print(f\"There are {cyclists} cyclists in EOSC211 this semester.\")"
   ]
  },
  {
   "cell_type": "markdown",
   "id": "25d32c2c",
   "metadata": {},
   "source": [
    "## Question 2\n",
    "\n",
    "!!!! no direct translation from matlab. formatted print statements are way less complicated in python."
   ]
  }
 ],
 "metadata": {
  "jupytext": {
   "formats": "ipynb,md:myst",
   "text_representation": {
    "extension": ".md",
    "format_name": "myst",
    "format_version": 0.13,
    "jupytext_version": "1.10.3"
   }
  },
  "kernelspec": {
   "display_name": "Python 3 (ipykernel)",
   "language": "python",
   "name": "python3"
  },
  "language_info": {
   "codemirror_mode": {
    "name": "ipython",
    "version": 3
   },
   "file_extension": ".py",
   "mimetype": "text/x-python",
   "name": "python",
   "nbconvert_exporter": "python",
   "pygments_lexer": "ipython3",
   "version": "3.8.12"
  },
  "source_map": [
   13,
   24,
   32,
   42,
   46,
   52,
   56,
   60,
   65
  ]
 },
 "nbformat": 4,
 "nbformat_minor": 5
}