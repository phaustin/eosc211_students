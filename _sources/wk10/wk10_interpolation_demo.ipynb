{
 "cells": [
  {
   "cell_type": "markdown",
   "id": "37fe98d6",
   "metadata": {},
   "source": [
    "# Week 10:  Interpolation - some examples\n",
    "\n",
    "* see these [interpolation slides](https://www.dropbox.com/s/my7oyehxiu1y214/week10_interpolation.pdf?dl=0) for background.\n",
    "\n",
    "Note: There is also a numpy function that does just linear interpolation: See https://numpy.org/doc/stable/reference/generated/numpy.interp.html\n",
    "\n",
    "## Import Packages"
   ]
  },
  {
   "cell_type": "code",
   "execution_count": 1,
   "id": "6432aa39",
   "metadata": {},
   "outputs": [
    {
     "ename": "ModuleNotFoundError",
     "evalue": "No module named 'scipy'",
     "output_type": "error",
     "traceback": [
      "\u001b[0;31m---------------------------------------------------------------------------\u001b[0m",
      "\u001b[0;31mModuleNotFoundError\u001b[0m                       Traceback (most recent call last)",
      "Input \u001b[0;32mIn [1]\u001b[0m, in \u001b[0;36m<cell line: 3>\u001b[0;34m()\u001b[0m\n\u001b[1;32m      1\u001b[0m \u001b[38;5;66;03m## import the packages I'll need\u001b[39;00m\n\u001b[1;32m      2\u001b[0m \u001b[38;5;28;01mimport\u001b[39;00m \u001b[38;5;21;01mnumpy\u001b[39;00m \u001b[38;5;28;01mas\u001b[39;00m \u001b[38;5;21;01mnp\u001b[39;00m\n\u001b[0;32m----> 3\u001b[0m \u001b[38;5;28;01mfrom\u001b[39;00m \u001b[38;5;21;01mscipy\u001b[39;00m \u001b[38;5;28;01mimport\u001b[39;00m interpolate \n\u001b[1;32m      4\u001b[0m \u001b[38;5;28;01mimport\u001b[39;00m \u001b[38;5;21;01mmatplotlib\u001b[39;00m\u001b[38;5;21;01m.\u001b[39;00m\u001b[38;5;21;01mpyplot\u001b[39;00m \u001b[38;5;28;01mas\u001b[39;00m \u001b[38;5;21;01mplt\u001b[39;00m\n\u001b[1;32m      5\u001b[0m \u001b[38;5;28;01mimport\u001b[39;00m \u001b[38;5;21;01mtime\u001b[39;00m\n",
      "\u001b[0;31mModuleNotFoundError\u001b[0m: No module named 'scipy'"
     ]
    }
   ],
   "source": [
    "## import the packages I'll need\n",
    "import numpy as np\n",
    "from scipy import interpolate \n",
    "import matplotlib.pyplot as plt\n",
    "import time"
   ]
  },
  {
   "cell_type": "markdown",
   "id": "dd336406",
   "metadata": {},
   "source": [
    "### Example #1 from the web page reading"
   ]
  },
  {
   "cell_type": "code",
   "execution_count": 2,
   "id": "373ed20d",
   "metadata": {},
   "outputs": [
    {
     "ename": "NameError",
     "evalue": "name 'plt' is not defined",
     "output_type": "error",
     "traceback": [
      "\u001b[0;31m---------------------------------------------------------------------------\u001b[0m",
      "\u001b[0;31mNameError\u001b[0m                                 Traceback (most recent call last)",
      "Input \u001b[0;32mIn [2]\u001b[0m, in \u001b[0;36m<cell line: 6>\u001b[0;34m()\u001b[0m\n\u001b[1;32m      3\u001b[0m y \u001b[38;5;241m=\u001b[39m np\u001b[38;5;241m.\u001b[39mcos(x\u001b[38;5;241m*\u001b[39m\u001b[38;5;241m*\u001b[39m\u001b[38;5;241m2\u001b[39m\u001b[38;5;241m/\u001b[39m\u001b[38;5;241m3\u001b[39m\u001b[38;5;241m+\u001b[39m\u001b[38;5;241m4\u001b[39m)\n\u001b[1;32m      5\u001b[0m \u001b[38;5;66;03m# make a figure of my synthetic data\u001b[39;00m\n\u001b[0;32m----> 6\u001b[0m \u001b[43mplt\u001b[49m\u001b[38;5;241m.\u001b[39mplot(x, y, \u001b[38;5;124m'\u001b[39m\u001b[38;5;124mo\u001b[39m\u001b[38;5;124m'\u001b[39m)\n",
      "\u001b[0;31mNameError\u001b[0m: name 'plt' is not defined"
     ]
    }
   ],
   "source": [
    "# make synthetic data - a nice smooth function\n",
    "x = np.linspace(0, 4, 12)\n",
    "y = np.cos(x**2/3+4)\n",
    "\n",
    "# make a figure of my synthetic data\n",
    "plt.plot(x, y, 'o');"
   ]
  },
  {
   "cell_type": "code",
   "execution_count": 3,
   "id": "f8d5aa29",
   "metadata": {},
   "outputs": [
    {
     "ename": "NameError",
     "evalue": "name 'interpolate' is not defined",
     "output_type": "error",
     "traceback": [
      "\u001b[0;31m---------------------------------------------------------------------------\u001b[0m",
      "\u001b[0;31mNameError\u001b[0m                                 Traceback (most recent call last)",
      "Input \u001b[0;32mIn [3]\u001b[0m, in \u001b[0;36m<cell line: 2>\u001b[0;34m()\u001b[0m\n\u001b[1;32m      1\u001b[0m \u001b[38;5;66;03m# mess around a bit with basic 1D interpolation methods\u001b[39;00m\n\u001b[0;32m----> 2\u001b[0m f1 \u001b[38;5;241m=\u001b[39m \u001b[43minterpolate\u001b[49m\u001b[38;5;241m.\u001b[39minterp1d(x, y, kind \u001b[38;5;241m=\u001b[39m \u001b[38;5;124m'\u001b[39m\u001b[38;5;124mnearest\u001b[39m\u001b[38;5;124m'\u001b[39m)  \u001b[38;5;66;03m# nearest neighbor\u001b[39;00m\n\u001b[1;32m      4\u001b[0m f2 \u001b[38;5;241m=\u001b[39m interpolate\u001b[38;5;241m.\u001b[39minterp1d(x, y, kind \u001b[38;5;241m=\u001b[39m \u001b[38;5;124m'\u001b[39m\u001b[38;5;124mlinear\u001b[39m\u001b[38;5;124m'\u001b[39m)  \u001b[38;5;66;03m# linear\u001b[39;00m\n\u001b[1;32m      6\u001b[0m f3 \u001b[38;5;241m=\u001b[39m interpolate\u001b[38;5;241m.\u001b[39minterp1d(x, y, kind \u001b[38;5;241m=\u001b[39m \u001b[38;5;124m'\u001b[39m\u001b[38;5;124mcubic\u001b[39m\u001b[38;5;124m'\u001b[39m)  \u001b[38;5;66;03m# cubic\u001b[39;00m\n",
      "\u001b[0;31mNameError\u001b[0m: name 'interpolate' is not defined"
     ]
    }
   ],
   "source": [
    "# mess around a bit with basic 1D interpolation methods\n",
    "f1 = interpolate.interp1d(x, y, kind = 'nearest')  # nearest neighbor\n",
    "\n",
    "f2 = interpolate.interp1d(x, y, kind = 'linear')  # linear\n",
    "\n",
    "f3 = interpolate.interp1d(x, y, kind = 'cubic')  # cubic\n",
    "\n",
    "# evaluate my interpolation function at 80 points not just the original 12 points between x=0.0 and 4.0\n",
    "xnew = np.linspace(0, 4, 80)  \n",
    "\n",
    "# plot original data and my interpolation estimates\n",
    "plt.figure(figsize=(12,6))\n",
    "plt.plot(x, y, 'o', xnew, f1(xnew), 'x-', xnew, f2(xnew), '--', xnew, f3(xnew),'-.')\n",
    "plt.legend(['data', 'nearest', 'linear', 'cubic'], loc = 'best');"
   ]
  },
  {
   "cell_type": "markdown",
   "id": "76a72702",
   "metadata": {},
   "source": [
    "### More detail with Splines - only use these more complex approaches once you have gained some experience / understanding of interpolation\n",
    "\n",
    "To draw smooth curves through data points, drafters once used thin flexible strips of wood, hard rubber, metal or plastic called mechanical splines. To use a mechanical spline, pins were placed at a judicious selection of points along a curve in a design, and then the spline was bent, so that it touched each of these pins. Clearly, with this construction, the spline interpolates the curve at these pins. It can be used to reproduce the curve in other drawings. The points where the pins are located are called knots. We can change the shape of the curve defined by the spline by adjusting the location of the knots.\n",
    "\n",
    "#### Univariate Spline\n",
    "One-dimensional smoothing spline fits a given set of data points.  Following are the parameters of a Univariate Spline. The UnivariateSpline class in scipy.interpolate is a convenient method to create a function, based on fixed data points class `scipy.interpolate.UnivariateSpline(x, y, w = None, bbox = [None, None], k = 3, s = None, ext = 0, check_finite = False).`\n",
    "\n",
    "This fits a spline y = spl(x) of degree k to the provided x, y data. Parameters:\n",
    "\n",
    "    ‘w’ − Specifies the weights for spline fitting. Must be positive. If none (default), weights are all equal.\n",
    "\n",
    "    ‘s’ − Specifies the number of knots by specifying a smoothing condition.\n",
    "\n",
    "    ‘k’ − Degree of the smoothing spline. Must be <= 5. Default is k = 3, a cubic spline.\n",
    "\n",
    "    ext − Controls the extrapolation mode (ext = 0 or ‘extrapolate’, returns the extrapolated value)"
   ]
  },
  {
   "cell_type": "code",
   "execution_count": 4,
   "id": "98f3716f",
   "metadata": {},
   "outputs": [
    {
     "ename": "NameError",
     "evalue": "name 'plt' is not defined",
     "output_type": "error",
     "traceback": [
      "\u001b[0;31m---------------------------------------------------------------------------\u001b[0m",
      "\u001b[0;31mNameError\u001b[0m                                 Traceback (most recent call last)",
      "Input \u001b[0;32mIn [4]\u001b[0m, in \u001b[0;36m<cell line: 5>\u001b[0;34m()\u001b[0m\n\u001b[1;32m      3\u001b[0m x \u001b[38;5;241m=\u001b[39m np\u001b[38;5;241m.\u001b[39mlinspace(\u001b[38;5;241m-\u001b[39m\u001b[38;5;241m3\u001b[39m, \u001b[38;5;241m3\u001b[39m, \u001b[38;5;241m50\u001b[39m)\n\u001b[1;32m      4\u001b[0m y \u001b[38;5;241m=\u001b[39m np\u001b[38;5;241m.\u001b[39mexp(\u001b[38;5;241m-\u001b[39mx\u001b[38;5;241m*\u001b[39m\u001b[38;5;241m*\u001b[39m\u001b[38;5;241m2\u001b[39m) \u001b[38;5;241m+\u001b[39m \u001b[38;5;241m0.1\u001b[39m \u001b[38;5;241m*\u001b[39m np\u001b[38;5;241m.\u001b[39mrandom\u001b[38;5;241m.\u001b[39mrandn(\u001b[38;5;241m50\u001b[39m)\n\u001b[0;32m----> 5\u001b[0m \u001b[43mplt\u001b[49m\u001b[38;5;241m.\u001b[39mplot(x, y, \u001b[38;5;124m'\u001b[39m\u001b[38;5;124mro\u001b[39m\u001b[38;5;124m'\u001b[39m, ms \u001b[38;5;241m=\u001b[39m \u001b[38;5;241m5\u001b[39m)\n\u001b[1;32m      6\u001b[0m plt\u001b[38;5;241m.\u001b[39mtitle(\u001b[38;5;124m'\u001b[39m\u001b[38;5;124mSynthetic Data\u001b[39m\u001b[38;5;124m'\u001b[39m)\n\u001b[1;32m      7\u001b[0m plt\u001b[38;5;241m.\u001b[39mshow()\n",
      "\u001b[0;31mNameError\u001b[0m: name 'plt' is not defined"
     ]
    }
   ],
   "source": [
    "# make a function and add some gaussian random noise, mean 0, variance 1\n",
    "\n",
    "x = np.linspace(-3, 3, 50)\n",
    "y = np.exp(-x**2) + 0.1 * np.random.randn(50)\n",
    "plt.plot(x, y, 'ro', ms = 5)\n",
    "plt.title('Synthetic Data')\n",
    "plt.show()\n",
    "\n",
    "spl = interpolate.UnivariateSpline(x, y)\n",
    "xs = np.linspace(-3, 3, 1000)   # alter the plotting here to go to 3.2\n",
    "\n",
    "plt.plot(x, y, 'ro', ms = 5)\n",
    "h0,=plt.plot(x, y, 'ro', ms = 5, label='raw data')\n",
    "h1,=plt.plot(xs, spl(xs), 'k--', lw = 3, label='default spline')\n",
    "spl.set_smoothing_factor(0.5)  # less smoothing\n",
    "h2,=plt.plot(xs, spl(xs), 'b', lw = 2, label='SF=0.5')\n",
    "spl.set_smoothing_factor(0)    # no smoothing\n",
    "h3,=plt.plot(xs, spl(xs), 'c-.', lw = 2, label='SF=0')\n",
    "plt.legend(handles=[h0,h1,h2,h3])\n",
    "plt.title('Different Smoothing Factors (SF)');"
   ]
  },
  {
   "cell_type": "markdown",
   "id": "77057094",
   "metadata": {},
   "source": [
    "## Example #2: Demos with interp1d - nearest neighbor, linear, cubic"
   ]
  },
  {
   "cell_type": "code",
   "execution_count": 5,
   "id": "5091ec2c",
   "metadata": {},
   "outputs": [
    {
     "ename": "NameError",
     "evalue": "name 'interpolate' is not defined",
     "output_type": "error",
     "traceback": [
      "\u001b[0;31m---------------------------------------------------------------------------\u001b[0m",
      "\u001b[0;31mNameError\u001b[0m                                 Traceback (most recent call last)",
      "Input \u001b[0;32mIn [5]\u001b[0m, in \u001b[0;36m<cell line: 19>\u001b[0;34m()\u001b[0m\n\u001b[1;32m     16\u001b[0m xnew \u001b[38;5;241m=\u001b[39m np\u001b[38;5;241m.\u001b[39marange(xsamp[\u001b[38;5;241m0\u001b[39m],xsamp[\u001b[38;5;241m-\u001b[39m\u001b[38;5;241m1\u001b[39m]\u001b[38;5;241m+\u001b[39m\u001b[38;5;241m2\u001b[39m,\u001b[38;5;241m0.1\u001b[39m)\n\u001b[1;32m     18\u001b[0m \u001b[38;5;66;03m# interpolate using various interpolation choices.\u001b[39;00m\n\u001b[0;32m---> 19\u001b[0m f1 \u001b[38;5;241m=\u001b[39m \u001b[43minterpolate\u001b[49m\u001b[38;5;241m.\u001b[39minterp1d(xsamp, ysamp, kind \u001b[38;5;241m=\u001b[39m \u001b[38;5;124m'\u001b[39m\u001b[38;5;124mnearest\u001b[39m\u001b[38;5;124m'\u001b[39m, fill_value\u001b[38;5;241m=\u001b[39m\u001b[38;5;124m'\u001b[39m\u001b[38;5;124mextrapolate\u001b[39m\u001b[38;5;124m'\u001b[39m)  \u001b[38;5;66;03m# nearest neighbor\u001b[39;00m\n\u001b[1;32m     21\u001b[0m f2 \u001b[38;5;241m=\u001b[39m interpolate\u001b[38;5;241m.\u001b[39minterp1d(xsamp, ysamp, kind \u001b[38;5;241m=\u001b[39m \u001b[38;5;124m'\u001b[39m\u001b[38;5;124mlinear\u001b[39m\u001b[38;5;124m'\u001b[39m, fill_value\u001b[38;5;241m=\u001b[39m\u001b[38;5;124m'\u001b[39m\u001b[38;5;124mextrapolate\u001b[39m\u001b[38;5;124m'\u001b[39m)  \u001b[38;5;66;03m# linear\u001b[39;00m\n\u001b[1;32m     23\u001b[0m f3 \u001b[38;5;241m=\u001b[39m interpolate\u001b[38;5;241m.\u001b[39minterp1d(xsamp, ysamp, kind \u001b[38;5;241m=\u001b[39m \u001b[38;5;124m'\u001b[39m\u001b[38;5;124mcubic\u001b[39m\u001b[38;5;124m'\u001b[39m, fill_value\u001b[38;5;241m=\u001b[39m\u001b[38;5;124m'\u001b[39m\u001b[38;5;124mextrapolate\u001b[39m\u001b[38;5;124m'\u001b[39m)  \u001b[38;5;66;03m# cubic\u001b[39;00m\n",
      "\u001b[0;31mNameError\u001b[0m: name 'interpolate' is not defined"
     ]
    }
   ],
   "source": [
    "# set up my demo function\n",
    "\n",
    "# make a nice smooth function\n",
    "start = 0\n",
    "step = 0.1\n",
    "stop = 9+step\n",
    "x = np.arange(start,stop,step)\n",
    "a = 0.1\n",
    "b = -0.7\n",
    "t = x-2\n",
    "y=a*t**3+b*t**2\n",
    "\n",
    "# sample it unevenly\n",
    "xsamp = np.array([0.3,1.1,3.5,3.9,5.8,8.0])\n",
    "ysamp = a*(xsamp-2)**3+b*(xsamp-2)**2\n",
    "xnew = np.arange(xsamp[0],xsamp[-1]+2,0.1)\n",
    "\n",
    "# interpolate using various interpolation choices.\n",
    "f1 = interpolate.interp1d(xsamp, ysamp, kind = 'nearest', fill_value='extrapolate')  # nearest neighbor\n",
    "\n",
    "f2 = interpolate.interp1d(xsamp, ysamp, kind = 'linear', fill_value='extrapolate')  # linear\n",
    "\n",
    "f3 = interpolate.interp1d(xsamp, ysamp, kind = 'cubic', fill_value='extrapolate')  # cubic\n",
    "\n",
    "#f4 = interpolate.UnivariateSpline(xsamp, ysamp)\n",
    "#f4.set_smoothing_factor(0.5)  # less smoothing\n",
    "\n",
    "# plot original data and my interpolation estimates\n",
    "plt.figure(figsize=(12,6))\n",
    "plt.plot(x, y, 'k--', lw=3)\n",
    "plt.plot(xsamp, ysamp, 'o', ms = 15, label='raw data');"
   ]
  },
  {
   "cell_type": "code",
   "execution_count": 6,
   "id": "29e614fd",
   "metadata": {},
   "outputs": [
    {
     "ename": "NameError",
     "evalue": "name 'plt' is not defined",
     "output_type": "error",
     "traceback": [
      "\u001b[0;31m---------------------------------------------------------------------------\u001b[0m",
      "\u001b[0;31mNameError\u001b[0m                                 Traceback (most recent call last)",
      "Input \u001b[0;32mIn [6]\u001b[0m, in \u001b[0;36m<cell line: 2>\u001b[0;34m()\u001b[0m\n\u001b[1;32m      1\u001b[0m \u001b[38;5;66;03m# plot original data and my interpolation estimates\u001b[39;00m\n\u001b[0;32m----> 2\u001b[0m \u001b[43mplt\u001b[49m\u001b[38;5;241m.\u001b[39mfigure(figsize\u001b[38;5;241m=\u001b[39m(\u001b[38;5;241m12\u001b[39m,\u001b[38;5;241m6\u001b[39m))\n\u001b[1;32m      3\u001b[0m plt\u001b[38;5;241m.\u001b[39mplot(x, y, \u001b[38;5;124m'\u001b[39m\u001b[38;5;124mk--\u001b[39m\u001b[38;5;124m'\u001b[39m, lw\u001b[38;5;241m=\u001b[39m\u001b[38;5;241m1\u001b[39m)\n\u001b[1;32m      4\u001b[0m plt\u001b[38;5;241m.\u001b[39mplot(xsamp, ysamp, \u001b[38;5;124m'\u001b[39m\u001b[38;5;124mo\u001b[39m\u001b[38;5;124m'\u001b[39m, ms \u001b[38;5;241m=\u001b[39m \u001b[38;5;241m15\u001b[39m, label\u001b[38;5;241m=\u001b[39m\u001b[38;5;124m'\u001b[39m\u001b[38;5;124mraw data\u001b[39m\u001b[38;5;124m'\u001b[39m)\n",
      "\u001b[0;31mNameError\u001b[0m: name 'plt' is not defined"
     ]
    }
   ],
   "source": [
    "# plot original data and my interpolation estimates\n",
    "plt.figure(figsize=(12,6))\n",
    "plt.plot(x, y, 'k--', lw=1)\n",
    "plt.plot(xsamp, ysamp, 'o', ms = 15, label='raw data')\n",
    "plt.plot(xnew, f1(xnew), 'x-', lw=1)\n",
    "plt.legend(['original','data', 'nearest'], loc = 'best');"
   ]
  },
  {
   "cell_type": "code",
   "execution_count": 7,
   "id": "39071d37",
   "metadata": {},
   "outputs": [
    {
     "ename": "NameError",
     "evalue": "name 'plt' is not defined",
     "output_type": "error",
     "traceback": [
      "\u001b[0;31m---------------------------------------------------------------------------\u001b[0m",
      "\u001b[0;31mNameError\u001b[0m                                 Traceback (most recent call last)",
      "Input \u001b[0;32mIn [7]\u001b[0m, in \u001b[0;36m<cell line: 2>\u001b[0;34m()\u001b[0m\n\u001b[1;32m      1\u001b[0m \u001b[38;5;66;03m# plot original data and my interpolation estimates\u001b[39;00m\n\u001b[0;32m----> 2\u001b[0m \u001b[43mplt\u001b[49m\u001b[38;5;241m.\u001b[39mfigure(figsize\u001b[38;5;241m=\u001b[39m(\u001b[38;5;241m12\u001b[39m,\u001b[38;5;241m6\u001b[39m))\n\u001b[1;32m      3\u001b[0m plt\u001b[38;5;241m.\u001b[39mplot(x, y, \u001b[38;5;124m'\u001b[39m\u001b[38;5;124mk--\u001b[39m\u001b[38;5;124m'\u001b[39m, lw\u001b[38;5;241m=\u001b[39m\u001b[38;5;241m1\u001b[39m)\n\u001b[1;32m      4\u001b[0m plt\u001b[38;5;241m.\u001b[39mplot(xsamp, ysamp, \u001b[38;5;124m'\u001b[39m\u001b[38;5;124mo\u001b[39m\u001b[38;5;124m'\u001b[39m, ms \u001b[38;5;241m=\u001b[39m \u001b[38;5;241m15\u001b[39m, label\u001b[38;5;241m=\u001b[39m\u001b[38;5;124m'\u001b[39m\u001b[38;5;124mraw data\u001b[39m\u001b[38;5;124m'\u001b[39m)\n",
      "\u001b[0;31mNameError\u001b[0m: name 'plt' is not defined"
     ]
    }
   ],
   "source": [
    "# plot original data and my interpolation estimates\n",
    "plt.figure(figsize=(12,6))\n",
    "plt.plot(x, y, 'k--', lw=1)\n",
    "plt.plot(xsamp, ysamp, 'o', ms = 15, label='raw data')\n",
    "plt.plot(xnew, f1(xnew), 'x-')\n",
    "plt.plot(xnew, f2(xnew), 'x--')\n",
    "plt.legend(['original','data', 'nearest', 'linear'], loc = 'best');"
   ]
  },
  {
   "cell_type": "code",
   "execution_count": 8,
   "id": "e1b3f1cc",
   "metadata": {},
   "outputs": [
    {
     "ename": "NameError",
     "evalue": "name 'plt' is not defined",
     "output_type": "error",
     "traceback": [
      "\u001b[0;31m---------------------------------------------------------------------------\u001b[0m",
      "\u001b[0;31mNameError\u001b[0m                                 Traceback (most recent call last)",
      "Input \u001b[0;32mIn [8]\u001b[0m, in \u001b[0;36m<cell line: 1>\u001b[0;34m()\u001b[0m\n\u001b[0;32m----> 1\u001b[0m \u001b[43mplt\u001b[49m\u001b[38;5;241m.\u001b[39mfigure(figsize\u001b[38;5;241m=\u001b[39m(\u001b[38;5;241m12\u001b[39m,\u001b[38;5;241m6\u001b[39m))\n\u001b[1;32m      2\u001b[0m plt\u001b[38;5;241m.\u001b[39mplot(x, y, \u001b[38;5;124m'\u001b[39m\u001b[38;5;124mk-\u001b[39m\u001b[38;5;124m'\u001b[39m, lw\u001b[38;5;241m=\u001b[39m\u001b[38;5;241m1\u001b[39m)\n\u001b[1;32m      3\u001b[0m plt\u001b[38;5;241m.\u001b[39mplot(xsamp, ysamp, \u001b[38;5;124m'\u001b[39m\u001b[38;5;124mo\u001b[39m\u001b[38;5;124m'\u001b[39m, ms \u001b[38;5;241m=\u001b[39m \u001b[38;5;241m15\u001b[39m, label\u001b[38;5;241m=\u001b[39m\u001b[38;5;124m'\u001b[39m\u001b[38;5;124mraw data\u001b[39m\u001b[38;5;124m'\u001b[39m)\n",
      "\u001b[0;31mNameError\u001b[0m: name 'plt' is not defined"
     ]
    }
   ],
   "source": [
    "plt.figure(figsize=(12,6))\n",
    "plt.plot(x, y, 'k-', lw=1)\n",
    "plt.plot(xsamp, ysamp, 'o', ms = 15, label='raw data')\n",
    "plt.plot(xnew, f1(xnew))\n",
    "plt.plot(xnew, f2(xnew), 'x--')\n",
    "plt.show\n",
    "plt.plot(xnew, f3(xnew),'x-.')\n",
    "plt.legend(['original','data', 'nearest', 'linear', 'cubic'], loc = 'best');"
   ]
  },
  {
   "cell_type": "markdown",
   "id": "f768662d",
   "metadata": {},
   "source": [
    "## What can go wrong?  Example #3 - overshoot"
   ]
  },
  {
   "cell_type": "code",
   "execution_count": 9,
   "id": "643dccb0",
   "metadata": {},
   "outputs": [
    {
     "ename": "NameError",
     "evalue": "name 'interpolate' is not defined",
     "output_type": "error",
     "traceback": [
      "\u001b[0;31m---------------------------------------------------------------------------\u001b[0m",
      "\u001b[0;31mNameError\u001b[0m                                 Traceback (most recent call last)",
      "Input \u001b[0;32mIn [9]\u001b[0m, in \u001b[0;36m<cell line: 8>\u001b[0;34m()\u001b[0m\n\u001b[1;32m      5\u001b[0m xnew \u001b[38;5;241m=\u001b[39m np\u001b[38;5;241m.\u001b[39marange(\u001b[38;5;241m-\u001b[39m\u001b[38;5;241m2.2\u001b[39m,\u001b[38;5;241m2.2\u001b[39m,\u001b[38;5;241m0.01\u001b[39m)    \u001b[38;5;66;03m# interpolate onto finer sampling interval; \u001b[39;00m\n\u001b[1;32m      7\u001b[0m \u001b[38;5;66;03m# interpolate using various interpolation choices.\u001b[39;00m\n\u001b[0;32m----> 8\u001b[0m f2 \u001b[38;5;241m=\u001b[39m \u001b[43minterpolate\u001b[49m\u001b[38;5;241m.\u001b[39minterp1d(x, y, kind \u001b[38;5;241m=\u001b[39m \u001b[38;5;124m'\u001b[39m\u001b[38;5;124mlinear\u001b[39m\u001b[38;5;124m'\u001b[39m, fill_value\u001b[38;5;241m=\u001b[39m\u001b[38;5;124m'\u001b[39m\u001b[38;5;124mextrapolate\u001b[39m\u001b[38;5;124m'\u001b[39m)  \u001b[38;5;66;03m# linear\u001b[39;00m\n\u001b[1;32m      9\u001b[0m f3 \u001b[38;5;241m=\u001b[39m interpolate\u001b[38;5;241m.\u001b[39minterp1d(x, y, kind \u001b[38;5;241m=\u001b[39m \u001b[38;5;124m'\u001b[39m\u001b[38;5;124mcubic\u001b[39m\u001b[38;5;124m'\u001b[39m, fill_value\u001b[38;5;241m=\u001b[39m\u001b[38;5;124m'\u001b[39m\u001b[38;5;124mextrapolate\u001b[39m\u001b[38;5;124m'\u001b[39m)  \u001b[38;5;66;03m# cubic\u001b[39;00m\n\u001b[1;32m     11\u001b[0m plt\u001b[38;5;241m.\u001b[39mfigure(figsize\u001b[38;5;241m=\u001b[39m(\u001b[38;5;241m12\u001b[39m,\u001b[38;5;241m6\u001b[39m))\n",
      "\u001b[0;31mNameError\u001b[0m: name 'interpolate' is not defined"
     ]
    }
   ],
   "source": [
    "x = np.arange(-2,2.1,0.2)\n",
    "y = np.zeros_like(x)\n",
    "y[x<0] = -1\n",
    "y[x>0] = 1\n",
    "xnew = np.arange(-2.2,2.2,0.01)    # interpolate onto finer sampling interval; \n",
    "\n",
    "# interpolate using various interpolation choices.\n",
    "f2 = interpolate.interp1d(x, y, kind = 'linear', fill_value='extrapolate')  # linear\n",
    "f3 = interpolate.interp1d(x, y, kind = 'cubic', fill_value='extrapolate')  # cubic\n",
    "\n",
    "plt.figure(figsize=(12,6))\n",
    "plt.plot(x, y, 'k-', lw=1)\n",
    "plt.plot(x, y, 'o', ms = 5, label='raw data')\n",
    "plt.plot(xnew, f2(xnew), '--')\n",
    "plt.show\n",
    "plt.plot(xnew, f3(xnew),'-.')\n",
    "plt.legend(['original','data','linear', 'cubic'], loc = 'best');"
   ]
  },
  {
   "cell_type": "markdown",
   "id": "662e0a5f",
   "metadata": {},
   "source": [
    "## What can go wrong? Example #4 - extrapolation issues"
   ]
  },
  {
   "cell_type": "code",
   "execution_count": 10,
   "id": "98fbebfb",
   "metadata": {},
   "outputs": [
    {
     "ename": "NameError",
     "evalue": "name 'interpolate' is not defined",
     "output_type": "error",
     "traceback": [
      "\u001b[0;31m---------------------------------------------------------------------------\u001b[0m",
      "\u001b[0;31mNameError\u001b[0m                                 Traceback (most recent call last)",
      "Input \u001b[0;32mIn [10]\u001b[0m, in \u001b[0;36m<cell line: 8>\u001b[0;34m()\u001b[0m\n\u001b[1;32m      5\u001b[0m xnew \u001b[38;5;241m=\u001b[39m np\u001b[38;5;241m.\u001b[39marange(\u001b[38;5;241m-\u001b[39m\u001b[38;5;241m3\u001b[39m,\u001b[38;5;241m3\u001b[39m,\u001b[38;5;241m0.01\u001b[39m)    \u001b[38;5;66;03m# interpolate onto finer sampling interval; \u001b[39;00m\n\u001b[1;32m      7\u001b[0m \u001b[38;5;66;03m# interpolate using various interpolation choices.\u001b[39;00m\n\u001b[0;32m----> 8\u001b[0m f2 \u001b[38;5;241m=\u001b[39m \u001b[43minterpolate\u001b[49m\u001b[38;5;241m.\u001b[39minterp1d(x, y, kind \u001b[38;5;241m=\u001b[39m \u001b[38;5;124m'\u001b[39m\u001b[38;5;124mlinear\u001b[39m\u001b[38;5;124m'\u001b[39m, fill_value\u001b[38;5;241m=\u001b[39m\u001b[38;5;124m'\u001b[39m\u001b[38;5;124mextrapolate\u001b[39m\u001b[38;5;124m'\u001b[39m)  \u001b[38;5;66;03m# linear\u001b[39;00m\n\u001b[1;32m      9\u001b[0m f3 \u001b[38;5;241m=\u001b[39m interpolate\u001b[38;5;241m.\u001b[39minterp1d(x, y, kind \u001b[38;5;241m=\u001b[39m \u001b[38;5;124m'\u001b[39m\u001b[38;5;124mcubic\u001b[39m\u001b[38;5;124m'\u001b[39m, fill_value\u001b[38;5;241m=\u001b[39m\u001b[38;5;124m'\u001b[39m\u001b[38;5;124mextrapolate\u001b[39m\u001b[38;5;124m'\u001b[39m)  \u001b[38;5;66;03m# cubic\u001b[39;00m\n\u001b[1;32m     11\u001b[0m plt\u001b[38;5;241m.\u001b[39mfigure(figsize\u001b[38;5;241m=\u001b[39m(\u001b[38;5;241m12\u001b[39m,\u001b[38;5;241m6\u001b[39m))\n",
      "\u001b[0;31mNameError\u001b[0m: name 'interpolate' is not defined"
     ]
    }
   ],
   "source": [
    "x = np.arange(-2,2.1,0.5)\n",
    "y = np.zeros_like(x)\n",
    "y[x<0] = -1\n",
    "y[x>0] = 1\n",
    "xnew = np.arange(-3,3,0.01)    # interpolate onto finer sampling interval; \n",
    "\n",
    "# interpolate using various interpolation choices.\n",
    "f2 = interpolate.interp1d(x, y, kind = 'linear', fill_value='extrapolate')  # linear\n",
    "f3 = interpolate.interp1d(x, y, kind = 'cubic', fill_value='extrapolate')  # cubic\n",
    "\n",
    "plt.figure(figsize=(12,6))\n",
    "plt.plot(x, y, 'k-', lw=1)\n",
    "plt.plot(x, y, 'o', ms = 5, label='raw data')\n",
    "plt.plot(xnew, f2(xnew), '--')\n",
    "plt.show\n",
    "plt.plot(xnew, f3(xnew),'-.')\n",
    "plt.legend(['original','data','linear', 'cubic'], loc = 'best');"
   ]
  }
 ],
 "metadata": {
  "jupytext": {
   "cell_metadata_filter": "-all",
   "notebook_metadata_filter": "all,-language_info,-toc,-latex_envs",
   "text_representation": {
    "extension": ".md",
    "format_name": "myst",
    "format_version": 0.13,
    "jupytext_version": "1.13.8"
   }
  },
  "kernelspec": {
   "display_name": "Python 3 (ipykernel)",
   "language": "python",
   "name": "python3"
  },
  "language_info": {
   "codemirror_mode": {
    "name": "ipython",
    "version": 3
   },
   "file_extension": ".py",
   "mimetype": "text/x-python",
   "name": "python",
   "nbconvert_exporter": "python",
   "pygments_lexer": "ipython3",
   "version": "3.9.12"
  },
  "source_map": [
   14,
   24,
   30,
   34,
   43,
   58,
   77,
   98,
   102,
   136,
   145,
   155,
   164,
   168,
   186,
   190
  ]
 },
 "nbformat": 4,
 "nbformat_minor": 5
}