{
 "cells": [
  {
   "cell_type": "markdown",
   "id": "8eea6ab0",
   "metadata": {},
   "source": [
    "# Week 10:  Interpolation - some examples\n",
    "\n",
    "* see these [interpolation slides](https://www.dropbox.com/s/my7oyehxiu1y214/week10_interpolation.pdf?dl=0) for background.\n",
    "\n",
    "Note: There is also a numpy function that does just linear interpolation: See https://numpy.org/doc/stable/reference/generated/numpy.interp.html\n",
    "\n",
    "## Import Packages"
   ]
  },
  {
   "cell_type": "code",
   "execution_count": null,
   "id": "5a4fdcf0",
   "metadata": {},
   "outputs": [],
   "source": [
    "## import the packages I'll need\n",
    "import numpy as np\n",
    "from scipy import interpolate \n",
    "import matplotlib.pyplot as plt\n",
    "import time"
   ]
  },
  {
   "cell_type": "markdown",
   "id": "aa2770b9",
   "metadata": {},
   "source": [
    "### Example #1 from the web page reading"
   ]
  },
  {
   "cell_type": "code",
   "execution_count": null,
   "id": "8ff6b8e8",
   "metadata": {
    "lines_to_next_cell": 2
   },
   "outputs": [],
   "source": [
    "# make synthetic data - a nice smooth function\n",
    "x = np.linspace(0, 4, 12)\n",
    "y = np.cos(x**2/3+4)\n",
    "\n",
    "# make a figure of my synthetic data\n",
    "plt.plot(x, y, 'o');"
   ]
  },
  {
   "cell_type": "code",
   "execution_count": null,
   "id": "8e99c322",
   "metadata": {
    "lines_to_next_cell": 0
   },
   "outputs": [],
   "source": [
    "# mess around a bit with basic 1D interpolation methods\n",
    "f1 = interpolate.interp1d(x, y, kind = 'nearest')  # nearest neighbor\n",
    "\n",
    "f2 = interpolate.interp1d(x, y, kind = 'linear')  # linear\n",
    "\n",
    "f3 = interpolate.interp1d(x, y, kind = 'cubic')  # cubic\n",
    "\n",
    "# evaluate my interpolation function at 80 points not just the original 12 points between x=0.0 and 4.0\n",
    "xnew = np.linspace(0, 4, 80)  \n",
    "\n",
    "# plot original data and my interpolation estimates\n",
    "plt.figure(figsize=(12,6))\n",
    "plt.plot(x, y, 'o', xnew, f1(xnew), 'x-', xnew, f2(xnew), '--', xnew, f3(xnew),'-.')\n",
    "plt.legend(['data', 'nearest', 'linear', 'cubic'], loc = 'best');"
   ]
  },
  {
   "cell_type": "markdown",
   "id": "2c80aa62",
   "metadata": {
    "lines_to_next_cell": 0
   },
   "source": [
    "### More detail with Splines - only use these more complex approaches once you have gained some experience / understanding of interpolation\n",
    "\n",
    "To draw smooth curves through data points, drafters once used thin flexible strips of wood, hard rubber, metal or plastic called mechanical splines. To use a mechanical spline, pins were placed at a judicious selection of points along a curve in a design, and then the spline was bent, so that it touched each of these pins. Clearly, with this construction, the spline interpolates the curve at these pins. It can be used to reproduce the curve in other drawings. The points where the pins are located are called knots. We can change the shape of the curve defined by the spline by adjusting the location of the knots.\n",
    "\n",
    "#### Univariate Spline\n",
    "One-dimensional smoothing spline fits a given set of data points.  Following are the parameters of a Univariate Spline. The UnivariateSpline class in scipy.interpolate is a convenient method to create a function, based on fixed data points class `scipy.interpolate.UnivariateSpline(x, y, w = None, bbox = [None, None], k = 3, s = None, ext = 0, check_finite = False).`\n",
    "\n",
    "This fits a spline y = spl(x) of degree k to the provided x, y data. Parameters:\n",
    "\n",
    "    ‘w’ − Specifies the weights for spline fitting. Must be positive. If none (default), weights are all equal.\n",
    "\n",
    "    ‘s’ − Specifies the number of knots by specifying a smoothing condition.\n",
    "\n",
    "    ‘k’ − Degree of the smoothing spline. Must be <= 5. Default is k = 3, a cubic spline.\n",
    "\n",
    "    ext − Controls the extrapolation mode (ext = 0 or ‘extrapolate’, returns the extrapolated value)"
   ]
  },
  {
   "cell_type": "code",
   "execution_count": null,
   "id": "1a6e10e8",
   "metadata": {
    "lines_to_next_cell": 0
   },
   "outputs": [],
   "source": [
    "# make a function and add some gaussian random noise, mean 0, variance 1\n",
    "\n",
    "x = np.linspace(-3, 3, 50)\n",
    "y = np.exp(-x**2) + 0.1 * np.random.randn(50)\n",
    "plt.plot(x, y, 'ro', ms = 5)\n",
    "plt.title('Synthetic Data')\n",
    "plt.show()\n",
    "\n",
    "spl = interpolate.UnivariateSpline(x, y)\n",
    "xs = np.linspace(-3, 3, 1000)   # alter the plotting here to go to 3.2\n",
    "\n",
    "plt.plot(x, y, 'ro', ms = 5)\n",
    "h0,=plt.plot(x, y, 'ro', ms = 5, label='raw data')\n",
    "h1,=plt.plot(xs, spl(xs), 'k--', lw = 3, label='default spline')\n",
    "spl.set_smoothing_factor(0.5)  # less smoothing\n",
    "h2,=plt.plot(xs, spl(xs), 'b', lw = 2, label='SF=0.5')\n",
    "spl.set_smoothing_factor(0)    # no smoothing\n",
    "h3,=plt.plot(xs, spl(xs), 'c-.', lw = 2, label='SF=0')\n",
    "plt.legend(handles=[h0,h1,h2,h3])\n",
    "plt.title('Different Smoothing Factors (SF)');"
   ]
  },
  {
   "cell_type": "markdown",
   "id": "2063996b",
   "metadata": {},
   "source": [
    "## Example #2: Demos with interp1d - nearest neighbor, linear, cubic"
   ]
  },
  {
   "cell_type": "code",
   "execution_count": null,
   "id": "f987bcbb",
   "metadata": {
    "lines_to_next_cell": 0
   },
   "outputs": [],
   "source": [
    "# set up my demo function\n",
    "\n",
    "# make a nice smooth function\n",
    "start = 0\n",
    "step = 0.1\n",
    "stop = 9+step\n",
    "x = np.arange(start,stop,step)\n",
    "a = 0.1\n",
    "b = -0.7\n",
    "t = x-2\n",
    "y=a*t**3+b*t**2\n",
    "\n",
    "# sample it unevenly\n",
    "xsamp = np.array([0.3,1.1,3.5,3.9,5.8,8.0])\n",
    "ysamp = a*(xsamp-2)**3+b*(xsamp-2)**2\n",
    "xnew = np.arange(xsamp[0],xsamp[-1]+2,0.1)\n",
    "\n",
    "# interpolate using various interpolation choices.\n",
    "f1 = interpolate.interp1d(xsamp, ysamp, kind = 'nearest', fill_value='extrapolate')  # nearest neighbor\n",
    "\n",
    "f2 = interpolate.interp1d(xsamp, ysamp, kind = 'linear', fill_value='extrapolate')  # linear\n",
    "\n",
    "f3 = interpolate.interp1d(xsamp, ysamp, kind = 'cubic', fill_value='extrapolate')  # cubic\n",
    "\n",
    "#f4 = interpolate.UnivariateSpline(xsamp, ysamp)\n",
    "#f4.set_smoothing_factor(0.5)  # less smoothing\n",
    "\n",
    "# plot original data and my interpolation estimates\n",
    "plt.figure(figsize=(12,6))\n",
    "plt.plot(x, y, 'k--', lw=3)\n",
    "plt.plot(xsamp, ysamp, 'o', ms = 15, label='raw data');"
   ]
  },
  {
   "cell_type": "code",
   "execution_count": null,
   "id": "b59e86e8",
   "metadata": {
    "lines_to_next_cell": 0
   },
   "outputs": [],
   "source": [
    "# plot original data and my interpolation estimates\n",
    "plt.figure(figsize=(12,6))\n",
    "plt.plot(x, y, 'k--', lw=1)\n",
    "plt.plot(xsamp, ysamp, 'o', ms = 15, label='raw data')\n",
    "plt.plot(xnew, f1(xnew), 'x-', lw=1)\n",
    "plt.legend(['original','data', 'nearest'], loc = 'best');"
   ]
  },
  {
   "cell_type": "code",
   "execution_count": null,
   "id": "2f6ecf36",
   "metadata": {
    "lines_to_next_cell": 0
   },
   "outputs": [],
   "source": [
    "# plot original data and my interpolation estimates\n",
    "plt.figure(figsize=(12,6))\n",
    "plt.plot(x, y, 'k--', lw=1)\n",
    "plt.plot(xsamp, ysamp, 'o', ms = 15, label='raw data')\n",
    "plt.plot(xnew, f1(xnew), 'x-')\n",
    "plt.plot(xnew, f2(xnew), 'x--')\n",
    "plt.legend(['original','data', 'nearest', 'linear'], loc = 'best');"
   ]
  },
  {
   "cell_type": "code",
   "execution_count": null,
   "id": "ee830cd9",
   "metadata": {
    "lines_to_next_cell": 0
   },
   "outputs": [],
   "source": [
    "plt.figure(figsize=(12,6))\n",
    "plt.plot(x, y, 'k-', lw=1)\n",
    "plt.plot(xsamp, ysamp, 'o', ms = 15, label='raw data')\n",
    "plt.plot(xnew, f1(xnew))\n",
    "plt.plot(xnew, f2(xnew), 'x--')\n",
    "plt.show\n",
    "plt.plot(xnew, f3(xnew),'x-.')\n",
    "plt.legend(['original','data', 'nearest', 'linear', 'cubic'], loc = 'best');"
   ]
  },
  {
   "cell_type": "markdown",
   "id": "7cdf503a",
   "metadata": {},
   "source": [
    "## What can go wrong?  Example #3 - overshoot"
   ]
  },
  {
   "cell_type": "code",
   "execution_count": null,
   "id": "31e664f2",
   "metadata": {
    "lines_to_next_cell": 0
   },
   "outputs": [],
   "source": [
    "x = np.arange(-2,2.1,0.2)\n",
    "y = np.zeros_like(x)\n",
    "y[x<0] = -1\n",
    "y[x>0] = 1\n",
    "xnew = np.arange(-2.2,2.2,0.01)    # interpolate onto finer sampling interval; \n",
    "\n",
    "# interpolate using various interpolation choices.\n",
    "f2 = interpolate.interp1d(x, y, kind = 'linear', fill_value='extrapolate')  # linear\n",
    "f3 = interpolate.interp1d(x, y, kind = 'cubic', fill_value='extrapolate')  # cubic\n",
    "\n",
    "plt.figure(figsize=(12,6))\n",
    "plt.plot(x, y, 'k-', lw=1)\n",
    "plt.plot(x, y, 'o', ms = 5, label='raw data')\n",
    "plt.plot(xnew, f2(xnew), '--')\n",
    "plt.show\n",
    "plt.plot(xnew, f3(xnew),'-.')\n",
    "plt.legend(['original','data','linear', 'cubic'], loc = 'best');"
   ]
  },
  {
   "cell_type": "markdown",
   "id": "a2d5f8cb",
   "metadata": {},
   "source": [
    "## What can go wrong? Example #4 - extrapolation issues"
   ]
  },
  {
   "cell_type": "code",
   "execution_count": null,
   "id": "86aac5ac",
   "metadata": {
    "lines_to_next_cell": 0
   },
   "outputs": [],
   "source": [
    "x = np.arange(-2,2.1,0.5)\n",
    "y = np.zeros_like(x)\n",
    "y[x<0] = -1\n",
    "y[x>0] = 1\n",
    "xnew = np.arange(-3,3,0.01)    # interpolate onto finer sampling interval; \n",
    "\n",
    "# interpolate using various interpolation choices.\n",
    "f2 = interpolate.interp1d(x, y, kind = 'linear', fill_value='extrapolate')  # linear\n",
    "f3 = interpolate.interp1d(x, y, kind = 'cubic', fill_value='extrapolate')  # cubic\n",
    "\n",
    "plt.figure(figsize=(12,6))\n",
    "plt.plot(x, y, 'k-', lw=1)\n",
    "plt.plot(x, y, 'o', ms = 5, label='raw data')\n",
    "plt.plot(xnew, f2(xnew), '--')\n",
    "plt.show\n",
    "plt.plot(xnew, f3(xnew),'-.')\n",
    "plt.legend(['original','data','linear', 'cubic'], loc = 'best');"
   ]
  }
 ],
 "metadata": {
  "jupytext": {
   "cell_metadata_filter": "-all",
   "notebook_metadata_filter": "all,-language_info,-toc,-latex_envs",
   "text_representation": {
    "extension": ".md",
    "format_name": "myst",
    "format_version": 0.13,
    "jupytext_version": "1.11.5"
   }
  },
  "kernelspec": {
   "display_name": "Python 3 (ipykernel)",
   "language": "python",
   "name": "python3"
  },
  "source_map": [
   14,
   24,
   32,
   36,
   48,
   69,
   90,
   114,
   118,
   155,
   167,
   180,
   192,
   196,
   217,
   221
  ]
 },
 "nbformat": 4,
 "nbformat_minor": 5
}