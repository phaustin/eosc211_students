{
 "cells": [
  {
   "cell_type": "markdown",
   "id": "fa67e4d1",
   "metadata": {},
   "source": [
    "## Week 10 Quiz Solution:  Practice with Dictionaries and Functions"
   ]
  },
  {
   "cell_type": "markdown",
   "id": "fc4ea898",
   "metadata": {
    "tags": []
   },
   "source": [
    "### Code tracing\n",
    "\n",
    "The function and calling cell below contain code to get some info on commuting data provided by students.  For each mode of transportation there is a time in minutes provided by each student that is their commute time to or from school.\n",
    "\n",
    "The function is missing some helpful explanation as to what it does and what it returns.\n",
    "\n",
    "In words what is returned by the function and what is/are the data types of any output variable(s)?\n",
    "\n",
    "What would get printed to the screen by the print command in the second cell after the function has been run? (include any numbers)."
   ]
  },
  {
   "cell_type": "code",
   "execution_count": null,
   "id": "d93d22fb",
   "metadata": {},
   "outputs": [],
   "source": [
    "import numpy as np\n",
    "\n",
    "def get_commute_stats(*commute_modes,transport=None):\n",
    "    \"\"\"\n",
    "    INPUTS:  modes: comma separated list of one or more of the modes\n",
    "                     \"car\", \"bus\", \"bike\", \"walk\"\n",
    "             transport:  dictionary containing transportation mode and \n",
    "             associated commute times for people who use this mode    \n",
    "    \n",
    "    OUTPUTS:  \n",
    "    \"\"\"\n",
    "\n",
    "    var_out={}\n",
    "    for the_mode in commute_modes:\n",
    "        a1 = len(transport[the_mode])\n",
    "        a2 = np.min(transport[the_mode])\n",
    "        a3 = np.max(transport[the_mode])\n",
    "        var_out[the_mode] = [a1,a2,a3,]\n",
    "        \n",
    "    return var_out"
   ]
  },
  {
   "cell_type": "code",
   "execution_count": null,
   "id": "c6935961",
   "metadata": {},
   "outputs": [],
   "source": [
    "# placeholder results (not the actual survey)\n",
    "commute2021 = {\n",
    "    \"car\": [14, 2, 3, 4, 2, 15, 30],\n",
    "    \"bus\": [34, 40, 18, 14, 3, 1],\n",
    "    \"bike\": [21, 3, 4, 3, 4],\n",
    "    \"walk\": [14, 30, 40, 1, 2],\n",
    "}\n",
    "\n",
    "\n",
    "output=get_commute_stats(\"bike\",\"car\",\"walk\", transport=commute2021)\n",
    "print(output)"
   ]
  },
  {
   "cell_type": "markdown",
   "id": "d92cb6aa",
   "metadata": {},
   "source": [
    "### Solution\n",
    "\n",
    "output: dictionary containing # of people and the min, max times for each commute mode.\n",
    "\n",
    "```python\n",
    "{'bike': [5, 3, 21], 'car': [7, 2, 30], 'walk': [5, 1, 40]}\n",
    "```"
   ]
  }
 ],
 "metadata": {
  "jupytext": {
   "formats": "ipynb,md:myst",
   "notebook_metadata_filter": "all,-language_info,-toc,-latex_envs",
   "text_representation": {
    "extension": ".md",
    "format_name": "myst",
    "format_version": 0.13,
    "jupytext_version": "1.11.5"
   }
  },
  "kernelspec": {
   "display_name": "Python 3",
   "language": "python",
   "name": "python3"
  },
  "source_map": [
   14,
   18,
   30,
   53,
   65
  ]
 },
 "nbformat": 4,
 "nbformat_minor": 5
}