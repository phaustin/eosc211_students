{
 "cells": [
  {
   "cell_type": "markdown",
   "id": "e2495402",
   "metadata": {},
   "source": [
    "- **Name:**\n",
    "- **Student number:**"
   ]
  },
  {
   "cell_type": "markdown",
   "id": "d99db1da",
   "metadata": {},
   "source": [
    "**Instructions**:  The five items on this page show the python code in individual cells in a  jupyter notebook.  For each of the five, write down what the cell would display if you ran it."
   ]
  },
  {
   "cell_type": "markdown",
   "id": "0ef5bdc4",
   "metadata": {},
   "source": [
    "# Week 3 quiz\n",
    "\n",
    "## numpy arrays\n",
    "\n",
    "* Q1)\n",
    "\n",
    "\n",
    "      the_list=[4,7,10]\n",
    "      the_list*2\n",
    "\n",
    "$~~~~~~~~~$"
   ]
  },
  {
   "cell_type": "markdown",
   "id": "67980b23",
   "metadata": {},
   "source": [
    "* Q2)\n",
    "\n",
    "      import numpy as np\n",
    "      the_list=np.array([4,7,10])\n",
    "      the_list*2"
   ]
  },
  {
   "cell_type": "markdown",
   "id": "29f2afb5",
   "metadata": {},
   "source": [
    "* Q3)\n",
    "\n",
    "       a=np.array([[1,2,3],[4,5,6],[7,8,9]])\n",
    "       a[1,:]"
   ]
  },
  {
   "cell_type": "markdown",
   "id": "e4a56b60",
   "metadata": {},
   "source": [
    "* Q4)\n",
    "\n",
    "\n",
    "       a=np.array([[1,2,3],[4,5,6],[7,8,9]])\n",
    "       a[:,1]=9\n",
    "       a"
   ]
  },
  {
   "cell_type": "markdown",
   "id": "65b698b2",
   "metadata": {},
   "source": [
    "* Q5) \n",
    "\n",
    "       a=np.array([[1,2,3],[4,5,6],[7,8,9]])\n",
    "       b = -a\n",
    "       a[:,1]=b[2,:]\n",
    "       a"
   ]
  }
 ],
 "metadata": {
  "celltoolbar": "Create Assignment",
  "jupytext": {
   "cell_metadata_filter": "all",
   "formats": "ipynb,md:myst",
   "notebook_metadata_filter": "all",
   "text_representation": {
    "extension": ".md",
    "format_name": "myst",
    "format_version": 0.13,
    "jupytext_version": "1.10.3"
   }
  },
  "kernelspec": {
   "display_name": "Python 3 (ipykernel)",
   "language": "python",
   "name": "python3"
  },
  "language_info": {
   "codemirror_mode": {
    "name": "ipython",
    "version": 3
   },
   "file_extension": ".py",
   "mimetype": "text/x-python",
   "name": "python",
   "nbconvert_exporter": "python",
   "pygments_lexer": "ipython3",
   "version": "3.8.0"
  },
  "nbsphinx": {
   "execute": "never"
  },
  "source_map": [
   44,
   49,
   53,
   67,
   75,
   82,
   91
  ],
  "toc": {
   "base_numbering": 1,
   "nav_menu": {},
   "number_sections": true,
   "sideBar": true,
   "skip_h1_title": false,
   "title_cell": "Table of Contents",
   "title_sidebar": "Contents",
   "toc_cell": true,
   "toc_position": {
    "height": "calc(100% - 180px)",
    "left": "10px",
    "top": "150px",
    "width": "182px"
   },
   "toc_section_display": true,
   "toc_window_display": true
  }
 },
 "nbformat": 4,
 "nbformat_minor": 5
}