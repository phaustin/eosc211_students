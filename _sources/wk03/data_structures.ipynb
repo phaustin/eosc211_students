{
 "cells": [
  {
   "cell_type": "markdown",
   "id": "408d36fe",
   "metadata": {},
   "source": [
    "# Data Structures\n",
    "\n",
    "## EOSC 211\n",
    "\n",
    "**Week 3**\n",
    "\n",
    "**Learning Objectives:**  \n",
    "1. Introduce numpy arrays\n",
    "2. Use some of numpy's built in functions to generate arrays efficiently\n",
    "2. Use slicing to access and change elements of an array \n",
    "\n",
    "Useful references:\n",
    "\n",
    "[Course Reading on Numpy Arrays](https://phaustin.github.io/Problem-Solving-with-Python/NumPy-and-Arrays/Introduction.html)\n",
    "\n",
    "[Numpy Documentation](https://numpy.org/doc/stable/reference/generated/numpy.array.html)"
   ]
  },
  {
   "cell_type": "code",
   "execution_count": 1,
   "id": "e794af0f",
   "metadata": {},
   "outputs": [],
   "source": [
    "# import the numpy package - an extension of python's core built in functions\n",
    "import numpy as np"
   ]
  },
  {
   "cell_type": "markdown",
   "id": "7934fda2",
   "metadata": {},
   "source": [
    "### Question 1: Generating Arrays\n",
    "\n",
    "Some built-in functions (functions that come with the numpy package) which may be useful:\n",
    "\n",
    "```python\n",
    "    np.arange()\n",
    "    np.zeros()\n",
    "    np.ones_like()\n",
    "    np.linspace()\n",
    "    my_array.shape\n",
    "    my_array.T\n",
    "```\n",
    "    \n",
    "There are several correct ways to do each of these; some strategies are better than others. Have a look at the [numpy documentation](https://numpy.org/doc/stable/reference/generated/numpy.array.html) for help using numpy's built in functions\n",
    "\n",
    "**A) Represent the following vector as a numpy array called `var1`**\n",
    "\n",
    "$$\n",
    "(1.1, 2.2, 3.3, 4.4, 5.5) \n",
    "$$"
   ]
  },
  {
   "cell_type": "code",
   "execution_count": 2,
   "id": "6b75fb69",
   "metadata": {},
   "outputs": [],
   "source": [
    "# your code here"
   ]
  },
  {
   "cell_type": "markdown",
   "id": "4f616428",
   "metadata": {},
   "source": [
    "**B) Create a numpy array called `var2` with numbers 0 to 10**"
   ]
  },
  {
   "cell_type": "code",
   "execution_count": 3,
   "id": "f08e5335",
   "metadata": {},
   "outputs": [],
   "source": [
    "# your code here"
   ]
  },
  {
   "cell_type": "markdown",
   "id": "d75d90d3",
   "metadata": {},
   "source": [
    "**C) Create a numpy array called `var3` containing all odd numbers (in order) from 0 to 1000**"
   ]
  },
  {
   "cell_type": "code",
   "execution_count": 4,
   "id": "6829ee47",
   "metadata": {},
   "outputs": [],
   "source": [
    "# your code here"
   ]
  },
  {
   "cell_type": "markdown",
   "id": "7dbc049e",
   "metadata": {},
   "source": [
    "**D) Represent the following matrix as a numpy array called `var4`**\n",
    "\n",
    "$$\n",
    "\\begin{pmatrix}\n",
    "1 & 1 \\\\\n",
    "2 & 3 \\\\\n",
    "5 & 8\n",
    "\\end{pmatrix}\n",
    "$$"
   ]
  },
  {
   "cell_type": "code",
   "execution_count": 5,
   "id": "9ebf9bd7",
   "metadata": {},
   "outputs": [],
   "source": [
    "# your code here"
   ]
  },
  {
   "cell_type": "markdown",
   "id": "23485607",
   "metadata": {},
   "source": [
    "**E) Is `var4` a 2 x 3 array or a 3 x 2?**"
   ]
  },
  {
   "cell_type": "code",
   "execution_count": 6,
   "id": "52233f87",
   "metadata": {},
   "outputs": [],
   "source": [
    "# your code here"
   ]
  },
  {
   "cell_type": "markdown",
   "id": "40c89871",
   "metadata": {},
   "source": [
    "**F) Make an array called `var5` that looks like this. (hint: you shouldn't have to type it all out)** \n",
    "\n",
    "$$\n",
    "\\begin{pmatrix}\n",
    "1 & 2 & 5\\\\\n",
    "1 & 3 & 8\\\\\n",
    "\\end{pmatrix}\n",
    "$$"
   ]
  },
  {
   "cell_type": "code",
   "execution_count": 7,
   "id": "ba8deeb6",
   "metadata": {},
   "outputs": [],
   "source": [
    "# your code here"
   ]
  },
  {
   "cell_type": "markdown",
   "id": "98574e13",
   "metadata": {},
   "source": [
    "**G) Create an array called `var6` with 10 rows and 5 columns where all elements are zero**"
   ]
  },
  {
   "cell_type": "code",
   "execution_count": 8,
   "id": "e7ca8424",
   "metadata": {},
   "outputs": [],
   "source": [
    "# your code here"
   ]
  },
  {
   "cell_type": "markdown",
   "id": "227f4980",
   "metadata": {},
   "source": [
    "**H) Create an array called `var7` that has 5 rows and 10 columns where all elements are the number 1**"
   ]
  },
  {
   "cell_type": "code",
   "execution_count": 9,
   "id": "bfb00090",
   "metadata": {},
   "outputs": [],
   "source": [
    "# your code here"
   ]
  },
  {
   "cell_type": "markdown",
   "id": "e0753171",
   "metadata": {},
   "source": [
    "## Question 2: Array Slicing\n",
    "\n",
    "**A) Use slicing to get the 3rd element in `var1`. REMEMBER that in Python we count starting from zero, so the first element of an array would look like `my_array[0]`**"
   ]
  },
  {
   "cell_type": "code",
   "execution_count": 10,
   "id": "02dfde5f",
   "metadata": {},
   "outputs": [],
   "source": [
    "# your code here"
   ]
  },
  {
   "cell_type": "markdown",
   "id": "2425d8e3",
   "metadata": {},
   "source": [
    "**B) The 2nd, 3rd, and 4th elements of `var1`**"
   ]
  },
  {
   "cell_type": "code",
   "execution_count": 11,
   "id": "b2acef85",
   "metadata": {},
   "outputs": [],
   "source": [
    "# your code here"
   ]
  },
  {
   "cell_type": "markdown",
   "id": "1779b41a",
   "metadata": {},
   "source": [
    "**C) The last 20 elements in `var3`**"
   ]
  },
  {
   "cell_type": "code",
   "execution_count": 12,
   "id": "bcec10f5",
   "metadata": {},
   "outputs": [],
   "source": [
    "# your code here"
   ]
  },
  {
   "cell_type": "markdown",
   "id": "3531a707",
   "metadata": {},
   "source": [
    "**D) The element in the third row and second column of `var4`**"
   ]
  },
  {
   "cell_type": "code",
   "execution_count": 13,
   "id": "32d225a8",
   "metadata": {},
   "outputs": [],
   "source": [
    "# your code here"
   ]
  },
  {
   "cell_type": "markdown",
   "id": "a32cf5c1",
   "metadata": {},
   "source": [
    "**E) The last column of `var5`**"
   ]
  },
  {
   "cell_type": "code",
   "execution_count": 14,
   "id": "6368c3f0",
   "metadata": {},
   "outputs": [],
   "source": [
    "# your code here"
   ]
  }
 ],
 "metadata": {
  "jupytext": {
   "formats": "ipynb,md:myst",
   "text_representation": {
    "extension": ".md",
    "format_name": "myst",
    "format_version": 0.13,
    "jupytext_version": "1.10.3"
   }
  },
  "kernelspec": {
   "display_name": "Python 3 (ipykernel)",
   "language": "python",
   "name": "python3"
  },
  "language_info": {
   "codemirror_mode": {
    "name": "ipython",
    "version": 3
   },
   "file_extension": ".py",
   "mimetype": "text/x-python",
   "name": "python",
   "nbconvert_exporter": "python",
   "pygments_lexer": "ipython3",
   "version": "3.8.12"
  },
  "source_map": [
   13,
   32,
   35,
   58,
   60,
   64,
   66,
   70,
   72,
   84,
   86,
   90,
   92,
   103,
   105,
   109,
   111,
   115,
   117,
   123,
   125,
   129,
   131,
   135,
   137,
   141,
   143,
   147
  ]
 },
 "nbformat": 4,
 "nbformat_minor": 5
}