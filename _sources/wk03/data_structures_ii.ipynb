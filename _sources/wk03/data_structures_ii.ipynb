{
 "cells": [
  {
   "cell_type": "markdown",
   "id": "bb88f39b",
   "metadata": {},
   "source": [
    "# Data Structures II\n",
    "\n",
    "## EOSC 211\n",
    "\n",
    "**Week 3 Day 2**\n",
    "\n",
    "**Learning Objectives:**  \n",
    "1. Get more experience with Numpy arrays\n",
    "2. Use built in functions to write efficient, *Pythonic* code"
   ]
  },
  {
   "cell_type": "code",
   "execution_count": 1,
   "id": "e5f7defe",
   "metadata": {},
   "outputs": [],
   "source": [
    "import numpy as np"
   ]
  },
  {
   "cell_type": "markdown",
   "id": "0061d012",
   "metadata": {},
   "source": [
    "## Question 1\n",
    "\n",
    "**A) Execute the following cells and describe IN WORDS what is happening in each cell**"
   ]
  },
  {
   "cell_type": "code",
   "execution_count": 2,
   "id": "942c7b7a",
   "metadata": {},
   "outputs": [],
   "source": [
    "lats = np.arange(1,21)\n",
    "lats = np.arange(10,16)"
   ]
  },
  {
   "cell_type": "code",
   "execution_count": 3,
   "id": "8ee90310",
   "metadata": {},
   "outputs": [],
   "source": [
    "L2 = np.array([lats[2], lats[4]])"
   ]
  },
  {
   "cell_type": "code",
   "execution_count": 4,
   "id": "47aeda13",
   "metadata": {},
   "outputs": [],
   "source": [
    "L3 = np.array([lats[-1], lats[0]])"
   ]
  },
  {
   "cell_type": "code",
   "execution_count": 5,
   "id": "05a7cfe2",
   "metadata": {},
   "outputs": [],
   "source": [
    "L4 = lats[lats > 13]"
   ]
  },
  {
   "cell_type": "code",
   "execution_count": 6,
   "id": "fd3bdd5b",
   "metadata": {},
   "outputs": [],
   "source": [
    "L5 = lats[lats >= 13]"
   ]
  },
  {
   "cell_type": "code",
   "execution_count": 7,
   "id": "1cf64d21",
   "metadata": {},
   "outputs": [],
   "source": [
    "L6 = lats[::-1]"
   ]
  },
  {
   "cell_type": "code",
   "execution_count": 8,
   "id": "283da8a4",
   "metadata": {},
   "outputs": [],
   "source": [
    "L7 = lats[-1]\n",
    "L7 = lats[4]\n",
    "L7 = lats[len(lats)-1]"
   ]
  },
  {
   "cell_type": "markdown",
   "id": "ea006159",
   "metadata": {},
   "source": [
    "## Question 2\n",
    "\n",
    "**A) We can change the shape of our `lats` array with numpy's built in funciton `reshape()`. What does the following code do?**"
   ]
  },
  {
   "cell_type": "code",
   "execution_count": 9,
   "id": "734a5b21",
   "metadata": {},
   "outputs": [],
   "source": [
    "newlats = lats.reshape([2,3])"
   ]
  },
  {
   "cell_type": "markdown",
   "id": "892dcc31",
   "metadata": {},
   "source": [
    "**B) What are all the possible shapes we can reassign to `lats`? Why do some work and others not**"
   ]
  },
  {
   "cell_type": "markdown",
   "id": "77157862",
   "metadata": {},
   "source": [
    "**C) We can return `lats` to it's original shape using `flatten()`, i.e.**"
   ]
  },
  {
   "cell_type": "code",
   "execution_count": 10,
   "id": "897a672f",
   "metadata": {},
   "outputs": [
    {
     "data": {
      "text/plain": [
       "array([10, 11, 12, 13, 14, 15])"
      ]
     },
     "execution_count": 10,
     "metadata": {},
     "output_type": "execute_result"
    }
   ],
   "source": [
    "lats = newlats.flatten()\n",
    "lats"
   ]
  },
  {
   "cell_type": "markdown",
   "id": "3208376e",
   "metadata": {},
   "source": [
    "**How else could you accomplish this? Write code in the following cell that outputs the same result starting with any of the `newlats` shapes we used above**"
   ]
  },
  {
   "cell_type": "code",
   "execution_count": 11,
   "id": "b2229bc7",
   "metadata": {},
   "outputs": [],
   "source": [
    "# your code here"
   ]
  },
  {
   "cell_type": "markdown",
   "id": "c8fb6e10",
   "metadata": {},
   "source": [
    "## Question 3\n",
    "\n",
    "**Along with `+`, `-`, `*`, `/`, python also defines the *floor division operator* `//` and the *modulo operator* `%`. Floor division (`//`) outputs the *quotient* of two integers, and modulo (`%`) outputs the remainder. Example code:**"
   ]
  },
  {
   "cell_type": "code",
   "execution_count": 12,
   "id": "2f5af6e4",
   "metadata": {},
   "outputs": [
    {
     "data": {
      "text/plain": [
       "2"
      ]
     },
     "execution_count": 12,
     "metadata": {},
     "output_type": "execute_result"
    }
   ],
   "source": [
    "5 // 2"
   ]
  },
  {
   "cell_type": "code",
   "execution_count": 13,
   "id": "70acce0e",
   "metadata": {},
   "outputs": [
    {
     "data": {
      "text/plain": [
       "1"
      ]
     },
     "execution_count": 13,
     "metadata": {},
     "output_type": "execute_result"
    }
   ],
   "source": [
    "5 % 2"
   ]
  },
  {
   "cell_type": "markdown",
   "id": "7c690906",
   "metadata": {},
   "source": [
    "**Write a few lines of code that will create the array `B`, which contains only the even valued elements of an array `A`. You don't know the size of `A` but you do know it contains only integers.**"
   ]
  },
  {
   "cell_type": "code",
   "execution_count": 14,
   "id": "2b57fee8",
   "metadata": {},
   "outputs": [],
   "source": [
    "# your code here"
   ]
  }
 ],
 "metadata": {
  "jupytext": {
   "formats": "ipynb,md:myst",
   "text_representation": {
    "extension": ".md",
    "format_name": "myst",
    "format_version": 0.13,
    "jupytext_version": "1.10.3"
   }
  },
  "kernelspec": {
   "display_name": "Python 3 (ipykernel)",
   "language": "python",
   "name": "python3"
  },
  "language_info": {
   "codemirror_mode": {
    "name": "ipython",
    "version": 3
   },
   "file_extension": ".py",
   "mimetype": "text/x-python",
   "name": "python",
   "nbconvert_exporter": "python",
   "pygments_lexer": "ipython3",
   "version": "3.8.0"
  },
  "source_map": [
   13,
   25,
   27,
   33,
   38,
   42,
   46,
   50,
   54,
   58,
   62,
   68,
   70,
   74,
   78,
   81,
   85,
   87,
   93,
   97,
   99,
   103
  ]
 },
 "nbformat": 4,
 "nbformat_minor": 5
}