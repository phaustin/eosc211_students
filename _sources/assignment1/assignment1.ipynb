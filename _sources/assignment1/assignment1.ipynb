{
 "cells": [
  {
   "cell_type": "code",
   "execution_count": 1,
   "id": "b3810dba",
   "metadata": {},
   "outputs": [],
   "source": [
    "import numpy as np\n",
    "import matplotlib.pyplot as plt\n",
    "from datetime import datetime"
   ]
  },
  {
   "cell_type": "markdown",
   "id": "3cc12bb8",
   "metadata": {},
   "source": [
    "# Assignment 1 -- CO2/temperature"
   ]
  },
  {
   "cell_type": "markdown",
   "id": "6667ecd2",
   "metadata": {},
   "source": [
    "## Objective 1 - Obtain, Scrub, and Plot Temperature and CO2 Records From 1958 to 2016\n",
    "\n",
    "This assignment is about analyzing two data sets that comprise a major part of the global warming discussion: **(1)** global land-ocean\n",
    "temperature anomalies from 1880 to 2016 that show evidence for an increase in global temperatures, and **(2)** a\n",
    "classic record from Mauna Loa, Hawaii, that tracks the global trend in atmospheric CO2 from 1958 to 2021. The location where these measurements were taken is important; since Mauna Loa is very isolated in the middle of the Pacific Ocean and far away from any local pollutant (CO2) sources, it is reasonable to take these measurements as representative of the global average concentration.\n",
    "We will address the question of the time intervals needed to clearly pick out trends in these two records that cannot\n",
    "be accounted for by seasonal (or other) variations. This kind of issue is at the heart of many discussions in science.\n",
    "For anyone wanting to to a deep dive (optional), the CO2 records are discussed at http://scrippsco2.ucsd.edu/data/atmospheric_co2/. A good discussion of global temperature trends (and their cause) on annual and decadal timescales is: http://data.giss.nasa.gov/gistemp/ and a summary of the temperature data and analyses can be found in the \"Background and History\" links on that page.\n",
    "\n",
    "### Learning Objectives\n",
    "\n",
    "* Work with data as you would find it \"in the wild\" -- no help from e211 functions this time\n",
    "\n",
    "* Recycle code from previous assignments, modifying it to suit a new purpose\n",
    "\n",
    "* Use functions effectively to avoid repeating code\n",
    "\n",
    "* Use your own code to process real data, then - based on that statistical work - draw some important scientific conclusions and identify some limitations of those conclusions\n",
    "\n",
    "\n",
    "### 1) Get the Raw Temperature and CO2 Data and Plot it from 1958 to 2016\n",
    "\n",
    "In the same folder as this assignment, there is a file called `temperature_1880_2016.dat`. This file contains monthly averaged temperature data from 1880 to 2016. This time, there is no handy `e211.getthedata()` function for reading the datesets into Python, you will have to write them yourself.  Write 2 functions: `get_co2()`, `get_temps()`, that take in the names of the datasets to load and return numpy arrays. The outputs of each function should look something like the following:\n",
    "\n",
    "A) For `get_temps()`: Monthly temperature anomaly between April 1958 and September 2016, e.g.\n",
    "\n",
    "```\n",
    "temp = array([1.1750e-01,  1.0690e-01,  ...,  8.8980e-01,  8.6150e-01, 8.9660e-01,  8.8690e-01])\n",
    "```\n",
    "\n",
    "B) For `get_co2()`: Monthly Mauna Loa CO2 values from 1880 to 2021.  Get the data with gaps filled but *not* seasonally adjusted (see first hint below).\n",
    "\n",
    "```\n",
    "CO2 = array([317.45, 317.5 , 317.24,  ..., 404.5 , 402.24, 401.01])\n",
    "```\n",
    "\n",
    "For both functions: An array containing the dates of each measurement, to be used for labelling plots\n",
    "\n",
    "```\n",
    "date = array([datetime.datetime(1880, 4, 15, 0, 0), datetime.datetime(1880, 2, 15, 0, 0), ...,\n",
    "              datetime.datetime(2016, 7, 15, 0, 0), datetime.datetime(2016, 8, 15, 0, 0)], dtype=object)\n",
    "       \n",
    "```\n",
    "\n",
    "In addition, write another function called `combine_datasets()` that takes in a start date, end date, and the datasets, and outputs arrays which only span the specified time interval (so you only need one `date` array). Include statements to check for valid inputs as you see fit.\n",
    "\n",
    "Note that all of your functions written for this assignment should work when called with code like that given in our example `main` function toward the end of this write-up, so make sure to organize your function inputs and outputs accordingly.\n",
    "\n",
    "#### Helpful Hints\n",
    "\n",
    "* It may be useful to open each raw dataset in an editor (plain text, excel, etc.) to examine the included *metadata*, which explains what each column represents (especially for (B)). Take a look at e.g. the CO2 file to make sure you are reading in the column requested above and also to notice what value has clearly been assigned to missing data. \n",
    "\n",
    "* To parse new file types with Python, start by typing \"*convert .dat file to numpy array*\" into your favorite search engine. There are many, many helpful functions and tutorials available for pretty much any data type. \n",
    "\n",
    "* This assignment is meant to incorporate many of the skills from previous labs/worksheets. Recycling previous code is highly encouraged! (Be sure to credit source if you are recycling code that isn't yours - use comments throughout your code)\n",
    "\n",
    "* Oftentimes, data scrubbing is the most laborious part of a scientific study. Taking the extra time and doing a good job here will make Part 2 much easier. For example, the CO2 record has some missing values at the beginning and end that you probably want to ditch so as to avoid having to always check for these and not plot them. \n",
    "\n",
    "* It's always a good idea to check that any data ingestion has gone as expected by making a plot and/or printing a few values to the screen.  For example, if you plot your CO2 data (excluding data flagged as 'missing') after calling your `get_co2()` function but before calling the `combine_datasets()`, you should get a plot that looks like the one you can find here https://scrippsco2.ucsd.edu/graphics_gallery/mauna_loa_record/mauna_loa_record.html\n",
    "---\n",
    "\n",
    "### To Hand In For Part 1\n",
    "\n",
    "- Code: your 3 functions: `get_temps()`, `get_co2()`, and `combine_datasets()`.  See instructions in the what to turn in for Part 2 section for how to organize these.\n",
    "\n",
    "- A scientific figure of the raw data over the period **April 1958 - September 2016**. Your figure should contain two subplots, the upper one showing temperature records and the bottom one CO2, both as functions of time with monthly resolution."
   ]
  },
  {
   "cell_type": "code",
   "execution_count": 2,
   "id": "ed101875",
   "metadata": {},
   "outputs": [],
   "source": [
    "# your get_temps(filename) here"
   ]
  },
  {
   "cell_type": "code",
   "execution_count": 3,
   "id": "a1618ab4",
   "metadata": {},
   "outputs": [],
   "source": [
    "# your get_co2(filename) here"
   ]
  },
  {
   "cell_type": "markdown",
   "id": "2894573c",
   "metadata": {},
   "source": [
    "``` python\n",
    "# test it\n",
    "fname_temp = './temperature_1880_2016.dat'\n",
    "fname_co2 = './monthly_in_situ_co2_mlo.csv'\n",
    "tdata, ttime = get_temps(fname_temp)\n",
    "co2data, co2time = get_co2(fname_co2)\n",
    "\n",
    "isel = co2data > 0\n",
    "plt.plot(co2time[isel],co2data[isel])\n",
    "plt.xlabel('year')\n",
    "plt.ylabel('CO2 concentration (ppm)');\n",
    "```"
   ]
  },
  {
   "cell_type": "code",
   "execution_count": 4,
   "id": "d16700d2",
   "metadata": {},
   "outputs": [],
   "source": [
    "# your combine_datasets(temp_in, date_temp, co2_in, date_co2, date_min, date_max) here\n",
    "\n",
    "#In addition, write another function called combine_datasets() that takes in a \n",
    "#start date, end date, and the datasets, and outputs arrays which only span the \n",
    "#specified time interval (so you only need one date array). \n",
    "#Include statements to check for valid inputs as you see fit."
   ]
  },
  {
   "cell_type": "markdown",
   "id": "4fb756c3",
   "metadata": {},
   "source": [
    "``` python\n",
    "# define our user inputs here\n",
    "date_min = datetime(1960,1,15)\n",
    "date_max = datetime(2016,1,15)\n",
    "\n",
    "# call all the functions to do the analysis (this will turn into \"main()\" later)\n",
    "temp_raw, date_tdata = get_temps(\"temperature_1880_2016.dat\")\n",
    "co2_raw, date_co2 = get_co2(\"monthly_in_situ_co2_mlo.csv\")\n",
    "temp, CO2, date = combine_datasets(temp_raw, date_tdata, co2_raw, date_co2, date_min, date_max)\n",
    "```"
   ]
  },
  {
   "cell_type": "code",
   "execution_count": 5,
   "id": "dd7db47f",
   "metadata": {},
   "outputs": [],
   "source": [
    "# your Part 1 figure here"
   ]
  },
  {
   "cell_type": "markdown",
   "id": "5a789f86",
   "metadata": {},
   "source": [
    "## Objective 2 - Statistics and Analysis\n",
    "\n",
    "Suppose I make the following claim:\n",
    "\n",
    ">*Although on the whole, CO2 and temperature appear to be increasing, there are many years, or even several decades where global temperature drops in which CO2 increases -- therefore temperature and CO2 must not be as tightly linked as climate alarmists say they are (look at 1990-1994, or 2010-2014). Furthermore, the overall temperature anomaly is very small (the whole range is 1.4$^o$C) and the data is highly variable. Therefore, these claims made by the climate alarmists are probably over-exaggerated.*\n",
    "\n",
    "To support or refute this claim, let's first go back to our data and run some analysis to back up our answer. Implement your running mean function from the week 8 lab to filter the data (good thing we made it work for *any* dataset!). In addition, we would like some way to quantify the variability within the averaged data over a particular time period, to provide a *confidence interval* when looking for trends. A good way to do this is to take the *standard deviation* within the window, given by:\n",
    "\n",
    "$$\n",
    "\\sigma = \\sqrt{\\frac{{\\sum_{i}^{N} (x_i - \\bar{x})^2}}{N}}\n",
    "$$\n",
    "\n",
    "where $x_i$ is the value at each point $i$, $\\bar{x}$ the mean within the window and $N$ is the length of the window.\n",
    "\n",
    "Define an additional function similar to your running mean called `running_std()`, that computes the standard deviation of the data within each window. In your function you can implement the equation above or use the built-in `np.std()`. \n",
    "\n",
    "Once you have the mean and standard deviation functions working (test them!), write one more function `do_plot()` that allows you to plot your results by writing a single line of code, such as in the example below. Your plot should include two subplots, one each for temperature and CO2 and should show the raw data, the running mean and the running mean +/- 1 standard deviation. (*HINT: modify your plot from part 1 and wrap it in a function. The plot function should output a figure to the screen and return `None`*). \n",
    "\n",
    "We will use a `main()` function (defined for you below) to run the whole analysis over different time periods and window lengths, and come up with a well-supported answer to the claim above."
   ]
  },
  {
   "cell_type": "code",
   "execution_count": 6,
   "id": "d0529fe8",
   "metadata": {},
   "outputs": [],
   "source": [
    "# your running_mean(data, winlen) here"
   ]
  },
  {
   "cell_type": "code",
   "execution_count": 7,
   "id": "35a5f3e1",
   "metadata": {},
   "outputs": [],
   "source": [
    "# your running_std(data, winlen)  here"
   ]
  },
  {
   "cell_type": "code",
   "execution_count": 8,
   "id": "3a0550d8",
   "metadata": {},
   "outputs": [],
   "source": [
    "# your do_plot(temp,temp_mean, temp_std, CO2, CO2_mean, CO2_std, dates)  here"
   ]
  },
  {
   "cell_type": "markdown",
   "id": "eba592ee",
   "metadata": {},
   "source": [
    "``` python\n",
    "def main(date_min, date_max, window_len):\n",
    "    \"\"\"\n",
    "    main function that performs the analysis for EOSC 211, assignment 1\n",
    "\n",
    "        IN: date_min, date_max (datetime obj) -- the beginning and end of the analysis period\n",
    "            window_len -- the length of the window (int, months) with which to filter data\n",
    "                          and calculate the running standard deviation\n",
    "\n",
    "        OUT: a plot showing global temperature anomaly (oC) and CO2 concentration (ppm) at\n",
    "             Mauna Loa Observatory, Hawaii, USA\n",
    "    \"\"\"\n",
    "    # get the raw data\n",
    "    temp_raw, date_tdata = get_temps(\"temperature_1880_2016.dat\")\n",
    "    CO2_raw, date_co2 = get_co2(\"monthly_in_situ_co2_mlo.csv\")\n",
    "\n",
    "    # combine and truncate the data sets\n",
    "    temp, CO2, date = combine_datasets(\n",
    "        temp_raw, date_tdata, CO2_raw, date_co2, date_min, date_max\n",
    "    )\n",
    "    \n",
    "    # filter the data and get the standard deviations\n",
    "    temp_mn = running_mean(temp, window_len)\n",
    "    temp_sd = running_std(temp, window_len)\n",
    "    CO2_mn = running_mean(CO2, window_len)\n",
    "    CO2_sd = running_std(CO2, window_len)\n",
    "\n",
    "    # make a pretty plot\n",
    "    do_plot(temp,temp_mn, temp_sd, CO2, CO2_mn, CO2_sd, date)\n",
    "    \n",
    "    return None\n",
    "```"
   ]
  },
  {
   "cell_type": "markdown",
   "id": "8e16198a",
   "metadata": {},
   "source": [
    "### Analysis Questions\n",
    "\n",
    "<img src=\"lin_trends.PNG\">\n",
    "\n",
    "**1)** Now that we can quickly produce and present the filtered data, its time to answer the question at hand. Pick a 10 year period over which the temperature is decreasing and plot it with filter lengths 1 month (i.e. no filter), 11 months, 61 months, and 121 months. If you've written the functions correctly, you should be able to create each plot with a *single line of code!* \n",
    "\n",
    "As you increase the filter length, what happens to the apparent trend in the data? What happens to the spread?"
   ]
  },
  {
   "cell_type": "code",
   "execution_count": 9,
   "id": "be5861c2",
   "metadata": {},
   "outputs": [],
   "source": [
    "# your code here"
   ]
  },
  {
   "cell_type": "markdown",
   "id": "e5109d22",
   "metadata": {},
   "source": [
    "**2)** Now plot the whole dataset (1968-2016) with a 120 month filter. Within the data spread, how sure are you about the trend?"
   ]
  },
  {
   "cell_type": "code",
   "execution_count": 10,
   "id": "06cda791",
   "metadata": {},
   "outputs": [],
   "source": [
    "# your code here"
   ]
  },
  {
   "cell_type": "markdown",
   "id": "0242694b",
   "metadata": {},
   "source": [
    "### To Hand in Part 2\n",
    "\n",
    "- Copy your 6 functions `get_temps()`, `get_co2()`, `combine_datasets()`, `running_mean()`, `running_std()` and `do_plot()` into a separate notebook, one function per cell. Do not add anything of you testing scripts to that notebook, and make sure your functions are 'clean': i.e., they don't produce unecessary output (e.g. via print statements that you might have included during testing).  Don't include any markdown cells, only code cells. Call Download this notebook as .py, called it `a1_functions.py` and upload it to Canvas.\n",
    "\n",
    "- 5 figures as described above, varying the window size\n",
    "\n",
    "- Maximum 2 paragraphs / 0.5 page of text (12 pt font maximum) analyzing your results. What are the timescales of variations in global temperature measurements? How would you **quantitatively** answer the claim that temperature is varying independently of CO2?  Check that you think your answer would still be valid if you were to choose a different 10-year interval.   Make sure that anything you write here is a result based on your data."
   ]
  },
  {
   "cell_type": "markdown",
   "id": "ee504abb",
   "metadata": {},
   "source": [
    "``` python\n",
    "# 8 plots with 6 lines of code. How neat is that??\n",
    "date_min = datetime(1994, 1, 15)\n",
    "date_max = datetime(2004, 1, 15)\n",
    "main(date_min, date_max, 1)\n",
    "main(date_min, date_max, 11)\n",
    "main(date_min, date_max, 61)\n",
    "main(date_min, date_max, 121)\n",
    "```"
   ]
  },
  {
   "cell_type": "markdown",
   "id": "723f779f",
   "metadata": {},
   "source": [
    "## your analysis here"
   ]
  }
 ],
 "metadata": {
  "jupytext": {
   "formats": "ipynb,md:myst",
   "text_representation": {
    "extension": ".md",
    "format_name": "myst",
    "format_version": 0.13,
    "jupytext_version": "1.11.5"
   }
  },
  "kernelspec": {
   "display_name": "Python 3 (ipykernel)",
   "language": "python",
   "name": "python3"
  },
  "language_info": {
   "codemirror_mode": {
    "name": "ipython",
    "version": 3
   },
   "file_extension": ".py",
   "mimetype": "text/x-python",
   "name": "python",
   "nbconvert_exporter": "python",
   "pygments_lexer": "ipython3",
   "version": "3.8.12"
  },
  "source_map": [
   15,
   21,
   25,
   94,
   100,
   104,
   119,
   128,
   141,
   145,
   167,
   173,
   179,
   183,
   218,
   228,
   232,
   236,
   240,
   250,
   262
  ]
 },
 "nbformat": 4,
 "nbformat_minor": 5
}