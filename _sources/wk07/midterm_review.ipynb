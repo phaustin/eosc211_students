{
 "cells": [
  {
   "cell_type": "markdown",
   "id": "e01e3bd0",
   "metadata": {},
   "source": [
    "# Midterm Review\n",
    "\n",
    "## EOSC 211\n",
    "\n",
    "**Week 7 Day 1**"
   ]
  },
  {
   "cell_type": "code",
   "execution_count": 1,
   "id": "af599b7b",
   "metadata": {},
   "outputs": [],
   "source": [
    "import numpy as np"
   ]
  },
  {
   "cell_type": "markdown",
   "id": "22a9a3d9",
   "metadata": {},
   "source": [
    "## Question 1\n",
    "\n",
    "**If  `a = np.array([7, 6, 5, 4, 3, 2, 1])`, what would be the values of  `b` and `c` if:** \n",
    "\n",
    "`b = a[1:-1:2]`\n",
    "\n",
    "`c = [a / 2]`\n",
    "\n",
    "**Determine the output as well as the data type of the output**"
   ]
  },
  {
   "cell_type": "code",
   "execution_count": 2,
   "id": "5ea5e235",
   "metadata": {},
   "outputs": [],
   "source": [
    "# your code here"
   ]
  },
  {
   "cell_type": "markdown",
   "id": "12f01ec1",
   "metadata": {},
   "source": [
    "## Question 2\n",
    "\n",
    "**What is the result of the following expressions?**\n",
    "\n",
    "**A)** `6 == 2 + 3 * 1`\n",
    "\n",
    "**B)** `14 > np.arange(6,2,-1) * 3 + 1`\n",
    "\n",
    "**C)** `3 ** 0 / 4 - -3 / np.array([4, 3])`"
   ]
  },
  {
   "cell_type": "code",
   "execution_count": 3,
   "id": "7f11b028",
   "metadata": {},
   "outputs": [],
   "source": [
    "# your code here"
   ]
  },
  {
   "cell_type": "markdown",
   "id": "77605e4f",
   "metadata": {},
   "source": [
    "## Question 3\n",
    "\n",
    "**This cell is supposed to loop through a dataset and find values of -999 (often used for \"no data\", or \"error\".) and flag the times at which the bad measurement occured. Find and correct 4 bugs to make it run correctly.**"
   ]
  },
  {
   "cell_type": "markdown",
   "id": "5bca7acc",
   "metadata": {},
   "source": [
    "```python\n",
    "# fix this code\n",
    "meas = np.array([-999, -999, 2, 16, 3, 4, 4, 4, -999, 31, 4, 5, -999]) \n",
    "time = np.arange(0,len(meas) * 60,60)  # seconds\n",
    "\n",
    "print(\"measurements: {meas}\")\n",
    "print(\"time recorded: {time}\")\n",
    "\n",
    "print(\"bad data recorded at times:\")\n",
    "for i in range(len(meas)):\n",
    "    if meas[j] = -999:\n",
    "        print(time[i])\n",
    "```"
   ]
  },
  {
   "cell_type": "code",
   "execution_count": 4,
   "id": "b7180047",
   "metadata": {},
   "outputs": [],
   "source": [
    "# your code here`"
   ]
  }
 ],
 "metadata": {
  "jupytext": {
   "formats": "ipynb,md:myst",
   "text_representation": {
    "extension": ".md",
    "format_name": "myst",
    "format_version": 0.13,
    "jupytext_version": "1.10.3"
   }
  },
  "kernelspec": {
   "display_name": "Python 3 (ipykernel)",
   "language": "python",
   "name": "python3"
  },
  "language_info": {
   "codemirror_mode": {
    "name": "ipython",
    "version": 3
   },
   "file_extension": ".py",
   "mimetype": "text/x-python",
   "name": "python",
   "nbconvert_exporter": "python",
   "pygments_lexer": "ipython3",
   "version": "3.9.12"
  },
  "source_map": [
   13,
   21,
   23,
   35,
   37,
   49,
   51,
   57,
   73
  ]
 },
 "nbformat": 4,
 "nbformat_minor": 5
}