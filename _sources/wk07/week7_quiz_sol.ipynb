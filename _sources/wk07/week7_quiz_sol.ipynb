{
 "cells": [
  {
   "cell_type": "markdown",
   "id": "4eb3547b",
   "metadata": {},
   "source": [
    "- **Name:**\n",
    "- **Student number:**"
   ]
  },
  {
   "cell_type": "markdown",
   "id": "32685d0b",
   "metadata": {},
   "source": [
    "**Instructions**:  Only one question this week"
   ]
  },
  {
   "cell_type": "markdown",
   "id": "bbb46c9e",
   "metadata": {},
   "source": [
    "# Week 7 quiz solution"
   ]
  },
  {
   "cell_type": "markdown",
   "id": "4e1eedd2",
   "metadata": {},
   "source": [
    "## Q1  Find the bugs\n",
    "\n",
    "\n",
    "**This cell is supposed to find local minimums in the input time series, i.e. points that have values less than their neighbours on either side, and return their indices in `x`. But it has some bugs in it. Explain what they are and fix them.**"
   ]
  },
  {
   "cell_type": "markdown",
   "id": "f43212a9",
   "metadata": {},
   "source": [
    "```python\n",
    "# fix this code\n",
    "# y is a 1x100 array given as input\n",
    "a = np.linspace(0,4*np.pi,100)\n",
    "y = np.sin(a)\n",
    "k = 0\n",
    "while k < 100:\n",
    "    if y[k] < y[k + 1] and y[k] > y[k - 1]:\n",
    "        x[k] = k\n",
    "    k = k - 1\n",
    "```"
   ]
  },
  {
   "cell_type": "code",
   "execution_count": null,
   "id": "44d388c7",
   "metadata": {},
   "outputs": [],
   "source": [
    "# andrew's soln\n",
    "import numpy as np\n",
    "a = np.linspace(0,4 * np.pi,100)\n",
    "y = np.sin(a)\n",
    "x = [] # we need to create a list to add to\n",
    "k = 1 # since we need to reference k-1, start at the second element of the array and end at the second last\n",
    "while k < len(y)-1: # this is better than hardcoding the limits for k. what if y changes?\n",
    "    if y[k] < y[k+1] and y[k] < y[k-1]:\n",
    "        x.append(k) \n",
    "    k += 1 # iterate forward, not backward\n",
    "\n",
    "print(x)"
   ]
  }
 ],
 "metadata": {
  "jupytext": {
   "cell_metadata_filter": "all",
   "formats": "ipynb,md:myst",
   "notebook_metadata_filter": "all",
   "text_representation": {
    "extension": ".md",
    "format_name": "myst",
    "format_version": 0.13,
    "jupytext_version": "1.10.3"
   }
  },
  "kernelspec": {
   "display_name": "Python 3 (ipykernel)",
   "language": "python",
   "name": "python3"
  },
  "language_info": {
   "codemirror_mode": {
    "name": "ipython",
    "version": 3
   },
   "file_extension": ".py",
   "mimetype": "text/x-python",
   "name": "python",
   "nbconvert_exporter": "python",
   "pygments_lexer": "ipython3",
   "version": "3.8.10"
  },
  "source_map": [
   25,
   30,
   34,
   38,
   45,
   59
  ]
 },
 "nbformat": 4,
 "nbformat_minor": 5
}