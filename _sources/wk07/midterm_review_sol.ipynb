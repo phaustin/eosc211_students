{
 "cells": [
  {
   "cell_type": "markdown",
   "id": "22259d77",
   "metadata": {},
   "source": [
    "# Midterm Review solution\n",
    "\n",
    "## EOSC 211\n",
    "\n",
    "**Week 7 Day 1**"
   ]
  },
  {
   "cell_type": "code",
   "execution_count": null,
   "id": "634e22c7",
   "metadata": {},
   "outputs": [],
   "source": [
    "import numpy as np"
   ]
  },
  {
   "cell_type": "markdown",
   "id": "c2d89234",
   "metadata": {},
   "source": [
    "## Question 1\n",
    "\n",
    "**If  `a = np.array([7, 6, 5, 4, 3, 2, 1])`, what would be the values of  `b` and `c` if:** \n",
    "\n",
    "`b = a[1:-1:2]`\n",
    "\n",
    "`c = [a / 2]`\n",
    "\n",
    "**Determine the output as well as the data type of the output**"
   ]
  },
  {
   "cell_type": "code",
   "execution_count": null,
   "id": "ce7bf450",
   "metadata": {},
   "outputs": [],
   "source": [
    "# your code here"
   ]
  },
  {
   "cell_type": "code",
   "execution_count": null,
   "id": "06aa6752",
   "metadata": {},
   "outputs": [],
   "source": [
    "# andrew's soln\n",
    "import numpy as np\n",
    "\n",
    "a = np.array([7, 6, 5, 4, 3, 2, 1])\n",
    "b = a[1:-1:2]\n",
    "c = [a / 2]\n",
    "\n",
    "for i in [a, b, c]:\n",
    "    print(i, type(i))"
   ]
  },
  {
   "cell_type": "markdown",
   "id": "8f511928",
   "metadata": {},
   "source": [
    "## Question 2\n",
    "\n",
    "**What is the result of the following expressions?**\n",
    "\n",
    "**A)** `6 == 2 + 3 * 1`\n",
    "\n",
    "**B)** `14 > np.arange(6,2,-1) * 3 + 1`\n",
    "\n",
    "**C)** `3 ** 0 / 4 - -3 / np.array([4, 3])`"
   ]
  },
  {
   "cell_type": "code",
   "execution_count": null,
   "id": "0f9d63f5",
   "metadata": {},
   "outputs": [],
   "source": [
    "# your code here"
   ]
  },
  {
   "cell_type": "code",
   "execution_count": null,
   "id": "8daa44a5",
   "metadata": {},
   "outputs": [],
   "source": [
    "# andrew's soln\n",
    "a = 6 == 2 + 3 * 1\n",
    "b = 14 > np.arange(6,2,-1) * 3 + 1\n",
    "c = 3 ** 0 / 4 - -3 / np.array([4, 3])\n",
    "\n",
    "[print(letter) for letter in [a,b,c]];"
   ]
  },
  {
   "cell_type": "markdown",
   "id": "74f1168a",
   "metadata": {},
   "source": [
    "## Question 3\n",
    "\n",
    "**This cell is supposed to loop through a dataset and find values of -999 (often used for \"no data\", or \"error\".) and flag the times at which the bad measurement occured. Find and correct 4 bugs to make it run correctly.**"
   ]
  },
  {
   "cell_type": "markdown",
   "id": "6fa75e5f",
   "metadata": {},
   "source": [
    "```python\n",
    "# fix this code\n",
    "meas = np.array([-999, -999, 2, 16, 3, 4, 4, 4, -999, 31, 4, 5, -999]) \n",
    "time = np.arange(0,len(meas) * 60,60)  # seconds\n",
    "\n",
    "print(\"measurements: {meas}\")\n",
    "print(\"time recorded: {time}\")\n",
    "\n",
    "print(\"bad data recorded at times:\")\n",
    "for i in range(len(meas)):\n",
    "    if meas[j] = -999:\n",
    "        print(time[i])\n",
    "```"
   ]
  },
  {
   "cell_type": "code",
   "execution_count": null,
   "id": "31ed4e12",
   "metadata": {},
   "outputs": [],
   "source": [
    "# soln\n",
    "meas = np.array([-999, -999, 2, 16, 3, 4, 4, 4, -999, 31, 4, 5, -999])\n",
    "time = np.arange(0,len(meas) * 60,60)  # seconds\n",
    "\n",
    "print(f\"measurements: {meas}\") # need f's for f strings\n",
    "print(f\"time recorded: {time}\")\n",
    "\n",
    "print(\"bad data recorded at times:\")\n",
    "for i in range(len(meas)): # use consistent indexing variables (could change them all to j)\n",
    "    if meas[i] == -999: # booleans need \"==\", not \"=\"\n",
    "        print(time[i])"
   ]
  }
 ],
 "metadata": {
  "jupytext": {
   "cell_metadata_filter": "all",
   "formats": "ipynb,md:myst",
   "notebook_metadata_filter": "all,-language_info,-toc,-latex_envs",
   "text_representation": {
    "extension": ".md",
    "format_name": "myst",
    "format_version": 0.13,
    "jupytext_version": "1.10.3"
   }
  },
  "kernelspec": {
   "display_name": "Python 3 (ipykernel)",
   "language": "python",
   "name": "python3"
  },
  "source_map": [
   15,
   23,
   25,
   37,
   41,
   51,
   63,
   67,
   74,
   80,
   96
  ]
 },
 "nbformat": 4,
 "nbformat_minor": 5
}