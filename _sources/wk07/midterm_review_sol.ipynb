{
 "cells": [
  {
   "cell_type": "markdown",
   "id": "ae63954c",
   "metadata": {},
   "source": [
    "# Midterm Review solution\n",
    "\n",
    "## EOSC 211\n",
    "\n",
    "**Week 7 Day 1**"
   ]
  },
  {
   "cell_type": "code",
   "execution_count": 1,
   "id": "4472c900",
   "metadata": {},
   "outputs": [],
   "source": [
    "import numpy as np"
   ]
  },
  {
   "cell_type": "markdown",
   "id": "087233f6",
   "metadata": {},
   "source": [
    "## Question 1\n",
    "\n",
    "**If  `a = np.array([7, 6, 5, 4, 3, 2, 1])`, what would be the values of  `b` and `c` if:** \n",
    "\n",
    "`b = a[1:-1:2]`\n",
    "\n",
    "`c = [a / 2]`\n",
    "\n",
    "**Determine the output as well as the data type of the output**"
   ]
  },
  {
   "cell_type": "code",
   "execution_count": 2,
   "id": "bdff3182",
   "metadata": {},
   "outputs": [],
   "source": [
    "# your code here"
   ]
  },
  {
   "cell_type": "code",
   "execution_count": 3,
   "id": "e1eec085",
   "metadata": {},
   "outputs": [
    {
     "name": "stdout",
     "output_type": "stream",
     "text": [
      "[7 6 5 4 3 2 1] <class 'numpy.ndarray'>\n",
      "[6 4 2] <class 'numpy.ndarray'>\n",
      "[array([3.5, 3. , 2.5, 2. , 1.5, 1. , 0.5])] <class 'list'>\n"
     ]
    }
   ],
   "source": [
    "# andrew's soln\n",
    "import numpy as np\n",
    "\n",
    "a = np.array([7, 6, 5, 4, 3, 2, 1])\n",
    "b = a[1:-1:2]\n",
    "c = [a / 2]\n",
    "\n",
    "for i in [a, b, c]:\n",
    "    print(i, type(i))"
   ]
  },
  {
   "cell_type": "markdown",
   "id": "7f51ad23",
   "metadata": {},
   "source": [
    "## Question 2\n",
    "\n",
    "**What is the result of the following expressions?**\n",
    "\n",
    "**A)** `6 == 2 + 3 * 1`\n",
    "\n",
    "**B)** `14 > np.arange(6,2,-1) * 3 + 1`\n",
    "\n",
    "**C)** `3 ** 0 / 4 - -3 / np.array([4, 3])`"
   ]
  },
  {
   "cell_type": "code",
   "execution_count": 4,
   "id": "96d163af",
   "metadata": {},
   "outputs": [],
   "source": [
    "# your code here"
   ]
  },
  {
   "cell_type": "code",
   "execution_count": 5,
   "id": "935bdc42",
   "metadata": {},
   "outputs": [
    {
     "name": "stdout",
     "output_type": "stream",
     "text": [
      "False\n",
      "[False False  True  True]\n",
      "[1.   1.25]\n"
     ]
    }
   ],
   "source": [
    "# andrew's soln\n",
    "a = 6 == 2 + 3 * 1\n",
    "b = 14 > np.arange(6,2,-1) * 3 + 1\n",
    "c = 3 ** 0 / 4 - -3 / np.array([4, 3])\n",
    "\n",
    "[print(letter) for letter in [a,b,c]];"
   ]
  },
  {
   "cell_type": "markdown",
   "id": "774092f5",
   "metadata": {},
   "source": [
    "## Question 3\n",
    "\n",
    "**This cell is supposed to loop through a dataset and find values of -999 (often used for \"no data\", or \"error\".) and flag the times at which the bad measurement occured. Find and correct 4 bugs to make it run correctly.**"
   ]
  },
  {
   "cell_type": "markdown",
   "id": "3d25e876",
   "metadata": {},
   "source": [
    "```python\n",
    "# fix this code\n",
    "meas = np.array([-999, -999, 2, 16, 3, 4, 4, 4, -999, 31, 4, 5, -999]) \n",
    "time = np.arange(0,len(meas) * 60,60)  # seconds\n",
    "\n",
    "print(\"measurements: {meas}\")\n",
    "print(\"time recorded: {time}\")\n",
    "\n",
    "print(\"bad data recorded at times:\")\n",
    "for i in range(len(meas)):\n",
    "    if meas[j] = -999:\n",
    "        print(time[i])\n",
    "```"
   ]
  },
  {
   "cell_type": "code",
   "execution_count": 6,
   "id": "351fee23",
   "metadata": {},
   "outputs": [
    {
     "name": "stdout",
     "output_type": "stream",
     "text": [
      "measurements: [-999 -999    2   16    3    4    4    4 -999   31    4    5 -999]\n",
      "time recorded: [  0  60 120 180 240 300 360 420 480 540 600 660 720]\n",
      "bad data recorded at times:\n",
      "0\n",
      "60\n",
      "480\n",
      "720\n"
     ]
    }
   ],
   "source": [
    "# soln\n",
    "meas = np.array([-999, -999, 2, 16, 3, 4, 4, 4, -999, 31, 4, 5, -999])\n",
    "time = np.arange(0,len(meas) * 60,60)  # seconds\n",
    "\n",
    "print(f\"measurements: {meas}\") # need f's for f strings\n",
    "print(f\"time recorded: {time}\")\n",
    "\n",
    "print(\"bad data recorded at times:\")\n",
    "for i in range(len(meas)): # use consistent indexing variables (could change them all to j)\n",
    "    if meas[i] == -999: # booleans need \"==\", not \"=\"\n",
    "        print(time[i])"
   ]
  }
 ],
 "metadata": {
  "jupytext": {
   "cell_metadata_filter": "all",
   "formats": "ipynb,md:myst",
   "notebook_metadata_filter": "all,-language_info,-toc,-latex_envs",
   "text_representation": {
    "extension": ".md",
    "format_name": "myst",
    "format_version": 0.13,
    "jupytext_version": "1.10.3"
   }
  },
  "kernelspec": {
   "display_name": "Python 3 (ipykernel)",
   "language": "python",
   "name": "python3"
  },
  "language_info": {
   "codemirror_mode": {
    "name": "ipython",
    "version": 3
   },
   "file_extension": ".py",
   "mimetype": "text/x-python",
   "name": "python",
   "nbconvert_exporter": "python",
   "pygments_lexer": "ipython3",
   "version": "3.8.0"
  },
  "source_map": [
   15,
   23,
   25,
   37,
   41,
   51,
   63,
   67,
   74,
   80,
   96
  ]
 },
 "nbformat": 4,
 "nbformat_minor": 5
}