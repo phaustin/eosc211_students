{
 "cells": [
  {
   "cell_type": "markdown",
   "id": "19fddfa3",
   "metadata": {},
   "source": [
    "- **Name:**\n",
    "- **Student number:**"
   ]
  },
  {
   "cell_type": "markdown",
   "id": "f446ab23",
   "metadata": {},
   "source": [
    "**Instructions**:  Five questions from the datatype section of the textbook:"
   ]
  },
  {
   "cell_type": "markdown",
   "id": "873d25bc",
   "metadata": {},
   "source": [
    "# Week 2 quiz\n",
    "\n",
    "## Determine the data type\n",
    "\n",
    "\n",
    "* Q04.01 Find the data type of ```a``` if ```a=9```\n",
    "\n",
    "* Q04.02 Find the data type of ```a``` if ```a=9.```\n",
    "\n",
    "* Q04.03 Find the data type of ```a``` if ```a='9.'```\n",
    "\n",
    "* Q04.04 Find the data type of ```a``` if ```a=(9)```\n",
    "\n",
    "* Q04.05 Find the data type of ```a``` if ```a=False```"
   ]
  }
 ],
 "metadata": {
  "celltoolbar": "Create Assignment",
  "jupytext": {
   "cell_metadata_filter": "all",
   "formats": "ipynb,md:myst",
   "notebook_metadata_filter": "all",
   "text_representation": {
    "extension": ".md",
    "format_name": "myst",
    "format_version": 0.13,
    "jupytext_version": "1.10.3"
   }
  },
  "kernelspec": {
   "display_name": "Python 3 (ipykernel)",
   "language": "python",
   "name": "python3"
  },
  "language_info": {
   "codemirror_mode": {
    "name": "ipython",
    "version": 3
   },
   "file_extension": ".py",
   "mimetype": "text/x-python",
   "name": "python",
   "nbconvert_exporter": "python",
   "pygments_lexer": "ipython3",
   "version": "3.8.0"
  },
  "nbsphinx": {
   "execute": "never"
  },
  "source_map": [
   44,
   49,
   53
  ],
  "toc": {
   "base_numbering": 1,
   "nav_menu": {},
   "number_sections": true,
   "sideBar": true,
   "skip_h1_title": false,
   "title_cell": "Table of Contents",
   "title_sidebar": "Contents",
   "toc_cell": true,
   "toc_position": {
    "height": "calc(100% - 180px)",
    "left": "10px",
    "top": "150px",
    "width": "182px"
   },
   "toc_section_display": true,
   "toc_window_display": true
  }
 },
 "nbformat": 4,
 "nbformat_minor": 5
}