{
 "cells": [
  {
   "cell_type": "markdown",
   "id": "f5083948",
   "metadata": {},
   "source": [
    "# Some Review Plus Built-In Functions, Arrays Preview\n",
    "\n",
    "## EOSC 211\n",
    "\n",
    "**Week 2 Day 2**"
   ]
  },
  {
   "cell_type": "code",
   "execution_count": null,
   "id": "de1c211a",
   "metadata": {},
   "outputs": [],
   "source": []
  },
  {
   "cell_type": "code",
   "execution_count": null,
   "id": "2ba76fe0",
   "metadata": {},
   "outputs": [],
   "source": []
  }
 ],
 "metadata": {
  "jupytext": {
   "formats": "ipynb,md:myst",
   "text_representation": {
    "extension": ".md",
    "format_name": "myst",
    "format_version": 0.13,
    "jupytext_version": "1.10.3"
   }
  },
  "kernelspec": {
   "display_name": "Python 3 (ipykernel)",
   "language": "python",
   "name": "python3"
  },
  "language_info": {
   "codemirror_mode": {
    "name": "ipython",
    "version": 3
   },
   "file_extension": ".py",
   "mimetype": "text/x-python",
   "name": "python",
   "nbconvert_exporter": "python",
   "pygments_lexer": "ipython3",
   "version": "3.8.10"
  },
  "source_map": [
   13,
   21,
   25
  ]
 },
 "nbformat": 4,
 "nbformat_minor": 5
}