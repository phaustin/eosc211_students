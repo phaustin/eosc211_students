{
 "cells": [
  {
   "cell_type": "markdown",
   "id": "917e96f3",
   "metadata": {},
   "source": [
    "# Some Review Plus Built-In Functions, Arrays Preview\n",
    "\n",
    "## EOSC 211\n",
    "\n",
    "**Learning Goals:**\n",
    "\n",
    "* Review variable assignment, structural elements of Python\n",
    "* *Index* and *slice* list type variables\n",
    "* Use built-in functions to do useful things"
   ]
  },
  {
   "cell_type": "markdown",
   "id": "1b833992",
   "metadata": {},
   "source": [
    "### Question 1\n",
    "\n",
    "The code snippet below was intended to calculate the surface area of the Earth and print the answer to the screen.  What is the actual output (describe the quantity in words) of the code snippet?"
   ]
  },
  {
   "cell_type": "code",
   "execution_count": 1,
   "id": "3a40d957",
   "metadata": {},
   "outputs": [],
   "source": [
    "# radius of Earth in km\n",
    "radius = 6371\n",
    "area = 4 * 3.14 * radius ** 2\n",
    "# radius of Moon in km\n",
    "radius = 1739\n",
    "area = 4 * 3.14 * radius ** 2"
   ]
  },
  {
   "cell_type": "markdown",
   "id": "9e5fb0ab",
   "metadata": {},
   "source": [
    "### Question 2\n",
    "\n",
    "Identify in the code snippet:\n",
    "\n",
    "* Variable names\n",
    "* Functions\n",
    "* Special characters\n",
    "* Operators"
   ]
  },
  {
   "cell_type": "markdown",
   "id": "4c2de22b",
   "metadata": {},
   "source": [
    "### Question 3\n",
    "\n",
    "Write down what each line of code does"
   ]
  },
  {
   "cell_type": "markdown",
   "id": "1c987506",
   "metadata": {},
   "source": [
    "### Question 4\n",
    "\n",
    "What happens if we restart the kernel after executing this cell (the \\[$\\circlearrowright$\\] or button)?"
   ]
  },
  {
   "cell_type": "markdown",
   "id": "7d5d0ac0",
   "metadata": {},
   "source": [
    "### Question 5\n",
    "\n",
    "Let's define the following variable `mags`"
   ]
  },
  {
   "cell_type": "code",
   "execution_count": 2,
   "id": "d2dd5044",
   "metadata": {},
   "outputs": [],
   "source": [
    "mags = [4.2000, 4.1000, 4.1000, 4.1000, 4.3000, 4.2000, 4.4000, 4.1000, 4.0000, 4.7000]"
   ]
  },
  {
   "cell_type": "markdown",
   "id": "0bb2753b",
   "metadata": {},
   "source": [
    "**A)** How could we access the third number from the left?\n",
    "\n",
    "**B)** How to assign the last variable in this list to a new variable called `mags2`"
   ]
  },
  {
   "cell_type": "markdown",
   "id": "ff54f9fa",
   "metadata": {},
   "source": [
    "## Question 6\n",
    "\n",
    "Describe what is happening on this one line of code (it's surprisingly a lot). List the steps in order"
   ]
  },
  {
   "cell_type": "code",
   "execution_count": 3,
   "id": "49b408bf",
   "metadata": {},
   "outputs": [],
   "source": [
    "y3 = max(mags[3:8])"
   ]
  }
 ],
 "metadata": {
  "jupytext": {
   "formats": "ipynb,md:myst",
   "text_representation": {
    "extension": ".md",
    "format_name": "myst",
    "format_version": 0.13,
    "jupytext_version": "1.10.3"
   }
  },
  "kernelspec": {
   "display_name": "Python 3 (ipykernel)",
   "language": "python",
   "name": "python3"
  },
  "language_info": {
   "codemirror_mode": {
    "name": "ipython",
    "version": 3
   },
   "file_extension": ".py",
   "mimetype": "text/x-python",
   "name": "python",
   "nbconvert_exporter": "python",
   "pygments_lexer": "ipython3",
   "version": "3.8.12"
  },
  "source_map": [
   13,
   25,
   31,
   38,
   49,
   55,
   61,
   67,
   69,
   75,
   81
  ]
 },
 "nbformat": 4,
 "nbformat_minor": 5
}