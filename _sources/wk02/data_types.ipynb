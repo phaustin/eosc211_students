{
 "cells": [
  {
   "cell_type": "markdown",
   "id": "562ecebc",
   "metadata": {},
   "source": [
    "# Data Types\n",
    "\n",
    "## EOSC 211\n",
    "\n",
    "**Week 2**\n",
    "\n",
    "**Learning Objectives:**  \n",
    "1. Identify the following data structures: Int, Float, Boolean, String, List, Tuple, Dictionary\n",
    "2. Identify special object data types, i.e. numpy array\n",
    "3. Perform operations on each data type\n",
    "\n",
    "Useful references:\n",
    "\n",
    "[course text on data types](https://phaustin.github.io/Problem-Solving-with-Python/Data-Types-and-Variables/combine_data_types.html)"
   ]
  },
  {
   "cell_type": "markdown",
   "id": "bb8dad35",
   "metadata": {},
   "source": [
    "### Question 1\n",
    "\n",
    "**What is the *data type* of each of the following?**"
   ]
  },
  {
   "cell_type": "code",
   "execution_count": 1,
   "id": "615b68fe",
   "metadata": {},
   "outputs": [],
   "source": [
    "var1 = 2\n",
    "var2 = 3.4\n",
    "var3 = True\n",
    "var4 = \"vogon poetry\"\n",
    "var5 = [var1, var2]\n",
    "var6 = (var1, var2, var3)\n",
    "var7 = {\"answer\":42, \"question\":False}"
   ]
  },
  {
   "cell_type": "markdown",
   "id": "b2e1f3b3",
   "metadata": {},
   "source": [
    "### Question 2\n",
    "\n",
    "**What is the *data type* of each of the following? Explain in a sentence or two what is happening on each line**.  Hint - see [Reading for this week](https://phaustin.github.io/Problem-Solving-with-Python/Data-Types-and-Variables/combine_data_types.html)"
   ]
  },
  {
   "cell_type": "code",
   "execution_count": 2,
   "id": "f223100f",
   "metadata": {},
   "outputs": [],
   "source": [
    "var8 = 7 / 2\n",
    "var9 = var2 == var4\n",
    "var10 = var1 + var2\n",
    "var11 = f\"{var2}\""
   ]
  }
 ],
 "metadata": {
  "jupytext": {
   "formats": "ipynb,md:myst",
   "text_representation": {
    "extension": ".md",
    "format_name": "myst",
    "format_version": 0.13,
    "jupytext_version": "1.11.4"
   }
  },
  "kernelspec": {
   "display_name": "Python 3 (ipykernel)",
   "language": "python",
   "name": "python3"
  },
  "language_info": {
   "codemirror_mode": {
    "name": "ipython",
    "version": 3
   },
   "file_extension": ".py",
   "mimetype": "text/x-python",
   "name": "python",
   "nbconvert_exporter": "python",
   "pygments_lexer": "ipython3",
   "version": "3.8.0"
  },
  "source_map": [
   13,
   30,
   36,
   44,
   50
  ]
 },
 "nbformat": 4,
 "nbformat_minor": 5
}