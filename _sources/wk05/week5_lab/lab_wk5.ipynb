{
 "cells": [
  {
   "cell_type": "markdown",
   "id": "f2127a17",
   "metadata": {},
   "source": [
    "# Lab Week 5\n",
    "\n",
    "## EOSC 211\n",
    "\n",
    "### Learning Objectives:\n",
    "\n",
    "1. Apply our skills with conditional statements `if elif else` to an earth sciences problem\n",
    "\n",
    "2. Define variables using user input data\n",
    "\n",
    "3. Generate plots with annotations\n",
    "___"
   ]
  },
  {
   "cell_type": "markdown",
   "id": "6f2de932",
   "metadata": {},
   "source": [
    "## Part 1: The `plt.annotate()` Function and Formatted Text (Tutorial)\n",
    "\n",
    "This lab will focus on applying some of the new concepts we have learned to work with data very similar to what we have seen before. This week's dataset is a *digital elevation model* (DEM) and your challenge is to write a program for the analysis of topographic slopes. Usually datasets are not provided with slopes, instead elevation data are stored in a Digital Elevation Model (DEM), which is basically a large array containing elevation above some datum (usually sea level) over a grid of points. You already saw a DEM in the lab for Week 3, though we didn’t call it by that name. The program you write let a \"user\" pick a point on a plot of the DEM, then calculate the slope at that point, and use formatted text to tell you whether that point is east-facing, west-facing, or relatively flat. Your code will have to take into account that the world is round if you select a point on the edge of the DEM. A useful way of writing this kind of program is to proceed in a few steps:\n",
    "\n",
    "* Break up the problem into parts.   One technique useful for programs handling a lot of ‘special cases’ is to make it work for only one of the cases as a starting point.\n",
    "\n",
    "* In this case we won’t make you start from scratch - instead you will work through code we have given you to get you started making sure you understand what each line does, Then you have to add a piece of code that does the right thing if the input data is ‘good’.\n",
    "\n",
    "* Then, think about ways in which the input data can be ‘bad’.  Add code to test for these conditions and to handle them in a useful way. This code will often get squeezed into the middle of the existing code.\n",
    "\n",
    "___\n",
    "Start by importing our required packages as usual, and importing our dataset:"
   ]
  },
  {
   "cell_type": "code",
   "execution_count": 1,
   "id": "d68b02a7",
   "metadata": {},
   "outputs": [
    {
     "ename": "ModuleNotFoundError",
     "evalue": "No module named 'e211_lib'",
     "output_type": "error",
     "traceback": [
      "\u001b[0;31m---------------------------------------------------------------------------\u001b[0m",
      "\u001b[0;31mModuleNotFoundError\u001b[0m                       Traceback (most recent call last)",
      "Input \u001b[0;32mIn [1]\u001b[0m, in \u001b[0;36m<cell line: 1>\u001b[0;34m()\u001b[0m\n\u001b[0;32m----> 1\u001b[0m \u001b[38;5;28;01mfrom\u001b[39;00m \u001b[38;5;21;01me211_lib\u001b[39;00m \u001b[38;5;28;01mimport\u001b[39;00m e211 \n\u001b[1;32m      2\u001b[0m \u001b[38;5;28;01mfrom\u001b[39;00m \u001b[38;5;21;01mmatplotlib\u001b[39;00m \u001b[38;5;28;01mimport\u001b[39;00m pyplot \u001b[38;5;28;01mas\u001b[39;00m plt\n\u001b[1;32m      3\u001b[0m \u001b[38;5;28;01mimport\u001b[39;00m \u001b[38;5;21;01mnumpy\u001b[39;00m \u001b[38;5;28;01mas\u001b[39;00m \u001b[38;5;21;01mnp\u001b[39;00m\n",
      "\u001b[0;31mModuleNotFoundError\u001b[0m: No module named 'e211_lib'"
     ]
    }
   ],
   "source": [
    "from e211_lib import e211 \n",
    "from matplotlib import pyplot as plt\n",
    "import numpy as np"
   ]
  },
  {
   "cell_type": "code",
   "execution_count": 2,
   "id": "8ebbf166",
   "metadata": {},
   "outputs": [
    {
     "ename": "NameError",
     "evalue": "name 'e211' is not defined",
     "output_type": "error",
     "traceback": [
      "\u001b[0;31m---------------------------------------------------------------------------\u001b[0m",
      "\u001b[0;31mNameError\u001b[0m                                 Traceback (most recent call last)",
      "Input \u001b[0;32mIn [2]\u001b[0m, in \u001b[0;36m<cell line: 2>\u001b[0;34m()\u001b[0m\n\u001b[1;32m      1\u001b[0m \u001b[38;5;66;03m# get the data and query the size of the array\u001b[39;00m\n\u001b[0;32m----> 2\u001b[0m topo \u001b[38;5;241m=\u001b[39m \u001b[43me211\u001b[49m\u001b[38;5;241m.\u001b[39mload_topo(\u001b[38;5;124m\"\u001b[39m\u001b[38;5;124mlab5_topo.mat\u001b[39m\u001b[38;5;124m\"\u001b[39m)\n\u001b[1;32m      3\u001b[0m \u001b[38;5;28mprint\u001b[39m(\u001b[38;5;124mf\u001b[39m\u001b[38;5;124m'\u001b[39m\u001b[38;5;124mData has shape \u001b[39m\u001b[38;5;132;01m{\u001b[39;00mtopo\u001b[38;5;241m.\u001b[39mshape\u001b[38;5;132;01m}\u001b[39;00m\u001b[38;5;124m'\u001b[39m)\n",
      "\u001b[0;31mNameError\u001b[0m: name 'e211' is not defined"
     ]
    }
   ],
   "source": [
    "# get the data and query the size of the array\n",
    "topo = e211.load_topo(\"lab5_topo.mat\")\n",
    "print(f'Data has shape {topo.shape}') # rows, columns"
   ]
  },
  {
   "cell_type": "markdown",
   "id": "7e353d78",
   "metadata": {},
   "source": [
    "- Note that the shape of the data is (180, 360) which means that each row in the array corresponds to one degree _latitude_, and each column corresponds to one degree in _longitude_. This means that the _resolution_ of this dataset is one degree in lat/lon."
   ]
  },
  {
   "cell_type": "code",
   "execution_count": 3,
   "id": "9a878c30",
   "metadata": {},
   "outputs": [
    {
     "ename": "NameError",
     "evalue": "name 'np' is not defined",
     "output_type": "error",
     "traceback": [
      "\u001b[0;31m---------------------------------------------------------------------------\u001b[0m",
      "\u001b[0;31mNameError\u001b[0m                                 Traceback (most recent call last)",
      "Input \u001b[0;32mIn [3]\u001b[0m, in \u001b[0;36m<cell line: 2>\u001b[0;34m()\u001b[0m\n\u001b[1;32m      1\u001b[0m \u001b[38;5;66;03m# create lat and lon arrays just like week 3 lab\u001b[39;00m\n\u001b[0;32m----> 2\u001b[0m lats \u001b[38;5;241m=\u001b[39m \u001b[43mnp\u001b[49m\u001b[38;5;241m.\u001b[39mlinspace(\u001b[38;5;241m-\u001b[39m\u001b[38;5;241m89.5\u001b[39m, \u001b[38;5;241m89.5\u001b[39m, topo\u001b[38;5;241m.\u001b[39mshape[\u001b[38;5;241m0\u001b[39m])\n\u001b[1;32m      3\u001b[0m lons \u001b[38;5;241m=\u001b[39m np\u001b[38;5;241m.\u001b[39mlinspace(\u001b[38;5;241m0.5\u001b[39m, \u001b[38;5;241m359.5\u001b[39m, topo\u001b[38;5;241m.\u001b[39mshape[\u001b[38;5;241m1\u001b[39m])\n\u001b[1;32m      5\u001b[0m \u001b[38;5;66;03m# see if our labels correctly match the plot\u001b[39;00m\n",
      "\u001b[0;31mNameError\u001b[0m: name 'np' is not defined"
     ]
    }
   ],
   "source": [
    "# create lat and lon arrays just like week 3 lab\n",
    "lats = np.linspace(-89.5, 89.5, topo.shape[0])\n",
    "lons = np.linspace(0.5, 359.5, topo.shape[1])\n",
    "\n",
    "# see if our labels correctly match the plot\n",
    "plt.contourf(lons, lats, topo);"
   ]
  },
  {
   "cell_type": "markdown",
   "id": "5f0f8cf4",
   "metadata": {},
   "source": [
    "Does everything look alright with our preliminary data visualization? Note that the scaling of the axes is a little bit off: if the units in the x and y direction are equal (both are in degrees), then we should expect that the length of the x-axis should be twice the length of the y-axis. However the 360 degrees of longitude are not represented as twice the length of the 180 degrees of latitude. While not strictly necessary, we can fix this visualization next time we plot with ```plt.axis('equal')```. Also note that without a colorbar, we don't actually know what each colour on this contour plot represents, nor can we visualize what units of elevation are being used here!\n",
    "\n",
    "___\n",
    "\n",
    "\n",
    "Let's continue on to the **data processing** phase:\n",
    "\n",
    "We would like to our program to reference points on our map by their latitude/longitude coordinates, and be able to take in any arbitrary pair of coordinates and process the closest available point on the map. We could use python's built in [input()](https://www.w3schools.com/python/ref_func_input.asp) function to assign coordinate variables based on user input.  Testing code with an `input()` function call is difficult however -- how do\n",
    "automatically test code in dozens of notebooks that requires a user to enter a choice?   For this lab, we'll \n",
    "just have you choose values for the variables `userlat` and `userlon` in the cell below.\n",
    "Once you've set those variables, you can use the [argmin()](https://numpy.org/doc/stable/reference/generated/numpy.argmin.html) method of numpy arrays\n",
    "to find the closest point on the map to the user specified lat/lon.  \n",
    "\n",
    "Make sure you understand what the code is doing in the following cell by working through it line-by-line.  We need to make sure to properly differentiate between the *lat/lon coordinates* of a location (which a user will specify), the *array value* (i.e height above sea level stored in the array `topo`), and the *array index* that references that point in the array."
   ]
  },
  {
   "cell_type": "code",
   "execution_count": 4,
   "id": "0b786a47",
   "metadata": {},
   "outputs": [
    {
     "ename": "NameError",
     "evalue": "name 'np' is not defined",
     "output_type": "error",
     "traceback": [
      "\u001b[0;31m---------------------------------------------------------------------------\u001b[0m",
      "\u001b[0;31mNameError\u001b[0m                                 Traceback (most recent call last)",
      "Input \u001b[0;32mIn [4]\u001b[0m, in \u001b[0;36m<cell line: 8>\u001b[0;34m()\u001b[0m\n\u001b[1;32m      5\u001b[0m usrlon \u001b[38;5;241m=\u001b[39m \u001b[38;5;241m50\u001b[39m \u001b[38;5;66;03m# (deg E)\u001b[39;00m\n\u001b[1;32m      7\u001b[0m \u001b[38;5;66;03m# assign new variables for the closest indexes to user specified lat & lon\u001b[39;00m\n\u001b[0;32m----> 8\u001b[0m ilat \u001b[38;5;241m=\u001b[39m \u001b[43mnp\u001b[49m\u001b[38;5;241m.\u001b[39mabs(lats\u001b[38;5;241m-\u001b[39musrlat)\u001b[38;5;241m.\u001b[39margmin()   \u001b[38;5;66;03m# this can also be written ilat=np.argmin(np.abs(lats-usrlat))\u001b[39;00m\n\u001b[1;32m      9\u001b[0m ilon \u001b[38;5;241m=\u001b[39m np\u001b[38;5;241m.\u001b[39mabs(lons\u001b[38;5;241m-\u001b[39musrlon)\u001b[38;5;241m.\u001b[39margmin()\n\u001b[1;32m     11\u001b[0m \u001b[38;5;66;03m# print out a message using f strings\u001b[39;00m\n",
      "\u001b[0;31mNameError\u001b[0m: name 'np' is not defined"
     ]
    }
   ],
   "source": [
    "#\n",
    "# Change usrlat and usrlon to your own selection\n",
    "#\n",
    "usrlat = 50 # (deg N) \n",
    "usrlon = 50 # (deg E)\n",
    "\n",
    "# assign new variables for the closest indexes to user specified lat & lon\n",
    "ilat = np.abs(lats-usrlat).argmin()   # this can also be written ilat=np.argmin(np.abs(lats-usrlat))\n",
    "ilon = np.abs(lons-usrlon).argmin()\n",
    "\n",
    "# print out a message using f strings\n",
    "print(f\"User specified variables: lat: {usrlat}, lon: {usrlon}\")\n",
    "print(f\"Closest values in array: lat: {lats[ilat]}, lon: {lons[ilon]} at indices [{ilat}, {ilon}]\")\n",
    "print(f\"Value of topo array at that point: {topo[ilat, ilon]} m\")"
   ]
  },
  {
   "cell_type": "markdown",
   "id": "b83a4f56",
   "metadata": {},
   "source": [
    "___\n",
    "For the *output* of this program, we'll use the `plt.annotate()` function to label our user-selected point on the map, as well as display the elevation at that point. Later, you will build on this cell to add more information and present it as a polished scientific figure. This cell uses the function twice, once to draw a red X and once to label the point with some information. Check out the [docs for plt.annotate()](https://matplotlib.org/stable/api/_as_gen/matplotlib.pyplot.annotate.html) for more info on how to implement the function.\n",
    "\n",
    "Again work through the code below, line by line to make sure you understand exactly what the syntax is doing.  e.g. what does `\\n` do?  what does the `f` mean? Why do we use `usrlon+10` in the second call of `plt.annotate()`? What is contained in the variable `the_label`?"
   ]
  },
  {
   "cell_type": "code",
   "execution_count": 5,
   "id": "c4f475c8",
   "metadata": {},
   "outputs": [
    {
     "ename": "NameError",
     "evalue": "name 'plt' is not defined",
     "output_type": "error",
     "traceback": [
      "\u001b[0;31m---------------------------------------------------------------------------\u001b[0m",
      "\u001b[0;31mNameError\u001b[0m                                 Traceback (most recent call last)",
      "Input \u001b[0;32mIn [5]\u001b[0m, in \u001b[0;36m<cell line: 2>\u001b[0;34m()\u001b[0m\n\u001b[1;32m      1\u001b[0m \u001b[38;5;66;03m# output\u001b[39;00m\n\u001b[0;32m----> 2\u001b[0m fig \u001b[38;5;241m=\u001b[39m \u001b[43mplt\u001b[49m\u001b[38;5;241m.\u001b[39mfigure(figsize\u001b[38;5;241m=\u001b[39m(\u001b[38;5;241m12\u001b[39m,\u001b[38;5;241m6\u001b[39m))  \u001b[38;5;66;03m# make the figure a bit bigger\u001b[39;00m\n\u001b[1;32m      3\u001b[0m img \u001b[38;5;241m=\u001b[39m plt\u001b[38;5;241m.\u001b[39mcontourf(lons, lats, topo)\n\u001b[1;32m      4\u001b[0m plt\u001b[38;5;241m.\u001b[39maxis(\u001b[38;5;124m'\u001b[39m\u001b[38;5;124mequal\u001b[39m\u001b[38;5;124m'\u001b[39m)  \u001b[38;5;66;03m# set axis scaling to equal\u001b[39;00m\n",
      "\u001b[0;31mNameError\u001b[0m: name 'plt' is not defined"
     ]
    }
   ],
   "source": [
    "# output\n",
    "fig = plt.figure(figsize=(12,6))  # make the figure a bit bigger\n",
    "img = plt.contourf(lons, lats, topo)\n",
    "plt.axis('equal')  # set axis scaling to equal\n",
    "\n",
    "plt.annotate(\"X\", (usrlon, usrlat), color=\"red\")\n",
    "the_label = f\"lat: {lats[ilat]} deg\\nlon: {lons[ilon]} deg\\nheight: {topo[ilat, ilon]} m\"\n",
    "plt.annotate(the_label, (usrlon + 10, usrlat), color='white');"
   ]
  },
  {
   "cell_type": "markdown",
   "id": "3b3f88e7",
   "metadata": {},
   "source": [
    "___\n",
    "## Part 2:  Calculate the topographic slope:\n",
    "\n",
    "Your task is to solve the following problem: What is the east/west slope (in degrees) at the point you specify at the input? The east/west slope is a height difference between the point immediately to the RIGHT (or EAST) of the one you picked and the one immediately to the LEFT (or WEST) of it,  divided by the horizontal distance of these two points (think $slope = \\frac{rise}{run}$). Then take the arc-tangent to get the result in degrees:\n",
    "\n",
    "$$\n",
    "slope \\approx tan^{-1}\\left(\\frac{topo(i, j+1) - topo(i, j-1)}{\\Delta lon \\cdot 111e3 \\cdot cos(lat)}\\right)\n",
    "$$\n",
    "\n",
    "Make sure that you understand why the denominator in the equation above gives the horizontal distance of two points at the same latitude.  This is a key thing to know in earth / planetary science!  A picture might help -- think back to arc lengths on a circle.\n",
    "\n",
    "\n",
    "### Table 1: \n",
    "<a name=\"table-1-constants\"></a>\n",
    "\n",
    "| Symbol  | Units      | Description    |\n",
    "| :----------- | :-----------: |  :--------------------------------|\n",
    "| $topo$|  height [m]| topography array |\n",
    "| $i,j$ | [-] | lat, lon indices |\n",
    "|$\\Delta lon $|degrees | change in longitude between two points  | \n",
    "|$111e3$| metres/degree | at the equator, 1 degree=111000m   | \n",
    "|$lat$ | degrees| latitude of the point selected   |\n",
    "|$\\cos{lat}$|  [-]| correction factor for longitude convergence at the poles   |\n",
    "\n",
    "\n",
    "\n",
    "___\n",
    "### 2a\n",
    "\n",
    "In the cell below, write code to make this work for points well within the array (i.e. away from the edges of the map). Make sure the trigonometric functions you use are for degrees and not radians. You may find the functions `np.deg2rad()` and `np.rad2deg()` helpful.  Print the value of your slope as the last line of your cell."
   ]
  },
  {
   "cell_type": "code",
   "execution_count": 6,
   "id": "747b486c",
   "metadata": {
    "nbgrader": {
     "grade": true,
     "grade_id": "cell-55f3d47af7c94950",
     "locked": false,
     "points": 1,
     "schema_version": 3,
     "solution": true,
     "task": false
    }
   },
   "outputs": [
    {
     "ename": "NameError",
     "evalue": "name 'np' is not defined",
     "output_type": "error",
     "traceback": [
      "\u001b[0;31m---------------------------------------------------------------------------\u001b[0m",
      "\u001b[0;31mNameError\u001b[0m                                 Traceback (most recent call last)",
      "Input \u001b[0;32mIn [6]\u001b[0m, in \u001b[0;36m<cell line: 3>\u001b[0;34m()\u001b[0m\n\u001b[1;32m      1\u001b[0m \u001b[38;5;66;03m### BEGIN SOLUTION\u001b[39;00m\n\u001b[1;32m      2\u001b[0m \u001b[38;5;66;03m# andrew's soln\u001b[39;00m\n\u001b[0;32m----> 3\u001b[0m slope \u001b[38;5;241m=\u001b[39m \u001b[43mnp\u001b[49m\u001b[38;5;241m.\u001b[39mrad2deg(np\u001b[38;5;241m.\u001b[39marctan((topo[ilat, ilon \u001b[38;5;241m+\u001b[39m \u001b[38;5;241m1\u001b[39m] \n\u001b[1;32m      4\u001b[0m                               \u001b[38;5;241m-\u001b[39m topo[ilat, ilon \u001b[38;5;241m-\u001b[39m \u001b[38;5;241m1\u001b[39m]) \n\u001b[1;32m      5\u001b[0m                               \u001b[38;5;241m/\u001b[39m (\u001b[38;5;241m2\u001b[39m \u001b[38;5;241m*\u001b[39m \u001b[38;5;241m111e3\u001b[39m \n\u001b[1;32m      6\u001b[0m                               \u001b[38;5;241m*\u001b[39m np\u001b[38;5;241m.\u001b[39mcos(np\u001b[38;5;241m.\u001b[39mdeg2rad(usrlat)))))\n\u001b[1;32m      7\u001b[0m slope\n",
      "\u001b[0;31mNameError\u001b[0m: name 'np' is not defined"
     ]
    }
   ],
   "source": [
    "### BEGIN SOLUTION\n",
    "# andrew's soln\n",
    "slope = np.rad2deg(np.arctan((topo[ilat, ilon + 1] \n",
    "                              - topo[ilat, ilon - 1]) \n",
    "                              / (2 * 111e3 \n",
    "                              * np.cos(np.deg2rad(usrlat)))))\n",
    "slope\n",
    "### END SOLUTION"
   ]
  },
  {
   "cell_type": "markdown",
   "id": "6f04024f",
   "metadata": {},
   "source": [
    "___\n",
    "### 2b\n",
    "\n",
    "Use `if` `elif` `else` blocks to print the following message to the screen:\n",
    "\n",
    "(i)  The latitude and longitude of the selected point (note - latitudes can be N or S, longitudes can always be E)\n",
    "\n",
    "(ii)  The elevation AND the slope at that point (in degrees)\n",
    "\n",
    "(iii)  A  message  saying  “Flat”  if  the  slope  angle  is  between  -0.1  and  +0.1  degrees,  “East-facing,” or “West-facing” if the slope is larger and either east or west facing, respectively. An “east-facing” slope tilts DOWN towards the east. Use *f string literals* to compose the message in a nicely formatted way, something like:\n",
    "\n",
    "       At 30.5 N, 100.5 E, the height is 4014 m and the slope is -0.188 degrees. This is east-facing.\n",
    "       \n",
    "In part 3, you will create a scientific figure with the slope and aspect annotated on the plot. For now, print the message as the last line in the cell."
   ]
  },
  {
   "cell_type": "code",
   "execution_count": 7,
   "id": "a702a725",
   "metadata": {
    "nbgrader": {
     "grade": true,
     "grade_id": "cell-60a87209798c306b",
     "locked": false,
     "points": 1,
     "schema_version": 3,
     "solution": true,
     "task": false
    }
   },
   "outputs": [
    {
     "ename": "NameError",
     "evalue": "name 'slope' is not defined",
     "output_type": "error",
     "traceback": [
      "\u001b[0;31m---------------------------------------------------------------------------\u001b[0m",
      "\u001b[0;31mNameError\u001b[0m                                 Traceback (most recent call last)",
      "Input \u001b[0;32mIn [7]\u001b[0m, in \u001b[0;36m<cell line: 11>\u001b[0;34m()\u001b[0m\n\u001b[1;32m      8\u001b[0m     latdir \u001b[38;5;241m=\u001b[39m \u001b[38;5;124m\"\u001b[39m\u001b[38;5;124mN\u001b[39m\u001b[38;5;124m\"\u001b[39m\n\u001b[1;32m     10\u001b[0m \u001b[38;5;66;03m# formatting for slope direction\u001b[39;00m\n\u001b[0;32m---> 11\u001b[0m \u001b[38;5;28;01mif\u001b[39;00m \u001b[43mslope\u001b[49m \u001b[38;5;241m>\u001b[39m \u001b[38;5;241m0.1\u001b[39m:\n\u001b[1;32m     12\u001b[0m     aspect \u001b[38;5;241m=\u001b[39m \u001b[38;5;124m\"\u001b[39m\u001b[38;5;124mwest-facing\u001b[39m\u001b[38;5;124m\"\u001b[39m\n\u001b[1;32m     13\u001b[0m \u001b[38;5;28;01melif\u001b[39;00m slope \u001b[38;5;241m<\u001b[39m \u001b[38;5;241m-\u001b[39m\u001b[38;5;241m0.1\u001b[39m:\n",
      "\u001b[0;31mNameError\u001b[0m: name 'slope' is not defined"
     ]
    }
   ],
   "source": [
    "### BEGIN SOLUTION\n",
    "# andrew's soln\n",
    "\n",
    "# formatting for latitude\n",
    "if int(usrlat) < 0:\n",
    "    latdir = \"S\"\n",
    "else:\n",
    "    latdir = \"N\"\n",
    "\n",
    "# formatting for slope direction\n",
    "if slope > 0.1:\n",
    "    aspect = \"west-facing\"\n",
    "elif slope < -0.1:\n",
    "    aspect = \"east-facing\"\n",
    "else:\n",
    "    aspect = \"flat\"\n",
    "\n",
    "# make a formatted string\n",
    "out_msg = f\"At {lats[ilat]} {latdir}, {lons[ilon]} E, the height is \\\n",
    "{topo[ilat, ilon]} m and the slope is {np.round(slope,3)} degrees. This is {aspect}.\"\n",
    "\n",
    "print(out_msg)\n",
    "### END SOLUTION"
   ]
  },
  {
   "cell_type": "markdown",
   "id": "f2adf8ab",
   "metadata": {},
   "source": [
    "___\n",
    "##  Part 3: Selections - Check Arguments\n",
    "\n",
    "\n",
    "Often with user input, your program has to first check their validity to make sure they don’t crash the program or get an unwanted (incorrect) result. We already implemented code to make sure to reference the *closest available point to the input*, rather than trusting that input will precisely match the values in the arrays `lats` and `lons`. \n",
    "\n",
    "In general, it is a good strategy to write code to handle the majority of possible cases, running it, then modifying  to account for \"edge cases\" as needed.\n",
    "\n",
    "What other \"bad\" inputs can we anticipate that would result in buggy output? What if the user enters a value at the edge of the map (ie `usrlon = 355.5`), such that there is no $j+1$ element of the array? What about `usrlon = 0`? Modify your code from part **2a** as necessary to handle these possibilities. (**hint:** Do you encounter the same problem on both the left and right edges of the map? Why/why not?) \n",
    "\n",
    "___\n",
    "## To Hand In:\n",
    "\n",
    "In the cell(s) below, write a self contained program (you can recycle code from earlier parts of the lab) that runs through the whole process of *import/input, data scrubbing, presentation.*\n",
    "\n",
    "#### Import/Input\n",
    "This part should be pretty trivial, just copy/paste the appropriate code from above.  Use the variables\n",
    "`usrlat` and `usrlon` to hold your lat/lon coordinates.\n",
    "\n",
    "#### Data Scrubbing\n",
    "Use `if` `elif` `else` statements to handle the possible special cases for user input.  Assume that we\n",
    "will run your code for arbitrary values of `usrlat` and `usrlon`.\n",
    "\n",
    "#### Output\n",
    "Generate a scientific figure with the following:\n",
    "\n",
    "* An X marking the selected location\n",
    "* Text beside the X specifying the lat, lon, elevation, slope, and aspect (E or W facing) of the point\n",
    "* All the regular fixings for a scientific figure:\n",
    "\n",
    "<div class=\"alert alert-block alert-info\">\n",
    "<b>Scientific Figure Checklist:</b> \n",
    "\n",
    "- [ ] Title \n",
    "- [ ] Axes labels with units \n",
    "- [ ] Legend\n",
    "- [ ] Does the figure *make sense* just by looking at it? The data should be clear without referencing anything outside the figure\n",
    "- [ ] Does it *look good*? \n",
    "</div>"
   ]
  },
  {
   "cell_type": "code",
   "execution_count": 8,
   "id": "18f03158",
   "metadata": {
    "nbgrader": {
     "grade": true,
     "grade_id": "cell-ed90670f79cea64a",
     "locked": false,
     "points": 1,
     "schema_version": 3,
     "solution": true,
     "task": false
    }
   },
   "outputs": [
    {
     "ename": "ModuleNotFoundError",
     "evalue": "No module named 'e211_lib'",
     "output_type": "error",
     "traceback": [
      "\u001b[0;31m---------------------------------------------------------------------------\u001b[0m",
      "\u001b[0;31mModuleNotFoundError\u001b[0m                       Traceback (most recent call last)",
      "Input \u001b[0;32mIn [8]\u001b[0m, in \u001b[0;36m<cell line: 5>\u001b[0;34m()\u001b[0m\n\u001b[1;32m      1\u001b[0m \u001b[38;5;66;03m### BEGIN SOLUTION\u001b[39;00m\n\u001b[1;32m      2\u001b[0m \u001b[38;5;66;03m# andrew's soln\u001b[39;00m\n\u001b[1;32m      3\u001b[0m \n\u001b[1;32m      4\u001b[0m \u001b[38;5;66;03m### imports ###\u001b[39;00m\n\u001b[0;32m----> 5\u001b[0m \u001b[38;5;28;01mfrom\u001b[39;00m \u001b[38;5;21;01me211_lib\u001b[39;00m \u001b[38;5;28;01mimport\u001b[39;00m e211 \n\u001b[1;32m      6\u001b[0m \u001b[38;5;28;01mfrom\u001b[39;00m \u001b[38;5;21;01mmatplotlib\u001b[39;00m \u001b[38;5;28;01mimport\u001b[39;00m pyplot \u001b[38;5;28;01mas\u001b[39;00m plt\n\u001b[1;32m      7\u001b[0m \u001b[38;5;28;01mimport\u001b[39;00m \u001b[38;5;21;01mnumpy\u001b[39;00m \u001b[38;5;28;01mas\u001b[39;00m \u001b[38;5;21;01mnp\u001b[39;00m\n",
      "\u001b[0;31mModuleNotFoundError\u001b[0m: No module named 'e211_lib'"
     ]
    }
   ],
   "source": [
    "### BEGIN SOLUTION\n",
    "# andrew's soln\n",
    "\n",
    "### imports ###\n",
    "from e211_lib import e211 \n",
    "from matplotlib import pyplot as plt\n",
    "import numpy as np\n",
    "\n",
    "### inputs ###\n",
    "\n",
    "# dataset\n",
    "topo = e211.load_topo(\"lab5_topo.mat\")\n",
    "lats = np.linspace(-89.5, 89.5, topo.shape[0])\n",
    "lons = np.linspace(0.5, 359.5, topo.shape[1])\n",
    "\n",
    "# user inputs\n",
    "usrlat =  49.\n",
    "usrlon =  -123.\n",
    "ilat = np.abs(lats-usrlat).argmin()\n",
    "ilon = np.abs(lons-usrlon).argmin()\n",
    "\n",
    "\n",
    "### processing ###\n",
    "\n",
    "# filter inputs\n",
    "if ilon == len(lons)-1:\n",
    "    ilon = 0\n",
    "# (dont need to do anything for ilon = 0 case, indexing [-1] automatically solves it!)\n",
    "\n",
    "# calculate slope    \n",
    "slope = np.rad2deg(np.arctan((topo[ilat, ilon + 1] \n",
    "                              - topo[ilat, ilon - 1]) \n",
    "                              / (2 * 111e3 \n",
    "                              * np.cos(np.deg2rad(usrlat)))))\n",
    " \n",
    "# formatting for slope direction\n",
    "if slope > 0.1:\n",
    "    aspect = \"west\"\n",
    "elif slope < -0.1:\n",
    "    aspect = \"east\"\n",
    "else:\n",
    "    aspect = \"flat\"\n",
    "    \n",
    "# generate a variable to place the label correctly (bonus?)\n",
    "if ilon < 250:\n",
    "    offset = 10\n",
    "else:\n",
    "    offset = -70\n",
    "    \n",
    "### output ###\n",
    "\n",
    "fig, ax = plt.subplots()\n",
    "ax.contourf(lons, lats, topo)\n",
    "ax.annotate(\"X\", (usrlon, usrlat), color=\"red\")\n",
    "the_label = (\n",
    "    f\"lat: {lats[ilat]} deg\\nlon: {lons[ilon]} deg\\nheight: {topo[ilat, ilon]} m\"\n",
    "    + f\"\\nslope: {round(slope,3)}\\naspect: {aspect}\"\n",
    ")\n",
    "ax.annotate(the_label, (usrlon + offset, usrlat), color=\"white\")\n",
    "ax.set_xlabel(\"longitude (deg)\")\n",
    "ax.set_ylabel(\"latitude (deg)\")\n",
    "ax.set_title(\"Topographical Map of Earth\");\n",
    "### END SOLUTION"
   ]
  }
 ],
 "metadata": {
  "celltoolbar": "Create Assignment",
  "jupytext": {
   "cell_metadata_filter": "all",
   "encoding": "# -*- coding: utf-8 -*-",
   "formats": "py:percent,ipynb,md:myst",
   "notebook_metadata_filter": "all,-language_info,-toc,-latex_envs",
   "text_representation": {
    "extension": ".md",
    "format_name": "myst",
    "format_version": 0.13,
    "jupytext_version": "1.10.3"
   }
  },
  "kernelspec": {
   "display_name": "Python 3 (ipykernel)",
   "language": "python",
   "name": "python3"
  },
  "language_info": {
   "codemirror_mode": {
    "name": "ipython",
    "version": 3
   },
   "file_extension": ".py",
   "mimetype": "text/x-python",
   "name": "python",
   "nbconvert_exporter": "python",
   "pygments_lexer": "ipython3",
   "version": "3.9.12"
  },
  "source_map": [
   17,
   32,
   47,
   53,
   57,
   61,
   68,
   85,
   100,
   107,
   116,
   149,
   168,
   185,
   219,
   261
  ]
 },
 "nbformat": 4,
 "nbformat_minor": 5
}