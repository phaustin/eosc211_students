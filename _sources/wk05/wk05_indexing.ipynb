{
 "cells": [
  {
   "cell_type": "markdown",
   "id": "6df54aaa",
   "metadata": {},
   "source": [
    "# Indexing worksheet\n",
    "\n",
    "## Read in the data\n",
    "\n",
    "This is a fake satellite image with longwave flux in a vector called \"flux\" and brightness temperature in a vector called \"temp\".  I've stored them in an [npz file](https://numpy.org/doc/stable/reference/generated/numpy.savez.html) using np.savez.  If you\n",
    "are working on your laptop, you can download the npz file here: [temp_flux.npz]( https://github.com/phaustin/eosc211_students/blob/e211_live_main/wk05/temp_flux.npz)\n",
    "\n",
    "In the cells below, you'll be asked to add new points to the figure, and then\n",
    "redisplay using `display(fig)`"
   ]
  },
  {
   "cell_type": "code",
   "execution_count": null,
   "id": "9f716f98",
   "metadata": {},
   "outputs": [],
   "source": [
    "import numpy as np\n",
    "from matplotlib import pyplot as plt\n",
    "filename='temp_flux.npz'\n",
    "the_data = np.load(filename)\n",
    "flux = the_data['flux']\n",
    "temp = the_data['temp']\n",
    "fig, ax = plt.subplots(1,1)\n",
    "ax.plot(flux,temp, 'b.');"
   ]
  },
  {
   "cell_type": "markdown",
   "id": "57fce8d5",
   "metadata": {},
   "source": [
    "you can redisplay a modfied figure like this:"
   ]
  },
  {
   "cell_type": "code",
   "execution_count": null,
   "id": "c812f5e4",
   "metadata": {},
   "outputs": [],
   "source": [
    "ax.set_title('flux vs. temperature')\n",
    "ax.set_xlabel('shortwave flux (W/m^2)')\n",
    "ax.set_ylabel('temperature K')\n",
    "display(fig)"
   ]
  },
  {
   "cell_type": "markdown",
   "id": "4b6413e6",
   "metadata": {},
   "source": [
    "## Q1 -- `logical_and` for flux\n",
    "\n",
    "Find all pixels with flux values between 500 and 550 $W/m^2$ and color them yellow."
   ]
  },
  {
   "cell_type": "code",
   "execution_count": null,
   "id": "4e328f3c",
   "metadata": {},
   "outputs": [],
   "source": [
    "# your code here"
   ]
  },
  {
   "cell_type": "markdown",
   "id": "14eba808",
   "metadata": {},
   "source": [
    "## Q2 -- `logical_and` for temperature and flux\n",
    "\n",
    "Now extend this by finding all pixels with fluxes between 500 and 550 $W/m^2$\n",
    "and temperatures greater than 300 K and color those cyan.  Redisplay the figure."
   ]
  },
  {
   "cell_type": "code",
   "execution_count": null,
   "id": "7b230c09",
   "metadata": {},
   "outputs": [],
   "source": [
    "# your code here"
   ]
  },
  {
   "cell_type": "markdown",
   "id": "53ba2aaf",
   "metadata": {},
   "source": [
    "## Q3 -- argmax\n",
    "\n",
    "Now find the index of the maximum temperature, and use that index to find the flux for that hottest pixel.\n",
    "Make that pixel a large green dot with `ax.plot(the_flux,the_temp,'g.',markersize=20)`"
   ]
  },
  {
   "cell_type": "code",
   "execution_count": null,
   "id": "e84911e9",
   "metadata": {},
   "outputs": [],
   "source": [
    "# your code here"
   ]
  }
 ],
 "metadata": {
  "jupytext": {
   "cell_metadata_filter": "all",
   "formats": "ipynb,md:myst",
   "notebook_metadata_filter": "all,-language_info,-toc,-latex_envs",
   "text_representation": {
    "extension": ".md",
    "format_name": "myst",
    "format_version": 0.13,
    "jupytext_version": "1.10.3"
   }
  },
  "kernelspec": {
   "display_name": "Python 3 (ipykernel)",
   "language": "python",
   "name": "python3"
  },
  "source_map": [
   15,
   27,
   36,
   40,
   45,
   51,
   53,
   60,
   62,
   69
  ]
 },
 "nbformat": 4,
 "nbformat_minor": 5
}