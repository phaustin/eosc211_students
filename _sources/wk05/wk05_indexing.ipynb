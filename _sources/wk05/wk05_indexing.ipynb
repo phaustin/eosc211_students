{
 "cells": [
  {
   "cell_type": "markdown",
   "id": "53c60acf",
   "metadata": {},
   "source": [
    "# Indexing worksheet\n",
    "\n",
    "## Read in the data\n",
    "\n",
    "This is a fake satellite image with longwave flux in a vector called \"flux\" and brightness temperature in a vector called \"temp\".  I've stored them in an [npz file](https://numpy.org/doc/stable/reference/generated/numpy.savez.html) using np.savez.  If you\n",
    "are working on your laptop, you can download the npz file here: [temp_flux.npz]( https://github.com/phaustin/eosc211_students/blob/e211_live_main/wk05/temp_flux.npz)\n",
    "\n",
    "In the cells below, you'll be asked to add new points to the figure, and then\n",
    "redisplay using `display(fig)`"
   ]
  },
  {
   "cell_type": "code",
   "execution_count": null,
   "id": "9189d58d",
   "metadata": {},
   "outputs": [],
   "source": [
    "import numpy as np\n",
    "from matplotlib import pyplot as plt\n",
    "filename='temp_flux.npz'\n",
    "the_data = np.load(filename)\n",
    "flux = the_data['flux']\n",
    "temp = the_data['temp']\n",
    "fig, ax = plt.subplots(1,1)\n",
    "ax.plot(flux,temp, 'b.');"
   ]
  },
  {
   "cell_type": "markdown",
   "id": "7c123e38",
   "metadata": {},
   "source": [
    "you can redisplay a modfied figure like this:"
   ]
  },
  {
   "cell_type": "code",
   "execution_count": null,
   "id": "bde8dae0",
   "metadata": {},
   "outputs": [],
   "source": [
    "ax.set_title('flux vs. temperature')\n",
    "ax.set_xlabel('shortwave flux (W/m^2)')\n",
    "ax.set_ylabel('temperature K')\n",
    "display(fig)"
   ]
  },
  {
   "cell_type": "markdown",
   "id": "8a6119e3",
   "metadata": {},
   "source": [
    "## Q1 -- `logical_and` for flux\n",
    "\n",
    "Find all pixels with flux values between 500 and 550 $W/m^2$ and color them yellow."
   ]
  },
  {
   "cell_type": "code",
   "execution_count": null,
   "id": "30b0e71a",
   "metadata": {},
   "outputs": [],
   "source": [
    "# your code here"
   ]
  },
  {
   "cell_type": "markdown",
   "id": "2cf9ade7",
   "metadata": {},
   "source": [
    "## Q2 -- `logical_and` for temperature and flux\n",
    "\n",
    "Now extend this by finding all pixels with fluxes between 500 and 550 $W/m^2$\n",
    "and temperatures greater than 300 K and color those cyan.  Redisplay the figure."
   ]
  },
  {
   "cell_type": "code",
   "execution_count": null,
   "id": "419a47ac",
   "metadata": {},
   "outputs": [],
   "source": [
    "# your code here"
   ]
  },
  {
   "cell_type": "markdown",
   "id": "b3f5f451",
   "metadata": {},
   "source": [
    "## Q3 -- argmax\n",
    "\n",
    "Now find the index of the maximum temperature, and use that index to find the flux for that hottest pixel.\n",
    "Make that pixel a large green dot with `ax.plot(the_flux,the_temp,'g.',markersize=20)`"
   ]
  },
  {
   "cell_type": "code",
   "execution_count": null,
   "id": "9fc08363",
   "metadata": {},
   "outputs": [],
   "source": [
    "# your code here"
   ]
  }
 ],
 "metadata": {
  "jupytext": {
   "cell_metadata_filter": "all",
   "formats": "ipynb,md:myst",
   "notebook_metadata_filter": "all,-language_info,-toc,-latex_envs",
   "text_representation": {
    "extension": ".md",
    "format_name": "myst",
    "format_version": 0.13,
    "jupytext_version": "1.10.3"
   }
  },
  "kernelspec": {
   "display_name": "Python 3 (ipykernel)",
   "language": "python",
   "name": "python3"
  },
  "source_map": [
   15,
   27,
   36,
   40,
   45,
   51,
   53,
   60,
   62,
   69
  ]
 },
 "nbformat": 4,
 "nbformat_minor": 5
}