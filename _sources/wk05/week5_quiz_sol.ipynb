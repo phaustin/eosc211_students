{
 "cells": [
  {
   "cell_type": "markdown",
   "id": "1a8b7383",
   "metadata": {},
   "source": [
    "- **Name:**\n",
    "- **Student number:**"
   ]
  },
  {
   "cell_type": "markdown",
   "id": "7482cb0c",
   "metadata": {},
   "source": [
    "# Week 5 quiz solution\n",
    "\n",
    "**Instructions**:  The three items on this page show the python code in individual cells in a  jupyter notebook.  For each of the three, write down what the cell would display if you ran it."
   ]
  },
  {
   "cell_type": "code",
   "execution_count": null,
   "id": "2a6ca40b",
   "metadata": {},
   "outputs": [],
   "source": [
    "a=5\n",
    "if a > 2:\n",
    "    print(a)\n",
    "if a < 6:\n",
    "    print(a)\n",
    "else:\n",
    "    print(\"failed all tests\")"
   ]
  },
  {
   "cell_type": "code",
   "execution_count": null,
   "id": "a2936f68",
   "metadata": {},
   "outputs": [],
   "source": [
    "a=7\n",
    "if a <10 and a > 9:\n",
    "    print(a)\n",
    "elif a > 11:\n",
    "    print(a)\n",
    "else:\n",
    "    print('failed all tests')"
   ]
  },
  {
   "cell_type": "code",
   "execution_count": null,
   "id": "498e42ab",
   "metadata": {},
   "outputs": [],
   "source": [
    "import numpy as np\n",
    "a = np.arange(20,dtype=np.float64)\n",
    "hit = np.logical_and(a > 8 , a < 13)\n",
    "print(a[hit])\n",
    "print(a.dtype)"
   ]
  }
 ],
 "metadata": {
  "jupytext": {
   "formats": "ipynb,md:myst",
   "text_representation": {
    "extension": ".md",
    "format_name": "myst",
    "format_version": 0.13,
    "jupytext_version": "1.11.4"
   }
  },
  "kernelspec": {
   "display_name": "Python 3 (ipykernel)",
   "language": "python",
   "name": "python3"
  },
  "source_map": [
   13,
   18,
   24,
   34,
   44
  ]
 },
 "nbformat": 4,
 "nbformat_minor": 5
}