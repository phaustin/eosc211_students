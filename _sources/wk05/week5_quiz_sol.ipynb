{
 "cells": [
  {
   "cell_type": "markdown",
   "id": "c000a252",
   "metadata": {},
   "source": [
    "- **Name:**\n",
    "- **Student number:**"
   ]
  },
  {
   "cell_type": "markdown",
   "id": "5e37e49c",
   "metadata": {},
   "source": [
    "# Week 5 quiz solution\n",
    "\n",
    "**Instructions**:  The three items on this page show the python code in individual cells in a  jupyter notebook.  For each of the three, write down what the cell would display if you ran it."
   ]
  },
  {
   "cell_type": "code",
   "execution_count": 1,
   "id": "9dd10bfb",
   "metadata": {},
   "outputs": [
    {
     "name": "stdout",
     "output_type": "stream",
     "text": [
      "5\n",
      "5\n"
     ]
    }
   ],
   "source": [
    "a=5\n",
    "if a > 2:\n",
    "    print(a)\n",
    "if a < 6:\n",
    "    print(a)\n",
    "else:\n",
    "    print(\"failed all tests\")"
   ]
  },
  {
   "cell_type": "code",
   "execution_count": 2,
   "id": "5d7563db",
   "metadata": {},
   "outputs": [
    {
     "name": "stdout",
     "output_type": "stream",
     "text": [
      "failed all tests\n"
     ]
    }
   ],
   "source": [
    "a=7\n",
    "if a <10 and a > 9:\n",
    "    print(a)\n",
    "elif a > 11:\n",
    "    print(a)\n",
    "else:\n",
    "    print('failed all tests')"
   ]
  },
  {
   "cell_type": "code",
   "execution_count": 3,
   "id": "566048fc",
   "metadata": {},
   "outputs": [
    {
     "name": "stdout",
     "output_type": "stream",
     "text": [
      "[ 9. 10. 11. 12.]\n",
      "float64\n"
     ]
    }
   ],
   "source": [
    "import numpy as np\n",
    "a = np.arange(20,dtype=np.float64)\n",
    "hit = np.logical_and(a > 8 , a < 13)\n",
    "print(a[hit])\n",
    "print(a.dtype)"
   ]
  }
 ],
 "metadata": {
  "jupytext": {
   "formats": "ipynb,md:myst",
   "text_representation": {
    "extension": ".md",
    "format_name": "myst",
    "format_version": 0.13,
    "jupytext_version": "1.11.4"
   }
  },
  "kernelspec": {
   "display_name": "Python 3 (ipykernel)",
   "language": "python",
   "name": "python3"
  },
  "language_info": {
   "codemirror_mode": {
    "name": "ipython",
    "version": 3
   },
   "file_extension": ".py",
   "mimetype": "text/x-python",
   "name": "python",
   "nbconvert_exporter": "python",
   "pygments_lexer": "ipython3",
   "version": "3.8.10"
  },
  "source_map": [
   13,
   18,
   24,
   34,
   44
  ]
 },
 "nbformat": 4,
 "nbformat_minor": 5
}