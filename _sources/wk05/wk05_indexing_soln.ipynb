{
 "cells": [
  {
   "cell_type": "markdown",
   "id": "fcce7a2c",
   "metadata": {},
   "source": [
    "# Week 5 indexing solution\n",
    "\n",
    "First -- generate some random data for indexing"
   ]
  },
  {
   "cell_type": "code",
   "execution_count": null,
   "id": "56a59a3b",
   "metadata": {},
   "outputs": [],
   "source": [
    "import numpy.random as nr\n",
    "from matplotlib import pyplot as plt\n",
    "import numpy as np\n",
    "def makeRandom(meanx=None,stdx=None,meany=None,stdy=None,rho=None,\n",
    "               numpoints=4000):\n",
    "    \"\"\"\n",
    "        return a tuple with two vectors (xvec,yvec) giving the\n",
    "        coordinates of numpoints chosen from a two dimensional\n",
    "        Gauassian distribution\n",
    "\n",
    "        Parameters\n",
    "        ----------\n",
    "\n",
    "        meanx: float -- mean in x direction\n",
    "        stdx:  float -- standard deviation in x direction\n",
    "        meany: float -- mean in y direction\n",
    "        stdy:  float -- standar deviation in y direction\n",
    "        numpoints:  length of returned xvec and yvec\n",
    "        \n",
    "\n",
    "        Returns\n",
    "        -------\n",
    "\n",
    "        (xvec, yvec): tuple of ndarray vectors of length numpoints\n",
    "\n",
    "        Example\n",
    "        -------\n",
    "\n",
    "        invalues={'meanx':450.,\n",
    "                  'stdx':50,\n",
    "                  'meany':270,\n",
    "                  'stdy':40,\n",
    "                  'rho':0.8}\n",
    "\n",
    "        chanx,chany=makeRandom(**invalues)\n",
    "        \n",
    "\n",
    "    \"\"\"\n",
    " \n",
    "    nr.seed(50)\n",
    "    sigma=np.array([stdx**2., rho*stdx*stdy, rho*stdx*stdy, stdy**2.])\n",
    "    sigma.shape=[2,2]\n",
    "    meanvec=[meanx,meany]\n",
    "    outRandom=nr.multivariate_normal(meanvec,sigma,[numpoints,])\n",
    "    chan1=outRandom[:,0]\n",
    "    chan2=outRandom[:,1]\n",
    "    return (chan1,chan2)"
   ]
  },
  {
   "cell_type": "code",
   "execution_count": null,
   "id": "2ce61156",
   "metadata": {},
   "outputs": [],
   "source": [
    "#\n",
    "# first bullseye centered at (x=450,y= -180)\n",
    "#\n",
    "invalues={'meanx':450.,\n",
    "          'stdx':50,\n",
    "          'meany':270,\n",
    "          'stdy':20,\n",
    "          'rho':0.8}\n",
    "\n",
    "\n",
    "chanx,chany=makeRandom(**invalues)\n",
    "\n",
    "#\n",
    "# second bullseye centered at (x=50,y=-80)\n",
    "#\n",
    "bullseye={'meanx':50.,\n",
    "          'stdx':14,\n",
    "          'meany':250,\n",
    "          'stdy':14,\n",
    "          'rho':0.0}\n",
    "\n",
    "chanxB,chanyB=makeRandom(**bullseye)\n",
    "chanx=np.concatenate((chanx,chanxB))\n",
    "chany=np.concatenate((chany,chanyB))"
   ]
  },
  {
   "cell_type": "code",
   "execution_count": null,
   "id": "11f3ac48",
   "metadata": {},
   "outputs": [],
   "source": [
    "fig, ax = plt.subplots(1,1)\n",
    "ax.plot(chanx,chany,'b.')\n",
    "ax.set_title('flux vs. temperature')\n",
    "ax.set_xlabel('shortwave flux (W/m^2)')\n",
    "ax.set_ylabel('temperature K')\n",
    "np.savez('temp_flux.npz',flux=chanx,temp=chany)"
   ]
  },
  {
   "cell_type": "markdown",
   "id": "437c313c",
   "metadata": {},
   "source": [
    "## Read in the data\n",
    "\n",
    "This is a fake satellite image with longwave flulx in a vector called \"flux\" and brightness temperature in a vector called \"temp\".  I've stored them in an [npz file](https://numpy.org/doc/stable/reference/generated/numpy.savez.html) using np.savez.\n",
    "\n",
    "In the cells below, you'll be asked to add new points to the figure, and then\n",
    "redisplay using `display(fig)`"
   ]
  },
  {
   "cell_type": "code",
   "execution_count": null,
   "id": "b54986b8",
   "metadata": {},
   "outputs": [],
   "source": [
    "filename='temp_flux.npz'\n",
    "the_data = np.load(filename)\n",
    "flux = the_data['flux']\n",
    "temp = the_data['temp']\n",
    "ax.plot(flux,temp, 'b.')\n",
    "display(fig)"
   ]
  },
  {
   "cell_type": "markdown",
   "id": "686cfd12",
   "metadata": {},
   "source": [
    "## Q1 -- `logical_and` for flux\n",
    "\n",
    "Find all pixels with flux values between 500 and 550 $W/m^2$ and color them yellow."
   ]
  },
  {
   "cell_type": "code",
   "execution_count": null,
   "id": "85b0ec1b",
   "metadata": {},
   "outputs": [],
   "source": [
    "hit = np.logical_and(flux > 500,flux< 550)\n",
    "ax.plot(flux[hit],temp[hit], 'y.')\n",
    "display(fig)"
   ]
  },
  {
   "cell_type": "code",
   "execution_count": null,
   "id": "7624ebe7",
   "metadata": {},
   "outputs": [],
   "source": [
    "np.sum(hit)"
   ]
  },
  {
   "cell_type": "markdown",
   "id": "154f79af",
   "metadata": {},
   "source": [
    "## Q2 -- `logical_and` for temperature and flux\n",
    "\n",
    "Now extend this by finding all pixels with fluxes between 500 and 550 $W/m^2$\n",
    "and temperatures greater than 300 K and color those cyan.  Redisplay the figure."
   ]
  },
  {
   "cell_type": "code",
   "execution_count": null,
   "id": "d3df9680",
   "metadata": {},
   "outputs": [],
   "source": [
    "hit2 = temp > 300.\n",
    "combined = np.logical_and(hit, hit2)\n",
    "ax.plot(flux[combined], temp[combined], 'c.')\n",
    "display(fig)\n",
    "np.sum(combined)\n",
    "plt.hist(temp[combined])"
   ]
  },
  {
   "cell_type": "markdown",
   "id": "7766ebf7",
   "metadata": {},
   "source": [
    "## Q3 -- argmax\n",
    "\n",
    "Now find the index of the maximum temperature, and use that index to find the flux for that hottest pixel.\n",
    "Make that pixel a large green dot with `ax.plot(the_flux,the_temp,'g.',markersize=20)`"
   ]
  },
  {
   "cell_type": "code",
   "execution_count": null,
   "id": "3742a3fd",
   "metadata": {},
   "outputs": [],
   "source": [
    "maxtemp_index = np.argmax(temp)\n",
    "the_temp = temp[maxtemp_index]\n",
    "the_flux = flux[maxtemp_index]\n",
    "ax.plot(the_flux,the_temp,'g.',markersize=20)\n",
    "display(fig)"
   ]
  }
 ],
 "metadata": {
  "jupytext": {
   "cell_metadata_filter": "all",
   "notebook_metadata_filter": "all,-language_info,-toc,-latex_envs",
   "text_representation": {
    "extension": ".md",
    "format_name": "myst",
    "format_version": 0.13,
    "jupytext_version": "1.10.3"
   }
  },
  "kernelspec": {
   "display_name": "Python 3 (ipykernel)",
   "language": "python",
   "name": "python3"
  },
  "source_map": [
   14,
   20,
   70,
   97,
   104,
   113,
   120,
   126,
   132,
   134,
   141,
   148,
   155
  ]
 },
 "nbformat": 4,
 "nbformat_minor": 5
}