{
 "cells": [
  {
   "cell_type": "markdown",
   "id": "6a89b913",
   "metadata": {},
   "source": [
    "- **Name:**\n",
    "- **Student number:**"
   ]
  },
  {
   "cell_type": "markdown",
   "id": "29a89e68",
   "metadata": {},
   "source": [
    "# Week 5 quiz\n",
    "\n",
    "## If/then/else\n",
    "\n",
    "**Instructions**:  The three items on this page show the python code in individual cells in a  jupyter notebook.  For each of the three, write down what the cell would display if you ran it."
   ]
  },
  {
   "cell_type": "code",
   "execution_count": 1,
   "id": "deaf4b58",
   "metadata": {},
   "outputs": [
    {
     "name": "stdout",
     "output_type": "stream",
     "text": [
      "5\n",
      "5\n"
     ]
    }
   ],
   "source": [
    "a=5\n",
    "if a > 2:\n",
    "    print(a)\n",
    "if a < 6:\n",
    "    print(a)\n",
    "else:\n",
    "    print(\"failed all tests\")"
   ]
  },
  {
   "cell_type": "code",
   "execution_count": 2,
   "id": "8470142d",
   "metadata": {},
   "outputs": [
    {
     "name": "stdout",
     "output_type": "stream",
     "text": [
      "failed all tests\n"
     ]
    }
   ],
   "source": [
    "a=7\n",
    "if a <10 and a > 9:\n",
    "    print(a)\n",
    "elif a > 11:\n",
    "    print(a)\n",
    "else:\n",
    "    print('failed all tests')"
   ]
  },
  {
   "cell_type": "code",
   "execution_count": 3,
   "id": "2cb4933c",
   "metadata": {},
   "outputs": [
    {
     "name": "stdout",
     "output_type": "stream",
     "text": [
      "[ 9. 10. 11. 12.]\n",
      "float64\n"
     ]
    }
   ],
   "source": [
    "import numpy as np\n",
    "a = np.arange(20,dtype=np.float64)\n",
    "hit = np.logical_and(a > 8 , a < 13)\n",
    "print(a[hit])\n",
    "print(a.dtype)"
   ]
  }
 ],
 "metadata": {
  "celltoolbar": "Create Assignment",
  "jupytext": {
   "cell_metadata_filter": "all",
   "formats": "ipynb,md:myst",
   "notebook_metadata_filter": "all",
   "text_representation": {
    "extension": ".md",
    "format_name": "myst",
    "format_version": 0.13,
    "jupytext_version": "1.10.3"
   }
  },
  "kernelspec": {
   "display_name": "Python 3 (ipykernel)",
   "language": "python",
   "name": "python3"
  },
  "language_info": {
   "codemirror_mode": {
    "name": "ipython",
    "version": 3
   },
   "file_extension": ".py",
   "mimetype": "text/x-python",
   "name": "python",
   "nbconvert_exporter": "python",
   "pygments_lexer": "ipython3",
   "version": "3.8.12"
  },
  "source_map": [
   26,
   31,
   39,
   49,
   59
  ]
 },
 "nbformat": 4,
 "nbformat_minor": 5
}