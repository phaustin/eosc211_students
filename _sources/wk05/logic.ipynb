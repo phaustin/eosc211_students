{
 "cells": [
  {
   "cell_type": "markdown",
   "id": "274dc103",
   "metadata": {},
   "source": [
    "# Logic\n",
    "\n",
    "## EOSC 211\n",
    "\n",
    "**Week 5 Day 1**\n",
    "\n",
    "**Learning Objectives:**  \n",
    "1. ?\n",
    "\n",
    "**Write either Python or pseudo code to solve the following problems (change cells to 'markdown' if writing pseudo code)**"
   ]
  },
  {
   "cell_type": "markdown",
   "id": "85c29e09",
   "metadata": {},
   "source": [
    "## Question 1\n",
    "\n",
    "**Assume you have two variables `X` and `Y`, which each hold a single number. Assign the smallest of the two numbers to the variable `sml`.**"
   ]
  },
  {
   "cell_type": "code",
   "execution_count": 1,
   "id": "ea15cbfa",
   "metadata": {},
   "outputs": [],
   "source": [
    "# your code here"
   ]
  },
  {
   "cell_type": "code",
   "execution_count": 2,
   "id": "a76eee92",
   "metadata": {},
   "outputs": [],
   "source": [
    "# andrew's soln\n",
    "x = 1\n",
    "y = 2\n",
    "\n",
    "if x < y:\n",
    "    sml = x\n",
    "else:\n",
    "    sml = y"
   ]
  },
  {
   "cell_type": "markdown",
   "id": "c24b80f0",
   "metadata": {},
   "source": [
    "## Question 2\n",
    "**Modify your code, so that SML contains `None` if the values `X` and `Y` are the same.**"
   ]
  },
  {
   "cell_type": "code",
   "execution_count": 3,
   "id": "048400c3",
   "metadata": {},
   "outputs": [],
   "source": [
    "# your code here"
   ]
  },
  {
   "cell_type": "code",
   "execution_count": 4,
   "id": "bee37399",
   "metadata": {},
   "outputs": [],
   "source": [
    "# andrew's soln\n",
    "if x < y:\n",
    "    sml = x\n",
    "elif x == y:\n",
    "    sml = None\n",
    "else:\n",
    "    sml = y"
   ]
  },
  {
   "cell_type": "markdown",
   "id": "5f289621",
   "metadata": {},
   "source": [
    "## Question 3\n",
    "\n",
    "**Modify your code to put the smallest of the numbers in a 3-element list `X=[a, b, c]` into the variable SML.**"
   ]
  },
  {
   "cell_type": "code",
   "execution_count": 5,
   "id": "b62451dc",
   "metadata": {},
   "outputs": [],
   "source": [
    "# your code here"
   ]
  },
  {
   "cell_type": "code",
   "execution_count": 6,
   "id": "f80ef68f",
   "metadata": {},
   "outputs": [],
   "source": [
    "# andrew's soln\n",
    "x = [14, 21, 1]\n",
    "sml = min(x)"
   ]
  },
  {
   "cell_type": "markdown",
   "id": "0ea41b23",
   "metadata": {},
   "source": [
    "## Question 4\n",
    "\n",
    "**Longitudes “wrap around” the earth, so that any longitude may be given as a positive value between 0 and 360 degrees (going eastward), or a negative value between 0 and -360 degrees (going westward). The location of the “0” degree line is the same in both cases. But this means that a longitude of 355 and a longitude of -5 refer to the same place!\n",
    "Given two arbitrary values LON1 and LON2 in the range -360 to +360, write a selection that decides whether these two values refer to the same point. Create a variable same that has a value of `True` if they refer to the same point and a value `False` if they refer to different points.**\n",
    "\n",
    "**Does it work? - Test your code with pairs of numbers like (5,5), (5,-355), (5,355),(-5,355),(0,0),(360,360),(0,360), etc**"
   ]
  },
  {
   "cell_type": "code",
   "execution_count": 7,
   "id": "633e5201",
   "metadata": {},
   "outputs": [],
   "source": [
    "# your code here"
   ]
  },
  {
   "cell_type": "code",
   "execution_count": 8,
   "id": "c4a65833",
   "metadata": {},
   "outputs": [
    {
     "name": "stdout",
     "output_type": "stream",
     "text": [
      "True\n"
     ]
    }
   ],
   "source": [
    "# andrew's soln\n",
    "lon1 = 355\n",
    "lon2 = -5\n",
    "\n",
    "lons = (lon1, lon2)\n",
    "\n",
    "# use the sml function from q3\n",
    "sml = min(lons)\n",
    "big = max(lons)\n",
    "\n",
    "if big - sml == 360:\n",
    "    same = True\n",
    "# catch the case where lon1 = lon2\n",
    "elif big - sml == 0:\n",
    "    same = True\n",
    "else:\n",
    "    same = False\n",
    "    \n",
    "print(same)"
   ]
  }
 ],
 "metadata": {
  "jupytext": {
   "formats": "ipynb,md:myst",
   "text_representation": {
    "extension": ".md",
    "format_name": "myst",
    "format_version": 0.13,
    "jupytext_version": "1.10.3"
   }
  },
  "kernelspec": {
   "display_name": "Python 3 (ipykernel)",
   "language": "python",
   "name": "python3"
  },
  "language_info": {
   "codemirror_mode": {
    "name": "ipython",
    "version": 3
   },
   "file_extension": ".py",
   "mimetype": "text/x-python",
   "name": "python",
   "nbconvert_exporter": "python",
   "pygments_lexer": "ipython3",
   "version": "3.8.12"
  },
  "source_map": [
   13,
   26,
   32,
   36,
   45,
   50,
   54,
   62,
   68,
   72,
   76,
   85,
   89
  ]
 },
 "nbformat": 4,
 "nbformat_minor": 5
}