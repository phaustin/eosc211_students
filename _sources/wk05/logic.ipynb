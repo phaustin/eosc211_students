{
 "cells": [
  {
   "cell_type": "markdown",
   "id": "a3867396",
   "metadata": {},
   "source": [
    "# Logic\n",
    "\n",
    "## EOSC 211\n",
    "\n",
    "**Week 5**\n",
    "\n",
    "**Learning Objectives:**  \n",
    "\n",
    "1. Use `if`, `elif`, `else` statements to write *non-linear code* (see this week's [reading](https://phaustin.github.io/Problem-Solving-with-Python/If-Else-Try-Except/Selection-Statements.html))\n",
    "2. Apply logical flow control to an earth science problem"
   ]
  },
  {
   "cell_type": "markdown",
   "id": "568549fb",
   "metadata": {},
   "source": [
    "## Question 1\n",
    "\n",
    "**Assume you have two variables `X` and `Y`, which each hold a single number. Assign the smallest of the two numbers to the variable `sml` using `if` and `else`.**"
   ]
  },
  {
   "cell_type": "code",
   "execution_count": 1,
   "id": "95112e91",
   "metadata": {},
   "outputs": [],
   "source": [
    "# your code here"
   ]
  },
  {
   "cell_type": "markdown",
   "id": "767fae81",
   "metadata": {},
   "source": [
    "## Question 2\n",
    "**Modify your code, so that `sml` contains `None` if the values `x` and `y` are the same. Print the values in `x`, `y`, `sml` and the type of the variable `sml`**"
   ]
  },
  {
   "cell_type": "code",
   "execution_count": 2,
   "id": "36a9be28",
   "metadata": {},
   "outputs": [],
   "source": [
    "# your code here"
   ]
  },
  {
   "cell_type": "markdown",
   "id": "7531cc61",
   "metadata": {},
   "source": [
    "## Question 3\n",
    "**Modify your code in question 2, so that `sml` contains `NaN` if the values `x` and `y` are the same.**"
   ]
  },
  {
   "cell_type": "code",
   "execution_count": 3,
   "id": "8fd8d0c6",
   "metadata": {},
   "outputs": [],
   "source": [
    "# your code here"
   ]
  },
  {
   "cell_type": "markdown",
   "id": "eca89ff3",
   "metadata": {},
   "source": [
    "## Question 4\n",
    "\n",
    "**Modify your code to put the smallest of the numbers in a 3-element list `X=[a, b, c]` into the variable SML.**"
   ]
  },
  {
   "cell_type": "code",
   "execution_count": 4,
   "id": "2afac0d9",
   "metadata": {},
   "outputs": [],
   "source": [
    "# your code here"
   ]
  },
  {
   "cell_type": "markdown",
   "id": "05e4c555",
   "metadata": {},
   "source": [
    "## Question 5\n",
    "\n",
    "**Modify your code in question 4 so that X is now a 1d vector.**"
   ]
  },
  {
   "cell_type": "code",
   "execution_count": 5,
   "id": "2456f27b",
   "metadata": {},
   "outputs": [],
   "source": [
    "# your code here"
   ]
  },
  {
   "cell_type": "markdown",
   "id": "784b5f9d",
   "metadata": {},
   "source": [
    "## Question 6\n",
    "\n",
    "**Longitudes “wrap around” the earth, so that any longitude may be given as a positive value between 0 and 360 degrees (going eastward), or a negative value between 0 and -360 degrees (going westward). The location of the “0” degree line is the same in both cases. But this means that a longitude of 355 and a longitude of -5 refer to the same place!\n",
    "Given two arbitrary values LON1 and LON2 in the range -360 to +360, write a selection that decides whether these two values refer to the same point. Create a variable same that has a value of `True` if they refer to the same point and a value `False` if they refer to different points.**\n",
    "\n",
    "**Does it work? - Test your code with pairs of numbers like (5,5), (5,-355), (5,355),(-5,355),(0,0),(360,360),(0,360), etc**"
   ]
  },
  {
   "cell_type": "code",
   "execution_count": 6,
   "id": "75d43add",
   "metadata": {},
   "outputs": [],
   "source": [
    "# your code here"
   ]
  },
  {
   "cell_type": "code",
   "execution_count": 7,
   "id": "294c524c",
   "metadata": {},
   "outputs": [
    {
     "name": "stdout",
     "output_type": "stream",
     "text": [
      "True\n"
     ]
    }
   ],
   "source": [
    "# andrew's soln\n",
    "lon1 = 355 # try messing with these values\n",
    "lon2 = -5\n",
    "\n",
    "lons = (lon1, lon2)\n",
    "\n",
    "# use the sml function from q3\n",
    "sml = min(lons)\n",
    "big = max(lons)\n",
    "\n",
    "if big - sml == 360:\n",
    "    same = True\n",
    "# catch the case where lon1 = lon2\n",
    "elif big - sml == 0:\n",
    "    same = True\n",
    "else:\n",
    "    same = False\n",
    "    \n",
    "print(same)"
   ]
  }
 ],
 "metadata": {
  "jupytext": {
   "formats": "ipynb,md:myst",
   "text_representation": {
    "extension": ".md",
    "format_name": "myst",
    "format_version": 0.13,
    "jupytext_version": "1.11.4"
   }
  },
  "kernelspec": {
   "display_name": "Python 3 (ipykernel)",
   "language": "python",
   "name": "python3"
  },
  "language_info": {
   "codemirror_mode": {
    "name": "ipython",
    "version": 3
   },
   "file_extension": ".py",
   "mimetype": "text/x-python",
   "name": "python",
   "nbconvert_exporter": "python",
   "pygments_lexer": "ipython3",
   "version": "3.8.10"
  },
  "source_map": [
   13,
   27,
   33,
   35,
   40,
   42,
   47,
   49,
   55,
   57,
   63,
   65,
   74,
   79
  ]
 },
 "nbformat": 4,
 "nbformat_minor": 5
}