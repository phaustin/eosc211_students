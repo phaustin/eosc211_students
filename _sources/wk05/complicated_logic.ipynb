{
 "cells": [
  {
   "cell_type": "markdown",
   "id": "4fd5bce3",
   "metadata": {},
   "source": [
    "# More Complicated Logic\n",
    "\n",
    "## EOSC 211\n",
    "\n",
    "**Week 5**\n",
    "\n",
    "**Learning Objectives:**  \n",
    "1. Practice interpreting logical flow control \n",
    "2. Comment code to make it easier for humans to interpret"
   ]
  },
  {
   "cell_type": "markdown",
   "id": "1358c5a3",
   "metadata": {},
   "source": [
    "## Question 1\n",
    "\n",
    "**What is the value of `z` after you execute this script? Remember that `A % b` returns the remainder of the floor division operation `A // b`. Add comments to explain what is happening at each step.**"
   ]
  },
  {
   "cell_type": "code",
   "execution_count": 1,
   "id": "a0c71add",
   "metadata": {},
   "outputs": [],
   "source": [
    "x=4\n",
    "y=3\n",
    "\n",
    "if x % 2 == 0:\n",
    "    if x * y > 15:\n",
    "        z = 1\n",
    "    elif x * y > 10:\n",
    "        z = 2\n",
    "    elif x * y == 12:\n",
    "        z = 3\n",
    "else:\n",
    "    z=0"
   ]
  },
  {
   "cell_type": "markdown",
   "id": "fdad958b",
   "metadata": {},
   "source": [
    "## Question 2\n",
    "\n",
    "**What is the value of z after you execute this script? Add comments to the code**"
   ]
  },
  {
   "cell_type": "code",
   "execution_count": 2,
   "id": "7c55ce2b",
   "metadata": {},
   "outputs": [],
   "source": [
    "x = 4\n",
    "y = 3\n",
    "\n",
    "if x % 2 != 0:\n",
    "    if x * y == 12:\n",
    "        z = 3\n",
    "else:\n",
    "    z = 0"
   ]
  },
  {
   "cell_type": "raw",
   "id": "c282bd51",
   "metadata": {},
   "source": [
    "# your answer here"
   ]
  },
  {
   "cell_type": "markdown",
   "id": "5cf7eab8",
   "metadata": {},
   "source": [
    "## Question 3\n",
    "\n",
    "**What is the value of z after executing this script? Add comments to the code**"
   ]
  },
  {
   "cell_type": "code",
   "execution_count": 3,
   "id": "920f0a61",
   "metadata": {},
   "outputs": [],
   "source": [
    "x = -2\n",
    "y = 3\n",
    "\n",
    "if -4 < x < -1:\n",
    "    z = x ** 2 / 2\n",
    "elif -4 < x and x < -1:\n",
    "    z = -x * y ** 2\n",
    "    if z > 18:\n",
    "        z = 0 * z"
   ]
  },
  {
   "cell_type": "raw",
   "id": "af194867",
   "metadata": {},
   "source": [
    "# your answer here"
   ]
  },
  {
   "cell_type": "markdown",
   "id": "7a6540e2",
   "metadata": {},
   "source": [
    "**What is `z` after executing this script? What does this script do (in in 4 or 5 words)?**"
   ]
  },
  {
   "cell_type": "code",
   "execution_count": 4,
   "id": "bc42eb18",
   "metadata": {},
   "outputs": [],
   "source": [
    "x = [5, 3, 1, 2]\n",
    "z = x[0] \n",
    "\n",
    "if  x[1] < x[0]:\n",
    "    z = x[1]\n",
    "\n",
    "if x[2] < z:\n",
    "    z = x[2]\n",
    "    \n",
    "if x[3] < z:\n",
    "    z = x[3]"
   ]
  },
  {
   "cell_type": "raw",
   "id": "3eb588c3",
   "metadata": {},
   "source": [
    "# your answer here"
   ]
  }
 ],
 "metadata": {
  "jupytext": {
   "formats": "ipynb,md:myst",
   "text_representation": {
    "extension": ".md",
    "format_name": "myst",
    "format_version": 0.13,
    "jupytext_version": "1.11.4"
   }
  },
  "kernelspec": {
   "display_name": "Python 3 (ipykernel)",
   "language": "python",
   "name": "python3"
  },
  "language_info": {
   "codemirror_mode": {
    "name": "ipython",
    "version": 3
   },
   "file_extension": ".py",
   "mimetype": "text/x-python",
   "name": "python",
   "nbconvert_exporter": "python",
   "pygments_lexer": "ipython3",
   "version": "3.8.10"
  },
  "source_map": [
   13,
   25,
   31,
   44,
   50,
   61,
   63,
   69,
   81,
   83,
   87,
   101
  ]
 },
 "nbformat": 4,
 "nbformat_minor": 5
}