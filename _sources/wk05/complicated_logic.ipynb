{
 "cells": [
  {
   "cell_type": "markdown",
   "id": "d8526485",
   "metadata": {},
   "source": [
    "# More Complicated Logic\n",
    "\n",
    "## EOSC 211\n",
    "\n",
    "**Week 5**\n",
    "\n",
    "**Learning Objectives:**  \n",
    "1. Practice interpreting logical flow control \n",
    "2. Comment code to make it easier for humans to interpret"
   ]
  },
  {
   "cell_type": "markdown",
   "id": "62e7a21d",
   "metadata": {},
   "source": [
    "## Question 1\n",
    "\n",
    "**What is the value of `z` after you execute this script? Remember that `A % b` returns the remainder of the floor division operation `A // b`. Add comments to explain what is happening at each step.**"
   ]
  },
  {
   "cell_type": "code",
   "execution_count": null,
   "id": "23e8382f",
   "metadata": {},
   "outputs": [],
   "source": [
    "x=4\n",
    "y=3\n",
    "\n",
    "if x % 2 == 0:\n",
    "    if x * y > 15:\n",
    "        z = 1\n",
    "    elif x * y > 10:\n",
    "        z = 2\n",
    "    elif x * y == 12:\n",
    "        z = 3\n",
    "else:\n",
    "    z=0"
   ]
  },
  {
   "cell_type": "markdown",
   "id": "c0328a85",
   "metadata": {},
   "source": [
    "## Question 2\n",
    "\n",
    "**What is the value of z after you execute this script? Add comments to the code**"
   ]
  },
  {
   "cell_type": "code",
   "execution_count": null,
   "id": "de68cdb0",
   "metadata": {},
   "outputs": [],
   "source": [
    "x = 4\n",
    "y = 3\n",
    "\n",
    "if x % 2 != 0:\n",
    "    if x * y == 12:\n",
    "        z = 3\n",
    "else:\n",
    "    z = 0"
   ]
  },
  {
   "cell_type": "raw",
   "id": "4a1c8a23",
   "metadata": {},
   "source": [
    "# your answer here"
   ]
  },
  {
   "cell_type": "markdown",
   "id": "e6b2d584",
   "metadata": {},
   "source": [
    "## Question 3\n",
    "\n",
    "**What is the value of z after executing this script? Add comments to the code**"
   ]
  },
  {
   "cell_type": "code",
   "execution_count": null,
   "id": "ef3757b0",
   "metadata": {},
   "outputs": [],
   "source": [
    "x = -2\n",
    "y = 3\n",
    "\n",
    "if -4 < x < -1:\n",
    "    z = x ** 2 / 2\n",
    "elif -4 < x and x < -1:\n",
    "    z = -x * y ** 2\n",
    "    if z > 18:\n",
    "        z = 0 * z"
   ]
  },
  {
   "cell_type": "raw",
   "id": "4966e474",
   "metadata": {},
   "source": [
    "# your answer here"
   ]
  },
  {
   "cell_type": "markdown",
   "id": "f5e4464d",
   "metadata": {},
   "source": [
    "**What is `z` after executing this script? What does this script do (in in 4 or 5 words)?**"
   ]
  },
  {
   "cell_type": "code",
   "execution_count": null,
   "id": "af31a6b3",
   "metadata": {},
   "outputs": [],
   "source": [
    "x = [5, 3, 1, 2]\n",
    "z = x[0] \n",
    "\n",
    "if  x[1] < x[0]:\n",
    "    z = x[1]\n",
    "\n",
    "if x[2] < z:\n",
    "    z = x[2]\n",
    "    \n",
    "if x[3] < z:\n",
    "    z = x[3]"
   ]
  },
  {
   "cell_type": "raw",
   "id": "3c292d3b",
   "metadata": {},
   "source": [
    "# your answer here"
   ]
  }
 ],
 "metadata": {
  "jupytext": {
   "formats": "ipynb,md:myst",
   "text_representation": {
    "extension": ".md",
    "format_name": "myst",
    "format_version": 0.13,
    "jupytext_version": "1.11.4"
   }
  },
  "kernelspec": {
   "display_name": "Python 3 (ipykernel)",
   "language": "python",
   "name": "python3"
  },
  "source_map": [
   13,
   25,
   31,
   44,
   50,
   61,
   63,
   69,
   81,
   83,
   87,
   101
  ]
 },
 "nbformat": 4,
 "nbformat_minor": 5
}