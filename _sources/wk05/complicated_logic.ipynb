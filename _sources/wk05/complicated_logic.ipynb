{
 "cells": [
  {
   "cell_type": "markdown",
   "id": "408b6252",
   "metadata": {},
   "source": [
    "# More Complicated Logic\n",
    "\n",
    "## EOSC 211\n",
    "\n",
    "**Week 5**\n",
    "\n",
    "**Learning Objectives:**  \n",
    "1. Practice interpreting logical flow control \n",
    "2. Comment code to make it easier for humans to interpret"
   ]
  },
  {
   "cell_type": "markdown",
   "id": "ffc209da",
   "metadata": {},
   "source": [
    "## Question 1\n",
    "\n",
    "**What is the value of `z` after you execute this script? Remember that `A % b` returns the remainder of the floor division operation `A // b`. Add comments to explain what is happening at each step.**"
   ]
  },
  {
   "cell_type": "code",
   "execution_count": 1,
   "id": "6df8905f",
   "metadata": {},
   "outputs": [],
   "source": [
    "x=4\n",
    "y=3\n",
    "\n",
    "if x % 2 == 0:\n",
    "    if x * y > 15:\n",
    "        z = 1\n",
    "    elif x * y > 10:\n",
    "        z = 2\n",
    "    elif x * y == 12:\n",
    "        z = 3\n",
    "else:\n",
    "    z=0"
   ]
  },
  {
   "cell_type": "markdown",
   "id": "a43e39ee",
   "metadata": {},
   "source": [
    "## Question 2\n",
    "\n",
    "**What is the value of z after you execute this script? Add comments to the code**"
   ]
  },
  {
   "cell_type": "code",
   "execution_count": 2,
   "id": "4b20cad6",
   "metadata": {},
   "outputs": [],
   "source": [
    "x = 4\n",
    "y = 3\n",
    "\n",
    "if x % 2 != 0:\n",
    "    if x * y == 12:\n",
    "        z = 3\n",
    "else:\n",
    "    z = 0"
   ]
  },
  {
   "cell_type": "raw",
   "id": "f8bae623",
   "metadata": {},
   "source": [
    "# your answer here"
   ]
  },
  {
   "cell_type": "markdown",
   "id": "11f5a662",
   "metadata": {},
   "source": [
    "## Question 3\n",
    "\n",
    "**What is the value of z after executing this script? Add comments to the code**"
   ]
  },
  {
   "cell_type": "code",
   "execution_count": 3,
   "id": "5be79115",
   "metadata": {},
   "outputs": [],
   "source": [
    "x = -2\n",
    "y = 3\n",
    "\n",
    "if -4 < x < -1:\n",
    "    z = x ** 2 / 2\n",
    "elif -4 < x and x < -1:\n",
    "    z = -x * y ** 2\n",
    "    if z > 18:\n",
    "        z = 0 * z"
   ]
  },
  {
   "cell_type": "raw",
   "id": "ed51a3eb",
   "metadata": {},
   "source": [
    "# your answer here"
   ]
  },
  {
   "cell_type": "markdown",
   "id": "6d412bcf",
   "metadata": {},
   "source": [
    "**What is `z` after executing this script? What does this script do (in in 4 or 5 words)?**"
   ]
  },
  {
   "cell_type": "code",
   "execution_count": 4,
   "id": "5dbdf55e",
   "metadata": {},
   "outputs": [],
   "source": [
    "x = [5, 3, 1, 2]\n",
    "z = x[0] \n",
    "\n",
    "if  x[1] < x[0]:\n",
    "    z = x[1]\n",
    "\n",
    "if x[2] < z:\n",
    "    z = x[2]\n",
    "    \n",
    "if x[3] < z:\n",
    "    z = x[3]"
   ]
  },
  {
   "cell_type": "raw",
   "id": "0ef0c3e8",
   "metadata": {},
   "source": [
    "# your answer here"
   ]
  }
 ],
 "metadata": {
  "jupytext": {
   "formats": "ipynb,md:myst",
   "text_representation": {
    "extension": ".md",
    "format_name": "myst",
    "format_version": 0.13,
    "jupytext_version": "1.11.4"
   }
  },
  "kernelspec": {
   "display_name": "Python 3 (ipykernel)",
   "language": "python",
   "name": "python3"
  },
  "language_info": {
   "codemirror_mode": {
    "name": "ipython",
    "version": 3
   },
   "file_extension": ".py",
   "mimetype": "text/x-python",
   "name": "python",
   "nbconvert_exporter": "python",
   "pygments_lexer": "ipython3",
   "version": "3.8.12"
  },
  "source_map": [
   13,
   25,
   31,
   44,
   50,
   61,
   63,
   69,
   81,
   83,
   87,
   101
  ]
 },
 "nbformat": 4,
 "nbformat_minor": 5
}