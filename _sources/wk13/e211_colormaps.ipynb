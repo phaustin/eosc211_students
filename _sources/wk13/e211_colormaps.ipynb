{
 "cells": [
  {
   "cell_type": "markdown",
   "id": "7d0be9cd",
   "metadata": {},
   "source": [
    "# Plotting color images with matplotlib\n",
    "\n",
    "\n",
    "## learning objectives\n",
    "\n",
    "  * introduce color plotting with colomaps and pcolormesh\n",
    "  * provide a set of links for future reference about using color to interpret/present image data"
   ]
  },
  {
   "cell_type": "code",
   "execution_count": 1,
   "id": "2f7fc8df",
   "metadata": {},
   "outputs": [],
   "source": [
    "import matplotlib.pyplot as plt\n",
    "import numpy as np"
   ]
  },
  {
   "cell_type": "markdown",
   "id": "43e2c537",
   "metadata": {},
   "source": [
    "## read in some satellite data\n",
    "\n",
    "Get a compressed npz archive that holds two [modis](https://modis.gsfc.nasa.gov/about/specifications.php) brightness temperature maps (Kelvins) for Channel 31 and 32."
   ]
  },
  {
   "cell_type": "code",
   "execution_count": 2,
   "id": "08f40054",
   "metadata": {},
   "outputs": [
    {
     "ename": "FileNotFoundError",
     "evalue": "[Errno 2] No such file or directory: './sat_temps.npz'",
     "output_type": "error",
     "traceback": [
      "\u001b[0;31m---------------------------------------------------------------------------\u001b[0m",
      "\u001b[0;31mFileNotFoundError\u001b[0m                         Traceback (most recent call last)",
      "\u001b[0;32m/var/folders/_k/0f_hlw7x2hq4vtcq0h8bvsm40000gr/T/ipykernel_62059/3367621507.py\u001b[0m in \u001b[0;36m<module>\u001b[0;34m\u001b[0m\n\u001b[0;32m----> 1\u001b[0;31m \u001b[0mtemp_dict\u001b[0m \u001b[0;34m=\u001b[0m \u001b[0mnp\u001b[0m\u001b[0;34m.\u001b[0m\u001b[0mload\u001b[0m\u001b[0;34m(\u001b[0m\u001b[0;34m'./sat_temps.npz'\u001b[0m\u001b[0;34m)\u001b[0m\u001b[0;34m\u001b[0m\u001b[0;34m\u001b[0m\u001b[0m\n\u001b[0m\u001b[1;32m      2\u001b[0m \u001b[0mlist\u001b[0m\u001b[0;34m(\u001b[0m\u001b[0mtemp_dict\u001b[0m\u001b[0;34m.\u001b[0m\u001b[0mkeys\u001b[0m\u001b[0;34m(\u001b[0m\u001b[0;34m)\u001b[0m\u001b[0;34m)\u001b[0m\u001b[0;34m\u001b[0m\u001b[0;34m\u001b[0m\u001b[0m\n",
      "\u001b[0;32m~/mini39/envs/e211dev/lib/python3.8/site-packages/numpy/lib/npyio.py\u001b[0m in \u001b[0;36mload\u001b[0;34m(file, mmap_mode, allow_pickle, fix_imports, encoding)\u001b[0m\n\u001b[1;32m    415\u001b[0m             \u001b[0mown_fid\u001b[0m \u001b[0;34m=\u001b[0m \u001b[0;32mFalse\u001b[0m\u001b[0;34m\u001b[0m\u001b[0;34m\u001b[0m\u001b[0m\n\u001b[1;32m    416\u001b[0m         \u001b[0;32melse\u001b[0m\u001b[0;34m:\u001b[0m\u001b[0;34m\u001b[0m\u001b[0;34m\u001b[0m\u001b[0m\n\u001b[0;32m--> 417\u001b[0;31m             \u001b[0mfid\u001b[0m \u001b[0;34m=\u001b[0m \u001b[0mstack\u001b[0m\u001b[0;34m.\u001b[0m\u001b[0menter_context\u001b[0m\u001b[0;34m(\u001b[0m\u001b[0mopen\u001b[0m\u001b[0;34m(\u001b[0m\u001b[0mos_fspath\u001b[0m\u001b[0;34m(\u001b[0m\u001b[0mfile\u001b[0m\u001b[0;34m)\u001b[0m\u001b[0;34m,\u001b[0m \u001b[0;34m\"rb\"\u001b[0m\u001b[0;34m)\u001b[0m\u001b[0;34m)\u001b[0m\u001b[0;34m\u001b[0m\u001b[0;34m\u001b[0m\u001b[0m\n\u001b[0m\u001b[1;32m    418\u001b[0m             \u001b[0mown_fid\u001b[0m \u001b[0;34m=\u001b[0m \u001b[0;32mTrue\u001b[0m\u001b[0;34m\u001b[0m\u001b[0;34m\u001b[0m\u001b[0m\n\u001b[1;32m    419\u001b[0m \u001b[0;34m\u001b[0m\u001b[0m\n",
      "\u001b[0;31mFileNotFoundError\u001b[0m: [Errno 2] No such file or directory: './sat_temps.npz'"
     ]
    }
   ],
   "source": [
    "temp_dict = np.load('./sat_temps.npz')\n",
    "list(temp_dict.keys())"
   ]
  },
  {
   "cell_type": "markdown",
   "id": "ca4ea704",
   "metadata": {},
   "source": [
    "## Histogram to see the data range"
   ]
  },
  {
   "cell_type": "code",
   "execution_count": 3,
   "id": "5b4abe11",
   "metadata": {},
   "outputs": [
    {
     "ename": "NameError",
     "evalue": "name 'temp_dict' is not defined",
     "output_type": "error",
     "traceback": [
      "\u001b[0;31m---------------------------------------------------------------------------\u001b[0m",
      "\u001b[0;31mNameError\u001b[0m                                 Traceback (most recent call last)",
      "\u001b[0;32m/var/folders/_k/0f_hlw7x2hq4vtcq0h8bvsm40000gr/T/ipykernel_62059/2329666835.py\u001b[0m in \u001b[0;36m<module>\u001b[0;34m\u001b[0m\n\u001b[1;32m      1\u001b[0m \u001b[0mfig\u001b[0m\u001b[0;34m,\u001b[0m \u001b[0max\u001b[0m \u001b[0;34m=\u001b[0m \u001b[0mplt\u001b[0m\u001b[0;34m.\u001b[0m\u001b[0msubplots\u001b[0m\u001b[0;34m(\u001b[0m\u001b[0;36m1\u001b[0m\u001b[0;34m,\u001b[0m\u001b[0;36m1\u001b[0m\u001b[0;34m,\u001b[0m \u001b[0mfigsize\u001b[0m\u001b[0;34m=\u001b[0m\u001b[0;34m(\u001b[0m\u001b[0;36m8\u001b[0m\u001b[0;34m,\u001b[0m\u001b[0;36m6\u001b[0m\u001b[0;34m)\u001b[0m\u001b[0;34m)\u001b[0m\u001b[0;34m\u001b[0m\u001b[0;34m\u001b[0m\u001b[0m\n\u001b[0;32m----> 2\u001b[0;31m \u001b[0max\u001b[0m\u001b[0;34m.\u001b[0m\u001b[0mhist\u001b[0m\u001b[0;34m(\u001b[0m\u001b[0mtemp_dict\u001b[0m\u001b[0;34m[\u001b[0m\u001b[0;34m'chan31'\u001b[0m\u001b[0;34m]\u001b[0m\u001b[0;34m.\u001b[0m\u001b[0mflat\u001b[0m\u001b[0;34m)\u001b[0m\u001b[0;34m;\u001b[0m\u001b[0;34m\u001b[0m\u001b[0;34m\u001b[0m\u001b[0m\n\u001b[0m",
      "\u001b[0;31mNameError\u001b[0m: name 'temp_dict' is not defined"
     ]
    },
    {
     "data": {
      "image/png": "[encoded data removed]",
      "text/plain": [
       "<Figure size 576x432 with 1 Axes>"
      ]
     },
     "metadata": {
      "filenames": {
       "image/png": "/Users/phil/repos/eosc211/_build/jupyter_execute/wk13/e211_colormaps_5_1.png"
      },
      "needs_background": "light"
     },
     "output_type": "display_data"
    }
   ],
   "source": [
    "fig, ax = plt.subplots(1,1, figsize=(8,6))\n",
    "ax.hist(temp_dict['chan31'].flat);"
   ]
  },
  {
   "cell_type": "markdown",
   "id": "c82440e8",
   "metadata": {},
   "source": [
    "## Producing pseudocolor images\n",
    "\n",
    "For reference: some background about colormaps (aka palettes) and human color vision\n",
    " \n",
    "* matplotlib\n",
    "\n",
    "  * we'll use [pcolormesh](https://matplotlib.org/stable/api/_as_gen/matplotlib.pyplot.pcolormesh.html)\n",
    "\n",
    "  * [matplotlib image tutorial](https://matplotlib.org/stable/tutorials/introductory/images.html)\n",
    " \n",
    "  * [matplotlib colormaps](https://matplotlib.org/stable/tutorials/colors/colormaps.html)\n",
    "  \n",
    "  * [32 bit true color vs. 8 bit colormaps](https://www.computerhope.com/issues/ch001557.htm)\n",
    "  \n",
    "* physiology and psychology of color vision in humans\n",
    "\n",
    "  * [rods, cones and rgb](https://www.healthline.com/health/tetrachromacy)\n",
    "  \n",
    "  * [colorblindness](https://www.colourblindawareness.org/colour-blindness/)\n",
    "\n",
    "  * [xkcd color survey](https://blog.xkcd.com/2010/05/03/color-survey-results/)\n",
    "\n",
    "  * [xkcd colors from matplotlib](https://seaborn.pydata.org/generated/seaborn.xkcd_palette.html)\n",
    "\n",
    "  * [wikipedia article on RGB colors](https://en.wikipedia.org/wiki/RGB_color_model)\n",
    "\n",
    "  * [the dress](https://en.wikipedia.org/wiki/The_dress)"
   ]
  },
  {
   "cell_type": "markdown",
   "id": "7b8bf720",
   "metadata": {},
   "source": [
    "## Normalizing a colormap\n",
    "\n",
    "* We can set the datarange that we want to map onto the colors in a particular colormap, using the\n",
    "  [Normalize object](https://matplotlib.org/stable/api/_as_gen/matplotlib.colors.Normalize.html)\n",
    "  \n",
    "* We can set colors for out-of-range and missing data using the `set_over`, `set_under` and `set_bad` \n",
    "  methods of the [colormap object](https://matplotlib.org/stable/api/_as_gen/matplotlib.colors.Colormap.html)"
   ]
  },
  {
   "cell_type": "code",
   "execution_count": 4,
   "id": "d96b9509",
   "metadata": {},
   "outputs": [],
   "source": [
    "import copy\n",
    "pal = copy.copy(plt.get_cmap(\"autumn\"))\n",
    "pal.set_bad(\"0.75\")  # 75% grey for out-of-map cells\n",
    "pal.set_over(\"w\")  # color cells > vmax white\n",
    "pal.set_under(\"k\")  # color cells < vmin black\n",
    "vmin = 200.\n",
    "vmax = 400.\n",
    "from matplotlib.colors import Normalize\n",
    "\n",
    "the_norm = Normalize(vmin=vmin, vmax=vmax, clip=False)"
   ]
  },
  {
   "cell_type": "markdown",
   "id": "be49b677",
   "metadata": {},
   "source": [
    "## Plotting using pcolormesh\n",
    "\n",
    "Here's the chan31 temperatures plotted with pcolormesh with the above normalization and the autumn palette.\n",
    "\n",
    "* [pcolormesh reference](https://matplotlib.org/stable/api/_as_gen/matplotlib.axes.Axes.pcolormesh.html?highlight=pcolormesh#matplotlib.axes.Axes.pcolormesh)"
   ]
  },
  {
   "cell_type": "code",
   "execution_count": 5,
   "id": "d1a6f4d7",
   "metadata": {},
   "outputs": [
    {
     "ename": "NameError",
     "evalue": "name 'temp_dict' is not defined",
     "output_type": "error",
     "traceback": [
      "\u001b[0;31m---------------------------------------------------------------------------\u001b[0m",
      "\u001b[0;31mNameError\u001b[0m                                 Traceback (most recent call last)",
      "\u001b[0;32m/var/folders/_k/0f_hlw7x2hq4vtcq0h8bvsm40000gr/T/ipykernel_62059/1124990743.py\u001b[0m in \u001b[0;36m<module>\u001b[0;34m\u001b[0m\n\u001b[1;32m      1\u001b[0m \u001b[0mfig\u001b[0m\u001b[0;34m,\u001b[0m \u001b[0max\u001b[0m \u001b[0;34m=\u001b[0m \u001b[0mplt\u001b[0m\u001b[0;34m.\u001b[0m\u001b[0msubplots\u001b[0m\u001b[0;34m(\u001b[0m\u001b[0;36m1\u001b[0m\u001b[0;34m,\u001b[0m\u001b[0;36m1\u001b[0m\u001b[0;34m,\u001b[0m\u001b[0mfigsize\u001b[0m\u001b[0;34m=\u001b[0m\u001b[0;34m(\u001b[0m\u001b[0;36m10\u001b[0m\u001b[0;34m,\u001b[0m\u001b[0;36m8\u001b[0m\u001b[0;34m)\u001b[0m\u001b[0;34m)\u001b[0m\u001b[0;34m\u001b[0m\u001b[0;34m\u001b[0m\u001b[0m\n\u001b[0;32m----> 2\u001b[0;31m \u001b[0mcol\u001b[0m \u001b[0;34m=\u001b[0m \u001b[0max\u001b[0m\u001b[0;34m.\u001b[0m\u001b[0mpcolormesh\u001b[0m\u001b[0;34m(\u001b[0m\u001b[0mtemp_dict\u001b[0m\u001b[0;34m[\u001b[0m\u001b[0;34m'chan31'\u001b[0m\u001b[0;34m]\u001b[0m\u001b[0;34m,\u001b[0m \u001b[0mcmap\u001b[0m \u001b[0;34m=\u001b[0m \u001b[0mpal\u001b[0m\u001b[0;34m,\u001b[0m \u001b[0mnorm\u001b[0m \u001b[0;34m=\u001b[0m \u001b[0mthe_norm\u001b[0m\u001b[0;34m)\u001b[0m\u001b[0;34m\u001b[0m\u001b[0;34m\u001b[0m\u001b[0m\n\u001b[0m\u001b[1;32m      3\u001b[0m \u001b[0mprint\u001b[0m\u001b[0;34m(\u001b[0m\u001b[0mtype\u001b[0m\u001b[0;34m(\u001b[0m\u001b[0mcol\u001b[0m\u001b[0;34m)\u001b[0m\u001b[0;34m)\u001b[0m\u001b[0;34m\u001b[0m\u001b[0;34m\u001b[0m\u001b[0m\n",
      "\u001b[0;31mNameError\u001b[0m: name 'temp_dict' is not defined"
     ]
    },
    {
     "data": {
      "image/png": "[encoded data removed]",
      "text/plain": [
       "<Figure size 720x576 with 1 Axes>"
      ]
     },
     "metadata": {
      "filenames": {
       "image/png": "/Users/phil/repos/eosc211/_build/jupyter_execute/wk13/e211_colormaps_10_1.png"
      },
      "needs_background": "light"
     },
     "output_type": "display_data"
    }
   ],
   "source": [
    "fig, ax = plt.subplots(1,1,figsize=(10,8))\n",
    "col = ax.pcolormesh(temp_dict['chan31'], cmap = pal, norm = the_norm)\n",
    "print(type(col))"
   ]
  },
  {
   "cell_type": "markdown",
   "id": "11ac2f3f",
   "metadata": {},
   "source": [
    "## Adding a colorbar\n",
    "\n",
    "* Now add a standard colobar to the figure.  The colorbar size can be reduced with the `shrink` keyword and\n",
    "  the space between the colorbar and the image can be adjusted with the `pad` keyword.  We can also label the\n",
    "  colorbar and adjust its alignment using `verticalalignment` and `rotation`\n",
    "  \n",
    "\n",
    "* [colorbar reference](https://matplotlib.org/stable/api/_as_gen/matplotlib.pyplot.colorbar.html)"
   ]
  },
  {
   "cell_type": "code",
   "execution_count": 6,
   "id": "91ced3e7",
   "metadata": {},
   "outputs": [
    {
     "ename": "NameError",
     "evalue": "name 'col' is not defined",
     "output_type": "error",
     "traceback": [
      "\u001b[0;31m---------------------------------------------------------------------------\u001b[0m",
      "\u001b[0;31mNameError\u001b[0m                                 Traceback (most recent call last)",
      "\u001b[0;32m/var/folders/_k/0f_hlw7x2hq4vtcq0h8bvsm40000gr/T/ipykernel_62059/3556672606.py\u001b[0m in \u001b[0;36m<module>\u001b[0;34m\u001b[0m\n\u001b[0;32m----> 1\u001b[0;31m \u001b[0mcolorbar\u001b[0m\u001b[0;34m=\u001b[0m\u001b[0mfig\u001b[0m\u001b[0;34m.\u001b[0m\u001b[0mcolorbar\u001b[0m\u001b[0;34m(\u001b[0m\u001b[0mcol\u001b[0m\u001b[0;34m,\u001b[0m \u001b[0mshrink\u001b[0m\u001b[0;34m=\u001b[0m\u001b[0;36m0.95\u001b[0m\u001b[0;34m,\u001b[0m \u001b[0mpad\u001b[0m\u001b[0;34m=\u001b[0m\u001b[0;36m0.05\u001b[0m\u001b[0;34m,\u001b[0m\u001b[0mextend\u001b[0m\u001b[0;34m=\u001b[0m\u001b[0;34m'both'\u001b[0m\u001b[0;34m)\u001b[0m\u001b[0;34m\u001b[0m\u001b[0;34m\u001b[0m\u001b[0m\n\u001b[0m\u001b[1;32m      2\u001b[0m \u001b[0mcolorbar\u001b[0m\u001b[0;34m.\u001b[0m\u001b[0mset_label\u001b[0m\u001b[0;34m(\u001b[0m\u001b[0;34m'channel31 brightness temperature (K)'\u001b[0m\u001b[0;34m,\u001b[0m\u001b[0mrotation\u001b[0m\u001b[0;34m=\u001b[0m\u001b[0;34m-\u001b[0m\u001b[0;36m90\u001b[0m\u001b[0;34m,\u001b[0m\u001b[0mverticalalignment\u001b[0m\u001b[0;34m=\u001b[0m\u001b[0;34m'bottom'\u001b[0m\u001b[0;34m)\u001b[0m\u001b[0;34m\u001b[0m\u001b[0;34m\u001b[0m\u001b[0m\n\u001b[1;32m      3\u001b[0m \u001b[0mdisplay\u001b[0m\u001b[0;34m(\u001b[0m\u001b[0mfig\u001b[0m\u001b[0;34m)\u001b[0m\u001b[0;34m\u001b[0m\u001b[0;34m\u001b[0m\u001b[0m\n",
      "\u001b[0;31mNameError\u001b[0m: name 'col' is not defined"
     ]
    }
   ],
   "source": [
    "colorbar=fig.colorbar(col, shrink=0.95, pad=0.05,extend='both')\n",
    "colorbar.set_label('channel31 brightness temperature (K)',rotation=-90,verticalalignment='bottom')\n",
    "display(fig)"
   ]
  },
  {
   "cell_type": "markdown",
   "id": "79e26d53",
   "metadata": {},
   "source": [
    "## Specifying over/under/bad values\n",
    "\n",
    "Make a new image with temperatures below 250 set to missing, and all colors mapped to 310 K - 330 K"
   ]
  },
  {
   "cell_type": "code",
   "execution_count": 7,
   "id": "5e37b137",
   "metadata": {},
   "outputs": [
    {
     "ename": "NameError",
     "evalue": "name 'temp_dict' is not defined",
     "output_type": "error",
     "traceback": [
      "\u001b[0;31m---------------------------------------------------------------------------\u001b[0m",
      "\u001b[0;31mNameError\u001b[0m                                 Traceback (most recent call last)",
      "\u001b[0;32m/var/folders/_k/0f_hlw7x2hq4vtcq0h8bvsm40000gr/T/ipykernel_62059/3046739629.py\u001b[0m in \u001b[0;36m<module>\u001b[0;34m\u001b[0m\n\u001b[1;32m      1\u001b[0m \u001b[0mfig\u001b[0m\u001b[0;34m,\u001b[0m \u001b[0max\u001b[0m \u001b[0;34m=\u001b[0m \u001b[0mplt\u001b[0m\u001b[0;34m.\u001b[0m\u001b[0msubplots\u001b[0m\u001b[0;34m(\u001b[0m\u001b[0;36m1\u001b[0m\u001b[0;34m,\u001b[0m\u001b[0;36m1\u001b[0m\u001b[0;34m,\u001b[0m\u001b[0mfigsize\u001b[0m\u001b[0;34m=\u001b[0m\u001b[0;34m(\u001b[0m\u001b[0;36m10\u001b[0m\u001b[0;34m,\u001b[0m\u001b[0;36m8\u001b[0m\u001b[0;34m)\u001b[0m\u001b[0;34m)\u001b[0m\u001b[0;34m\u001b[0m\u001b[0;34m\u001b[0m\u001b[0m\n\u001b[0;32m----> 2\u001b[0;31m \u001b[0mchan31\u001b[0m \u001b[0;34m=\u001b[0m \u001b[0mnp\u001b[0m\u001b[0;34m.\u001b[0m\u001b[0marray\u001b[0m\u001b[0;34m(\u001b[0m\u001b[0mtemp_dict\u001b[0m\u001b[0;34m[\u001b[0m\u001b[0;34m'chan31'\u001b[0m\u001b[0;34m]\u001b[0m\u001b[0;34m)\u001b[0m\u001b[0;34m\u001b[0m\u001b[0;34m\u001b[0m\u001b[0m\n\u001b[0m\u001b[1;32m      3\u001b[0m \u001b[0mchan31\u001b[0m\u001b[0;34m[\u001b[0m\u001b[0mchan31\u001b[0m \u001b[0;34m<\u001b[0m \u001b[0;36m250\u001b[0m\u001b[0;34m]\u001b[0m \u001b[0;34m=\u001b[0m \u001b[0mnp\u001b[0m\u001b[0;34m.\u001b[0m\u001b[0mnan\u001b[0m\u001b[0;34m\u001b[0m\u001b[0;34m\u001b[0m\u001b[0m\n\u001b[1;32m      4\u001b[0m \u001b[0mvmin\u001b[0m \u001b[0;34m=\u001b[0m \u001b[0;36m310.\u001b[0m\u001b[0;34m\u001b[0m\u001b[0;34m\u001b[0m\u001b[0m\n\u001b[1;32m      5\u001b[0m \u001b[0mvmax\u001b[0m \u001b[0;34m=\u001b[0m \u001b[0;36m330.\u001b[0m\u001b[0;34m\u001b[0m\u001b[0;34m\u001b[0m\u001b[0m\n",
      "\u001b[0;31mNameError\u001b[0m: name 'temp_dict' is not defined"
     ]
    },
    {
     "data": {
      "image/png": "[encoded data removed]",
      "text/plain": [
       "<Figure size 720x576 with 1 Axes>"
      ]
     },
     "metadata": {
      "filenames": {
       "image/png": "/Users/phil/repos/eosc211/_build/jupyter_execute/wk13/e211_colormaps_14_1.png"
      },
      "needs_background": "light"
     },
     "output_type": "display_data"
    }
   ],
   "source": [
    "fig, ax = plt.subplots(1,1,figsize=(10,8))\n",
    "chan31 = np.array(temp_dict['chan31'])\n",
    "chan31[chan31 < 250] = np.nan\n",
    "vmin = 310.\n",
    "vmax = 330.\n",
    "the_norm = Normalize(vmin=vmin, vmax=vmax, clip=False)\n",
    "col = ax.pcolormesh(chan31, cmap = pal, norm = the_norm)\n",
    "colorbar=fig.colorbar(col, shrink=0.85, pad=0.02,extend='both')\n",
    "colorbar.set_label('channel31 brightness temperature (K)',rotation=-90,verticalalignment='bottom')"
   ]
  },
  {
   "cell_type": "markdown",
   "id": "dcd6eb29",
   "metadata": {},
   "source": [
    "## Your turn\n",
    "\n",
    "Make a new image of (channel31 - mean(chan31)) and plot that using a [diverging colormap](https://matplotlib.org/stable/tutorials/colors/colormaps.html#diverging) like `coolwarm`.  Don't worry\n",
    "about normalization for this first pass."
   ]
  },
  {
   "cell_type": "code",
   "execution_count": 8,
   "id": "0fcb59b2",
   "metadata": {},
   "outputs": [],
   "source": [
    "# your code here"
   ]
  },
  {
   "cell_type": "markdown",
   "id": "eef87844",
   "metadata": {},
   "source": [
    "## Make the colorbar range -20 -> 20 K \n",
    "\n",
    "We want the blue-red boundary to designate switch from negative to positive"
   ]
  }
 ],
 "metadata": {
  "jupytext": {
   "cell_metadata_filter": "all",
   "formats": "ipynb,md:myst",
   "notebook_metadata_filter": "all,-language_info,-toc,-latex_envs",
   "text_representation": {
    "extension": ".md",
    "format_name": "myst",
    "format_version": 0.13,
    "jupytext_version": "1.11.5"
   }
  },
  "kernelspec": {
   "display_name": "Python 3 (ipykernel)",
   "language": "python",
   "name": "python3"
  },
  "language_info": {
   "codemirror_mode": {
    "name": "ipython",
    "version": 3
   },
   "file_extension": ".py",
   "mimetype": "text/x-python",
   "name": "python",
   "nbconvert_exporter": "python",
   "pygments_lexer": "ipython3",
   "version": "3.8.12"
  },
  "source_map": [
   15,
   25,
   30,
   36,
   41,
   45,
   50,
   80,
   90,
   103,
   111,
   117,
   128,
   134,
   140,
   152,
   159,
   163
  ]
 },
 "nbformat": 4,
 "nbformat_minor": 5
}