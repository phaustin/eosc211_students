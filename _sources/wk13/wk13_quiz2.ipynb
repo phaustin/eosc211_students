{
 "cells": [
  {
   "cell_type": "markdown",
   "id": "c479c6e7",
   "metadata": {},
   "source": [
    "# Week 13 Quiz 2:  Review with numpy arrays, basic logical indexing"
   ]
  },
  {
   "cell_type": "markdown",
   "id": "5e842ba6",
   "metadata": {},
   "source": [
    "## Name / Student #:\n",
    "## Group:"
   ]
  },
  {
   "cell_type": "markdown",
   "id": "08043fd4",
   "metadata": {},
   "source": [
    "## Import the packages we need"
   ]
  },
  {
   "cell_type": "code",
   "execution_count": 1,
   "id": "85b29815",
   "metadata": {},
   "outputs": [],
   "source": [
    "import numpy as np"
   ]
  },
  {
   "cell_type": "markdown",
   "id": "c7c166c0",
   "metadata": {},
   "source": [
    "## Use the variables defined in the following cell to answer all the questions below.  Show ALL your work."
   ]
  },
  {
   "cell_type": "code",
   "execution_count": 2,
   "id": "c4572f1c",
   "metadata": {},
   "outputs": [],
   "source": [
    "n1=4\n",
    "n2=2\n",
    "pp = np.pi\n",
    "c1 = [4,3,2,1]\n",
    "mynum = -2\n",
    "\n",
    "# define X and A\n",
    "X = np.zeros([n2,n1])\n",
    "X[:,n1-1]=mynum\n",
    "A = X.T\n",
    "\n",
    "# define Y and Z\n",
    "Y = np.ones_like(A)\n",
    "Y[3,-1] += mynum\n",
    "Y[:,0]=c1\n",
    "Y[-1,:] *= np.pi\n",
    "\n",
    "Z = Y==np.pi\n",
    "\n",
    "# define c1vec and hit\n",
    "c1vec= np.array(c1)\n",
    "hit = (c1vec % 2) == 0"
   ]
  },
  {
   "cell_type": "markdown",
   "id": "b64439b8",
   "metadata": {},
   "source": [
    "## For questions 1- 7 what is printed?"
   ]
  },
  {
   "cell_type": "markdown",
   "id": "ad0cb8e0",
   "metadata": {},
   "source": [
    "## Question 1 (2 pts): \n",
    "\n",
    "`print(X, X.shape)`\n",
    "\n",
    "<br />\n",
    "<br />\n",
    "<br />\n",
    "<br />\n",
    "<br />"
   ]
  },
  {
   "cell_type": "markdown",
   "id": "0c4a3ff4",
   "metadata": {},
   "source": [
    "## Question 2 (2 pts):\n",
    "\n",
    "`print(np.shape(c1), type(c1))`\n",
    "\n",
    "<br />\n",
    "<br />\n",
    "<br />\n",
    "<br />"
   ]
  },
  {
   "cell_type": "markdown",
   "id": "cbd8e213",
   "metadata": {},
   "source": [
    "## Question 3 (4 pts):\n",
    "\n",
    "`print(Y, Y.shape)`\n",
    "\n",
    "<br />\n",
    "<br />\n",
    "<br />\n",
    "<br />\n",
    "<br />\n",
    "<br />\n",
    "<br />"
   ]
  },
  {
   "cell_type": "markdown",
   "id": "8fefa161",
   "metadata": {},
   "source": [
    "## Question 4 (1 pt):\n",
    "\n",
    "`print(f\"{Z=}\")`\n",
    "\n",
    "<br />\n",
    "<br />\n",
    "<br />\n",
    "<br />\n",
    "<br />"
   ]
  },
  {
   "cell_type": "markdown",
   "id": "c379fb1f",
   "metadata": {},
   "source": [
    "## Question 5 (2 pts):\n",
    "\n",
    "`print(f\"{A[Z]=},{len(A[Z])=}\")`\n",
    "\n",
    "<br />\n",
    "<br />\n",
    "<br />\n",
    "<br />\n",
    "<br />\n",
    "<br />\n",
    "<br />"
   ]
  },
  {
   "cell_type": "markdown",
   "id": "94dbc079",
   "metadata": {},
   "source": [
    "## Question 6 (3 pts):\n",
    "\n",
    "`print(c1vec[hit],'pha')`\n",
    "\n",
    "<br />\n",
    "<br />\n",
    "<br />\n",
    "<br />\n",
    "<br />"
   ]
  },
  {
   "cell_type": "markdown",
   "id": "bd02bedc",
   "metadata": {},
   "source": [
    "## Question 7 (3 pts):\n",
    "\n",
    "```\n",
    "for jj in range(0,n2,1):\n",
    "    print(jj,Y[jj,:],Z[:,jj])\n",
    "```\n",
    "\n",
    "<br />\n",
    "<br />\n",
    "<br />\n",
    "<br />\n",
    "<br />\n",
    "<br />\n",
    "<br />\n",
    "<br />"
   ]
  }
 ],
 "metadata": {
  "jupytext": {
   "cell_metadata_filter": "-all",
   "formats": "ipynb,md:myst",
   "text_representation": {
    "extension": ".md",
    "format_name": "myst",
    "format_version": 0.13,
    "jupytext_version": "1.13.8"
   }
  },
  "kernelspec": {
   "display_name": "Python 3 (ipykernel)",
   "language": "python",
   "name": "python3"
  },
  "language_info": {
   "codemirror_mode": {
    "name": "ipython",
    "version": 3
   },
   "file_extension": ".py",
   "mimetype": "text/x-python",
   "name": "python",
   "nbconvert_exporter": "python",
   "pygments_lexer": "ipython3",
   "version": "3.9.12"
  },
  "source_map": [
   14,
   18,
   23,
   27,
   29,
   33,
   56,
   60,
   72,
   83,
   97,
   109,
   123,
   135
  ]
 },
 "nbformat": 4,
 "nbformat_minor": 5
}