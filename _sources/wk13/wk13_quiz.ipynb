{
 "cells": [
  {
   "cell_type": "markdown",
   "id": "63d05ae1",
   "metadata": {},
   "source": [
    "# Week 13 Quiz 1 Solution:  Review with basic functions, loops, code tracing\n",
    "\n",
    "\n",
    "### Name / Student id:\n",
    "### Group:\n",
    "\n",
    "\n",
    "\n",
    "\n",
    "\n",
    "### Import the packages we need"
   ]
  },
  {
   "cell_type": "code",
   "execution_count": 1,
   "id": "a4e4381f",
   "metadata": {},
   "outputs": [],
   "source": [
    "import numpy as np"
   ]
  },
  {
   "cell_type": "markdown",
   "id": "618d28d5",
   "metadata": {},
   "source": [
    "### The following function is called by questions 1-3."
   ]
  },
  {
   "cell_type": "code",
   "execution_count": 2,
   "id": "fd1790fc",
   "metadata": {},
   "outputs": [],
   "source": [
    "def myfun(n):\n",
    "    \"\"\" function doc string which i deliberately have not written\"\"\"\n",
    "    \n",
    "    nfac = 1;\n",
    "    for i in range(n,1,-1):     \n",
    "        nfac = nfac*i\n",
    "        print(i,nfac)\n",
    "    \n",
    "    return nfac"
   ]
  },
  {
   "cell_type": "markdown",
   "id": "13e826d7",
   "metadata": {},
   "source": [
    "#### Question 1 - What is printed to the screen? Show your work (4 pts)\n",
    "\n",
    "    'y1 = myfun(4)\n",
    "    print(f\"{y1=}\")'\n",
    "\n",
    "<br />\n",
    "<br />"
   ]
  },
  {
   "cell_type": "code",
   "execution_count": null,
   "id": "e4077cb8",
   "metadata": {},
   "outputs": [],
   "source": []
  },
  {
   "cell_type": "markdown",
   "id": "da60929f",
   "metadata": {},
   "source": [
    "#### Question 2 - What is printed to the screen? Show your work (2 pts)\n",
    "\n",
    "    'y2 = myfun(-4)\n",
    "    print(f\"{y2=}\")'\n",
    "\n",
    "<br />\n",
    "<br />"
   ]
  },
  {
   "cell_type": "code",
   "execution_count": null,
   "id": "9843009b",
   "metadata": {},
   "outputs": [],
   "source": []
  },
  {
   "cell_type": "markdown",
   "id": "ca36f902",
   "metadata": {},
   "source": [
    "#### Question 3 - What is printed to the screen? Show your work (2 pts)\n",
    "\n",
    "    'y3 = myfun(np.pi)\n",
    "    print(f\"{y3=}\")'\n",
    "\n",
    "<br />\n",
    "<br />"
   ]
  },
  {
   "cell_type": "code",
   "execution_count": null,
   "id": "2da7bad5",
   "metadata": {},
   "outputs": [],
   "source": []
  },
  {
   "cell_type": "markdown",
   "id": "ad5e2648",
   "metadata": {},
   "source": [
    "#### Question 4 (3 pts)\n",
    "I want to add together the numbers in an array 'x' until my sum exceeds the number in the variable target, then **stop** and return the sum and the number of elements that were summed.  You can assume that there are enough elements in x that I don't get to the end of the array before reaching the target.  I write the following code which has a semantics error not a syntax error (i.e. it runs but doesn't do what it was intended to do).  What is output to the screen? (Show your work).  \n",
    "\n",
    "```\n",
    "x = np.array([1, 0, -2, 7, 8, 1, 10, 21, -3, 5, -3])\n",
    "\n",
    "target = 21\n",
    "\n",
    "mysum = 0\n",
    "\n",
    "for i in range(0, len(x)):\n",
    "\n",
    "    if (mysum+x[i] <= target):\n",
    "    \n",
    "        mysum += x[i]\n",
    "        \n",
    "        nels = i\n",
    "        \n",
    "print (f\"{mysum=},{nels=}\")\n",
    "```\n",
    "\n",
    "<br />\n",
    "<br />\n",
    "\n",
    "<br />\n",
    "<br />\n",
    "\n",
    "<br />\n",
    "<br />\n",
    "\n",
    "<br />\n",
    "<br />"
   ]
  },
  {
   "cell_type": "code",
   "execution_count": null,
   "id": "93856a20",
   "metadata": {},
   "outputs": [],
   "source": []
  },
  {
   "cell_type": "code",
   "execution_count": null,
   "id": "c0e52189",
   "metadata": {},
   "outputs": [],
   "source": []
  }
 ],
 "metadata": {
  "jupytext": {
   "cell_metadata_filter": "all",
   "notebook_metadata_filter": "-all",
   "text_representation": {
    "extension": ".md",
    "format_name": "myst",
    "format_version": 0.13,
    "jupytext_version": "1.11.5"
   }
  },
  "kernelspec": {
   "display_name": "Python 3 (ipykernel)",
   "language": "python",
   "name": "python3"
  },
  "language_info": {
   "codemirror_mode": {
    "name": "ipython",
    "version": 3
   },
   "file_extension": ".py",
   "mimetype": "text/x-python",
   "name": "python",
   "nbconvert_exporter": "python",
   "pygments_lexer": "ipython3",
   "version": "3.9.12"
  },
  "source_map": [
   14,
   28,
   32,
   36,
   48,
   58,
   62,
   72,
   75,
   85,
   88,
   123,
   128
  ]
 },
 "nbformat": 4,
 "nbformat_minor": 5
}