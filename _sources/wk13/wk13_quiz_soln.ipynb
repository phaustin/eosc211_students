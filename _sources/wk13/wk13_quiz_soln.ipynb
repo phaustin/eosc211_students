{
 "cells": [
  {
   "cell_type": "markdown",
   "id": "62ebdaa0",
   "metadata": {},
   "source": [
    "# Week 13 Quiz 1 Solution:  Review with basic functions, loops, code tracing\n",
    "\n",
    "\n",
    "### Name / Student id:\n",
    "### Group:\n",
    "\n",
    "\n",
    "\n",
    "\n",
    "\n",
    "### Import the packages we need"
   ]
  },
  {
   "cell_type": "code",
   "execution_count": null,
   "id": "75e2c79c",
   "metadata": {},
   "outputs": [],
   "source": [
    "import numpy as np"
   ]
  },
  {
   "cell_type": "markdown",
   "id": "15d18698",
   "metadata": {},
   "source": [
    "### The following function is called by questions 1-3."
   ]
  },
  {
   "cell_type": "code",
   "execution_count": null,
   "id": "172c5d8b",
   "metadata": {},
   "outputs": [],
   "source": [
    "def myfun(n):\n",
    "    \"\"\" function doc string which i deliberately have not written\"\"\"\n",
    "    \n",
    "    nfac = 1;\n",
    "    for i in range(n,1,-1):     \n",
    "        nfac = nfac*i\n",
    "        print(i,nfac)\n",
    "    \n",
    "    return nfac"
   ]
  },
  {
   "cell_type": "markdown",
   "id": "02e3e687",
   "metadata": {},
   "source": [
    "#### Question 1 - What is printed to the screen? Show your work (4 pts)\n",
    "\n",
    "    'y1 = myfun(4)\n",
    "    print(f\"{y1=}\")'\n",
    "\n",
    "<br />\n",
    "<br />"
   ]
  },
  {
   "cell_type": "code",
   "execution_count": null,
   "id": "493a4343",
   "metadata": {},
   "outputs": [],
   "source": [
    "# Catherine's solution\n",
    "y1 = myfun(4)\n",
    "print(f\"{y1=}\")"
   ]
  },
  {
   "cell_type": "markdown",
   "id": "382d9e43",
   "metadata": {},
   "source": [
    "#### Question 2 - What is printed to the screen? Show your work (2 pts)\n",
    "\n",
    "    'y2 = myfun(-4)\n",
    "    print(f\"{y2=}\")'\n",
    "\n",
    "<br />\n",
    "<br />"
   ]
  },
  {
   "cell_type": "code",
   "execution_count": null,
   "id": "25ba5c05",
   "metadata": {},
   "outputs": [],
   "source": [
    "# Catherine's solution\n",
    "y1 = myfun(-4)\n",
    "print(f\"{y1=}\")"
   ]
  },
  {
   "cell_type": "markdown",
   "id": "f32f1c06",
   "metadata": {},
   "source": [
    "#### Question 3 - What is printed to the screen? Show your work (2 pts)\n",
    "\n",
    "    'y3 = myfun(np.pi)\n",
    "    print(f\"{y3=}\")'\n",
    "\n",
    "<br />\n",
    "<br />"
   ]
  },
  {
   "cell_type": "code",
   "execution_count": null,
   "id": "a42033ac",
   "metadata": {},
   "outputs": [],
   "source": [
    "# Catherine's solution\n",
    "y1 = myfun(np.pi)\n",
    "print(f\"{y1=}\")"
   ]
  },
  {
   "cell_type": "markdown",
   "id": "1d660fac",
   "metadata": {},
   "source": [
    "#### Question 4 (3 pts)\n",
    "I want to add together the numbers in an array 'x' until my sum exceeds the number in the variable target, then **stop** and return the sum and the number of elements that were summed.  You can assume that there are enough elements in x that I don't get to the end of the array before reaching the target.  I write the following code which has a semantics error not a syntax error (i.e. it runs but doesn't do what it was intended to do).  What is output to the screen? (Show your work).  \n",
    "\n",
    "```\n",
    "x = np.array([1, 0, -2, 7, 8, 1, 10, 21, -3, 5, -3])\n",
    "\n",
    "target = 21\n",
    "\n",
    "mysum = 0\n",
    "\n",
    "for i in range(0, len(x)):\n",
    "\n",
    "    if (mysum+x[i] <= target):\n",
    "    \n",
    "        mysum += x[i]\n",
    "        \n",
    "        nels = i\n",
    "        \n",
    "print (f\"{mysum=},{nels=}\")\n",
    "```\n",
    "\n",
    "<br />\n",
    "<br />\n",
    "\n",
    "<br />\n",
    "<br />\n",
    "\n",
    "<br />\n",
    "<br />\n",
    "\n",
    "<br />\n",
    "<br />"
   ]
  },
  {
   "cell_type": "code",
   "execution_count": null,
   "id": "f14305c7",
   "metadata": {},
   "outputs": [],
   "source": [
    "# Catherine solution - added print statement within if statement in loop to make clear what is going on\n",
    "\n",
    "x = np.array([1, 0, -2, 7, 8, 1, 10, 21, -3, 5, -3])\n",
    "\n",
    "target = 21\n",
    "mysum = 0\n",
    "for i in range(0, len(x)):\n",
    "    if (mysum+x[i] <= target):\n",
    "        mysum += x[i]\n",
    "        print(i, mysum)\n",
    "        nels = i\n",
    "        \n",
    "print (f\"{mysum=},{nels=}\")"
   ]
  },
  {
   "cell_type": "code",
   "execution_count": null,
   "id": "12917797",
   "metadata": {},
   "outputs": [],
   "source": []
  }
 ],
 "metadata": {
  "jupytext": {
   "cell_metadata_filter": "all",
   "notebook_metadata_filter": "-all",
   "text_representation": {
    "extension": ".md",
    "format_name": "myst",
    "format_version": 0.13,
    "jupytext_version": "1.11.5"
   }
  },
  "kernelspec": {
   "display_name": "Python 3 (ipykernel)",
   "language": "python",
   "name": "python3"
  },
  "source_map": [
   14,
   28,
   32,
   36,
   48,
   58,
   64,
   74,
   80,
   90,
   96,
   131,
   149
  ]
 },
 "nbformat": 4,
 "nbformat_minor": 5
}