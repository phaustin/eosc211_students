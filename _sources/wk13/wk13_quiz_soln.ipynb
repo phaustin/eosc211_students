{
 "cells": [
  {
   "cell_type": "markdown",
   "id": "e6f7332f",
   "metadata": {},
   "source": [
    "# Week 13 Quiz 1 Solution:  Review with basic functions, loops, code tracing\n",
    "\n",
    "\n",
    "### Name / Student id:\n",
    "### Group:\n",
    "\n",
    "\n",
    "\n",
    "\n",
    "\n",
    "### Import the packages we need"
   ]
  },
  {
   "cell_type": "code",
   "execution_count": 1,
   "id": "1430d1c7",
   "metadata": {},
   "outputs": [],
   "source": [
    "import numpy as np"
   ]
  },
  {
   "cell_type": "markdown",
   "id": "78c8b793",
   "metadata": {},
   "source": [
    "### The following function is called by questions 1-3."
   ]
  },
  {
   "cell_type": "code",
   "execution_count": 2,
   "id": "8df5ceca",
   "metadata": {},
   "outputs": [],
   "source": [
    "def myfun(n):\n",
    "    \"\"\" function doc string which i deliberately have not written\"\"\"\n",
    "    \n",
    "    nfac = 1;\n",
    "    for i in range(n,1,-1):     \n",
    "        nfac = nfac*i\n",
    "        print(i,nfac)\n",
    "    \n",
    "    return nfac"
   ]
  },
  {
   "cell_type": "markdown",
   "id": "ab5fa8d0",
   "metadata": {},
   "source": [
    "#### Question 1 - What is printed to the screen? Show your work (4 pts)\n",
    "\n",
    "    'y1 = myfun(4)\n",
    "    print(f\"{y1=}\")'\n",
    "\n",
    "<br />\n",
    "<br />"
   ]
  },
  {
   "cell_type": "code",
   "execution_count": 3,
   "id": "e8436418",
   "metadata": {},
   "outputs": [
    {
     "name": "stdout",
     "output_type": "stream",
     "text": [
      "4 4\n",
      "3 12\n",
      "2 24\n",
      "y1=24\n"
     ]
    }
   ],
   "source": [
    "# Catherine's solution\n",
    "y1 = myfun(4)\n",
    "print(f\"{y1=}\")"
   ]
  },
  {
   "cell_type": "markdown",
   "id": "e2c27e2f",
   "metadata": {},
   "source": [
    "#### Question 2 - What is printed to the screen? Show your work (2 pts)\n",
    "\n",
    "    'y2 = myfun(-4)\n",
    "    print(f\"{y2=}\")'\n",
    "\n",
    "<br />\n",
    "<br />"
   ]
  },
  {
   "cell_type": "code",
   "execution_count": 4,
   "id": "390b650f",
   "metadata": {},
   "outputs": [
    {
     "name": "stdout",
     "output_type": "stream",
     "text": [
      "y1=1\n"
     ]
    }
   ],
   "source": [
    "# Catherine's solution\n",
    "y1 = myfun(-4)\n",
    "print(f\"{y1=}\")"
   ]
  },
  {
   "cell_type": "markdown",
   "id": "f5a7062f",
   "metadata": {},
   "source": [
    "#### Question 3 - What is printed to the screen? Show your work (2 pts)\n",
    "\n",
    "    'y3 = myfun(np.pi)\n",
    "    print(f\"{y3=}\")'\n",
    "\n",
    "<br />\n",
    "<br />"
   ]
  },
  {
   "cell_type": "code",
   "execution_count": 5,
   "id": "bbea02ec",
   "metadata": {},
   "outputs": [
    {
     "ename": "TypeError",
     "evalue": "'float' object cannot be interpreted as an integer",
     "output_type": "error",
     "traceback": [
      "\u001b[0;31m---------------------------------------------------------------------------\u001b[0m",
      "\u001b[0;31mTypeError\u001b[0m                                 Traceback (most recent call last)",
      "\u001b[0;32m/tmp/ipykernel_2089418/3328868308.py\u001b[0m in \u001b[0;36m<module>\u001b[0;34m\u001b[0m\n\u001b[1;32m      1\u001b[0m \u001b[0;31m# Catherine's solution\u001b[0m\u001b[0;34m\u001b[0m\u001b[0;34m\u001b[0m\u001b[0;34m\u001b[0m\u001b[0m\n\u001b[0;32m----> 2\u001b[0;31m \u001b[0my1\u001b[0m \u001b[0;34m=\u001b[0m \u001b[0mmyfun\u001b[0m\u001b[0;34m(\u001b[0m\u001b[0mnp\u001b[0m\u001b[0;34m.\u001b[0m\u001b[0mpi\u001b[0m\u001b[0;34m)\u001b[0m\u001b[0;34m\u001b[0m\u001b[0;34m\u001b[0m\u001b[0m\n\u001b[0m\u001b[1;32m      3\u001b[0m \u001b[0mprint\u001b[0m\u001b[0;34m(\u001b[0m\u001b[0;34mf\"{y1=}\"\u001b[0m\u001b[0;34m)\u001b[0m\u001b[0;34m\u001b[0m\u001b[0;34m\u001b[0m\u001b[0m\n",
      "\u001b[0;32m/tmp/ipykernel_2089418/485320639.py\u001b[0m in \u001b[0;36mmyfun\u001b[0;34m(n)\u001b[0m\n\u001b[1;32m      3\u001b[0m \u001b[0;34m\u001b[0m\u001b[0m\n\u001b[1;32m      4\u001b[0m     \u001b[0mnfac\u001b[0m \u001b[0;34m=\u001b[0m \u001b[0;36m1\u001b[0m\u001b[0;34m;\u001b[0m\u001b[0;34m\u001b[0m\u001b[0;34m\u001b[0m\u001b[0m\n\u001b[0;32m----> 5\u001b[0;31m     \u001b[0;32mfor\u001b[0m \u001b[0mi\u001b[0m \u001b[0;32min\u001b[0m \u001b[0mrange\u001b[0m\u001b[0;34m(\u001b[0m\u001b[0mn\u001b[0m\u001b[0;34m,\u001b[0m\u001b[0;36m1\u001b[0m\u001b[0;34m,\u001b[0m\u001b[0;34m-\u001b[0m\u001b[0;36m1\u001b[0m\u001b[0;34m)\u001b[0m\u001b[0;34m:\u001b[0m\u001b[0;34m\u001b[0m\u001b[0;34m\u001b[0m\u001b[0m\n\u001b[0m\u001b[1;32m      6\u001b[0m         \u001b[0mnfac\u001b[0m \u001b[0;34m=\u001b[0m \u001b[0mnfac\u001b[0m\u001b[0;34m*\u001b[0m\u001b[0mi\u001b[0m\u001b[0;34m\u001b[0m\u001b[0;34m\u001b[0m\u001b[0m\n\u001b[1;32m      7\u001b[0m         \u001b[0mprint\u001b[0m\u001b[0;34m(\u001b[0m\u001b[0mi\u001b[0m\u001b[0;34m,\u001b[0m\u001b[0mnfac\u001b[0m\u001b[0;34m)\u001b[0m\u001b[0;34m\u001b[0m\u001b[0;34m\u001b[0m\u001b[0m\n",
      "\u001b[0;31mTypeError\u001b[0m: 'float' object cannot be interpreted as an integer"
     ]
    }
   ],
   "source": [
    "# Catherine's solution\n",
    "y1 = myfun(np.pi)\n",
    "print(f\"{y1=}\")"
   ]
  },
  {
   "cell_type": "markdown",
   "id": "33a04515",
   "metadata": {},
   "source": [
    "#### Question 4 (3 pts)\n",
    "I want to add together the numbers in an array 'x' until my sum exceeds the number in the variable target, then **stop** and return the sum and the number of elements that were summed.  You can assume that there are enough elements in x that I don't get to the end of the array before reaching the target.  I write the following code which has a semantics error not a syntax error (i.e. it runs but doesn't do what it was intended to do).  What is output to the screen? (Show your work).  \n",
    "\n",
    "```\n",
    "x = np.array([1, 0, -2, 7, 8, 1, 10, 21, -3, 5, -3])\n",
    "\n",
    "target = 21\n",
    "\n",
    "mysum = 0\n",
    "\n",
    "for i in range(0, len(x)):\n",
    "\n",
    "    if (mysum+x[i] <= target):\n",
    "    \n",
    "        mysum += x[i]\n",
    "        \n",
    "        nels = i\n",
    "        \n",
    "print (f\"{mysum=},{nels=}\")\n",
    "```\n",
    "\n",
    "<br />\n",
    "<br />\n",
    "\n",
    "<br />\n",
    "<br />\n",
    "\n",
    "<br />\n",
    "<br />\n",
    "\n",
    "<br />\n",
    "<br />"
   ]
  },
  {
   "cell_type": "code",
   "execution_count": 6,
   "id": "54b99326",
   "metadata": {},
   "outputs": [
    {
     "name": "stdout",
     "output_type": "stream",
     "text": [
      "0 1\n",
      "1 1\n",
      "2 -1\n",
      "3 6\n",
      "4 14\n",
      "5 15\n",
      "8 12\n",
      "9 17\n",
      "10 14\n",
      "mysum=14,nels=10\n"
     ]
    }
   ],
   "source": [
    "# Catherine solution - added print statement within if statement in loop to make clear what is going on\n",
    "\n",
    "x = np.array([1, 0, -2, 7, 8, 1, 10, 21, -3, 5, -3])\n",
    "\n",
    "target = 21\n",
    "mysum = 0\n",
    "for i in range(0, len(x)):\n",
    "    if (mysum+x[i] <= target):\n",
    "        mysum += x[i]\n",
    "        print(i, mysum)\n",
    "        nels = i\n",
    "        \n",
    "print (f\"{mysum=},{nels=}\")"
   ]
  },
  {
   "cell_type": "code",
   "execution_count": null,
   "id": "b158d6f6",
   "metadata": {},
   "outputs": [],
   "source": []
  }
 ],
 "metadata": {
  "jupytext": {
   "cell_metadata_filter": "all",
   "notebook_metadata_filter": "-all",
   "text_representation": {
    "extension": ".md",
    "format_name": "myst",
    "format_version": 0.13,
    "jupytext_version": "1.11.5"
   }
  },
  "kernelspec": {
   "display_name": "Python 3 (ipykernel)",
   "language": "python",
   "name": "python3"
  },
  "language_info": {
   "codemirror_mode": {
    "name": "ipython",
    "version": 3
   },
   "file_extension": ".py",
   "mimetype": "text/x-python",
   "name": "python",
   "nbconvert_exporter": "python",
   "pygments_lexer": "ipython3",
   "version": "3.8.0"
  },
  "source_map": [
   14,
   28,
   32,
   36,
   48,
   58,
   64,
   74,
   80,
   90,
   96,
   131,
   149
  ]
 },
 "nbformat": 4,
 "nbformat_minor": 5
}