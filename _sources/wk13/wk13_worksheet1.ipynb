{
 "cells": [
  {
   "cell_type": "markdown",
   "id": "beea0937",
   "metadata": {},
   "source": [
    "# Review Exercises EOSC 211\n",
    "\n",
    "## Week 13,  Worksheet 1"
   ]
  },
  {
   "cell_type": "code",
   "execution_count": 1,
   "id": "763af3de",
   "metadata": {},
   "outputs": [],
   "source": [
    "# import the packages we might need\n",
    "import numpy as np\n",
    "from matplotlib import pyplot as plt\n",
    "import math"
   ]
  },
  {
   "cell_type": "markdown",
   "id": "7d82edfd",
   "metadata": {},
   "source": [
    "### Question 1 -  Practice with while versus for loops  \n",
    "How would you improve the code in the last problem on the quiz to make it work properly using a while loop?  Here's the code you were given and (in words), what it was supposed to do:"
   ]
  },
  {
   "cell_type": "markdown",
   "id": "cd20107f",
   "metadata": {},
   "source": [
    "#### From quiz:  \n",
    "I want to add together the numbers in an array 'x' until my sum exceeds the number in the variable target, then **stop** and return the sum and the number of elements that were summed.  You can assume that there are enough elements in x that I don't get to the end of the array before reaching the target.  I write the following code which has a semantics error not a syntax error (i.e. it runs but doesn't do what it was intended to do).  What is output to the screen? (Show your work)."
   ]
  },
  {
   "cell_type": "code",
   "execution_count": 2,
   "id": "689bb8f0",
   "metadata": {},
   "outputs": [
    {
     "name": "stdout",
     "output_type": "stream",
     "text": [
      "mysum=14,nels=10\n"
     ]
    }
   ],
   "source": [
    "x = np.array([1, 0, -2, 7, 8, 1, 10, 21, -3, 5, -3])\n",
    "\n",
    "target = 21\n",
    "\n",
    "mysum = 0\n",
    "\n",
    "for i in range(0, len(x)):\n",
    "\n",
    "    if (mysum+x[i] <= target):\n",
    "    \n",
    "        mysum += x[i]\n",
    "        \n",
    "        nels = i\n",
    "        \n",
    "print (f\"{mysum=},{nels=}\")"
   ]
  },
  {
   "cell_type": "code",
   "execution_count": 3,
   "id": "7fe9b34b",
   "metadata": {},
   "outputs": [],
   "source": [
    "# your code here"
   ]
  },
  {
   "cell_type": "markdown",
   "id": "9a674176",
   "metadata": {},
   "source": [
    "### Question 2: Basic function Practice\n",
    "#### A)\n",
    "Write a function `transp` that will take as input a 2-D array A, and return the array B where `B[i,j] = A[j,i]`. Do not use a built-in python function."
   ]
  },
  {
   "cell_type": "code",
   "execution_count": 4,
   "id": "33886810",
   "metadata": {},
   "outputs": [],
   "source": [
    "# your code here"
   ]
  },
  {
   "cell_type": "markdown",
   "id": "70de062f",
   "metadata": {},
   "source": [
    "#### B)\n",
    "Add a check to the function code that will exit the function with an error message if A is not a 2-D array."
   ]
  },
  {
   "cell_type": "code",
   "execution_count": 5,
   "id": "e53f6db4",
   "metadata": {},
   "outputs": [],
   "source": [
    "# your code here"
   ]
  },
  {
   "cell_type": "markdown",
   "id": "17342031",
   "metadata": {},
   "source": [
    "### Question 3\n",
    "The function $e^x$ can be calculated from the following formula:  $e^x = \\Sigma_{k=0}^{\\inf} \\frac {x^k}{k!} = 1 + x + \\frac {x^2} {2!} + \\frac {x^3} {3!} + \\cdots $.  You want to write a piece of code that will compute `y` = $e^x$, given a value for `x` using this series expansion, keeping all the terms until the difference between successive terms is less than some specified amount, contained in the variable `target_err`.\n",
    "\n",
    "1.  Would you use a while loop or a for loop?  Give a reason for your answer.\n",
    "\n",
    "2.  Complete the python code below to do this.  Also print the number of terms used to compute y."
   ]
  },
  {
   "cell_type": "code",
   "execution_count": 6,
   "id": "74bce8fd",
   "metadata": {},
   "outputs": [],
   "source": [
    "x = 2\n",
    "target_err = 0.1\n",
    "\n",
    "# initialize some variables \n",
    "i = 0\n",
    "y = 0\n",
    "term = x**i/math.factorial(i)\n",
    "\n",
    "# write your loop here\n",
    "\n",
    "\n",
    "    \n",
    "# write your print statement here"
   ]
  },
  {
   "cell_type": "markdown",
   "id": "fd89e196",
   "metadata": {},
   "source": [
    "### Question 4:  code tracing, logical indexing,  for loops\n",
    "What is in `y` after exectuing this code?"
   ]
  },
  {
   "cell_type": "code",
   "execution_count": 7,
   "id": "7f9c8248",
   "metadata": {},
   "outputs": [],
   "source": [
    "x=np.empty(8)\n",
    "x[0]=1\n",
    "x[1]=1\n",
    "for k in range(2,len(x)):\n",
    "    x[k]=x[k-1] + x[k-2]\n",
    "\n",
    "y = x[np.logical_and(x>3,x%2==1)]"
   ]
  },
  {
   "cell_type": "code",
   "execution_count": 8,
   "id": "3facbf9c",
   "metadata": {},
   "outputs": [],
   "source": [
    "# your answer here"
   ]
  },
  {
   "cell_type": "markdown",
   "id": "2d8f6a2f",
   "metadata": {},
   "source": [
    "### Question 5:  more practice with for loops / if, elif\n",
    "\n",
    "The following code produces a uniform random sample of 3 numbers that lie between\n",
    "0 and 10 (excluding 10 exactly).  Use this code to produce  \n",
    "100  samples each of 3 numbers, and put the samples into one of two lists:  `accept_list` if one of the \n",
    "three numbers is greater than or equal to 9, and `reject_list` if all three numbers are less\n",
    "than 9.  Bonus: How many samples do you think will be in each list?  Increase the sample size to 1000; 10,000;\n",
    "100,000 -- do the lengths match your guess?"
   ]
  },
  {
   "cell_type": "code",
   "execution_count": 9,
   "id": "6a47b7de",
   "metadata": {},
   "outputs": [],
   "source": [
    "from numpy.random import random_sample\n",
    "my_sample = random_sample([3])*10"
   ]
  },
  {
   "cell_type": "code",
   "execution_count": 10,
   "id": "583103a1",
   "metadata": {},
   "outputs": [],
   "source": [
    "# your code here"
   ]
  },
  {
   "cell_type": "markdown",
   "id": "c055e8c0",
   "metadata": {},
   "source": [
    "### Question 6 (harder):  Practice with *args\n",
    "\n",
    "Turn the code in Question 2 into a function that will take as input an arbitrary number of 2-D arrays and return the transpose of each. \n",
    "\n",
    "The following resources are useful if you are confused about wrapping / unwrapping of arguments and keyword arguments:\n",
    "\n",
    "1. https://www.geeksforgeeks.org/packing-and-unpacking-arguments-in-python/\n",
    "\n",
    "2. https://shecancode.io/blog/unpacking-function-arguments-in-python\n",
    "\n",
    "3. https://treyhunner.com/2018/03/tuple-unpacking-improves-python-code-readability/"
   ]
  },
  {
   "cell_type": "code",
   "execution_count": 11,
   "id": "34548b52",
   "metadata": {},
   "outputs": [],
   "source": [
    "# your code here"
   ]
  },
  {
   "cell_type": "markdown",
   "id": "62a8bf23",
   "metadata": {},
   "source": [
    "### A few FAQ / comments about *args\n",
    "\n",
    "1\\.  What is the `*` doing in `def trans2(*args1):`?  The `*` or `splat` can be thought of as an operator.  It is operating on the function arguments and returning a tuple called `args1`:  see the output of  `print(f\"{type(args1)=}\")`\n",
    "</br>\n",
    "\n",
    "2\\.  We made `args2` a list of 2D arrays.  The function returns this which is then \"unpacked\" into the individual variables `B1`, `B2`, `B3` and `B4`.  This communicates to someone reading the code that you expect\n",
    "exactly 4 items in the args2 list returned by trans2, and that you want to work with them as individual variables.\n",
    "Python will raise a ValueError if the length of args2 is not 4.\n",
    "\n",
    "</br>\n",
    "\n",
    "3\\. One thing to remember is that tuple creation and unpacking is handled by the comma operator, so e.g.\n",
    "```\n",
    "    a = 1,2,3  # packs or creates the tuple, a\n",
    "    x,y,z = a  # unpacks `a` into x,y,z; also called multiple assignment\n",
    "```\n",
    "</br>\n",
    "\n",
    "4\\.  We've seen this tangentially before in references to multiple assignment in for loops. The last ref on the list above is really helpful in covering tuple, list unpacking and packing.  \n",
    "\n",
    "```\n",
    "person_dictionary = {'name': \"CJ\", 'university': \"UBC\"}\n",
    "\n",
    "# one dictionary item at a time print key and value\n",
    "print(f\"Loop over items\")\n",
    "for item in person_dictionary.items():\n",
    "    print(f\"Key {item[0]} has value {item[1]}\")\n",
    "\n",
    "# Same thing but with multiple assignment (like multiple assignment with = operator)\n",
    "print(f\"\\nMultiple assignment loop\")\n",
    "for key, value in person_dictionary.items():\n",
    "    print(f\"Key {key} has value {value}\")\n",
    "```    \n",
    "</br> \n",
    "\n",
    "5\\.  Phil says:  \"Handling an arbitrary number of function arguments is definitely useful, but in my own code I don't find myself using it very often, since I'd like the function signature to be as specific as possible.    I use kw expansion much more often, because all the keywords are specified in the function signature, and the creator of the dictionary that's going into `my_fun(**kw_dict)` knows what they put into the dictionary.  So you get the best of both worlds -- much less typing when you call the function, but complete documentation when you read the function signature.\"\n",
    "\n",
    "\n",
    "6\\. A couple basic rules for function signatures:\n",
    "\n",
    "a\\) Your function should do something useful even if no optional arguments are supplied. That is, optional keyword\n",
    "   arguments should really be optional  \n",
    "b\\) You should try to keep your required arguments down to between 4-5 -- the number that fit into\n",
    "   short term human memory.   If you need more than that, then use a dictionary that can \n",
    "   contain the required arguments and require that instead."
   ]
  },
  {
   "cell_type": "markdown",
   "id": "d0d01736",
   "metadata": {},
   "source": [
    "### Question 7:  Type / Dimensions Quickies\n",
    "\n",
    "Use the following variable definitions to answer the questions below"
   ]
  },
  {
   "cell_type": "markdown",
   "id": "82ee92c5",
   "metadata": {},
   "source": [
    "```python\n",
    "a = np.array([[1, 2], [3, -1], [0, 1]])\n",
    "b = np.arange(3, -3, -2)\n",
    "b = np.expand_dims(b, axis=[0])\n",
    "c = np.ones(3)\n",
    "d = [10,11,12]\n",
    "e = a*a\n",
    "f = b*d\n",
    "g = a*a.T\n",
    "```"
   ]
  },
  {
   "cell_type": "markdown",
   "id": "44371799",
   "metadata": {},
   "source": [
    "What is the shape of \n",
    "</br>\n",
    "\n",
    "a) `a`\n",
    "</br>\n",
    "</br>\n",
    "\n",
    "b) `b`\n",
    "</br>\n",
    "</br>\n",
    "\n",
    "c) `c`\n",
    "</br>\n",
    "</br>\n",
    "\n",
    "d) `d`\n",
    "</br>\n",
    "</br>\n",
    "\n",
    "e) `e`\n",
    "</br>\n",
    "</br>\n",
    "\n",
    "f) `f`\n",
    "</br>\n",
    "</br>\n",
    "\n",
    "g) `g`\n",
    "</br>\n",
    "</br>"
   ]
  },
  {
   "cell_type": "markdown",
   "id": "08f6fb5e",
   "metadata": {},
   "source": [
    "What is the type of \n",
    "</br>\n",
    "\n",
    "h) `b`\n",
    "</br>\n",
    "</br>\n",
    "\n",
    "i) `d`\n",
    "</br>\n",
    "</br>\n",
    "\n",
    "j) `e`\n",
    "</br>\n",
    "</br>\n",
    "\n",
    "k) `f`\n",
    "</br>\n",
    "</br>"
   ]
  },
  {
   "cell_type": "markdown",
   "id": "3cfb7a4f",
   "metadata": {},
   "source": [
    "### Question 8:  More quickies\n",
    "\n",
    "#### A) Bugs ...\n",
    "What happens when you run the following code?"
   ]
  },
  {
   "cell_type": "code",
   "execution_count": 12,
   "id": "dbc2d301",
   "metadata": {},
   "outputs": [
    {
     "name": "stderr",
     "output_type": "stream",
     "text": [
      "/var/folders/_k/0f_hlw7x2hq4vtcq0h8bvsm40000gr/T/ipykernel_61411/460077631.py:3: RuntimeWarning: divide by zero encountered in true_divide\n",
      "  C=A/B + 4\n",
      "/var/folders/_k/0f_hlw7x2hq4vtcq0h8bvsm40000gr/T/ipykernel_61411/460077631.py:3: RuntimeWarning: invalid value encountered in true_divide\n",
      "  C=A/B + 4\n"
     ]
    }
   ],
   "source": [
    "A=np.array([1, 5, 3, 0, 1])\n",
    "B=np.array([0, 5, 6, 0, 1])\n",
    "C=A/B + 4"
   ]
  },
  {
   "cell_type": "markdown",
   "id": "615f001a",
   "metadata": {},
   "source": [
    "#### B More bugs ..."
   ]
  },
  {
   "cell_type": "code",
   "execution_count": 13,
   "id": "d09c2ec7",
   "metadata": {},
   "outputs": [
    {
     "ename": "TypeError",
     "evalue": "unsupported operand type(s) for /: 'list' and 'list'",
     "output_type": "error",
     "traceback": [
      "\u001b[0;31m---------------------------------------------------------------------------\u001b[0m",
      "\u001b[0;31mTypeError\u001b[0m                                 Traceback (most recent call last)",
      "\u001b[0;32m/var/folders/_k/0f_hlw7x2hq4vtcq0h8bvsm40000gr/T/ipykernel_61411/959819828.py\u001b[0m in \u001b[0;36m<module>\u001b[0;34m\u001b[0m\n\u001b[1;32m      1\u001b[0m \u001b[0mA\u001b[0m\u001b[0;34m=\u001b[0m\u001b[0;34m[\u001b[0m\u001b[0;36m1\u001b[0m\u001b[0;34m,\u001b[0m \u001b[0;36m5\u001b[0m\u001b[0;34m,\u001b[0m \u001b[0;36m3\u001b[0m\u001b[0;34m,\u001b[0m \u001b[0;36m0\u001b[0m\u001b[0;34m,\u001b[0m \u001b[0;36m1\u001b[0m\u001b[0;34m]\u001b[0m\u001b[0;34m\u001b[0m\u001b[0;34m\u001b[0m\u001b[0m\n\u001b[1;32m      2\u001b[0m \u001b[0mB\u001b[0m\u001b[0;34m=\u001b[0m\u001b[0;34m[\u001b[0m\u001b[0;36m0\u001b[0m\u001b[0;34m,\u001b[0m \u001b[0;36m5\u001b[0m\u001b[0;34m,\u001b[0m \u001b[0;36m6\u001b[0m\u001b[0;34m,\u001b[0m \u001b[0;36m0\u001b[0m\u001b[0;34m,\u001b[0m \u001b[0;36m1\u001b[0m\u001b[0;34m]\u001b[0m\u001b[0;34m\u001b[0m\u001b[0;34m\u001b[0m\u001b[0m\n\u001b[0;32m----> 3\u001b[0;31m \u001b[0mC\u001b[0m\u001b[0;34m=\u001b[0m\u001b[0mB\u001b[0m\u001b[0;34m/\u001b[0m\u001b[0mA\u001b[0m \u001b[0;34m+\u001b[0m \u001b[0;36m4\u001b[0m\u001b[0;34m\u001b[0m\u001b[0;34m\u001b[0m\u001b[0m\n\u001b[0m",
      "\u001b[0;31mTypeError\u001b[0m: unsupported operand type(s) for /: 'list' and 'list'"
     ]
    }
   ],
   "source": [
    "A=[1, 5, 3, 0, 1]\n",
    "B=[0, 5, 6, 0, 1]\n",
    "C=B/A + 4"
   ]
  },
  {
   "cell_type": "markdown",
   "id": "9587d73f",
   "metadata": {},
   "source": [
    "#### C) Precedence\n",
    "What does `x` contain after running the following code? show your work."
   ]
  },
  {
   "cell_type": "code",
   "execution_count": 14,
   "id": "09cb301c",
   "metadata": {},
   "outputs": [],
   "source": [
    "a = 3.0;\n",
    "x = [2**a+a*2+1, a**(np.sum(np.append(np.arange(2,-1,-1),-4)))]"
   ]
  }
 ],
 "metadata": {
  "jupytext": {
   "cell_metadata_filter": "all",
   "formats": "ipynb,md:myst",
   "notebook_metadata_filter": "all,-language_info,-toc,-latex_envs",
   "text_representation": {
    "extension": ".md",
    "format_name": "myst",
    "format_version": 0.13,
    "jupytext_version": "1.11.5"
   }
  },
  "kernelspec": {
   "display_name": "Python 3 (ipykernel)",
   "language": "python",
   "name": "python3"
  },
  "language_info": {
   "codemirror_mode": {
    "name": "ipython",
    "version": 3
   },
   "file_extension": ".py",
   "mimetype": "text/x-python",
   "name": "python",
   "nbconvert_exporter": "python",
   "pygments_lexer": "ipython3",
   "version": "3.8.12"
  },
  "source_map": [
   15,
   21,
   28,
   33,
   38,
   58,
   62,
   68,
   72,
   77,
   81,
   90,
   106,
   111,
   123,
   127,
   138,
   145,
   149,
   163,
   167,
   215,
   221,
   234,
   267,
   288,
   295,
   301,
   305,
   311,
   316
  ]
 },
 "nbformat": 4,
 "nbformat_minor": 5
}