{
 "cells": [
  {
   "cell_type": "markdown",
   "id": "15c09656",
   "metadata": {},
   "source": [
    "# Week 13 Quiz 2 Solution:  Review with numpy arrays, basic logical indexing"
   ]
  },
  {
   "cell_type": "markdown",
   "id": "bd336dfd",
   "metadata": {},
   "source": [
    "## Name / Student #:\n",
    "## Group:"
   ]
  },
  {
   "cell_type": "markdown",
   "id": "c22c27c8",
   "metadata": {},
   "source": [
    "## Import the packages we need"
   ]
  },
  {
   "cell_type": "code",
   "execution_count": 1,
   "id": "f625d73c",
   "metadata": {},
   "outputs": [],
   "source": [
    "import numpy as np"
   ]
  },
  {
   "cell_type": "markdown",
   "id": "98ffe588",
   "metadata": {},
   "source": [
    "## Use the variables defined in the following cell to answer all the questions below.  Show ALL your work."
   ]
  },
  {
   "cell_type": "code",
   "execution_count": 2,
   "id": "9488cdfb",
   "metadata": {},
   "outputs": [],
   "source": [
    "n1=4\n",
    "n2=2\n",
    "pp = np.pi\n",
    "c1 = [4,3,2,1]\n",
    "mynum = -2\n",
    "\n",
    "# define X and A\n",
    "X = np.zeros([n2,n1])\n",
    "X[:,n1-1]=mynum\n",
    "A = X.T\n",
    "\n",
    "# define Y and Z\n",
    "Y = np.ones_like(A)\n",
    "Y[3,-1] += mynum\n",
    "Y[:,0]=c1\n",
    "Y[-1,:] *= np.pi\n",
    "\n",
    "Z = Y==np.pi\n",
    "\n",
    "# define c1vec and hit\n",
    "c1vec= np.array(c1)\n",
    "hit = (c1vec % 2) == 0"
   ]
  },
  {
   "cell_type": "markdown",
   "id": "8d7ba49c",
   "metadata": {},
   "source": [
    "## For questions 1- 7 what is printed?"
   ]
  },
  {
   "cell_type": "markdown",
   "id": "79dd7e63",
   "metadata": {},
   "source": [
    "## Question 1 (2 pts): \n",
    "\n",
    "`print(X, X.shape)`\n",
    "\n",
    "<br />\n",
    "<br />\n",
    "<br />\n",
    "<br />\n",
    "<br />"
   ]
  },
  {
   "cell_type": "code",
   "execution_count": 3,
   "id": "a4c73417",
   "metadata": {},
   "outputs": [
    {
     "name": "stdout",
     "output_type": "stream",
     "text": [
      "X = array([[ 0.,  0.,  0., -2.],\n",
      "       [ 0.,  0.,  0., -2.]]), \n",
      "X.shape=(2, 4)\n"
     ]
    }
   ],
   "source": [
    "# Solution\n",
    "print(f\"{X = }, \\n{X.shape=}\")    #the \\n just makes a new line for prettier formatting"
   ]
  },
  {
   "cell_type": "markdown",
   "id": "818e73ed",
   "metadata": {},
   "source": [
    "## Question 2 (2 pts):\n",
    "\n",
    "`print(np.shape(c1), type(c1))`\n",
    "\n",
    "<br />\n",
    "<br />\n",
    "<br />\n",
    "<br />"
   ]
  },
  {
   "cell_type": "code",
   "execution_count": 4,
   "id": "8b6a2fd5",
   "metadata": {},
   "outputs": [
    {
     "name": "stdout",
     "output_type": "stream",
     "text": [
      "(4,) <class 'list'>\n"
     ]
    }
   ],
   "source": [
    "# Solution\n",
    "print(np.shape(c1), type(c1))"
   ]
  },
  {
   "cell_type": "markdown",
   "id": "f993440f",
   "metadata": {},
   "source": [
    "## Question 3 (4 pts):\n",
    "\n",
    "`print(Y, Y.shape)`\n",
    "\n",
    "<br />\n",
    "<br />\n",
    "<br />\n",
    "<br />\n",
    "<br />\n",
    "<br />\n",
    "<br />"
   ]
  },
  {
   "cell_type": "code",
   "execution_count": 5,
   "id": "92b7bc00",
   "metadata": {},
   "outputs": [
    {
     "name": "stdout",
     "output_type": "stream",
     "text": [
      "Y = array([[ 4.        ,  1.        ],\n",
      "       [ 3.        ,  1.        ],\n",
      "       [ 2.        ,  1.        ],\n",
      "       [ 3.14159265, -3.14159265]]), \n",
      "Y.shape=(4, 2)\n"
     ]
    }
   ],
   "source": [
    "# Solution\n",
    "print(f\"{Y = }, \\n{Y.shape=}\")"
   ]
  },
  {
   "cell_type": "markdown",
   "id": "fb8cc2f1",
   "metadata": {},
   "source": [
    "## Question 4 (1 pt):\n",
    "\n",
    "`print(f\"{Z=}\")`\n",
    "\n",
    "<br />\n",
    "<br />\n",
    "<br />\n",
    "<br />\n",
    "<br />"
   ]
  },
  {
   "cell_type": "code",
   "execution_count": 6,
   "id": "0d9717dc",
   "metadata": {},
   "outputs": [
    {
     "name": "stdout",
     "output_type": "stream",
     "text": [
      "Z=array([[False, False],\n",
      "       [False, False],\n",
      "       [False, False],\n",
      "       [ True, False]])\n"
     ]
    }
   ],
   "source": [
    "# Solution\n",
    "print(f\"{Z=}\")"
   ]
  },
  {
   "cell_type": "markdown",
   "id": "8161beae",
   "metadata": {},
   "source": [
    "## Question 5 (2 pts):\n",
    "\n",
    "`print(f\"{A[Z]=},{len(A[Z])=}\")`\n",
    "\n",
    "<br />\n",
    "<br />\n",
    "<br />\n",
    "<br />\n",
    "<br />\n",
    "<br />\n",
    "<br />"
   ]
  },
  {
   "cell_type": "code",
   "execution_count": 7,
   "id": "98cae535",
   "metadata": {},
   "outputs": [
    {
     "name": "stdout",
     "output_type": "stream",
     "text": [
      "A[Z]=array([-2.]),len(A[Z])=1\n"
     ]
    }
   ],
   "source": [
    "# Solution\n",
    "print(f\"{A[Z]=},{len(A[Z])=}\")"
   ]
  },
  {
   "cell_type": "markdown",
   "id": "e53d64f6",
   "metadata": {},
   "source": [
    "## Question 6 (3 pts):\n",
    "\n",
    "`print(c1vec[hit],'pha')`\n",
    "\n",
    "<br />\n",
    "<br />\n",
    "<br />\n",
    "<br />\n",
    "<br />"
   ]
  },
  {
   "cell_type": "code",
   "execution_count": 8,
   "id": "2c90ff3f",
   "metadata": {},
   "outputs": [
    {
     "name": "stdout",
     "output_type": "stream",
     "text": [
      "[4 2] pha\n"
     ]
    }
   ],
   "source": [
    "# Solution\n",
    "print(c1vec[hit],'pha')"
   ]
  },
  {
   "cell_type": "markdown",
   "id": "b51154aa",
   "metadata": {},
   "source": [
    "## Question 7 (3 pts):\n",
    "\n",
    "```\n",
    "for jj in range(0,n2,1):\n",
    "    print(jj,Y[jj,:],Z[:,jj])\n",
    "```\n",
    "\n",
    "<br />\n",
    "<br />\n",
    "<br />\n",
    "<br />\n",
    "<br />\n",
    "<br />\n",
    "<br />\n",
    "<br />"
   ]
  },
  {
   "cell_type": "code",
   "execution_count": 9,
   "id": "ce60ba2a",
   "metadata": {},
   "outputs": [
    {
     "name": "stdout",
     "output_type": "stream",
     "text": [
      "0 [4. 1.] [False False False  True]\n",
      "1 [3. 1.] [False False False False]\n"
     ]
    }
   ],
   "source": [
    "# Solution\n",
    "for jj in range(0,n2,1):\n",
    "    print(jj,Y[jj,:],Z[:,jj])"
   ]
  }
 ],
 "metadata": {
  "jupytext": {
   "cell_metadata_filter": "-all",
   "formats": "ipynb,md:myst",
   "text_representation": {
    "extension": ".md",
    "format_name": "myst",
    "format_version": 0.13,
    "jupytext_version": "1.11.5"
   }
  },
  "kernelspec": {
   "display_name": "Python 3 (ipykernel)",
   "language": "python",
   "name": "python3"
  },
  "language_info": {
   "codemirror_mode": {
    "name": "ipython",
    "version": 3
   },
   "file_extension": ".py",
   "mimetype": "text/x-python",
   "name": "python",
   "nbconvert_exporter": "python",
   "pygments_lexer": "ipython3",
   "version": "3.8.0"
  },
  "source_map": [
   14,
   18,
   23,
   27,
   29,
   33,
   56,
   60,
   72,
   75,
   86,
   89,
   103,
   106,
   118,
   121,
   135,
   138,
   150,
   153,
   171
  ]
 },
 "nbformat": 4,
 "nbformat_minor": 5
}