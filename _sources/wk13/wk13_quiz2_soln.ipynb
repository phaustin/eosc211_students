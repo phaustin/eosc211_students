{
 "cells": [
  {
   "cell_type": "markdown",
   "id": "72b4d7f1",
   "metadata": {},
   "source": [
    "# Week 13 Quiz 2 Solution:  Review with numpy arrays, basic logical indexing"
   ]
  },
  {
   "cell_type": "markdown",
   "id": "9b0e0742",
   "metadata": {},
   "source": [
    "## Name / Student #:\n",
    "## Group:"
   ]
  },
  {
   "cell_type": "markdown",
   "id": "b7d76497",
   "metadata": {},
   "source": [
    "## Import the packages we need"
   ]
  },
  {
   "cell_type": "code",
   "execution_count": null,
   "id": "c1315a2a",
   "metadata": {},
   "outputs": [],
   "source": [
    "import numpy as np"
   ]
  },
  {
   "cell_type": "markdown",
   "id": "84f8a4bd",
   "metadata": {},
   "source": [
    "## Use the variables defined in the following cell to answer all the questions below.  Show ALL your work."
   ]
  },
  {
   "cell_type": "code",
   "execution_count": null,
   "id": "b664bb74",
   "metadata": {},
   "outputs": [],
   "source": [
    "n1=4\n",
    "n2=2\n",
    "pp = np.pi\n",
    "c1 = [4,3,2,1]\n",
    "mynum = -2\n",
    "\n",
    "# define X and A\n",
    "X = np.zeros([n2,n1])\n",
    "X[:,n1-1]=mynum\n",
    "A = X.T\n",
    "\n",
    "# define Y and Z\n",
    "Y = np.ones_like(A)\n",
    "Y[3,-1] += mynum\n",
    "Y[:,0]=c1\n",
    "Y[-1,:] *= np.pi\n",
    "\n",
    "Z = Y==np.pi\n",
    "\n",
    "# define c1vec and hit\n",
    "c1vec= np.array(c1)\n",
    "hit = (c1vec % 2) == 0"
   ]
  },
  {
   "cell_type": "markdown",
   "id": "bc2332a5",
   "metadata": {},
   "source": [
    "## For questions 1- 7 what is printed?"
   ]
  },
  {
   "cell_type": "markdown",
   "id": "5a1a957d",
   "metadata": {},
   "source": [
    "## Question 1 (2 pts): \n",
    "\n",
    "`print(X, X.shape)`\n",
    "\n",
    "<br />\n",
    "<br />\n",
    "<br />\n",
    "<br />\n",
    "<br />"
   ]
  },
  {
   "cell_type": "code",
   "execution_count": null,
   "id": "8c4da83e",
   "metadata": {},
   "outputs": [],
   "source": [
    "# Solution\n",
    "print(f\"{X = }, \\n{X.shape=}\")    #the \\n just makes a new line for prettier formatting"
   ]
  },
  {
   "cell_type": "markdown",
   "id": "7ff5b202",
   "metadata": {},
   "source": [
    "## Question 2 (2 pts):\n",
    "\n",
    "`print(np.shape(c1), type(c1))`\n",
    "\n",
    "<br />\n",
    "<br />\n",
    "<br />\n",
    "<br />"
   ]
  },
  {
   "cell_type": "code",
   "execution_count": null,
   "id": "b01782ad",
   "metadata": {},
   "outputs": [],
   "source": [
    "# Solution\n",
    "print(np.shape(c1), type(c1))"
   ]
  },
  {
   "cell_type": "markdown",
   "id": "bce87187",
   "metadata": {},
   "source": [
    "## Question 3 (4 pts):\n",
    "\n",
    "`print(Y, Y.shape)`\n",
    "\n",
    "<br />\n",
    "<br />\n",
    "<br />\n",
    "<br />\n",
    "<br />\n",
    "<br />\n",
    "<br />"
   ]
  },
  {
   "cell_type": "code",
   "execution_count": null,
   "id": "2c85650b",
   "metadata": {},
   "outputs": [],
   "source": [
    "# Solution\n",
    "print(f\"{Y = }, \\n{Y.shape=}\")"
   ]
  },
  {
   "cell_type": "markdown",
   "id": "a43f9061",
   "metadata": {},
   "source": [
    "## Question 4 (1 pt):\n",
    "\n",
    "`print(f\"{Z=}\")`\n",
    "\n",
    "<br />\n",
    "<br />\n",
    "<br />\n",
    "<br />\n",
    "<br />"
   ]
  },
  {
   "cell_type": "code",
   "execution_count": null,
   "id": "f7356b50",
   "metadata": {},
   "outputs": [],
   "source": [
    "# Solution\n",
    "print(f\"{Z=}\")"
   ]
  },
  {
   "cell_type": "markdown",
   "id": "e71c33b6",
   "metadata": {},
   "source": [
    "## Question 5 (2 pts):\n",
    "\n",
    "`print(f\"{A[Z]=},{len(A[Z])=}\")`\n",
    "\n",
    "<br />\n",
    "<br />\n",
    "<br />\n",
    "<br />\n",
    "<br />\n",
    "<br />\n",
    "<br />"
   ]
  },
  {
   "cell_type": "code",
   "execution_count": null,
   "id": "c8c787b7",
   "metadata": {},
   "outputs": [],
   "source": [
    "# Solution\n",
    "print(f\"{A[Z]=},{len(A[Z])=}\")"
   ]
  },
  {
   "cell_type": "markdown",
   "id": "adeef897",
   "metadata": {},
   "source": [
    "## Question 6 (3 pts):\n",
    "\n",
    "`print(c1vec[hit],'pha')`\n",
    "\n",
    "<br />\n",
    "<br />\n",
    "<br />\n",
    "<br />\n",
    "<br />"
   ]
  },
  {
   "cell_type": "code",
   "execution_count": null,
   "id": "5fd7e98d",
   "metadata": {},
   "outputs": [],
   "source": [
    "# Solution\n",
    "print(c1vec[hit],'pha')"
   ]
  },
  {
   "cell_type": "markdown",
   "id": "8d7ce22d",
   "metadata": {},
   "source": [
    "## Question 7 (3 pts):\n",
    "\n",
    "```\n",
    "for jj in range(0,n2,1):\n",
    "    print(jj,Y[jj,:],Z[:,jj])\n",
    "```\n",
    "\n",
    "<br />\n",
    "<br />\n",
    "<br />\n",
    "<br />\n",
    "<br />\n",
    "<br />\n",
    "<br />\n",
    "<br />"
   ]
  },
  {
   "cell_type": "code",
   "execution_count": null,
   "id": "e5a7bc2d",
   "metadata": {},
   "outputs": [],
   "source": [
    "# Solution\n",
    "for jj in range(0,n2,1):\n",
    "    print(jj,Y[jj,:],Z[:,jj])"
   ]
  }
 ],
 "metadata": {
  "jupytext": {
   "cell_metadata_filter": "-all",
   "formats": "ipynb,md:myst",
   "text_representation": {
    "extension": ".md",
    "format_name": "myst",
    "format_version": 0.13,
    "jupytext_version": "1.11.5"
   }
  },
  "kernelspec": {
   "display_name": "Python 3 (ipykernel)",
   "language": "python",
   "name": "python3"
  },
  "source_map": [
   14,
   18,
   23,
   27,
   29,
   33,
   56,
   60,
   72,
   75,
   86,
   89,
   103,
   106,
   118,
   121,
   135,
   138,
   150,
   153,
   171
  ]
 },
 "nbformat": 4,
 "nbformat_minor": 5
}