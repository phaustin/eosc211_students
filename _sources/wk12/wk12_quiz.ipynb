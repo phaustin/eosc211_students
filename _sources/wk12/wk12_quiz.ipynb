{
 "cells": [
  {
   "cell_type": "markdown",
   "id": "da182b42",
   "metadata": {},
   "source": [
    "### Name / Student #:\n",
    "### Group:"
   ]
  },
  {
   "cell_type": "markdown",
   "id": "9422e1b0",
   "metadata": {},
   "source": [
    "## Week 12 Quiz:  Review with numpy arrays, basic logical indexing, dictionary construction\n",
    "\n",
    "### Import the packages we need"
   ]
  },
  {
   "cell_type": "code",
   "execution_count": 1,
   "id": "d74cf2ab",
   "metadata": {},
   "outputs": [],
   "source": [
    "import numpy as np"
   ]
  },
  {
   "cell_type": "markdown",
   "id": "e5adede2",
   "metadata": {},
   "source": [
    "### Use the variables defined in the following cell to answer all the questions below"
   ]
  },
  {
   "cell_type": "code",
   "execution_count": 2,
   "id": "84beccf8",
   "metadata": {},
   "outputs": [],
   "source": [
    "pp = np.pi\n",
    "ult_ans = 42\n",
    "row1 = [1, 2, 3]\n",
    "\n",
    "# set up array A\n",
    "A = np.array([ row1, [-pp*row1[2], 0, pp/row1[1]] ]) \n",
    "\n",
    "# set up array B\n",
    "B = np.ones_like(A)       # default dtype for array generators is floats\n",
    "B[:,-1]*=ult_ans\n",
    "\n",
    "# set up variables temp and rain\n",
    "D = np.array([23.6, 22.5, 21.8, 24.9])\n",
    "rain = np.array([0, 3, 0, 2, 1, 0, 5, 2])\n",
    "temp = np.append(D,D)\n",
    "\n",
    "#set up dictionary entries\n",
    "t1=(\"phil\",22175)\n",
    "t2=(\"catherine\",73480)\n",
    "t3=(\"no-one\",71111)"
   ]
  },
  {
   "cell_type": "markdown",
   "id": "24d72018",
   "metadata": {},
   "source": [
    "### For questions 1- 7 what is printed?"
   ]
  },
  {
   "cell_type": "markdown",
   "id": "54fe5084",
   "metadata": {},
   "source": [
    "### Question 1 (1pt): \n",
    "\n",
    "`print(f\"{A=}\")`\n",
    "\n",
    "<br />\n",
    "<br />"
   ]
  },
  {
   "cell_type": "markdown",
   "id": "09e69e30",
   "metadata": {},
   "source": [
    "### Question 2 (1 pt):\n",
    "\n",
    "`print(f\"{type(A[1,2])}\")`\n",
    "\n",
    "<br />\n",
    "<br />"
   ]
  },
  {
   "cell_type": "markdown",
   "id": "69fe6d2e",
   "metadata": {},
   "source": [
    "#### Question 3 (1 pt):\n",
    "\n",
    "`print(f\"{A.shape}\")`\n",
    "\n",
    "<br />\n",
    "<br />"
   ]
  },
  {
   "cell_type": "markdown",
   "id": "7c807dc9",
   "metadata": {},
   "source": [
    "#### Question 4 (1 pt):\n",
    "\n",
    "`print(f\"{B.shape}\")`\n",
    "\n",
    "<br />\n",
    "<br />"
   ]
  },
  {
   "cell_type": "markdown",
   "id": "f8a667ec",
   "metadata": {},
   "source": [
    "### Question 5 (1 pt):\n",
    "\n",
    "`print(f\"{type(B)}  {B.dtype}\")`\n",
    "\n",
    "<br />\n",
    "<br />"
   ]
  },
  {
   "cell_type": "markdown",
   "id": "82dd141c",
   "metadata": {},
   "source": [
    "### Question 6 (1 pt):\n",
    "\n",
    "`print(f\"{B.T[:,-1]=}\")`\n",
    "\n",
    "<br />\n",
    "<br />"
   ]
  },
  {
   "cell_type": "markdown",
   "id": "19c3e9bd",
   "metadata": {},
   "source": [
    "### Question 7 (2 pts):\n",
    "\n",
    "```\n",
    "Tcut=23\n",
    "\n",
    "print(f\"Rainfall on days > {Tcut} C was {rain[temp>Tcut]} mm\")\n",
    "```\n",
    "\n",
    "<br />\n",
    "<br />"
   ]
  },
  {
   "cell_type": "markdown",
   "id": "03ba8098",
   "metadata": {},
   "source": [
    "### Question 8 (1 pt):  \n",
    "\n",
    "Write a **single** line of code that will construct a dictionary called `telnos` from the following tuples\n",
    "\n",
    "```python\n",
    "t1=(\"phil\",22175)\n",
    "t2=(\"catherine\",73480)\n",
    "t3=(\"no-one\",71111)\n",
    "```\n",
    "\n",
    "<br />\n",
    "<br />\n",
    "<br />\n",
    "<br />\n",
    "<br />\n",
    "<br />\n",
    "<br />\n",
    "<br />\n",
    "<br />\n",
    "<br />"
   ]
  },
  {
   "cell_type": "markdown",
   "id": "eb58b49f",
   "metadata": {},
   "source": [
    "### Question 9 (2 pts):  \n",
    "\n",
    "Now assume that Phil moved into Catherine's office and Catherine decided to retire to a tropical island.  Write  **2 lines of code** to assign Catherine's # to Phil and remove Catherine's entry from the dictionary."
   ]
  }
 ],
 "metadata": {
  "jupytext": {
   "cell_metadata_filter": "-all",
   "notebook_metadata_filter": "-all",
   "text_representation": {
    "extension": ".md",
    "format_name": "myst",
    "format_version": 0.13,
    "jupytext_version": "1.11.5"
   }
  },
  "kernelspec": {
   "display_name": "Python 3 (ipykernel)",
   "language": "python",
   "name": "python3"
  },
  "language_info": {
   "codemirror_mode": {
    "name": "ipython",
    "version": 3
   },
   "file_extension": ".py",
   "mimetype": "text/x-python",
   "name": "python",
   "nbconvert_exporter": "python",
   "pygments_lexer": "ipython3",
   "version": "3.9.12"
  },
  "source_map": [
   15,
   20,
   26,
   28,
   32,
   53,
   57,
   66,
   75,
   84,
   93,
   102,
   111,
   124,
   147
  ]
 },
 "nbformat": 4,
 "nbformat_minor": 5
}