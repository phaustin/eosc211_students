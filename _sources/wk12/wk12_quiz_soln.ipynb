{
 "cells": [
  {
   "cell_type": "markdown",
   "id": "fcf9b571",
   "metadata": {},
   "source": [
    "# Week 12 Quiz: solution\n",
    "\n",
    "\n",
    "\n",
    "### Name / Student id:\n",
    "### Group:\n",
    "\n",
    "\n",
    "### Import the packages we need"
   ]
  },
  {
   "cell_type": "code",
   "execution_count": 1,
   "id": "2f1cdc66",
   "metadata": {},
   "outputs": [],
   "source": [
    "import numpy as np"
   ]
  },
  {
   "cell_type": "markdown",
   "id": "71e8e077",
   "metadata": {},
   "source": [
    "### Use the variables defined in the following cell to answer all the questions below"
   ]
  },
  {
   "cell_type": "code",
   "execution_count": 2,
   "id": "b778fd84",
   "metadata": {},
   "outputs": [],
   "source": [
    "pp = np.pi\n",
    "ult_ans = 42\n",
    "row1 = [1, 2, 3]\n",
    "\n",
    "# set up array A\n",
    "A = np.array([ row1, [-pp*row1[2], 0, pp/row1[1]] ]) \n",
    "\n",
    "# set up array B\n",
    "B = np.ones_like(A)       # default dtype for array generators is floats\n",
    "B[:,-1]*=ult_ans\n",
    "\n",
    "# set up variables temp and rain\n",
    "D = np.array([23.6, 22.5, 21.8, 24.9])\n",
    "rain = np.array([0, 3, 0, 2, 1, 0, 5, 2])\n",
    "temp = np.append(D,D)"
   ]
  },
  {
   "cell_type": "markdown",
   "id": "f0e3c223",
   "metadata": {},
   "source": [
    "### For questions 1- 7 what is printed?"
   ]
  },
  {
   "cell_type": "markdown",
   "id": "aaac2702",
   "metadata": {},
   "source": [
    "### Question 1 (1pt): \n",
    "\n",
    "`print(f\"{A=}\")`\n",
    "\n",
    "<br />\n",
    "<br />"
   ]
  },
  {
   "cell_type": "code",
   "execution_count": 3,
   "id": "88948f28",
   "metadata": {},
   "outputs": [
    {
     "name": "stdout",
     "output_type": "stream",
     "text": [
      "A=array([[ 1.        ,  2.        ,  3.        ],\n",
      "       [-9.42477796,  0.        ,  1.57079633]])\n"
     ]
    }
   ],
   "source": [
    "print(f\"{A=}\")"
   ]
  },
  {
   "cell_type": "markdown",
   "id": "1fdd2c36",
   "metadata": {},
   "source": [
    "    A=array([[ 1.        ,  2.        ,  3.        ],\n",
    "           [-9.42477796,  0.        ,  1.57079633]])"
   ]
  },
  {
   "cell_type": "markdown",
   "id": "b56cf09e",
   "metadata": {},
   "source": [
    "### Question 2 (1 pt):\n",
    "\n",
    "`print(f\"{type(A[1,2])}\")`\n",
    "\n",
    "<br />\n",
    "<br />"
   ]
  },
  {
   "cell_type": "code",
   "execution_count": 4,
   "id": "749fddd0",
   "metadata": {},
   "outputs": [
    {
     "name": "stdout",
     "output_type": "stream",
     "text": [
      "<class 'numpy.float64'>\n"
     ]
    }
   ],
   "source": [
    "print(f\"{type(A[1,2])}\")"
   ]
  },
  {
   "cell_type": "markdown",
   "id": "01f74bc3",
   "metadata": {},
   "source": [
    "    <class 'numpy.float64'>"
   ]
  },
  {
   "cell_type": "markdown",
   "id": "5599ab0d",
   "metadata": {},
   "source": [
    "### Question 3 (1 pt):\n",
    "\n",
    "`print(f\"{A.shape}\")`\n",
    "\n",
    "<br />\n",
    "<br />"
   ]
  },
  {
   "cell_type": "code",
   "execution_count": 5,
   "id": "dc47850d",
   "metadata": {},
   "outputs": [
    {
     "name": "stdout",
     "output_type": "stream",
     "text": [
      "(2, 3)\n"
     ]
    }
   ],
   "source": [
    "print(f\"{A.shape}\")"
   ]
  },
  {
   "cell_type": "markdown",
   "id": "4bca5ada",
   "metadata": {},
   "source": [
    "    (2, 3)"
   ]
  },
  {
   "cell_type": "markdown",
   "id": "55d1e600",
   "metadata": {},
   "source": [
    "### Question 4 (1 pt):\n",
    "\n",
    "`print(f\"{B.shape}\")`\n",
    "\n",
    "<br />\n",
    "<br />"
   ]
  },
  {
   "cell_type": "code",
   "execution_count": 6,
   "id": "c1537c25",
   "metadata": {},
   "outputs": [
    {
     "name": "stdout",
     "output_type": "stream",
     "text": [
      "(2, 3)\n"
     ]
    }
   ],
   "source": [
    "print(f\"{B.shape}\")"
   ]
  },
  {
   "cell_type": "markdown",
   "id": "a356cde5",
   "metadata": {},
   "source": [
    "    (2, 3)"
   ]
  },
  {
   "cell_type": "markdown",
   "id": "3a79b339",
   "metadata": {},
   "source": [
    "### Question 5 (1 pt):\n",
    "\n",
    "`print(f\"{type(B)}  {B.dtype}\")`\n",
    "\n",
    "<br />\n",
    "<br />"
   ]
  },
  {
   "cell_type": "code",
   "execution_count": 7,
   "id": "46a50536",
   "metadata": {},
   "outputs": [
    {
     "name": "stdout",
     "output_type": "stream",
     "text": [
      "<class 'numpy.ndarray'>  float64\n"
     ]
    }
   ],
   "source": [
    "print(f\"{type(B)}  {B.dtype}\")"
   ]
  },
  {
   "cell_type": "markdown",
   "id": "c96859e7",
   "metadata": {},
   "source": [
    "    <class 'numpy.ndarray'>  float64"
   ]
  },
  {
   "cell_type": "markdown",
   "id": "578050db",
   "metadata": {},
   "source": [
    "### Question 6 (1 pt):\n",
    "\n",
    "`print(f\"{B.T[:,-1]=}\")`\n",
    "\n",
    "<br />\n",
    "<br />"
   ]
  },
  {
   "cell_type": "code",
   "execution_count": 8,
   "id": "29f43837",
   "metadata": {},
   "outputs": [
    {
     "name": "stdout",
     "output_type": "stream",
     "text": [
      "B.T[:,-1]=array([ 1.,  1., 42.])\n"
     ]
    }
   ],
   "source": [
    "print(f\"{B.T[:,-1]=}\")"
   ]
  },
  {
   "cell_type": "markdown",
   "id": "a4f98430",
   "metadata": {},
   "source": [
    "    B.T[:,-1]=array([ 1.,  1., 42.])"
   ]
  },
  {
   "cell_type": "markdown",
   "id": "e5a4ce79",
   "metadata": {},
   "source": [
    "### Question 7 (2 pts):\n",
    "\n",
    "```\n",
    "Tcut=23\n",
    "\n",
    "print(f\"Rainfall on days > {Tcut} C was {rain[temp>Tcut]} mm\")\n",
    "```\n",
    "\n",
    "<br />\n",
    "<br />"
   ]
  },
  {
   "cell_type": "code",
   "execution_count": 9,
   "id": "73fa990f",
   "metadata": {},
   "outputs": [
    {
     "name": "stdout",
     "output_type": "stream",
     "text": [
      "Rainfall on days > 23 C was [0 2 1 2] mm\n"
     ]
    }
   ],
   "source": [
    "Tcut=23\n",
    "print(f\"Rainfall on days > {Tcut} C was {rain[temp>Tcut]} mm\")"
   ]
  },
  {
   "cell_type": "markdown",
   "id": "da2d53a8",
   "metadata": {},
   "source": [
    "    Rainfall on days > 23 C was [0 2 1 2] mm"
   ]
  },
  {
   "cell_type": "markdown",
   "id": "9a830e5a",
   "metadata": {},
   "source": [
    "### Question 8 (1 pt):  \n",
    "\n",
    "Write a **single** line of code that will construct a dictionary called `telnos` from the following tuples\n",
    "\n",
    "```\n",
    "t1=(\"phil\",22175)\n",
    "t2=(\"catherine\",73480)\n",
    "t3=(\"no-one\",71111)\n",
    "```\n",
    "\n",
    "<br />\n",
    "<br />\n",
    "<br />\n",
    "<br />"
   ]
  },
  {
   "cell_type": "code",
   "execution_count": 10,
   "id": "9ff3fb39",
   "metadata": {},
   "outputs": [
    {
     "name": "stdout",
     "output_type": "stream",
     "text": [
      "{'phil': 22175, 'catherine': 73480, 'no-one': 71111}\n"
     ]
    }
   ],
   "source": [
    "# Q8:  Answer\n",
    "t1=(\"phil\",22175)\n",
    "t2=(\"catherine\",73480)\n",
    "t3=(\"no-one\",71111)\n",
    "telnos = dict([t1,t2,t3])\n",
    "print(telnos)"
   ]
  },
  {
   "cell_type": "markdown",
   "id": "452b0dc2",
   "metadata": {},
   "source": [
    "    {'phil': 22175, 'catherine': 73480, 'no-one': 71111}"
   ]
  },
  {
   "cell_type": "markdown",
   "id": "cd69bd78",
   "metadata": {},
   "source": [
    "### Question 9 (2 pts):  \n",
    "\n",
    "Now assume that Phil moved into Catherine's office and Catherine decided to retire to a tropical island.  Write  **2 lines of code** to assign Catherine's # to Phil and remove Catherine's entry from the dictionary.\n",
    "\n",
    "<br />\n",
    "<br />\n",
    "<br />\n",
    "<br />\n",
    "<br />\n",
    "<br />"
   ]
  },
  {
   "cell_type": "code",
   "execution_count": 11,
   "id": "378b6bc6",
   "metadata": {},
   "outputs": [
    {
     "name": "stdout",
     "output_type": "stream",
     "text": [
      "{'phil': 73480, 'no-one': 71111}\n",
      "{'phil': 73480, 'no-one': 71111}\n",
      "missing key: telnos={'phil': None, 'catherine': 73480, 'no-one': 71111}\n"
     ]
    }
   ],
   "source": [
    "telnos = dict([t1,t2,t3])   # just in case run this cell out of order reset telnos to original\n",
    "telnos[\"phil\"]=telnos[\"catherine\"]  \n",
    "telnos.pop(\"catherine\")   # use pop\n",
    "print(telnos)\n",
    "\n",
    "# add my phone # back and reset Phil's for second ways of doing this\n",
    "telnos = dict([t1,t2,t3])\n",
    "\n",
    "telnos[\"phil\"]=73480    # works but error prone -- need to copy number by hand\n",
    "del telnos[\"catherine\"]    # using del (not in our text but might have seen online)\n",
    "print(telnos)\n",
    "\n",
    "# best: (also not in text) -- copy popped value, no need to hand enter\n",
    "telnos = dict([t1,t2,t3])\n",
    "telnos[\"phil\"]=telnos.pop(\"catherine\")\n",
    "# \n",
    "# you can give pop an optional value to return\n",
    "# if key is missing from dictionary\n",
    "#\n",
    "telnos = dict([t1,t2,t3])\n",
    "telnos[\"phil\"]=telnos.pop(\"katherine\", None)\n",
    "print(f\"missing key: {telnos=}\")"
   ]
  },
  {
   "cell_type": "code",
   "execution_count": 12,
   "id": "c5a942ce",
   "metadata": {},
   "outputs": [
    {
     "data": {
      "text/plain": [
       "{'phil': 22175, 'no-one': 71111}"
      ]
     },
     "execution_count": 12,
     "metadata": {},
     "output_type": "execute_result"
    }
   ],
   "source": [
    "telnos=dict([t1,t2,t3])\n",
    "del telnos['catherine']\n",
    "telnos"
   ]
  },
  {
   "cell_type": "markdown",
   "id": "c3cde5c7",
   "metadata": {},
   "source": [
    "    {'phil': 73480, 'no-one': 71111}\n",
    "    {'phil': 73480, 'no-one': 71111}"
   ]
  }
 ],
 "metadata": {
  "jupytext": {
   "cell_metadata_filter": "-all",
   "notebook_metadata_filter": "-all",
   "text_representation": {
    "extension": ".md",
    "format_name": "myst",
    "format_version": 0.13,
    "jupytext_version": "1.11.5"
   }
  },
  "kernelspec": {
   "display_name": "Python 3 (ipykernel)",
   "language": "python",
   "name": "python3"
  },
  "language_info": {
   "codemirror_mode": {
    "name": "ipython",
    "version": 3
   },
   "file_extension": ".py",
   "mimetype": "text/x-python",
   "name": "python",
   "nbconvert_exporter": "python",
   "pygments_lexer": "ipython3",
   "version": "3.8.0"
  },
  "source_map": [
   15,
   28,
   30,
   35,
   51,
   55,
   64,
   66,
   71,
   80,
   82,
   86,
   95,
   97,
   101,
   110,
   112,
   116,
   125,
   127,
   131,
   140,
   142,
   146,
   159,
   162,
   166,
   183,
   190,
   194,
   207,
   232,
   236
  ]
 },
 "nbformat": 4,
 "nbformat_minor": 5
}