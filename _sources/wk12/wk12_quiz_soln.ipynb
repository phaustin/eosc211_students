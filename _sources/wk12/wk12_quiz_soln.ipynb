{
 "cells": [
  {
   "cell_type": "markdown",
   "id": "361788f7",
   "metadata": {},
   "source": [
    "# Week 12 Quiz: solution\n",
    "\n",
    "\n",
    "\n",
    "### Name / Student id:\n",
    "### Group:\n",
    "\n",
    "\n",
    "### Import the packages we need"
   ]
  },
  {
   "cell_type": "code",
   "execution_count": null,
   "id": "75a26077",
   "metadata": {},
   "outputs": [],
   "source": [
    "import numpy as np"
   ]
  },
  {
   "cell_type": "markdown",
   "id": "f71a0efc",
   "metadata": {},
   "source": [
    "### Use the variables defined in the following cell to answer all the questions below"
   ]
  },
  {
   "cell_type": "code",
   "execution_count": null,
   "id": "1f67160c",
   "metadata": {},
   "outputs": [],
   "source": [
    "pp = np.pi\n",
    "ult_ans = 42\n",
    "row1 = [1, 2, 3]\n",
    "\n",
    "# set up array A\n",
    "A = np.array([ row1, [-pp*row1[2], 0, pp/row1[1]] ]) \n",
    "\n",
    "# set up array B\n",
    "B = np.ones_like(A)       # default dtype for array generators is floats\n",
    "B[:,-1]*=ult_ans\n",
    "\n",
    "# set up variables temp and rain\n",
    "D = np.array([23.6, 22.5, 21.8, 24.9])\n",
    "rain = np.array([0, 3, 0, 2, 1, 0, 5, 2])\n",
    "temp = np.append(D,D)"
   ]
  },
  {
   "cell_type": "markdown",
   "id": "cee109fd",
   "metadata": {},
   "source": [
    "### For questions 1- 7 what is printed?"
   ]
  },
  {
   "cell_type": "markdown",
   "id": "2ef6a351",
   "metadata": {},
   "source": [
    "### Question 1 (1pt): \n",
    "\n",
    "`print(f\"{A=}\")`\n",
    "\n",
    "<br />\n",
    "<br />"
   ]
  },
  {
   "cell_type": "code",
   "execution_count": null,
   "id": "52bce423",
   "metadata": {},
   "outputs": [],
   "source": [
    "print(f\"{A=}\")"
   ]
  },
  {
   "cell_type": "markdown",
   "id": "119981a6",
   "metadata": {},
   "source": [
    "    A=array([[ 1.        ,  2.        ,  3.        ],\n",
    "           [-9.42477796,  0.        ,  1.57079633]])"
   ]
  },
  {
   "cell_type": "markdown",
   "id": "b56a0152",
   "metadata": {},
   "source": [
    "### Question 2 (1 pt):\n",
    "\n",
    "`print(f\"{type(A[1,2])}\")`\n",
    "\n",
    "<br />\n",
    "<br />"
   ]
  },
  {
   "cell_type": "code",
   "execution_count": null,
   "id": "89374d9b",
   "metadata": {},
   "outputs": [],
   "source": [
    "print(f\"{type(A[1,2])}\")"
   ]
  },
  {
   "cell_type": "markdown",
   "id": "b0312bc0",
   "metadata": {},
   "source": [
    "    <class 'numpy.float64'>"
   ]
  },
  {
   "cell_type": "markdown",
   "id": "b2e5e24f",
   "metadata": {},
   "source": [
    "### Question 3 (1 pt):\n",
    "\n",
    "`print(f\"{A.shape}\")`\n",
    "\n",
    "<br />\n",
    "<br />"
   ]
  },
  {
   "cell_type": "code",
   "execution_count": null,
   "id": "38b3315f",
   "metadata": {},
   "outputs": [],
   "source": [
    "print(f\"{A.shape}\")"
   ]
  },
  {
   "cell_type": "markdown",
   "id": "07504c49",
   "metadata": {},
   "source": [
    "    (2, 3)"
   ]
  },
  {
   "cell_type": "markdown",
   "id": "e05331b9",
   "metadata": {},
   "source": [
    "### Question 4 (1 pt):\n",
    "\n",
    "`print(f\"{B.shape}\")`\n",
    "\n",
    "<br />\n",
    "<br />"
   ]
  },
  {
   "cell_type": "code",
   "execution_count": null,
   "id": "8f5d1eed",
   "metadata": {},
   "outputs": [],
   "source": [
    "print(f\"{B.shape}\")"
   ]
  },
  {
   "cell_type": "markdown",
   "id": "fe97e44a",
   "metadata": {},
   "source": [
    "    (2, 3)"
   ]
  },
  {
   "cell_type": "markdown",
   "id": "7b3f8d73",
   "metadata": {},
   "source": [
    "### Question 5 (1 pt):\n",
    "\n",
    "`print(f\"{type(B)}  {B.dtype}\")`\n",
    "\n",
    "<br />\n",
    "<br />"
   ]
  },
  {
   "cell_type": "code",
   "execution_count": null,
   "id": "8bee4c95",
   "metadata": {},
   "outputs": [],
   "source": [
    "print(f\"{type(B)}  {B.dtype}\")"
   ]
  },
  {
   "cell_type": "markdown",
   "id": "269e2679",
   "metadata": {},
   "source": [
    "    <class 'numpy.ndarray'>  float64"
   ]
  },
  {
   "cell_type": "markdown",
   "id": "8605447a",
   "metadata": {},
   "source": [
    "### Question 6 (1 pt):\n",
    "\n",
    "`print(f\"{B.T[:,-1]=}\")`\n",
    "\n",
    "<br />\n",
    "<br />"
   ]
  },
  {
   "cell_type": "code",
   "execution_count": null,
   "id": "6c30c66a",
   "metadata": {},
   "outputs": [],
   "source": [
    "print(f\"{B.T[:,-1]=}\")"
   ]
  },
  {
   "cell_type": "markdown",
   "id": "900a20e2",
   "metadata": {},
   "source": [
    "    B.T[:,-1]=array([ 1.,  1., 42.])"
   ]
  },
  {
   "cell_type": "markdown",
   "id": "44c2ae5f",
   "metadata": {},
   "source": [
    "### Question 7 (2 pts):\n",
    "\n",
    "```\n",
    "Tcut=23\n",
    "\n",
    "print(f\"Rainfall on days > {Tcut} C was {rain[temp>Tcut]} mm\")\n",
    "```\n",
    "\n",
    "<br />\n",
    "<br />"
   ]
  },
  {
   "cell_type": "code",
   "execution_count": null,
   "id": "e1b7c476",
   "metadata": {},
   "outputs": [],
   "source": [
    "Tcut=23\n",
    "print(f\"Rainfall on days > {Tcut} C was {rain[temp>Tcut]} mm\")"
   ]
  },
  {
   "cell_type": "markdown",
   "id": "a029186e",
   "metadata": {},
   "source": [
    "    Rainfall on days > 23 C was [0 2 1 2] mm"
   ]
  },
  {
   "cell_type": "markdown",
   "id": "83de5c18",
   "metadata": {},
   "source": [
    "### Question 8 (1 pt):  \n",
    "\n",
    "Write a **single** line of code that will construct a dictionary called `telnos` from the following tuples\n",
    "\n",
    "```\n",
    "t1=(\"phil\",22175)\n",
    "t2=(\"catherine\",73480)\n",
    "t3=(\"no-one\",71111)\n",
    "```\n",
    "\n",
    "<br />\n",
    "<br />\n",
    "<br />\n",
    "<br />"
   ]
  },
  {
   "cell_type": "code",
   "execution_count": null,
   "id": "88e7f500",
   "metadata": {},
   "outputs": [],
   "source": [
    "# Q8:  Answer\n",
    "t1=(\"phil\",22175)\n",
    "t2=(\"catherine\",73480)\n",
    "t3=(\"no-one\",71111)\n",
    "telnos = dict([t1,t2,t3])\n",
    "print(telnos)"
   ]
  },
  {
   "cell_type": "markdown",
   "id": "826c6a4f",
   "metadata": {},
   "source": [
    "    {'phil': 22175, 'catherine': 73480, 'no-one': 71111}"
   ]
  },
  {
   "cell_type": "markdown",
   "id": "39a7903e",
   "metadata": {},
   "source": [
    "### Question 9 (2 pts):  \n",
    "\n",
    "Now assume that Phil moved into Catherine's office and Catherine decided to retire to a tropical island.  Write  **2 lines of code** to assign Catherine's # to Phil and remove Catherine's entry from the dictionary.\n",
    "\n",
    "<br />\n",
    "<br />\n",
    "<br />\n",
    "<br />\n",
    "<br />\n",
    "<br />"
   ]
  },
  {
   "cell_type": "code",
   "execution_count": null,
   "id": "249aee21",
   "metadata": {},
   "outputs": [],
   "source": [
    "telnos = dict([t1,t2,t3])   # just in case run this cell out of order reset telnos to original\n",
    "telnos[\"phil\"]=telnos[\"catherine\"]  \n",
    "telnos.pop(\"catherine\")   # use pop\n",
    "print(telnos)\n",
    "\n",
    "# add my phone # back and reset Phil's for second ways of doing this\n",
    "telnos = dict([t1,t2,t3])\n",
    "\n",
    "telnos[\"phil\"]=73480    # works but error prone -- need to copy number by hand\n",
    "del telnos[\"catherine\"]    # using del (not in our text but might have seen online)\n",
    "print(telnos)\n",
    "\n",
    "# best: (also not in text) -- copy popped value, no need to hand enter\n",
    "telnos = dict([t1,t2,t3])\n",
    "telnos[\"phil\"]=telnos.pop(\"catherine\")\n",
    "# \n",
    "# you can give pop an optional value to return\n",
    "# if key is missing from dictionary\n",
    "#\n",
    "telnos = dict([t1,t2,t3])\n",
    "telnos[\"phil\"]=telnos.pop(\"katherine\", None)\n",
    "print(f\"missing key: {telnos=}\")"
   ]
  },
  {
   "cell_type": "code",
   "execution_count": null,
   "id": "b2adf427",
   "metadata": {},
   "outputs": [],
   "source": [
    "telnos=dict([t1,t2,t3])\n",
    "del telnos['catherine']\n",
    "telnos"
   ]
  },
  {
   "cell_type": "markdown",
   "id": "488eb740",
   "metadata": {},
   "source": [
    "    {'phil': 73480, 'no-one': 71111}\n",
    "    {'phil': 73480, 'no-one': 71111}"
   ]
  }
 ],
 "metadata": {
  "jupytext": {
   "cell_metadata_filter": "-all",
   "notebook_metadata_filter": "-all",
   "text_representation": {
    "extension": ".md",
    "format_name": "myst",
    "format_version": 0.13,
    "jupytext_version": "1.11.5"
   }
  },
  "kernelspec": {
   "display_name": "Python 3 (ipykernel)",
   "language": "python",
   "name": "python3"
  },
  "source_map": [
   15,
   28,
   30,
   35,
   51,
   55,
   64,
   66,
   71,
   80,
   82,
   86,
   95,
   97,
   101,
   110,
   112,
   116,
   125,
   127,
   131,
   140,
   142,
   146,
   159,
   162,
   166,
   183,
   190,
   194,
   207,
   232,
   236
  ]
 },
 "nbformat": 4,
 "nbformat_minor": 5
}