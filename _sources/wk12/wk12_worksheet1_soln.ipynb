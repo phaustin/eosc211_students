{
 "cells": [
  {
   "cell_type": "markdown",
   "id": "27fb2730",
   "metadata": {},
   "source": [
    "# Change worksheet solution\n",
    "\n",
    "## EOSC 211\n",
    "\n",
    "**Week 11 Day 1**\n",
    "\n",
    "**Learning Objectives:**  \n",
    "1. Solve problems with python code\n",
    "2. Choose appropriate data structures to make your code neat and efficient"
   ]
  },
  {
   "cell_type": "markdown",
   "id": "cb045b90",
   "metadata": {},
   "source": [
    "## Question 1\n",
    "\n",
    "**A) You have a cash register with \\\\$20, \\\\$10, \\\\$5, \\\\$2, \\\\$1, \\\\$0.25, \\\\$0.10, \\\\$0.05 bills or coins. Write code to make change usin the largest denominations possible – so that, for example, if someone gives you a \\\\$10 bill for something costing \\\\$6.55 the program will calculate that you get back \\\\$3.45 in change consisting of a \\\\$2, and \\\\$1, a \\\\$0.25, and 2 \\\\$0.10**  \n",
    "\n",
    "**The floor division `//` and modulo `%` operators are of use.**\n",
    "\n",
    "**Store the denominations available in a dictionary `money={'twenties', 'tens', 'fives', 'toonies'...}`. The rest of the program is up to you.  There are many correct ways to solve this problem**"
   ]
  },
  {
   "cell_type": "code",
   "execution_count": 1,
   "id": "164e4dc4",
   "metadata": {},
   "outputs": [],
   "source": [
    "item_cost = 6.55  # dollars\n",
    "cash_in = 10  # dollars"
   ]
  },
  {
   "cell_type": "code",
   "execution_count": 2,
   "id": "89ea8651",
   "metadata": {},
   "outputs": [],
   "source": [
    "# your code here"
   ]
  },
  {
   "cell_type": "code",
   "execution_count": 3,
   "id": "8f129658",
   "metadata": {},
   "outputs": [
    {
     "name": "stdout",
     "output_type": "stream",
     "text": [
      "{'twenties': 0, 'tens': 0, 'fives': 0, 'toonies': 1, 'loonies': 1, 'quarters': 1, 'dimes': 2, 'nickels': 0}\n"
     ]
    }
   ],
   "source": [
    "# Andrew's soln\n",
    "# Catherine added small change to ensure output values are integer numbers.\n",
    "\n",
    "# create a dictionary of bill names and values to loop over\n",
    "money = {\n",
    "    \"twenties\": 20,\n",
    "    \"tens\": 10,\n",
    "    \"fives\": 5,\n",
    "    \"toonies\": 2,\n",
    "    \"loonies\": 1,\n",
    "    \"quarters\": 0.25,\n",
    "    \"dimes\": 0.1,\n",
    "    \"nickels\": 0.05,\n",
    "}\n",
    "denom = {}  # initialize an empty dictionary to put change into\n",
    "change = cash_in - item_cost\n",
    "\n",
    "for key in money.keys():\n",
    "    denom[key] = int(change // money[key])  # add to denom dictionary; CJ added \"int\" type casting\n",
    "    change = change % money[key]  # get remaining chance owed\n",
    "\n",
    "print(denom)"
   ]
  },
  {
   "cell_type": "markdown",
   "id": "95c125d2",
   "metadata": {},
   "source": [
    "**B) Turn this into a function called `getchange` that will take as input `item_cost`, `cash_in` and return `change`. Also, make your funtion raise an error if the customer does not give enough money to cover the cost of the purchase**"
   ]
  },
  {
   "cell_type": "code",
   "execution_count": 4,
   "id": "ec753e96",
   "metadata": {},
   "outputs": [],
   "source": [
    "# your code here"
   ]
  },
  {
   "cell_type": "code",
   "execution_count": 5,
   "id": "401d7f04",
   "metadata": {},
   "outputs": [],
   "source": [
    "# Solution\n",
    "def getchange(item_cost, cash_in):\n",
    "    \n",
    "    \"\"\"\n",
    "    Computes denominations needed to provide change.\n",
    "    \n",
    "    Inputs: item_cost - how much the item costs:  dtype = float\n",
    "            cash_in - what the customer gives you: dtype = float or int\n",
    "    \n",
    "    Outputs:  dictionary containing same keys as `money`.  \n",
    "            Values for each key are number of bills/coins of that denomination to be handed to customer. \n",
    "    \n",
    "    \"\"\"\n",
    "    money = {\n",
    "        \"twenties\": 20,\n",
    "        \"tens\": 10,\n",
    "        \"fives\": 5,\n",
    "        \"toonies\": 2,\n",
    "        \"loonies\": 1,\n",
    "        \"quarters\": 0.25,\n",
    "        \"dimes\": 0.1,\n",
    "        \"nickels\": 0.05,\n",
    "    }\n",
    "    denom = {}  # initialize an empty dictionary to put change into\n",
    "    change = cash_in - item_cost\n",
    "    if change < 0:\n",
    "        raise ValueError('not enough cash to cover item cost')\n",
    "\n",
    "    for key in money.keys():\n",
    "        if ( int(change // money[key]) !=0):        # also adding a nice check to only return non-zero change items\n",
    "            denom[key] = int(change // money[key])  # add to denom dictionary\n",
    "        change = change % money[key]  # get remaining chance owed\n",
    "\n",
    "    return denom"
   ]
  },
  {
   "cell_type": "code",
   "execution_count": 6,
   "id": "e985e8ee",
   "metadata": {},
   "outputs": [
    {
     "data": {
      "text/plain": [
       "{'toonies': 1, 'loonies': 1, 'quarters': 1, 'dimes': 2}"
      ]
     },
     "execution_count": 6,
     "metadata": {},
     "output_type": "execute_result"
    }
   ],
   "source": [
    "# testing my function\n",
    "\n",
    "mychange = getchange(item_cost, cash_in)\n",
    "mychange"
   ]
  },
  {
   "cell_type": "markdown",
   "id": "4fa38676",
   "metadata": {},
   "source": [
    "**C) Edit get change to also take as input a dictionary `available_change` that contains the number of each denomination available in the cash register.  Use this to check that there are enough of each denomination to cover the change.  If any denomination is short make up the change with the next available largest bill.** \n",
    "\n",
    "e.g. in the above example \\\\$3.45 is required in change, so ideally the \\\\$3 part of the change would comprise 1 toonie and 1 loonie.  If no toonies are available then the $3 would comprise 3 loonies, if only 2 loonies were available it would comprise 2 looonies and 4 quarters etc."
   ]
  },
  {
   "cell_type": "code",
   "execution_count": 7,
   "id": "52dd97ae",
   "metadata": {},
   "outputs": [],
   "source": [
    "def getchange(item_cost, cash_in, available_change):\n",
    "    \n",
    "    \"\"\"\n",
    "    Computes denominations needed to provide change.\n",
    "    \n",
    "    Inputs: item_cost - how much the item costs:  dtype = float\n",
    "            cash_in - what the customer gives you: dtype = float or int\n",
    "            available_change - dictionary telling me how many of each denomination currently in register\n",
    "    \n",
    "    Outputs:  dictionary containing same keys as `money`.  \n",
    "            Values for each key are number of bills/coins of that denomination to be handed to customer. \n",
    "    \n",
    "    \"\"\"\n",
    "    money = {\n",
    "        \"twenties\": 20,\n",
    "        \"tens\": 10,\n",
    "        \"fives\": 5,\n",
    "        \"toonies\": 2,\n",
    "        \"loonies\": 1,\n",
    "        \"quarters\": 0.25,\n",
    "        \"dimes\": 0.1,\n",
    "        \"nickels\": 0.05,\n",
    "    }\n",
    "    denom = {}  # initialize an empty dictionary to put change into\n",
    "    change = cash_in - item_cost\n",
    "    \n",
    "    if change < 0:\n",
    "        raise ValueError('not enough cash to cover item cost')\n",
    "        \n",
    "    for key in money.keys():\n",
    "        numkey = int(change // money[key])   # define as variable b/c am re-using a couple of times\n",
    "        if ( numkey !=0 ): \n",
    "            if (numkey <= available_change[key]):\n",
    "                denom[key] = numkey  # add to denom dictionary\n",
    "                change = change % money[key]  # get remaining chance owed\n",
    "            else:\n",
    "                denom[key] = available_change[key]\n",
    "                change = change % money[key] + (numkey - available_change[key])*money[key]  # modify remaining change owed.\n",
    "    \n",
    "    if (change > money[\"nickels\"]):\n",
    "        raise ValueError('not enough change in register to cover item')\n",
    "                \n",
    "    return denom"
   ]
  },
  {
   "cell_type": "code",
   "execution_count": 8,
   "id": "2088eac8",
   "metadata": {},
   "outputs": [
    {
     "ename": "ValueError",
     "evalue": "not enough change in register to cover item",
     "output_type": "error",
     "traceback": [
      "\u001b[0;31m---------------------------------------------------------------------------\u001b[0m",
      "\u001b[0;31mValueError\u001b[0m                                Traceback (most recent call last)",
      "\u001b[0;32m/var/folders/_k/0f_hlw7x2hq4vtcq0h8bvsm40000gr/T/ipykernel_61124/3249587444.py\u001b[0m in \u001b[0;36m<module>\u001b[0;34m\u001b[0m\n\u001b[1;32m     13\u001b[0m     } \n\u001b[1;32m     14\u001b[0m \u001b[0;34m\u001b[0m\u001b[0m\n\u001b[0;32m---> 15\u001b[0;31m \u001b[0mmychange\u001b[0m \u001b[0;34m=\u001b[0m \u001b[0mgetchange\u001b[0m\u001b[0;34m(\u001b[0m\u001b[0mitem_cost\u001b[0m\u001b[0;34m,\u001b[0m \u001b[0mcash_in\u001b[0m\u001b[0;34m,\u001b[0m \u001b[0mwhats_there\u001b[0m\u001b[0;34m)\u001b[0m\u001b[0;34m\u001b[0m\u001b[0;34m\u001b[0m\u001b[0m\n\u001b[0m\u001b[1;32m     16\u001b[0m \u001b[0mmychange\u001b[0m\u001b[0;34m\u001b[0m\u001b[0;34m\u001b[0m\u001b[0m\n",
      "\u001b[0;32m/var/folders/_k/0f_hlw7x2hq4vtcq0h8bvsm40000gr/T/ipykernel_61124/3641906502.py\u001b[0m in \u001b[0;36mgetchange\u001b[0;34m(item_cost, cash_in, available_change)\u001b[0m\n\u001b[1;32m     39\u001b[0m \u001b[0;34m\u001b[0m\u001b[0m\n\u001b[1;32m     40\u001b[0m     \u001b[0;32mif\u001b[0m \u001b[0;34m(\u001b[0m\u001b[0mchange\u001b[0m \u001b[0;34m>\u001b[0m \u001b[0mmoney\u001b[0m\u001b[0;34m[\u001b[0m\u001b[0;34m\"nickels\"\u001b[0m\u001b[0;34m]\u001b[0m\u001b[0;34m)\u001b[0m\u001b[0;34m:\u001b[0m\u001b[0;34m\u001b[0m\u001b[0;34m\u001b[0m\u001b[0m\n\u001b[0;32m---> 41\u001b[0;31m         \u001b[0;32mraise\u001b[0m \u001b[0mValueError\u001b[0m\u001b[0;34m(\u001b[0m\u001b[0;34m'not enough change in register to cover item'\u001b[0m\u001b[0;34m)\u001b[0m\u001b[0;34m\u001b[0m\u001b[0;34m\u001b[0m\u001b[0m\n\u001b[0m\u001b[1;32m     42\u001b[0m \u001b[0;34m\u001b[0m\u001b[0m\n\u001b[1;32m     43\u001b[0m     \u001b[0;32mreturn\u001b[0m \u001b[0mdenom\u001b[0m\u001b[0;34m\u001b[0m\u001b[0;34m\u001b[0m\u001b[0m\n",
      "\u001b[0;31mValueError\u001b[0m: not enough change in register to cover item"
     ]
    }
   ],
   "source": [
    "# testing my function\n",
    "import numpy as np\n",
    "\n",
    "whats_there = {\n",
    "        \"twenties\": 10,\n",
    "        \"tens\": 10,\n",
    "        \"fives\": 10,\n",
    "        \"toonies\": 0,\n",
    "        \"loonies\": 0,\n",
    "        \"quarters\": 0,\n",
    "        \"dimes\": 0,\n",
    "        \"nickels\": 10,\n",
    "    } \n",
    "\n",
    "mychange = getchange(item_cost, cash_in, whats_there)\n",
    "mychange"
   ]
  },
  {
   "cell_type": "markdown",
   "id": "6cf93cbb",
   "metadata": {},
   "source": [
    "## Question 2:  Practice with indexing / code tracing\n",
    "\n",
    "**A) For  `x1=[1, 7, -8, 2, -3, -9]`, what is contained in `y2` in each case after the code runs?  Do these three snippets of code do the same thing?  Show your work.**"
   ]
  },
  {
   "cell_type": "code",
   "execution_count": 9,
   "id": "e9502abe",
   "metadata": {},
   "outputs": [
    {
     "name": "stdout",
     "output_type": "stream",
     "text": [
      "[-8, -3, -9]\n"
     ]
    }
   ],
   "source": [
    "#  Code Version A\n",
    "import numpy as np\n",
    "x1 = np.array([1, 7, -8, 2, -3, -9])\n",
    "y2 = []\n",
    "for i in range(len(x1)):\n",
    "    if x1[i] < 0:\n",
    "        y2.append(x1[i])\n",
    "print(y2)"
   ]
  },
  {
   "cell_type": "code",
   "execution_count": 10,
   "id": "7c1867d1",
   "metadata": {},
   "outputs": [
    {
     "name": "stdout",
     "output_type": "stream",
     "text": [
      "[ 0 -8 -3 -9  0  0]\n"
     ]
    }
   ],
   "source": [
    "# Code Version B\n",
    "del y2           # remove any previous version of y2 from memory\n",
    "x1 = np.array([1, 7, -8, 2, -3, -9])\n",
    "y2 = np.zeros_like(x1)\n",
    "k = 0\n",
    "for i in range(len(x1)):\n",
    "    if x1[i] < 0:\n",
    "        k = k + 1\n",
    "        y2[k] = x1[i]\n",
    "print(y2)"
   ]
  },
  {
   "cell_type": "code",
   "execution_count": 11,
   "id": "b8fcf6dd",
   "metadata": {},
   "outputs": [
    {
     "name": "stdout",
     "output_type": "stream",
     "text": [
      "[ 0  0 -8  0 -3 -9]\n"
     ]
    }
   ],
   "source": [
    "# Code Version C\n",
    "del y2           # remove any previous version of y2 from memory\n",
    "x1 = np.array([1, 7, -8, 2, -3, -9])\n",
    "y2 = np.zeros_like(x1)\n",
    "for i in range(len(x1)):\n",
    "    if x1[i] < 0:\n",
    "        y2[i] = x1[i]\n",
    "print(y2)"
   ]
  },
  {
   "cell_type": "markdown",
   "id": "5a67ef47",
   "metadata": {},
   "source": [
    "**B) Write code that produces the same result as A, but use vectorization instead of loops.**"
   ]
  },
  {
   "cell_type": "code",
   "execution_count": 12,
   "id": "1d906cc2",
   "metadata": {},
   "outputs": [],
   "source": [
    "# your code here"
   ]
  },
  {
   "cell_type": "code",
   "execution_count": 13,
   "id": "14288376",
   "metadata": {},
   "outputs": [
    {
     "name": "stdout",
     "output_type": "stream",
     "text": [
      "[-8 -3 -9]\n"
     ]
    }
   ],
   "source": [
    "# Solution\n",
    "y2 = x1[x1 < 0]\n",
    "print(y2)"
   ]
  },
  {
   "cell_type": "code",
   "execution_count": null,
   "id": "55c22493",
   "metadata": {},
   "outputs": [],
   "source": []
  }
 ],
 "metadata": {
  "jupytext": {
   "formats": "ipynb,md:myst",
   "notebook_metadata_filter": "all,-language_info,-toc,-latex_envs",
   "text_representation": {
    "extension": ".md",
    "format_name": "myst",
    "format_version": 0.13,
    "jupytext_version": "1.11.5"
   }
  },
  "kernelspec": {
   "display_name": "Python 3 (ipykernel)",
   "language": "python",
   "name": "python3"
  },
  "language_info": {
   "codemirror_mode": {
    "name": "ipython",
    "version": 3
   },
   "file_extension": ".py",
   "mimetype": "text/x-python",
   "name": "python",
   "nbconvert_exporter": "python",
   "pygments_lexer": "ipython3",
   "version": "3.8.12"
  },
  "source_map": [
   15,
   27,
   37,
   42,
   46,
   69,
   73,
   77,
   114,
   119,
   125,
   171,
   188,
   194,
   205,
   218,
   227,
   231,
   235,
   241
  ]
 },
 "nbformat": 4,
 "nbformat_minor": 5
}