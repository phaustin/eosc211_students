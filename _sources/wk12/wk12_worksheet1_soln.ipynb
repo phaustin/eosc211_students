{
 "cells": [
  {
   "cell_type": "markdown",
   "id": "800da272",
   "metadata": {},
   "source": [
    "# Change worksheet\n",
    "\n",
    "## EOSC 211\n",
    "\n",
    "**Week 11 Day 1**\n",
    "\n",
    "**Learning Objectives:**  \n",
    "1. Solve problems with python code\n",
    "2. Choose appropriate data structures to make your code neat and efficient"
   ]
  },
  {
   "cell_type": "markdown",
   "id": "67136634",
   "metadata": {},
   "source": [
    "## Question 1\n",
    "\n",
    "**A) You have a cash register with \\\\$20, \\\\$10, \\\\$5, \\\\$2, \\\\$1, \\\\$0.25, \\\\$0.10, \\\\$0.05 bills or coins. Write code to make change usin the largest denominations possible – so that, for example, if someone gives you a \\\\$10 bill for something costing \\\\$6.55 the program will calculate that you get back \\\\$3.45 in change consisting of a \\\\$2, and \\\\$1, a \\\\$0.25, and 2 \\\\$0.10**  \n",
    "\n",
    "**The floor division `//` and modulo `%` operators are of use.**\n",
    "\n",
    "**Store the denominations available in a dictionary `money={'twenties', 'tens', 'fives', 'toonies'...}`. The rest of the program is up to you.  There are many correct ways to solve this problem**"
   ]
  },
  {
   "cell_type": "code",
   "execution_count": null,
   "id": "1675ec0c",
   "metadata": {},
   "outputs": [],
   "source": [
    "item_cost = 6.55  # dollars\n",
    "cash_in = 10  # dollars"
   ]
  },
  {
   "cell_type": "code",
   "execution_count": null,
   "id": "42117354",
   "metadata": {},
   "outputs": [],
   "source": [
    "# your code here"
   ]
  },
  {
   "cell_type": "code",
   "execution_count": null,
   "id": "312318a7",
   "metadata": {},
   "outputs": [],
   "source": [
    "# Andrew's soln\n",
    "# Catherine added small change to ensure output values are integer numbers.\n",
    "\n",
    "# create a dictionary of bill names and values to loop over\n",
    "money = {\n",
    "    \"twenties\": 20,\n",
    "    \"tens\": 10,\n",
    "    \"fives\": 5,\n",
    "    \"toonies\": 2,\n",
    "    \"loonies\": 1,\n",
    "    \"quarters\": 0.25,\n",
    "    \"dimes\": 0.1,\n",
    "    \"nickels\": 0.05,\n",
    "}\n",
    "denom = {}  # initialize an empty dictionary to put change into\n",
    "change = cash_in - item_cost\n",
    "\n",
    "for key in money.keys():\n",
    "    denom[key] = int(change // money[key])  # add to denom dictionary; CJ added \"int\" type casting\n",
    "    change = change % money[key]  # get remaining chance owed\n",
    "\n",
    "print(denom)"
   ]
  },
  {
   "cell_type": "markdown",
   "id": "60c763dc",
   "metadata": {},
   "source": [
    "**B) Turn this into a function called `getchange` that will take as input `item_cost`, `cash_in` and return `change`. Also, make your funtion raise an error if the customer does not give enough money to cover the cost of the purchase**"
   ]
  },
  {
   "cell_type": "code",
   "execution_count": null,
   "id": "81633306",
   "metadata": {},
   "outputs": [],
   "source": [
    "# your code here"
   ]
  },
  {
   "cell_type": "code",
   "execution_count": null,
   "id": "2d82c5d1",
   "metadata": {},
   "outputs": [],
   "source": [
    "# Solution\n",
    "def getchange(item_cost, cash_in):\n",
    "    \n",
    "    \"\"\"\n",
    "    Computes denominations needed to provide change.\n",
    "    \n",
    "    Inputs: item_cost - how much the item costs:  dtype = float\n",
    "            cash_in - what the customer gives you: dtype = float or int\n",
    "    \n",
    "    Outputs:  dictionary containing same keys as `money`.  \n",
    "            Values for each key are number of bills/coins of that denomination to be handed to customer. \n",
    "    \n",
    "    \"\"\"\n",
    "    money = {\n",
    "        \"twenties\": 20,\n",
    "        \"tens\": 10,\n",
    "        \"fives\": 5,\n",
    "        \"toonies\": 2,\n",
    "        \"loonies\": 1,\n",
    "        \"quarters\": 0.25,\n",
    "        \"dimes\": 0.1,\n",
    "        \"nickels\": 0.05,\n",
    "    }\n",
    "    denom = {}  # initialize an empty dictionary to put change into\n",
    "    change = cash_in - item_cost\n",
    "    if change < 0:\n",
    "        raise ValueError('not enough cash to cover item cost')\n",
    "\n",
    "    for key in money.keys():\n",
    "        if ( int(change // money[key]) !=0):        # also adding a nice check to only return non-zero change items\n",
    "            denom[key] = int(change // money[key])  # add to denom dictionary\n",
    "        change = change % money[key]  # get remaining chance owed\n",
    "\n",
    "    return denom"
   ]
  },
  {
   "cell_type": "code",
   "execution_count": null,
   "id": "07f6ccc7",
   "metadata": {},
   "outputs": [],
   "source": [
    "# testing my function\n",
    "\n",
    "mychange = getchange(item_cost, cash_in)\n",
    "mychange"
   ]
  },
  {
   "cell_type": "markdown",
   "id": "275defb4",
   "metadata": {},
   "source": [
    "**C) Edit get change to also take as input a dictionary `available_change` that contains the number of each denomination available in the cash register.  Use this to check that there are enough of each denomination to cover the change.  If any denomination is short make up the change with the next available largest bill.** \n",
    "\n",
    "e.g. in the above example \\\\$3.45 is required in change, so ideally the \\\\$3 part of the change would comprise 1 toonie and 1 loonie.  If no toonies are available then the $3 would comprise 3 loonies, if only 2 loonies were available it would comprise 2 looonies and 4 quarters etc."
   ]
  },
  {
   "cell_type": "code",
   "execution_count": null,
   "id": "984897fc",
   "metadata": {},
   "outputs": [],
   "source": [
    "def getchange(item_cost, cash_in, available_change):\n",
    "    \n",
    "    \"\"\"\n",
    "    Computes denominations needed to provide change.\n",
    "    \n",
    "    Inputs: item_cost - how much the item costs:  dtype = float\n",
    "            cash_in - what the customer gives you: dtype = float or int\n",
    "            available_change - dictionary telling me how many of each denomination currently in register\n",
    "    \n",
    "    Outputs:  dictionary containing same keys as `money`.  \n",
    "            Values for each key are number of bills/coins of that denomination to be handed to customer. \n",
    "    \n",
    "    \"\"\"\n",
    "    money = {\n",
    "        \"twenties\": 20,\n",
    "        \"tens\": 10,\n",
    "        \"fives\": 5,\n",
    "        \"toonies\": 2,\n",
    "        \"loonies\": 1,\n",
    "        \"quarters\": 0.25,\n",
    "        \"dimes\": 0.1,\n",
    "        \"nickels\": 0.05,\n",
    "    }\n",
    "    denom = {}  # initialize an empty dictionary to put change into\n",
    "    change = cash_in - item_cost\n",
    "    \n",
    "    if change < 0:\n",
    "        raise ValueError('not enough cash to cover item cost')\n",
    "        \n",
    "    for key in money.keys():\n",
    "        numkey = int(change // money[key])   # define as variable b/c am re-using a couple of times\n",
    "        if ( numkey !=0 ): \n",
    "            if (numkey <= available_change[key]):\n",
    "                denom[key] = numkey  # add to denom dictionary\n",
    "                change = change % money[key]  # get remaining chance owed\n",
    "            else:\n",
    "                denom[key] = available_change[key]\n",
    "                change = change % money[key] + (numkey - available_change[key])*money[key]  # modify remaining change owed.\n",
    "    \n",
    "    if (change > money[\"nickels\"]):\n",
    "        raise ValueError('not enough change in register to cover item')\n",
    "                \n",
    "    return denom"
   ]
  },
  {
   "cell_type": "code",
   "execution_count": null,
   "id": "617e9620",
   "metadata": {},
   "outputs": [],
   "source": [
    "# testing my function\n",
    "import numpy as np\n",
    "\n",
    "whats_there = {\n",
    "        \"twenties\": 10,\n",
    "        \"tens\": 10,\n",
    "        \"fives\": 10,\n",
    "        \"toonies\": 0,\n",
    "        \"loonies\": 0,\n",
    "        \"quarters\": 0,\n",
    "        \"dimes\": 0,\n",
    "        \"nickels\": 10,\n",
    "    } \n",
    "\n",
    "mychange = getchange(item_cost, cash_in, whats_there)\n",
    "mychange"
   ]
  },
  {
   "cell_type": "markdown",
   "id": "6ab3bda9",
   "metadata": {},
   "source": [
    "## Question 2:  Practice with indexing / code tracing\n",
    "\n",
    "**A) For  `x1=[1, 7, -8, 2, -3, -9]`, what is contained in `y2` in each case after the code runs?  Do these three snippets of code do the same thing?  Show your work.**"
   ]
  },
  {
   "cell_type": "code",
   "execution_count": null,
   "id": "d47d9e40",
   "metadata": {},
   "outputs": [],
   "source": [
    "#  Code Version A\n",
    "import numpy as np\n",
    "x1 = np.array([1, 7, -8, 2, -3, -9])\n",
    "y2 = []\n",
    "for i in range(len(x1)):\n",
    "    if x1[i] < 0:\n",
    "        y2.append(x1[i])\n",
    "print(y2)"
   ]
  },
  {
   "cell_type": "code",
   "execution_count": null,
   "id": "2309b618",
   "metadata": {},
   "outputs": [],
   "source": [
    "# Code Version B\n",
    "del y2           # remove any previous version of y2 from memory\n",
    "x1 = np.array([1, 7, -8, 2, -3, -9])\n",
    "y2 = np.zeros_like(x1)\n",
    "k = 0\n",
    "for i in range(len(x1)):\n",
    "    if x1[i] < 0:\n",
    "        k = k + 1\n",
    "        y2[k] = x1[i]\n",
    "print(y2)"
   ]
  },
  {
   "cell_type": "code",
   "execution_count": null,
   "id": "945df25b",
   "metadata": {},
   "outputs": [],
   "source": [
    "# Code Version C\n",
    "del y2           # remove any previous version of y2 from memory\n",
    "x1 = np.array([1, 7, -8, 2, -3, -9])\n",
    "y2 = np.zeros_like(x1)\n",
    "for i in range(len(x1)):\n",
    "    if x1[i] < 0:\n",
    "        y2[i] = x1[i]\n",
    "print(y2)"
   ]
  },
  {
   "cell_type": "markdown",
   "id": "f1d0968e",
   "metadata": {},
   "source": [
    "**B) Write code that produces the same result as A, but use vectorization instead of loops.**"
   ]
  },
  {
   "cell_type": "code",
   "execution_count": null,
   "id": "541e59e3",
   "metadata": {},
   "outputs": [],
   "source": [
    "# your code here"
   ]
  },
  {
   "cell_type": "code",
   "execution_count": null,
   "id": "e4d2c9a2",
   "metadata": {},
   "outputs": [],
   "source": [
    "# Solution\n",
    "y2 = x1[x1 < 0]\n",
    "print(y2)"
   ]
  },
  {
   "cell_type": "code",
   "execution_count": null,
   "id": "7ba022b9",
   "metadata": {},
   "outputs": [],
   "source": []
  }
 ],
 "metadata": {
  "jupytext": {
   "formats": "ipynb,md:myst",
   "notebook_metadata_filter": "all,-language_info,-toc,-latex_envs",
   "text_representation": {
    "extension": ".md",
    "format_name": "myst",
    "format_version": 0.13,
    "jupytext_version": "1.11.5"
   }
  },
  "kernelspec": {
   "display_name": "Python 3 (ipykernel)",
   "language": "python",
   "name": "python3"
  },
  "source_map": [
   15,
   27,
   37,
   42,
   46,
   69,
   73,
   77,
   114,
   119,
   125,
   171,
   188,
   194,
   205,
   218,
   227,
   231,
   235,
   241
  ]
 },
 "nbformat": 4,
 "nbformat_minor": 5
}