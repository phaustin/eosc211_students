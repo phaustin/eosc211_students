{
 "cells": [
  {
   "cell_type": "markdown",
   "id": "a2d6acf1",
   "metadata": {},
   "source": [
    "# Week 12 Review Exercises\n",
    "\n",
    "## EOSC 211\n",
    "\n",
    "**Week 11 Day 1**\n",
    "\n",
    "**Learning Objectives:**  \n",
    "1. Solve problems with python code\n",
    "2. Choose appropriate data structures to make your code neat and efficient"
   ]
  },
  {
   "cell_type": "markdown",
   "id": "797c2e37",
   "metadata": {},
   "source": [
    "## Question 1\n",
    "\n",
    "**A) You have a cash register with \\$20, \\$10, \\$5, \\$2, \\$1, \\$0.25, \\$0.10, \\$0.05 bills or coins. Write code to make change usin the largest denominations possible – so that, for example, if someone gives you a \\$10 bill for something costing \\$6.55 the program will calculate that you get back \\$3.45 in change consisting of a \\$2, and \\$1, a \\$0.25, and 2 \\$0.10**  \n",
    "\n",
    "**The floor division `//` and modulo `%` operators are of use.**\n",
    "\n",
    "**Store the denominations available in a dictionary `money={'twenties', 'tens', 'fives', 'toonies'...}`. The rest of the program is up to you.  There are many correct ways to solve this problem**"
   ]
  },
  {
   "cell_type": "code",
   "execution_count": 1,
   "id": "c2b8459b",
   "metadata": {},
   "outputs": [],
   "source": [
    "item_cost = 6.55  # dollars\n",
    "cash_in = 10  # dollars"
   ]
  },
  {
   "cell_type": "code",
   "execution_count": 2,
   "id": "43ecd118",
   "metadata": {},
   "outputs": [],
   "source": [
    "# your code here"
   ]
  },
  {
   "cell_type": "markdown",
   "id": "993bb02d",
   "metadata": {},
   "source": [
    "**B) Turn this into a function called `getchange` that will take as input `item_cost`, `cash_in` and return `change`. Also, make your funtion raise an error if the customer does not give enough money to cover the cost of the purchase**"
   ]
  },
  {
   "cell_type": "code",
   "execution_count": 3,
   "id": "1b69e819",
   "metadata": {},
   "outputs": [],
   "source": [
    "# your code here"
   ]
  },
  {
   "cell_type": "code",
   "execution_count": 4,
   "id": "6e3e59e8",
   "metadata": {},
   "outputs": [
    {
     "ename": "NameError",
     "evalue": "name 'getchange' is not defined",
     "output_type": "error",
     "traceback": [
      "\u001b[0;31m---------------------------------------------------------------------------\u001b[0m",
      "\u001b[0;31mNameError\u001b[0m                                 Traceback (most recent call last)",
      "\u001b[0;32m/tmp/ipykernel_12881/3754145967.py\u001b[0m in \u001b[0;36m<module>\u001b[0;34m\u001b[0m\n\u001b[1;32m      1\u001b[0m \u001b[0;31m# testing my function\u001b[0m\u001b[0;34m\u001b[0m\u001b[0;34m\u001b[0m\u001b[0;34m\u001b[0m\u001b[0m\n\u001b[1;32m      2\u001b[0m \u001b[0;34m\u001b[0m\u001b[0m\n\u001b[0;32m----> 3\u001b[0;31m \u001b[0mmychange\u001b[0m \u001b[0;34m=\u001b[0m \u001b[0mgetchange\u001b[0m\u001b[0;34m(\u001b[0m\u001b[0mitem_cost\u001b[0m\u001b[0;34m,\u001b[0m \u001b[0mcash_in\u001b[0m\u001b[0;34m)\u001b[0m\u001b[0;34m\u001b[0m\u001b[0;34m\u001b[0m\u001b[0m\n\u001b[0m\u001b[1;32m      4\u001b[0m \u001b[0mmychange\u001b[0m\u001b[0;34m\u001b[0m\u001b[0;34m\u001b[0m\u001b[0m\n",
      "\u001b[0;31mNameError\u001b[0m: name 'getchange' is not defined"
     ]
    }
   ],
   "source": [
    "# testing my function\n",
    "\n",
    "mychange = getchange(item_cost, cash_in)\n",
    "mychange"
   ]
  },
  {
   "cell_type": "markdown",
   "id": "b46ad449",
   "metadata": {},
   "source": [
    "**C) Edit get change to also take as input a dictionary `available_change` that contains the number of each denomination available in the cash register.  Use this to check that there are enough of each denomination to cover the change.  If any denomination is short make up the change with the next available largest bill.** \n",
    "\n",
    "e.g. in the above example \\$3.45 is required in change, so ideally the \\$3 part of the change would comprise 1 toonie and 1 loonie.  If no toonies are available then the \\$3 would comprise 3 loonies, if only 2 loonies were available it would comprise 2 looonies and 4 quarters etc."
   ]
  },
  {
   "cell_type": "code",
   "execution_count": 5,
   "id": "d8cdd4d3",
   "metadata": {},
   "outputs": [
    {
     "ename": "NameError",
     "evalue": "name 'getchange' is not defined",
     "output_type": "error",
     "traceback": [
      "\u001b[0;31m---------------------------------------------------------------------------\u001b[0m",
      "\u001b[0;31mNameError\u001b[0m                                 Traceback (most recent call last)",
      "\u001b[0;32m/tmp/ipykernel_12881/3249587444.py\u001b[0m in \u001b[0;36m<module>\u001b[0;34m\u001b[0m\n\u001b[1;32m     13\u001b[0m     } \n\u001b[1;32m     14\u001b[0m \u001b[0;34m\u001b[0m\u001b[0m\n\u001b[0;32m---> 15\u001b[0;31m \u001b[0mmychange\u001b[0m \u001b[0;34m=\u001b[0m \u001b[0mgetchange\u001b[0m\u001b[0;34m(\u001b[0m\u001b[0mitem_cost\u001b[0m\u001b[0;34m,\u001b[0m \u001b[0mcash_in\u001b[0m\u001b[0;34m,\u001b[0m \u001b[0mwhats_there\u001b[0m\u001b[0;34m)\u001b[0m\u001b[0;34m\u001b[0m\u001b[0;34m\u001b[0m\u001b[0m\n\u001b[0m\u001b[1;32m     16\u001b[0m \u001b[0mmychange\u001b[0m\u001b[0;34m\u001b[0m\u001b[0;34m\u001b[0m\u001b[0m\n",
      "\u001b[0;31mNameError\u001b[0m: name 'getchange' is not defined"
     ]
    }
   ],
   "source": [
    "# testing my function\n",
    "import numpy as np\n",
    "\n",
    "whats_there = {\n",
    "        \"twenties\": 10,\n",
    "        \"tens\": 10,\n",
    "        \"fives\": 10,\n",
    "        \"toonies\": 0,\n",
    "        \"loonies\": 0,\n",
    "        \"quarters\": 0,\n",
    "        \"dimes\": 0,\n",
    "        \"nickels\": 10,\n",
    "    } \n",
    "\n",
    "mychange = getchange(item_cost, cash_in, whats_there)\n",
    "mychange"
   ]
  },
  {
   "cell_type": "markdown",
   "id": "828ac9b8",
   "metadata": {},
   "source": [
    "## Question 2:  Practice with indexing / code tracing\n",
    "\n",
    "**A) For  `x1=[1, 7, -8, 2, -3, -9]`, what is contained in `y2` in each case after the code runs?  Do these three snippets of code do the same thing?  Show your work.**"
   ]
  },
  {
   "cell_type": "markdown",
   "id": "afef9631",
   "metadata": {},
   "source": [
    "```python\n",
    "#  Code Version A\n",
    "import numpy as np\n",
    "x1 = np.array([1, 7, -8, 2, -3, -9])\n",
    "y2 = []\n",
    "for i in range(len(x1)):\n",
    "    if x1[i] < 0:\n",
    "        y2.append(x1[i])\n",
    "print(y2)\n",
    "```"
   ]
  },
  {
   "cell_type": "markdown",
   "id": "9ce2ccc7",
   "metadata": {},
   "source": [
    "```python\n",
    "# Code Version B\n",
    "del y2           # remove any previous version of y2 from memory\n",
    "x1 = np.array([1, 7, -8, 2, -3, -9])\n",
    "y2 = np.zeros_like(x1)\n",
    "k = 0\n",
    "for i in range(len(x1)):\n",
    "    if x1[i] < 0:\n",
    "        k = k + 1\n",
    "        y2[k] = x1[i]\n",
    "print(y2)\n",
    "```"
   ]
  },
  {
   "cell_type": "markdown",
   "id": "4431ab28",
   "metadata": {},
   "source": [
    "```python\n",
    "# Code Version C\n",
    "del y2           # remove any previous version of y2 from memory\n",
    "x1 = np.array([1, 7, -8, 2, -3, -9])\n",
    "y2 = np.zeros_like(x1)\n",
    "for i in range(len(x1)):\n",
    "    if x1[i] < 0:\n",
    "        y2[i] = x1[i]\n",
    "print(y2)\n",
    "```"
   ]
  },
  {
   "cell_type": "markdown",
   "id": "3ed8eb2c",
   "metadata": {},
   "source": [
    "**B) Write code that produces the same result as A, but use vectorization instead of loops.**"
   ]
  },
  {
   "cell_type": "code",
   "execution_count": 6,
   "id": "da39ef13",
   "metadata": {},
   "outputs": [],
   "source": [
    "# your code here"
   ]
  },
  {
   "cell_type": "code",
   "execution_count": null,
   "id": "93895de3",
   "metadata": {},
   "outputs": [],
   "source": []
  }
 ],
 "metadata": {
  "jupytext": {
   "formats": "ipynb,md:myst",
   "notebook_metadata_filter": "all,-language_info,-toc,-latex_envs",
   "text_representation": {
    "extension": ".md",
    "format_name": "myst",
    "format_version": 0.13,
    "jupytext_version": "1.11.5"
   }
  },
  "kernelspec": {
   "display_name": "Python 3 (ipykernel)",
   "language": "python",
   "name": "python3"
  },
  "language_info": {
   "codemirror_mode": {
    "name": "ipython",
    "version": 3
   },
   "file_extension": ".py",
   "mimetype": "text/x-python",
   "name": "python",
   "nbconvert_exporter": "python",
   "pygments_lexer": "ipython3",
   "version": "3.8.0"
  },
  "source_map": [
   15,
   27,
   37,
   42,
   44,
   48,
   52,
   57,
   63,
   80,
   86,
   99,
   114,
   127,
   131,
   135
  ]
 },
 "nbformat": 4,
 "nbformat_minor": 5
}