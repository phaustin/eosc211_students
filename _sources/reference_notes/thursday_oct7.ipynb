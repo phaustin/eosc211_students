{
 "cells": [
  {
   "cell_type": "markdown",
   "id": "61c28f6b",
   "metadata": {
    "slideshow": {
     "slide_type": "slide"
    }
   },
   "source": [
    "# Notes for Thursday Oct. 7\n",
    "\n",
    "## Week 5 lab\n",
    "\n",
    "1.) Watch your brackets:\n",
    "\n",
    "* `cosine(the_lat_radians)`  -- function evaluation\n",
    "* `topo[i,j+1]`  -- indexing\n",
    "\n",
    "2.) Simplify complex formulas by evaluating pieces separately\n",
    "\n",
    "     numerator=(a + b)**3. - np.exp(c)  \n",
    "     denom = cos(5z) - np.log(y)`  \n",
    "     slope = np.arctan(umerator/denom)  \n",
    "\n",
    "3.)  When in doubt about how row/colum relate to lat/lon on an image, draw a dot\n",
    "     on your map"
   ]
  },
  {
   "cell_type": "markdown",
   "id": "51664244",
   "metadata": {
    "slideshow": {
     "slide_type": "slide"
    }
   },
   "source": [
    "## Objects, instances, and types\n",
    "\n",
    "* [A glossary](https://eli.thegreenplace.net/2012/03/30/python-objects-types-classes-and-instances-a-glossary)\n",
    "\n",
    "* A type or class:  np.array or NoneType\n",
    "\n",
    "* An instance or object:  np.array([5,6,7]) or None"
   ]
  },
  {
   "cell_type": "markdown",
   "id": "ad62ccf2",
   "metadata": {
    "slideshow": {
     "slide_type": "slide"
    }
   },
   "source": [
    "## Untangling spaghetti code\n",
    "\n",
    "1.) Comment your code to make your intent clear  \n",
    "2.) For choosing one among many, use the `in` keyword\n",
    "\n",
    "### Example: Find an item in a list"
   ]
  },
  {
   "cell_type": "code",
   "execution_count": null,
   "id": "97ac4a1b",
   "metadata": {
    "slideshow": {
     "slide_type": "slide"
    }
   },
   "outputs": [],
   "source": [
    "guestlist = ['tom','betty','ulma']\n",
    "guest = 'ulma'\n",
    "if guest in guestlist:\n",
    "    print(f\"Welcome {guest}!\")"
   ]
  },
  {
   "cell_type": "markdown",
   "id": "4e162b36",
   "metadata": {
    "slideshow": {
     "slide_type": "slide"
    }
   },
   "source": [
    "3.) Use dictionaries to hold functions and slices by keyword"
   ]
  },
  {
   "cell_type": "markdown",
   "id": "f046ebad",
   "metadata": {
    "slideshow": {
     "slide_type": "subslide"
    }
   },
   "source": [
    "### Example:  return a slice from a dictionary"
   ]
  },
  {
   "cell_type": "markdown",
   "id": "df86253f",
   "metadata": {
    "slideshow": {
     "slide_type": "subslide"
    }
   },
   "source": [
    "Suppose that if our map projection is mercator, then our study region (Vancouver Island) is\n",
    "located between row 10 and row 20 and column 100 and column 107 on a series of satellite images.\n",
    "If our map projection is Lambert Azimuthal, then there's a different set of corners for the region.\n",
    "How would we find the right slice without an if/else block?\n",
    "\n",
    "Answer: store the slices in a dictionary and look them up by dictionary key"
   ]
  },
  {
   "cell_type": "code",
   "execution_count": null,
   "id": "477cc700",
   "metadata": {
    "slideshow": {
     "slide_type": "slide"
    }
   },
   "outputs": [],
   "source": [
    "# make a fake image\n",
    "\n",
    "import numpy as np\n",
    "numcols = 200\n",
    "numrows = 100\n",
    "fake_image = np.arange(0,numcols*numrows).reshape([numrows,numcols])\n",
    "print(fake_image[0:10,0:5])"
   ]
  },
  {
   "cell_type": "code",
   "execution_count": null,
   "id": "8665ccb3",
   "metadata": {
    "slideshow": {
     "slide_type": "slide"
    }
   },
   "outputs": [],
   "source": [
    "# make a dictionary that has 'mercator' as its first key, and holds another dictionary with\n",
    "# 'rows' and 'columns' keys for that map projection\n",
    "\n",
    "row_slice = slice(10,20)  # 10:20\n",
    "column_slice = slice(100,107)  # 100:107\n",
    "corner_dict = dict()\n",
    "corner_dict['mercator'] = {'rows': row_slice,'columns':column_slice}\n",
    "## now use these slices on the fake_image\n",
    "\n",
    "projection='mercator'\n",
    "island_rows = corner_dict[projection]['rows']\n",
    "island_columns = corner_dict[projection]['columns']\n",
    "island_image = fake_image[island_rows,island_columns]\n",
    "print(island_image)"
   ]
  }
 ],
 "metadata": {
  "jupytext": {
   "text_representation": {
    "extension": ".md",
    "format_name": "myst",
    "format_version": 0.13,
    "jupytext_version": "1.10.3"
   }
  },
  "kernelspec": {
   "display_name": "Python 3 (ipykernel)",
   "language": "python",
   "name": "python3"
  },
  "source_map": [
   14,
   34,
   44,
   53,
   64,
   68,
   72,
   81,
   95
  ]
 },
 "nbformat": 4,
 "nbformat_minor": 5
}