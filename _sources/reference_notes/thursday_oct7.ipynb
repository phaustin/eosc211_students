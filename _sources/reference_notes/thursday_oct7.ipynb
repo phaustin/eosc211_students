{
 "cells": [
  {
   "cell_type": "markdown",
   "id": "7a6081f8",
   "metadata": {
    "slideshow": {
     "slide_type": "slide"
    }
   },
   "source": [
    "# Notes for Thursday Oct. 7\n",
    "\n",
    "## Week 5 lab\n",
    "\n",
    "1.) Watch your brackets:\n",
    "\n",
    "* `cosine(the_lat_radians)`  -- function evaluation\n",
    "* `topo[i,j+1]`  -- indexing\n",
    "\n",
    "2.) Simplify complex formulas by evaluating pieces separately\n",
    "\n",
    "     numerator=(a + b)**3. - np.exp(c)  \n",
    "     denom = cos(5z) - np.log(y)`  \n",
    "     slope = np.arctan(umerator/denom)  \n",
    "\n",
    "3.)  When in doubt about how row/colum relate to lat/lon on an image, draw a dot\n",
    "     on your map"
   ]
  },
  {
   "cell_type": "markdown",
   "id": "3c5290eb",
   "metadata": {
    "slideshow": {
     "slide_type": "slide"
    }
   },
   "source": [
    "## Objects, instances, and types\n",
    "\n",
    "* [A glossary](https://eli.thegreenplace.net/2012/03/30/python-objects-types-classes-and-instances-a-glossary)\n",
    "\n",
    "* A type or class:  np.array or NoneType\n",
    "\n",
    "* An instance or object:  np.array([5,6,7]) or None"
   ]
  },
  {
   "cell_type": "markdown",
   "id": "33b02327",
   "metadata": {
    "slideshow": {
     "slide_type": "slide"
    }
   },
   "source": [
    "## Untangling spaghetti code\n",
    "\n",
    "1.) Comment your code to make your intent clear  \n",
    "2.) For choosing one among many, use the `in` keyword\n",
    "\n",
    "### Example: Find an item in a list"
   ]
  },
  {
   "cell_type": "code",
   "execution_count": 1,
   "id": "a9df9eb6",
   "metadata": {
    "slideshow": {
     "slide_type": "slide"
    }
   },
   "outputs": [
    {
     "name": "stdout",
     "output_type": "stream",
     "text": [
      "Welcome ulma!\n"
     ]
    }
   ],
   "source": [
    "guestlist = ['tom','betty','ulma']\n",
    "guest = 'ulma'\n",
    "if guest in guestlist:\n",
    "    print(f\"Welcome {guest}!\")"
   ]
  },
  {
   "cell_type": "markdown",
   "id": "83c35004",
   "metadata": {
    "slideshow": {
     "slide_type": "slide"
    }
   },
   "source": [
    "3.) Use dictionaries to hold functions and slices by keyword"
   ]
  },
  {
   "cell_type": "markdown",
   "id": "a8ae124a",
   "metadata": {
    "slideshow": {
     "slide_type": "subslide"
    }
   },
   "source": [
    "### Example:  return a slice from a dictionary"
   ]
  },
  {
   "cell_type": "markdown",
   "id": "75b0e384",
   "metadata": {
    "slideshow": {
     "slide_type": "subslide"
    }
   },
   "source": [
    "Suppose that if our map projection is mercator, then our study region (Vancouver Island) is\n",
    "located between row 10 and row 20 and column 100 and column 107 on a series of satellite images.\n",
    "If our map projection is Lambert Azimuthal, then there's a different set of corners for the region.\n",
    "How would we find the right slice without an if/else block?\n",
    "\n",
    "Answer: store the slices in a dictionary and look them up by dictionary key"
   ]
  },
  {
   "cell_type": "code",
   "execution_count": 2,
   "id": "de8b9a82",
   "metadata": {
    "slideshow": {
     "slide_type": "slide"
    }
   },
   "outputs": [
    {
     "name": "stdout",
     "output_type": "stream",
     "text": [
      "[[   0    1    2    3    4]\n",
      " [ 200  201  202  203  204]\n",
      " [ 400  401  402  403  404]\n",
      " [ 600  601  602  603  604]\n",
      " [ 800  801  802  803  804]\n",
      " [1000 1001 1002 1003 1004]\n",
      " [1200 1201 1202 1203 1204]\n",
      " [1400 1401 1402 1403 1404]\n",
      " [1600 1601 1602 1603 1604]\n",
      " [1800 1801 1802 1803 1804]]\n"
     ]
    }
   ],
   "source": [
    "# make a fake image\n",
    "\n",
    "import numpy as np\n",
    "numcols = 200\n",
    "numrows = 100\n",
    "fake_image = np.arange(0,numcols*numrows).reshape([numrows,numcols])\n",
    "print(fake_image[0:10,0:5])"
   ]
  },
  {
   "cell_type": "code",
   "execution_count": 3,
   "id": "be6fdd48",
   "metadata": {
    "slideshow": {
     "slide_type": "slide"
    }
   },
   "outputs": [
    {
     "name": "stdout",
     "output_type": "stream",
     "text": [
      "[[2100 2101 2102 2103 2104 2105 2106]\n",
      " [2300 2301 2302 2303 2304 2305 2306]\n",
      " [2500 2501 2502 2503 2504 2505 2506]\n",
      " [2700 2701 2702 2703 2704 2705 2706]\n",
      " [2900 2901 2902 2903 2904 2905 2906]\n",
      " [3100 3101 3102 3103 3104 3105 3106]\n",
      " [3300 3301 3302 3303 3304 3305 3306]\n",
      " [3500 3501 3502 3503 3504 3505 3506]\n",
      " [3700 3701 3702 3703 3704 3705 3706]\n",
      " [3900 3901 3902 3903 3904 3905 3906]]\n"
     ]
    }
   ],
   "source": [
    "# make a dictionary that has 'mercator' as its first key, and holds another dictionary with\n",
    "# 'rows' and 'columns' keys for that map projection\n",
    "\n",
    "row_slice = slice(10,20)  # 10:20\n",
    "column_slice = slice(100,107)  # 100:107\n",
    "corner_dict = dict()\n",
    "corner_dict['mercator'] = {'rows': row_slice,'columns':column_slice}\n",
    "## now use these slices on the fake_image\n",
    "\n",
    "projection='mercator'\n",
    "island_rows = corner_dict[projection]['rows']\n",
    "island_columns = corner_dict[projection]['columns']\n",
    "island_image = fake_image[island_rows,island_columns]\n",
    "print(island_image)"
   ]
  }
 ],
 "metadata": {
  "jupytext": {
   "text_representation": {
    "extension": ".md",
    "format_name": "myst",
    "format_version": 0.13,
    "jupytext_version": "1.10.3"
   }
  },
  "kernelspec": {
   "display_name": "Python 3 (ipykernel)",
   "language": "python",
   "name": "python3"
  },
  "language_info": {
   "codemirror_mode": {
    "name": "ipython",
    "version": 3
   },
   "file_extension": ".py",
   "mimetype": "text/x-python",
   "name": "python",
   "nbconvert_exporter": "python",
   "pygments_lexer": "ipython3",
   "version": "3.8.0"
  },
  "source_map": [
   14,
   34,
   44,
   53,
   64,
   68,
   72,
   81,
   95
  ]
 },
 "nbformat": 4,
 "nbformat_minor": 5
}