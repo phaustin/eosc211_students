{
 "cells": [
  {
   "cell_type": "markdown",
   "id": "81e162f2",
   "metadata": {},
   "source": [
    "# e211 2021t1 midterm solutions"
   ]
  },
  {
   "cell_type": "markdown",
   "id": "61c26fd5",
   "metadata": {},
   "source": [
    "Name (Last, First):\n",
    "\\_\\_\\_\\_\\_\\_\\_\\_\\_\\_\\_\\_\\_\\_\\_\\_\\_\\_\\_\\_\\_\\_\\_\\_\\_\\_\\_\\_\\_\\_\\_\\_\\_\\_\n",
    "\n",
    "Student Number:\n",
    "\\_\\_\\_\\_\\_\\_\\_\\_\\_\\_\\_\\_\\_\\_\\_\\_\\_\\_\\_\\_\\_\\_\\_\\_\\_\\_\\_\\_\\_\\_\\_\\_\n",
    "\n",
    "Signature:\n",
    "\\_\\_\\_\\_\\_\\_\\_\\_\\_\\_\\_\\_\\_\\_\\_\\_\\_\\_\\_\\_\\_\\_\\_\\_\\_\\_\\_\\_\\_\\_\\_\\_\n",
    "\n",
    "In-class Group:\n",
    "\\_\\_\\_\\_\\_"
   ]
  },
  {
   "cell_type": "markdown",
   "id": "e2705b17",
   "metadata": {},
   "source": [
    "The exam is open-book, open-notes, but NO electronic accessories (e.g., calculators, phone, laptop, python, google, etc) are allowed.   \n",
    "\n",
    "**This exam has 7 questions.** Complete all the questions.  The marks available for each question are indicated. The total number of marks available in this exam is 37 (plus 2 bonus). As a rough guide, you should expect to spend about 1 minute per mark.  \n",
    "\n",
    "**SHOW YOUR WORK** and/or your reasoning as well as \"the answer\" - this allows us to assign something other than full or zero marks for a question.\n",
    "\n",
    "For all questions you can assume that ```numpy``` and any other required packages have been imported, e.g.,\n",
    "``` import numpy as np``` has been executed.\n",
    "\n",
    "You will have 50 minutes to do the exam individually.  We will then collect your individual responses and you will have 20 minutes to do it in your group."
   ]
  },
  {
   "cell_type": "markdown",
   "id": "72be9711",
   "metadata": {},
   "source": [
    "## Question 1  (5 points)\n",
    "\n",
    "An instrument that measures wind speed records the following data.  Note that np.isnan is a function\n",
    "that returns ```True``` if a floating point number is np.nan, ```False``` if not."
   ]
  },
  {
   "cell_type": "code",
   "execution_count": 1,
   "id": "2365d1ed",
   "metadata": {},
   "outputs": [
    {
     "name": "stdout",
     "output_type": "stream",
     "text": [
      "a) vx[:4]=array([12., 10.,  4.,  1.])\n",
      "b) vx[4:9]=array([ 3.,  2.,  1., nan, nan])\n",
      "c) vx[9:]=array([4., 5., 3.])\n",
      "d) vx[vx > 8]=array([12., 10.])\n",
      "e) (vx[np.isnan(vx) == False])=array([12., 10.,  4.,  1.,  3.,  2.,  1.,  4.,  5.,  3.])\n"
     ]
    }
   ],
   "source": [
    "import numpy as np\n",
    "vx = np.array([12, 10, 4, 1, 3, 2, 1, np.nan, np.nan, 4, 5, 3])\n",
    "\n",
    "# Write out the values that would print for each of the following slices.\n",
    "\n",
    "#a)  \n",
    "\n",
    "print(f\"a) {vx[:4]=}\")\n",
    "\n",
    "\n",
    "\n",
    "# b) \n",
    "\n",
    "print(f\"b) {vx[4:9]=}\")\n",
    "\n",
    "\n",
    "\n",
    "# c)\n",
    "\n",
    "print(f\"c) {vx[9:]=}\")\n",
    "\n",
    "\n",
    "# d) \n",
    "\n",
    "print(f\"d) {vx[vx > 8]=}\")\n",
    "\n",
    "\n",
    "# e) \n",
    "\n",
    "print(f\"e) {(vx[np.isnan(vx) == False])=}\")"
   ]
  },
  {
   "cell_type": "markdown",
   "id": "b5d415cd",
   "metadata": {},
   "source": [
    "## Question 2  (8 points)\n",
    "\n",
    "a) (4 pts) The function `np.arange()` creates arrays using arguments `start, stop, step`. The function `np.linspace()` creates arrays using `start, stop, num`, where `num` is the number of elements in the array. Using each method, write \n",
    "the python command that would create the following array (i.e. write 2 lines of code that produce the same output):  \n",
    "\n",
    "  [4,8,12,16,20,24]"
   ]
  },
  {
   "cell_type": "code",
   "execution_count": 2,
   "id": "3a4b4e9e",
   "metadata": {},
   "outputs": [
    {
     "name": "stdout",
     "output_type": "stream",
     "text": [
      "using arange:   [ 4  8 12 16 20 24]\n",
      "using linspace: [ 4.  8. 12. 16. 20. 24.]\n"
     ]
    }
   ],
   "source": [
    "# soln\n",
    "use_arange = np.arange(4,25,4) # 25 can be any number larger than 24\n",
    "use_linspace = np.linspace(4,24,6)\n",
    "\n",
    "print(f\"using arange:   {use_arange}\\nusing linspace: {use_linspace}\")"
   ]
  },
  {
   "cell_type": "markdown",
   "id": "e6527bb2",
   "metadata": {},
   "source": [
    "b) (4 pts) Suppose you simultaneosly measure the speed and temperture of an object over time, and get the following\n",
    "data points:\n",
    "\n",
    "```\n",
    "time = [10, 20, 30, 40, 50, 60, 70]  # seconds\n",
    "speed = np.array([3.,5., 8., 6., 4., 3., 2.])  #meters/second\n",
    "temperature = np.array([280., 283., 284., 287., 288., 286., 287.])  # Kelvins\n",
    "```\n",
    "\n",
    "Write python code that would use `np.logical_and` to find and print the times at which the object was moving\n",
    "faster than 3 m/s and was warmer than 283 K."
   ]
  },
  {
   "cell_type": "code",
   "execution_count": 3,
   "id": "3a0e2c29",
   "metadata": {},
   "outputs": [
    {
     "name": "stdout",
     "output_type": "stream",
     "text": [
      "[30 40 50]\n"
     ]
    }
   ],
   "source": [
    "import numpy as np\n",
    "time = np.array([10, 20, 30, 40, 50, 60, 70])  # seconds\n",
    "speed = np.array([3.,5., 8., 6., 4., 3., 2.])  #meters/second\n",
    "temperature = np.array([280., 283., 284., 287., 288., 286., 287.])  # Kelvins\n",
    "hit = np.logical_and(speed > 3., temperature > 283.)\n",
    "print(time[hit])"
   ]
  },
  {
   "cell_type": "markdown",
   "id": "ae62ea30",
   "metadata": {},
   "source": [
    "## Question 3 (8 points)"
   ]
  },
  {
   "cell_type": "markdown",
   "id": "4d4dbdc0",
   "metadata": {},
   "source": [
    "The Fibonacci sequence $F_n$ is the sequence where each number in the sequence is the sum of its two preceeding numbers, where the first two numbers are:  \n",
    "\n",
    "\n",
    "$$\n",
    "F_{0}=0, \\quad F_{1}=1\n",
    "$$\n",
    "\n",
    "For example, the first few numbers in the sequence are: \n",
    "$$ F_n = [0, 1, 1, 2, 3, 5, 8, 13, 21, ...]$$\n",
    "\n",
    "and\n",
    "\n",
    "$$\n",
    "F_{n}=F_{n-1}+F_{n-2}\n",
    "$$\n",
    "\n",
    "for $n>1$.\n",
    "\n",
    "\n",
    "Below we've provided a code that uses a for loop to calculate the Fibonacci sequence to a sequence length of $N$ (i.e., $N$ numbers). There are 4 distinct types of bugs (you might decide that one type appears more than once, depending on your choice of fixes). Circle each bug in the code below and correct them in your own copy.  If the same type of bug appears more than once, correct it everywhere it appears. 1 point per bug type identified, and 1 point for correction. (8 points). \n",
    "\n",
    "```\n",
    "fibs = [0, 1]  # you can assume this line of code is ok.\n",
    "n = 10.\n",
    "\n",
    "for i in range(n-1):\n",
    "     append.fibs((fibs[-1] + fibs[0])) \n",
    "\n",
    "print(fibs)\n",
    "```"
   ]
  },
  {
   "cell_type": "code",
   "execution_count": 4,
   "id": "466b0d4d",
   "metadata": {},
   "outputs": [
    {
     "name": "stdout",
     "output_type": "stream",
     "text": [
      "[0, 1, 1, 2, 3, 5, 8, 13, 21, 34]\n"
     ]
    }
   ],
   "source": [
    "# solution  -- note that you start with len(fibs) == 2\n",
    "# which means your for loop needs to add 8 values\n",
    "# 0, n-2 or 1, n-1 or 2,n  will all work\n",
    "\n",
    "fibs = [0, 1]  \n",
    "n = 10  # BUG 1: remove the . so it's not a float.\n",
    "\n",
    "for i in range(n-2):  # BUG 2 need to stop 2 before end\n",
    "    # append.fibs(fibs[-1] + fibs[0])  # BUG 3: should be fibs.append()\n",
    "    fibs.append(fibs[-1] + fibs[-2])  # BUG 4: add last two in sequence\n",
    "    # or with range(n-2)\n",
    "    #fibs.append(fibs[i+1] + fibs[i]) \n",
    "    # or with range(1,n-1)\n",
    "    # fibs.append(fibs[i] + fibs[i-1])\n",
    "    # or with range(2,n)\n",
    "    # fibs.append(fibs[i-1] + fibs[i-2])\n",
    "    \n",
    "    \n",
    "\n",
    "\n",
    "print(fibs)"
   ]
  },
  {
   "cell_type": "markdown",
   "id": "6bf53635",
   "metadata": {},
   "source": [
    "## Question 4  (6 pts)\n",
    "\n",
    "a) (2 pts) What is the value of `a` after executing the code block below? Explain why.\n",
    "\n",
    "```\n",
    "a = 7\n",
    "if a > 1:\n",
    "    a += 3\n",
    "elif a > 3:\n",
    "    a += 2\n",
    "    if a >= 10:\n",
    "        a /= 2\n",
    "```"
   ]
  },
  {
   "cell_type": "code",
   "execution_count": 5,
   "id": "9632fb77",
   "metadata": {},
   "outputs": [
    {
     "name": "stdout",
     "output_type": "stream",
     "text": [
      "10\n"
     ]
    }
   ],
   "source": [
    "# solution\n",
    "\n",
    "\n",
    "a = 7\n",
    "if a > 1:\n",
    "    a += 3\n",
    "elif a > 3:\n",
    "    a += 2\n",
    "    if a >= 10:\n",
    "        a /= 2\n",
    "print(a)"
   ]
  },
  {
   "cell_type": "markdown",
   "id": "fbd183bc",
   "metadata": {},
   "source": [
    "b) (2 pts)  What is printed when the following code is run and what is the final value (or values) contained in ```b```? \n",
    "\n",
    "```\n",
    "a = [7, 3, 9, 2]\n",
    "for i in range(2): \n",
    "    b = a[i] * a[i+1]\n",
    "    print (b)\n",
    "```"
   ]
  },
  {
   "cell_type": "code",
   "execution_count": 6,
   "id": "ebb890ae",
   "metadata": {},
   "outputs": [
    {
     "name": "stdout",
     "output_type": "stream",
     "text": [
      "21\n",
      "27\n"
     ]
    }
   ],
   "source": [
    "# solution\n",
    "\n",
    "\n",
    "a = [7, 3, 9, 2]\n",
    "for i in range(2): \n",
    "    b = a[i] * a[i+1]\n",
    "    print (b)"
   ]
  },
  {
   "cell_type": "markdown",
   "id": "7fae98fc",
   "metadata": {},
   "source": [
    "c) (2 pts) What are the outputs of each of the following print statements?  If the output would be an error. message, explain the cause of the error\n",
    "\n",
    "```\n",
    "list1 = ['abcd', 786, 1.68, 'anya']\n",
    "print(list1)\n",
    "print('My height is ' + list1[2] + 'metres.')\n",
    "```"
   ]
  },
  {
   "cell_type": "code",
   "execution_count": 7,
   "id": "de935cd2",
   "metadata": {},
   "outputs": [
    {
     "name": "stdout",
     "output_type": "stream",
     "text": [
      "['abcd', 786, 1.68, 'anya']\n",
      "can only concatenate str (not \"float\") to str\n"
     ]
    }
   ],
   "source": [
    "\n",
    "# solution\n",
    "\n",
    "list1 = ['abcd', 786, 1.68, 'anya']\n",
    "print(list1)\n",
    "try:\n",
    "    print('My height is ' + list1[2] + 'metres.')\n",
    "except TypeError as ex:\n",
    "    print(ex)\n",
    "    "
   ]
  },
  {
   "cell_type": "markdown",
   "id": "b90a0d40",
   "metadata": {},
   "source": [
    "## Question 5 (4 pts + 2 BONUS)"
   ]
  },
  {
   "cell_type": "markdown",
   "id": "8c0e1a29",
   "metadata": {},
   "source": [
    "a) (1 pt) What is the shape of the following numpy array? Provide your answer as a tuple: (rows, cols).  (1 point)"
   ]
  },
  {
   "cell_type": "code",
   "execution_count": 8,
   "id": "a7006cb1",
   "metadata": {},
   "outputs": [],
   "source": [
    "heights = np.arange(0, 20).reshape(10,2)"
   ]
  },
  {
   "cell_type": "code",
   "execution_count": 9,
   "id": "54eadce2",
   "metadata": {},
   "outputs": [
    {
     "name": "stdout",
     "output_type": "stream",
     "text": [
      "heights.shape=(10, 2)\n"
     ]
    }
   ],
   "source": [
    "print(f\"{heights.shape=}\")"
   ]
  },
  {
   "cell_type": "markdown",
   "id": "77a7b6a7",
   "metadata": {},
   "source": [
    " \n",
    " \n",
    " b) (1 pt) In words, what does the following ```for``` loop accomplish? (1 point)\n",
    " ```\n",
    "heights = np.arange(0, 20).reshape(10,2)\n",
    "new_heights = []\n",
    "for height in heights.flatten(): \n",
    "    if height%2 != 0:\n",
    "        new_heights.append(height)             \n",
    " ```"
   ]
  },
  {
   "cell_type": "markdown",
   "id": "fe2b2e64",
   "metadata": {},
   "source": [
    "creates a list news_heights and fills it with the  odd heights"
   ]
  },
  {
   "cell_type": "markdown",
   "id": "4c8d467a",
   "metadata": {},
   "source": [
    " \n",
    " \n",
    " c) (1 pt) How many numbers are in `new_heights`? \n",
    " \n",
    "10\n",
    " \n",
    " d)(1 pt)  What is the type of the variable `new_heights`?  \n",
    " \n",
    "list\n",
    " \n",
    " e) (BONUS: 2 pts) In one line of code total, make a new variable called even_heights which only contains\n",
    " the even values  in heights, and make even_heights a numpy array."
   ]
  },
  {
   "cell_type": "code",
   "execution_count": 10,
   "id": "a1b7c695",
   "metadata": {},
   "outputs": [
    {
     "data": {
      "text/plain": [
       "array([ 4,  6,  8, 10, 12, 14, 16, 18, 20, 22, 24])"
      ]
     },
     "execution_count": 10,
     "metadata": {},
     "output_type": "execute_result"
    }
   ],
   "source": [
    "import numpy as np\n",
    "np.linspace(4,25,6)\n",
    "np.arange(4,26,2)"
   ]
  },
  {
   "cell_type": "code",
   "execution_count": 11,
   "id": "4d8fa97c",
   "metadata": {},
   "outputs": [
    {
     "name": "stdout",
     "output_type": "stream",
     "text": [
      "[ 0  2  4  6  8 10 12 14 16 18]\n"
     ]
    }
   ],
   "source": [
    "heights = np.arange(0, 20).reshape(10,2)\n",
    "even_heights = heights[heights % 2 == 0]\n",
    "print(even_heights)"
   ]
  },
  {
   "cell_type": "markdown",
   "id": "9c2dad0b",
   "metadata": {},
   "source": [
    "## Question 6 (4 points)\n",
    "\n",
    "What will be printed to the screen as a result of running each of the following code snippets? Show any work.  One point per question."
   ]
  },
  {
   "cell_type": "markdown",
   "id": "f7593c2f",
   "metadata": {},
   "source": [
    "(a) `print(math.ceil(np.pi))`"
   ]
  },
  {
   "cell_type": "code",
   "execution_count": 12,
   "id": "6fb87c35",
   "metadata": {},
   "outputs": [
    {
     "name": "stdout",
     "output_type": "stream",
     "text": [
      "4\n"
     ]
    }
   ],
   "source": [
    "import math\n",
    "print(math.ceil(np.pi))"
   ]
  },
  {
   "cell_type": "markdown",
   "id": "60a6f121",
   "metadata": {},
   "source": [
    "(b) `print(f'My new number is {int(100*np.pi)}')`"
   ]
  },
  {
   "cell_type": "code",
   "execution_count": 13,
   "id": "9023bef9",
   "metadata": {},
   "outputs": [
    {
     "name": "stdout",
     "output_type": "stream",
     "text": [
      "My new number is 314\n"
     ]
    }
   ],
   "source": [
    "print(f'My new number is {int(100*np.pi)}')"
   ]
  },
  {
   "cell_type": "markdown",
   "id": "02945b54",
   "metadata": {},
   "source": [
    "(c\\)-(d) are based on the following lines of code\n",
    "``` \n",
    "    a = 6+3.1\n",
    "    b = -1\n",
    "    c = 0.\n",
    "    d = 2\n",
    "    e = a*b+c*d\n",
    "    f = a*c\n",
    "```\n",
    "(c\\) `print(f'e={e}')`"
   ]
  },
  {
   "cell_type": "code",
   "execution_count": 14,
   "id": "06a0e62b",
   "metadata": {},
   "outputs": [
    {
     "name": "stdout",
     "output_type": "stream",
     "text": [
      "e=-9.1\n"
     ]
    }
   ],
   "source": [
    "a = 6+3.1\n",
    "b = -1\n",
    "c = 0.\n",
    "d = 2\n",
    "e = a*b+c*d\n",
    "f = a*c\n",
    "print(f'e={e}')"
   ]
  },
  {
   "cell_type": "markdown",
   "id": "1b10915b",
   "metadata": {},
   "source": [
    "(d) `print(f'The type of f is {type(f)}')`"
   ]
  },
  {
   "cell_type": "code",
   "execution_count": 15,
   "id": "9329c84a",
   "metadata": {},
   "outputs": [
    {
     "name": "stdout",
     "output_type": "stream",
     "text": [
      "The type of f is <class 'float'>\n"
     ]
    }
   ],
   "source": [
    "print(f'The type of f is {type(f)}')"
   ]
  },
  {
   "cell_type": "markdown",
   "id": "3f90f06b",
   "metadata": {},
   "source": [
    "## Question 7 (2 points)"
   ]
  },
  {
   "cell_type": "markdown",
   "id": "580b1809",
   "metadata": {},
   "source": [
    "What is printed to the screen after running this code? 1 pt per question.\n",
    "\n",
    "```\n",
    "x1 = np.arange(1,10)\n",
    "y1 = np.arange(100,1000,100)\n",
    "i1 = -1*x1>-5\n",
    "i2 = y1==900 \n",
    "z3=y1[np.logical_or(i1,i2)]\n",
    "z4=x1[np.logical_and(i1,i2)]\n",
    "```"
   ]
  },
  {
   "cell_type": "markdown",
   "id": "288a8fb3",
   "metadata": {},
   "source": [
    "(a) `print(f'z3 = {z3}')`"
   ]
  },
  {
   "cell_type": "code",
   "execution_count": 16,
   "id": "bc078a17",
   "metadata": {},
   "outputs": [
    {
     "name": "stdout",
     "output_type": "stream",
     "text": [
      "[ True  True  True  True False False False False False]\n",
      "[False False False False False False False False  True]\n",
      "z3 = [100 200 300 400 900]\n"
     ]
    }
   ],
   "source": [
    "x1 = np.arange(1,10)\n",
    "y1 = np.arange(100,1000,100)\n",
    "i1 = -1*x1>-5\n",
    "print(i1)\n",
    "i2 = y1==900 \n",
    "print(i2)\n",
    "z3=y1[np.logical_or(i1,i2)]\n",
    "z4=x1[np.logical_and(i1,i2)]\n",
    "print(f'z3 = {z3}')"
   ]
  },
  {
   "cell_type": "markdown",
   "id": "43f3bdf2",
   "metadata": {},
   "source": [
    "(b) `print(f'z4 = {z4}')`"
   ]
  },
  {
   "cell_type": "code",
   "execution_count": 17,
   "id": "1f4709d3",
   "metadata": {},
   "outputs": [
    {
     "name": "stdout",
     "output_type": "stream",
     "text": [
      "z4 = []\n"
     ]
    }
   ],
   "source": [
    "print(f'z4 = {z4}')"
   ]
  }
 ],
 "metadata": {
  "jupytext": {
   "cell_metadata_filter": "all",
   "formats": "ipynb,md:myst",
   "notebook_metadata_filter": "all,-language_info,-toc,-latex_envs",
   "text_representation": {
    "extension": ".md",
    "format_name": "myst",
    "format_version": 0.13,
    "jupytext_version": "1.11.5"
   }
  },
  "kernelspec": {
   "display_name": "Python 3 (ipykernel)",
   "language": "python",
   "name": "python3"
  },
  "language_info": {
   "codemirror_mode": {
    "name": "ipython",
    "version": 3
   },
   "file_extension": ".py",
   "mimetype": "text/x-python",
   "name": "python",
   "nbconvert_exporter": "python",
   "pygments_lexer": "ipython3",
   "version": "3.8.0"
  },
  "source_map": [
   15,
   19,
   33,
   46,
   53,
   86,
   95,
   103,
   117,
   126,
   130,
   163,
   187,
   203,
   217,
   228,
   238,
   248,
   261,
   265,
   269,
   275,
   279,
   292,
   296,
   311,
   319,
   325,
   331,
   335,
   340,
   344,
   348,
   361,
   371,
   375,
   379,
   383,
   396,
   400,
   412,
   416
  ]
 },
 "nbformat": 4,
 "nbformat_minor": 5
}