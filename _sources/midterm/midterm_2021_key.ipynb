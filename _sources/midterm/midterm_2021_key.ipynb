{
 "cells": [
  {
   "cell_type": "markdown",
   "id": "a472a4d9",
   "metadata": {},
   "source": [
    "# e211 2021t1 midterm solutions"
   ]
  },
  {
   "cell_type": "markdown",
   "id": "18d6e4a8",
   "metadata": {},
   "source": [
    "Name (Last, First):\n",
    "\\_\\_\\_\\_\\_\\_\\_\\_\\_\\_\\_\\_\\_\\_\\_\\_\\_\\_\\_\\_\\_\\_\\_\\_\\_\\_\\_\\_\\_\\_\\_\\_\\_\\_\n",
    "\n",
    "Student Number:\n",
    "\\_\\_\\_\\_\\_\\_\\_\\_\\_\\_\\_\\_\\_\\_\\_\\_\\_\\_\\_\\_\\_\\_\\_\\_\\_\\_\\_\\_\\_\\_\\_\\_\n",
    "\n",
    "Signature:\n",
    "\\_\\_\\_\\_\\_\\_\\_\\_\\_\\_\\_\\_\\_\\_\\_\\_\\_\\_\\_\\_\\_\\_\\_\\_\\_\\_\\_\\_\\_\\_\\_\\_\n",
    "\n",
    "In-class Group:\n",
    "\\_\\_\\_\\_\\_"
   ]
  },
  {
   "cell_type": "markdown",
   "id": "0929ea38",
   "metadata": {},
   "source": [
    "The exam is open-book, open-notes, but NO electronic accessories (e.g., calculators, phone, laptop, python, google, etc) are allowed.   \n",
    "\n",
    "**This exam has 7 questions.** Complete all the questions.  The marks available for each question are indicated. The total number of marks available in this exam is 37 (plus 2 bonus). As a rough guide, you should expect to spend about 1 minute per mark.  \n",
    "\n",
    "**SHOW YOUR WORK** and/or your reasoning as well as \"the answer\" - this allows us to assign something other than full or zero marks for a question.\n",
    "\n",
    "For all questions you can assume that ```numpy``` and any other required packages have been imported, e.g.,\n",
    "``` import numpy as np``` has been executed.\n",
    "\n",
    "You will have 50 minutes to do the exam individually.  We will then collect your individual responses and you will have 20 minutes to do it in your group."
   ]
  },
  {
   "cell_type": "markdown",
   "id": "6670bb73",
   "metadata": {},
   "source": [
    "## Question 1  (5 points)\n",
    "\n",
    "An instrument that measures wind speed records the following data.  Note that np.isnan is a function\n",
    "that returns ```True``` if a floating point number is np.nan, ```False``` if not."
   ]
  },
  {
   "cell_type": "code",
   "execution_count": null,
   "id": "41af4994",
   "metadata": {},
   "outputs": [],
   "source": [
    "import numpy as np\n",
    "vx = np.array([12, 10, 4, 1, 3, 2, 1, np.nan, np.nan, 4, 5, 3])\n",
    "\n",
    "# Write out the values that would print for each of the following slices.\n",
    "\n",
    "#a)  \n",
    "\n",
    "print(f\"a) {vx[:4]=}\")\n",
    "\n",
    "\n",
    "\n",
    "# b) \n",
    "\n",
    "print(f\"b) {vx[4:9]=}\")\n",
    "\n",
    "\n",
    "\n",
    "# c)\n",
    "\n",
    "print(f\"c) {vx[9:]=}\")\n",
    "\n",
    "\n",
    "# d) \n",
    "\n",
    "print(f\"d) {vx[vx > 8]=}\")\n",
    "\n",
    "\n",
    "# e) \n",
    "\n",
    "print(f\"e) {(vx[np.isnan(vx) == False])=}\")"
   ]
  },
  {
   "cell_type": "markdown",
   "id": "f5f8a524",
   "metadata": {},
   "source": [
    "## Question 2  (8 points)\n",
    "\n",
    "a) (4 pts) The function `np.arange()` creates arrays using arguments `start, stop, step`. The function `np.linspace()` creates arrays using `start, stop, num`, where `num` is the number of elements in the array. Using each method, write \n",
    "the python command that would create the following array (i.e. write 2 lines of code that produce the same output):  \n",
    "\n",
    "  [4,8,12,16,20,24]"
   ]
  },
  {
   "cell_type": "code",
   "execution_count": null,
   "id": "072c141b",
   "metadata": {},
   "outputs": [],
   "source": [
    "# soln\n",
    "use_arange = np.arange(4,25,4) # 25 can be any number larger than 24\n",
    "use_linspace = np.linspace(4,24,6)\n",
    "\n",
    "print(f\"using arange:   {use_arange}\\nusing linspace: {use_linspace}\")"
   ]
  },
  {
   "cell_type": "markdown",
   "id": "bbf4e336",
   "metadata": {},
   "source": [
    "b) (4 pts) Suppose you simultaneosly measure the speed and temperture of an object over time, and get the following\n",
    "data points:\n",
    "\n",
    "```\n",
    "time = [10, 20, 30, 40, 50, 60, 70]  # seconds\n",
    "speed = np.array([3.,5., 8., 6., 4., 3., 2.])  #meters/second\n",
    "temperature = np.array([280., 283., 284., 287., 288., 286., 287.])  # Kelvins\n",
    "```\n",
    "\n",
    "Write python code that would use `np.logical_and` to find and print the times at which the object was moving\n",
    "faster than 3 m/s and was warmer than 283 K."
   ]
  },
  {
   "cell_type": "code",
   "execution_count": null,
   "id": "537cee22",
   "metadata": {},
   "outputs": [],
   "source": [
    "import numpy as np\n",
    "time = np.array([10, 20, 30, 40, 50, 60, 70])  # seconds\n",
    "speed = np.array([3.,5., 8., 6., 4., 3., 2.])  #meters/second\n",
    "temperature = np.array([280., 283., 284., 287., 288., 286., 287.])  # Kelvins\n",
    "hit = np.logical_and(speed > 3., temperature > 283.)\n",
    "print(time[hit])"
   ]
  },
  {
   "cell_type": "markdown",
   "id": "88c87ddb",
   "metadata": {},
   "source": [
    "## Question 3 (8 points)"
   ]
  },
  {
   "cell_type": "markdown",
   "id": "2c9caaa7",
   "metadata": {},
   "source": [
    "The Fibonacci sequence $F_n$ is the sequence where each number in the sequence is the sum of its two preceeding numbers, where the first two numbers are:  \n",
    "\n",
    "\n",
    "$$\n",
    "F_{0}=0, \\quad F_{1}=1\n",
    "$$\n",
    "\n",
    "For example, the first few numbers in the sequence are: \n",
    "$$ F_n = [0, 1, 1, 2, 3, 5, 8, 13, 21, ...]$$\n",
    "\n",
    "and\n",
    "\n",
    "$$\n",
    "F_{n}=F_{n-1}+F_{n-2}\n",
    "$$\n",
    "\n",
    "for $n>1$.\n",
    "\n",
    "\n",
    "Below we've provided a code that uses a for loop to calculate the Fibonacci sequence to a sequence length of $N$ (i.e., $N$ numbers). There are 4 distinct types of bugs (you might decide that one type appears more than once, depending on your choice of fixes). Circle each bug in the code below and correct them in your own copy.  If the same type of bug appears more than once, correct it everywhere it appears. 1 point per bug type identified, and 1 point for correction. (8 points). \n",
    "\n",
    "```\n",
    "fibs = [0, 1]  # you can assume this line of code is ok.\n",
    "n = 10.\n",
    "\n",
    "for i in range(n-1):\n",
    "     append.fibs((fibs[-1] + fibs[0])) \n",
    "\n",
    "print(fibs)\n",
    "```"
   ]
  },
  {
   "cell_type": "code",
   "execution_count": null,
   "id": "e498e4f4",
   "metadata": {},
   "outputs": [],
   "source": [
    "# solution  -- note that you start with len(fibs) == 2\n",
    "# which means your for loop needs to add 8 values\n",
    "# 0, n-2 or 1, n-1 or 2,n  will all work\n",
    "\n",
    "fibs = [0, 1]  \n",
    "n = 10  # BUG 1: remove the . so it's not a float.\n",
    "\n",
    "for i in range(n-2):  # BUG 2 need to stop 2 before end\n",
    "    # append.fibs(fibs[-1] + fibs[0])  # BUG 3: should be fibs.append()\n",
    "    fibs.append(fibs[-1] + fibs[-2])  # BUG 4: add last two in sequence\n",
    "    # or with range(n-2)\n",
    "    #fibs.append(fibs[i+1] + fibs[i]) \n",
    "    # or with range(1,n-1)\n",
    "    # fibs.append(fibs[i] + fibs[i-1])\n",
    "    # or with range(2,n)\n",
    "    # fibs.append(fibs[i-1] + fibs[i-2])\n",
    "    \n",
    "    \n",
    "\n",
    "\n",
    "print(fibs)"
   ]
  },
  {
   "cell_type": "markdown",
   "id": "f62c3b21",
   "metadata": {},
   "source": [
    "## Question 4  (6 pts)\n",
    "\n",
    "a) (2 pts) What is the value of `a` after executing the code block below? Explain why.\n",
    "\n",
    "```\n",
    "a = 7\n",
    "if a > 1:\n",
    "    a += 3\n",
    "elif a > 3:\n",
    "    a += 2\n",
    "    if a >= 10:\n",
    "        a /= 2\n",
    "```"
   ]
  },
  {
   "cell_type": "code",
   "execution_count": null,
   "id": "bf4d1e17",
   "metadata": {},
   "outputs": [],
   "source": [
    "# solution\n",
    "\n",
    "\n",
    "a = 7\n",
    "if a > 1:\n",
    "    a += 3\n",
    "elif a > 3:\n",
    "    a += 2\n",
    "    if a >= 10:\n",
    "        a /= 2\n",
    "print(a)"
   ]
  },
  {
   "cell_type": "markdown",
   "id": "48aba994",
   "metadata": {},
   "source": [
    "b) (2 pts)  What is printed when the following code is run and what is the final value (or values) contained in ```b```? \n",
    "\n",
    "```\n",
    "a = [7, 3, 9, 2]\n",
    "for i in range(2): \n",
    "    b = a[i] * a[i+1]\n",
    "    print (b)\n",
    "```"
   ]
  },
  {
   "cell_type": "code",
   "execution_count": null,
   "id": "bbc85f6f",
   "metadata": {},
   "outputs": [],
   "source": [
    "# solution\n",
    "\n",
    "\n",
    "a = [7, 3, 9, 2]\n",
    "for i in range(2): \n",
    "    b = a[i] * a[i+1]\n",
    "    print (b)"
   ]
  },
  {
   "cell_type": "markdown",
   "id": "0b59a644",
   "metadata": {},
   "source": [
    "c) (2 pts) What are the outputs of each of the following print statements?  If the output would be an error. message, explain the cause of the error\n",
    "\n",
    "```\n",
    "list1 = ['abcd', 786, 1.68, 'anya']\n",
    "print(list1)\n",
    "print('My height is ' + list1[2] + 'metres.')\n",
    "```"
   ]
  },
  {
   "cell_type": "code",
   "execution_count": null,
   "id": "e1a01966",
   "metadata": {},
   "outputs": [],
   "source": [
    "\n",
    "# solution\n",
    "\n",
    "list1 = ['abcd', 786, 1.68, 'anya']\n",
    "print(list1)\n",
    "try:\n",
    "    print('My height is ' + list1[2] + 'metres.')\n",
    "except TypeError as ex:\n",
    "    print(ex)\n",
    "    "
   ]
  },
  {
   "cell_type": "markdown",
   "id": "a313283c",
   "metadata": {},
   "source": [
    "## Question 5 (4 pts + 2 BONUS)"
   ]
  },
  {
   "cell_type": "markdown",
   "id": "a94544a6",
   "metadata": {},
   "source": [
    "a) (1 pt) What is the shape of the following numpy array? Provide your answer as a tuple: (rows, cols).  (1 point)"
   ]
  },
  {
   "cell_type": "code",
   "execution_count": null,
   "id": "32a09ce6",
   "metadata": {},
   "outputs": [],
   "source": [
    "heights = np.arange(0, 20).reshape(10,2)"
   ]
  },
  {
   "cell_type": "code",
   "execution_count": null,
   "id": "0263d404",
   "metadata": {},
   "outputs": [],
   "source": [
    "print(f\"{heights.shape=}\")"
   ]
  },
  {
   "cell_type": "markdown",
   "id": "4d976f5e",
   "metadata": {},
   "source": [
    " \n",
    " \n",
    " b) (1 pt) In words, what does the following ```for``` loop accomplish? (1 point)\n",
    " ```\n",
    "heights = np.arange(0, 20).reshape(10,2)\n",
    "new_heights = []\n",
    "for height in heights.flatten(): \n",
    "    if height%2 != 0:\n",
    "        new_heights.append(height)             \n",
    " ```"
   ]
  },
  {
   "cell_type": "markdown",
   "id": "76dcf4c7",
   "metadata": {},
   "source": [
    "creates a list news_heights and fills it with the  odd heights"
   ]
  },
  {
   "cell_type": "markdown",
   "id": "50f04a67",
   "metadata": {},
   "source": [
    " \n",
    " \n",
    " c) (1 pt) How many numbers are in `new_heights`? \n",
    " \n",
    "10\n",
    " \n",
    " d)(1 pt)  What is the type of the variable `new_heights`?  \n",
    " \n",
    "list\n",
    " \n",
    " e) (BONUS: 2 pts) In one line of code total, make a new variable called even_heights which only contains\n",
    " the even values  in heights, and make even_heights a numpy array."
   ]
  },
  {
   "cell_type": "code",
   "execution_count": null,
   "id": "0099685b",
   "metadata": {},
   "outputs": [],
   "source": [
    "import numpy as np\n",
    "np.linspace(4,25,6)\n",
    "np.arange(4,26,2)"
   ]
  },
  {
   "cell_type": "code",
   "execution_count": null,
   "id": "27597a8b",
   "metadata": {},
   "outputs": [],
   "source": [
    "heights = np.arange(0, 20).reshape(10,2)\n",
    "even_heights = heights[heights % 2 == 0]\n",
    "print(even_heights)"
   ]
  },
  {
   "cell_type": "markdown",
   "id": "e7e77be5",
   "metadata": {},
   "source": [
    "## Question 6 (4 points)\n",
    "\n",
    "What will be printed to the screen as a result of running each of the following code snippets? Show any work.  One point per question."
   ]
  },
  {
   "cell_type": "markdown",
   "id": "361f7d16",
   "metadata": {},
   "source": [
    "(a) `print(math.ceil(np.pi))`"
   ]
  },
  {
   "cell_type": "code",
   "execution_count": null,
   "id": "092a135d",
   "metadata": {},
   "outputs": [],
   "source": [
    "import math\n",
    "print(math.ceil(np.pi))"
   ]
  },
  {
   "cell_type": "markdown",
   "id": "30f07d7c",
   "metadata": {},
   "source": [
    "(b) `print(f'My new number is {int(100*np.pi)}')`"
   ]
  },
  {
   "cell_type": "code",
   "execution_count": null,
   "id": "68c302d4",
   "metadata": {},
   "outputs": [],
   "source": [
    "print(f'My new number is {int(100*np.pi)}')"
   ]
  },
  {
   "cell_type": "markdown",
   "id": "4e6baab5",
   "metadata": {},
   "source": [
    "(c\\)-(d) are based on the following lines of code\n",
    "``` \n",
    "    a = 6+3.1\n",
    "    b = -1\n",
    "    c = 0.\n",
    "    d = 2\n",
    "    e = a*b+c*d\n",
    "    f = a*c\n",
    "```\n",
    "(c\\) `print(f'e={e}')`"
   ]
  },
  {
   "cell_type": "code",
   "execution_count": null,
   "id": "bf5c535d",
   "metadata": {},
   "outputs": [],
   "source": [
    "a = 6+3.1\n",
    "b = -1\n",
    "c = 0.\n",
    "d = 2\n",
    "e = a*b+c*d\n",
    "f = a*c\n",
    "print(f'e={e}')"
   ]
  },
  {
   "cell_type": "markdown",
   "id": "2f317fb2",
   "metadata": {},
   "source": [
    "(d) `print(f'The type of f is {type(f)}')`"
   ]
  },
  {
   "cell_type": "code",
   "execution_count": null,
   "id": "da71b298",
   "metadata": {},
   "outputs": [],
   "source": [
    "print(f'The type of f is {type(f)}')"
   ]
  },
  {
   "cell_type": "markdown",
   "id": "f6dc1367",
   "metadata": {},
   "source": [
    "## Question 7 (2 points)"
   ]
  },
  {
   "cell_type": "markdown",
   "id": "33de644e",
   "metadata": {},
   "source": [
    "What is printed to the screen after running this code? 1 pt per question.\n",
    "\n",
    "```\n",
    "x1 = np.arange(1,10)\n",
    "y1 = np.arange(100,1000,100)\n",
    "i1 = -1*x1>-5\n",
    "i2 = y1==900 \n",
    "z3=y1[np.logical_or(i1,i2)]\n",
    "z4=x1[np.logical_and(i1,i2)]\n",
    "```"
   ]
  },
  {
   "cell_type": "markdown",
   "id": "4ac66592",
   "metadata": {},
   "source": [
    "(a) `print(f'z3 = {z3}')`"
   ]
  },
  {
   "cell_type": "code",
   "execution_count": null,
   "id": "83cbc8de",
   "metadata": {},
   "outputs": [],
   "source": [
    "x1 = np.arange(1,10)\n",
    "y1 = np.arange(100,1000,100)\n",
    "i1 = -1*x1>-5\n",
    "print(i1)\n",
    "i2 = y1==900 \n",
    "print(i2)\n",
    "z3=y1[np.logical_or(i1,i2)]\n",
    "z4=x1[np.logical_and(i1,i2)]\n",
    "print(f'z3 = {z3}')"
   ]
  },
  {
   "cell_type": "markdown",
   "id": "2896f78f",
   "metadata": {},
   "source": [
    "(b) `print(f'z4 = {z4}')`"
   ]
  },
  {
   "cell_type": "code",
   "execution_count": null,
   "id": "64599477",
   "metadata": {},
   "outputs": [],
   "source": [
    "print(f'z4 = {z4}')"
   ]
  }
 ],
 "metadata": {
  "jupytext": {
   "cell_metadata_filter": "all",
   "formats": "ipynb,md:myst",
   "notebook_metadata_filter": "all,-language_info,-toc,-latex_envs",
   "text_representation": {
    "extension": ".md",
    "format_name": "myst",
    "format_version": 0.13,
    "jupytext_version": "1.11.5"
   }
  },
  "kernelspec": {
   "display_name": "Python 3 (ipykernel)",
   "language": "python",
   "name": "python3"
  },
  "source_map": [
   15,
   19,
   33,
   46,
   53,
   86,
   95,
   103,
   117,
   126,
   130,
   163,
   187,
   203,
   217,
   228,
   238,
   248,
   261,
   265,
   269,
   275,
   279,
   292,
   296,
   311,
   319,
   325,
   331,
   335,
   340,
   344,
   348,
   361,
   371,
   375,
   379,
   383,
   396,
   400,
   412,
   416
  ]
 },
 "nbformat": 4,
 "nbformat_minor": 5
}