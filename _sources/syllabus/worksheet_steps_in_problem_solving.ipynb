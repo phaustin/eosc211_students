{
 "cells": [
  {
   "cell_type": "markdown",
   "id": "f305b196",
   "metadata": {},
   "source": [
    "# Steps In Problem Solving\n",
    "\n",
    "## EOSC 211\n",
    "\n",
    "**Week 2 Day 1**\n",
    "\n",
    "**Learning Objective:** Practice the steps in problem solving using earthquake data.\n",
    "\n",
    "<img src=\"quakemap.png\" width=\"500\">"
   ]
  },
  {
   "cell_type": "markdown",
   "id": "75f4cdb5",
   "metadata": {},
   "source": [
    "### Question 1\n",
    "\n",
    "**Write down the 3 steps in algorithm design mentioned in the text book OR write down some steps you think will be common to problem solving with python (you might have more than 3 steps):**"
   ]
  },
  {
   "cell_type": "markdown",
   "id": "38bf5e3e",
   "metadata": {},
   "source": [
    "1) \n",
    "\n",
    "2)\n",
    "\n",
    "3)\n",
    "\n",
    "4)"
   ]
  },
  {
   "cell_type": "markdown",
   "id": "864c228e",
   "metadata": {},
   "source": [
    "### Question 2\n",
    "**We want to find the largest earthquake in the Pacific Northwest region in the past year.  The data sheet gives all earthquakes in this area that have a magnitude of at least 4.0.**"
   ]
  },
  {
   "cell_type": "code",
   "execution_count": 1,
   "id": "4b5ab283",
   "metadata": {},
   "outputs": [
    {
     "ename": "ModuleNotFoundError",
     "evalue": "No module named 'e211_lib'",
     "output_type": "error",
     "traceback": [
      "\u001b[0;31m---------------------------------------------------------------------------\u001b[0m",
      "\u001b[0;31mModuleNotFoundError\u001b[0m                       Traceback (most recent call last)",
      "Input \u001b[0;32mIn [1]\u001b[0m, in \u001b[0;36m<cell line: 1>\u001b[0;34m()\u001b[0m\n\u001b[0;32m----> 1\u001b[0m \u001b[38;5;28;01mfrom\u001b[39;00m \u001b[38;5;21;01me211_lib\u001b[39;00m \u001b[38;5;28;01mimport\u001b[39;00m e211\n\u001b[1;32m      2\u001b[0m e211\u001b[38;5;241m.\u001b[39mshow_earthquake_data()\n",
      "\u001b[0;31mModuleNotFoundError\u001b[0m: No module named 'e211_lib'"
     ]
    }
   ],
   "source": [
    "from e211_lib import e211\n",
    "e211.show_earthquake_data()"
   ]
  },
  {
   "cell_type": "markdown",
   "id": "0b9fa6f6",
   "metadata": {},
   "source": [
    "source: http://www.earthquakescanada.nrcan.gc.ca/\n",
    "\n",
    "**A) We want to design an *algorithm* to find the largest earthquake. Describe in words the *input* and *output* of your algorithm**"
   ]
  },
  {
   "cell_type": "markdown",
   "id": "deefc742",
   "metadata": {},
   "source": [
    "Input:\n",
    "\n",
    "Output:"
   ]
  },
  {
   "cell_type": "markdown",
   "id": "313a3fe8",
   "metadata": {},
   "source": [
    "**B).  Below, document the procedure you went through to get to your answer for the value of the output above.  <br> HINT:**  you need to think about what your brain actually does when it finds the largest # in a list"
   ]
  },
  {
   "cell_type": "markdown",
   "id": "8120be9c",
   "metadata": {},
   "source": [
    "your answer here"
   ]
  },
  {
   "cell_type": "markdown",
   "id": "c12242b5",
   "metadata": {},
   "source": [
    "### Question 3\n",
    "\n",
    "**The following is a *Python* code snippet:**"
   ]
  },
  {
   "cell_type": "code",
   "execution_count": 2,
   "id": "0ee9fe2b",
   "metadata": {},
   "outputs": [],
   "source": [
    "mag1 = 4.9\n",
    "mag2 = 5.3\n",
    "if mag1 > mag2:\n",
    "    max_mag = mag1\n",
    "else:\n",
    "    max_mag = mag2"
   ]
  },
  {
   "cell_type": "markdown",
   "id": "1096da34",
   "metadata": {},
   "source": [
    "**Identify the following:**"
   ]
  },
  {
   "cell_type": "markdown",
   "id": "de818474",
   "metadata": {},
   "source": [
    "A) Variable names:\n",
    "\n",
    "B) Operators:\n",
    "\n",
    "C) Reserved words:\n",
    "\n",
    "D) Special characters:"
   ]
  }
 ],
 "metadata": {
  "jupytext": {
   "formats": "ipynb,md:myst",
   "text_representation": {
    "extension": ".md",
    "format_name": "myst",
    "format_version": 0.13,
    "jupytext_version": "1.10.3"
   }
  },
  "kernelspec": {
   "display_name": "Python 3 (ipykernel)",
   "language": "python",
   "name": "python3"
  },
  "language_info": {
   "codemirror_mode": {
    "name": "ipython",
    "version": 3
   },
   "file_extension": ".py",
   "mimetype": "text/x-python",
   "name": "python",
   "nbconvert_exporter": "python",
   "pygments_lexer": "ipython3",
   "version": "3.9.12"
  },
  "source_map": [
   13,
   25,
   31,
   41,
   46,
   49,
   55,
   61,
   65,
   69,
   75,
   82,
   86
  ]
 },
 "nbformat": 4,
 "nbformat_minor": 5
}