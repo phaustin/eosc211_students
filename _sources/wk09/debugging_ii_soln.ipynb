{
 "cells": [
  {
   "cell_type": "markdown",
   "id": "60c5a063",
   "metadata": {},
   "source": [
    "# Debugging II\n",
    "\n",
    "## EOSC 211\n",
    "\n",
    "**Week 9 Day 2**\n",
    "\n",
    "**Learning Objectives: More practice with**  \n",
    "1.  Dictionaries\n",
    "2.  Functions\n",
    "3.  Debugging"
   ]
  },
  {
   "cell_type": "markdown",
   "id": "2b8bbf00",
   "metadata": {},
   "source": [
    "## Question 1\n",
    "\n",
    "**We have a record of speeds for a moving object (say, a drifter). We  want to see how long the object moves at a constant speed. In particular, we want to write code which will measure the length of time that the speed is less than `maxspd` and greater than `minspd` (call this a “run”). For example, if the speeds are stored in an array: `spd = np.array([5 1 5 5 5 10 5 1 5 5 5 1 2 2 5])` with `minspd=4` and `maxspd=6`, then we have 3 runs of length 1 and 2 runs of length 3, with no other runs. We would want to store this information in another variable in which the i$^{th}$ value was the number of runs of length i, i.e.:**\n",
    "\n",
    "```\n",
    "runs=[3 0 2 0 0 ...]\n",
    "```\n",
    "\n",
    "**Here is some code we have started to write to calculate runs in this way. However, there are 5 small bugs in this code - find and fix them.**"
   ]
  },
  {
   "cell_type": "code",
   "execution_count": 1,
   "id": "7667230f",
   "metadata": {},
   "outputs": [
    {
     "ename": "SyntaxError",
     "evalue": "invalid syntax (3383483938.py, line 19)",
     "output_type": "error",
     "traceback": [
      "\u001b[0;36m  File \u001b[0;32m\"/tmp/ipykernel_11889/3383483938.py\"\u001b[0;36m, line \u001b[0;32m19\u001b[0m\n\u001b[0;31m    for i in range(N)\u001b[0m\n\u001b[0m                     ^\u001b[0m\n\u001b[0;31mSyntaxError\u001b[0m\u001b[0;31m:\u001b[0m invalid syntax\n"
     ]
    }
   ],
   "source": [
    "import numpy as np\n",
    "# debug this code\n",
    "\n",
    "def runlength(spd, minspd, maxspd):\n",
    "    \"\"\"\n",
    "    RUNLENGTH calculates run lengths tatistics\n",
    "\n",
    "    Inputs\n",
    "    spd: a time series (1D numpy array or list) of track speeds\n",
    "    minspd and maxspd: the lower and upper limits of speed for a run\n",
    "\n",
    "    Outputs\n",
    "    runs: an array in which runs[i] is the number of runs of i points.\n",
    "    \"\"\"\n",
    "    N = len(minspd)\n",
    "    runs = np.zeros(N)\n",
    "    runlen = 0\n",
    "    isrun = 0\n",
    "    for i in range(N)\n",
    "        if spd[k] >= minspd and spd[k] <= maxspd:\n",
    "            isrun=True\n",
    "            runlen = runlen+1\n",
    "        elif (spd[k] < minspd or spd[k] > maxspd ) and isrun:\n",
    "            runs[runlen]=runs[runlen]+1\n",
    "            runlen=0\n",
    "            isrun=False\n",
    "    if isrun:\n",
    "        runs[runlen]=runs[runlen]+1\n",
    "    "
   ]
  },
  {
   "cell_type": "code",
   "execution_count": 2,
   "id": "e1cb78ca",
   "metadata": {},
   "outputs": [
    {
     "data": {
      "text/plain": [
       "array([0., 3., 0., 2., 0., 0., 0., 0., 0., 0., 0., 0., 0., 0., 0.])"
      ]
     },
     "execution_count": 2,
     "metadata": {},
     "output_type": "execute_result"
    }
   ],
   "source": [
    "import numpy as np\n",
    "\n",
    "# andrew's soln\n",
    "def runlength(spd, minspd, maxspd):\n",
    "    \"\"\"\n",
    "    RUNLENGTH calculstes run lengths tatistics\n",
    "\n",
    "    Inputs\n",
    "    spd: a time series vector of track speeds\n",
    "    minspd and maxspd: the lower and upper limits of speed for a run\n",
    "\n",
    "    Outputs\n",
    "    runs: an array in which runs[i] is the number of runs of i points.\n",
    "    \"\"\"\n",
    "    N = len(spd)  # should be the length of spd, not minspd\n",
    "    runs = np.zeros(N)\n",
    "    runlen = 0\n",
    "    isrun = False  # this should be a boolean, not an integer\n",
    "    for k in range(N):  # use a consistent index variable, 'i' or 'k', don't forget the colon\n",
    "        if spd[k] >= minspd and spd[k] <= maxspd:\n",
    "            isrun = True\n",
    "            runlen = runlen + 1\n",
    "        elif (spd[k] < minspd or spd[k] > maxspd) and isrun:\n",
    "            runs[runlen] = runs[runlen] + 1\n",
    "            runlen = 0\n",
    "            isrun = False\n",
    "    if isrun:\n",
    "        runs[runlen] = runs[runlen] + 1\n",
    "    return runs  # the function needs a return statement\n",
    "\n",
    "\n",
    "spd = np.array([5, 1, 5, 5, 5, 10, 5, 1, 5, 5, 5, 1, 2, 2, 5])\n",
    "minspd = 4\n",
    "maxspd = 6\n",
    "runlength(spd, minspd, maxspd)\n",
    "\n",
    "# annoying indexing error that includes runs of length 0. rewrite this whole function less matlab-y?"
   ]
  },
  {
   "cell_type": "code",
   "execution_count": 3,
   "id": "6a7f8964",
   "metadata": {},
   "outputs": [
    {
     "data": {
      "text/plain": [
       "{'1': 2, '3': 2, '2': 1}"
      ]
     },
     "execution_count": 3,
     "metadata": {},
     "output_type": "execute_result"
    }
   ],
   "source": [
    "import numpy as np\n",
    "\n",
    "# Catherine's soln\n",
    "def runlength(spd, minspd, maxspd):\n",
    "    \"\"\"\n",
    "    RUNLENGTH calculates run length statistics\n",
    "\n",
    "    Inputs\n",
    "    spd: a time series vector of track speeds\n",
    "    minspd and maxspd: the lower and upper limits of speed for a run\n",
    "\n",
    "    Outputs\n",
    "    runs: a dictionary with runlengths as keywords and # runs as values\n",
    "          only runlengths with a non-zero # runs are included  \n",
    "    \"\"\"\n",
    "    N = len(spd)  # should be the length of spd, not minspd\n",
    "    #runs = np.zeros(N)\n",
    "    runlen = 0\n",
    "    runs_dict = {}   # set up an empty dictionary\n",
    "    isrun = False  # this should be a boolean, not an integer\n",
    "    for speed in spd:  # use a consistent index variable, 'i' or 'k', don't forget the colon\n",
    "        if speed >= minspd and speed <= maxspd:    # CJ pythonic for loop fix\n",
    "            isrun = True\n",
    "            runlen += 1   # CJ small pythonic fix\n",
    "        elif (speed < minspd or speed > maxspd) and isrun:   # CJ pythonic for loop fix\n",
    "            runs_dict[str(runlen)] = runs_dict.get(str(runlen),0) +1   # I want to hear set the new keyword in dictionary if doesn't exist\n",
    "                                          # then set it's value to 1 or increment it if it already existed.\n",
    "            runlen = 0\n",
    "            isrun = False\n",
    "    if isrun:\n",
    "        runs_dict[str(runlen)] = runs_dict.get(str(runlen),0) + 1    # and obviously this will need a fix.\n",
    "    return runs_dict  # the function needs a return statement\n",
    "\n",
    "\n",
    "spd = np.array([5, 1, 5, 5, 5, 10, 5, 1, 5, 5, 5, 1, 2, 2, 5, 5])\n",
    "minspd = 4\n",
    "maxspd = 6\n",
    "runlength(spd, minspd, maxspd)\n",
    "\n",
    "# CJ: I made a couple of edits things c.f. above and also turned into a dictionary. \n",
    "# The dictionary is not \"ordered\" ie # runs by increasing runlength but this doesn't matter\n",
    "# (obvious b/c I added an extra 5 for this test at end of speed array)"
   ]
  }
 ],
 "metadata": {
  "jupytext": {
   "formats": "ipynb,md:myst",
   "text_representation": {
    "extension": ".md",
    "format_name": "myst",
    "format_version": 0.13,
    "jupytext_version": "1.11.4"
   }
  },
  "kernelspec": {
   "display_name": "Python 3 (ipykernel)",
   "language": "python",
   "name": "python3"
  },
  "language_info": {
   "codemirror_mode": {
    "name": "ipython",
    "version": 3
   },
   "file_extension": ".py",
   "mimetype": "text/x-python",
   "name": "python",
   "nbconvert_exporter": "python",
   "pygments_lexer": "ipython3",
   "version": "3.8.0"
  },
  "source_map": [
   13,
   26,
   38,
   70,
   110
  ]
 },
 "nbformat": 4,
 "nbformat_minor": 5
}