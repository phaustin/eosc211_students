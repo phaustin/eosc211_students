{
 "cells": [
  {
   "cell_type": "markdown",
   "id": "de5c1112",
   "metadata": {},
   "source": [
    "# Quiz Week 9:  Debugging with Functions\n",
    "\n",
    "*Name*\n",
    "*Student number*\n",
    "*Group:*\n",
    "\n",
    "\n",
    "## Question 1 \n",
    "\n",
    "Identify and fix the up to 9 bugs (depends how you count them) in the following code.  You can assume the function declaration line has no bugs"
   ]
  },
  {
   "cell_type": "code",
   "execution_count": 1,
   "id": "1c4fa44f",
   "metadata": {
    "lines_to_next_cell": 2
   },
   "outputs": [
    {
     "ename": "SyntaxError",
     "evalue": "invalid syntax (3948385497.py, line 27)",
     "output_type": "error",
     "traceback": [
      "\u001b[0;36m  Input \u001b[0;32mIn [1]\u001b[0;36m\u001b[0m\n\u001b[0;31m    i2,i1,i3,i4 = def lat_lonbounds_to_indices(lons,lats,lon1,lat1,lon2,lat2)\u001b[0m\n\u001b[0m                  ^\u001b[0m\n\u001b[0;31mSyntaxError\u001b[0m\u001b[0;31m:\u001b[0m invalid syntax\n"
     ]
    }
   ],
   "source": [
    "import numpy as np\n",
    "\n",
    "def lat_lonbounds_to_indices(lons,lats,wlon,elon,slat,nlat):\n",
    "\n",
    "    \"\"\"  finds and returns the indices in lat, lon arrays that correspond\n",
    "         to N/S and E/W bounds for a region.\n",
    "         \n",
    "         Note:  arghwere() returns the indices of all the points in the array \n",
    "         for which each condition is true.  See example below.\n",
    "         \n",
    "    \"\"\"\n",
    "    iwest = np.min(np.argwhere(lons>=elon))   \n",
    "    ieast = np.max(np.argwhere(lons<=wlon))\n",
    "    isouth = np.min(np.argwhere(lats>=slat)) \n",
    "    inorth = np.max(np.argwhere(lats<=nlat))\n",
    "                \n",
    "    return iwest,ieast,isouth,inorth\n",
    "                \n",
    "# can assume the next 6 lines are correct.             \n",
    "lon = np.arange(0,360,30)\n",
    "lat = np.arange(-90,91,10)\n",
    "lon1 = 200\n",
    "lon2 = 250\n",
    "lat1 = 0\n",
    "lat2 = 30                \n",
    "                   \n",
    "i2,i1,i3,i4 = def lat_lonbounds_to_indices(lons,lats,lon1,lat1,lon2,lat2) \n",
    "sub_lons = lon[i1:i2+1]   \n",
    "sub_lats = lat[i3:i4+1]"
   ]
  },
  {
   "cell_type": "markdown",
   "id": "bfb8cb9c",
   "metadata": {},
   "source": [
    "```\n",
    "\n",
    "## Question 2\n",
    "\n",
    "In the following version of the code I am hoping to pass my lat, lon bounds as using keyword arguments specified by the dictionary, `lims_dict`.  How would I modify the input arguments to my function now to do this? \n",
    "\n",
    "\n",
    "```\n",
    "lon = np.arange(0,360,30)\n",
    "lat = np.arange(-90,91,10)   \n",
    "lims_dict={\"wlon\":250,\"elon\":300,\"slat\":0,\"nlat\":31}\n",
    "                   \n",
    "i1,i2,i3,i4 = lat_lonbounds_to_indices(*enter your input arguments here*) \n",
    "```"
   ]
  }
 ],
 "metadata": {
  "jupytext": {
   "cell_metadata_filter": "all",
   "notebook_metadata_filter": "-all",
   "text_representation": {
    "extension": ".md",
    "format_name": "myst",
    "format_version": 0.13,
    "jupytext_version": "1.11.5"
   }
  },
  "kernelspec": {
   "display_name": "Python 3 (ipykernel)",
   "language": "python",
   "name": "python3"
  },
  "language_info": {
   "codemirror_mode": {
    "name": "ipython",
    "version": 3
   },
   "file_extension": ".py",
   "mimetype": "text/x-python",
   "name": "python",
   "nbconvert_exporter": "python",
   "pygments_lexer": "ipython3",
   "version": "3.9.12"
  },
  "source_map": [
   14,
   27,
   60
  ]
 },
 "nbformat": 4,
 "nbformat_minor": 5
}