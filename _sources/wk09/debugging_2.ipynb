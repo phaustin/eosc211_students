{
 "cells": [
  {
   "cell_type": "markdown",
   "id": "725439e5",
   "metadata": {},
   "source": [
    "# Debugging II\n",
    "\n",
    "## EOSC 211\n",
    "\n",
    "**Week 9 Day 2**\n",
    "\n",
    "**Learning Objectives:**  \n",
    "??"
   ]
  },
  {
   "cell_type": "markdown",
   "id": "b3e4b740",
   "metadata": {},
   "source": [
    "## Question 1\n",
    "\n",
    "**We have a record of speeds for a moving object (say, a drifter). We  want to see how long the object moves at a constant speed. In particular, we want to write code which will measure the length of time that the speed is less than `maxspd` and greater than `minspd` (call this a “run”). For example, if the speeds are stored in an array: `spd = np.array([5 1 5 5 5 10 5 1 5 5 5 1 2 2 5])` with `minspd=4` and `maxspd=6`, then we have 3 runs of length 1 and 2 runs of length 3, with no other runs. We would want to store this information in another variable in which the i$^{th}$ value was the number of runs of length i, i.e.:**\n",
    "\n",
    "```\n",
    "runs=[3 0 2 0 0 ...]\n",
    "```\n",
    "\n",
    "**Here is some code we have started to write to calculate runs in this way. However, there are 5 small bugs in this code - find and fix them.**"
   ]
  },
  {
   "cell_type": "code",
   "execution_count": 1,
   "id": "dffc7618",
   "metadata": {},
   "outputs": [
    {
     "ename": "SyntaxError",
     "evalue": "invalid syntax (730855488.py, line 19)",
     "output_type": "error",
     "traceback": [
      "\u001b[0;36m  File \u001b[0;32m\"/tmp/ipykernel_570409/730855488.py\"\u001b[0;36m, line \u001b[0;32m19\u001b[0m\n\u001b[0;31m    for i in range(N)\u001b[0m\n\u001b[0m                     ^\u001b[0m\n\u001b[0;31mSyntaxError\u001b[0m\u001b[0;31m:\u001b[0m invalid syntax\n"
     ]
    }
   ],
   "source": [
    "import numpy as np\n",
    "# debug this code\n",
    "\n",
    "def runlength(spd, minspd, maxspd):\n",
    "    \"\"\"\n",
    "    RUNLENGTH calculstes run lengths tatistics\n",
    "\n",
    "    Inputs\n",
    "    spd: a time series vector of track speeds\n",
    "    minspd and maxspd: the lower and upper limits of speed for a run\n",
    "\n",
    "    Outputs\n",
    "    runs: an array in which runs[i] is the number of runs of i points.\n",
    "    \"\"\"\n",
    "    N = len(minspd)\n",
    "    runs = np.zeros(N)\n",
    "    runlen = 0\n",
    "    isrun = 0\n",
    "    for i in range(N)\n",
    "        if spd[k] >= minspd and spd[k] <= maxspd:\n",
    "            isrun=True\n",
    "            runlen = runlen+1\n",
    "        elif (spd[k] < minspd or spd[k] > maxspd ) and isrun:\n",
    "            runs[runlen]=runs[runlen]+1\n",
    "            runlen=0\n",
    "            isrun=False\n",
    "    if isrun:\n",
    "        runs[runlen]=runs[runlen]+1\n",
    "    "
   ]
  },
  {
   "cell_type": "code",
   "execution_count": 2,
   "id": "061f3c4c",
   "metadata": {},
   "outputs": [
    {
     "data": {
      "text/plain": [
       "array([0., 3., 0., 2., 0., 0., 0., 0., 0., 0., 0., 0., 0., 0., 0.])"
      ]
     },
     "execution_count": 2,
     "metadata": {},
     "output_type": "execute_result"
    }
   ],
   "source": [
    "import numpy as np\n",
    "\n",
    "# andrew's soln\n",
    "def runlength(spd, minspd, maxspd):\n",
    "    \"\"\"\n",
    "    RUNLENGTH calculstes run lengths tatistics\n",
    "\n",
    "    Inputs\n",
    "    spd: a time series vector of track speeds\n",
    "    minspd and maxspd: the lower and upper limits of speed for a run\n",
    "\n",
    "    Outputs\n",
    "    runs: an array in which runs[i] is the number of runs of i points.\n",
    "    \"\"\"\n",
    "    N = len(spd)  # should be the length of spd, not minspd\n",
    "    runs = np.zeros(N)\n",
    "    runlen = 0\n",
    "    isrun = False  # this should be a boolean, not an integer\n",
    "    for k in range(N):  # use a consistent index variable, 'i' or 'k', don't forget the colon\n",
    "        if spd[k] >= minspd and spd[k] <= maxspd:\n",
    "            isrun = True\n",
    "            runlen = runlen + 1\n",
    "        elif (spd[k] < minspd or spd[k] > maxspd) and isrun:\n",
    "            runs[runlen] = runs[runlen] + 1\n",
    "            runlen = 0\n",
    "            isrun = False\n",
    "    if isrun:\n",
    "        runs[runlen] = runs[runlen] + 1\n",
    "    return runs  # the function needs a return statement\n",
    "\n",
    "\n",
    "spd = np.array([5, 1, 5, 5, 5, 10, 5, 1, 5, 5, 5, 1, 2, 2, 5])\n",
    "minspd = 4\n",
    "maxspd = 6\n",
    "runlength(spd, minspd, maxspd)\n",
    "\n",
    "# annoying indexing error that includes runs of length 0. rewrite this whole function less matlab-y?"
   ]
  },
  {
   "cell_type": "markdown",
   "id": "ddc1b982",
   "metadata": {},
   "source": [
    "## Question 2\n",
    "\n",
    "**Now, to calculate the mean runlength, we have 3 runs of length 1 and 2 of length 3, so the mean is $(3*1 + 2*3)/(3 + 2)$. This piece of code is supposed to compute the mean runlength, but it doesn’t work. Fix the 3 small bugs.**"
   ]
  },
  {
   "cell_type": "code",
   "execution_count": 3,
   "id": "357425c6",
   "metadata": {},
   "outputs": [],
   "source": [
    "# andrew's soln (incomplete)\n",
    "\n",
    "def mean_run_len(spd, minspd, maxspd):\n",
    "    sumr=0\n",
    "    rbar=0\n",
    "    k = 0 # initialize k\n",
    "    while k in range(N): # change loop structure\n",
    "        rbar = rbar*k + runs(k)\n",
    "        sumr = sumr   + runs(k)\n",
    "        k += 1\n",
    "\n",
    "    rbar = rbar-sumr\n",
    "    return rbar"
   ]
  }
 ],
 "metadata": {
  "jupytext": {
   "formats": "ipynb,md:myst",
   "text_representation": {
    "extension": ".md",
    "format_name": "myst",
    "format_version": 0.13,
    "jupytext_version": "1.10.3"
   }
  },
  "kernelspec": {
   "display_name": "Python 3 (ipykernel)",
   "language": "python",
   "name": "python3"
  },
  "language_info": {
   "codemirror_mode": {
    "name": "ipython",
    "version": 3
   },
   "file_extension": ".py",
   "mimetype": "text/x-python",
   "name": "python",
   "nbconvert_exporter": "python",
   "pygments_lexer": "ipython3",
   "version": "3.8.12"
  },
  "source_map": [
   13,
   24,
   36,
   68,
   106,
   112
  ]
 },
 "nbformat": 4,
 "nbformat_minor": 5
}