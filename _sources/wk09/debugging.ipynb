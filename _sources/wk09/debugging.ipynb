{
 "cells": [
  {
   "cell_type": "markdown",
   "id": "ace31207",
   "metadata": {},
   "source": [
    "# More Functions & Debugging Practice\n",
    "\n",
    "\n",
    "## EOSC 211\n",
    "\n",
    "**Week 9 Day 1**\n",
    "\n",
    "**Learning Objectives:**  \n",
    "1.  Practice with function default arguments, keyword arguments\n",
    "2.  Debugging - more practice with functions, for loops, indexing"
   ]
  },
  {
   "cell_type": "markdown",
   "id": "8eac07a0",
   "metadata": {},
   "source": [
    "## Question 1\n",
    "\n",
    "**Functions with default arguments**\n",
    "\n",
    "How would I complete the following function code such that the following lines of code \n",
    "\n",
    "``` \n",
    "    print(f'The surface gravity is {surfgrav(\"Venus\")} m/s^2')\n",
    "    \n",
    "    print(f'The surface gravity is {surfgrav()} m/s^2')\n",
    "```\n",
    "\n",
    "would print to the screen the surface gravity of Venus followed by the surface gravity of Earth."
   ]
  },
  {
   "cell_type": "code",
   "execution_count": 1,
   "id": "b3ea7fe6",
   "metadata": {},
   "outputs": [],
   "source": [
    "def surfgrav(planet):\n",
    "    \"\"\" computes and returns surface gravity on my favorite inner solar system body\n",
    "        INPUT:  planet/moon choice, default is Earth\n",
    "        OUTPUT:  surface gravity in m/s^2\n",
    "    \"\"\"\n",
    "    G = 6.67e-11   # gravitational constant [units]\n",
    "    \n",
    "    mass = {\"Earth\": 5.972e24, \"Venus\": 4.867e24, \"Mercury\": 3.301e23, \"Moon\": 7.348e22, \"Mars\": 3.390e03}\n",
    "    radius = {\"Earth\": 6.371e06, \"Venus\": 6.0518e06, \"Mercury\": 2.440e06, \"Moon\": 1737e06}\n",
    "    \n",
    "    gsurf = G*mass[planet]/radius[planet]**2"
   ]
  },
  {
   "cell_type": "markdown",
   "id": "8733e114",
   "metadata": {},
   "source": [
    "## Question 2\n",
    "\n",
    "### 2.a\n",
    "What would be the output of the following code:"
   ]
  },
  {
   "cell_type": "code",
   "execution_count": 2,
   "id": "de356335",
   "metadata": {},
   "outputs": [
    {
     "ename": "SyntaxError",
     "evalue": "positional argument follows keyword argument (3866710032.py, line 13)",
     "output_type": "error",
     "traceback": [
      "\u001b[0;36m  Input \u001b[0;32mIn [2]\u001b[0;36m\u001b[0m\n\u001b[0;31m    radius_squared(y=3, 2)\u001b[0m\n\u001b[0m                         ^\u001b[0m\n\u001b[0;31mSyntaxError\u001b[0m\u001b[0;31m:\u001b[0m positional argument follows keyword argument\n"
     ]
    }
   ],
   "source": [
    "import numpy as np\n",
    "\n",
    "\n",
    "def radius_squared(x, y=2):\n",
    "    print(x, y)\n",
    "    r2 = x**2 + y**2\n",
    "    print(r2)\n",
    "        \n",
    "        \n",
    "radius_squared(2, 3)\n",
    "radius_squared(2)\n",
    "radius_squared(y=1, x = 3 )\n",
    "radius_squared(y=3, 2)"
   ]
  },
  {
   "cell_type": "markdown",
   "id": "204029d3",
   "metadata": {},
   "source": [
    "### 2.b\n",
    "\n",
    "Which line number(s) of code will not work and why?"
   ]
  },
  {
   "cell_type": "code",
   "execution_count": 3,
   "id": "e0e52a2c",
   "metadata": {},
   "outputs": [
    {
     "ename": "SyntaxError",
     "evalue": "positional argument follows keyword argument (3638049612.py, line 23)",
     "output_type": "error",
     "traceback": [
      "\u001b[0;36m  Input \u001b[0;32mIn [3]\u001b[0;36m\u001b[0m\n\u001b[0;31m    equilibrium_temp(albedo=0.2, distance=0.6, 1366)        # Line 5\u001b[0m\n\u001b[0m                                                   ^\u001b[0m\n\u001b[0;31mSyntaxError\u001b[0m\u001b[0;31m:\u001b[0m positional argument follows keyword argument\n"
     ]
    }
   ],
   "source": [
    "def equilibrium_temp(F_sun=1366, distance=1, albedo=0.3):\n",
    "    \"\"\"\n",
    "    prints the blackbody equilibrium temperature of a\n",
    "    perfectly emitting planetary body (default values \n",
    "    for Earth-Sun) given inputs:\n",
    "        - F_sun: solar flux from the star [Jm-2s-1].\n",
    "        - distance: distance from the star [AU].\n",
    "        - albedo: planetary albedo.\n",
    "    \"\"\"\n",
    "\n",
    "    sigma = 5.57e-8  # stefan-boltzmann constant [Wm-2deg-4]\n",
    "    # blackbody equilibrium temp:\n",
    "    T_e = (F_sun * (1 - albedo) / (distance ** 2 * 4 * sigma)) ** (\n",
    "        1 / 4\n",
    "    )  \n",
    "    print(f\"Equilibrium temperature is {T_e:.2f} K\")\n",
    "\n",
    "\n",
    "equilibrium_temp()                                      # Line 1\n",
    "equilibrium_temp(F_sun=1366, albedo=0.6, distance=1.2)  # Line 2\n",
    "equilibrium_temp(F=1366, A=0.2, D=0.6)                  # Line 3\n",
    "equilibrium_temp(albedo=0.2, distance=1.1);             # Line 4\n",
    "equilibrium_temp(albedo=0.2, distance=0.6, 1366)        # Line 5"
   ]
  },
  {
   "cell_type": "markdown",
   "id": "2d7114b7",
   "metadata": {},
   "source": [
    "## Question 3\n",
    "\n",
    "**Decide what the code fragment is trying to do, and how to fix the error so it performs the required task.**"
   ]
  },
  {
   "cell_type": "code",
   "execution_count": 4,
   "id": "dfec686e",
   "metadata": {},
   "outputs": [
    {
     "ename": "TypeError",
     "evalue": "rowsum() takes 0 positional arguments but 1 was given",
     "output_type": "error",
     "traceback": [
      "\u001b[0;31m---------------------------------------------------------------------------\u001b[0m",
      "\u001b[0;31mTypeError\u001b[0m                                 Traceback (most recent call last)",
      "Input \u001b[0;32mIn [4]\u001b[0m, in \u001b[0;36m<cell line: 11>\u001b[0;34m()\u001b[0m\n\u001b[1;32m      8\u001b[0m     \u001b[38;5;28;01mfor\u001b[39;00m k \u001b[38;5;129;01min\u001b[39;00m \u001b[38;5;28mrange\u001b[39m(\u001b[38;5;28mlen\u001b[39m(A)):\n\u001b[1;32m      9\u001b[0m         rowsum \u001b[38;5;241m=\u001b[39m rowsum \u001b[38;5;241m+\u001b[39m A[:,k]\n\u001b[0;32m---> 11\u001b[0m \u001b[43mrowsum\u001b[49m\u001b[43m(\u001b[49m\u001b[43mA\u001b[49m\u001b[43m)\u001b[49m\n",
      "\u001b[0;31mTypeError\u001b[0m: rowsum() takes 0 positional arguments but 1 was given"
     ]
    }
   ],
   "source": [
    "import numpy as np\n",
    "A = np.random.rand(10,5) # creates a 10x5 matrix containing random numbers\n",
    "\n",
    "# debug this code\n",
    "\n",
    "def rowsum():\n",
    "    rowsum = 0\n",
    "    for k in range(len(A)):\n",
    "        rowsum = rowsum + A[:,k]\n",
    "        \n",
    "rowsum(A)"
   ]
  },
  {
   "cell_type": "markdown",
   "id": "b8e9b39a",
   "metadata": {},
   "source": [
    "## Question 4\n",
    "\n",
    "**This code is supposed to create a *running standard deviation*. Does it? If it doesn't, state why. If not, what is the problem?**"
   ]
  },
  {
   "cell_type": "code",
   "execution_count": 5,
   "id": "0736d88b",
   "metadata": {},
   "outputs": [],
   "source": [
    "x = np.random.rand(10)\n",
    "y = np.empty_like(x)\n",
    "# debug this code\n",
    "for k in range(len(x)):\n",
    "    y[k] = np.std(x[min(0, k - 3) : max(len(x), k + 3)])"
   ]
  },
  {
   "cell_type": "markdown",
   "id": "5d62025e",
   "metadata": {},
   "source": [
    "**A) What do you think this code is trying to do (be specific). Write down the steps in words**"
   ]
  },
  {
   "cell_type": "markdown",
   "id": "91ac3ebc",
   "metadata": {},
   "source": [
    "your answer here"
   ]
  },
  {
   "cell_type": "markdown",
   "id": "5c01a168",
   "metadata": {},
   "source": [
    "**B) Fix the code to perform the intended operation**"
   ]
  },
  {
   "cell_type": "code",
   "execution_count": 6,
   "id": "6fb11785",
   "metadata": {},
   "outputs": [],
   "source": [
    "# your code here"
   ]
  },
  {
   "cell_type": "markdown",
   "id": "d3f8a345",
   "metadata": {},
   "source": [
    "## Question 5\n",
    "\n",
    "**Below is a list of common types of errors. Define them in your own words**"
   ]
  },
  {
   "cell_type": "markdown",
   "id": "a0e69f50",
   "metadata": {},
   "source": [
    "**A) Off-by-one error**:"
   ]
  },
  {
   "cell_type": "markdown",
   "id": "99b03846",
   "metadata": {},
   "source": [
    "**B) Fencepost error:**"
   ]
  },
  {
   "cell_type": "markdown",
   "id": "229c14ed",
   "metadata": {},
   "source": [
    "## Question 6\n",
    "\n",
    "**What do you see on the screen when you run this code (after fixing the error)?**"
   ]
  },
  {
   "cell_type": "code",
   "execution_count": 7,
   "id": "c9d53174",
   "metadata": {},
   "outputs": [
    {
     "ename": "SyntaxError",
     "evalue": "invalid syntax (4191340243.py, line 5)",
     "output_type": "error",
     "traceback": [
      "\u001b[0;36m  Input \u001b[0;32mIn [7]\u001b[0;36m\u001b[0m\n\u001b[0;31m    if j = 4:\u001b[0m\n\u001b[0m         ^\u001b[0m\n\u001b[0;31mSyntaxError\u001b[0m\u001b[0;31m:\u001b[0m invalid syntax\n"
     ]
    }
   ],
   "source": [
    "x = 5\n",
    "y = 3\n",
    "for j in np.arange(0,5):\n",
    "    y = y-1\n",
    "    if j = 4:\n",
    "        x +=4"
   ]
  },
  {
   "cell_type": "code",
   "execution_count": 8,
   "id": "a8d7e72c",
   "metadata": {},
   "outputs": [],
   "source": [
    "# your code here"
   ]
  }
 ],
 "metadata": {
  "jupytext": {
   "formats": "ipynb,md:myst",
   "text_representation": {
    "extension": ".md",
    "format_name": "myst",
    "format_version": 0.13,
    "jupytext_version": "1.11.5"
   }
  },
  "kernelspec": {
   "display_name": "Python 3 (ipykernel)",
   "language": "python",
   "name": "python3"
  },
  "language_info": {
   "codemirror_mode": {
    "name": "ipython",
    "version": 3
   },
   "file_extension": ".py",
   "mimetype": "text/x-python",
   "name": "python",
   "nbconvert_exporter": "python",
   "pygments_lexer": "ipython3",
   "version": "3.9.12"
  },
  "source_map": [
   13,
   26,
   42,
   54,
   61,
   75,
   81,
   105,
   111,
   123,
   129,
   135,
   139,
   143,
   147,
   149,
   155,
   159,
   163,
   169,
   178
  ]
 },
 "nbformat": 4,
 "nbformat_minor": 5
}