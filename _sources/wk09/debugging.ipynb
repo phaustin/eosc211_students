{
 "cells": [
  {
   "cell_type": "markdown",
   "id": "d867030a",
   "metadata": {},
   "source": [
    "# Debugging\n",
    "\n",
    "## EOSC 211\n",
    "\n",
    "**Week 9 Day 1**\n",
    "\n",
    "**Learning Objectives:**  \n",
    "??"
   ]
  },
  {
   "cell_type": "markdown",
   "id": "9282fe4e",
   "metadata": {},
   "source": [
    "## Question 1\n",
    "\n",
    "**Decide what the code fragment is trying to do, and how to fix the error so it performs the required task.**"
   ]
  },
  {
   "cell_type": "code",
   "execution_count": 1,
   "id": "a6315d28",
   "metadata": {},
   "outputs": [
    {
     "ename": "TypeError",
     "evalue": "rowsum() takes 0 positional arguments but 1 was given",
     "output_type": "error",
     "traceback": [
      "\u001b[0;31m---------------------------------------------------------------------------\u001b[0m",
      "\u001b[0;31mTypeError\u001b[0m                                 Traceback (most recent call last)",
      "\u001b[0;32m/tmp/ipykernel_570372/3356679194.py\u001b[0m in \u001b[0;36m<module>\u001b[0;34m\u001b[0m\n\u001b[1;32m      9\u001b[0m         \u001b[0mrowsum\u001b[0m \u001b[0;34m=\u001b[0m \u001b[0mrowsum\u001b[0m \u001b[0;34m+\u001b[0m \u001b[0mA\u001b[0m\u001b[0;34m[\u001b[0m\u001b[0;34m:\u001b[0m\u001b[0;34m,\u001b[0m\u001b[0mk\u001b[0m\u001b[0;34m]\u001b[0m\u001b[0;34m\u001b[0m\u001b[0;34m\u001b[0m\u001b[0m\n\u001b[1;32m     10\u001b[0m \u001b[0;34m\u001b[0m\u001b[0m\n\u001b[0;32m---> 11\u001b[0;31m \u001b[0mrowsum\u001b[0m\u001b[0;34m(\u001b[0m\u001b[0mA\u001b[0m\u001b[0;34m)\u001b[0m\u001b[0;34m\u001b[0m\u001b[0;34m\u001b[0m\u001b[0m\n\u001b[0m",
      "\u001b[0;31mTypeError\u001b[0m: rowsum() takes 0 positional arguments but 1 was given"
     ]
    }
   ],
   "source": [
    "import numpy as np\n",
    "A = np.random.rand(10,5) # creates a 10x5 matrix containing random numbers\n",
    "\n",
    "# debug this code\n",
    "\n",
    "def rowsum():\n",
    "    rowsum = 0\n",
    "    for k in range(len(A)):\n",
    "        rowsum = rowsum + A[:,k]\n",
    "        \n",
    "rowsum(A)"
   ]
  },
  {
   "cell_type": "code",
   "execution_count": 2,
   "id": "994af059",
   "metadata": {},
   "outputs": [
    {
     "data": {
      "text/plain": [
       "array([7.40518841, 4.52691735, 5.5214048 , 5.90045446, 5.85559648])"
      ]
     },
     "execution_count": 2,
     "metadata": {},
     "output_type": "execute_result"
    }
   ],
   "source": [
    "# andrew's soln\n",
    "\n",
    "def rowsum(arr):\n",
    "    \"\"\"\n",
    "    takes in a numpy array (n,m) arr and returns the sum of each column of the array (m,)\n",
    "    \"\"\"\n",
    "    rowsum = np.zeros(len(arr[0,:])) # create an array with the same number of columns as arr\n",
    "    for k in range(len(arr[0,:])): # loop through all the columns\n",
    "        rowsum[k] = np.sum(arr[:,k])\n",
    "    return rowsum\n",
    "\n",
    "rowsum(A)"
   ]
  },
  {
   "cell_type": "markdown",
   "id": "00b82846",
   "metadata": {},
   "source": [
    "## Question 2\n",
    "\n",
    "**This code is supposed to create a *running standard deviation*. Does it? If it doesn't, state why. If not, what is the problem?**"
   ]
  },
  {
   "cell_type": "code",
   "execution_count": 3,
   "id": "9a7fa6a5",
   "metadata": {},
   "outputs": [],
   "source": [
    "x = np.random.rand(10)\n",
    "y = np.empty_like(x)\n",
    "# debug this code\n",
    "for k in range(len(x)):\n",
    "    y[k] = np.std(x[min(0, k - 3) : max(len(x), k + 3)])"
   ]
  },
  {
   "cell_type": "markdown",
   "id": "62c43420",
   "metadata": {},
   "source": [
    "**A) What do you think this code is trying to do (be specific). Write down the steps in words**"
   ]
  },
  {
   "cell_type": "markdown",
   "id": "74b3b2d3",
   "metadata": {},
   "source": [
    "your answer here"
   ]
  },
  {
   "cell_type": "markdown",
   "id": "492ca5a2",
   "metadata": {},
   "source": [
    "**B) Fix the code to perform the intended operation**"
   ]
  },
  {
   "cell_type": "code",
   "execution_count": 4,
   "id": "01d54d49",
   "metadata": {},
   "outputs": [],
   "source": [
    "# your code here"
   ]
  },
  {
   "cell_type": "code",
   "execution_count": 5,
   "id": "1fb5c6f5",
   "metadata": {},
   "outputs": [
    {
     "data": {
      "text/plain": [
       "array([0.33308627, 0.35306015, 0.33552647, 0.31737427, 0.3273339 ,\n",
       "       0.30672008, 0.27918073, 0.26642331, 0.24708843, 0.2735163 ])"
      ]
     },
     "execution_count": 5,
     "metadata": {},
     "output_type": "execute_result"
    }
   ],
   "source": [
    "# andrew's soln\n",
    "#\n",
    "# this is supposed to call the function np.std (calculate the standard deviation) for x[k-3:k+3],\n",
    "# i.e. the running standard deviation. The min and max function calls handle the cases at the beginning and \n",
    "# end of the array where k-3 is a negative number (which refers to indexes from the end of the array). \n",
    "# the error is that the min and max functions are switched! It should call the GREATER of (0,k-3) and the\n",
    "# LESSER of (len(x),k+3)\n",
    "#\n",
    "\n",
    "for k in range(len(x)):\n",
    "    y[k] = np.std(x[max(0, k - 3) : min(len(x), k + 3)])\n",
    "y"
   ]
  },
  {
   "cell_type": "markdown",
   "id": "3db5699c",
   "metadata": {},
   "source": [
    "## Question 3\n",
    "\n",
    "**Below is a list of common types of errors. Define them in your own words**"
   ]
  },
  {
   "cell_type": "markdown",
   "id": "5ae282b8",
   "metadata": {},
   "source": [
    "**A) Off-by-one error**:"
   ]
  },
  {
   "cell_type": "markdown",
   "id": "eabfa465",
   "metadata": {},
   "source": [
    "**B) Fencepost error:**"
   ]
  },
  {
   "cell_type": "markdown",
   "id": "d36dee89",
   "metadata": {},
   "source": [
    "## Question 4\n",
    "\n",
    "**What do you see on the screen when you run this code (after fixing the error)?**"
   ]
  },
  {
   "cell_type": "code",
   "execution_count": 6,
   "id": "e9512250",
   "metadata": {},
   "outputs": [
    {
     "ename": "SyntaxError",
     "evalue": "invalid syntax (4191340243.py, line 5)",
     "output_type": "error",
     "traceback": [
      "\u001b[0;36m  File \u001b[0;32m\"/tmp/ipykernel_570372/4191340243.py\"\u001b[0;36m, line \u001b[0;32m5\u001b[0m\n\u001b[0;31m    if j = 4:\u001b[0m\n\u001b[0m         ^\u001b[0m\n\u001b[0;31mSyntaxError\u001b[0m\u001b[0;31m:\u001b[0m invalid syntax\n"
     ]
    }
   ],
   "source": [
    "x = 5\n",
    "y = 3\n",
    "for j in np.arange(0,5):\n",
    "    y = y-1\n",
    "    if j = 4:\n",
    "        x +=4"
   ]
  },
  {
   "cell_type": "code",
   "execution_count": 7,
   "id": "531dd5fc",
   "metadata": {},
   "outputs": [],
   "source": [
    "# your code here"
   ]
  },
  {
   "cell_type": "code",
   "execution_count": 8,
   "id": "b8610f8a",
   "metadata": {},
   "outputs": [
    {
     "data": {
      "text/plain": [
       "(9, -1)"
      ]
     },
     "execution_count": 8,
     "metadata": {},
     "output_type": "execute_result"
    }
   ],
   "source": [
    "# andrew's soln\n",
    "x = 5\n",
    "y = 4\n",
    "for j in np.arange(0,5):\n",
    "    y = y-1\n",
    "    if j == 4:\n",
    "        x +=4\n",
    "        \n",
    "x, y"
   ]
  }
 ],
 "metadata": {
  "jupytext": {
   "formats": "ipynb,md:myst",
   "text_representation": {
    "extension": ".md",
    "format_name": "myst",
    "format_version": 0.13,
    "jupytext_version": "1.10.3"
   }
  },
  "kernelspec": {
   "display_name": "Python 3 (ipykernel)",
   "language": "python",
   "name": "python3"
  },
  "language_info": {
   "codemirror_mode": {
    "name": "ipython",
    "version": 3
   },
   "file_extension": ".py",
   "mimetype": "text/x-python",
   "name": "python",
   "nbconvert_exporter": "python",
   "pygments_lexer": "ipython3",
   "version": "3.8.12"
  },
  "source_map": [
   13,
   24,
   30,
   44,
   57,
   63,
   69,
   73,
   77,
   81,
   85,
   98,
   104,
   108,
   112,
   118,
   127,
   131
  ]
 },
 "nbformat": 4,
 "nbformat_minor": 5
}