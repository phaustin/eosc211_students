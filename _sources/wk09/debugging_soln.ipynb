{
 "cells": [
  {
   "cell_type": "markdown",
   "id": "f044d069",
   "metadata": {},
   "source": [
    "# solution: More Functions & Debugging Practice\n",
    "\n",
    "\n",
    "## EOSC 211\n",
    "\n",
    "**Week 9 Day 1**\n",
    "\n",
    "**Learning Objectives:**  \n",
    "1.  Practice with function default arguments, keyword arguments\n",
    "2.  Debugging - more practice with functions, for loops, indexing"
   ]
  },
  {
   "cell_type": "markdown",
   "id": "fcfdee62",
   "metadata": {},
   "source": [
    "## Question 1\n",
    "\n",
    "**Functions with default arguments**\n",
    "\n",
    "How would I complete the following function code such that the following lines of code \n",
    "\n",
    "``` \n",
    "    print(f'The surface gravity is {surfgrav(\"Venus\")} m/s^2')\n",
    "    \n",
    "    print(f'The surface gravity is {surfgrav()} m/s^2')\n",
    "```\n",
    "\n",
    "would print to the screen the surface gravity of Venus followed by the surface gravity of Earth."
   ]
  },
  {
   "cell_type": "code",
   "execution_count": 1,
   "id": "96523a88",
   "metadata": {},
   "outputs": [],
   "source": [
    "def surfgrav(planet):\n",
    "    \"\"\" computes and returns surface gravity on my favorite inner solar system body\n",
    "        INPUT:  planet/moon choice, default is Earth\n",
    "        OUTPUT:  surface gravity in m/s^2\n",
    "    \"\"\"\n",
    "    G = 6.67e-11   # gravitational constant [units]\n",
    "    \n",
    "    mass = {\"Earth\": 5.972e24, \"Venus\": 4.867e24, \"Mercury\": 3.301e23, \"Moon\": 7.348e22, \"Mars\": 3.390e03}\n",
    "    radius = {\"Earth\": 6.371e06, \"Venus\": 6.0518e06, \"Mercury\": 2.440e06, \"Moon\": 1737e06}\n",
    "    \n",
    "    gsurf = G*mass[planet]/radius[planet]**2"
   ]
  },
  {
   "cell_type": "code",
   "execution_count": 2,
   "id": "fe2af460",
   "metadata": {},
   "outputs": [
    {
     "name": "stdout",
     "output_type": "stream",
     "text": [
      "8.86376117923448\n",
      "3.698211166353131\n",
      "1.6244088415332385\n",
      "3.7244185135875956\n",
      "9.813646787366265\n"
     ]
    }
   ],
   "source": [
    "#  Solution\n",
    "def surfgrav(planet=\"Earth\"):    # needs default argument\n",
    "    \"\"\" computes and returns surface gravity on my favorite inner solar system body\n",
    "        INPUT:  planet/moon choice, default is Earth\n",
    "        OUTPUT:  surface gravity in m/s^2\n",
    "    \"\"\"\n",
    "    G = 6.67e-11   # gravitational constant [units]\n",
    "    \n",
    "    mass = {\"Earth\": 5.972e24, \"Venus\": 4.867e24, \"Mercury\": 3.301e23, \"Moon\": 7.348e22, \"Mars\": 6.417e23}\n",
    "    radius = {\"Earth\": 6.371e06, \"Venus\": 6.0518e06, \"Mercury\": 2.440e06, \"Moon\": 1.737e06, \"Mars\": 3.390e06}\n",
    "    \n",
    "    gsurf = G*mass[planet]/radius[planet]**2\n",
    "    \n",
    "    return gsurf  # needs a return statement\n",
    "\n",
    "print(surfgrav(\"Venus\"))\n",
    "print(surfgrav(\"Mercury\"))\n",
    "print(surfgrav(\"Moon\"))\n",
    "print(surfgrav(\"Mars\"))\n",
    "print(surfgrav())"
   ]
  },
  {
   "cell_type": "markdown",
   "id": "7621a6b3",
   "metadata": {},
   "source": [
    "## Question 2\n",
    "\n",
    "### 2.a\n",
    "What would be the output of the following code:"
   ]
  },
  {
   "cell_type": "code",
   "execution_count": 3,
   "id": "3f5cf499",
   "metadata": {},
   "outputs": [
    {
     "ename": "SyntaxError",
     "evalue": "positional argument follows keyword argument (2144764213.py, line 14)",
     "output_type": "error",
     "traceback": [
      "\u001b[0;36m  File \u001b[0;32m\"/var/folders/_k/0f_hlw7x2hq4vtcq0h8bvsm40000gr/T/ipykernel_59936/2144764213.py\"\u001b[0;36m, line \u001b[0;32m14\u001b[0m\n\u001b[0;31m    radius_squared(y=3, 2)\u001b[0m\n\u001b[0m                        ^\u001b[0m\n\u001b[0;31mSyntaxError\u001b[0m\u001b[0;31m:\u001b[0m positional argument follows keyword argument\n"
     ]
    }
   ],
   "source": [
    "# Francis question: \n",
    "import numpy as np\n",
    "\n",
    "\n",
    "def radius_squared(x, y=2):\n",
    "    print(x, y)\n",
    "    r2 = x**2 + y**2\n",
    "    print(r2)\n",
    "        \n",
    "        \n",
    "radius_squared(2, 3)\n",
    "radius_squared(2)\n",
    "radius_squared(y=1, x = 3 )\n",
    "radius_squared(y=3, 2)"
   ]
  },
  {
   "cell_type": "markdown",
   "id": "3a3c93ae",
   "metadata": {},
   "source": [
    "___\n",
    "*Solution:*\n",
    "\n",
    "```\n",
    "> 2 3\n",
    "  13\n",
    "> 2 2\n",
    "  8\n",
    "> 3 1\n",
    "  10\n",
    "> SyntaxError: positional argument follows keyword argument\n",
    "----------------------------------------\n",
    "```"
   ]
  },
  {
   "cell_type": "markdown",
   "id": "1117eb8c",
   "metadata": {},
   "source": [
    "### 2.b\n",
    "\n",
    "\n",
    "Which line number(s) of code will not work and why?"
   ]
  },
  {
   "cell_type": "code",
   "execution_count": 4,
   "id": "0d513dca",
   "metadata": {},
   "outputs": [
    {
     "ename": "SyntaxError",
     "evalue": "positional argument follows keyword argument (3638049612.py, line 23)",
     "output_type": "error",
     "traceback": [
      "\u001b[0;36m  File \u001b[0;32m\"/var/folders/_k/0f_hlw7x2hq4vtcq0h8bvsm40000gr/T/ipykernel_59936/3638049612.py\"\u001b[0;36m, line \u001b[0;32m23\u001b[0m\n\u001b[0;31m    equilibrium_temp(albedo=0.2, distance=0.6, 1366)        # Line 5\u001b[0m\n\u001b[0m                                               ^\u001b[0m\n\u001b[0;31mSyntaxError\u001b[0m\u001b[0;31m:\u001b[0m positional argument follows keyword argument\n"
     ]
    }
   ],
   "source": [
    "def equilibrium_temp(F_sun=1366, distance=1, albedo=0.3):\n",
    "    \"\"\"\n",
    "    prints the blackbody equilibrium temperature of a\n",
    "    perfectly emitting planetary body (default values \n",
    "    for Earth-Sun) given inputs:\n",
    "        - F_sun: solar flux from the star [Jm-2s-1].\n",
    "        - distance: distance from the star [AU].\n",
    "        - albedo: planetary albedo.\n",
    "    \"\"\"\n",
    "\n",
    "    sigma = 5.57e-8  # stefan-boltzmann constant [Wm-2deg-4]\n",
    "    # blackbody equilibrium temp:\n",
    "    T_e = (F_sun * (1 - albedo) / (distance ** 2 * 4 * sigma)) ** (\n",
    "        1 / 4\n",
    "    )  \n",
    "    print(f\"Equilibrium temperature is {T_e:.2f} K\")\n",
    "\n",
    "\n",
    "equilibrium_temp()                                      # Line 1\n",
    "equilibrium_temp(F_sun=1366, albedo=0.6, distance=1.2)  # Line 2\n",
    "equilibrium_temp(F=1366, A=0.2, D=0.6)                  # Line 3\n",
    "equilibrium_temp(albedo=0.2, distance=1.1);             # Line 4\n",
    "equilibrium_temp(albedo=0.2, distance=0.6, 1366)        # Line 5"
   ]
  },
  {
   "cell_type": "markdown",
   "id": "9d730722",
   "metadata": {},
   "source": [
    "___\n",
    "*Solution:*\n",
    "1. Line 3: TypeError: equilibrium_temp() got an unexpected keyword argument 'F'\n",
    "2. Line 5: SyntaxError: positional argument follows keyword argument"
   ]
  },
  {
   "cell_type": "markdown",
   "id": "2bff38d6",
   "metadata": {},
   "source": [
    "## Question 3\n",
    "\n",
    "**Decide what the code fragment is trying to do, and how to fix the error so it performs the required task.**"
   ]
  },
  {
   "cell_type": "code",
   "execution_count": 5,
   "id": "bd77786f",
   "metadata": {},
   "outputs": [
    {
     "ename": "TypeError",
     "evalue": "rowsum() takes 0 positional arguments but 1 was given",
     "output_type": "error",
     "traceback": [
      "\u001b[0;31m---------------------------------------------------------------------------\u001b[0m",
      "\u001b[0;31mTypeError\u001b[0m                                 Traceback (most recent call last)",
      "\u001b[0;32m/var/folders/_k/0f_hlw7x2hq4vtcq0h8bvsm40000gr/T/ipykernel_59936/3356679194.py\u001b[0m in \u001b[0;36m<module>\u001b[0;34m\u001b[0m\n\u001b[1;32m      9\u001b[0m         \u001b[0mrowsum\u001b[0m \u001b[0;34m=\u001b[0m \u001b[0mrowsum\u001b[0m \u001b[0;34m+\u001b[0m \u001b[0mA\u001b[0m\u001b[0;34m[\u001b[0m\u001b[0;34m:\u001b[0m\u001b[0;34m,\u001b[0m\u001b[0mk\u001b[0m\u001b[0;34m]\u001b[0m\u001b[0;34m\u001b[0m\u001b[0;34m\u001b[0m\u001b[0m\n\u001b[1;32m     10\u001b[0m \u001b[0;34m\u001b[0m\u001b[0m\n\u001b[0;32m---> 11\u001b[0;31m \u001b[0mrowsum\u001b[0m\u001b[0;34m(\u001b[0m\u001b[0mA\u001b[0m\u001b[0;34m)\u001b[0m\u001b[0;34m\u001b[0m\u001b[0;34m\u001b[0m\u001b[0m\n\u001b[0m",
      "\u001b[0;31mTypeError\u001b[0m: rowsum() takes 0 positional arguments but 1 was given"
     ]
    }
   ],
   "source": [
    "import numpy as np\n",
    "A = np.random.rand(10,5) # creates a 10x5 matrix containing random numbers\n",
    "\n",
    "# debug this code\n",
    "\n",
    "def rowsum():\n",
    "    rowsum = 0\n",
    "    for k in range(len(A)):\n",
    "        rowsum = rowsum + A[:,k]\n",
    "        \n",
    "rowsum(A)"
   ]
  },
  {
   "cell_type": "code",
   "execution_count": 6,
   "id": "374382a1",
   "metadata": {},
   "outputs": [
    {
     "name": "stdout",
     "output_type": "stream",
     "text": [
      "[5.98026706 4.15154025 4.74577597 5.35838265 5.10969222]\n"
     ]
    }
   ],
   "source": [
    "# solution - same for Catherine and Andrew\n",
    "import numpy as np\n",
    "A = np.random.rand(10,5) # creates a 10x5 matrix containing random numbers\n",
    "\n",
    "def rowsum(arr):                    # need to pass in `arr` as input\n",
    "                                    # need doc string - not reqd for a debugging question\n",
    "    \"\"\" takes in 2D array and sums the elements in each column        \n",
    "        INPUT:  arr - numpy array of floats or ints:  shape is (N,M)         \n",
    "        OUTPUT:  rowsum - numpy 1D array of floats or ints; shape is (N,)\n",
    "    \"\"\"\n",
    "    rowsum = np.zeros(len(arr[0,:]))    # make 1D array; initialize sums to 0 to begin\n",
    "    for k in range(len(arr[0,:])):      # need just len of second dimension of A\n",
    "        rowsum[k] = np.sum(arr[:,k])    # previous version doesn't sum elements in a col\n",
    "    return rowsum                       # need a return statement\n",
    "        \n",
    "rowsumA = rowsum(A)\n",
    "print(rowsumA)"
   ]
  },
  {
   "cell_type": "markdown",
   "id": "b55af411",
   "metadata": {},
   "source": [
    "## Question 4\n",
    "\n",
    "**This code is supposed to create a *running standard deviation*. Does it? If it doesn't, state why. If not, what is the problem?**"
   ]
  },
  {
   "cell_type": "code",
   "execution_count": 7,
   "id": "61310493",
   "metadata": {},
   "outputs": [],
   "source": [
    "x = np.random.rand(10)\n",
    "y = np.empty_like(x)\n",
    "# debug this code\n",
    "for k in range(len(x)):\n",
    "    y[k] = np.std(x[min(0, k - 3) : max(len(x), k + 3)])"
   ]
  },
  {
   "cell_type": "markdown",
   "id": "83a108eb",
   "metadata": {},
   "source": [
    "**A) What do you think this code is trying to do (be specific). Write down the steps in words**"
   ]
  },
  {
   "cell_type": "markdown",
   "id": "b6a36096",
   "metadata": {},
   "source": [
    "your answer here"
   ]
  },
  {
   "cell_type": "markdown",
   "id": "68ab0a16",
   "metadata": {},
   "source": [
    "**B) Fix the code to perform the intended operation**"
   ]
  },
  {
   "cell_type": "code",
   "execution_count": 8,
   "id": "138e7e8c",
   "metadata": {},
   "outputs": [],
   "source": [
    "# your code here"
   ]
  },
  {
   "cell_type": "code",
   "execution_count": 9,
   "id": "15643530",
   "metadata": {},
   "outputs": [
    {
     "data": {
      "text/plain": [
       "array([0.32957371, 0.29835881, 0.28118908, 0.26865947, 0.19445165,\n",
       "       0.21509314, 0.22649347, 0.24667297, 0.26030017, 0.26571346])"
      ]
     },
     "execution_count": 9,
     "metadata": {},
     "output_type": "execute_result"
    }
   ],
   "source": [
    "# Solution \n",
    "#\n",
    "# this is supposed to call the function np.std (calculate the standard deviation) for x[k-3:k+3],\n",
    "# i.e. the running standard deviation. The min and max function calls handle the cases at the beginning and \n",
    "# end of the array where k-3 is a negative number (which refers to indexes from the end of the array). \n",
    "# the error is that the min and max functions are switched! It should call the GREATER of (0,k-3) and the\n",
    "# LESSER of (len(x),k+3)\n",
    "#\n",
    "x = np.random.rand(10)\n",
    "y = np.empty_like(x)\n",
    "\n",
    "for k in range(len(x)):\n",
    "    y[k] = np.std(x[max(0, k - 3) : min(len(x), k + 3)])\n",
    "y"
   ]
  },
  {
   "cell_type": "markdown",
   "id": "38731fdb",
   "metadata": {},
   "source": [
    "## Question 5\n",
    "\n",
    "**Below is a list of common types of errors. Define them in your own words**"
   ]
  },
  {
   "cell_type": "markdown",
   "id": "123a1e1c",
   "metadata": {},
   "source": [
    "**A) Off-by-one error**:"
   ]
  },
  {
   "cell_type": "markdown",
   "id": "68c7ec94",
   "metadata": {},
   "source": [
    "**B) Fencepost error:**"
   ]
  },
  {
   "cell_type": "markdown",
   "id": "9dc99e7f",
   "metadata": {},
   "source": [
    "## Question 6\n",
    "\n",
    "**What do you see on the screen when you run this code (after fixing the error)?**"
   ]
  },
  {
   "cell_type": "code",
   "execution_count": 10,
   "id": "3ccdd2a7",
   "metadata": {},
   "outputs": [
    {
     "ename": "SyntaxError",
     "evalue": "invalid syntax (4191340243.py, line 5)",
     "output_type": "error",
     "traceback": [
      "\u001b[0;36m  File \u001b[0;32m\"/var/folders/_k/0f_hlw7x2hq4vtcq0h8bvsm40000gr/T/ipykernel_59936/4191340243.py\"\u001b[0;36m, line \u001b[0;32m5\u001b[0m\n\u001b[0;31m    if j = 4:\u001b[0m\n\u001b[0m         ^\u001b[0m\n\u001b[0;31mSyntaxError\u001b[0m\u001b[0;31m:\u001b[0m invalid syntax\n"
     ]
    }
   ],
   "source": [
    "x = 5\n",
    "y = 3\n",
    "for j in np.arange(0,5):\n",
    "    y = y-1\n",
    "    if j = 4:\n",
    "        x +=4"
   ]
  },
  {
   "cell_type": "code",
   "execution_count": 11,
   "id": "e5268e01",
   "metadata": {},
   "outputs": [],
   "source": [
    "# your code here"
   ]
  },
  {
   "cell_type": "code",
   "execution_count": 12,
   "id": "112503b8",
   "metadata": {},
   "outputs": [
    {
     "data": {
      "text/plain": [
       "(9, -1)"
      ]
     },
     "execution_count": 12,
     "metadata": {},
     "output_type": "execute_result"
    }
   ],
   "source": [
    "# Solution\n",
    "x = 5\n",
    "y = 4\n",
    "for j in np.arange(0,5):\n",
    "    y = y-1\n",
    "    if j == 4:\n",
    "        x +=4\n",
    "        \n",
    "x, y"
   ]
  }
 ],
 "metadata": {
  "jupytext": {
   "cell_metadata_filter": "all",
   "formats": "ipynb,md:myst",
   "notebook_metadata_filter": "all,-language_info,-toc,-latex_envs",
   "text_representation": {
    "extension": ".md",
    "format_name": "myst",
    "format_version": 0.13,
    "jupytext_version": "1.11.5"
   }
  },
  "kernelspec": {
   "display_name": "Python 3 (ipykernel)",
   "language": "python",
   "name": "python3"
  },
  "language_info": {
   "codemirror_mode": {
    "name": "ipython",
    "version": 3
   },
   "file_extension": ".py",
   "mimetype": "text/x-python",
   "name": "python",
   "nbconvert_exporter": "python",
   "pygments_lexer": "ipython3",
   "version": "3.8.12"
  },
  "source_map": [
   15,
   28,
   44,
   60,
   83,
   90,
   107,
   123,
   130,
   156,
   163,
   169,
   185,
   205,
   211,
   219,
   223,
   227,
   231,
   237,
   254,
   260,
   264,
   268,
   274,
   285,
   291
  ]
 },
 "nbformat": 4,
 "nbformat_minor": 5
}