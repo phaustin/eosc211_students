{
 "cells": [
  {
   "cell_type": "markdown",
   "id": "aa021708",
   "metadata": {},
   "source": [
    "# solution: More Functions & Debugging Practice\n",
    "\n",
    "\n",
    "## EOSC 211\n",
    "\n",
    "**Week 9 Day 1**\n",
    "\n",
    "**Learning Objectives:**  \n",
    "1.  Practice with function default arguments, keyword arguments\n",
    "2.  Debugging - more practice with functions, for loops, indexing"
   ]
  },
  {
   "cell_type": "markdown",
   "id": "361ab8e6",
   "metadata": {},
   "source": [
    "## Question 1\n",
    "\n",
    "**Functions with default arguments**\n",
    "\n",
    "How would I complete the following function code such that the following lines of code \n",
    "\n",
    "``` \n",
    "    print(f'The surface gravity is {surfgrav(\"Venus\")} m/s^2')\n",
    "    \n",
    "    print(f'The surface gravity is {surfgrav()} m/s^2')\n",
    "```\n",
    "\n",
    "would print to the screen the surface gravity of Venus followed by the surface gravity of Earth."
   ]
  },
  {
   "cell_type": "code",
   "execution_count": null,
   "id": "1c9c17ee",
   "metadata": {},
   "outputs": [],
   "source": [
    "def surfgrav(planet):\n",
    "    \"\"\" computes and returns surface gravity on my favorite inner solar system body\n",
    "        INPUT:  planet/moon choice, default is Earth\n",
    "        OUTPUT:  surface gravity in m/s^2\n",
    "    \"\"\"\n",
    "    G = 6.67e-11   # gravitational constant [units]\n",
    "    \n",
    "    mass = {\"Earth\": 5.972e24, \"Venus\": 4.867e24, \"Mercury\": 3.301e23, \"Moon\": 7.348e22, \"Mars\": 3.390e03}\n",
    "    radius = {\"Earth\": 6.371e06, \"Venus\": 6.0518e06, \"Mercury\": 2.440e06, \"Moon\": 1737e06}\n",
    "    \n",
    "    gsurf = G*mass[planet]/radius[planet]**2"
   ]
  },
  {
   "cell_type": "code",
   "execution_count": null,
   "id": "e87b19a1",
   "metadata": {},
   "outputs": [],
   "source": [
    "#  Solution\n",
    "def surfgrav(planet=\"Earth\"):    # needs default argument\n",
    "    \"\"\" computes and returns surface gravity on my favorite inner solar system body\n",
    "        INPUT:  planet/moon choice, default is Earth\n",
    "        OUTPUT:  surface gravity in m/s^2\n",
    "    \"\"\"\n",
    "    G = 6.67e-11   # gravitational constant [units]\n",
    "    \n",
    "    mass = {\"Earth\": 5.972e24, \"Venus\": 4.867e24, \"Mercury\": 3.301e23, \"Moon\": 7.348e22, \"Mars\": 6.417e23}\n",
    "    radius = {\"Earth\": 6.371e06, \"Venus\": 6.0518e06, \"Mercury\": 2.440e06, \"Moon\": 1.737e06, \"Mars\": 3.390e06}\n",
    "    \n",
    "    gsurf = G*mass[planet]/radius[planet]**2\n",
    "    \n",
    "    return gsurf  # needs a return statement\n",
    "\n",
    "print(surfgrav(\"Venus\"))\n",
    "print(surfgrav(\"Mercury\"))\n",
    "print(surfgrav(\"Moon\"))\n",
    "print(surfgrav(\"Mars\"))\n",
    "print(surfgrav())"
   ]
  },
  {
   "cell_type": "markdown",
   "id": "7bc8f506",
   "metadata": {},
   "source": [
    "## Question 2\n",
    "\n",
    "### 2.a\n",
    "What would be the output of the following code:"
   ]
  },
  {
   "cell_type": "code",
   "execution_count": null,
   "id": "850946b9",
   "metadata": {},
   "outputs": [],
   "source": [
    "# Francis question: \n",
    "import numpy as np\n",
    "\n",
    "\n",
    "def radius_squared(x, y=2):\n",
    "    print(x, y)\n",
    "    r2 = x**2 + y**2\n",
    "    print(r2)\n",
    "        \n",
    "        \n",
    "radius_squared(2, 3)\n",
    "radius_squared(2)\n",
    "radius_squared(y=1, x = 3 )\n",
    "radius_squared(y=3, 2)"
   ]
  },
  {
   "cell_type": "markdown",
   "id": "ba621426",
   "metadata": {},
   "source": [
    "___\n",
    "*Solution:*\n",
    "\n",
    "```\n",
    "> 2 3\n",
    "  13\n",
    "> 2 2\n",
    "  8\n",
    "> 3 1\n",
    "  10\n",
    "> SyntaxError: positional argument follows keyword argument\n",
    "----------------------------------------\n",
    "```"
   ]
  },
  {
   "cell_type": "markdown",
   "id": "f69bd99f",
   "metadata": {},
   "source": [
    "### 2.b\n",
    "\n",
    "\n",
    "Which line number(s) of code will not work and why?"
   ]
  },
  {
   "cell_type": "code",
   "execution_count": null,
   "id": "4e8eb9db",
   "metadata": {},
   "outputs": [],
   "source": [
    "def equilibrium_temp(F_sun=1366, distance=1, albedo=0.3):\n",
    "    \"\"\"\n",
    "    prints the blackbody equilibrium temperature of a\n",
    "    perfectly emitting planetary body (default values \n",
    "    for Earth-Sun) given inputs:\n",
    "        - F_sun: solar flux from the star [Jm-2s-1].\n",
    "        - distance: distance from the star [AU].\n",
    "        - albedo: planetary albedo.\n",
    "    \"\"\"\n",
    "\n",
    "    sigma = 5.57e-8  # stefan-boltzmann constant [Wm-2deg-4]\n",
    "    # blackbody equilibrium temp:\n",
    "    T_e = (F_sun * (1 - albedo) / (distance ** 2 * 4 * sigma)) ** (\n",
    "        1 / 4\n",
    "    )  \n",
    "    print(f\"Equilibrium temperature is {T_e:.2f} K\")\n",
    "\n",
    "\n",
    "equilibrium_temp()                                      # Line 1\n",
    "equilibrium_temp(F_sun=1366, albedo=0.6, distance=1.2)  # Line 2\n",
    "equilibrium_temp(F=1366, A=0.2, D=0.6)                  # Line 3\n",
    "equilibrium_temp(albedo=0.2, distance=1.1);             # Line 4\n",
    "equilibrium_temp(albedo=0.2, distance=0.6, 1366)        # Line 5"
   ]
  },
  {
   "cell_type": "markdown",
   "id": "8026deb3",
   "metadata": {},
   "source": [
    "___\n",
    "*Solution:*\n",
    "1. Line 3: TypeError: equilibrium_temp() got an unexpected keyword argument 'F'\n",
    "2. Line 5: SyntaxError: positional argument follows keyword argument"
   ]
  },
  {
   "cell_type": "markdown",
   "id": "e7fa1269",
   "metadata": {},
   "source": [
    "## Question 3\n",
    "\n",
    "**Decide what the code fragment is trying to do, and how to fix the error so it performs the required task.**"
   ]
  },
  {
   "cell_type": "code",
   "execution_count": null,
   "id": "753e0edf",
   "metadata": {},
   "outputs": [],
   "source": [
    "import numpy as np\n",
    "A = np.random.rand(10,5) # creates a 10x5 matrix containing random numbers\n",
    "\n",
    "# debug this code\n",
    "\n",
    "def rowsum():\n",
    "    rowsum = 0\n",
    "    for k in range(len(A)):\n",
    "        rowsum = rowsum + A[:,k]\n",
    "        \n",
    "rowsum(A)"
   ]
  },
  {
   "cell_type": "code",
   "execution_count": null,
   "id": "2703b092",
   "metadata": {},
   "outputs": [],
   "source": [
    "# solution - same for Catherine and Andrew\n",
    "import numpy as np\n",
    "A = np.random.rand(10,5) # creates a 10x5 matrix containing random numbers\n",
    "\n",
    "def rowsum(arr):                    # need to pass in `arr` as input\n",
    "                                    # need doc string - not reqd for a debugging question\n",
    "    \"\"\" takes in 2D array and sums the elements in each column        \n",
    "        INPUT:  arr - numpy array of floats or ints:  shape is (N,M)         \n",
    "        OUTPUT:  rowsum - numpy 1D array of floats or ints; shape is (N,)\n",
    "    \"\"\"\n",
    "    rowsum = np.zeros(len(arr[0,:]))    # make 1D array; initialize sums to 0 to begin\n",
    "    for k in range(len(arr[0,:])):      # need just len of second dimension of A\n",
    "        rowsum[k] = np.sum(arr[:,k])    # previous version doesn't sum elements in a col\n",
    "    return rowsum                       # need a return statement\n",
    "        \n",
    "rowsumA = rowsum(A)\n",
    "print(rowsumA)"
   ]
  },
  {
   "cell_type": "markdown",
   "id": "12fd6da1",
   "metadata": {},
   "source": [
    "## Question 4\n",
    "\n",
    "**This code is supposed to create a *running standard deviation*. Does it? If it doesn't, state why. If not, what is the problem?**"
   ]
  },
  {
   "cell_type": "code",
   "execution_count": null,
   "id": "e7fb8ed9",
   "metadata": {},
   "outputs": [],
   "source": [
    "x = np.random.rand(10)\n",
    "y = np.empty_like(x)\n",
    "# debug this code\n",
    "for k in range(len(x)):\n",
    "    y[k] = np.std(x[min(0, k - 3) : max(len(x), k + 3)])"
   ]
  },
  {
   "cell_type": "markdown",
   "id": "f8673bf3",
   "metadata": {},
   "source": [
    "**A) What do you think this code is trying to do (be specific). Write down the steps in words**"
   ]
  },
  {
   "cell_type": "markdown",
   "id": "38bff5b0",
   "metadata": {},
   "source": [
    "your answer here"
   ]
  },
  {
   "cell_type": "markdown",
   "id": "a21fc6fc",
   "metadata": {},
   "source": [
    "**B) Fix the code to perform the intended operation**"
   ]
  },
  {
   "cell_type": "code",
   "execution_count": null,
   "id": "fd027242",
   "metadata": {},
   "outputs": [],
   "source": [
    "# your code here"
   ]
  },
  {
   "cell_type": "code",
   "execution_count": null,
   "id": "5656e0be",
   "metadata": {},
   "outputs": [],
   "source": [
    "# Solution \n",
    "#\n",
    "# this is supposed to call the function np.std (calculate the standard deviation) for x[k-3:k+3],\n",
    "# i.e. the running standard deviation. The min and max function calls handle the cases at the beginning and \n",
    "# end of the array where k-3 is a negative number (which refers to indexes from the end of the array). \n",
    "# the error is that the min and max functions are switched! It should call the GREATER of (0,k-3) and the\n",
    "# LESSER of (len(x),k+3)\n",
    "#\n",
    "x = np.random.rand(10)\n",
    "y = np.empty_like(x)\n",
    "\n",
    "for k in range(len(x)):\n",
    "    y[k] = np.std(x[max(0, k - 3) : min(len(x), k + 3)])\n",
    "y"
   ]
  },
  {
   "cell_type": "markdown",
   "id": "9e35f0f7",
   "metadata": {},
   "source": [
    "## Question 5\n",
    "\n",
    "**Below is a list of common types of errors. Define them in your own words**"
   ]
  },
  {
   "cell_type": "markdown",
   "id": "c778f748",
   "metadata": {},
   "source": [
    "**A) Off-by-one error**:"
   ]
  },
  {
   "cell_type": "markdown",
   "id": "507ca24e",
   "metadata": {},
   "source": [
    "**B) Fencepost error:**"
   ]
  },
  {
   "cell_type": "markdown",
   "id": "2bd5c86e",
   "metadata": {},
   "source": [
    "## Question 6\n",
    "\n",
    "**What do you see on the screen when you run this code (after fixing the error)?**"
   ]
  },
  {
   "cell_type": "code",
   "execution_count": null,
   "id": "51741f6f",
   "metadata": {},
   "outputs": [],
   "source": [
    "x = 5\n",
    "y = 3\n",
    "for j in np.arange(0,5):\n",
    "    y = y-1\n",
    "    if j = 4:\n",
    "        x +=4"
   ]
  },
  {
   "cell_type": "code",
   "execution_count": null,
   "id": "c52a3003",
   "metadata": {},
   "outputs": [],
   "source": [
    "# your code here"
   ]
  },
  {
   "cell_type": "code",
   "execution_count": null,
   "id": "fba5fdfa",
   "metadata": {},
   "outputs": [],
   "source": [
    "# Solution\n",
    "x = 5\n",
    "y = 4\n",
    "for j in np.arange(0,5):\n",
    "    y = y-1\n",
    "    if j == 4:\n",
    "        x +=4\n",
    "        \n",
    "x, y"
   ]
  }
 ],
 "metadata": {
  "jupytext": {
   "cell_metadata_filter": "all",
   "formats": "ipynb,md:myst",
   "notebook_metadata_filter": "all,-language_info,-toc,-latex_envs",
   "text_representation": {
    "extension": ".md",
    "format_name": "myst",
    "format_version": 0.13,
    "jupytext_version": "1.11.5"
   }
  },
  "kernelspec": {
   "display_name": "Python 3 (ipykernel)",
   "language": "python",
   "name": "python3"
  },
  "source_map": [
   15,
   28,
   44,
   60,
   83,
   90,
   107,
   123,
   130,
   156,
   163,
   169,
   185,
   205,
   211,
   219,
   223,
   227,
   231,
   237,
   254,
   260,
   264,
   268,
   274,
   285,
   291
  ]
 },
 "nbformat": 4,
 "nbformat_minor": 5
}