{
 "cells": [
  {
   "cell_type": "markdown",
   "id": "676b4fce",
   "metadata": {},
   "source": [
    "# Answers: Lab Week 3\n",
    "\n",
    "## EOSC 211\n",
    "\n",
    "### Learning Objectives:\n",
    "\n",
    "1. Take a real world problem in EOAS and think of it like a scientific programmer\n",
    "2. Apply our knowledge of *Python* data types, indexing, slicing arrays\n",
    "3. Use built in functions and imported packages\n",
    "4. Generate a scientific figure with Matplotlib\n",
    "5. Reverse-engineer someone else's code to make it work for you\n",
    "\n",
    "### Intro\n",
    "\n",
    "In this lab we will apply our knowledge of *numpy arrays* to work with some real oceanographic data, as well as  generate a *scientific figure* using Python's *Matplotlib* library. Presenting your data with clear, concise, visually appealing figures is an exercise we will continually re-visit in this course, and will prove to be a useful skill throughout your career in EOAS. Below is a handy guide for creating excellent figures.\n",
    "\n",
    "<div class=\"alert alert-block alert-info\">\n",
    "<b>Scientific Figure Checklist:</b> \n",
    "\n",
    "- [ ] Title (Short and sweet is best)\n",
    "- [ ] Axes labels with units (Don't forget the units!)\n",
    "- [ ] Legend (Or anything that helps interpret the information presented)\n",
    "- [ ] Does the figure *make sense* just by looking at it? The data should be clear without referencing anything outside the figure\n",
    "- [ ] Does it *look good*? (Do the colors clash? does it look crowded/messy?)\n",
    "</div>\n",
    "\n",
    "This lab is comprised of two sections: **1)** a tutorial for processing data with Python, Jupyter Notebooks, and creating a scientific figure with Matplotlib, and **2)** a set of instructions for creating your own figure which you will hand in. It is highly recommended that you work through the tutorial **before** attempting the assignment, as it covers a few concepts we have not specifically addressed in lecture yet, and which are essential for earning full marks on the lab assignment."
   ]
  },
  {
   "cell_type": "markdown",
   "id": "d11252d0",
   "metadata": {},
   "source": [
    "## Section 1: Plot West Coast Bathymetry Data\n",
    "\n",
    "In this tutorial, we will import a dataset as a *numpy* array and plot it using *matplotlib.* To keep things neat and organized, we will break the process down into the following steps:\n",
    "\n",
    "1) Import required packages\n",
    "\n",
    "2) Import raw data\n",
    "\n",
    "3) Process the data\n",
    "\n",
    "4) Display our results\n",
    "\n",
    "\n",
    "### 1) Import Packages\n",
    "\n",
    "It's good practice to import all the packages you'll need (on top of Python's core *built-in functions*) in a cell near the top of your notebook. So far we know we will be dealing with *numpy arrays* and making plots, so lets import Numpy and Matplotlib. There are a few different syntaxes for importing packages, demonstrated below:"
   ]
  },
  {
   "cell_type": "code",
   "execution_count": 1,
   "id": "d210761a",
   "metadata": {},
   "outputs": [
    {
     "ename": "ModuleNotFoundError",
     "evalue": "No module named 'e211_lib'",
     "output_type": "error",
     "traceback": [
      "\u001b[0;31m---------------------------------------------------------------------------\u001b[0m",
      "\u001b[0;31mModuleNotFoundError\u001b[0m                       Traceback (most recent call last)",
      "\u001b[0;32m/tmp/ipykernel_947666/35110049.py\u001b[0m in \u001b[0;36m<module>\u001b[0;34m\u001b[0m\n\u001b[0;32m----> 1\u001b[0;31m \u001b[0;32mfrom\u001b[0m \u001b[0me211_lib\u001b[0m \u001b[0;32mimport\u001b[0m \u001b[0me211\u001b[0m \u001b[0;31m# get all the packages from the e211 library (developed specifically for this course)\u001b[0m\u001b[0;34m\u001b[0m\u001b[0;34m\u001b[0m\u001b[0m\n\u001b[0m\u001b[1;32m      2\u001b[0m \u001b[0;32mimport\u001b[0m \u001b[0mnumpy\u001b[0m \u001b[0;32mas\u001b[0m \u001b[0mnp\u001b[0m \u001b[0;31m# get all the packages associated with numpy, and assign numpy a nickname 'np'\u001b[0m\u001b[0;34m\u001b[0m\u001b[0;34m\u001b[0m\u001b[0m\n\u001b[1;32m      3\u001b[0m \u001b[0;32mimport\u001b[0m \u001b[0mmatplotlib\u001b[0m\u001b[0;34m.\u001b[0m\u001b[0mpyplot\u001b[0m \u001b[0;32mas\u001b[0m \u001b[0mplt\u001b[0m \u001b[0;31m# get just the package called 'pyplot' from the matplotlib library, nicknamed 'plt'\u001b[0m\u001b[0;34m\u001b[0m\u001b[0;34m\u001b[0m\u001b[0m\n",
      "\u001b[0;31mModuleNotFoundError\u001b[0m: No module named 'e211_lib'"
     ]
    }
   ],
   "source": [
    "from e211_lib import e211 # get all the packages from the e211 library (developed specifically for this course)\n",
    "import numpy as np # get all the packages associated with numpy, and assign numpy a nickname 'np'\n",
    "import matplotlib.pyplot as plt # get just the package called 'pyplot' from the matplotlib library, nicknamed 'plt'"
   ]
  },
  {
   "cell_type": "markdown",
   "id": "0d9cb3b9",
   "metadata": {},
   "source": [
    "These are all the dependencies we will need to complete this lab. If we decide later that we want to use something else, we can always add to this cell and re-run it.  \n",
    "\n",
    "###  2) Import Raw Data\n",
    "\n",
    "The data we wish to analyze is ```Bathyfile.mat```. *Bathymetry* refers to information about the depth of the ocean and the height of landmasses. The next thing to notice is that the file ends with `.mat`, which is the file extension used with data generated by MATLAB. To read this file into a jupyter notebook, we can use the built-in function `e211.load_mat()`. This function reads a `.mat` file and converts it into a numpy array. Similar functions exist for other data types like `.csv` (often used for spreadsheets), `.png` for images, `netCDF` files (outputs of climate models), `.shp/.shx/.dbf` (used for geographical information systems for programs like arcGIS)."
   ]
  },
  {
   "cell_type": "code",
   "execution_count": 2,
   "id": "22e78302",
   "metadata": {},
   "outputs": [
    {
     "ename": "NameError",
     "evalue": "name 'e211' is not defined",
     "output_type": "error",
     "traceback": [
      "\u001b[0;31m---------------------------------------------------------------------------\u001b[0m",
      "\u001b[0;31mNameError\u001b[0m                                 Traceback (most recent call last)",
      "\u001b[0;32m/tmp/ipykernel_947666/3810147705.py\u001b[0m in \u001b[0;36m<module>\u001b[0;34m\u001b[0m\n\u001b[0;32m----> 1\u001b[0;31m \u001b[0mraw_bathdata\u001b[0m \u001b[0;34m=\u001b[0m \u001b[0me211\u001b[0m\u001b[0;34m.\u001b[0m\u001b[0mload_mat\u001b[0m\u001b[0;34m(\u001b[0m\u001b[0;34m\"Bathyfile.mat\"\u001b[0m\u001b[0;34m)\u001b[0m\u001b[0;34m\u001b[0m\u001b[0;34m\u001b[0m\u001b[0m\n\u001b[0m\u001b[1;32m      2\u001b[0m \u001b[0;34m\u001b[0m\u001b[0m\n\u001b[1;32m      3\u001b[0m \u001b[0;31m# what is the data type of the new variable we just created?\u001b[0m\u001b[0;34m\u001b[0m\u001b[0;34m\u001b[0m\u001b[0;34m\u001b[0m\u001b[0m\n\u001b[1;32m      4\u001b[0m \u001b[0mtype\u001b[0m\u001b[0;34m(\u001b[0m\u001b[0mraw_bathdata\u001b[0m\u001b[0;34m)\u001b[0m\u001b[0;34m\u001b[0m\u001b[0;34m\u001b[0m\u001b[0m\n",
      "\u001b[0;31mNameError\u001b[0m: name 'e211' is not defined"
     ]
    }
   ],
   "source": [
    "raw_bathdata = e211.load_mat(\"Bathyfile.mat\")\n",
    "\n",
    "# what is the data type of the new variable we just created?\n",
    "type(raw_bathdata)"
   ]
  },
  {
   "cell_type": "markdown",
   "id": "9ac1c667",
   "metadata": {},
   "source": [
    "Now that we have the data in a format we can use, let's explore! We can use built in functions to find out more things than just the data type:"
   ]
  },
  {
   "cell_type": "code",
   "execution_count": 3,
   "id": "da6bb611",
   "metadata": {},
   "outputs": [
    {
     "ename": "NameError",
     "evalue": "name 'np' is not defined",
     "output_type": "error",
     "traceback": [
      "\u001b[0;31m---------------------------------------------------------------------------\u001b[0m",
      "\u001b[0;31mNameError\u001b[0m                                 Traceback (most recent call last)",
      "\u001b[0;32m/tmp/ipykernel_947666/2790929334.py\u001b[0m in \u001b[0;36m<module>\u001b[0;34m\u001b[0m\n\u001b[0;32m----> 1\u001b[0;31m \u001b[0mnp\u001b[0m\u001b[0;34m.\u001b[0m\u001b[0mshape\u001b[0m\u001b[0;34m(\u001b[0m\u001b[0mraw_bathdata\u001b[0m\u001b[0;34m)\u001b[0m  \u001b[0;31m# how big is the array?\u001b[0m\u001b[0;34m\u001b[0m\u001b[0;34m\u001b[0m\u001b[0m\n\u001b[0m",
      "\u001b[0;31mNameError\u001b[0m: name 'np' is not defined"
     ]
    }
   ],
   "source": [
    "np.shape(raw_bathdata)  # how big is the array?"
   ]
  },
  {
   "cell_type": "code",
   "execution_count": 4,
   "id": "a8f69df4",
   "metadata": {},
   "outputs": [
    {
     "ename": "NameError",
     "evalue": "name 'np' is not defined",
     "output_type": "error",
     "traceback": [
      "\u001b[0;31m---------------------------------------------------------------------------\u001b[0m",
      "\u001b[0;31mNameError\u001b[0m                                 Traceback (most recent call last)",
      "\u001b[0;32m/tmp/ipykernel_947666/2209761021.py\u001b[0m in \u001b[0;36m<module>\u001b[0;34m\u001b[0m\n\u001b[0;32m----> 1\u001b[0;31m \u001b[0mnp\u001b[0m\u001b[0;34m.\u001b[0m\u001b[0mmin\u001b[0m\u001b[0;34m(\u001b[0m\u001b[0mraw_bathdata\u001b[0m\u001b[0;34m)\u001b[0m  \u001b[0;31m# what is the deepest point? (units are in m above/below sea level)\u001b[0m\u001b[0;34m\u001b[0m\u001b[0;34m\u001b[0m\u001b[0m\n\u001b[0m",
      "\u001b[0;31mNameError\u001b[0m: name 'np' is not defined"
     ]
    }
   ],
   "source": [
    "np.min(raw_bathdata)  # what is the deepest point? (units are in m above/below sea level)"
   ]
  },
  {
   "cell_type": "markdown",
   "id": "3b9a7831",
   "metadata": {},
   "source": [
    "Let's make a \"quick and dirty\" plot as a preliminary way to visualize our data (especially since we changed the format, it is a good idea to check if anything went awry). This is just a quick check, we will worry about making it into a proper scientific figure later on. Since this is a 2D dataset (look at the cell where we found *np.shape* of the data), we can use the `contourf()` function from matplotlib."
   ]
  },
  {
   "cell_type": "code",
   "execution_count": 5,
   "id": "20b7d1fc",
   "metadata": {},
   "outputs": [
    {
     "ename": "NameError",
     "evalue": "name 'plt' is not defined",
     "output_type": "error",
     "traceback": [
      "\u001b[0;31m---------------------------------------------------------------------------\u001b[0m",
      "\u001b[0;31mNameError\u001b[0m                                 Traceback (most recent call last)",
      "\u001b[0;32m/tmp/ipykernel_947666/1290833645.py\u001b[0m in \u001b[0;36m<module>\u001b[0;34m\u001b[0m\n\u001b[0;32m----> 1\u001b[0;31m \u001b[0mplt\u001b[0m\u001b[0;34m.\u001b[0m\u001b[0mcontourf\u001b[0m\u001b[0;34m(\u001b[0m\u001b[0mraw_bathdata\u001b[0m\u001b[0;34m)\u001b[0m\u001b[0;34m;\u001b[0m\u001b[0;34m\u001b[0m\u001b[0;34m\u001b[0m\u001b[0m\n\u001b[0m",
      "\u001b[0;31mNameError\u001b[0m: name 'plt' is not defined"
     ]
    }
   ],
   "source": [
    "plt.contourf(raw_bathdata);"
   ]
  },
  {
   "cell_type": "markdown",
   "id": "5ab16b3e",
   "metadata": {},
   "source": [
    "We have successfully imported the .mat data as an array, but something is clearly wrong. This is supposed to be geographical information of BC and the Pacific Ocean. Can you recognize Vancouver Island? the Gulf of Alaska? The Rocky Mountains? What has happened here and how might we fix it?\n",
    "\n",
    "### Process The Data\n",
    "\n",
    "This step is also commonly referred to as \"data scrubbing,\" and is often the longest step (about 80% of our time, according to [a source](https://www.datascienceatthecommandline.com/1e/chapter-1-introduction.html)) while working with a dataset. At this stage we can change the format, get rid of erroneous or extraneous data, combine/compare datasets, add labels to things, but it is important not to *alter* our data in a way that will compromise its *integrity*, which might lead us to make false conclusions from our information. \n",
    "\n",
    "First we need to flip our array over. We can do this using our knowledge of array slicing! Remember, the syntax for accessing elements in an array is `[start:stop:step]`."
   ]
  },
  {
   "cell_type": "code",
   "execution_count": 6,
   "id": "f939d3ec",
   "metadata": {},
   "outputs": [
    {
     "ename": "NameError",
     "evalue": "name 'raw_bathdata' is not defined",
     "output_type": "error",
     "traceback": [
      "\u001b[0;31m---------------------------------------------------------------------------\u001b[0m",
      "\u001b[0;31mNameError\u001b[0m                                 Traceback (most recent call last)",
      "\u001b[0;32m/tmp/ipykernel_947666/719132186.py\u001b[0m in \u001b[0;36m<module>\u001b[0;34m\u001b[0m\n\u001b[0;32m----> 1\u001b[0;31m \u001b[0mbathdata_fixed\u001b[0m \u001b[0;34m=\u001b[0m \u001b[0mraw_bathdata\u001b[0m\u001b[0;34m[\u001b[0m\u001b[0;34m:\u001b[0m\u001b[0;34m:\u001b[0m\u001b[0;34m-\u001b[0m\u001b[0;36m1\u001b[0m\u001b[0;34m]\u001b[0m\u001b[0;31m# flip the array over and assign it to a new variable\u001b[0m\u001b[0;34m\u001b[0m\u001b[0;34m\u001b[0m\u001b[0m\n\u001b[0m\u001b[1;32m      2\u001b[0m \u001b[0mplt\u001b[0m\u001b[0;34m.\u001b[0m\u001b[0mcontourf\u001b[0m\u001b[0;34m(\u001b[0m\u001b[0mbathdata_fixed\u001b[0m\u001b[0;34m)\u001b[0m\u001b[0;34m;\u001b[0m \u001b[0;31m# try another quick visualization\u001b[0m\u001b[0;34m\u001b[0m\u001b[0;34m\u001b[0m\u001b[0m\n",
      "\u001b[0;31mNameError\u001b[0m: name 'raw_bathdata' is not defined"
     ]
    }
   ],
   "source": [
    "bathdata_fixed = raw_bathdata[::-1]# flip the array over and assign it to a new variable\n",
    "plt.contourf(bathdata_fixed); # try another quick visualization"
   ]
  },
  {
   "cell_type": "markdown",
   "id": "ff7e502c",
   "metadata": {},
   "source": [
    "Much better! Now let's think about generating a way to label our X and Y axes with something meaningful. Currently, the labels refer to the *array index* of each point on our plot. A far more useful reference would be the latitude (on the y axis) and longitude (on the x axis). This particular image is from latitude 47$^o$ to 60$^o$ N and longitude -150$^o$ to -110 $^o$E. The following code generates arrays that with the lat and lon of each row and column in the image, then passes those into the `contourf` function, which then creates the plot with the new labels applied. Take a second to understand what is happening at each line of code. You may want to try running in a cell `help()` with the name of a built-in function for more information on how that function works."
   ]
  },
  {
   "cell_type": "code",
   "execution_count": 7,
   "id": "a2ca96f1",
   "metadata": {},
   "outputs": [
    {
     "ename": "NameError",
     "evalue": "name 'np' is not defined",
     "output_type": "error",
     "traceback": [
      "\u001b[0;31m---------------------------------------------------------------------------\u001b[0m",
      "\u001b[0;31mNameError\u001b[0m                                 Traceback (most recent call last)",
      "\u001b[0;32m/tmp/ipykernel_947666/2843981835.py\u001b[0m in \u001b[0;36m<module>\u001b[0;34m\u001b[0m\n\u001b[0;32m----> 1\u001b[0;31m \u001b[0mlatlen\u001b[0m \u001b[0;34m=\u001b[0m \u001b[0mnp\u001b[0m\u001b[0;34m.\u001b[0m\u001b[0mshape\u001b[0m\u001b[0;34m(\u001b[0m\u001b[0mbathdata_fixed\u001b[0m\u001b[0;34m)\u001b[0m\u001b[0;34m[\u001b[0m\u001b[0;36m0\u001b[0m\u001b[0;34m]\u001b[0m \u001b[0;31m# assign the height and width of the image to new vars\u001b[0m\u001b[0;34m\u001b[0m\u001b[0;34m\u001b[0m\u001b[0m\n\u001b[0m\u001b[1;32m      2\u001b[0m \u001b[0mlonlen\u001b[0m \u001b[0;34m=\u001b[0m \u001b[0mnp\u001b[0m\u001b[0;34m.\u001b[0m\u001b[0mshape\u001b[0m\u001b[0;34m(\u001b[0m\u001b[0mbathdata_fixed\u001b[0m\u001b[0;34m)\u001b[0m\u001b[0;34m[\u001b[0m\u001b[0;36m1\u001b[0m\u001b[0;34m]\u001b[0m\u001b[0;34m\u001b[0m\u001b[0;34m\u001b[0m\u001b[0m\n\u001b[1;32m      3\u001b[0m \u001b[0;34m\u001b[0m\u001b[0m\n\u001b[1;32m      4\u001b[0m \u001b[0mlats\u001b[0m \u001b[0;34m=\u001b[0m \u001b[0mnp\u001b[0m\u001b[0;34m.\u001b[0m\u001b[0mlinspace\u001b[0m\u001b[0;34m(\u001b[0m\u001b[0;36m47\u001b[0m\u001b[0;34m,\u001b[0m \u001b[0;36m60\u001b[0m\u001b[0;34m,\u001b[0m \u001b[0mlatlen\u001b[0m\u001b[0;34m)\u001b[0m \u001b[0;31m# create arrays for lat and lon\u001b[0m\u001b[0;34m\u001b[0m\u001b[0;34m\u001b[0m\u001b[0m\n\u001b[1;32m      5\u001b[0m \u001b[0mlons\u001b[0m \u001b[0;34m=\u001b[0m \u001b[0mnp\u001b[0m\u001b[0;34m.\u001b[0m\u001b[0mlinspace\u001b[0m\u001b[0;34m(\u001b[0m\u001b[0;34m-\u001b[0m\u001b[0;36m150\u001b[0m\u001b[0;34m,\u001b[0m \u001b[0;34m-\u001b[0m\u001b[0;36m110\u001b[0m\u001b[0;34m,\u001b[0m \u001b[0mlonlen\u001b[0m\u001b[0;34m)\u001b[0m\u001b[0;34m\u001b[0m\u001b[0;34m\u001b[0m\u001b[0m\n",
      "\u001b[0;31mNameError\u001b[0m: name 'np' is not defined"
     ]
    }
   ],
   "source": [
    "latlen = np.shape(bathdata_fixed)[0] # assign the height and width of the image to new vars\n",
    "lonlen = np.shape(bathdata_fixed)[1]\n",
    "\n",
    "lats = np.linspace(47, 60, latlen) # create arrays for lat and lon\n",
    "lons = np.linspace(-150, -110, lonlen)\n",
    "\n",
    "# plot it again!\n",
    "plt.contourf(lons, lats, bathdata_fixed);"
   ]
  },
  {
   "cell_type": "markdown",
   "id": "d8f38daf",
   "metadata": {},
   "source": [
    "Maybe we are only interested in the bathymetry near Vancouver Island. We can \"zoom\" in on a particular area, using slicing to select a section of the original array. **IMPORTANT:** We need to slice the `lats` and `lons` arrays at the same intervals *before* we try to re-create the plot, or else we will get an error."
   ]
  },
  {
   "cell_type": "code",
   "execution_count": 8,
   "id": "62f3a8ea",
   "metadata": {},
   "outputs": [
    {
     "ename": "NameError",
     "evalue": "name 'bathdata_fixed' is not defined",
     "output_type": "error",
     "traceback": [
      "\u001b[0;31m---------------------------------------------------------------------------\u001b[0m",
      "\u001b[0;31mNameError\u001b[0m                                 Traceback (most recent call last)",
      "\u001b[0;32m/tmp/ipykernel_947666/3695033424.py\u001b[0m in \u001b[0;36m<module>\u001b[0;34m\u001b[0m\n\u001b[0;32m----> 1\u001b[0;31m \u001b[0mbath_zoomed\u001b[0m \u001b[0;34m=\u001b[0m \u001b[0mbathdata_fixed\u001b[0m\u001b[0;34m[\u001b[0m\u001b[0;36m0\u001b[0m\u001b[0;34m:\u001b[0m\u001b[0;36m150\u001b[0m\u001b[0;34m,\u001b[0m\u001b[0;36m500\u001b[0m\u001b[0;34m:\u001b[0m\u001b[0;36m900\u001b[0m\u001b[0;34m]\u001b[0m\u001b[0;34m\u001b[0m\u001b[0;34m\u001b[0m\u001b[0m\n\u001b[0m\u001b[1;32m      2\u001b[0m \u001b[0mlats_zoomed\u001b[0m \u001b[0;34m=\u001b[0m \u001b[0mlats\u001b[0m\u001b[0;34m[\u001b[0m\u001b[0;36m0\u001b[0m\u001b[0;34m:\u001b[0m\u001b[0;36m150\u001b[0m\u001b[0;34m]\u001b[0m\u001b[0;34m\u001b[0m\u001b[0;34m\u001b[0m\u001b[0m\n\u001b[1;32m      3\u001b[0m \u001b[0mlons_zoomed\u001b[0m \u001b[0;34m=\u001b[0m \u001b[0mlons\u001b[0m\u001b[0;34m[\u001b[0m\u001b[0;36m500\u001b[0m\u001b[0;34m:\u001b[0m\u001b[0;36m900\u001b[0m\u001b[0;34m]\u001b[0m \u001b[0;31m# make sure the slices match between the\u001b[0m\u001b[0;34m\u001b[0m\u001b[0;34m\u001b[0m\u001b[0m\n\u001b[1;32m      4\u001b[0m                             \u001b[0;31m# coordinates and the original data\u001b[0m\u001b[0;34m\u001b[0m\u001b[0;34m\u001b[0m\u001b[0;34m\u001b[0m\u001b[0m\n\u001b[1;32m      5\u001b[0m \u001b[0;34m\u001b[0m\u001b[0m\n",
      "\u001b[0;31mNameError\u001b[0m: name 'bathdata_fixed' is not defined"
     ]
    }
   ],
   "source": [
    "bath_zoomed = bathdata_fixed[0:150,500:900]\n",
    "lats_zoomed = lats[0:150]\n",
    "lons_zoomed = lons[500:900] # make sure the slices match between the\n",
    "                            # coordinates and the original data\n",
    "\n",
    "plt.contourf(lons_zoomed, lats_zoomed, bath_zoomed);"
   ]
  },
  {
   "cell_type": "markdown",
   "id": "749a821c",
   "metadata": {},
   "source": [
    "### Display the Results\n",
    "\n",
    "If we ara satisfied with our data processing, it is now time to present our result with a scientific figure. Go through the checklist and add code to our plot until we tick all of the boxes."
   ]
  },
  {
   "cell_type": "code",
   "execution_count": 9,
   "id": "099e21cd",
   "metadata": {},
   "outputs": [
    {
     "ename": "NameError",
     "evalue": "name 'plt' is not defined",
     "output_type": "error",
     "traceback": [
      "\u001b[0;31m---------------------------------------------------------------------------\u001b[0m",
      "\u001b[0;31mNameError\u001b[0m                                 Traceback (most recent call last)",
      "\u001b[0;32m/tmp/ipykernel_947666/1876633776.py\u001b[0m in \u001b[0;36m<module>\u001b[0;34m\u001b[0m\n\u001b[1;32m      1\u001b[0m \u001b[0;31m# change the colormap to something suitable\u001b[0m\u001b[0;34m\u001b[0m\u001b[0;34m\u001b[0m\u001b[0;34m\u001b[0m\u001b[0m\n\u001b[0;32m----> 2\u001b[0;31m \u001b[0mcon\u001b[0m \u001b[0;34m=\u001b[0m \u001b[0mplt\u001b[0m\u001b[0;34m.\u001b[0m\u001b[0mcontourf\u001b[0m\u001b[0;34m(\u001b[0m\u001b[0mlons_zoomed\u001b[0m\u001b[0;34m,\u001b[0m \u001b[0mlats_zoomed\u001b[0m\u001b[0;34m,\u001b[0m \u001b[0mbath_zoomed\u001b[0m\u001b[0;34m,\u001b[0m \u001b[0mcmap\u001b[0m\u001b[0;34m=\u001b[0m\u001b[0;34m\"terrain\"\u001b[0m\u001b[0;34m)\u001b[0m\u001b[0;34m\u001b[0m\u001b[0;34m\u001b[0m\u001b[0m\n\u001b[0m\u001b[1;32m      3\u001b[0m \u001b[0;34m\u001b[0m\u001b[0m\n\u001b[1;32m      4\u001b[0m \u001b[0;31m# add nice labels\u001b[0m\u001b[0;34m\u001b[0m\u001b[0;34m\u001b[0m\u001b[0;34m\u001b[0m\u001b[0m\n\u001b[1;32m      5\u001b[0m \u001b[0mplt\u001b[0m\u001b[0;34m.\u001b[0m\u001b[0mtitle\u001b[0m\u001b[0;34m(\u001b[0m\u001b[0;34m\"Bathymetry Near Vancouver Island\"\u001b[0m\u001b[0;34m)\u001b[0m\u001b[0;34m\u001b[0m\u001b[0;34m\u001b[0m\u001b[0m\n",
      "\u001b[0;31mNameError\u001b[0m: name 'plt' is not defined"
     ]
    }
   ],
   "source": [
    "# change the colormap to something suitable\n",
    "con = plt.contourf(lons_zoomed, lats_zoomed, bath_zoomed, cmap=\"terrain\")\n",
    "\n",
    "# add nice labels\n",
    "plt.title(\"Bathymetry Near Vancouver Island\")\n",
    "plt.xlabel(\"longitude (deg)\")\n",
    "plt.ylabel(\"latitude (deg)\")\n",
    "\n",
    "# create a colorbar with labels to show the numerical values corresponding to each color\n",
    "plt.colorbar(con, label=\"Height Above/Below Sea Level (m)\")"
   ]
  },
  {
   "cell_type": "markdown",
   "id": "e4ca0321",
   "metadata": {},
   "source": [
    "Go through our checklist:\n",
    "    \n",
    "- [x] Title \n",
    "- [x] Axes labels with units\n",
    "- [x] Legend - yes, the colorbar is similar to a legend, and we included units!\n",
    "- [x] Does the figure *make sense* just by looking at it? - look at the colormap we chose: dark blue maps to deep ocean, white for snowy mountains. this makes the figure *visually intuitive*\n",
    "- [x] Does it *look good*? - beauty is in the eye of the beholder, but I think it looks great\n",
    "\n",
    "For changing the colormap, check out the [Matplotlib Documentation](https://matplotlib.org/stable/gallery/color/colormap_reference.html) for a list to choose from. Try inserting the names of other colormaps in place of \"terrain\" and see what happens. Note you can add \"_r\" to the end of any of cmap name to reverse it. \n",
    "\n",
    "Finally, as a last step, restart the kernel and re-run the whole notebook to check for errors (click the $\\blacktriangleright\\blacktriangleright$ button on the toolbar). This is important, so that the next time you run your notebook (or someone else, perhaps the person marking it), you know you will get the same result that you have now."
   ]
  },
  {
   "cell_type": "markdown",
   "id": "de23f4f9",
   "metadata": {},
   "source": [
    "## Section 2: Mapping Chlorophyl in the Ocean\n",
    "\n",
    "In the `/lab_week3` folder, there is a dataset called `chlorophyl_apr2021.png`, which shows the concentration of chlorphyl (mg/m$^3$) in the ocean from satellite imagery, averaged over the month of April in 2021. The data originally came from \n",
    "NASA's Earth Observing System Data and Information System (EOSDIS), which can be found at [this website](https://oceancolor.gsfc.nasa.gov/).\n",
    " Your task is to go through much the sama analysis as we did in the tutorial: import data into a Jupyter Notebook, scrub it, and use it to generate a scientific figure.\n",
    "\n",
    "\n",
    "### To be handed in:\n",
    "\n",
    "1) If you havent already, open this notebook on Jupyterhub (press the rocketship button). Make sure to periodically save your work on and *back it up in at least two places* (your computer, google drive, dropbox, as well as jupyterhub)\n",
    "\n",
    "2) Import the dataset as a numpy array. In the `e211` library, there is a function called `e211.load_oceancolor()` which will likely prove useful.\n",
    "\n",
    "3) Scrub your dataset, correcting any errors and adding an appropriate coordinate system. (**Note**: on the whole globe, latitude runs from 90$^o$ (north pole) to -90 (south pole) with 0$^o$ at the equator and longitude from -180$^o$ to 180$^o$ with the 0$^o$ meridian passing through Greenwich, UK)\n",
    "\n",
    "4) Zoom in on some place of interest. Where you go is totally up to you, but try to include a recognizable land feature in your plot.\n",
    "\n",
    "5) Present your data, making sure to meet all the requirements for a scientific figure. Use a colormap other than the default.\n",
    "\n",
    "6) Final check: run your whole notebook again and check for errors using the $\\blacktriangleright\\blacktriangleright$ button."
   ]
  },
  {
   "cell_type": "markdown",
   "id": "411b4329",
   "metadata": {},
   "source": [
    "## Lab Solution:"
   ]
  },
  {
   "cell_type": "code",
   "execution_count": 10,
   "id": "d2e00eef",
   "metadata": {},
   "outputs": [
    {
     "ename": "ModuleNotFoundError",
     "evalue": "No module named 'e211_lib'",
     "output_type": "error",
     "traceback": [
      "\u001b[0;31m---------------------------------------------------------------------------\u001b[0m",
      "\u001b[0;31mModuleNotFoundError\u001b[0m                       Traceback (most recent call last)",
      "\u001b[0;32m/tmp/ipykernel_947666/2340998.py\u001b[0m in \u001b[0;36m<module>\u001b[0;34m\u001b[0m\n\u001b[1;32m      1\u001b[0m \u001b[0;31m##### import packages ######\u001b[0m\u001b[0;34m\u001b[0m\u001b[0;34m\u001b[0m\u001b[0;34m\u001b[0m\u001b[0m\n\u001b[1;32m      2\u001b[0m \u001b[0;34m\u001b[0m\u001b[0m\n\u001b[0;32m----> 3\u001b[0;31m \u001b[0;32mfrom\u001b[0m \u001b[0me211_lib\u001b[0m \u001b[0;32mimport\u001b[0m \u001b[0me211\u001b[0m\u001b[0;34m\u001b[0m\u001b[0;34m\u001b[0m\u001b[0m\n\u001b[0m\u001b[1;32m      4\u001b[0m \u001b[0;32mimport\u001b[0m \u001b[0mnumpy\u001b[0m \u001b[0;32mas\u001b[0m \u001b[0mnp\u001b[0m\u001b[0;34m\u001b[0m\u001b[0;34m\u001b[0m\u001b[0m\n\u001b[1;32m      5\u001b[0m \u001b[0;32mimport\u001b[0m \u001b[0mmatplotlib\u001b[0m\u001b[0;34m.\u001b[0m\u001b[0mpyplot\u001b[0m \u001b[0;32mas\u001b[0m \u001b[0mplt\u001b[0m\u001b[0;34m\u001b[0m\u001b[0;34m\u001b[0m\u001b[0m\n",
      "\u001b[0;31mModuleNotFoundError\u001b[0m: No module named 'e211_lib'"
     ]
    }
   ],
   "source": [
    "##### import packages ######\n",
    "\n",
    "from e211_lib import e211\n",
    "import numpy as np \n",
    "import matplotlib.pyplot as plt"
   ]
  },
  {
   "cell_type": "code",
   "execution_count": 11,
   "id": "22aaf977",
   "metadata": {},
   "outputs": [
    {
     "ename": "NameError",
     "evalue": "name 'e211' is not defined",
     "output_type": "error",
     "traceback": [
      "\u001b[0;31m---------------------------------------------------------------------------\u001b[0m",
      "\u001b[0;31mNameError\u001b[0m                                 Traceback (most recent call last)",
      "\u001b[0;32m/tmp/ipykernel_947666/2363116537.py\u001b[0m in \u001b[0;36m<module>\u001b[0;34m\u001b[0m\n\u001b[1;32m      1\u001b[0m \u001b[0;31m##### import raw data #####\u001b[0m\u001b[0;34m\u001b[0m\u001b[0;34m\u001b[0m\u001b[0;34m\u001b[0m\u001b[0m\n\u001b[1;32m      2\u001b[0m \u001b[0;34m\u001b[0m\u001b[0m\n\u001b[0;32m----> 3\u001b[0;31m \u001b[0mchlor\u001b[0m \u001b[0;34m=\u001b[0m \u001b[0me211\u001b[0m\u001b[0;34m.\u001b[0m\u001b[0mload_oceancolor\u001b[0m\u001b[0;34m(\u001b[0m\u001b[0;34m\"chlorophyl_apr2021.png\"\u001b[0m\u001b[0;34m)\u001b[0m\u001b[0;34m\u001b[0m\u001b[0;34m\u001b[0m\u001b[0m\n\u001b[0m\u001b[1;32m      4\u001b[0m \u001b[0;31m#plt.contourf(chlor)\u001b[0m\u001b[0;34m\u001b[0m\u001b[0;34m\u001b[0m\u001b[0;34m\u001b[0m\u001b[0m\n",
      "\u001b[0;31mNameError\u001b[0m: name 'e211' is not defined"
     ]
    }
   ],
   "source": [
    "##### import raw data #####\n",
    "\n",
    "chlor = e211.load_oceancolor(\"chlorophyl_apr2021.png\")\n",
    "#plt.contourf(chlor)"
   ]
  },
  {
   "cell_type": "code",
   "execution_count": 12,
   "id": "88f49e6b",
   "metadata": {},
   "outputs": [
    {
     "ename": "NameError",
     "evalue": "name 'chlor' is not defined",
     "output_type": "error",
     "traceback": [
      "\u001b[0;31m---------------------------------------------------------------------------\u001b[0m",
      "\u001b[0;31mNameError\u001b[0m                                 Traceback (most recent call last)",
      "\u001b[0;32m/tmp/ipykernel_947666/3114482641.py\u001b[0m in \u001b[0;36m<module>\u001b[0;34m\u001b[0m\n\u001b[1;32m      2\u001b[0m \u001b[0;34m\u001b[0m\u001b[0m\n\u001b[1;32m      3\u001b[0m \u001b[0;31m# create arrays to show latitude and longitude as the labels\u001b[0m\u001b[0;34m\u001b[0m\u001b[0;34m\u001b[0m\u001b[0;34m\u001b[0m\u001b[0m\n\u001b[0;32m----> 4\u001b[0;31m \u001b[0mnum_lats\u001b[0m \u001b[0;34m=\u001b[0m \u001b[0mchlor\u001b[0m\u001b[0;34m.\u001b[0m\u001b[0mshape\u001b[0m\u001b[0;34m[\u001b[0m\u001b[0;36m0\u001b[0m\u001b[0;34m]\u001b[0m\u001b[0;34m\u001b[0m\u001b[0;34m\u001b[0m\u001b[0m\n\u001b[0m\u001b[1;32m      5\u001b[0m \u001b[0mnum_lons\u001b[0m \u001b[0;34m=\u001b[0m \u001b[0mchlor\u001b[0m\u001b[0;34m.\u001b[0m\u001b[0mshape\u001b[0m\u001b[0;34m[\u001b[0m\u001b[0;36m1\u001b[0m\u001b[0;34m]\u001b[0m\u001b[0;34m\u001b[0m\u001b[0;34m\u001b[0m\u001b[0m\n\u001b[1;32m      6\u001b[0m \u001b[0mchlor_fixed\u001b[0m \u001b[0;34m=\u001b[0m \u001b[0mchlor\u001b[0m\u001b[0;34m[\u001b[0m\u001b[0;34m:\u001b[0m\u001b[0;34m:\u001b[0m\u001b[0;34m-\u001b[0m\u001b[0;36m1\u001b[0m\u001b[0;34m]\u001b[0m  \u001b[0;31m# flip the array over vertically\u001b[0m\u001b[0;34m\u001b[0m\u001b[0;34m\u001b[0m\u001b[0m\n",
      "\u001b[0;31mNameError\u001b[0m: name 'chlor' is not defined"
     ]
    }
   ],
   "source": [
    "##### scrub data #####\n",
    "\n",
    "# create arrays to show latitude and longitude as the labels\n",
    "num_lats = chlor.shape[0]\n",
    "num_lons = chlor.shape[1]\n",
    "chlor_fixed = chlor[::-1]  # flip the array over vertically\n",
    "\n",
    "# create the lat array, with the same number of elements as chlor has rows\n",
    "lats = np.linspace(-90, 90, num_lats)\n",
    "# create the lon array, with the same number of elements as chlor has cols\n",
    "lons = np.linspace(-180, 180, num_lons)  \n",
    "\n",
    "# zoom in on PNW by slicing all 3 arrays\n",
    "hmin = 2500\n",
    "hmax = 3700\n",
    "wmin = 0\n",
    "wmax = 2000\n",
    "\n",
    "chlor_zoomed = chlor_fixed[hmin:hmax,wmin:wmax]\n",
    "lats_zoomed = lats[hmin:hmax]\n",
    "lons_zoomed = lons[wmin:wmax]"
   ]
  },
  {
   "cell_type": "code",
   "execution_count": 13,
   "id": "841569d0",
   "metadata": {},
   "outputs": [
    {
     "ename": "NameError",
     "evalue": "name 'plt' is not defined",
     "output_type": "error",
     "traceback": [
      "\u001b[0;31m---------------------------------------------------------------------------\u001b[0m",
      "\u001b[0;31mNameError\u001b[0m                                 Traceback (most recent call last)",
      "\u001b[0;32m/tmp/ipykernel_947666/19041471.py\u001b[0m in \u001b[0;36m<module>\u001b[0;34m\u001b[0m\n\u001b[1;32m      1\u001b[0m \u001b[0;31m##### make a scientific figure #####\u001b[0m\u001b[0;34m\u001b[0m\u001b[0;34m\u001b[0m\u001b[0;34m\u001b[0m\u001b[0m\n\u001b[1;32m      2\u001b[0m \u001b[0;34m\u001b[0m\u001b[0m\n\u001b[0;32m----> 3\u001b[0;31m \u001b[0mcon\u001b[0m \u001b[0;34m=\u001b[0m \u001b[0mplt\u001b[0m\u001b[0;34m.\u001b[0m\u001b[0mcontourf\u001b[0m\u001b[0;34m(\u001b[0m\u001b[0mlons_zoomed\u001b[0m\u001b[0;34m,\u001b[0m \u001b[0mlats_zoomed\u001b[0m\u001b[0;34m,\u001b[0m \u001b[0mchlor_zoomed\u001b[0m\u001b[0;34m,\u001b[0m \u001b[0mcmap\u001b[0m\u001b[0;34m=\u001b[0m\u001b[0;34m\"magma\"\u001b[0m\u001b[0;34m)\u001b[0m\u001b[0;34m\u001b[0m\u001b[0;34m\u001b[0m\u001b[0m\n\u001b[0m\u001b[1;32m      4\u001b[0m \u001b[0mplt\u001b[0m\u001b[0;34m.\u001b[0m\u001b[0mcolorbar\u001b[0m\u001b[0;34m(\u001b[0m\u001b[0mcon\u001b[0m\u001b[0;34m,\u001b[0m \u001b[0mlabel\u001b[0m\u001b[0;34m=\u001b[0m\u001b[0;34m\"Chlorophyl Concentration, OCI Algorithm (mg/m3)\"\u001b[0m\u001b[0;34m)\u001b[0m\u001b[0;34m\u001b[0m\u001b[0;34m\u001b[0m\u001b[0m\n\u001b[1;32m      5\u001b[0m \u001b[0mplt\u001b[0m\u001b[0;34m.\u001b[0m\u001b[0mtitle\u001b[0m\u001b[0;34m(\u001b[0m\u001b[0;34m\"Phytoplankton in the Pacific Ocean\"\u001b[0m\u001b[0;34m)\u001b[0m\u001b[0;34m\u001b[0m\u001b[0;34m\u001b[0m\u001b[0m\n",
      "\u001b[0;31mNameError\u001b[0m: name 'plt' is not defined"
     ]
    }
   ],
   "source": [
    "##### make a scientific figure #####\n",
    "\n",
    "con = plt.contourf(lons_zoomed, lats_zoomed, chlor_zoomed, cmap=\"magma\")\n",
    "plt.colorbar(con, label=\"Chlorophyl Concentration, OCI Algorithm (mg/m3)\")\n",
    "plt.title(\"Phytoplankton in the Pacific Ocean\")\n",
    "plt.xlabel(\"longitude (deg)\")\n",
    "plt.ylabel(\"latitude (deg)\");"
   ]
  }
 ],
 "metadata": {
  "jupytext": {
   "formats": "ipynb,md:myst",
   "text_representation": {
    "extension": ".md",
    "format_name": "myst",
    "format_version": 0.13,
    "jupytext_version": "1.10.3"
   }
  },
  "kernelspec": {
   "display_name": "Python 3 (ipykernel)",
   "language": "python",
   "name": "python3"
  },
  "language_info": {
   "codemirror_mode": {
    "name": "ipython",
    "version": 3
   },
   "file_extension": ".py",
   "mimetype": "text/x-python",
   "name": "python",
   "nbconvert_exporter": "python",
   "pygments_lexer": "ipython3",
   "version": "3.8.0"
  },
  "source_map": [
   13,
   43,
   62,
   66,
   74,
   79,
   83,
   87,
   89,
   93,
   95,
   105,
   108,
   112,
   121,
   125,
   132,
   138,
   149,
   163,
   186,
   190,
   198,
   205,
   229
  ]
 },
 "nbformat": 4,
 "nbformat_minor": 5
}