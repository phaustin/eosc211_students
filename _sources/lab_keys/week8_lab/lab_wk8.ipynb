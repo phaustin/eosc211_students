{
 "cells": [
  {
   "cell_type": "markdown",
   "id": "4e3d89a1",
   "metadata": {},
   "source": [
    "# Lab Week 8 - solution"
   ]
  },
  {
   "cell_type": "markdown",
   "id": "2de05518",
   "metadata": {},
   "source": [
    "**Objectives:** This week's lab is about writing code that is reuseable, efficient and well-organized. How do we do this? Functions! The objective here is to take code from week 6 and re-package it in a better, more pythonic style. We will then test the code with a couple of datasets for the lab to make sure it can handle a range of input types and user-specified parameters, while still getting the right answer.\n",
    "\n",
    "As an example of how we can reuse code, you will use what you write for this lab as a core function for assignment 1."
   ]
  },
  {
   "cell_type": "markdown",
   "id": "e2237cb0",
   "metadata": {},
   "source": [
    "### As always, first import the packages you'll need"
   ]
  },
  {
   "cell_type": "code",
   "execution_count": null,
   "id": "fef6c918",
   "metadata": {},
   "outputs": [],
   "source": [
    "from e211_lib import e211\n",
    "import numpy as np\n",
    "from datetime import datetime\n",
    "import matplotlib.pyplot as plt"
   ]
  },
  {
   "cell_type": "code",
   "execution_count": null,
   "id": "0a617e6b",
   "metadata": {
    "nbgrader": {
     "grade": false,
     "grade_id": "cell-0f1bebfd15ae4946",
     "locked": false,
     "schema_version": 3,
     "solution": true,
     "task": false
    }
   },
   "outputs": [],
   "source": [
    "# your posix_to_datetime function will go here (see below for details)\n",
    "\n",
    "### BEGIN SOLUTION\n",
    "def posix_to_datetime(time_array):\n",
    "    \"\"\"\n",
    "    Converts numpy arrays of POSIX time to datetime objects.\n",
    "\n",
    "        IN: array of POSIX time of length N (dtype=int or float)\n",
    "\n",
    "        OUT: array of dtype=datetime.datetime object, length N\n",
    "    \"\"\"\n",
    "    dt = np.empty_like(time_array, dtype=\"O\")\n",
    "    for index, tt in enumerate(time_array):\n",
    "        dt[index] = datetime.fromtimestamp(tt)\n",
    "    return dt\n",
    "\n",
    "# This also works\n",
    "# for index in range(len(time_array)):         \n",
    "#    dt[index] = datetime.fromtimestamp(time_array[index])\n",
    "\n",
    "#  And this does - note the for loop is not a separate line here\n",
    "#  dt = np.array([datetime.fromtimestamp(tt) for tt in time]) \n",
    "### END SOLUTION"
   ]
  },
  {
   "cell_type": "code",
   "execution_count": null,
   "id": "7689367b",
   "metadata": {
    "nbgrader": {
     "grade": false,
     "grade_id": "cell-0240c3fb29bf120a",
     "locked": false,
     "schema_version": 3,
     "solution": true,
     "task": false
    }
   },
   "outputs": [],
   "source": [
    "# IN THIS CELL DEFINE TWO FUNCTIONS WITH THE FOLLOWING NAMES AND SIGNATURES\n",
    "\n",
    "# check_inputs(winlen) return winlen\n",
    "\n",
    "# running_mean(data, winlen) return running mean\n",
    "\n",
    "### BEGIN SOLUTION\n",
    "def check_inputs(winlen):\n",
    "    \"\"\"\n",
    "    checks that user inputs \"winlen\" are an odd number and corrects them if not\n",
    "\n",
    "        IN: winlen (int)\n",
    "\n",
    "        OUT: winlen of guaranteed odd value (int)\n",
    "    \"\"\"  \n",
    "    if winlen % 2 == 0:\n",
    "        winlen += 1\n",
    "        print(\n",
    "            f\"odd window length {winlen - 1} detected, using window length {winlen} instead\"\n",
    "        )\n",
    "\n",
    "    return winlen\n",
    "\n",
    "def running_mean(data, winlen):\n",
    "    \"\"\"\n",
    "    filters data with a running mean with window length winlen\n",
    "\n",
    "        IN: numpy array of data (dtype=int or float), winlen (dtype=int)\n",
    "        note here that no default has been set for winlen\n",
    "\n",
    "        OUT: filtered array (dtype=float)\n",
    "    \"\"\"\n",
    "    winlen = check_inputs(winlen)  # call the check_inputs from inside another fcn!\n",
    "    ndat = len(data)\n",
    "    ww = int((winlen - 1) / 2)\n",
    "    # print(f\"N = {ndat}, L = {winlen}, W = {ww}\")  #print statement for debugging\n",
    "\n",
    "    z = np.zeros_like(data, dtype=\"O\")\n",
    "\n",
    "    for i in range(ndat):\n",
    "        if (i < ww) or (i > ndat - ww - 1):  # be careful with the limits!\n",
    "            # print(\n",
    "            #    f\"special end case at point i = {i}\"\n",
    "            # )  # print statements to check what is in the special end cases\n",
    "            z[i] = data[i]  # at ends just set running mean equal to unfiltered value\n",
    "        else:  # running mean is executed from ww to ndat-1-ww inclusive\n",
    "            for j in range(-ww, ww + 1):\n",
    "                z[i] += data[i + j]\n",
    "            z[i] = z[i] / winlen\n",
    "    return z\n",
    "### END SOLUTION"
   ]
  },
  {
   "cell_type": "code",
   "execution_count": null,
   "id": "e535a7b2",
   "metadata": {
    "nbgrader": {
     "grade": false,
     "grade_id": "cell-5f6db024bb9d6991",
     "locked": false,
     "schema_version": 3,
     "solution": true,
     "task": false
    }
   },
   "outputs": [],
   "source": [
    "# IN THIS CELL DEFINE YOUR RUNNING MEDIAN FUNCTION WITH THIS NAME AND SIGNATURE\n",
    "#\n",
    "# running_median(data, winlen=7)\n",
    "### BEGIN SOLUTION\n",
    "def running_median(data, winlen=7):\n",
    "    \"\"\"\n",
    "    filters data with a running median, window length winlen\n",
    "\n",
    "        IN: numpy array of data (int or float), winlen (dtype=int)\n",
    "            winlen here has been set with a default of 7\n",
    "\n",
    "        OUT: median filtered array (dtype=int or float)\n",
    "    \"\"\"\n",
    "    winlen = check_inputs(winlen)  # call the check_inputs from inside another fcn!\n",
    "    window_ind = int((winlen - 1) / 2)  # equation 4\n",
    "    zm = np.zeros_like(data)\n",
    "\n",
    "    for i in range(window_ind, len(data) - window_ind):\n",
    "        # deal with the edges by ignoring them ^\n",
    "\n",
    "        # median\n",
    "        window = list(data[i - window_ind : i + window_ind + 1])\n",
    "        while len(window) > 1:\n",
    "            window.remove(max(window))\n",
    "            window.remove(min(window))\n",
    "        zm[i] = window[0]\n",
    "    return zm\n",
    "### END SOLUTION"
   ]
  },
  {
   "cell_type": "markdown",
   "id": "70ea1209",
   "metadata": {},
   "source": [
    "### Now get some data sets.  \n",
    "Remind yourself of np.load and what `.npz` files contain from the week 6 lab. Also review the week 6 lab to remind yourself about datetime objects are and how to import dates/times into a numpy array of datetime objects."
   ]
  },
  {
   "cell_type": "code",
   "execution_count": null,
   "id": "c8544a0e",
   "metadata": {},
   "outputs": [],
   "source": [
    "# get the aircraft data again -- copy from week 6 solution\n",
    "aircraft_gps = np.load(\"aircraft_gps.npz\")\n",
    "vel = aircraft_gps[\"vel\"]\n",
    "time = aircraft_gps[\"time\"]\n",
    "\n",
    "# very similar for a file with temperatures from Sand Heads, BC\n",
    "sand_heads = np.load(\"sand_heads_temps.npz\")\n",
    "temp = sand_heads[\"temp\"]\n",
    "sand_time = sand_heads[\"time\"]"
   ]
  },
  {
   "cell_type": "markdown",
   "id": "c368c99f",
   "metadata": {},
   "source": [
    "### Setting up your first function\n",
    "First define a function called `posix_to_datetime` that takes as input an array of POSIX times and returns a variable `dt` that is a numpy array of datetime objects.  To help you get started the function declaration line and the return statement are provided.  Complete the rest of the fucntion code, making sure to include the docstring.  The structure of your function will look something like this:  \n",
    "\n",
    "```\n",
    "def posix_to_datetime(time_array):\n",
    "    \"\"\"\n",
    "    <docstring>\n",
    "    \"\"\"\n",
    "    \n",
    "    <function body code>\n",
    "    \n",
    "    return dt\n",
    "```\n",
    "Remember that any functions in your code need to be defined *before* they are used.  So they go at the top of your file, after importing the packages."
   ]
  },
  {
   "cell_type": "markdown",
   "id": "6136f61c",
   "metadata": {},
   "source": [
    "### Testing your function\n",
    "You can save yourself a lot of time by testing pieces of your code as you go along.  Test your `posix_to_datetime` function by loading the data sets, calling it and making test plots of each of the two data sets.  e.g., my test plot was made after calling posix_to_datetime, assigning the output to a variable called `fly_time` and making a plot with these code lines.\n",
    "```\n",
    "# quick and dirty plot to check everything is working ok\n",
    "plt.plot(fly_time, vel)\n",
    "plt.xlabel('time [units]')  # reminding myself to always include units\n",
    "plt.xticks(rotation=70)     # rotate dates by 70 degrees so they don't overlap\n",
    "plt.ylabel('vel [units]');  #add semicolon to suppress output\n",
    "```"
   ]
  },
  {
   "cell_type": "markdown",
   "id": "534326fe",
   "metadata": {},
   "source": [
    "### Running mean and running median functions\n",
    "Now take your running mean code from the week6 lab and turn it into a function called `running_mean`.  If your week6 lab code did not work, you can use the solution posted on the course web page under week 6. `running_mean` should take as INPUT arguments `data` (the numpy array of data on which the running mean is to be performed) and `winlen` (the number of points in the running mean window) **in that order**. It should return a variable `z` that contains the running mean values.\n",
    "\n",
    "Likewise take your running median code from the week6 lab and turn it into a function called `running_median` that takes as INPUT arguments `data` and `winlen` (again, in that order) and returns a variable `zm` that contains the running median values.\n",
    "\n",
    "Again, test your functions by\n",
    "1. calling them \n",
    "2. plotting the raw data and the running mean/median to check it all looks reasonable"
   ]
  },
  {
   "cell_type": "markdown",
   "id": "f9f4890f",
   "metadata": {},
   "source": [
    "### Adding input parameter check\n",
    "Now write code that will check that the window length is an odd number, and if it is not add 1 to the length and print a message to the screen informing the user the value of the window length that was passed in, the fact that it was even and the value that it has been corrected to.  Put this code in a function called `check_inputs` that takes as input `winlen`.  It must also return `winlen` either unmodified if it is odd, or modified if it is even.\n",
    "\n",
    "Both the running mean and running median functions should call the `check_inputs` function. \n",
    "You can call functions from other functions, you just need to (a) keep track of which variables are passed where, and (b) scope (discussed in class).\n",
    "\n",
    "Make sure to rerun your code that calls the running mean and running median to check (a) you didn't break anything, and (b) that `check_inputs` works."
   ]
  },
  {
   "cell_type": "markdown",
   "id": "df0dc27c",
   "metadata": {},
   "source": [
    "### What to turn in\n",
    "\n",
    "1) define your posix_to_datetime in cell 2 (remove the exceptions in all fill-in cells)\n",
    "\n",
    "2) define your check_inputs and running_mean functions in cell 3\n",
    "\n",
    "3) define  your running_median function in cell 4 \n",
    "\n",
    "Make sure your running_median function works when you test it by executing\n",
    "code roughly similar to the cell below\n",
    "for either the `aircraft` data set or the `temperature` dataset.  We will run\n",
    "code similar to this, with a variety of window sizes and data sets."
   ]
  },
  {
   "cell_type": "markdown",
   "id": "66256be1",
   "metadata": {},
   "source": [
    "```\n",
    "def main(data,tt):\n",
    "    time=posix_to_datetime(tt)\n",
    "    windows = choose some windows\n",
    "    loop over your windows\n",
    "        filtered_data = running_median ...\n",
    "        #\n",
    "        # overlay the filtered data on the raw data\n",
    "        #\n",
    "        plt.plot(time,data,time,filtered_data)\n",
    "        plt.xlabel('time')\n",
    "        plt.xticks(rotation=70)\n",
    "        plt.ylabel('y values')\n",
    "        plt.show()\n",
    "        \n",
    "main(vel,time)\n",
    "```"
   ]
  },
  {
   "cell_type": "markdown",
   "id": "e8138ce2",
   "metadata": {},
   "source": [
    "## A quick sanity check\n",
    "\n",
    "This code shows the raw data"
   ]
  },
  {
   "cell_type": "code",
   "execution_count": null,
   "id": "b7f24a50",
   "metadata": {},
   "outputs": [],
   "source": [
    "# Sands Heads data\n",
    "temp_time = posix_to_datetime(sand_time)\n",
    "\n",
    "# quick and dirty plot to check everything is working ok\n",
    "plt.plot(temp_time, temp)\n",
    "plt.xlabel('time [units]')\n",
    "plt.xticks(rotation=70)\n",
    "plt.grid(True)\n",
    "plt.ylabel('temperature [units]');   # I added semi-colon to suppress text output"
   ]
  },
  {
   "cell_type": "markdown",
   "id": "05d2b008",
   "metadata": {},
   "source": [
    "The cell below tests window length 32 for the velocity data and \n",
    "compares the result at index = 231 with the answer we got with our\n",
    "own running_median filter"
   ]
  },
  {
   "cell_type": "code",
   "execution_count": null,
   "id": "21dffe98",
   "metadata": {},
   "outputs": [],
   "source": [
    "import numpy.testing as nt\n",
    "window=32\n",
    "vel_median_filtered = running_median(vel, window)\n",
    "testval = vel_median_filtered[231]\n",
    "nt.assert_allclose(testval,1.95,rtol=1.e-2)"
   ]
  },
  {
   "cell_type": "code",
   "execution_count": null,
   "id": "0108fe40",
   "metadata": {
    "nbgrader": {
     "grade": true,
     "grade_id": "cell-70b0c8801298e72c",
     "locked": false,
     "points": 4,
     "schema_version": 3,
     "solution": true,
     "task": false
    }
   },
   "outputs": [],
   "source": [
    "# You don't need to enter anything here  -- we have hidden the\n",
    "# code we will use to check your functions in this cell\n",
    "\n",
    "### BEGIN SOLUTION\n",
    "def main(data,tt):\n",
    "    time=posix_to_datetime(tt)\n",
    "    windows = [11,42,153]\n",
    "    for window in windows:\n",
    "        print(f'Running median test, winlen = {window}')\n",
    "        filtered_data = running_median(data, window)\n",
    "        plt.plot(time,data,time,filtered_data)\n",
    "        plt.xlabel('time')\n",
    "        plt.xticks(rotation=70)\n",
    "        plt.ylabel('y values')\n",
    "        plt.show()\n",
    "main(temp,sand_time)\n",
    "### END SOLUTION"
   ]
  }
 ],
 "metadata": {
  "celltoolbar": "Create Assignment",
  "jupytext": {
   "cell_metadata_filter": "all",
   "formats": "ipynb,md:myst",
   "notebook_metadata_filter": "all,-language_info,-toc,-latex_envs",
   "text_representation": {
    "extension": ".md",
    "format_name": "myst",
    "format_version": 0.13,
    "jupytext_version": "1.11.5"
   }
  },
  "kernelspec": {
   "display_name": "Python 3 (ipykernel)",
   "language": "python",
   "name": "python3"
  },
  "source_map": [
   16,
   20,
   26,
   30,
   39,
   75,
   139,
   178,
   183,
   195,
   212,
   224,
   235,
   245,
   260,
   280,
   286,
   298,
   304,
   314
  ]
 },
 "nbformat": 4,
 "nbformat_minor": 5
}