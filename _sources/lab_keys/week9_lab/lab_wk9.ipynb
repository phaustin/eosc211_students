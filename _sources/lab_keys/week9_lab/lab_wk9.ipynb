{
 "cells": [
  {
   "cell_type": "markdown",
   "id": "0011c1ff",
   "metadata": {},
   "source": [
    "# Lab Week 9 - solution\n",
    "\n",
    "## EOSC 211"
   ]
  },
  {
   "cell_type": "markdown",
   "id": "3316fc10",
   "metadata": {},
   "source": [
    "### Learning Objectives:\n",
    "\n",
    "1. Writing functions with optional arguments\n",
    "\n",
    "2. Learn some stylish, *pythonic* tricks for writing clean, succinct functions\n",
    "\n",
    "3. Write a large, well-organized program which implements a *module*\n",
    "\n",
    "<img src=\"example_figure.png\" width=\"60%\">"
   ]
  },
  {
   "cell_type": "markdown",
   "id": "02748038",
   "metadata": {},
   "source": [
    "## Intro\n",
    "\n",
    "This lab is about using functions and modules to keep code organized even when the data analysis gets large and complex. So far, we have been mostly concerned with the finer details of python syntax and the building blocks that make up the language. Learning a programming language is not that different than learning a spoken language -- now that we have mastered the A,B,C's and can put words together to form sentences, it's time to scale up and write a bona-fide essay. \n",
    "\n",
    "Sometime soon in your EOSC career, you will be asked to complete a project that requires analysis of a dataset and a subsequent report of your techniques and the conclusions you draw from your research. More often than not, the person to whom you submit your report is much more interested in the \"science,\" and less interested in nitty-gritty bits of code you used to get there. (They might be less well-versed in python, or maybe they don't speak code at all!) Your analysis should therefore contain only the few lines of code needed illustrate where you got your data, the steps taken to process it, and a scientific figure which effectively communicates the final result.\n",
    "\n",
    "A great way to accomplish this is to implement the majority of your code in a *function module*, a separate python program that contains the functions you created to accomplish your analysis, and a *main script* which contains your only minimalist code cells that call functions imported from your library, and to accompany this with some written exposition on the topic at hand."
   ]
  },
  {
   "cell_type": "markdown",
   "id": "db47d47d",
   "metadata": {},
   "source": [
    "### Your Task\n",
    "\n",
    "This week we are interested in exploring the ocean surface-currents during the summer months (averaged over May, June and July). Our raw data is in the file `mgsva_MJJ.csv`, and most of the functions are already provided to get the data, perform some analysis and generate a map of surface currents. \n",
    "\n",
    "Your task is to add some additional capability, then *package* these functions in a *module*, and finally write a a *main script* that calls functions imported from your module and includes any report text / commenting needed. More generally speaking, programmers refer to these as two types of code as *back-end* (used to do stuff) and *front-end* (used for nicely presenting stuff). \n",
    "\n",
    "Aside: There is a good plain English article __[here](https://learnpython.com/blog/python-modules-packages-libraries-frameworks/)__  that explains the difference between modules, packages, libraries and even frameworks. \n",
    "\n",
    "The easiest way to remember the heirarchy is *functions=paragraphs, modules=chapters, packages=books*."
   ]
  },
  {
   "cell_type": "code",
   "execution_count": 1,
   "id": "0e77bfe0",
   "metadata": {},
   "outputs": [],
   "source": [
    "import numpy as np\n",
    "from matplotlib import pyplot as plt\n",
    "#import this # what happens if you un-comment this line?"
   ]
  },
  {
   "cell_type": "markdown",
   "id": "4b0a1277",
   "metadata": {},
   "source": [
    "## Part 1: Creating Useful Functions (Tutorial)\n",
    "\n",
    "Functions are the paragraphs of programming.  Like a good paragraph, a good function has a topic and a logical structure.  Paragraphs can be any length, but generally they are concise -- about 5-6 sentences.  If they get\n",
    "longer than that, the reader begins to lose the plot, and the paragraph becomes \"run-on\".\n",
    "\n",
    "### Function style\n",
    "\n",
    "While all rules can be broken, these are good checkpoints to keep in mind when writing a function:\n",
    "\n",
    "1. Functions should be small (usually less than 20 lines of code)\n",
    "2. They should do one thing (Single Responsibility Principle)\n",
    "3. Function argument lists should be limited to at most 4-5 variables\n",
    "4. Function names should say what they do,and should be resemble verbs if possible\n",
    "   (\"calc_mean\", \"write_file\", \"read_data\")\n",
    "5. Functions should avoid \"side effects\"\n",
    "\n",
    "   An example of a side effect: modifying a variable that has been passed to a function without returning\n",
    "   that variable.  This kind of hidden action makes it difficult for a reader quickly determine\n",
    "   what a function does.\n",
    "   \n",
    "Following these rules make it much easier to understand and debug a program.\n",
    "\n",
    "Python has a few features that help in writing functions that are concise and easier to adapt for future use without having to rewrite old code.  \n",
    "\n",
    "1. **Keyword arguments**  [Text Section 8.8](https://phaustin.github.io/Problem-Solving-with-Python/Functions-and-Modules/Positional-and-Keyword-Arguments.html#keyword-arguments)\n",
    "\n",
    "   Optional keyword arguments.  Optional arguments can be used to keep the number of arguments passed\n",
    "   to a function as small as possible. If these parameters are omitted, their default values are used\n",
    "   instead. \n",
    "   In this example, we're using slice objects discussed in the [Oct. 7 notes](https://phaustin.github.io/eosc211_students/reference_notes/thursday_oct7.html):"
   ]
  },
  {
   "cell_type": "code",
   "execution_count": 2,
   "id": "19b68260",
   "metadata": {},
   "outputs": [
    {
     "name": "stdout",
     "output_type": "stream",
     "text": [
      "\n",
      "lat_slice.start=0, lat_slice.stop=-1, lat_slice.step=None\n",
      "lon_slice.start=0, lon_slice.stop=-1, lon_slice.step=None\n",
      "average_region(avg_map)=39.0\n",
      "\n",
      "lat_slice.start=3, lat_slice.stop=7, lat_slice.step=None\n",
      "lon_slice.start=0, lon_slice.stop=-1, lon_slice.step=None\n",
      "average_region(avg_map,lat_slice=slice(3,7))=49.0\n"
     ]
    }
   ],
   "source": [
    "def average_region(the_map, lat_slice=slice(0,-1), lon_slice=slice(0,-1)):\n",
    "    print(f\"\\n{lat_slice.start=}, {lat_slice.stop=}, {lat_slice.step=}\")\n",
    "    print(f\"{lon_slice.start=}, {lon_slice.stop=}, {lon_slice.step=}\")\n",
    "    mean_map = np.nanmean(the_map[lat_slice,lon_slice],axis=(0,1))\n",
    "    return mean_map\n",
    "\n",
    "avg_map=np.arange(0,90).reshape([9,10])\n",
    "print(f\"{average_region(avg_map)=}\")\n",
    "print(f\"{average_region(avg_map,lat_slice=slice(3,7))=}\")    "
   ]
  },
  {
   "cell_type": "markdown",
   "id": "769ece1c",
   "metadata": {},
   "source": [
    "2. **Keyword expansion**\n",
    "\n",
    "   Keyword expansion allows a user to call your function by passing a single dictionary with parameters, instead\n",
    "   of having to list each parameter in the call.  This makes it easier to keep track of specific sets\n",
    "   of parameters. An example:"
   ]
  },
  {
   "cell_type": "code",
   "execution_count": 3,
   "id": "d5160223",
   "metadata": {},
   "outputs": [
    {
     "name": "stdout",
     "output_type": "stream",
     "text": [
      "\n",
      "lat_slice.start=2, lat_slice.stop=5, lat_slice.step=None\n",
      "lon_slice.start=3, lon_slice.stop=6, lon_slice.step=None\n",
      "average_region(avg_map,**pacific_nw_region)=34.0\n",
      "\n",
      "lat_slice.start=3, lat_slice.stop=7, lat_slice.step=None\n",
      "lon_slice.start=8, lon_slice.stop=9, lon_slice.step=None\n",
      "average_region(avg_map,**prairie_region)=53.0\n"
     ]
    }
   ],
   "source": [
    "pacific_nw_region = dict(lat_slice=slice(2,5),lon_slice=slice(3,6))\n",
    "prairie_region = dict(lat_slice=slice(3,7),lon_slice=slice(8,9))\n",
    "print(f\"{average_region(avg_map,**pacific_nw_region)=}\")\n",
    "print(f\"{average_region(avg_map,**prairie_region)=}\")"
   ]
  },
  {
   "cell_type": "markdown",
   "id": "632d9d50",
   "metadata": {},
   "source": [
    "The keyword expansion operator `**` is called \"double splat\" and can also be used in a function definition to represent an unknown/arbitrary number of optional arguments."
   ]
  },
  {
   "cell_type": "code",
   "execution_count": 4,
   "id": "80d660e6",
   "metadata": {},
   "outputs": [
    {
     "name": "stdout",
     "output_type": "stream",
     "text": [
      "my_args={'a': 5, 'b': 7, 'c': 10}\n"
     ]
    }
   ],
   "source": [
    "def print_args(**my_args):\n",
    "    print(f\"{my_args=}\")\n",
    "\n",
    "print_args(a=5, b=7, c=10)"
   ]
  },
  {
   "cell_type": "markdown",
   "id": "9da3c98a",
   "metadata": {},
   "source": [
    "3. **Function wrappers**\n",
    "   \n",
    "   You can expand a function's signature to create a new function with extra options.  Suppose you wanted\n",
    "   to add a missing  value option to the `average_region` function.   You could do that by *wrapping* the\n",
    "   function in an outer function."
   ]
  },
  {
   "cell_type": "code",
   "execution_count": 5,
   "id": "487c2038",
   "metadata": {},
   "outputs": [
    {
     "name": "stdout",
     "output_type": "stream",
     "text": [
      "\n",
      "lat_slice.start=2, lat_slice.stop=5, lat_slice.step=None\n",
      "lon_slice.start=3, lon_slice.stop=6, lon_slice.step=None\n",
      "average_missing(avg_map,**pacific_nw_region)=34.0\n"
     ]
    }
   ],
   "source": [
    "def average_missing(the_map, lat_slice=slice(0,-1), lon_slice=slice(0,-1), missing_val=-999.):\n",
    "    hit = (the_map == missing_val)\n",
    "    new_map = np.array(the_map,dtype=np.float64)  #make a copy so no side effects\n",
    "    new_map[hit]=np.nan\n",
    "    out = average_region(new_map,lat_slice,lon_slice)\n",
    "    return out\n",
    "\n",
    "print(f\"{average_missing(avg_map,**pacific_nw_region)=}\")"
   ]
  },
  {
   "cell_type": "markdown",
   "id": "b2c094bc",
   "metadata": {},
   "source": [
    "4. **Partial functions** (*not needed in this lab but useful to know about if you do a lot more coding*)\n",
    "\n",
    "   Finally, suppose you want to slim your function arguments down by defining a new function with some of the\n",
    "   default arguments defined.  You can do this using [partial functions](https://www.udacity.com/blog/2020/12/how-to-create-partial-functions-in-python.html).  Here's an example where you know you are always going to use -222 for missing data."
   ]
  },
  {
   "cell_type": "code",
   "execution_count": 6,
   "id": "7d733c0f",
   "metadata": {},
   "outputs": [
    {
     "name": "stdout",
     "output_type": "stream",
     "text": [
      "\n",
      "lat_slice.start=2, lat_slice.stop=5, lat_slice.step=None\n",
      "lon_slice.start=3, lon_slice.stop=6, lon_slice.step=None\n",
      "my_average_missing(new_map,**pacific_nw_region)=35.375\n"
     ]
    }
   ],
   "source": [
    "from functools import partial\n",
    "my_average_missing=partial(average_missing,missing_val=-222)\n",
    "\n",
    "new_map=np.array(avg_map)\n",
    "new_map[2:3,3:4]=-222\n",
    "print(f\"{my_average_missing(new_map,**pacific_nw_region)=}\")"
   ]
  },
  {
   "cell_type": "markdown",
   "id": "58e9ac49",
   "metadata": {},
   "source": [
    "### General form of python function signatures\n",
    "\n",
    "In the same way that you can use a dictionary expansion to represent optional parameters, you can\n",
    "also use a list expansion (`*args`) to expand a required list of arguments in a function call.\n",
    "Here's an example:"
   ]
  },
  {
   "cell_type": "code",
   "execution_count": 7,
   "id": "f334b451",
   "metadata": {},
   "outputs": [
    {
     "name": "stdout",
     "output_type": "stream",
     "text": [
      "\n",
      "       len(args)=3, args=(1, 2, 3)\n",
      "       kw={'a': 5, 'b': 6}\n",
      "    \n",
      "\n",
      "       len(args)=0, args=()\n",
      "       kw={'height': 5}\n",
      "    \n",
      "\n",
      "       len(args)=3, args=(1, 2, 3)\n",
      "       kw={}\n",
      "    \n"
     ]
    }
   ],
   "source": [
    "def print_vars(*args,**kw):\n",
    "    out=f\"\"\"\n",
    "       {len(args)=}, {args=}\n",
    "       {kw=}\n",
    "    \"\"\"\n",
    "    print(out)\n",
    "    \n",
    "print_vars(1,2,3,a=5,b=6)\n",
    "print_vars(height=5)\n",
    "print_vars(1,2,3)"
   ]
  },
  {
   "cell_type": "markdown",
   "id": "9b05b659",
   "metadata": {},
   "source": [
    "## Part 2: Write Your Own Module (Tutorial)"
   ]
  },
  {
   "cell_type": "markdown",
   "id": "6504220a",
   "metadata": {},
   "source": [
    "Once our code has been packaged in succinct functions with no side effects, we can export it as a module and call our functions from other scripts. In the lab folder, you will find a file called `example_funcs.py`. We want to run these functions from the current notebook. To do this, use the familiar syntax to import functions from a module:"
   ]
  },
  {
   "cell_type": "code",
   "execution_count": 8,
   "id": "bbee288d",
   "metadata": {},
   "outputs": [],
   "source": [
    "import example_funcs\n",
    "# or from example_funcs import earth\n",
    "# or import example_funcs as ef"
   ]
  },
  {
   "cell_type": "markdown",
   "id": "09e47779",
   "metadata": {},
   "source": [
    "and run the function with:"
   ]
  },
  {
   "cell_type": "code",
   "execution_count": 9,
   "id": "174938bc",
   "metadata": {},
   "outputs": [
    {
     "data": {
      "text/plain": [
       "'Harmless'"
      ]
     },
     "execution_count": 9,
     "metadata": {},
     "output_type": "execute_result"
    }
   ],
   "source": [
    "example_funcs.earth()"
   ]
  },
  {
   "cell_type": "markdown",
   "id": "47107805",
   "metadata": {},
   "source": [
    "If you wish to add to or modify functions in a module, do the following:\n",
    "\n",
    "1) From the `lab_wk9` jupyter notebook: \n",
    "\n",
    "**(a)** Go to `File` $\\rightarrow$ [Open] to get the file list, then   \n",
    "**(b)** tick the box next to `example_funcs.py`, \n",
    "        you get new actions:  \n",
    "        [Duplicate], [Rename], [Move], [Download], [View], [Edit], [Trashcan].        \n",
    "**(c)**      Clicking on [edit] opens `example_funcs.py` in a simple python editor.\n",
    "\n",
    "2) Apply your changes to the `example_funcs.py` file, save them.\n",
    "\n",
    "3) Go back to your main notebook (i.e. this notebook), restart the kernel \n",
    "\n",
    "($\\blacktriangleright\\blacktriangleright$), re-run the `import example_funcs` cell. \n",
    "\n",
    "The changes should now be in effect for any subsequent executions of functions in the `example_funcs.py` module.\n",
    "\n",
    "Try it yourself! Use steps 1-3 to modify the function `earth()` to return the string `\"Mostly harmless\"` instead of its current message. Make sure the changes are reflected when you run the function from inside this notebook."
   ]
  },
  {
   "cell_type": "markdown",
   "id": "ed9a842a",
   "metadata": {},
   "source": [
    "## Part 3: Apply to Real Data Analysis\n",
    "\n",
    "### Objective 1:  Getting oriented with the task at hand.\n",
    "\n",
    "Read through the code in the cell below Part 3.  There are several functions that will accomplish the following tasks: (1) reading and parsing the data, (2) turning the east and north components of ocean currents into 2D grids, (3) computing a 2D running mean, (4) masking out unwanted points for plotting purposes, (5) making a plot, (6) select a sub-region from a 2D grid using a function that you will write, using the function signature provided.\n",
    "\n",
    "The functions will be the back-end of the lab - you can use these as written, with the exception of the select_region function which you will write.  These functions will be placed into a module, that you can call from  your main script.  You will then write a main script that will load the data, make a 2D grid, select a subregion, compute the moving average, and make a plot.\n",
    "\n",
    "#### A few more details on the data analysis\n",
    "`move_to_grid()`: The first step in the data analysis (after reading and parsing the data) is done by calling the function move_to_grid(). This function 2D grids of the north and east velocities from the input 1D arrays, and longitude and latitude arrays corresponding to columns and rows respectively (like the topo data in previous labs). Land locations contain NaN.\n",
    "\n",
    "`mean2d()`: Then, we want to smooth the data a bit. We have dealt with running mean windows in 1D (for time series). This is generalized to a 2D case, which we are implementing with the function mean2d(). For a ‘window size’ of N (again with N odd) average the points in an NxN square centered on the location of the actual data point (draw a picture for yourself to make sure you understand how this works). For example, for a window size of 3, the 9 points within a 3 ×3 square surrounding the data point are averaged together.   Make sure you understand how the averaging works near the edges of the map, or if land points occur in the averaging window.  This kind of careful and precise working through of code can save you many, many hours of time in debugging / understanding any output."
   ]
  },
  {
   "cell_type": "markdown",
   "id": "dd7ae604",
   "metadata": {},
   "source": [
    "### Objective 2:  write select_region()\n",
    "\n",
    "Write a function called `select_region()`  which takes as input the full arrays produced by `move_to_grid` and outputs only data within a row/column slice specified in the function arguments. Note how we used the\n",
    "slice object in Part 1. Your function should tick all the boxes from **Part 1** i.e. \n",
    "less than 5 required input args (or use keyword expansion), no *side effects*, etc.  We will be using slice objects as discussed  in Part 1 above."
   ]
  },
  {
   "cell_type": "markdown",
   "id": "ba44e2bd",
   "metadata": {},
   "source": [
    "Now write your select_region function. It should have a basic structure that looks like this\n",
    "\n",
    "``` python\n",
    "def select_region(lons=None, lats=None, u_vel=None, v_vel = None,\n",
    "                 lon_slice=slice(0,360),lat_slice=slice(0,179): \n",
    "   #\n",
    "   #  return, lons[lon_slice], lats[lat_slice] etc.\n",
    "   #             \n",
    "   do: slice lons, lats, u_vel and v_vel using lon_slice and lat_slice                 \n",
    "return lons, lats, u_vel,v_vel\n",
    "```"
   ]
  },
  {
   "cell_type": "code",
   "execution_count": 10,
   "id": "e2e1ee15",
   "metadata": {
    "nbgrader": {
     "grade": false,
     "grade_id": "cell-a36b8ab2c097201f",
     "locked": false,
     "schema_version": 3,
     "solution": true,
     "task": false
    }
   },
   "outputs": [],
   "source": [
    "# select_region function solution\n",
    "# Define your select_region function in this cell using the signature in the cell above\n",
    "# \n",
    "\n",
    "### BEGIN SOLUTION\n",
    "def select_region(lons=None, lats=None, u_vel=None, v_vel = None,\n",
    "                  lon_slice=slice(0,360),lat_slice=slice(0,179)):\n",
    "    \"\"\"\n",
    "    Write your sel\n",
    "    \"\"\"\n",
    "    lats=lats[lat_slice]\n",
    "    lons = lons[lon_slice]\n",
    "    u_vel=u_vel[lat_slice,lon_slice]\n",
    "    v_vel = v_vel[lat_slice,lon_slice]\n",
    "    return lons, lats, u_vel,v_vel\n",
    "### END SOLUTION"
   ]
  },
  {
   "cell_type": "markdown",
   "id": "a9072061",
   "metadata": {},
   "source": [
    "#### Test your select_region()\n",
    "\n",
    "Run the code in the cell below to test your `select_region()` function.  It should produce the following output:\n",
    "```python\n",
    "np.shape(test_lons)=(36,),np.shape(test_lats)=(19,)\n",
    "lon1=array([60, 70, 80])\n",
    "lat1=array([ 0, 10, 20])\n",
    "u1=array([[0.        , 0.        , 0.        ],\n",
    "       [0.17101007, 0.11697778, 0.05939117],\n",
    "       [0.3213938 , 0.21984631, 0.1116189 ]])\n",
    "v1=array([[0.5       , 0.34202014, 0.17364818],\n",
    "       [0.5       , 0.34202014, 0.17364818],\n",
    "       [0.5       , 0.34202014, 0.17364818]])\n",
    "```\n",
    "\n",
    "Note that in Part 3  you will use the more sophisticated dictionary approach for the input arguments for `select_region`, but the example below should make it obvious what is needed later."
   ]
  },
  {
   "cell_type": "code",
   "execution_count": 11,
   "id": "0cc92c93",
   "metadata": {
    "nbgrader": {
     "grade": true,
     "grade_id": "cell-3b0067bf4d226e9b",
     "locked": true,
     "points": 0,
     "schema_version": 3,
     "solution": false,
     "task": false
    }
   },
   "outputs": [
    {
     "name": "stdout",
     "output_type": "stream",
     "text": [
      "np.shape(test_lons)=(36,),np.shape(test_lats)=(19,)\n",
      "lon1=array([60, 70, 80])\n",
      "lat1=array([ 0, 10, 20])\n",
      "u1=array([[0.        , 0.        , 0.        ],\n",
      "       [0.17101007, 0.11697778, 0.05939117],\n",
      "       [0.3213938 , 0.21984631, 0.1116189 ]])\n",
      "v1=array([[0.5       , 0.34202014, 0.17364818],\n",
      "       [0.5       , 0.34202014, 0.17364818],\n",
      "       [0.5       , 0.34202014, 0.17364818]])\n"
     ]
    }
   ],
   "source": [
    "#\n",
    "# select region test -- this should run successfully\n",
    "#\n",
    "\n",
    "test_lats = np.arange(-90,95,10)\n",
    "test_lons = np.arange(0,360,10)\n",
    "print(f\"{np.shape(test_lons)=},{np.shape(test_lats)=}\")\n",
    "mx,my = np.meshgrid(test_lons,test_lats)\n",
    "test_u = np.sin(np.deg2rad(2*my))*np.cos(np.deg2rad(mx))\n",
    "test_v = np.cos(np.deg2rad(mx))\n",
    "#plt.contourf(test_lons, test_lats, test_u) # uncomment if you want to see what test_u looks like\n",
    "\n",
    "lon1,lat1,u1,v1=select_region(test_lons, test_lats, test_u, test_v,\n",
    "                 lon_slice=slice(6,9),lat_slice=slice(9,12))\n",
    "print(f\"{lon1=}\\n{lat1=}\\n{u1=}\\n{v1=}\")"
   ]
  },
  {
   "cell_type": "markdown",
   "id": "74dddd55",
   "metadata": {},
   "source": [
    "### Objective 3\n",
    "\n",
    "Once you have tested your `select_region()` function, export all the functions in the cell below labeled **functions for export** to a module called `lab9_funcs.py`, save it in the same folder as the lab and delete the cell with these functions from this lab notebook (**make a copy of this notebook first for backup**).\n",
    "\n",
    "In the lab notebook (this notebook), import your module and write one more function called `main()` which uses the module to generate a map of averaged ocean currents in a selected lat, lon region.  `main()` should take 4 arguments which specify the lat/lon range to map (or a single dictionary containing 4 keys) and contain liberal amounts of commenting, explaining what is happening in each step.  To reiterate, `main` is in **this** notebook, not the functions module.\n",
    "\n",
    "When you are finished, this notebook should contain < 20 lines of code (not including the tutorials above). This is the style of notebook we prefer for big projects, with minimal code which shows each step of the analysis but without displaying all the messy details.  \n",
    "\n",
    "Finally, write two or three sentences max summarizing your results. **For the world map:** Are there any noticeable patterns in the summertime surface ocean currents? Where is the fastest current in the dataset and in which direction? **For your selected region** Where are the min and max currents and in which directions (if the min current is close to zero you might not be able to see the direction easily)?"
   ]
  },
  {
   "cell_type": "markdown",
   "id": "5c7603a7",
   "metadata": {},
   "source": [
    "### To Hand In\n",
    "\n",
    "- This notebook, with your `main()` function and the map it produces, along with your analysis (patterns, fastest current)\n",
    "\n",
    "- Your module `lab9_funcs.py`, which includes your `select_region()` function\n",
    "\n",
    "To submit multiple files to the same assignment in Canvas, see [this link](https://unthsc-canvas.freshdesk.com/support/solutions/articles/44001929195-how-do-i-submit-multiple-documents-to-an-assignment-)\n",
    "\n",
    "**Hints:**\n",
    "\n",
    "1.  My solution called the functions in the following order:\n",
    "```\n",
    "    get_data_dict(\"mgsva_MJJ.csv\")\n",
    "    move_to_grid(**var_dict)\n",
    "    bounds_dict = dict(lons=lons,lats=lats,u_vel=u,v_vel=v)\n",
    "    # find start and stop for lon_slice given min_lon and max_lon (you need to write this code snippet)\n",
    "    bounds_dict['lon_slice']=slice(start,stop)\n",
    "    # find start and stop for lat_slice given min_lat and max_lat (you need to write this code snippet)\n",
    "    bounds_dict['lat_slice']=slice(start,stop)\n",
    "    select_region(**bounds_dict)\n",
    "    mean2d(u, filter_width)\n",
    "    mean2d(v, filter_width)\n",
    "    mean2d(get_magnitudes(u, v), filter_width)\n",
    "    mask_nth(u_filt, filter_width)\n",
    "    mask_nth(v_filt, filter_width)\n",
    "    do_plot(lats, lons, m_filt, u_masked, v_masked)\n",
    "```\n",
    "2.  First make sure your code works by plotting the map for the whole world.  It should look like the one at the top of this notebook.\n",
    "\n",
    "3.  To do the array slicing you will need to find the indices of the rows and columns corresponding to the lat,lon limits for your chosen region.  `numpy.argwhere()` accomplishes this task."
   ]
  },
  {
   "cell_type": "markdown",
   "id": "43a43e2e",
   "metadata": {},
   "source": [
    "###  Functions for export in the next cell\n",
    "\n",
    "-- copy all the python code to `lab9_funs.py` (skip the quote marks at the very top and bottom of \n",
    "that tell Jupyter to format this as a python code block)\n",
    "Don't forget to include your own version\n",
    "of `select_region` in place of the stub file at the end of the cell"
   ]
  },
  {
   "cell_type": "markdown",
   "id": "feef4198",
   "metadata": {
    "lines_to_next_cell": 2
   },
   "source": [
    "```python\n",
    "import numpy as np\n",
    "from matplotlib import pyplot as plt\n",
    "\n",
    "def get_data_dict(filename):\n",
    "    \"\"\"\n",
    "    Takes in \"filename\" (csv file) and outputs a dictionary containing\n",
    "    keys:\n",
    "\n",
    "         \"lats\"  - lattitude of each point\n",
    "         \"lons\"  - longitude of each point\n",
    "         \"u_vel\" - eastward velocity component\n",
    "         \"v_vel\" - northward velocity component\n",
    "    \"\"\"\n",
    "    the_file = np.genfromtxt(filename, delimiter=\",\")\n",
    "\n",
    "    # extract variables from the csv\n",
    "    # (namespaces are a honking great idea)\n",
    "    var_dict = {\n",
    "        \"lats\": the_file[:, 1],\n",
    "        \"lons\": the_file[:, 2],\n",
    "        \"u_vel\": the_file[:, 3],\n",
    "        \"v_vel\": the_file[:, 4],\n",
    "    }\n",
    "    # extra information we dont need right now\n",
    "    # \"u_dev\":the_file[:,5],\n",
    "    # \"v_dev\":the_file[:,6]}\n",
    "    return var_dict\n",
    "\n",
    "\n",
    "def move_to_grid(lats, lons, u_vel, v_vel):\n",
    "    \"\"\"\n",
    "\n",
    "    function to create 2D numpy arrays out of FORTRAN formatted csv data\n",
    "\n",
    "    function to create 2D arrays out of FORTRAN formatted csv data.  \n",
    "    Assumes user wants a 1 deg by 1 deg grid.\n",
    "\n",
    "    in:\n",
    "    csv file with columns 15000., lon, lat, u_vel, v_vel, u_dev, v_dev\n",
    "\n",
    "    (dev is the standard deviation of each velocity measurement, 15000.\n",
    "    is an artifact from FORTRAN formatting)\n",
    "\n",
    "    out:\n",
    "    1D arrays: lat_0, lon_0\n",
    "    2D arrays: u, v\n",
    "    \"\"\"\n",
    "    # set up grids\n",
    "    # initializing with NaNs also automatically deals with points where there is\n",
    "    # no data (eg. on land) because those locations will simply contain NaNs\n",
    "\n",
    "    lon_0 = np.arange(-179, 180)\n",
    "    lat_0 = np.arange(-89, 89)\n",
    "    \n",
    "    lon_0 = np.arange(-179, 181)\n",
    "    lat_0 = np.arange(-89, 90)   # CJ modified to 90 so goes -89 to 89\n",
    "    \n",
    "    nlat = len(lat_0)            # CJ added these two lines to reduce hardwiring.\n",
    "    nlon = len(lon_0)\n",
    "    \n",
    "    u = np.full([nlat, nlon], np.nan)\n",
    "    v = np.full([nlat, nlon], np.nan)\n",
    "\n",
    "    # Loop through all points in .csv file.\n",
    "    #\n",
    "    # For each, calculate the row/col indices\n",
    "    # from the lat/longs.  Lats get converted\n",
    "    # into row indices 'i', and longs into column\n",
    "    # indices 'j'. Since we have a 1 degree spacing\n",
    "    # we just have to add the right offset\n",
    "    # to make this work - for example, for latitudes\n",
    "    # latitude of -89 goes to row 0,\n",
    "    # latitude of -88 goes to row 1, etc.\n",
    "    #\n",
    "    # Then write the\n",
    "    # corresponding U/V data for that lat/long\n",
    "    # into the right place (i.e. index (i,j) )\n",
    "    # in the U/V matrices\n",
    "    for k in range(len(lats)):      # CJ changed from len(lats0) <-- was a bug\n",
    "        i = int(lons[k]) + 78  # row index\n",
    "        j = int(lats[k]) + 179  # column index\n",
    "        u[i, j] = u_vel[k]\n",
    "        v[i, j] = v_vel[k]\n",
    "\n",
    "    return lon_0, lat_0, u, v\n",
    "\n",
    "\n",
    "def mean2d(in_map, winlen):\n",
    "    \"\"\"\n",
    "    Takes a 2D running mean of an input np array\n",
    "\n",
    "    in:  winlen -- window length\n",
    "         in_map -- numpy array on which to perform the running mean.\n",
    "\n",
    "    assumes in_map is a world map, and wraps longitude[-1] around to [0]\n",
    "\n",
    "    out: out_map -- the filtered map\n",
    "    \"\"\"\n",
    "\n",
    "    def do_mean(in_map, winlen):\n",
    "        # initialize output array and internal variables\n",
    "        out_map = np.empty_like(in_map)\n",
    "        out_map[:] = np.nan\n",
    "        nrows, ncols = in_map.shape\n",
    "        wn = int((winlen - 1) // 2)\n",
    "\n",
    "        # loop through every point (i, j) in the grid:\n",
    "        # (ignore edges for now)\n",
    "        for i in range(wn, nrows - wn):\n",
    "            for j in range(wn, ncols - wn):\n",
    "                # don't filter points containing nan (ie land, edge of map)\n",
    "                if not np.isfinite(in_map[i, j]):\n",
    "                    out_map[i, j] = np.nan\n",
    "                else:\n",
    "                    # create the window\n",
    "                    imin = i - wn\n",
    "                    imax = i + wn + 1\n",
    "                    jmin = j - wn\n",
    "                    jmax = j + wn + 1\n",
    "\n",
    "                    the_window = in_map[imin:imax, jmin:jmax]\n",
    "                    # use nanmean to take the mean, ignoring nan values\n",
    "                    out_map[i, j] = np.nanmean(the_window)\n",
    "\n",
    "        return out_map\n",
    "\n",
    "    # check for odd winlen\n",
    "    winlen = int(winlen)\n",
    "    if winlen % 2 == 0:\n",
    "        winlen += 1\n",
    "\n",
    "    return do_mean(in_map, winlen)\n",
    "\n",
    "\n",
    "def mask_nth(in_map, n):\n",
    "    \"\"\"\n",
    "    Decimates a 2d array with all values using every n-th\n",
    "    value, and setting all empty grid cells to NaNs.\n",
    "    in:\n",
    "        in_map: 2d numpy array\n",
    "        n: desired spacing of points\n",
    "\n",
    "    out:\n",
    "        masked_map: 2d numpy array with mask applied\n",
    "    \"\"\"\n",
    "    masked_map = np.empty_like(in_map)\n",
    "    masked_map[:] = np.nan\n",
    "    masked_map[::n, ::n] = in_map[::n, ::n]\n",
    "    return masked_map\n",
    "\n",
    "\n",
    "def get_magnitudes(u, v):\n",
    "    \"\"\"\n",
    "    takes in velocity components 'u' (int or float, array-like containing int or float)\n",
    "    and 'v' (int or float, array-like containing int or float) and returns velocity magnitude\n",
    "\n",
    "    m = (u^2 + v^2) ^ 0.5\n",
    "\n",
    "    \"\"\"\n",
    "    return (u ** 2 + v ** 2) ** 0.5\n",
    "\n",
    "\n",
    "def do_plot(lats, lons, m_filt, u_masked, v_masked):\n",
    "    \"\"\"\n",
    "    Generates a plot of an input velocity field\n",
    "    \"\"\"\n",
    "    fig, ax = plt.subplots(figsize=(10, 7))\n",
    "    vals=ax.contourf(lons, lats, m_filt, cmap=\"BuGn\")\n",
    "    cbar=fig.colorbar(vals)\n",
    "    label=cbar.set_label(\"speed (m/s)\",rotation=270, labelpad=15)\n",
    "    ax.quiver(lons, lats, u_masked, v_masked, pivot=\"middle\", scale=15)\n",
    "    ax.set_title(\"Summertime Surface Ocean Currents\")\n",
    "    ax.set_xlabel(\"Longitude\")\n",
    "    ax.set_ylabel(\"Latitude\")\n",
    "    return None\n",
    "\n",
    "\n",
    "def select_region():\n",
    "    your function here\n",
    "```"
   ]
  },
  {
   "cell_type": "code",
   "execution_count": 12,
   "id": "5e8a3363",
   "metadata": {
    "lines_to_next_cell": 2,
    "nbgrader": {
     "grade": true,
     "grade_id": "cell-0b84ec55d45842b7",
     "locked": false,
     "points": 4,
     "schema_version": 3,
     "solution": true,
     "task": false
    }
   },
   "outputs": [],
   "source": [
    "# HAND IN\n",
    "\n",
    "# In this cell a main function that calls your functions and plots\n",
    "# a map of the surface currents.  \n",
    "\n",
    "# your main routine needs to have the following name and signature\n",
    "# main(lon_min,lon_max,lat_min,lat_max)\n",
    "\n",
    "# We will call main twice:\n",
    "# once to plot the entire world (like the figure at the to of the page) \n",
    "# and a second time to plot an arbitray slice\n",
    "\n",
    "\n",
    "# Note that I shorten lab9_funcs to l9fun so I can write\n",
    "# l9fun.move_to_grid, l9fun.get_data_dict etc.\n",
    "\n",
    "\n",
    "import lab9_funcs as l9fun\n",
    "import numpy as np\n",
    "\n",
    "### BEGIN SOLUTION\n",
    "def main(lon_min,lon_max,lat_min,lat_max):\n",
    "    # get the datafile\n",
    "    filename = 'mgsva_MJJ.csv'\n",
    "\n",
    "    # extract variables from the csv\n",
    "    var_dict = l9fun.get_data_dict(filename)\n",
    "    lons, lats, u, v = l9fun.move_to_grid(**var_dict)  # the honking great way\n",
    "    \n",
    "    # need to find rows,cols for slicing given lat, lons\n",
    "    # we haven't actually shown them how to do this?\n",
    "    \n",
    "    # set up bounds for selected region\n",
    "    bounds_dict = dict(lons=lons,lats=lats,u_vel=u,v_vel=v)\n",
    "    # set up bounds for select region\n",
    "    i1 = np.min(np.argwhere(lons>=lon_min)) \n",
    "    i2 = np.max(np.argwhere(lons<=lon_max))\n",
    "    i3 = np.min(np.argwhere(lats>=lat_min)) \n",
    "    i4 = np.max(np.argwhere(lons<=lat_max))\n",
    "    bounds_dict['lon_slice']=slice(i1,i2)\n",
    "    bounds_dict['lat_slice']=slice(i3,i4)\n",
    "\n",
    "    # grab selected region\n",
    "    lons, lats, u, v = l9fun.select_region(**bounds_dict)\n",
    "    print(lons.shape,lats.shape,u.shape,v.shape)\n",
    "    # filter the velocity fields\n",
    "    filter_width = 11\n",
    "    u_filt = l9fun.mean2d(u, filter_width)\n",
    "    v_filt = l9fun.mean2d(v, filter_width)\n",
    "    m_filt = l9fun.mean2d(l9fun.get_magnitudes(u, v), filter_width)\n",
    "\n",
    "    # apply mask to make nicely spaced arrows\n",
    "    u_masked = l9fun.mask_nth(u_filt, filter_width)\n",
    "    v_masked = l9fun.mask_nth(v_filt, filter_width)\n",
    "\n",
    "    # do the plot\n",
    "    l9fun.do_plot(lats, lons, m_filt, u_masked, v_masked)\n",
    "    \n",
    "    return None\n",
    "### END SOLUTION"
   ]
  },
  {
   "cell_type": "code",
   "execution_count": 13,
   "id": "4581af3a",
   "metadata": {
    "nbgrader": {
     "grade": true,
     "grade_id": "cell-a573337618332afa",
     "locked": true,
     "points": 3,
     "schema_version": 3,
     "solution": false,
     "task": false
    }
   },
   "outputs": [
    {
     "name": "stdout",
     "output_type": "stream",
     "text": [
      "(100,) (179,) (179, 100) (179, 100)\n"
     ]
    },
    {
     "name": "stdout",
     "output_type": "stream",
     "text": [
      "(359,) (179,) (179, 359) (179, 359)\n"
     ]
    },
    {
     "data": {
      "image/png": "[encoded data removed]",
      "text/plain": [
       "<Figure size 720x504 with 2 Axes>"
      ]
     },
     "metadata": {
      "filenames": {
       "image/png": "/Users/phil/repos/eosc211/_build/jupyter_execute/lab_keys/week9_lab/lab_wk9_34_2.png"
      },
      "needs_background": "light"
     },
     "output_type": "display_data"
    },
    {
     "data": {
      "image/png": "[encoded data removed]",
      "text/plain": [
       "<Figure size 720x504 with 2 Axes>"
      ]
     },
     "metadata": {
      "filenames": {
       "image/png": "/Users/phil/repos/eosc211/_build/jupyter_execute/lab_keys/week9_lab/lab_wk9_34_3.png"
      },
      "needs_background": "light"
     },
     "output_type": "display_data"
    }
   ],
   "source": [
    "# hidden calls to main() here\n",
    "\n",
    "### BEGIN HIDDEN TESTS\n",
    "main(-75,25,-90,90)\n",
    "main(-180,180,-90,90)\n",
    "### END HIDDEN TESTS"
   ]
  }
 ],
 "metadata": {
  "jupytext": {
   "cell_metadata_filter": "all",
   "formats": "ipynb,md:myst",
   "text_representation": {
    "extension": ".md",
    "format_name": "myst",
    "format_version": 0.13,
    "jupytext_version": "1.11.5"
   }
  },
  "kernelspec": {
   "display_name": "Python 3 (ipykernel)",
   "language": "python",
   "name": "python3"
  },
  "language_info": {
   "codemirror_mode": {
    "name": "ipython",
    "version": 3
   },
   "file_extension": ".py",
   "mimetype": "text/x-python",
   "name": "python",
   "nbconvert_exporter": "python",
   "pygments_lexer": "ipython3",
   "version": "3.8.12"
  },
  "source_map": [
   14,
   20,
   32,
   42,
   54,
   60,
   93,
   105,
   113,
   120,
   124,
   131,
   139,
   150,
   157,
   166,
   174,
   187,
   191,
   195,
   201,
   205,
   209,
   231,
   246,
   254,
   268,
   295,
   314,
   341,
   353,
   386,
   395,
   579,
   654
  ]
 },
 "nbformat": 4,
 "nbformat_minor": 5
}