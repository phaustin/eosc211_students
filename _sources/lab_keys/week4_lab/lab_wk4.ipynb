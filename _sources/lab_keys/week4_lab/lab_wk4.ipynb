{
 "cells": [
  {
   "cell_type": "markdown",
   "id": "1c4f7e93",
   "metadata": {},
   "source": [
    "# Answers: Lab Week 4\n",
    "\n",
    "## EOSC 211\n",
    "\n",
    "### Learning Objectives:\n",
    "\n",
    "1. Do math with python! \n",
    "\n",
    "2. Write structured code following input-process-output procedure\n",
    "\n",
    "3. Develop code with the scaffolding technique \n",
    "\n",
    "4. More plots!"
   ]
  },
  {
   "cell_type": "code",
   "execution_count": 1,
   "id": "3fe6fc31",
   "metadata": {},
   "outputs": [],
   "source": [
    "import numpy as np\n",
    "from matplotlib import pyplot as plt \n",
    "import numpy.testing as testing"
   ]
  },
  {
   "cell_type": "markdown",
   "id": "6a78b1c5",
   "metadata": {},
   "source": [
    "## Part 1: Computer Math and Writing Stylish Code (Tutorial)"
   ]
  },
  {
   "cell_type": "markdown",
   "id": "97dcb12b",
   "metadata": {},
   "source": [
    "Below are the hydrostatic equations. They relate *atmospheric pressure* and *density* to height above sea level. The pressure and air density conditions we measure at the surface are due to the weight of the atmosphere above being pulled down by Earth's gravity. As we move higher into the atmosphere, there is less air above us (less weight pushing down), so the pressure decreases, as does the density (less pressure = less force squeezing the air molecules together). For air pressure $P$, we can express this as a mathematical function:\n",
    "\n",
    "$$\n",
    "P = P_0\\cdot e^{-(a_P/T)\\cdot z}\\tag{Stull 1.9a†}\n",
    "$$\n",
    "\n",
    "similarly for density $\\rho$ (represented by the greek letter *rho*):\n",
    "\n",
    "$$\n",
    "\\rho = \\rho_0\\cdot e^{-(a_\\rho/T)\\cdot z}\\tag{Stull 1.13a†}\n",
    "$$\n",
    "\n",
    "where $a_P=0.0342 K/m$ and $a_\\rho=0.040K/m$ are constants. The average value for pressure and air density at sea level are $P_0=101325 Pa$, and $\\rho_0=1.225kg/m^3$, respectively.   \n",
    "   \n",
    "Lets define our variables in a table:\n",
    "\n",
    "| Symbol  | Variable      | SI Units   |\n",
    "|:--------|:--------------|:------------|\n",
    "| $P$     | Pressure      | $Pa$   |\n",
    "| $\\rho$  | Density      | $kg/m^3$   |\n",
    "| $T$     | Temperature   | $K$ |\n",
    "| $z$     | Height Above Sea Level   | $m$ |\n",
    "\n",
    "We would like to write code to calculate atmospheric pressure and density at any given height. In lecture, we practiced using Python's built in mathematical operators `+ = * / **`. Now we will apply these skills to *mathematically describe the state of the atmosphere* and make some informative graphics to communicate our results. As always when tackling a more complex problem, keeping our code organized is incredibly helpful, especially when we need to circle back to either modify or debug our program.\n",
    "___\n",
    "\n",
    "### Tips on Writing Code With Style:\n",
    "\n",
    "* Be very careful with unit conversion.  Humans usually like to express temperature in Celsius, but the thermodynamic equations require temperatures in Kelvin.  That means that you need to distinguish between two temperatures with names like `Tk` and `Tc`, where `Tk = Tc + 273.15`. Make sure that you convert to Kelvin as soon as you can. Do it only once at the start and (if necessary for output) once at the end.\n",
    "\n",
    "* Choose good variable names. Don’t use single letters like `T` and `P` for variable names in a script. It makes it very hard to do search and replace with your editor when you want to change them, and the names aren’t very meaningful to others who might read your code. Remember that Python is *case sensitive* so `P` and `p` are two different variables. Also, it is super helpful to note the units of each variable with comments.\n",
    "\n",
    "* As much as you can, separate your script into 4 parts IN THIS ORDER:\n",
    "\n",
    ">**1.  INPUTS:**  These  are  variables  whose  values  you  might  want  to  change  if  you  run  the  program multiple times.\n",
    "\n",
    ">**2.  INTERNAL DEFINITIONS or CONSTANTS:** These are variables that are defined as constants which you will never change, or some simple conversions (e.g. Celsius to Kelvin)\n",
    "\n",
    ">**3.  CALCULATIONS:** This is where the complicated parts of the procedure go\n",
    "\n",
    ">**4.  OUTPUTS:** What you do once the math is finished (e.g. plotting).\n",
    "\n",
    "* It is useful to separate the parts by white space, and liberally comment your code. You can also separate each of these four parts into individual cells in a Jupyter Notebook, so you can run them individually, one at a time. Note that not all tasks in 2 and 3 are easily separated, and sometimes plotting happens earlier than the end of the program, but it’s a good idea to always approach problems this way initially.\n",
    "___\n",
    "### \"Coding Up\" the Hydrostatic Equations\n",
    "\n",
    "Write python code to solve for pressure and density:"
   ]
  },
  {
   "cell_type": "code",
   "execution_count": 2,
   "id": "0c61689b",
   "metadata": {},
   "outputs": [
    {
     "name": "stdout",
     "output_type": "stream",
     "text": [
      "Pressure at 8849m is 36088.53 Pa\n",
      "Density is 0.37 kg/m3\n"
     ]
    }
   ],
   "source": [
    "# inputs\n",
    "Tc = 20  # temperature in Celcius [C]\n",
    "height = 8849  # [m]\n",
    "\n",
    "# internal definitions\n",
    "Tk = Tc + 273.15  # temperature in Kelvin [K]\n",
    "a_P = 0.0342  # [K/m]\n",
    "a_rho = 0.040  # [K/m]\n",
    "P0 = 101325  # surface pressure in Pascals [Pa]\n",
    "rho_0 = 1.225  # density at z=0 [kg/m3]\n",
    "\n",
    "# calculations\n",
    "pres = P0 * np.exp(-a_P / Tk * height)  # eq 1.9a\n",
    "dens = rho_0 * np.exp(-a_rho / Tk * height)  # eq 1.13a\n",
    "\n",
    "# outputs\n",
    "# print the result rounded to two decimal places: \n",
    "print(f'Pressure at {height}m is {pres:.2f} Pa')\n",
    "print(f'Density is {dens:.2f} kg/m3')"
   ]
  },
  {
   "cell_type": "markdown",
   "id": "6c8074c8",
   "metadata": {},
   "source": [
    "Try playing with the inputs to see if our pressure/density calculator is working properly. We know that at the surface (ie $z$=0m), the pressure should equal the reference $P_0$ of 101325 Pa. On the summit of Mt Everest (8849m), pressure is roughly a third of that value. Waaay up high, (try setting $z$ to a billion or something) the pressure should drop away to near 0 Pa. Is our calculation working properly? *It is **always** good practice to do some \"common sense\" checks like these wherever you can in writing code - they will save you a lot of time debugging later.*\n",
    "___\n",
    "### Math with Arrays\n",
    "\n",
    "Now that you have working code for *scalar inputs* (and checked that it calculates the correct values), let's can apply it to a whole range of values by defining our inputs as numpy arrays instead of single variables (we could also use lists, tuples or most any *iterable data type* will work). Solving this equation by hand or with a calculator isn't that hard, but now we can solve it again and again as many times as we want for no extra cost! Let's compute the pressure for a bunch of different heights, then use Matplotlib to make an XY plot of our output variables over the specified range of inputs. \n",
    "\n",
    "**Remember:** Multiplying an array `A` by a scalar variable `b` multiplies every element of `A` by `b`. Multiplying an array `A` by another array `B` does the operation *element-wise*; i.e. the first element of `A` gets multiplied by the first element of `B`, the second element of `A` by the second of `B`, etc. This only works if the `A` and `B` are the same size and shape."
   ]
  },
  {
   "cell_type": "code",
   "execution_count": 3,
   "id": "41c95e82",
   "metadata": {},
   "outputs": [
    {
     "name": "stdout",
     "output_type": "stream",
     "text": [
      "Pressure: [31553.82862659 35458.3495896  39846.02218947 44776.63237856\n",
      " 50317.36411808 56543.71481951 63540.52406416 71403.12961813\n",
      " 80238.66649441 90167.52676294]\n",
      "Density: [0.31300118 0.3587608  0.41121031 0.47132775 0.54023413 0.61921438\n",
      " 0.70974124 0.8135028  0.93243392 1.06875234]\n"
     ]
    }
   ],
   "source": [
    "# change the \"height\" input to an array\n",
    "height = np.arange(10000, 0, -1000)  # m\n",
    "\n",
    "# this cell \"knows\" about the definitions from the previous cell, no need to repeat\n",
    "# (unless we want to change something)\n",
    "\n",
    "# calculations\n",
    "pres = P0 * np.exp(-a_P / Tk * height)  # eq 1.9a\n",
    "dens = rho_0 * np.exp(-a_rho / Tk * height)  # eq 1.13a\n",
    "\n",
    "# output\n",
    "print(f'Pressure: {pres}')\n",
    "print(f'Density: {dens}')"
   ]
  },
  {
   "cell_type": "markdown",
   "id": "593e6ba2",
   "metadata": {},
   "source": [
    "___\n",
    "### The `plt.subplots()` Method\n",
    "\n",
    "The outputs from the previous cell don't exactly jump off the page. We could show our results much better with, you guessed it: *a scientific figure!* Unlike last week, we have 2 separate but related datasets, and ideally we would like to present them together as one figure. For this we can use a slightly different plotting syntax, which creates one big \"figure\" object, and \"axes\" objects which are displayed on the figure. We can create the axes individually, referencing them using *slicing* to mess around with their content, labels, colours etc. just like the plot we created last week. The syntax for creating subplots is as follows:"
   ]
  },
  {
   "cell_type": "code",
   "execution_count": 4,
   "id": "e30b23d9",
   "metadata": {},
   "outputs": [
    {
     "data": {
      "image/png": "[encoded data removed]",
      "text/plain": [
       "<Figure size 720x288 with 2 Axes>"
      ]
     },
     "metadata": {
      "filenames": {
       "image/png": "/home/phil/repos/eosc211/_build/jupyter_execute/lab_keys/week4_lab/lab_wk4_8_0.png"
      },
      "needs_background": "light"
     },
     "output_type": "display_data"
    }
   ],
   "source": [
    "# create the figure with one row and two columns of plots, and\n",
    "# also specify the two subplots to share the same y-axis.\n",
    "fig, ax = plt.subplots(1, 2, figsize=(10, 4), sharey=True)\n",
    "\n",
    "# use slicing to assign what to plot where\n",
    "ax[0].plot(pres, height)\n",
    "ax[1].plot(dens, height, color=\"red\")\n",
    "fig.suptitle(\"Pressure and Density Variation with Altitude\", fontsize=16)  # title for the whole figure\n",
    "ax[0].set_xlabel(\"Pressure (Pa)\")\n",
    "ax[0].set_ylabel(\"Height (m)\")  # because sharey=True, we only need this once\n",
    "ax[1].set_xlabel(\"Density (kg/m3)\");"
   ]
  },
  {
   "cell_type": "markdown",
   "id": "f06ff973",
   "metadata": {},
   "source": [
    "Do we check all the boxes?\n",
    "\n",
    "<div class=\"alert alert-block alert-info\">\n",
    "<b>Scientific Figure Checklist:</b> \n",
    "\n",
    "- [ ] Title (Short and sweet is best)\n",
    "- [ ] Axes labels with units (Don't forget the units!)\n",
    "- [ ] Legend (Or anything that helps interpret the information presented)\n",
    "- [ ] Does the figure *make sense* just by looking at it? The data should be clear without referencing anything outside the figure\n",
    "- [ ] Does it *look good*? (Do the colors clash? does it look crowded/messy?)\n",
    "</div>\n",
    "___"
   ]
  },
  {
   "cell_type": "markdown",
   "id": "bff86ba2",
   "metadata": {},
   "source": [
    "## Part 2: Clausius-Clapeyron Equation and the Atmospheric Equation of State\n",
    "\n",
    "Over large spatial scales in the atmosphere (and ocean) we can attempt to predict the winds (or currents) by looking at spatial changes in the DENSITY. In air the density is a function of pressure, temperature, and the amount of water\n",
    "vapour present - i.e.  the THERMODYNAMIC STATE*. Moist air is less dense than dry air, because H$_2$O gas is lighter than either N$_2$ or O$_2$ gas (which makes up most of the atmosphere). We often hear water vapour measurements given as a RELATIVE HUMIDITY (RH) which is the the ratio of the vapor pressure relative to the SATURATION LEVEL for a particular temperature.  The saturation level is the maximum amount of water vapour that air can hold in equilibrium (say, inside a closed bottle containing air and water, which you let sit for a long time).  A RH of 100% means it is foggy (saturated) and 0% means you are coughing and generating sparks every time you walk across a carpet! How do we get from RH to density?\n",
    "\n",
    "First, define the following quantities:\n",
    "\n",
    "\n",
    "| Symbol  | Variable      | SI Units   |\n",
    "|:--------|:--------------|:------------|\n",
    "| $\\rho$  | Density       | $kg/m^3$ |\n",
    "| $P$     | Pressure      | $Pa$ |\n",
    "| $T$     | Temperature   | $K$ |\n",
    "| $RH$    | Relative Humidity | $\\%$ |\n",
    "| $r$     | Mixing Ratio  | $\\frac{kg \\space water \\space vapor}{kg \\space dry \\space air}$ |\n",
    "| $e$     | Vapor Pressure | $Pa$ |\n",
    "| $e_s$   | Saturation Vapor Pressure | $Pa$ |\n",
    "\n",
    "Now,  it  would  be  nice  to  have  (say)  a  single,  perhaps  complicated, equation of state for density (as oceanographers do), but in fact atmospheric scientists define things using a chain of temporary variables†. It all begins with the *Clausius-Clapeyron* equation which relates the temperature and the saturation vapour pressure:\n",
    "\n",
    "$$\n",
    "e_s = e_0\\cdot exp \\left[ \\frac{L}{R_v}\\left(\\frac{1}{T_0}-\\frac{1}{T}\\right)\\right]\\tag{1}\n",
    "$$\n",
    "\n",
    "where $e_0 = 611Pa$, $L= 2.5\\cdot10^6J/kg$ is the latent heat of evaporation, $T_0= 273K$ is a constant (NOT $273.15K$), and $R_v= 461J/K/kg$ (Joules per kelvin per kilogram) is the gas constant for pure water vapour. Next we have\n",
    "\n",
    "$$\n",
    "e = e_s\\frac{RH}{100}\\tag{2}\n",
    "$$\n",
    "\n",
    "and then \n",
    "\n",
    "$$\n",
    "r = \\frac{\\varepsilon e}{P - e}\\tag{3}\n",
    "$$\n",
    "\n",
    "where $\\varepsilon= 0.622\\frac{kg_{vapour}}{kg_{dry\\space air}} \\space = \\frac{R_d}{R_v}$, and finally\n",
    "\n",
    "$$\n",
    "\\rho = \\frac{P}{R_dT(1 + 0.61r)}\\tag{4}\n",
    "$$\n",
    "\n",
    "where $R_d = 287J/K/kg$ is  the  ideal  gas  constant  for  dry  air.‡  \n",
    "\n",
    "To  check  units,  remember  that  $1\\space Pa  =1\\space kg/m/s^2$, and $1\\space J=1\\space kg m^2/s^2$.\n",
    "\n",
    "---\n",
    "\n",
    "\\* For oceanographers, density is a function of pressure, temperature, and salinity, and for geologists the density of (say) molten rock will depend on pressure, temperature, and its chemical composition. For this lab you just have to know that there *are* equations to figure out!\n",
    "\n",
    "† See [Meteorology Today for Scientists and Engineers, R. Stull](https://www.eoas.ubc.ca/books/Practical_Meteorology/mse3.html)\n",
    "\n",
    "‡ You may recognize some similarity between this last equation and the IDEAL GAS LAW $P V=nRT$ which is no coincidence - in fact the $0.61r$ is a correction for the non-ideal nature of moist air.\n",
    "___"
   ]
  },
  {
   "cell_type": "markdown",
   "id": "a1b91e69",
   "metadata": {},
   "source": [
    "### Your Task: Implementing the Clausius-Clapeyron Equation in Python\n",
    "\n",
    "Write a code cell which defines variables for all the constants used (i.e. $L$, $R_v$, $T_0$, $e_0$) and then find $e_s$ for a single $T$. Be sure to invent good names for all of these symbols and include their units in the comments, e. g. `Lvap = 2.5e6  # J/kg`. Run the cell to find $e_s$ at a temperature of $T= 25^oC$.  Compare this number against a CHECK VALUE 3264.078 Pa. Be careful about operator precedence and make sure you get the correct answer!\n",
    "\n",
    "**Study question** -- how would you determine the correct number of significant digits to keep in your answer?"
   ]
  },
  {
   "cell_type": "code",
   "execution_count": 5,
   "id": "3d3f0c86",
   "metadata": {
    "nbgrader": {
     "grade": false,
     "grade_id": "cell-f1b8b07be018c013",
     "locked": false,
     "schema_version": 3,
     "solution": true,
     "task": false
    }
   },
   "outputs": [
    {
     "name": "stdout",
     "output_type": "stream",
     "text": [
      "3264.0782439825894\n"
     ]
    }
   ],
   "source": [
    "# your code here  -- make sure  your result has the four letter name --esat-- (case sensitive)\n",
    "# also remember to remove the raise NotImplementedError() line when you implement your answer here\n",
    "\n",
    "### BEGIN SOLUTION\n",
    "# andrew's soln\n",
    "\n",
    "# input\n",
    "Tc = 25  # deg C\n",
    "\n",
    "# internal definitions\n",
    "Tk = Tc + 273.15  # K\n",
    "e0 = 611  # Pa \n",
    "Lvap = 2.5e6  # J/kg\n",
    "T0 = 273  # K\n",
    "Rv = 461  # J/kg/K\n",
    "\n",
    "# calculations\n",
    "esat = e0 * np.exp((Lvap / Rv) * (1 / T0 - 1 / Tk))  # eqn 1\n",
    "\n",
    "# outputs\n",
    "print(esat)\n",
    "### END SOLUTION"
   ]
  },
  {
   "cell_type": "markdown",
   "id": "732938bb",
   "metadata": {},
   "source": [
    "The cell below shows how we test your answer"
   ]
  },
  {
   "cell_type": "code",
   "execution_count": 6,
   "id": "3807a652",
   "metadata": {
    "nbgrader": {
     "grade": true,
     "grade_id": "cell-b32bec3e32535415",
     "locked": true,
     "points": 0,
     "schema_version": 3,
     "solution": false,
     "task": false
    }
   },
   "outputs": [],
   "source": [
    "testing.assert_almost_equal(esat,3264.078,decimal=3)"
   ]
  },
  {
   "cell_type": "markdown",
   "id": "743301a9",
   "metadata": {},
   "source": [
    "Now add a cell to calculate the air density at  𝑇=25𝑜𝐶,𝑅𝐻=50% , at surface pressure ( 𝑃=102000𝑃𝑎 ). The answer should be (to 7 decimal places) 1.1847106 kg/m 3  (or 1.184704 if  𝜀≡𝑅𝑑/𝑅𝑣 ). Note that increasing the humidity (i.e. adding more water vapour) decreases the density since H 2 O is displacing heavier N 2  and O 2  molecules.\n",
    "\n",
    "**Again, how many significant digits would you trust in this answer?**"
   ]
  },
  {
   "cell_type": "code",
   "execution_count": 7,
   "id": "7cb16f6f",
   "metadata": {
    "nbgrader": {
     "grade": false,
     "grade_id": "cell-65b44ba43054e96e",
     "locked": false,
     "schema_version": 3,
     "solution": true,
     "task": false
    }
   },
   "outputs": [
    {
     "name": "stdout",
     "output_type": "stream",
     "text": [
      "1.1847106098829943\n"
     ]
    }
   ],
   "source": [
    "# remove the exception and type your answer here \n",
    "# -- name your output variable rho\n",
    "\n",
    "### BEGIN SOLUTION\n",
    "# andrew's soln\n",
    "\n",
    "# input\n",
    "RH = 50  # %\n",
    "pres = 102000  # Pa\n",
    "\n",
    "# internal definitions (this cell knows about the variables defined in the cell above,\n",
    "# so just add the new ones as needed)\n",
    "epsilon = 0.622  # vap/air by mass\n",
    "Rd = 287  # J/kg/K\n",
    "\n",
    "# calculations\n",
    "e_x = esat * RH / 100  # eqn 2\n",
    "mixrat = epsilon * e_x / (pres - e_x)  # eqn 3\n",
    "rho = pres / (Rd * Tk * (1 + 0.61 * mixrat))\n",
    "\n",
    "# output\n",
    "print(rho)\n",
    "### END SOLUTION"
   ]
  },
  {
   "cell_type": "code",
   "execution_count": 8,
   "id": "928e9dca",
   "metadata": {
    "nbgrader": {
     "grade": true,
     "grade_id": "cell-818867e3c135f448",
     "locked": true,
     "points": 1,
     "schema_version": 3,
     "solution": false,
     "task": false
    }
   },
   "outputs": [],
   "source": [
    "testing.assert_almost_equal(rho,1.1847,decimal=4)"
   ]
  },
  {
   "cell_type": "markdown",
   "id": "527b975e",
   "metadata": {},
   "source": [
    "Calculate and plot the saturation vapour pressure $e_s$ for temperatures ranging from -40$^o$C to 30$^o$C at surface pressure and RH of 50%. Be sure to stick to the format of *input, definitions, calulations, output*.  Name your \n",
    "output variable esat"
   ]
  },
  {
   "cell_type": "code",
   "execution_count": 9,
   "id": "cf3106a5",
   "metadata": {
    "nbgrader": {
     "grade": true,
     "grade_id": "cell-27da51ca0fab5457",
     "locked": false,
     "points": 1,
     "schema_version": 3,
     "solution": true,
     "task": false
    }
   },
   "outputs": [
    {
     "data": {
      "text/plain": [
       "array([  20.48854285,   22.62832619,   24.97047837,   27.53208041,\n",
       "         30.33147386,   33.3883396 ,   36.72378062,   40.36040886,\n",
       "         44.32243633,   48.63577055,   53.32811462,   58.42907186,\n",
       "         63.97025537,   69.98540253,   76.51049464,   83.58388189,\n",
       "         91.24641376,   99.54157505,  108.51562768,  118.21775841,\n",
       "        128.70023275,  140.01855499,  152.23163482,  165.40196042,\n",
       "        179.59577841,  194.88328068,  211.33879831,  229.04100282,\n",
       "        248.07311475,  268.52311997,  290.48399362,  314.05393209,\n",
       "        339.33659306,  366.44134376,  395.48351774,  426.58468019,\n",
       "        459.87290197,  495.48304264,  533.55704249,  574.24422384,\n",
       "        617.7016017 ,  664.094204  ,  713.59540146,  766.38724736,\n",
       "        822.66082726,  882.61661883,  946.46486203, 1014.42593963,\n",
       "       1086.7307683 , 1163.62120041, 1245.35043657, 1332.18344922,\n",
       "       1424.39741717, 1522.28217141, 1626.14065214, 1736.28937726,\n",
       "       1853.05892238, 1976.79441241, 2107.85602491, 2246.61950527,\n",
       "       2393.47669371, 2548.83606438, 2713.1232765 , 2886.78173759,\n",
       "       3070.27317907, 3264.07824398, 3468.69708719, 3684.64998796,\n",
       "       3912.477975  , 4152.74346402, 4406.03090782])"
      ]
     },
     "execution_count": 9,
     "metadata": {},
     "output_type": "execute_result"
    }
   ],
   "source": [
    "# your code\n",
    "\n",
    "### BEGIN SOLUTION\n",
    "\n",
    "# andrew's soln\n",
    "\n",
    "# input\n",
    "Tc = np.arange(-40, 31)\n",
    "\n",
    "# definitions\n",
    "Tk = Tc + 273.15  # K\n",
    "\n",
    "# calculations\n",
    "esat = e0 * np.exp((Lvap / Rv) * (1 / T0 - 1 / Tk))  # eqn 1\n",
    "\n",
    "# output \n",
    "esat\n",
    "### END SOLUTION"
   ]
  },
  {
   "cell_type": "markdown",
   "id": "6f3e9840",
   "metadata": {},
   "source": [
    "Next, calculate and plot the mixing ratio $r$ as a function of temperature for $RH= 100\\%$ and $P= 90000Pa$ \n",
    "(about 1 km above the surface)."
   ]
  },
  {
   "cell_type": "code",
   "execution_count": 10,
   "id": "0810cc1e",
   "metadata": {
    "nbgrader": {
     "grade": true,
     "grade_id": "cell-8e78d581cfbe5b17",
     "locked": false,
     "points": 1,
     "schema_version": 3,
     "solution": true,
     "task": false
    }
   },
   "outputs": [
    {
     "data": {
      "text/plain": [
       "array([0.00014163, 0.00015643, 0.00017262, 0.00019034, 0.00020969,\n",
       "       0.00023084, 0.00025391, 0.00027906, 0.00030647, 0.00033631,\n",
       "       0.00036878, 0.00040407, 0.00044242, 0.00048405, 0.00052922,\n",
       "       0.00057819, 0.00063125, 0.0006887 , 0.00075087, 0.00081809,\n",
       "       0.00089074, 0.00096919, 0.00105387, 0.00114522, 0.00124369,\n",
       "       0.00134978, 0.00146402, 0.00158697, 0.0017192 , 0.00186135,\n",
       "       0.00201407, 0.00217806, 0.00235407, 0.00254287, 0.00274529,\n",
       "       0.00296221, 0.00319456, 0.00344329, 0.00370946, 0.00399415,\n",
       "       0.00429851, 0.00462375, 0.00497115, 0.00534208, 0.00573795,\n",
       "       0.00616027, 0.00661064, 0.00709073, 0.00760231, 0.00814725,\n",
       "       0.00872752, 0.0093452 , 0.01000247, 0.01070167, 0.01144523,\n",
       "       0.01223574, 0.01307592, 0.01396866, 0.01491699, 0.01592414,\n",
       "       0.01699351, 0.0181287 , 0.01933352, 0.02061201, 0.02196843,\n",
       "       0.02340733, 0.02493352, 0.02655208, 0.02826846, 0.0300884 ,\n",
       "       0.03201804])"
      ]
     },
     "execution_count": 10,
     "metadata": {},
     "output_type": "execute_result"
    }
   ],
   "source": [
    "# your code here\n",
    "\n",
    "### BEGIN SOLUTION\n",
    "# andrew's soln\n",
    "\n",
    "# input\n",
    "RH = 100  # %\n",
    "pres = 90000  # Pa\n",
    "\n",
    "# calculations\n",
    "e_x = esat * RH / 100  # eqn 2\n",
    "mixrat = epsilon * e_x / (pres - e_x)  # eqn 3\n",
    "\n",
    "# output\n",
    "mixrat\n",
    "### END SOLUTION"
   ]
  },
  {
   "cell_type": "markdown",
   "id": "822f3e33",
   "metadata": {},
   "source": [
    "Now, use the `plt.subplots` function to generate a scientific figure as follows:\n",
    "\n",
    "* Two plots, the top one showing saturation vapour pressure and the bottom showing mixing ratio as functions of temperature (for $RH= 100\\%$ and $P= 90000Pa$).\n",
    "\n",
    "* \"Temperature\" on the x axis, in units of $^o$C, only labelled once for the whole figure\n",
    "\n",
    "* Make sure that your figure checks all the boxes for creating a scientific figure"
   ]
  },
  {
   "cell_type": "code",
   "execution_count": 11,
   "id": "821655cc",
   "metadata": {
    "nbgrader": {
     "grade": true,
     "grade_id": "cell-42bbc21bdb10e72b",
     "locked": false,
     "points": 1,
     "schema_version": 3,
     "solution": true,
     "task": false
    }
   },
   "outputs": [
    {
     "data": {
      "image/png": "[encoded data removed]",
      "text/plain": [
       "<Figure size 720x360 with 2 Axes>"
      ]
     },
     "metadata": {
      "filenames": {
       "image/png": "/home/phil/repos/eosc211/_build/jupyter_execute/lab_keys/week4_lab/lab_wk4_23_0.png"
      },
      "needs_background": "light"
     },
     "output_type": "display_data"
    }
   ],
   "source": [
    "# your code\n",
    "\n",
    "### BEGIN SOLUTION\n",
    "# andrew's soln\n",
    "fig, ax = plt.subplots(2, figsize=(10, 5), sharex=True)\n",
    "fig.suptitle(\"Saturation Vapour Pressure and Mixing Ratio as Functions of Temperature\", fontsize=16)\n",
    "ax[0].plot(Tc, esat)\n",
    "ax[0].set_ylabel(\"Saturation Vapour Pressure (Pa)\")\n",
    "\n",
    "ax[1].plot(Tc, mixrat, color=\"lightgreen\")\n",
    "ax[1].set_xlabel(\"Temp ($^o$C)\")\n",
    "ax[1].set_ylabel(\"Mixing Ratio (kg/kg)\");\n",
    "### END SOLUTION"
   ]
  }
 ],
 "metadata": {
  "celltoolbar": "Create Assignment",
  "jupytext": {
   "cell_metadata_filter": "all",
   "formats": "ipynb,md:myst",
   "notebook_metadata_filter": "all,-language_info,-toc,-latex_envs",
   "text_representation": {
    "extension": ".md",
    "format_name": "myst",
    "format_version": 0.13,
    "jupytext_version": "1.10.3"
   }
  },
  "kernelspec": {
   "display_name": "Python 3 (ipykernel)",
   "language": "python",
   "name": "python3"
  },
  "language_info": {
   "codemirror_mode": {
    "name": "ipython",
    "version": 3
   },
   "file_extension": ".py",
   "mimetype": "text/x-python",
   "name": "python",
   "nbconvert_exporter": "python",
   "pygments_lexer": "ipython3",
   "version": "3.8.12"
  },
  "source_map": [
   16,
   32,
   36,
   40,
   90,
   110,
   120,
   134,
   141,
   153,
   168,
   225,
   233,
   265,
   269,
   281,
   287,
   322,
   334,
   339,
   368,
   373,
   400,
   410
  ]
 },
 "nbformat": 4,
 "nbformat_minor": 5
}