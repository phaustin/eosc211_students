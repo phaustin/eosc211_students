{
 "cells": [
  {
   "cell_type": "markdown",
   "id": "9c3c02db",
   "metadata": {},
   "source": [
    "# Dictionaries, F String Literals\n",
    "\n",
    "## EOSC 211\n",
    "\n",
    "**Week 10 Day 1**\n",
    "\n",
    "**Learning Objectives:**  \n",
    "1. ?"
   ]
  },
  {
   "cell_type": "code",
   "execution_count": null,
   "id": "04dccc30",
   "metadata": {},
   "outputs": [],
   "source": [
    "# placeholder results (not the actual survey)\n",
    "transport = {\n",
    "    \"car\": [14, 2, 3, 4, 2, 15, 30],\n",
    "    \"bus\": [34, 40, 18, 14, 3, 1],\n",
    "    \"bike\": [21, 3, 4, 3, 4],\n",
    "    \"walk\": [14, 30, 40, 1, 2],\n",
    "}"
   ]
  },
  {
   "cell_type": "markdown",
   "id": "1510a503",
   "metadata": {},
   "source": [
    "## Question 1\n",
    "\n",
    "**`transport` is a dictionary containing the results from the poll in week 2. Write code to compute the following, and print your results using *f string literals*** \n",
    "\n",
    "**(you can import any packages you like. Keep your code succinct and well commented)**\n",
    "\n",
    "**A) The median commuting time for people who drive**"
   ]
  },
  {
   "cell_type": "code",
   "execution_count": null,
   "id": "1e93b84b",
   "metadata": {},
   "outputs": [],
   "source": [
    "# your code here"
   ]
  },
  {
   "cell_type": "code",
   "execution_count": null,
   "id": "8e98b4a8",
   "metadata": {},
   "outputs": [],
   "source": [
    "# andrew's soln\n",
    "import numpy as np\n",
    "\n",
    "drivemed = np.median(transport[\"car\"])\n",
    "print(f\"The median commute time for people who drive is {drivemed} minutes\")"
   ]
  },
  {
   "cell_type": "markdown",
   "id": "ca2774bf",
   "metadata": {},
   "source": [
    "**B) The number of people who ride bikes to UBC**"
   ]
  },
  {
   "cell_type": "code",
   "execution_count": null,
   "id": "b55b722f",
   "metadata": {},
   "outputs": [],
   "source": [
    "# your code here"
   ]
  },
  {
   "cell_type": "code",
   "execution_count": null,
   "id": "faac02c7",
   "metadata": {},
   "outputs": [],
   "source": [
    "# andrew's soln\n",
    "cyclists = len(transport[\"bike\"])\n",
    "\n",
    "print(f\"There are {cyclists} cyclists in EOSC211 this semester.\")"
   ]
  },
  {
   "cell_type": "markdown",
   "id": "ab661a39",
   "metadata": {},
   "source": [
    "## Question 2\n",
    "\n",
    "!!!! no direct translation from matlab. formatted print statements are way less complicated in python."
   ]
  }
 ],
 "metadata": {
  "jupytext": {
   "formats": "ipynb,md:myst"
  },
  "kernelspec": {
   "display_name": "Python 3 (ipykernel)",
   "language": "python",
   "name": "python3"
  }
 },
 "nbformat": 4,
 "nbformat_minor": 5
}
